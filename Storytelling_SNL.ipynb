{
  "nbformat": 4,
  "nbformat_minor": 0,
  "metadata": {
    "kernelspec": {
      "display_name": "Python 3",
      "language": "python",
      "name": "python3"
    },
    "language_info": {
      "codemirror_mode": {
        "name": "ipython",
        "version": 3
      },
      "file_extension": ".py",
      "mimetype": "text/x-python",
      "name": "python",
      "nbconvert_exporter": "python",
      "pygments_lexer": "ipython3",
      "version": "3.8.5"
    },
    "colab": {
      "name": "Storytelling_SNL.ipynb",
      "provenance": [],
      "collapsed_sections": [
        "j2UntH2pEQ1j",
        "z_fl1qm0EUaf",
        "XjtkozA8EY6J",
        "hIWdpoNxEbg0",
        "ufZNdQXoE9QI",
        "9Wgp9MUtFgY-",
        "kf0Ioy4gFiIK",
        "8YcGcuorFkpr",
        "oRrwsBYyForS",
        "lZ9JEA2AGLso",
        "Jyn2sstdAoUg",
        "6JdAjW0dOltN",
        "ZNCMuiLqHpgX",
        "UgcFGZQTHpZA",
        "E5e94WX8AoUi",
        "G033wBy2AoUj",
        "2qBoTQ_YLSUl"
      ],
      "include_colab_link": true
    }
  },
  "cells": [
    {
      "cell_type": "markdown",
      "metadata": {
        "id": "view-in-github",
        "colab_type": "text"
      },
      "source": [
        "<a href=\"https://colab.research.google.com/github/sangeetajay/Springboard/blob/master/Storytelling_SNL.ipynb\" target=\"_parent\"><img src=\"https://colab.research.google.com/assets/colab-badge.svg\" alt=\"Open In Colab\"/></a>"
      ]
    },
    {
      "cell_type": "markdown",
      "metadata": {
        "id": "C12VUzYkAoUS"
      },
      "source": [
        "# Storytelling: Saturday Night Live\n",
        "### 46 Years of Data"
      ]
    },
    {
      "cell_type": "markdown",
      "metadata": {
        "id": "jWRr39yGAoUT"
      },
      "source": [
        "#### Questions to answer with this notebook:\n",
        "1. How has the role of female cast members changed over the yeas?\n",
        "2. Do cast members who can do more impressions stay on the show longer?"
      ]
    },
    {
      "cell_type": "markdown",
      "metadata": {
        "id": "j2UntH2pEQ1j"
      },
      "source": [
        "## Imports"
      ]
    },
    {
      "cell_type": "code",
      "metadata": {
        "id": "AktcyCuNAoUT"
      },
      "source": [
        "import pandas as pd\n",
        "import numpy as np\n",
        "import matplotlib.pyplot as plt\n",
        "import os\n",
        "import seaborn as sns\n"
      ],
      "execution_count": null,
      "outputs": []
    },
    {
      "cell_type": "code",
      "metadata": {
        "colab": {
          "base_uri": "https://localhost:8080/"
        },
        "id": "PZPqcfNOAsEy",
        "outputId": "e5b93465-f25b-4355-9a01-e006ca38e42b"
      },
      "source": [
        "from google.colab import drive\n",
        "drive.mount('/content/drive')"
      ],
      "execution_count": null,
      "outputs": [
        {
          "output_type": "stream",
          "name": "stdout",
          "text": [
            "Drive already mounted at /content/drive; to attempt to forcibly remount, call drive.mount(\"/content/drive\", force_remount=True).\n"
          ]
        }
      ]
    },
    {
      "cell_type": "code",
      "metadata": {
        "colab": {
          "base_uri": "https://localhost:8080/"
        },
        "id": "AvLCvHm5Cit-",
        "outputId": "4b5a5c1c-990f-4fac-83cb-0e4c5fe8bfe0"
      },
      "source": [
        "print (sns.__version__)"
      ],
      "execution_count": null,
      "outputs": [
        {
          "output_type": "stream",
          "name": "stdout",
          "text": [
            "0.11.1\n"
          ]
        }
      ]
    },
    {
      "cell_type": "code",
      "metadata": {
        "id": "yvxnhSlPDExx"
      },
      "source": [
        "# setting palette to Seaborn's 'turbo'\n",
        "palette = [(0.27698, 0.46153, 0.93309), (0.10738, 0.81381, 0.83484), (0.38127, 0.98909, 0.42386), (0.82333, 0.91253, 0.20663), (0.99672, 0.60977, 0.17842), (0.8538, 0.2217, 0.02677)]"
      ],
      "execution_count": null,
      "outputs": []
    },
    {
      "cell_type": "code",
      "metadata": {
        "colab": {
          "base_uri": "https://localhost:8080/"
        },
        "id": "c5sERxDODG8t",
        "outputId": "5521fa62-1f6e-4f3b-a46c-c02ca9e022a2"
      },
      "source": [
        "palette"
      ],
      "execution_count": null,
      "outputs": [
        {
          "output_type": "execute_result",
          "data": {
            "text/plain": [
              "[(0.27698, 0.46153, 0.93309),\n",
              " (0.10738, 0.81381, 0.83484),\n",
              " (0.38127, 0.98909, 0.42386),\n",
              " (0.82333, 0.91253, 0.20663),\n",
              " (0.99672, 0.60977, 0.17842),\n",
              " (0.8538, 0.2217, 0.02677)]"
            ]
          },
          "metadata": {},
          "execution_count": 5
        }
      ]
    },
    {
      "cell_type": "code",
      "metadata": {
        "id": "-KrXO9UwBlZx"
      },
      "source": [
        "#sns.palplot(sns.mpl_palette(\"turbo\"))\n",
        "sns.set_palette(palette)"
      ],
      "execution_count": null,
      "outputs": []
    },
    {
      "cell_type": "code",
      "metadata": {
        "scrolled": true,
        "id": "Dk93jdDHAoUW"
      },
      "source": [
        "# current path\n",
        "cwd = '/content/drive/MyDrive/SNL'\n"
      ],
      "execution_count": null,
      "outputs": []
    },
    {
      "cell_type": "code",
      "metadata": {
        "id": "N_WqeKn3AoUX"
      },
      "source": [
        "# lets open the csv files in alphabetical order to decide which ones we will use for this project:"
      ],
      "execution_count": null,
      "outputs": []
    },
    {
      "cell_type": "code",
      "metadata": {
        "id": "YRIwlZioP6-N"
      },
      "source": [
        ""
      ],
      "execution_count": null,
      "outputs": []
    },
    {
      "cell_type": "markdown",
      "metadata": {
        "id": "z_fl1qm0EUaf"
      },
      "source": [
        "## Open each csv and inspect"
      ]
    },
    {
      "cell_type": "markdown",
      "metadata": {
        "id": "XjtkozA8EY6J"
      },
      "source": [
        "### actors"
      ]
    },
    {
      "cell_type": "code",
      "metadata": {
        "scrolled": false,
        "colab": {
          "base_uri": "https://localhost:8080/"
        },
        "id": "goqMp8tLAoUX",
        "outputId": "3a1cce69-5db6-4523-b21f-06528d847813"
      },
      "source": [
        "#########\n",
        "# actors\n",
        "\n",
        "act = 'actors.csv'\n",
        "actors = pd.read_csv(cwd+'/'+act)\n",
        "actors.head(13)\n",
        "# aid actor id\n",
        "# plus type of cast, guest, crew, \n",
        "# gender, male female or unknown\n",
        "# I can see this being a very useful df. the URL column can probably be dropped"
      ],
      "execution_count": null,
      "outputs": [
        {
          "output_type": "execute_result",
          "data": {
            "text/html": [
              "<div>\n",
              "<style scoped>\n",
              "    .dataframe tbody tr th:only-of-type {\n",
              "        vertical-align: middle;\n",
              "    }\n",
              "\n",
              "    .dataframe tbody tr th {\n",
              "        vertical-align: top;\n",
              "    }\n",
              "\n",
              "    .dataframe thead th {\n",
              "        text-align: right;\n",
              "    }\n",
              "</style>\n",
              "<table border=\"1\" class=\"dataframe\">\n",
              "  <thead>\n",
              "    <tr style=\"text-align: right;\">\n",
              "      <th></th>\n",
              "      <th>aid</th>\n",
              "      <th>url</th>\n",
              "      <th>type</th>\n",
              "      <th>gender</th>\n",
              "    </tr>\n",
              "  </thead>\n",
              "  <tbody>\n",
              "    <tr>\n",
              "      <th>0</th>\n",
              "      <td>Kate McKinnon</td>\n",
              "      <td>/Cast/?KaMc</td>\n",
              "      <td>cast</td>\n",
              "      <td>female</td>\n",
              "    </tr>\n",
              "    <tr>\n",
              "      <th>1</th>\n",
              "      <td>Alex Moffat</td>\n",
              "      <td>/Cast/?AlMo</td>\n",
              "      <td>cast</td>\n",
              "      <td>male</td>\n",
              "    </tr>\n",
              "    <tr>\n",
              "      <th>2</th>\n",
              "      <td>Ego Nwodim</td>\n",
              "      <td>/Cast/?EgNw</td>\n",
              "      <td>cast</td>\n",
              "      <td>unknown</td>\n",
              "    </tr>\n",
              "    <tr>\n",
              "      <th>3</th>\n",
              "      <td>Chris Redd</td>\n",
              "      <td>/Cast/?ChRe</td>\n",
              "      <td>cast</td>\n",
              "      <td>male</td>\n",
              "    </tr>\n",
              "    <tr>\n",
              "      <th>4</th>\n",
              "      <td>Kenan Thompson</td>\n",
              "      <td>/Cast/?KeTh</td>\n",
              "      <td>cast</td>\n",
              "      <td>male</td>\n",
              "    </tr>\n",
              "    <tr>\n",
              "      <th>5</th>\n",
              "      <td>Carey Mulligan</td>\n",
              "      <td>/Guests/?3677</td>\n",
              "      <td>guest</td>\n",
              "      <td>andy</td>\n",
              "    </tr>\n",
              "    <tr>\n",
              "      <th>6</th>\n",
              "      <td>Marcus Mumford</td>\n",
              "      <td>/Guests/?3679</td>\n",
              "      <td>guest</td>\n",
              "      <td>male</td>\n",
              "    </tr>\n",
              "    <tr>\n",
              "      <th>7</th>\n",
              "      <td>Aidy Bryant</td>\n",
              "      <td>/Cast/?AiBr</td>\n",
              "      <td>cast</td>\n",
              "      <td>female</td>\n",
              "    </tr>\n",
              "    <tr>\n",
              "      <th>8</th>\n",
              "      <td>Steve Higgins</td>\n",
              "      <td>/Crew/?StHi</td>\n",
              "      <td>crew</td>\n",
              "      <td>male</td>\n",
              "    </tr>\n",
              "    <tr>\n",
              "      <th>9</th>\n",
              "      <td>Mikey Day</td>\n",
              "      <td>/Cast/?MiDa</td>\n",
              "      <td>cast</td>\n",
              "      <td>male</td>\n",
              "    </tr>\n",
              "    <tr>\n",
              "      <th>10</th>\n",
              "      <td>Heidi Gardner</td>\n",
              "      <td>/Cast/?HeGa</td>\n",
              "      <td>cast</td>\n",
              "      <td>female</td>\n",
              "    </tr>\n",
              "    <tr>\n",
              "      <th>11</th>\n",
              "      <td>Lauren Holt</td>\n",
              "      <td>/Cast/?LaHo</td>\n",
              "      <td>cast</td>\n",
              "      <td>female</td>\n",
              "    </tr>\n",
              "    <tr>\n",
              "      <th>12</th>\n",
              "      <td>Kid Cudi</td>\n",
              "      <td>/Guests/?3678</td>\n",
              "      <td>guest</td>\n",
              "      <td>unknown</td>\n",
              "    </tr>\n",
              "  </tbody>\n",
              "</table>\n",
              "</div>"
            ],
            "text/plain": [
              "               aid            url   type   gender\n",
              "0    Kate McKinnon    /Cast/?KaMc   cast   female\n",
              "1      Alex Moffat    /Cast/?AlMo   cast     male\n",
              "2       Ego Nwodim    /Cast/?EgNw   cast  unknown\n",
              "3       Chris Redd    /Cast/?ChRe   cast     male\n",
              "4   Kenan Thompson    /Cast/?KeTh   cast     male\n",
              "5   Carey Mulligan  /Guests/?3677  guest     andy\n",
              "6   Marcus Mumford  /Guests/?3679  guest     male\n",
              "7      Aidy Bryant    /Cast/?AiBr   cast   female\n",
              "8    Steve Higgins    /Crew/?StHi   crew     male\n",
              "9        Mikey Day    /Cast/?MiDa   cast     male\n",
              "10   Heidi Gardner    /Cast/?HeGa   cast   female\n",
              "11     Lauren Holt    /Cast/?LaHo   cast   female\n",
              "12        Kid Cudi  /Guests/?3678  guest  unknown"
            ]
          },
          "metadata": {},
          "execution_count": 9
        }
      ]
    },
    {
      "cell_type": "markdown",
      "metadata": {
        "id": "hIWdpoNxEbg0"
      },
      "source": [
        "### appearances"
      ]
    },
    {
      "cell_type": "code",
      "metadata": {
        "colab": {
          "base_uri": "https://localhost:8080/"
        },
        "id": "EQ-UNjhMAoUY",
        "outputId": "8670045f-6293-44aa-e8ed-a3e373408209"
      },
      "source": [
        "########\n",
        "# appearances\n",
        "\n",
        "app = 'appearances.csv'\n",
        "apps = pd.read_csv(cwd+'/'+app)\n",
        "apps.head(13)\n",
        "# this one also looks very comprehensive\n",
        "# aid, #tid is episode name, capacity says if cast, host, cameo \n",
        "# plus charid, impid, epid, sid. \n",
        "# using the gender in the actors df could be useful "
      ],
      "execution_count": null,
      "outputs": [
        {
          "output_type": "execute_result",
          "data": {
            "text/html": [
              "<div>\n",
              "<style scoped>\n",
              "    .dataframe tbody tr th:only-of-type {\n",
              "        vertical-align: middle;\n",
              "    }\n",
              "\n",
              "    .dataframe tbody tr th {\n",
              "        vertical-align: top;\n",
              "    }\n",
              "\n",
              "    .dataframe thead th {\n",
              "        text-align: right;\n",
              "    }\n",
              "</style>\n",
              "<table border=\"1\" class=\"dataframe\">\n",
              "  <thead>\n",
              "    <tr style=\"text-align: right;\">\n",
              "      <th></th>\n",
              "      <th>aid</th>\n",
              "      <th>tid</th>\n",
              "      <th>capacity</th>\n",
              "      <th>role</th>\n",
              "      <th>charid</th>\n",
              "      <th>impid</th>\n",
              "      <th>voice</th>\n",
              "      <th>epid</th>\n",
              "      <th>sid</th>\n",
              "    </tr>\n",
              "  </thead>\n",
              "  <tbody>\n",
              "    <tr>\n",
              "      <th>0</th>\n",
              "      <td>Kate McKinnon</td>\n",
              "      <td>202104101</td>\n",
              "      <td>cast</td>\n",
              "      <td>Joanne</td>\n",
              "      <td>NaN</td>\n",
              "      <td>NaN</td>\n",
              "      <td>False</td>\n",
              "      <td>20210410</td>\n",
              "      <td>46</td>\n",
              "    </tr>\n",
              "    <tr>\n",
              "      <th>1</th>\n",
              "      <td>Alex Moffat</td>\n",
              "      <td>202104101</td>\n",
              "      <td>cast</td>\n",
              "      <td>Craig Matthew Yorgensen</td>\n",
              "      <td>NaN</td>\n",
              "      <td>NaN</td>\n",
              "      <td>False</td>\n",
              "      <td>20210410</td>\n",
              "      <td>46</td>\n",
              "    </tr>\n",
              "    <tr>\n",
              "      <th>2</th>\n",
              "      <td>Ego Nwodim</td>\n",
              "      <td>202104101</td>\n",
              "      <td>cast</td>\n",
              "      <td>anchor</td>\n",
              "      <td>NaN</td>\n",
              "      <td>NaN</td>\n",
              "      <td>False</td>\n",
              "      <td>20210410</td>\n",
              "      <td>46</td>\n",
              "    </tr>\n",
              "    <tr>\n",
              "      <th>3</th>\n",
              "      <td>Chris Redd</td>\n",
              "      <td>202104101</td>\n",
              "      <td>cast</td>\n",
              "      <td>Calvin</td>\n",
              "      <td>NaN</td>\n",
              "      <td>NaN</td>\n",
              "      <td>False</td>\n",
              "      <td>20210410</td>\n",
              "      <td>46</td>\n",
              "    </tr>\n",
              "    <tr>\n",
              "      <th>4</th>\n",
              "      <td>Kenan Thompson</td>\n",
              "      <td>202104101</td>\n",
              "      <td>cast</td>\n",
              "      <td>anchor</td>\n",
              "      <td>NaN</td>\n",
              "      <td>NaN</td>\n",
              "      <td>False</td>\n",
              "      <td>20210410</td>\n",
              "      <td>46</td>\n",
              "    </tr>\n",
              "    <tr>\n",
              "      <th>5</th>\n",
              "      <td>Carey Mulligan</td>\n",
              "      <td>202104102</td>\n",
              "      <td>host</td>\n",
              "      <td>NaN</td>\n",
              "      <td>NaN</td>\n",
              "      <td>NaN</td>\n",
              "      <td>False</td>\n",
              "      <td>20210410</td>\n",
              "      <td>46</td>\n",
              "    </tr>\n",
              "    <tr>\n",
              "      <th>6</th>\n",
              "      <td>Marcus Mumford</td>\n",
              "      <td>202104102</td>\n",
              "      <td>cameo</td>\n",
              "      <td>NaN</td>\n",
              "      <td>NaN</td>\n",
              "      <td>NaN</td>\n",
              "      <td>False</td>\n",
              "      <td>20210410</td>\n",
              "      <td>46</td>\n",
              "    </tr>\n",
              "    <tr>\n",
              "      <th>7</th>\n",
              "      <td>Carey Mulligan</td>\n",
              "      <td>202104103</td>\n",
              "      <td>host</td>\n",
              "      <td>Sandra</td>\n",
              "      <td>NaN</td>\n",
              "      <td>NaN</td>\n",
              "      <td>False</td>\n",
              "      <td>20210410</td>\n",
              "      <td>46</td>\n",
              "    </tr>\n",
              "    <tr>\n",
              "      <th>8</th>\n",
              "      <td>Aidy Bryant</td>\n",
              "      <td>202104103</td>\n",
              "      <td>cast</td>\n",
              "      <td>Rebecca</td>\n",
              "      <td>1098.0</td>\n",
              "      <td>NaN</td>\n",
              "      <td>False</td>\n",
              "      <td>20210410</td>\n",
              "      <td>46</td>\n",
              "    </tr>\n",
              "    <tr>\n",
              "      <th>9</th>\n",
              "      <td>Steve Higgins</td>\n",
              "      <td>202104103</td>\n",
              "      <td>cast</td>\n",
              "      <td>announcer</td>\n",
              "      <td>NaN</td>\n",
              "      <td>NaN</td>\n",
              "      <td>True</td>\n",
              "      <td>20210410</td>\n",
              "      <td>46</td>\n",
              "    </tr>\n",
              "    <tr>\n",
              "      <th>10</th>\n",
              "      <td>Chris Redd</td>\n",
              "      <td>202104103</td>\n",
              "      <td>cast</td>\n",
              "      <td>William</td>\n",
              "      <td>NaN</td>\n",
              "      <td>NaN</td>\n",
              "      <td>False</td>\n",
              "      <td>20210410</td>\n",
              "      <td>46</td>\n",
              "    </tr>\n",
              "    <tr>\n",
              "      <th>11</th>\n",
              "      <td>Kenan Thompson</td>\n",
              "      <td>202104103</td>\n",
              "      <td>cast</td>\n",
              "      <td>Elliott Pants</td>\n",
              "      <td>1087.0</td>\n",
              "      <td>NaN</td>\n",
              "      <td>False</td>\n",
              "      <td>20210410</td>\n",
              "      <td>46</td>\n",
              "    </tr>\n",
              "    <tr>\n",
              "      <th>12</th>\n",
              "      <td>Carey Mulligan</td>\n",
              "      <td>202104104</td>\n",
              "      <td>host</td>\n",
              "      <td>mother</td>\n",
              "      <td>NaN</td>\n",
              "      <td>NaN</td>\n",
              "      <td>False</td>\n",
              "      <td>20210410</td>\n",
              "      <td>46</td>\n",
              "    </tr>\n",
              "  </tbody>\n",
              "</table>\n",
              "</div>"
            ],
            "text/plain": [
              "               aid        tid capacity  ...  voice      epid  sid\n",
              "0    Kate McKinnon  202104101     cast  ...  False  20210410   46\n",
              "1      Alex Moffat  202104101     cast  ...  False  20210410   46\n",
              "2       Ego Nwodim  202104101     cast  ...  False  20210410   46\n",
              "3       Chris Redd  202104101     cast  ...  False  20210410   46\n",
              "4   Kenan Thompson  202104101     cast  ...  False  20210410   46\n",
              "5   Carey Mulligan  202104102     host  ...  False  20210410   46\n",
              "6   Marcus Mumford  202104102    cameo  ...  False  20210410   46\n",
              "7   Carey Mulligan  202104103     host  ...  False  20210410   46\n",
              "8      Aidy Bryant  202104103     cast  ...  False  20210410   46\n",
              "9    Steve Higgins  202104103     cast  ...   True  20210410   46\n",
              "10      Chris Redd  202104103     cast  ...  False  20210410   46\n",
              "11  Kenan Thompson  202104103     cast  ...  False  20210410   46\n",
              "12  Carey Mulligan  202104104     host  ...  False  20210410   46\n",
              "\n",
              "[13 rows x 9 columns]"
            ]
          },
          "metadata": {},
          "execution_count": 10
        }
      ]
    },
    {
      "cell_type": "code",
      "metadata": {
        "scrolled": true,
        "colab": {
          "base_uri": "https://localhost:8080/"
        },
        "id": "XRp6vfVvAoUY",
        "outputId": "63c081db-4293-4504-9f32-6fab74a01b8f"
      },
      "source": [
        "# what is the difference between these two df's?\n",
        "actors.info()\n",
        "apps.info()"
      ],
      "execution_count": null,
      "outputs": [
        {
          "output_type": "stream",
          "name": "stdout",
          "text": [
            "<class 'pandas.core.frame.DataFrame'>\n",
            "RangeIndex: 2306 entries, 0 to 2305\n",
            "Data columns (total 4 columns):\n",
            " #   Column  Non-Null Count  Dtype \n",
            "---  ------  --------------  ----- \n",
            " 0   aid     2306 non-null   object\n",
            " 1   url     2249 non-null   object\n",
            " 2   type    2306 non-null   object\n",
            " 3   gender  2306 non-null   object\n",
            "dtypes: object(4)\n",
            "memory usage: 72.2+ KB\n",
            "<class 'pandas.core.frame.DataFrame'>\n",
            "RangeIndex: 55355 entries, 0 to 55354\n",
            "Data columns (total 9 columns):\n",
            " #   Column    Non-Null Count  Dtype  \n",
            "---  ------    --------------  -----  \n",
            " 0   aid       55355 non-null  object \n",
            " 1   tid       55355 non-null  int64  \n",
            " 2   capacity  55355 non-null  object \n",
            " 3   role      43766 non-null  object \n",
            " 4   charid    4558 non-null   float64\n",
            " 5   impid     7414 non-null   float64\n",
            " 6   voice     55355 non-null  bool   \n",
            " 7   epid      55355 non-null  int64  \n",
            " 8   sid       55355 non-null  int64  \n",
            "dtypes: bool(1), float64(2), int64(3), object(3)\n",
            "memory usage: 3.4+ MB\n"
          ]
        }
      ]
    },
    {
      "cell_type": "code",
      "metadata": {
        "colab": {
          "base_uri": "https://localhost:8080/"
        },
        "id": "eYn6uP2XAoUZ",
        "outputId": "0d49b8d8-8656-470a-c4d6-bab6f833ab3e"
      },
      "source": [
        "print(actors.shape)\n",
        "print(apps.shape)"
      ],
      "execution_count": null,
      "outputs": [
        {
          "output_type": "stream",
          "name": "stdout",
          "text": [
            "(2306, 4)\n",
            "(55355, 9)\n"
          ]
        }
      ]
    },
    {
      "cell_type": "code",
      "metadata": {
        "colab": {
          "base_uri": "https://localhost:8080/"
        },
        "id": "4aMPE-GDAoUZ",
        "outputId": "40faa322-d07e-4daf-87db-bb1adbbce34f"
      },
      "source": [
        "print(len(actors.aid.unique()))\n",
        "print(len(apps.aid.unique()))\n",
        "# Nice! they have the same number of actors, but apps has the individual appearance for each one\n",
        "# so far it looks like apps may be more useful for a storytelling task."
      ],
      "execution_count": null,
      "outputs": [
        {
          "output_type": "stream",
          "name": "stdout",
          "text": [
            "2306\n",
            "2306\n"
          ]
        }
      ]
    },
    {
      "cell_type": "markdown",
      "metadata": {
        "id": "ufZNdQXoE9QI"
      },
      "source": [
        "### casts"
      ]
    },
    {
      "cell_type": "code",
      "metadata": {
        "colab": {
          "base_uri": "https://localhost:8080/"
        },
        "id": "xQwRSL6RAoUZ",
        "outputId": "b0766d20-f5fa-46e9-8e4c-204ddeab4212"
      },
      "source": [
        "#######\n",
        "# casts\n",
        "\n",
        "cast = '/casts.csv'\n",
        "casts = pd.read_csv(cwd+'/'+cast)\n",
        "casts.head(13)"
      ],
      "execution_count": null,
      "outputs": [
        {
          "output_type": "execute_result",
          "data": {
            "text/html": [
              "<div>\n",
              "<style scoped>\n",
              "    .dataframe tbody tr th:only-of-type {\n",
              "        vertical-align: middle;\n",
              "    }\n",
              "\n",
              "    .dataframe tbody tr th {\n",
              "        vertical-align: top;\n",
              "    }\n",
              "\n",
              "    .dataframe thead th {\n",
              "        text-align: right;\n",
              "    }\n",
              "</style>\n",
              "<table border=\"1\" class=\"dataframe\">\n",
              "  <thead>\n",
              "    <tr style=\"text-align: right;\">\n",
              "      <th></th>\n",
              "      <th>aid</th>\n",
              "      <th>sid</th>\n",
              "      <th>featured</th>\n",
              "      <th>first_epid</th>\n",
              "      <th>last_epid</th>\n",
              "      <th>update_anchor</th>\n",
              "      <th>n_episodes</th>\n",
              "      <th>season_fraction</th>\n",
              "    </tr>\n",
              "  </thead>\n",
              "  <tbody>\n",
              "    <tr>\n",
              "      <th>0</th>\n",
              "      <td>A. Whitney Brown</td>\n",
              "      <td>11</td>\n",
              "      <td>True</td>\n",
              "      <td>19860222.0</td>\n",
              "      <td>NaN</td>\n",
              "      <td>False</td>\n",
              "      <td>8</td>\n",
              "      <td>0.444444</td>\n",
              "    </tr>\n",
              "    <tr>\n",
              "      <th>1</th>\n",
              "      <td>A. Whitney Brown</td>\n",
              "      <td>12</td>\n",
              "      <td>True</td>\n",
              "      <td>NaN</td>\n",
              "      <td>NaN</td>\n",
              "      <td>False</td>\n",
              "      <td>20</td>\n",
              "      <td>1.000000</td>\n",
              "    </tr>\n",
              "    <tr>\n",
              "      <th>2</th>\n",
              "      <td>A. Whitney Brown</td>\n",
              "      <td>13</td>\n",
              "      <td>True</td>\n",
              "      <td>NaN</td>\n",
              "      <td>NaN</td>\n",
              "      <td>False</td>\n",
              "      <td>13</td>\n",
              "      <td>1.000000</td>\n",
              "    </tr>\n",
              "    <tr>\n",
              "      <th>3</th>\n",
              "      <td>A. Whitney Brown</td>\n",
              "      <td>14</td>\n",
              "      <td>True</td>\n",
              "      <td>NaN</td>\n",
              "      <td>NaN</td>\n",
              "      <td>False</td>\n",
              "      <td>20</td>\n",
              "      <td>1.000000</td>\n",
              "    </tr>\n",
              "    <tr>\n",
              "      <th>4</th>\n",
              "      <td>A. Whitney Brown</td>\n",
              "      <td>15</td>\n",
              "      <td>True</td>\n",
              "      <td>NaN</td>\n",
              "      <td>NaN</td>\n",
              "      <td>False</td>\n",
              "      <td>20</td>\n",
              "      <td>1.000000</td>\n",
              "    </tr>\n",
              "    <tr>\n",
              "      <th>5</th>\n",
              "      <td>A. Whitney Brown</td>\n",
              "      <td>16</td>\n",
              "      <td>True</td>\n",
              "      <td>NaN</td>\n",
              "      <td>NaN</td>\n",
              "      <td>False</td>\n",
              "      <td>20</td>\n",
              "      <td>1.000000</td>\n",
              "    </tr>\n",
              "    <tr>\n",
              "      <th>6</th>\n",
              "      <td>Alan Zweibel</td>\n",
              "      <td>5</td>\n",
              "      <td>True</td>\n",
              "      <td>19800409.0</td>\n",
              "      <td>NaN</td>\n",
              "      <td>False</td>\n",
              "      <td>5</td>\n",
              "      <td>0.250000</td>\n",
              "    </tr>\n",
              "    <tr>\n",
              "      <th>7</th>\n",
              "      <td>Sasheer Zamata</td>\n",
              "      <td>39</td>\n",
              "      <td>True</td>\n",
              "      <td>20140118.0</td>\n",
              "      <td>NaN</td>\n",
              "      <td>False</td>\n",
              "      <td>11</td>\n",
              "      <td>0.523810</td>\n",
              "    </tr>\n",
              "    <tr>\n",
              "      <th>8</th>\n",
              "      <td>Sasheer Zamata</td>\n",
              "      <td>40</td>\n",
              "      <td>True</td>\n",
              "      <td>NaN</td>\n",
              "      <td>NaN</td>\n",
              "      <td>False</td>\n",
              "      <td>21</td>\n",
              "      <td>1.000000</td>\n",
              "    </tr>\n",
              "    <tr>\n",
              "      <th>9</th>\n",
              "      <td>Sasheer Zamata</td>\n",
              "      <td>41</td>\n",
              "      <td>False</td>\n",
              "      <td>NaN</td>\n",
              "      <td>NaN</td>\n",
              "      <td>False</td>\n",
              "      <td>21</td>\n",
              "      <td>1.000000</td>\n",
              "    </tr>\n",
              "    <tr>\n",
              "      <th>10</th>\n",
              "      <td>Sasheer Zamata</td>\n",
              "      <td>42</td>\n",
              "      <td>False</td>\n",
              "      <td>NaN</td>\n",
              "      <td>NaN</td>\n",
              "      <td>False</td>\n",
              "      <td>21</td>\n",
              "      <td>1.000000</td>\n",
              "    </tr>\n",
              "    <tr>\n",
              "      <th>11</th>\n",
              "      <td>Bowen Yang</td>\n",
              "      <td>45</td>\n",
              "      <td>True</td>\n",
              "      <td>NaN</td>\n",
              "      <td>NaN</td>\n",
              "      <td>False</td>\n",
              "      <td>18</td>\n",
              "      <td>1.000000</td>\n",
              "    </tr>\n",
              "    <tr>\n",
              "      <th>12</th>\n",
              "      <td>Bowen Yang</td>\n",
              "      <td>46</td>\n",
              "      <td>True</td>\n",
              "      <td>NaN</td>\n",
              "      <td>NaN</td>\n",
              "      <td>False</td>\n",
              "      <td>17</td>\n",
              "      <td>1.000000</td>\n",
              "    </tr>\n",
              "  </tbody>\n",
              "</table>\n",
              "</div>"
            ],
            "text/plain": [
              "                 aid  sid  featured  ...  update_anchor  n_episodes  season_fraction\n",
              "0   A. Whitney Brown   11      True  ...          False           8         0.444444\n",
              "1   A. Whitney Brown   12      True  ...          False          20         1.000000\n",
              "2   A. Whitney Brown   13      True  ...          False          13         1.000000\n",
              "3   A. Whitney Brown   14      True  ...          False          20         1.000000\n",
              "4   A. Whitney Brown   15      True  ...          False          20         1.000000\n",
              "5   A. Whitney Brown   16      True  ...          False          20         1.000000\n",
              "6       Alan Zweibel    5      True  ...          False           5         0.250000\n",
              "7     Sasheer Zamata   39      True  ...          False          11         0.523810\n",
              "8     Sasheer Zamata   40      True  ...          False          21         1.000000\n",
              "9     Sasheer Zamata   41     False  ...          False          21         1.000000\n",
              "10    Sasheer Zamata   42     False  ...          False          21         1.000000\n",
              "11        Bowen Yang   45      True  ...          False          18         1.000000\n",
              "12        Bowen Yang   46      True  ...          False          17         1.000000\n",
              "\n",
              "[13 rows x 8 columns]"
            ]
          },
          "metadata": {},
          "execution_count": 14
        }
      ]
    },
    {
      "cell_type": "code",
      "metadata": {
        "colab": {
          "base_uri": "https://localhost:8080/"
        },
        "id": "zKJftGBJAoUa",
        "outputId": "41ff441f-4d64-4422-d976-604693ad1329"
      },
      "source": [
        "print(casts.shape)\n",
        "casts.info()\n",
        "\n",
        "# interesting columns: sid, featured, update anchor\n",
        "# n_episodes, season_fraction"
      ],
      "execution_count": null,
      "outputs": [
        {
          "output_type": "stream",
          "name": "stdout",
          "text": [
            "(614, 8)\n",
            "<class 'pandas.core.frame.DataFrame'>\n",
            "RangeIndex: 614 entries, 0 to 613\n",
            "Data columns (total 8 columns):\n",
            " #   Column           Non-Null Count  Dtype  \n",
            "---  ------           --------------  -----  \n",
            " 0   aid              614 non-null    object \n",
            " 1   sid              614 non-null    int64  \n",
            " 2   featured         614 non-null    bool   \n",
            " 3   first_epid       50 non-null     float64\n",
            " 4   last_epid        17 non-null     float64\n",
            " 5   update_anchor    614 non-null    bool   \n",
            " 6   n_episodes       614 non-null    int64  \n",
            " 7   season_fraction  614 non-null    float64\n",
            "dtypes: bool(2), float64(3), int64(2), object(1)\n",
            "memory usage: 30.1+ KB\n"
          ]
        }
      ]
    },
    {
      "cell_type": "code",
      "metadata": {
        "colab": {
          "base_uri": "https://localhost:8080/"
        },
        "id": "Lc8SW9utAoUa",
        "outputId": "070e7c68-84be-4d4c-ff18-f8fa5bd7da2b"
      },
      "source": [
        "casts.sid.hist()\n",
        "# sid is season id"
      ],
      "execution_count": null,
      "outputs": [
        {
          "output_type": "execute_result",
          "data": {
            "text/plain": [
              "<matplotlib.axes._subplots.AxesSubplot at 0x7f19878b0490>"
            ]
          },
          "metadata": {},
          "execution_count": 16
        },
        {
          "output_type": "display_data",
          "data": {
            "image/png": "[encoded data removed]",
            "text/plain": [
              "<Figure size 432x288 with 1 Axes>"
            ]
          },
          "metadata": {
            "needs_background": "light"
          }
        }
      ]
    },
    {
      "cell_type": "code",
      "metadata": {
        "colab": {
          "base_uri": "https://localhost:8080/"
        },
        "id": "l9SeYTRWAoUa",
        "outputId": "168eff08-02ea-4844-a9d1-59dc8e0d5285"
      },
      "source": [
        "casts.season_fraction.hist()\n",
        "# most cast members are in 100% of the season, this may not be a very useful column "
      ],
      "execution_count": null,
      "outputs": [
        {
          "output_type": "execute_result",
          "data": {
            "text/plain": [
              "<matplotlib.axes._subplots.AxesSubplot at 0x7f1986eb5050>"
            ]
          },
          "metadata": {},
          "execution_count": 17
        },
        {
          "output_type": "display_data",
          "data": {
            "image/png": "[encoded data removed]",
            "text/plain": [
              "<Figure size 432x288 with 1 Axes>"
            ]
          },
          "metadata": {
            "needs_background": "light"
          }
        }
      ]
    },
    {
      "cell_type": "code",
      "metadata": {
        "colab": {
          "base_uri": "https://localhost:8080/"
        },
        "id": "Ste_gqMsAoUb",
        "outputId": "8685097c-3ccd-4bf4-b786-efb6c6868a39"
      },
      "source": [
        "casts.aid.value_counts()\n",
        "# this gives the number of seasons of each cast member"
      ],
      "execution_count": null,
      "outputs": [
        {
          "output_type": "execute_result",
          "data": {
            "text/plain": [
              "Kenan Thompson     18\n",
              "Darrell Hammond    14\n",
              "Seth Meyers        13\n",
              "Fred Armisen       11\n",
              "Al Franken         11\n",
              "                   ..\n",
              "Terry Sweeney       1\n",
              "George Coe          1\n",
              "Brooks Wheelan      1\n",
              "Peter Aykroyd       1\n",
              "Charles Rocket      1\n",
              "Name: aid, Length: 156, dtype: int64"
            ]
          },
          "metadata": {},
          "execution_count": 18
        }
      ]
    },
    {
      "cell_type": "markdown",
      "metadata": {
        "id": "9Wgp9MUtFgY-"
      },
      "source": [
        "### characters"
      ]
    },
    {
      "cell_type": "code",
      "metadata": {
        "colab": {
          "base_uri": "https://localhost:8080/"
        },
        "id": "yLXyH8wTAoUb",
        "outputId": "3ed340c4-6c4b-4140-e9e1-9f079abc6871"
      },
      "source": [
        "char = 'characters.csv'\n",
        "characters = pd.read_csv(cwd+'/'+char)\n",
        "characters.head()\n",
        "# charid is a number for character ID\n",
        "# aid is actor id\n"
      ],
      "execution_count": null,
      "outputs": [
        {
          "output_type": "execute_result",
          "data": {
            "text/html": [
              "<div>\n",
              "<style scoped>\n",
              "    .dataframe tbody tr th:only-of-type {\n",
              "        vertical-align: middle;\n",
              "    }\n",
              "\n",
              "    .dataframe tbody tr th {\n",
              "        vertical-align: top;\n",
              "    }\n",
              "\n",
              "    .dataframe thead th {\n",
              "        text-align: right;\n",
              "    }\n",
              "</style>\n",
              "<table border=\"1\" class=\"dataframe\">\n",
              "  <thead>\n",
              "    <tr style=\"text-align: right;\">\n",
              "      <th></th>\n",
              "      <th>charid</th>\n",
              "      <th>aid</th>\n",
              "      <th>name</th>\n",
              "    </tr>\n",
              "  </thead>\n",
              "  <tbody>\n",
              "    <tr>\n",
              "      <th>0</th>\n",
              "      <td>1098</td>\n",
              "      <td>Aidy Bryant</td>\n",
              "      <td>Rebecca</td>\n",
              "    </tr>\n",
              "    <tr>\n",
              "      <th>1</th>\n",
              "      <td>1087</td>\n",
              "      <td>Kenan Thompson</td>\n",
              "      <td>Elliott Pants</td>\n",
              "    </tr>\n",
              "    <tr>\n",
              "      <th>2</th>\n",
              "      <td>1079</td>\n",
              "      <td>Kate McKinnon</td>\n",
              "      <td>Vaneta Starkie</td>\n",
              "    </tr>\n",
              "    <tr>\n",
              "      <th>3</th>\n",
              "      <td>1080</td>\n",
              "      <td>Aidy Bryant</td>\n",
              "      <td>Wylene Starkie</td>\n",
              "    </tr>\n",
              "    <tr>\n",
              "      <th>4</th>\n",
              "      <td>1024</td>\n",
              "      <td>Alex Moffat</td>\n",
              "      <td>Guy Who Just Bought a Boat</td>\n",
              "    </tr>\n",
              "  </tbody>\n",
              "</table>\n",
              "</div>"
            ],
            "text/plain": [
              "   charid             aid                        name\n",
              "0    1098     Aidy Bryant                     Rebecca\n",
              "1    1087  Kenan Thompson               Elliott Pants\n",
              "2    1079   Kate McKinnon              Vaneta Starkie\n",
              "3    1080     Aidy Bryant              Wylene Starkie\n",
              "4    1024     Alex Moffat  Guy Who Just Bought a Boat"
            ]
          },
          "metadata": {},
          "execution_count": 19
        }
      ]
    },
    {
      "cell_type": "markdown",
      "metadata": {
        "id": "kf0Ioy4gFiIK"
      },
      "source": [
        "### impressions"
      ]
    },
    {
      "cell_type": "code",
      "metadata": {
        "colab": {
          "base_uri": "https://localhost:8080/"
        },
        "id": "0rcUkZ4HAoUc",
        "outputId": "e11ebe36-0b0b-4a8c-9184-a2a1f51bf6b9"
      },
      "source": [
        "imp_file = 'impressions.csv'\n",
        "imp = pd.read_csv(cwd+'/'+imp_file)\n",
        "imp.sample(13)\n",
        "# impid is impression id\n",
        "# aid is actor id"
      ],
      "execution_count": null,
      "outputs": [
        {
          "output_type": "execute_result",
          "data": {
            "text/html": [
              "<div>\n",
              "<style scoped>\n",
              "    .dataframe tbody tr th:only-of-type {\n",
              "        vertical-align: middle;\n",
              "    }\n",
              "\n",
              "    .dataframe tbody tr th {\n",
              "        vertical-align: top;\n",
              "    }\n",
              "\n",
              "    .dataframe thead th {\n",
              "        text-align: right;\n",
              "    }\n",
              "</style>\n",
              "<table border=\"1\" class=\"dataframe\">\n",
              "  <thead>\n",
              "    <tr style=\"text-align: right;\">\n",
              "      <th></th>\n",
              "      <th>impid</th>\n",
              "      <th>aid</th>\n",
              "      <th>name</th>\n",
              "    </tr>\n",
              "  </thead>\n",
              "  <tbody>\n",
              "    <tr>\n",
              "      <th>2566</th>\n",
              "      <td>1631</td>\n",
              "      <td>Lucy Lawless</td>\n",
              "      <td>Stevie Nicks</td>\n",
              "    </tr>\n",
              "    <tr>\n",
              "      <th>1032</th>\n",
              "      <td>3204</td>\n",
              "      <td>Andy Samberg</td>\n",
              "      <td>Mayim Bialik</td>\n",
              "    </tr>\n",
              "    <tr>\n",
              "      <th>86</th>\n",
              "      <td>3700</td>\n",
              "      <td>Mikey Day</td>\n",
              "      <td>Donald Trump Jr.</td>\n",
              "    </tr>\n",
              "    <tr>\n",
              "      <th>2987</th>\n",
              "      <td>1186</td>\n",
              "      <td>Kevin Nealon</td>\n",
              "      <td>Charles Grodin</td>\n",
              "    </tr>\n",
              "    <tr>\n",
              "      <th>3066</th>\n",
              "      <td>1112</td>\n",
              "      <td>Ellen Cleghorne</td>\n",
              "      <td>Kim Wayans</td>\n",
              "    </tr>\n",
              "    <tr>\n",
              "      <th>3179</th>\n",
              "      <td>868</td>\n",
              "      <td>Jan Hooks</td>\n",
              "      <td>Sinead O'Connor</td>\n",
              "    </tr>\n",
              "    <tr>\n",
              "      <th>816</th>\n",
              "      <td>3410</td>\n",
              "      <td>Jay Pharoah</td>\n",
              "      <td>Ice-T</td>\n",
              "    </tr>\n",
              "    <tr>\n",
              "      <th>121</th>\n",
              "      <td>4051</td>\n",
              "      <td>John Mulaney</td>\n",
              "      <td>Joe Biden</td>\n",
              "    </tr>\n",
              "    <tr>\n",
              "      <th>779</th>\n",
              "      <td>3455</td>\n",
              "      <td>Brooks Wheelan</td>\n",
              "      <td>Jared Leto</td>\n",
              "    </tr>\n",
              "    <tr>\n",
              "      <th>575</th>\n",
              "      <td>3532</td>\n",
              "      <td>Kate McKinnon</td>\n",
              "      <td>Maggie Smith</td>\n",
              "    </tr>\n",
              "    <tr>\n",
              "      <th>107</th>\n",
              "      <td>3264</td>\n",
              "      <td>Kate McKinnon</td>\n",
              "      <td>Ruth Bader Ginsburg</td>\n",
              "    </tr>\n",
              "    <tr>\n",
              "      <th>3886</th>\n",
              "      <td>255</td>\n",
              "      <td>Ann Risley</td>\n",
              "      <td>Toni Tennille</td>\n",
              "    </tr>\n",
              "    <tr>\n",
              "      <th>1643</th>\n",
              "      <td>2562</td>\n",
              "      <td>Fred Armisen</td>\n",
              "      <td>Nouri al-Maliki</td>\n",
              "    </tr>\n",
              "  </tbody>\n",
              "</table>\n",
              "</div>"
            ],
            "text/plain": [
              "      impid              aid                 name\n",
              "2566   1631     Lucy Lawless         Stevie Nicks\n",
              "1032   3204     Andy Samberg         Mayim Bialik\n",
              "86     3700        Mikey Day     Donald Trump Jr.\n",
              "2987   1186     Kevin Nealon       Charles Grodin\n",
              "3066   1112  Ellen Cleghorne           Kim Wayans\n",
              "3179    868        Jan Hooks      Sinead O'Connor\n",
              "816    3410      Jay Pharoah                Ice-T\n",
              "121    4051     John Mulaney            Joe Biden\n",
              "779    3455   Brooks Wheelan           Jared Leto\n",
              "575    3532    Kate McKinnon         Maggie Smith\n",
              "107    3264    Kate McKinnon  Ruth Bader Ginsburg\n",
              "3886    255       Ann Risley        Toni Tennille\n",
              "1643   2562     Fred Armisen      Nouri al-Maliki"
            ]
          },
          "metadata": {},
          "execution_count": 20
        }
      ]
    },
    {
      "cell_type": "code",
      "metadata": {
        "colab": {
          "base_uri": "https://localhost:8080/"
        },
        "id": "XGlXNAPbAoUc",
        "outputId": "f64da1d0-44ec-4435-d472-25496ca171af"
      },
      "source": [
        "print(imp.shape)\n",
        "imp.info()\n",
        "# name is name of the character"
      ],
      "execution_count": null,
      "outputs": [
        {
          "output_type": "stream",
          "name": "stdout",
          "text": [
            "(4115, 3)\n",
            "<class 'pandas.core.frame.DataFrame'>\n",
            "RangeIndex: 4115 entries, 0 to 4114\n",
            "Data columns (total 3 columns):\n",
            " #   Column  Non-Null Count  Dtype \n",
            "---  ------  --------------  ----- \n",
            " 0   impid   4115 non-null   int64 \n",
            " 1   aid     4115 non-null   object\n",
            " 2   name    4115 non-null   object\n",
            "dtypes: int64(1), object(2)\n",
            "memory usage: 96.6+ KB\n"
          ]
        }
      ]
    },
    {
      "cell_type": "code",
      "metadata": {
        "colab": {
          "base_uri": "https://localhost:8080/"
        },
        "id": "_nuoyaDLAoUc",
        "outputId": "bd1273c9-802b-43b6-c51b-7293a97f5936"
      },
      "source": [
        "# what is difference between characters and impressions?\n",
        "print(characters.shape)\n",
        "print(imp.shape)\n",
        "\n",
        "# why are there more impressions than characters"
      ],
      "execution_count": null,
      "outputs": [
        {
          "output_type": "stream",
          "name": "stdout",
          "text": [
            "(1099, 3)\n",
            "(4115, 3)\n"
          ]
        }
      ]
    },
    {
      "cell_type": "markdown",
      "metadata": {
        "id": "8YcGcuorFkpr"
      },
      "source": [
        "### seasons"
      ]
    },
    {
      "cell_type": "code",
      "metadata": {
        "colab": {
          "base_uri": "https://localhost:8080/"
        },
        "id": "Ys4QbzdkAoUc",
        "outputId": "210c502f-e0dc-433d-8700-db3e861c88db"
      },
      "source": [
        "seas = 'seasons.csv'\n",
        "seasons = pd.read_csv(cwd+'/'+seas)\n",
        "seasons.head()\n",
        "# sid is season id\n",
        "# not incredibly useful info, maybe the year column "
      ],
      "execution_count": null,
      "outputs": [
        {
          "output_type": "execute_result",
          "data": {
            "text/html": [
              "<div>\n",
              "<style scoped>\n",
              "    .dataframe tbody tr th:only-of-type {\n",
              "        vertical-align: middle;\n",
              "    }\n",
              "\n",
              "    .dataframe tbody tr th {\n",
              "        vertical-align: top;\n",
              "    }\n",
              "\n",
              "    .dataframe thead th {\n",
              "        text-align: right;\n",
              "    }\n",
              "</style>\n",
              "<table border=\"1\" class=\"dataframe\">\n",
              "  <thead>\n",
              "    <tr style=\"text-align: right;\">\n",
              "      <th></th>\n",
              "      <th>sid</th>\n",
              "      <th>year</th>\n",
              "      <th>first_epid</th>\n",
              "      <th>last_epid</th>\n",
              "      <th>n_episodes</th>\n",
              "    </tr>\n",
              "  </thead>\n",
              "  <tbody>\n",
              "    <tr>\n",
              "      <th>0</th>\n",
              "      <td>1</td>\n",
              "      <td>1975</td>\n",
              "      <td>19751011</td>\n",
              "      <td>19760731</td>\n",
              "      <td>24</td>\n",
              "    </tr>\n",
              "    <tr>\n",
              "      <th>1</th>\n",
              "      <td>2</td>\n",
              "      <td>1976</td>\n",
              "      <td>19760918</td>\n",
              "      <td>19770521</td>\n",
              "      <td>22</td>\n",
              "    </tr>\n",
              "    <tr>\n",
              "      <th>2</th>\n",
              "      <td>3</td>\n",
              "      <td>1977</td>\n",
              "      <td>19770924</td>\n",
              "      <td>19780520</td>\n",
              "      <td>20</td>\n",
              "    </tr>\n",
              "    <tr>\n",
              "      <th>3</th>\n",
              "      <td>4</td>\n",
              "      <td>1978</td>\n",
              "      <td>19781007</td>\n",
              "      <td>19790526</td>\n",
              "      <td>20</td>\n",
              "    </tr>\n",
              "    <tr>\n",
              "      <th>4</th>\n",
              "      <td>5</td>\n",
              "      <td>1979</td>\n",
              "      <td>19791013</td>\n",
              "      <td>19800524</td>\n",
              "      <td>20</td>\n",
              "    </tr>\n",
              "  </tbody>\n",
              "</table>\n",
              "</div>"
            ],
            "text/plain": [
              "   sid  year  first_epid  last_epid  n_episodes\n",
              "0    1  1975    19751011   19760731          24\n",
              "1    2  1976    19760918   19770521          22\n",
              "2    3  1977    19770924   19780520          20\n",
              "3    4  1978    19781007   19790526          20\n",
              "4    5  1979    19791013   19800524          20"
            ]
          },
          "metadata": {},
          "execution_count": 23
        }
      ]
    },
    {
      "cell_type": "code",
      "metadata": {
        "id": "2tHY_5SeAoUd"
      },
      "source": [
        "list_of_dfs = [actors, apps, casts, characters, imp, seasons]"
      ],
      "execution_count": null,
      "outputs": []
    },
    {
      "cell_type": "code",
      "metadata": {
        "colab": {
          "base_uri": "https://localhost:8080/"
        },
        "id": "YBR41VNHAoUd",
        "outputId": "36caa113-3b4b-4e2e-b556-dd73713bd188"
      },
      "source": [
        "for d in list_of_dfs:\n",
        "    print(d.shape, d.columns)"
      ],
      "execution_count": null,
      "outputs": [
        {
          "output_type": "stream",
          "name": "stdout",
          "text": [
            "(2306, 4) Index(['aid', 'url', 'type', 'gender'], dtype='object')\n",
            "(55355, 9) Index(['aid', 'tid', 'capacity', 'role', 'charid', 'impid', 'voice', 'epid',\n",
            "       'sid'],\n",
            "      dtype='object')\n",
            "(614, 8) Index(['aid', 'sid', 'featured', 'first_epid', 'last_epid', 'update_anchor',\n",
            "       'n_episodes', 'season_fraction'],\n",
            "      dtype='object')\n",
            "(1099, 3) Index(['charid', 'aid', 'name'], dtype='object')\n",
            "(4115, 3) Index(['impid', 'aid', 'name'], dtype='object')\n",
            "(46, 5) Index(['sid', 'year', 'first_epid', 'last_epid', 'n_episodes'], dtype='object')\n"
          ]
        }
      ]
    },
    {
      "cell_type": "code",
      "metadata": {
        "id": "nsKcfcbSAoUd"
      },
      "source": [
        "######################\n",
        "######################"
      ],
      "execution_count": null,
      "outputs": []
    },
    {
      "cell_type": "markdown",
      "metadata": {
        "id": "oRrwsBYyForS"
      },
      "source": [
        "## Opening and Cleaning the Main df: appearances"
      ]
    },
    {
      "cell_type": "code",
      "metadata": {
        "colab": {
          "base_uri": "https://localhost:8080/",
          "height": 447
        },
        "id": "LB_2QXLnAoUd",
        "outputId": "15bac667-d75e-432d-89bc-70663f59cb17"
      },
      "source": [
        "##########################################\n",
        "\n",
        "# lets try just opening the biggest csv file, apps\n",
        "apps.sample(13)"
      ],
      "execution_count": null,
      "outputs": [
        {
          "output_type": "execute_result",
          "data": {
            "text/html": [
              "<div>\n",
              "<style scoped>\n",
              "    .dataframe tbody tr th:only-of-type {\n",
              "        vertical-align: middle;\n",
              "    }\n",
              "\n",
              "    .dataframe tbody tr th {\n",
              "        vertical-align: top;\n",
              "    }\n",
              "\n",
              "    .dataframe thead th {\n",
              "        text-align: right;\n",
              "    }\n",
              "</style>\n",
              "<table border=\"1\" class=\"dataframe\">\n",
              "  <thead>\n",
              "    <tr style=\"text-align: right;\">\n",
              "      <th></th>\n",
              "      <th>aid</th>\n",
              "      <th>tid</th>\n",
              "      <th>capacity</th>\n",
              "      <th>role</th>\n",
              "      <th>charid</th>\n",
              "      <th>impid</th>\n",
              "      <th>voice</th>\n",
              "      <th>epid</th>\n",
              "      <th>sid</th>\n",
              "    </tr>\n",
              "  </thead>\n",
              "  <tbody>\n",
              "    <tr>\n",
              "      <th>618</th>\n",
              "      <td>Steve Higgins</td>\n",
              "      <td>2020121910</td>\n",
              "      <td>cast</td>\n",
              "      <td>announcer</td>\n",
              "      <td>NaN</td>\n",
              "      <td>NaN</td>\n",
              "      <td>True</td>\n",
              "      <td>20201219</td>\n",
              "      <td>46</td>\n",
              "    </tr>\n",
              "    <tr>\n",
              "      <th>51110</th>\n",
              "      <td>Dan Aykroyd</td>\n",
              "      <td>197805133</td>\n",
              "      <td>cast</td>\n",
              "      <td>Beldar Conehead</td>\n",
              "      <td>23.0</td>\n",
              "      <td>NaN</td>\n",
              "      <td>False</td>\n",
              "      <td>19780513</td>\n",
              "      <td>3</td>\n",
              "    </tr>\n",
              "    <tr>\n",
              "      <th>38773</th>\n",
              "      <td>Victoria Jackson</td>\n",
              "      <td>199105186</td>\n",
              "      <td>cast</td>\n",
              "      <td>housewife</td>\n",
              "      <td>NaN</td>\n",
              "      <td>NaN</td>\n",
              "      <td>False</td>\n",
              "      <td>19910518</td>\n",
              "      <td>16</td>\n",
              "    </tr>\n",
              "    <tr>\n",
              "      <th>4021</th>\n",
              "      <td>Aidy Bryant</td>\n",
              "      <td>201805125</td>\n",
              "      <td>cast</td>\n",
              "      <td>doctor</td>\n",
              "      <td>NaN</td>\n",
              "      <td>NaN</td>\n",
              "      <td>False</td>\n",
              "      <td>20180512</td>\n",
              "      <td>43</td>\n",
              "    </tr>\n",
              "    <tr>\n",
              "      <th>40118</th>\n",
              "      <td>Kevin Nealon</td>\n",
              "      <td>1990032410</td>\n",
              "      <td>cast</td>\n",
              "      <td>senator</td>\n",
              "      <td>NaN</td>\n",
              "      <td>NaN</td>\n",
              "      <td>False</td>\n",
              "      <td>19900324</td>\n",
              "      <td>15</td>\n",
              "    </tr>\n",
              "    <tr>\n",
              "      <th>17141</th>\n",
              "      <td>Abby Elliott</td>\n",
              "      <td>200910102</td>\n",
              "      <td>cast</td>\n",
              "      <td>Gertrude Barrymore</td>\n",
              "      <td>NaN</td>\n",
              "      <td>NaN</td>\n",
              "      <td>False</td>\n",
              "      <td>20091010</td>\n",
              "      <td>35</td>\n",
              "    </tr>\n",
              "    <tr>\n",
              "      <th>45877</th>\n",
              "      <td>Tim Kazurinsky</td>\n",
              "      <td>198312035</td>\n",
              "      <td>cast</td>\n",
              "      <td>Mike Katz</td>\n",
              "      <td>NaN</td>\n",
              "      <td>NaN</td>\n",
              "      <td>False</td>\n",
              "      <td>19831203</td>\n",
              "      <td>9</td>\n",
              "    </tr>\n",
              "    <tr>\n",
              "      <th>33110</th>\n",
              "      <td>Tim Meadows</td>\n",
              "      <td>199602173</td>\n",
              "      <td>cast</td>\n",
              "      <td>Drake</td>\n",
              "      <td>NaN</td>\n",
              "      <td>NaN</td>\n",
              "      <td>False</td>\n",
              "      <td>19960217</td>\n",
              "      <td>21</td>\n",
              "    </tr>\n",
              "    <tr>\n",
              "      <th>48644</th>\n",
              "      <td>Denny Dillon</td>\n",
              "      <td>198012063</td>\n",
              "      <td>cast</td>\n",
              "      <td>student</td>\n",
              "      <td>NaN</td>\n",
              "      <td>NaN</td>\n",
              "      <td>False</td>\n",
              "      <td>19801206</td>\n",
              "      <td>6</td>\n",
              "    </tr>\n",
              "    <tr>\n",
              "      <th>50853</th>\n",
              "      <td>Laraine Newman</td>\n",
              "      <td>197811118</td>\n",
              "      <td>cast</td>\n",
              "      <td>Jean Marsh</td>\n",
              "      <td>NaN</td>\n",
              "      <td>163.0</td>\n",
              "      <td>False</td>\n",
              "      <td>19781111</td>\n",
              "      <td>4</td>\n",
              "    </tr>\n",
              "    <tr>\n",
              "      <th>680</th>\n",
              "      <td>Ego Nwodim</td>\n",
              "      <td>2020121210</td>\n",
              "      <td>cast</td>\n",
              "      <td>Nunya Bizness</td>\n",
              "      <td>NaN</td>\n",
              "      <td>NaN</td>\n",
              "      <td>False</td>\n",
              "      <td>20201212</td>\n",
              "      <td>46</td>\n",
              "    </tr>\n",
              "    <tr>\n",
              "      <th>29068</th>\n",
              "      <td>Darrell Hammond</td>\n",
              "      <td>1999102310</td>\n",
              "      <td>cast</td>\n",
              "      <td>announcer</td>\n",
              "      <td>NaN</td>\n",
              "      <td>NaN</td>\n",
              "      <td>True</td>\n",
              "      <td>19991023</td>\n",
              "      <td>25</td>\n",
              "    </tr>\n",
              "    <tr>\n",
              "      <th>43998</th>\n",
              "      <td>Jerry Hall</td>\n",
              "      <td>198602153</td>\n",
              "      <td>host</td>\n",
              "      <td>Maggie The Cat</td>\n",
              "      <td>NaN</td>\n",
              "      <td>NaN</td>\n",
              "      <td>False</td>\n",
              "      <td>19860215</td>\n",
              "      <td>11</td>\n",
              "    </tr>\n",
              "  </tbody>\n",
              "</table>\n",
              "</div>"
            ],
            "text/plain": [
              "                    aid         tid capacity  ...  voice      epid  sid\n",
              "618       Steve Higgins  2020121910     cast  ...   True  20201219   46\n",
              "51110       Dan Aykroyd   197805133     cast  ...  False  19780513    3\n",
              "38773  Victoria Jackson   199105186     cast  ...  False  19910518   16\n",
              "4021        Aidy Bryant   201805125     cast  ...  False  20180512   43\n",
              "40118      Kevin Nealon  1990032410     cast  ...  False  19900324   15\n",
              "17141      Abby Elliott   200910102     cast  ...  False  20091010   35\n",
              "45877    Tim Kazurinsky   198312035     cast  ...  False  19831203    9\n",
              "33110       Tim Meadows   199602173     cast  ...  False  19960217   21\n",
              "48644      Denny Dillon   198012063     cast  ...  False  19801206    6\n",
              "50853    Laraine Newman   197811118     cast  ...  False  19781111    4\n",
              "680          Ego Nwodim  2020121210     cast  ...  False  20201212   46\n",
              "29068   Darrell Hammond  1999102310     cast  ...   True  19991023   25\n",
              "43998        Jerry Hall   198602153     host  ...  False  19860215   11\n",
              "\n",
              "[13 rows x 9 columns]"
            ]
          },
          "metadata": {},
          "execution_count": 27
        }
      ]
    },
    {
      "cell_type": "code",
      "metadata": {
        "colab": {
          "base_uri": "https://localhost:8080/"
        },
        "id": "ZgoGVnA-AoUd",
        "outputId": "8400aec1-f0d9-492a-950b-44e85bfa1c4c"
      },
      "source": [
        "# so there are 2306 unique actors spanning over 55,355 appearances. in different capacities\n",
        "len(apps.aid.unique())"
      ],
      "execution_count": null,
      "outputs": [
        {
          "output_type": "execute_result",
          "data": {
            "text/plain": [
              "2306"
            ]
          },
          "metadata": {},
          "execution_count": 28
        }
      ]
    },
    {
      "cell_type": "code",
      "metadata": {
        "scrolled": true,
        "colab": {
          "base_uri": "https://localhost:8080/"
        },
        "id": "T_ev9Wx7AoUe",
        "outputId": "3bc7623f-dc36-4e84-8354-292efe66000c"
      },
      "source": [
        "apps.info()"
      ],
      "execution_count": null,
      "outputs": [
        {
          "output_type": "stream",
          "name": "stdout",
          "text": [
            "<class 'pandas.core.frame.DataFrame'>\n",
            "RangeIndex: 55355 entries, 0 to 55354\n",
            "Data columns (total 9 columns):\n",
            " #   Column    Non-Null Count  Dtype  \n",
            "---  ------    --------------  -----  \n",
            " 0   aid       55355 non-null  object \n",
            " 1   tid       55355 non-null  int64  \n",
            " 2   capacity  55355 non-null  object \n",
            " 3   role      43766 non-null  object \n",
            " 4   charid    4558 non-null   float64\n",
            " 5   impid     7414 non-null   float64\n",
            " 6   voice     55355 non-null  bool   \n",
            " 7   epid      55355 non-null  int64  \n",
            " 8   sid       55355 non-null  int64  \n",
            "dtypes: bool(1), float64(2), int64(3), object(3)\n",
            "memory usage: 3.4+ MB\n"
          ]
        }
      ]
    },
    {
      "cell_type": "code",
      "metadata": {
        "id": "PNIN5UvWAoUe"
      },
      "source": [
        "# all of the 'id's should be object/string\n",
        "\n",
        "apps[['aid', 'tid', 'charid', 'impid', 'epid']] = apps[['aid', 'tid', 'charid', 'impid', 'epid']].astype(str)\n"
      ],
      "execution_count": null,
      "outputs": []
    },
    {
      "cell_type": "code",
      "metadata": {
        "colab": {
          "base_uri": "https://localhost:8080/"
        },
        "id": "kwh5S3rwAoUe",
        "outputId": "9d0ff8a9-f2c7-496b-a62d-76fc76e0a737"
      },
      "source": [
        "apps.info()"
      ],
      "execution_count": null,
      "outputs": [
        {
          "output_type": "stream",
          "name": "stdout",
          "text": [
            "<class 'pandas.core.frame.DataFrame'>\n",
            "RangeIndex: 55355 entries, 0 to 55354\n",
            "Data columns (total 9 columns):\n",
            " #   Column    Non-Null Count  Dtype \n",
            "---  ------    --------------  ----- \n",
            " 0   aid       55355 non-null  object\n",
            " 1   tid       55355 non-null  object\n",
            " 2   capacity  55355 non-null  object\n",
            " 3   role      43766 non-null  object\n",
            " 4   charid    55355 non-null  object\n",
            " 5   impid     55355 non-null  object\n",
            " 6   voice     55355 non-null  bool  \n",
            " 7   epid      55355 non-null  object\n",
            " 8   sid       55355 non-null  int64 \n",
            "dtypes: bool(1), int64(1), object(7)\n",
            "memory usage: 3.4+ MB\n"
          ]
        }
      ]
    },
    {
      "cell_type": "code",
      "metadata": {
        "scrolled": true,
        "colab": {
          "base_uri": "https://localhost:8080/"
        },
        "id": "Rk4i7kgbAoUe",
        "outputId": "e066e1a1-59b1-47b0-c3ef-3ef68361db79"
      },
      "source": [
        "apps.capacity.value_counts()"
      ],
      "execution_count": null,
      "outputs": [
        {
          "output_type": "execute_result",
          "data": {
            "text/plain": [
              "cast       43986\n",
              "host        6931\n",
              "music       2051\n",
              "cameo       1559\n",
              "filmed       442\n",
              "guest        207\n",
              "other        123\n",
              "unknown       56\n",
              "Name: capacity, dtype: int64"
            ]
          },
          "metadata": {},
          "execution_count": 32
        }
      ]
    },
    {
      "cell_type": "code",
      "metadata": {
        "scrolled": false,
        "colab": {
          "base_uri": "https://localhost:8080/",
          "height": 483
        },
        "id": "dzNn3JRyAoUe",
        "outputId": "a77eaef5-1802-4c18-bd5a-eb912d689c8b"
      },
      "source": [
        "apps.capacity.value_counts().plot(kind='pie', figsize=(8,8))"
      ],
      "execution_count": null,
      "outputs": [
        {
          "output_type": "execute_result",
          "data": {
            "text/plain": [
              "<matplotlib.axes._subplots.AxesSubplot at 0x7f1985afb690>"
            ]
          },
          "metadata": {},
          "execution_count": 33
        },
        {
          "output_type": "display_data",
          "data": {
            "image/png": "[encoded data removed]",
            "text/plain": [
              "<Figure size 576x576 with 1 Axes>"
            ]
          },
          "metadata": {}
        }
      ]
    },
    {
      "cell_type": "code",
      "metadata": {
        "scrolled": false,
        "colab": {
          "base_uri": "https://localhost:8080/",
          "height": 1000
        },
        "id": "PBxXswOPAoUe",
        "outputId": "87262d80-4c5c-4c8f-c477-56e16cf6ac73"
      },
      "source": [
        "# let's check the 'unknown'\n",
        "apps[apps.capacity=='unknown']"
      ],
      "execution_count": null,
      "outputs": [
        {
          "output_type": "execute_result",
          "data": {
            "text/html": [
              "<div>\n",
              "<style scoped>\n",
              "    .dataframe tbody tr th:only-of-type {\n",
              "        vertical-align: middle;\n",
              "    }\n",
              "\n",
              "    .dataframe tbody tr th {\n",
              "        vertical-align: top;\n",
              "    }\n",
              "\n",
              "    .dataframe thead th {\n",
              "        text-align: right;\n",
              "    }\n",
              "</style>\n",
              "<table border=\"1\" class=\"dataframe\">\n",
              "  <thead>\n",
              "    <tr style=\"text-align: right;\">\n",
              "      <th></th>\n",
              "      <th>aid</th>\n",
              "      <th>tid</th>\n",
              "      <th>capacity</th>\n",
              "      <th>role</th>\n",
              "      <th>charid</th>\n",
              "      <th>impid</th>\n",
              "      <th>voice</th>\n",
              "      <th>epid</th>\n",
              "      <th>sid</th>\n",
              "    </tr>\n",
              "  </thead>\n",
              "  <tbody>\n",
              "    <tr>\n",
              "      <th>8037</th>\n",
              "      <td>Don Roy King</td>\n",
              "      <td>201511142</td>\n",
              "      <td>unknown</td>\n",
              "      <td>NaN</td>\n",
              "      <td>nan</td>\n",
              "      <td>nan</td>\n",
              "      <td>False</td>\n",
              "      <td>20151114</td>\n",
              "      <td>41</td>\n",
              "    </tr>\n",
              "    <tr>\n",
              "      <th>11831</th>\n",
              "      <td>Adam Epstein</td>\n",
              "      <td>201303025</td>\n",
              "      <td>unknown</td>\n",
              "      <td>announcer</td>\n",
              "      <td>nan</td>\n",
              "      <td>nan</td>\n",
              "      <td>True</td>\n",
              "      <td>20130302</td>\n",
              "      <td>38</td>\n",
              "    </tr>\n",
              "    <tr>\n",
              "      <th>12123</th>\n",
              "      <td>Adam Epstein</td>\n",
              "      <td>201301193</td>\n",
              "      <td>unknown</td>\n",
              "      <td>announcer</td>\n",
              "      <td>nan</td>\n",
              "      <td>nan</td>\n",
              "      <td>True</td>\n",
              "      <td>20130119</td>\n",
              "      <td>38</td>\n",
              "    </tr>\n",
              "    <tr>\n",
              "      <th>12749</th>\n",
              "      <td>Adam Epstein</td>\n",
              "      <td>201209153</td>\n",
              "      <td>unknown</td>\n",
              "      <td>announcer</td>\n",
              "      <td>nan</td>\n",
              "      <td>nan</td>\n",
              "      <td>True</td>\n",
              "      <td>20120915</td>\n",
              "      <td>38</td>\n",
              "    </tr>\n",
              "    <tr>\n",
              "      <th>12902</th>\n",
              "      <td>Adam Epstein</td>\n",
              "      <td>201205123</td>\n",
              "      <td>unknown</td>\n",
              "      <td>announcer</td>\n",
              "      <td>nan</td>\n",
              "      <td>nan</td>\n",
              "      <td>True</td>\n",
              "      <td>20120512</td>\n",
              "      <td>37</td>\n",
              "    </tr>\n",
              "    <tr>\n",
              "      <th>32608</th>\n",
              "      <td>John Henry Kurtz</td>\n",
              "      <td>199605181</td>\n",
              "      <td>unknown</td>\n",
              "      <td>announcer</td>\n",
              "      <td>nan</td>\n",
              "      <td>nan</td>\n",
              "      <td>True</td>\n",
              "      <td>19960518</td>\n",
              "      <td>21</td>\n",
              "    </tr>\n",
              "    <tr>\n",
              "      <th>32910</th>\n",
              "      <td>John Henry Kurtz</td>\n",
              "      <td>1996032311</td>\n",
              "      <td>unknown</td>\n",
              "      <td>announcer</td>\n",
              "      <td>nan</td>\n",
              "      <td>nan</td>\n",
              "      <td>True</td>\n",
              "      <td>19960323</td>\n",
              "      <td>21</td>\n",
              "    </tr>\n",
              "    <tr>\n",
              "      <th>33707</th>\n",
              "      <td>John Henry Kurtz</td>\n",
              "      <td>199509301</td>\n",
              "      <td>unknown</td>\n",
              "      <td>announcer</td>\n",
              "      <td>nan</td>\n",
              "      <td>nan</td>\n",
              "      <td>True</td>\n",
              "      <td>19950930</td>\n",
              "      <td>21</td>\n",
              "    </tr>\n",
              "    <tr>\n",
              "      <th>33830</th>\n",
              "      <td>John Henry Kurtz</td>\n",
              "      <td>199505063</td>\n",
              "      <td>unknown</td>\n",
              "      <td>announcer</td>\n",
              "      <td>nan</td>\n",
              "      <td>nan</td>\n",
              "      <td>True</td>\n",
              "      <td>19950506</td>\n",
              "      <td>20</td>\n",
              "    </tr>\n",
              "    <tr>\n",
              "      <th>34161</th>\n",
              "      <td>John Henry Kurtz</td>\n",
              "      <td>199502259</td>\n",
              "      <td>unknown</td>\n",
              "      <td>announcer</td>\n",
              "      <td>nan</td>\n",
              "      <td>nan</td>\n",
              "      <td>True</td>\n",
              "      <td>19950225</td>\n",
              "      <td>20</td>\n",
              "    </tr>\n",
              "    <tr>\n",
              "      <th>34302</th>\n",
              "      <td>John Henry Kurtz</td>\n",
              "      <td>199501213</td>\n",
              "      <td>unknown</td>\n",
              "      <td>announcer</td>\n",
              "      <td>nan</td>\n",
              "      <td>nan</td>\n",
              "      <td>True</td>\n",
              "      <td>19950121</td>\n",
              "      <td>20</td>\n",
              "    </tr>\n",
              "    <tr>\n",
              "      <th>34646</th>\n",
              "      <td>John Henry Kurtz</td>\n",
              "      <td>1994111911</td>\n",
              "      <td>unknown</td>\n",
              "      <td>announcer</td>\n",
              "      <td>nan</td>\n",
              "      <td>nan</td>\n",
              "      <td>True</td>\n",
              "      <td>19941119</td>\n",
              "      <td>20</td>\n",
              "    </tr>\n",
              "    <tr>\n",
              "      <th>34650</th>\n",
              "      <td>John Henry Kurtz</td>\n",
              "      <td>1994111913</td>\n",
              "      <td>unknown</td>\n",
              "      <td>announcer</td>\n",
              "      <td>nan</td>\n",
              "      <td>nan</td>\n",
              "      <td>True</td>\n",
              "      <td>19941119</td>\n",
              "      <td>20</td>\n",
              "    </tr>\n",
              "    <tr>\n",
              "      <th>34655</th>\n",
              "      <td>John Henry Kurtz</td>\n",
              "      <td>1994111915</td>\n",
              "      <td>unknown</td>\n",
              "      <td>announcer</td>\n",
              "      <td>nan</td>\n",
              "      <td>nan</td>\n",
              "      <td>True</td>\n",
              "      <td>19941119</td>\n",
              "      <td>20</td>\n",
              "    </tr>\n",
              "    <tr>\n",
              "      <th>35517</th>\n",
              "      <td>John Henry Kurtz</td>\n",
              "      <td>199402059</td>\n",
              "      <td>unknown</td>\n",
              "      <td>announcer</td>\n",
              "      <td>nan</td>\n",
              "      <td>nan</td>\n",
              "      <td>True</td>\n",
              "      <td>19940205</td>\n",
              "      <td>19</td>\n",
              "    </tr>\n",
              "    <tr>\n",
              "      <th>35669</th>\n",
              "      <td>John Henry Kurtz</td>\n",
              "      <td>199312114</td>\n",
              "      <td>unknown</td>\n",
              "      <td>announcer</td>\n",
              "      <td>nan</td>\n",
              "      <td>nan</td>\n",
              "      <td>True</td>\n",
              "      <td>19931211</td>\n",
              "      <td>19</td>\n",
              "    </tr>\n",
              "    <tr>\n",
              "      <th>35680</th>\n",
              "      <td>John Henry Kurtz</td>\n",
              "      <td>199312115</td>\n",
              "      <td>unknown</td>\n",
              "      <td>announcer</td>\n",
              "      <td>nan</td>\n",
              "      <td>nan</td>\n",
              "      <td>True</td>\n",
              "      <td>19931211</td>\n",
              "      <td>19</td>\n",
              "    </tr>\n",
              "    <tr>\n",
              "      <th>36266</th>\n",
              "      <td>Joel Godard</td>\n",
              "      <td>199305155</td>\n",
              "      <td>unknown</td>\n",
              "      <td>announcer</td>\n",
              "      <td>nan</td>\n",
              "      <td>nan</td>\n",
              "      <td>True</td>\n",
              "      <td>19930515</td>\n",
              "      <td>18</td>\n",
              "    </tr>\n",
              "    <tr>\n",
              "      <th>36510</th>\n",
              "      <td>Joel Godard</td>\n",
              "      <td>199303204</td>\n",
              "      <td>unknown</td>\n",
              "      <td>announcer</td>\n",
              "      <td>nan</td>\n",
              "      <td>nan</td>\n",
              "      <td>True</td>\n",
              "      <td>19930320</td>\n",
              "      <td>18</td>\n",
              "    </tr>\n",
              "    <tr>\n",
              "      <th>36894</th>\n",
              "      <td>Joel Godard</td>\n",
              "      <td>1993010914</td>\n",
              "      <td>unknown</td>\n",
              "      <td>announcer</td>\n",
              "      <td>nan</td>\n",
              "      <td>nan</td>\n",
              "      <td>True</td>\n",
              "      <td>19930109</td>\n",
              "      <td>18</td>\n",
              "    </tr>\n",
              "    <tr>\n",
              "      <th>37031</th>\n",
              "      <td>John Henry Kurtz</td>\n",
              "      <td>199211214</td>\n",
              "      <td>unknown</td>\n",
              "      <td>narrator</td>\n",
              "      <td>nan</td>\n",
              "      <td>nan</td>\n",
              "      <td>True</td>\n",
              "      <td>19921121</td>\n",
              "      <td>18</td>\n",
              "    </tr>\n",
              "    <tr>\n",
              "      <th>37074</th>\n",
              "      <td>John Henry Kurtz</td>\n",
              "      <td>1992112111</td>\n",
              "      <td>unknown</td>\n",
              "      <td>announcer</td>\n",
              "      <td>nan</td>\n",
              "      <td>nan</td>\n",
              "      <td>True</td>\n",
              "      <td>19921121</td>\n",
              "      <td>18</td>\n",
              "    </tr>\n",
              "    <tr>\n",
              "      <th>37082</th>\n",
              "      <td>John Henry Kurtz</td>\n",
              "      <td>1992112113</td>\n",
              "      <td>unknown</td>\n",
              "      <td>announcer</td>\n",
              "      <td>nan</td>\n",
              "      <td>nan</td>\n",
              "      <td>True</td>\n",
              "      <td>19921121</td>\n",
              "      <td>18</td>\n",
              "    </tr>\n",
              "    <tr>\n",
              "      <th>37313</th>\n",
              "      <td>Joel Godard</td>\n",
              "      <td>1992101010</td>\n",
              "      <td>unknown</td>\n",
              "      <td>announcer</td>\n",
              "      <td>nan</td>\n",
              "      <td>nan</td>\n",
              "      <td>True</td>\n",
              "      <td>19921010</td>\n",
              "      <td>18</td>\n",
              "    </tr>\n",
              "    <tr>\n",
              "      <th>37474</th>\n",
              "      <td>John Henry Kurtz</td>\n",
              "      <td>199205163</td>\n",
              "      <td>unknown</td>\n",
              "      <td>announcer</td>\n",
              "      <td>nan</td>\n",
              "      <td>nan</td>\n",
              "      <td>True</td>\n",
              "      <td>19920516</td>\n",
              "      <td>17</td>\n",
              "    </tr>\n",
              "    <tr>\n",
              "      <th>37721</th>\n",
              "      <td>Joel Godard</td>\n",
              "      <td>199203211</td>\n",
              "      <td>unknown</td>\n",
              "      <td>announcer</td>\n",
              "      <td>nan</td>\n",
              "      <td>nan</td>\n",
              "      <td>True</td>\n",
              "      <td>19920321</td>\n",
              "      <td>17</td>\n",
              "    </tr>\n",
              "    <tr>\n",
              "      <th>37726</th>\n",
              "      <td>John Henry Kurtz</td>\n",
              "      <td>199203213</td>\n",
              "      <td>unknown</td>\n",
              "      <td>announcer</td>\n",
              "      <td>nan</td>\n",
              "      <td>nan</td>\n",
              "      <td>True</td>\n",
              "      <td>19920321</td>\n",
              "      <td>17</td>\n",
              "    </tr>\n",
              "    <tr>\n",
              "      <th>38372</th>\n",
              "      <td>John Henry Kurtz</td>\n",
              "      <td>1991112316</td>\n",
              "      <td>unknown</td>\n",
              "      <td>announcer</td>\n",
              "      <td>nan</td>\n",
              "      <td>nan</td>\n",
              "      <td>True</td>\n",
              "      <td>19911123</td>\n",
              "      <td>17</td>\n",
              "    </tr>\n",
              "    <tr>\n",
              "      <th>38891</th>\n",
              "      <td>Joel Godard</td>\n",
              "      <td>199104205</td>\n",
              "      <td>unknown</td>\n",
              "      <td>announcer</td>\n",
              "      <td>nan</td>\n",
              "      <td>nan</td>\n",
              "      <td>True</td>\n",
              "      <td>19910420</td>\n",
              "      <td>16</td>\n",
              "    </tr>\n",
              "    <tr>\n",
              "      <th>39131</th>\n",
              "      <td>Joel Godard</td>\n",
              "      <td>199102231</td>\n",
              "      <td>unknown</td>\n",
              "      <td>announcer</td>\n",
              "      <td>nan</td>\n",
              "      <td>nan</td>\n",
              "      <td>True</td>\n",
              "      <td>19910223</td>\n",
              "      <td>16</td>\n",
              "    </tr>\n",
              "    <tr>\n",
              "      <th>39226</th>\n",
              "      <td>John Henry Kurtz</td>\n",
              "      <td>1991021612</td>\n",
              "      <td>unknown</td>\n",
              "      <td>announcer</td>\n",
              "      <td>nan</td>\n",
              "      <td>nan</td>\n",
              "      <td>True</td>\n",
              "      <td>19910216</td>\n",
              "      <td>16</td>\n",
              "    </tr>\n",
              "    <tr>\n",
              "      <th>39252</th>\n",
              "      <td>John Henry Kurtz</td>\n",
              "      <td>199102093</td>\n",
              "      <td>unknown</td>\n",
              "      <td>announcer</td>\n",
              "      <td>nan</td>\n",
              "      <td>nan</td>\n",
              "      <td>True</td>\n",
              "      <td>19910209</td>\n",
              "      <td>16</td>\n",
              "    </tr>\n",
              "    <tr>\n",
              "      <th>39315</th>\n",
              "      <td>Joel Godard</td>\n",
              "      <td>199101196</td>\n",
              "      <td>unknown</td>\n",
              "      <td>announcer</td>\n",
              "      <td>nan</td>\n",
              "      <td>nan</td>\n",
              "      <td>True</td>\n",
              "      <td>19910119</td>\n",
              "      <td>16</td>\n",
              "    </tr>\n",
              "    <tr>\n",
              "      <th>39415</th>\n",
              "      <td>John Henry Kurtz</td>\n",
              "      <td>199012153</td>\n",
              "      <td>unknown</td>\n",
              "      <td>announcer</td>\n",
              "      <td>nan</td>\n",
              "      <td>nan</td>\n",
              "      <td>True</td>\n",
              "      <td>19901215</td>\n",
              "      <td>16</td>\n",
              "    </tr>\n",
              "    <tr>\n",
              "      <th>39486</th>\n",
              "      <td>John Henry Kurtz</td>\n",
              "      <td>199012087</td>\n",
              "      <td>unknown</td>\n",
              "      <td>announcer</td>\n",
              "      <td>nan</td>\n",
              "      <td>nan</td>\n",
              "      <td>True</td>\n",
              "      <td>19901208</td>\n",
              "      <td>16</td>\n",
              "    </tr>\n",
              "    <tr>\n",
              "      <th>39529</th>\n",
              "      <td>Joel Godard</td>\n",
              "      <td>199012016</td>\n",
              "      <td>unknown</td>\n",
              "      <td>announcer</td>\n",
              "      <td>nan</td>\n",
              "      <td>nan</td>\n",
              "      <td>True</td>\n",
              "      <td>19901201</td>\n",
              "      <td>16</td>\n",
              "    </tr>\n",
              "    <tr>\n",
              "      <th>39534</th>\n",
              "      <td>Joel Godard</td>\n",
              "      <td>199012018</td>\n",
              "      <td>unknown</td>\n",
              "      <td>announcer</td>\n",
              "      <td>nan</td>\n",
              "      <td>nan</td>\n",
              "      <td>True</td>\n",
              "      <td>19901201</td>\n",
              "      <td>16</td>\n",
              "    </tr>\n",
              "    <tr>\n",
              "      <th>39684</th>\n",
              "      <td>John Henry Kurtz</td>\n",
              "      <td>199010275</td>\n",
              "      <td>unknown</td>\n",
              "      <td>announcer</td>\n",
              "      <td>nan</td>\n",
              "      <td>nan</td>\n",
              "      <td>True</td>\n",
              "      <td>19901027</td>\n",
              "      <td>16</td>\n",
              "    </tr>\n",
              "    <tr>\n",
              "      <th>39721</th>\n",
              "      <td>John Henry Kurtz</td>\n",
              "      <td>1990102715</td>\n",
              "      <td>unknown</td>\n",
              "      <td>film narrator</td>\n",
              "      <td>nan</td>\n",
              "      <td>nan</td>\n",
              "      <td>True</td>\n",
              "      <td>19901027</td>\n",
              "      <td>16</td>\n",
              "    </tr>\n",
              "    <tr>\n",
              "      <th>40348</th>\n",
              "      <td>John Henry Kurtz</td>\n",
              "      <td>199001203</td>\n",
              "      <td>unknown</td>\n",
              "      <td>announcer</td>\n",
              "      <td>nan</td>\n",
              "      <td>nan</td>\n",
              "      <td>True</td>\n",
              "      <td>19900120</td>\n",
              "      <td>15</td>\n",
              "    </tr>\n",
              "    <tr>\n",
              "      <th>40593</th>\n",
              "      <td>Joel Godard</td>\n",
              "      <td>1989120212</td>\n",
              "      <td>unknown</td>\n",
              "      <td>announcer</td>\n",
              "      <td>nan</td>\n",
              "      <td>nan</td>\n",
              "      <td>True</td>\n",
              "      <td>19891202</td>\n",
              "      <td>15</td>\n",
              "    </tr>\n",
              "    <tr>\n",
              "      <th>40644</th>\n",
              "      <td>John Henry Kurtz</td>\n",
              "      <td>198911113</td>\n",
              "      <td>unknown</td>\n",
              "      <td>announcer</td>\n",
              "      <td>nan</td>\n",
              "      <td>nan</td>\n",
              "      <td>True</td>\n",
              "      <td>19891111</td>\n",
              "      <td>15</td>\n",
              "    </tr>\n",
              "    <tr>\n",
              "      <th>40728</th>\n",
              "      <td>John Henry Kurtz</td>\n",
              "      <td>198910211</td>\n",
              "      <td>unknown</td>\n",
              "      <td>announcer</td>\n",
              "      <td>nan</td>\n",
              "      <td>nan</td>\n",
              "      <td>True</td>\n",
              "      <td>19891021</td>\n",
              "      <td>15</td>\n",
              "    </tr>\n",
              "    <tr>\n",
              "      <th>40788</th>\n",
              "      <td>Joel Godard</td>\n",
              "      <td>198910073</td>\n",
              "      <td>unknown</td>\n",
              "      <td>epilogue narrator</td>\n",
              "      <td>nan</td>\n",
              "      <td>nan</td>\n",
              "      <td>True</td>\n",
              "      <td>19891007</td>\n",
              "      <td>15</td>\n",
              "    </tr>\n",
              "    <tr>\n",
              "      <th>41102</th>\n",
              "      <td>John Henry Kurtz</td>\n",
              "      <td>1989041514</td>\n",
              "      <td>unknown</td>\n",
              "      <td>announcer</td>\n",
              "      <td>nan</td>\n",
              "      <td>nan</td>\n",
              "      <td>True</td>\n",
              "      <td>19890415</td>\n",
              "      <td>14</td>\n",
              "    </tr>\n",
              "    <tr>\n",
              "      <th>41746</th>\n",
              "      <td>John Henry Kurtz</td>\n",
              "      <td>198810224</td>\n",
              "      <td>unknown</td>\n",
              "      <td>narrator</td>\n",
              "      <td>nan</td>\n",
              "      <td>nan</td>\n",
              "      <td>True</td>\n",
              "      <td>19881022</td>\n",
              "      <td>14</td>\n",
              "    </tr>\n",
              "    <tr>\n",
              "      <th>42308</th>\n",
              "      <td>John Henry Kurtz</td>\n",
              "      <td>198711215</td>\n",
              "      <td>unknown</td>\n",
              "      <td>announcer</td>\n",
              "      <td>nan</td>\n",
              "      <td>nan</td>\n",
              "      <td>True</td>\n",
              "      <td>19871121</td>\n",
              "      <td>13</td>\n",
              "    </tr>\n",
              "    <tr>\n",
              "      <th>43441</th>\n",
              "      <td>John Henry Kurtz</td>\n",
              "      <td>198611088</td>\n",
              "      <td>unknown</td>\n",
              "      <td>announcer</td>\n",
              "      <td>nan</td>\n",
              "      <td>nan</td>\n",
              "      <td>True</td>\n",
              "      <td>19861108</td>\n",
              "      <td>12</td>\n",
              "    </tr>\n",
              "    <tr>\n",
              "      <th>43458</th>\n",
              "      <td>John Henry Kurtz</td>\n",
              "      <td>1986110813</td>\n",
              "      <td>unknown</td>\n",
              "      <td>announcer</td>\n",
              "      <td>nan</td>\n",
              "      <td>nan</td>\n",
              "      <td>True</td>\n",
              "      <td>19861108</td>\n",
              "      <td>12</td>\n",
              "    </tr>\n",
              "    <tr>\n",
              "      <th>46138</th>\n",
              "      <td>Jackson Beck</td>\n",
              "      <td>198310157</td>\n",
              "      <td>unknown</td>\n",
              "      <td>announcer</td>\n",
              "      <td>nan</td>\n",
              "      <td>nan</td>\n",
              "      <td>True</td>\n",
              "      <td>19831015</td>\n",
              "      <td>9</td>\n",
              "    </tr>\n",
              "    <tr>\n",
              "      <th>46411</th>\n",
              "      <td>Jackson Beck</td>\n",
              "      <td>198303191</td>\n",
              "      <td>unknown</td>\n",
              "      <td>announcer</td>\n",
              "      <td>nan</td>\n",
              "      <td>nan</td>\n",
              "      <td>True</td>\n",
              "      <td>19830319</td>\n",
              "      <td>8</td>\n",
              "    </tr>\n",
              "    <tr>\n",
              "      <th>46455</th>\n",
              "      <td>Jackson Beck</td>\n",
              "      <td>198303125</td>\n",
              "      <td>unknown</td>\n",
              "      <td>announcer</td>\n",
              "      <td>nan</td>\n",
              "      <td>nan</td>\n",
              "      <td>True</td>\n",
              "      <td>19830312</td>\n",
              "      <td>8</td>\n",
              "    </tr>\n",
              "    <tr>\n",
              "      <th>46467</th>\n",
              "      <td>Jackson Beck</td>\n",
              "      <td>198303128</td>\n",
              "      <td>unknown</td>\n",
              "      <td>announcer</td>\n",
              "      <td>nan</td>\n",
              "      <td>nan</td>\n",
              "      <td>True</td>\n",
              "      <td>19830312</td>\n",
              "      <td>8</td>\n",
              "    </tr>\n",
              "    <tr>\n",
              "      <th>46730</th>\n",
              "      <td>Jackson Beck</td>\n",
              "      <td>1983012216</td>\n",
              "      <td>unknown</td>\n",
              "      <td>announcer</td>\n",
              "      <td>nan</td>\n",
              "      <td>nan</td>\n",
              "      <td>True</td>\n",
              "      <td>19830122</td>\n",
              "      <td>8</td>\n",
              "    </tr>\n",
              "    <tr>\n",
              "      <th>46826</th>\n",
              "      <td>Jackson Beck</td>\n",
              "      <td>198211203</td>\n",
              "      <td>unknown</td>\n",
              "      <td>announcer</td>\n",
              "      <td>nan</td>\n",
              "      <td>nan</td>\n",
              "      <td>True</td>\n",
              "      <td>19821120</td>\n",
              "      <td>8</td>\n",
              "    </tr>\n",
              "    <tr>\n",
              "      <th>47111</th>\n",
              "      <td>Jackson Beck</td>\n",
              "      <td>198209256</td>\n",
              "      <td>unknown</td>\n",
              "      <td>announcer</td>\n",
              "      <td>nan</td>\n",
              "      <td>nan</td>\n",
              "      <td>True</td>\n",
              "      <td>19820925</td>\n",
              "      <td>8</td>\n",
              "    </tr>\n",
              "  </tbody>\n",
              "</table>\n",
              "</div>"
            ],
            "text/plain": [
              "                    aid         tid capacity  ...  voice      epid sid\n",
              "8037       Don Roy King   201511142  unknown  ...  False  20151114  41\n",
              "11831      Adam Epstein   201303025  unknown  ...   True  20130302  38\n",
              "12123      Adam Epstein   201301193  unknown  ...   True  20130119  38\n",
              "12749      Adam Epstein   201209153  unknown  ...   True  20120915  38\n",
              "12902      Adam Epstein   201205123  unknown  ...   True  20120512  37\n",
              "32608  John Henry Kurtz   199605181  unknown  ...   True  19960518  21\n",
              "32910  John Henry Kurtz  1996032311  unknown  ...   True  19960323  21\n",
              "33707  John Henry Kurtz   199509301  unknown  ...   True  19950930  21\n",
              "33830  John Henry Kurtz   199505063  unknown  ...   True  19950506  20\n",
              "34161  John Henry Kurtz   199502259  unknown  ...   True  19950225  20\n",
              "34302  John Henry Kurtz   199501213  unknown  ...   True  19950121  20\n",
              "34646  John Henry Kurtz  1994111911  unknown  ...   True  19941119  20\n",
              "34650  John Henry Kurtz  1994111913  unknown  ...   True  19941119  20\n",
              "34655  John Henry Kurtz  1994111915  unknown  ...   True  19941119  20\n",
              "35517  John Henry Kurtz   199402059  unknown  ...   True  19940205  19\n",
              "35669  John Henry Kurtz   199312114  unknown  ...   True  19931211  19\n",
              "35680  John Henry Kurtz   199312115  unknown  ...   True  19931211  19\n",
              "36266       Joel Godard   199305155  unknown  ...   True  19930515  18\n",
              "36510       Joel Godard   199303204  unknown  ...   True  19930320  18\n",
              "36894       Joel Godard  1993010914  unknown  ...   True  19930109  18\n",
              "37031  John Henry Kurtz   199211214  unknown  ...   True  19921121  18\n",
              "37074  John Henry Kurtz  1992112111  unknown  ...   True  19921121  18\n",
              "37082  John Henry Kurtz  1992112113  unknown  ...   True  19921121  18\n",
              "37313       Joel Godard  1992101010  unknown  ...   True  19921010  18\n",
              "37474  John Henry Kurtz   199205163  unknown  ...   True  19920516  17\n",
              "37721       Joel Godard   199203211  unknown  ...   True  19920321  17\n",
              "37726  John Henry Kurtz   199203213  unknown  ...   True  19920321  17\n",
              "38372  John Henry Kurtz  1991112316  unknown  ...   True  19911123  17\n",
              "38891       Joel Godard   199104205  unknown  ...   True  19910420  16\n",
              "39131       Joel Godard   199102231  unknown  ...   True  19910223  16\n",
              "39226  John Henry Kurtz  1991021612  unknown  ...   True  19910216  16\n",
              "39252  John Henry Kurtz   199102093  unknown  ...   True  19910209  16\n",
              "39315       Joel Godard   199101196  unknown  ...   True  19910119  16\n",
              "39415  John Henry Kurtz   199012153  unknown  ...   True  19901215  16\n",
              "39486  John Henry Kurtz   199012087  unknown  ...   True  19901208  16\n",
              "39529       Joel Godard   199012016  unknown  ...   True  19901201  16\n",
              "39534       Joel Godard   199012018  unknown  ...   True  19901201  16\n",
              "39684  John Henry Kurtz   199010275  unknown  ...   True  19901027  16\n",
              "39721  John Henry Kurtz  1990102715  unknown  ...   True  19901027  16\n",
              "40348  John Henry Kurtz   199001203  unknown  ...   True  19900120  15\n",
              "40593       Joel Godard  1989120212  unknown  ...   True  19891202  15\n",
              "40644  John Henry Kurtz   198911113  unknown  ...   True  19891111  15\n",
              "40728  John Henry Kurtz   198910211  unknown  ...   True  19891021  15\n",
              "40788       Joel Godard   198910073  unknown  ...   True  19891007  15\n",
              "41102  John Henry Kurtz  1989041514  unknown  ...   True  19890415  14\n",
              "41746  John Henry Kurtz   198810224  unknown  ...   True  19881022  14\n",
              "42308  John Henry Kurtz   198711215  unknown  ...   True  19871121  13\n",
              "43441  John Henry Kurtz   198611088  unknown  ...   True  19861108  12\n",
              "43458  John Henry Kurtz  1986110813  unknown  ...   True  19861108  12\n",
              "46138      Jackson Beck   198310157  unknown  ...   True  19831015   9\n",
              "46411      Jackson Beck   198303191  unknown  ...   True  19830319   8\n",
              "46455      Jackson Beck   198303125  unknown  ...   True  19830312   8\n",
              "46467      Jackson Beck   198303128  unknown  ...   True  19830312   8\n",
              "46730      Jackson Beck  1983012216  unknown  ...   True  19830122   8\n",
              "46826      Jackson Beck   198211203  unknown  ...   True  19821120   8\n",
              "47111      Jackson Beck   198209256  unknown  ...   True  19820925   8\n",
              "\n",
              "[56 rows x 9 columns]"
            ]
          },
          "metadata": {},
          "execution_count": 34
        }
      ]
    },
    {
      "cell_type": "code",
      "metadata": {
        "scrolled": true,
        "colab": {
          "base_uri": "https://localhost:8080/"
        },
        "id": "9-nJhVmPAoUe",
        "outputId": "a24789b1-e481-4bed-b9a9-94d133537aac"
      },
      "source": [
        "# let's check the 'unknown'\n",
        "apps[apps.capacity=='unknown'].aid.unique()"
      ],
      "execution_count": null,
      "outputs": [
        {
          "output_type": "execute_result",
          "data": {
            "text/plain": [
              "array(['Don Roy King', 'Adam Epstein', 'John Henry Kurtz', 'Joel Godard',\n",
              "       'Jackson Beck'], dtype=object)"
            ]
          },
          "metadata": {},
          "execution_count": 35
        }
      ]
    },
    {
      "cell_type": "code",
      "metadata": {
        "scrolled": true,
        "colab": {
          "base_uri": "https://localhost:8080/"
        },
        "id": "z0jzKm5nAoUe",
        "outputId": "b4c7e459-d5a8-4280-b3cd-2de28f08a657"
      },
      "source": [
        "# let's check the 'unknown'\n",
        "apps[apps.capacity=='unknown'].role.unique()\n"
      ],
      "execution_count": null,
      "outputs": [
        {
          "output_type": "execute_result",
          "data": {
            "text/plain": [
              "array([nan, 'announcer', 'narrator', 'film narrator', 'epilogue narrator'],\n",
              "      dtype=object)"
            ]
          },
          "metadata": {},
          "execution_count": 36
        }
      ]
    },
    {
      "cell_type": "code",
      "metadata": {
        "id": "lArLwBtvAoUe"
      },
      "source": [
        "# mostly announcer or narrator.... lets just replace 'unknown' with either announcer or narrator.\n",
        "# dan roy kind has been the director of snl since 2006"
      ],
      "execution_count": null,
      "outputs": []
    },
    {
      "cell_type": "code",
      "metadata": {
        "id": "WDwtzimJAoUe"
      },
      "source": [
        "apps.capacity = apps.capacity.replace('unknown', 'narrator/announcer')\n"
      ],
      "execution_count": null,
      "outputs": []
    },
    {
      "cell_type": "code",
      "metadata": {
        "colab": {
          "base_uri": "https://localhost:8080/"
        },
        "id": "oSE39ZETAoUe",
        "outputId": "527be526-ac83-430e-bd9e-560881170127"
      },
      "source": [
        "apps.capacity.value_counts()"
      ],
      "execution_count": null,
      "outputs": [
        {
          "output_type": "execute_result",
          "data": {
            "text/plain": [
              "cast                  43986\n",
              "host                   6931\n",
              "music                  2051\n",
              "cameo                  1559\n",
              "filmed                  442\n",
              "guest                   207\n",
              "other                   123\n",
              "narrator/announcer       56\n",
              "Name: capacity, dtype: int64"
            ]
          },
          "metadata": {},
          "execution_count": 39
        }
      ]
    },
    {
      "cell_type": "code",
      "metadata": {
        "scrolled": false,
        "colab": {
          "base_uri": "https://localhost:8080/",
          "height": 414
        },
        "id": "Ec3vHnG3AoUf",
        "outputId": "bbc6ed01-1852-43ab-c394-159dccc56cb0"
      },
      "source": [
        "apps[apps.capacity=='other']"
      ],
      "execution_count": null,
      "outputs": [
        {
          "output_type": "execute_result",
          "data": {
            "text/html": [
              "<div>\n",
              "<style scoped>\n",
              "    .dataframe tbody tr th:only-of-type {\n",
              "        vertical-align: middle;\n",
              "    }\n",
              "\n",
              "    .dataframe tbody tr th {\n",
              "        vertical-align: top;\n",
              "    }\n",
              "\n",
              "    .dataframe thead th {\n",
              "        text-align: right;\n",
              "    }\n",
              "</style>\n",
              "<table border=\"1\" class=\"dataframe\">\n",
              "  <thead>\n",
              "    <tr style=\"text-align: right;\">\n",
              "      <th></th>\n",
              "      <th>aid</th>\n",
              "      <th>tid</th>\n",
              "      <th>capacity</th>\n",
              "      <th>role</th>\n",
              "      <th>charid</th>\n",
              "      <th>impid</th>\n",
              "      <th>voice</th>\n",
              "      <th>epid</th>\n",
              "      <th>sid</th>\n",
              "    </tr>\n",
              "  </thead>\n",
              "  <tbody>\n",
              "    <tr>\n",
              "      <th>25051</th>\n",
              "      <td>Jack Handey</td>\n",
              "      <td>2003021514</td>\n",
              "      <td>other</td>\n",
              "      <td>NaN</td>\n",
              "      <td>nan</td>\n",
              "      <td>nan</td>\n",
              "      <td>False</td>\n",
              "      <td>20030215</td>\n",
              "      <td>28</td>\n",
              "    </tr>\n",
              "    <tr>\n",
              "      <th>25433</th>\n",
              "      <td>Jack Handey</td>\n",
              "      <td>2002111613</td>\n",
              "      <td>other</td>\n",
              "      <td>NaN</td>\n",
              "      <td>nan</td>\n",
              "      <td>nan</td>\n",
              "      <td>False</td>\n",
              "      <td>20021116</td>\n",
              "      <td>28</td>\n",
              "    </tr>\n",
              "    <tr>\n",
              "      <th>25592</th>\n",
              "      <td>Jack Handey</td>\n",
              "      <td>2002101911</td>\n",
              "      <td>other</td>\n",
              "      <td>NaN</td>\n",
              "      <td>nan</td>\n",
              "      <td>nan</td>\n",
              "      <td>False</td>\n",
              "      <td>20021019</td>\n",
              "      <td>28</td>\n",
              "    </tr>\n",
              "    <tr>\n",
              "      <th>25899</th>\n",
              "      <td>Jack Handey</td>\n",
              "      <td>2002051114</td>\n",
              "      <td>other</td>\n",
              "      <td>NaN</td>\n",
              "      <td>nan</td>\n",
              "      <td>nan</td>\n",
              "      <td>False</td>\n",
              "      <td>20020511</td>\n",
              "      <td>27</td>\n",
              "    </tr>\n",
              "    <tr>\n",
              "      <th>25977</th>\n",
              "      <td>Jack Handey</td>\n",
              "      <td>2002042015</td>\n",
              "      <td>other</td>\n",
              "      <td>NaN</td>\n",
              "      <td>nan</td>\n",
              "      <td>nan</td>\n",
              "      <td>False</td>\n",
              "      <td>20020420</td>\n",
              "      <td>27</td>\n",
              "    </tr>\n",
              "    <tr>\n",
              "      <th>...</th>\n",
              "      <td>...</td>\n",
              "      <td>...</td>\n",
              "      <td>...</td>\n",
              "      <td>...</td>\n",
              "      <td>...</td>\n",
              "      <td>...</td>\n",
              "      <td>...</td>\n",
              "      <td>...</td>\n",
              "      <td>...</td>\n",
              "    </tr>\n",
              "    <tr>\n",
              "      <th>39279</th>\n",
              "      <td>Jack Handey</td>\n",
              "      <td>1991020911</td>\n",
              "      <td>other</td>\n",
              "      <td>NaN</td>\n",
              "      <td>nan</td>\n",
              "      <td>nan</td>\n",
              "      <td>False</td>\n",
              "      <td>19910209</td>\n",
              "      <td>16</td>\n",
              "    </tr>\n",
              "    <tr>\n",
              "      <th>39321</th>\n",
              "      <td>Jack Handey</td>\n",
              "      <td>199101197</td>\n",
              "      <td>other</td>\n",
              "      <td>NaN</td>\n",
              "      <td>nan</td>\n",
              "      <td>nan</td>\n",
              "      <td>False</td>\n",
              "      <td>19910119</td>\n",
              "      <td>16</td>\n",
              "    </tr>\n",
              "    <tr>\n",
              "      <th>39329</th>\n",
              "      <td>Jack Handey</td>\n",
              "      <td>199101199</td>\n",
              "      <td>other</td>\n",
              "      <td>NaN</td>\n",
              "      <td>nan</td>\n",
              "      <td>nan</td>\n",
              "      <td>False</td>\n",
              "      <td>19910119</td>\n",
              "      <td>16</td>\n",
              "    </tr>\n",
              "    <tr>\n",
              "      <th>39339</th>\n",
              "      <td>Jack Handey</td>\n",
              "      <td>1991011913</td>\n",
              "      <td>other</td>\n",
              "      <td>NaN</td>\n",
              "      <td>nan</td>\n",
              "      <td>nan</td>\n",
              "      <td>False</td>\n",
              "      <td>19910119</td>\n",
              "      <td>16</td>\n",
              "    </tr>\n",
              "    <tr>\n",
              "      <th>39347</th>\n",
              "      <td>Jack Handey</td>\n",
              "      <td>1991011915</td>\n",
              "      <td>other</td>\n",
              "      <td>NaN</td>\n",
              "      <td>nan</td>\n",
              "      <td>nan</td>\n",
              "      <td>False</td>\n",
              "      <td>19910119</td>\n",
              "      <td>16</td>\n",
              "    </tr>\n",
              "  </tbody>\n",
              "</table>\n",
              "<p>123 rows × 9 columns</p>\n",
              "</div>"
            ],
            "text/plain": [
              "               aid         tid capacity role charid impid  voice      epid  sid\n",
              "25051  Jack Handey  2003021514    other  NaN    nan   nan  False  20030215   28\n",
              "25433  Jack Handey  2002111613    other  NaN    nan   nan  False  20021116   28\n",
              "25592  Jack Handey  2002101911    other  NaN    nan   nan  False  20021019   28\n",
              "25899  Jack Handey  2002051114    other  NaN    nan   nan  False  20020511   27\n",
              "25977  Jack Handey  2002042015    other  NaN    nan   nan  False  20020420   27\n",
              "...            ...         ...      ...  ...    ...   ...    ...       ...  ...\n",
              "39279  Jack Handey  1991020911    other  NaN    nan   nan  False  19910209   16\n",
              "39321  Jack Handey   199101197    other  NaN    nan   nan  False  19910119   16\n",
              "39329  Jack Handey   199101199    other  NaN    nan   nan  False  19910119   16\n",
              "39339  Jack Handey  1991011913    other  NaN    nan   nan  False  19910119   16\n",
              "39347  Jack Handey  1991011915    other  NaN    nan   nan  False  19910119   16\n",
              "\n",
              "[123 rows x 9 columns]"
            ]
          },
          "metadata": {},
          "execution_count": 40
        }
      ]
    },
    {
      "cell_type": "code",
      "metadata": {
        "colab": {
          "base_uri": "https://localhost:8080/"
        },
        "id": "3ZPIVz9LAoUf",
        "outputId": "cb3fdec8-79a5-43b4-9677-a3919f1f4ee0"
      },
      "source": [
        "apps[apps.capacity=='other'].aid.unique()"
      ],
      "execution_count": null,
      "outputs": [
        {
          "output_type": "execute_result",
          "data": {
            "text/plain": [
              "array(['Jack Handey'], dtype=object)"
            ]
          },
          "metadata": {},
          "execution_count": 41
        }
      ]
    },
    {
      "cell_type": "code",
      "metadata": {
        "scrolled": true,
        "colab": {
          "base_uri": "https://localhost:8080/"
        },
        "id": "Wxz9H8ocAoUf",
        "outputId": "a16c6968-83f6-405f-e125-f053eb8b95a1"
      },
      "source": [
        "apps.capacity = apps.capacity.replace('other', 'narrator/announcer')\n",
        "apps.capacity.value_counts()"
      ],
      "execution_count": null,
      "outputs": [
        {
          "output_type": "execute_result",
          "data": {
            "text/plain": [
              "cast                  43986\n",
              "host                   6931\n",
              "music                  2051\n",
              "cameo                  1559\n",
              "filmed                  442\n",
              "guest                   207\n",
              "narrator/announcer      179\n",
              "Name: capacity, dtype: int64"
            ]
          },
          "metadata": {},
          "execution_count": 42
        }
      ]
    },
    {
      "cell_type": "code",
      "metadata": {
        "scrolled": true,
        "colab": {
          "base_uri": "https://localhost:8080/"
        },
        "id": "t_ekp0SfAoUf",
        "outputId": "46bdabdf-d4dc-402a-8b60-c948a04eaa8a"
      },
      "source": [
        "# how are guest and cameo different?\n",
        "# change all guests to cameo\n",
        "print(apps[apps.capacity=='guest'].role.unique())\n",
        "print(apps[apps.capacity=='cameo'].role.unique())"
      ],
      "execution_count": null,
      "outputs": [
        {
          "output_type": "stream",
          "name": "stdout",
          "text": [
            "[nan 'Bernard' 'Captain Kidd' 'Hare' 'Wayne Little' 'Jim Preston'\n",
            " 'Bob Dole' 'Elwood Blues' 'Irwin Mainway' 'Ernesto' 'Ron Wood'\n",
            " 'Sister Maria' 'Therese Decastiglione' 'George Bush' 'Charles Grodin'\n",
            " 'Tom Snyder' 'Rush Limbaugh' 'Robert Stack' 'miner' 'Hillary Clinton'\n",
            " \"Curley's wife\" 'Father Guido Sarducci' 'Jean Marsh' 'Mary Jo Buttafuoco'\n",
            " 'Ellen' \"Sinead O'Connor\" 'Mia Farrow' 'Angelo Brignara' 'Carl'\n",
            " 'Golda Meir' 'Princess Paulina' 'trekkie' 'patron' 'Dave' 'Mars Blackmon'\n",
            " 'butler' 'marine' 'Ted' 'Jody Hagler' 'Fernando Lamas' 'Carlo Zambini'\n",
            " \"W. Barrington D'Arcy\" 'Topol' 'Elvis' 'Queen Elizabeth' 'Farrah Fawcett'\n",
            " 'Crystal' 'Ernestine' 'guy' 'Judith Beasley' 'Susie' 'Tess DiSenzo'\n",
            " 'Ricky Ricardo' 'Youngblood' 'Bingo Futaba' 'Dwayne Christiansen' 'Polly'\n",
            " 'priest' 'dancer']\n",
            "[nan 'Doug Emhoff' 'Kamala Harris' 'Donald Trump' 'Joe Biden' 'executive'\n",
            " 'Aunt Jemima' 'Lady Liberty' 'Kristen Welker' 'Blanche' 'Caviar' 'wife'\n",
            " 'Debbie Downer' 'Mike Bloomberg' 'Bernie Sanders' 'Amy Klobuchar'\n",
            " 'guy who travels in pajamas' 'Alan Dershowitz' 'Boris Johnson'\n",
            " 'Justin Trudeau' 'Emmanuel Macron' 'father' 'mother'\n",
            " 'Guy Who Knows The Owner' 'Bill Taylor' 'Recep Tayyip Erdogan'\n",
            " 'Apollo Benz' 'Julián Castro' 'Mike Pompeo' 'Robert Mueller' 'Pop-Pop'\n",
            " 'Mom' 'Melba Letzman-Toast' 'Julian Assange' 'Odafin Tutuola'\n",
            " 'Olivia Benson' 'Fifer James' 'Michael Cohen' 'Jim Jordan' 'Vince Blight'\n",
            " 'Roger Stone' 'captain' 'Mohammad bin Salman' 'Brett Kavanaugh'\n",
            " 'Michael Wolff' 'Rex Tillerson' \"Michael's step-mom\" 'Jared Kushner'\n",
            " 'Harold Bornstein' 'Ivanka Trump' 'Stuart' 'Shy' 'Dawn Lazarus' 'Patriot'\n",
            " 'Philadelphian' 'Steve Bannon' 'Tony Bennett' 'Sean Spicer'\n",
            " 'Denise McDenna' \"Bill O'Reilly\" 'baby' 'presenter'\n",
            " 'best friend from growing up' 'Walter White' 'Mitt Romney' 'Larry'\n",
            " 'Church Lady' 'Doug Hubbard' 'Denise McDonough' 'Doreen Troilo' 'Michael'\n",
            " 'Dilma Rousseff' 'parent' 'Charles Richards' 'Hansel' 'Derek Zoolander'\n",
            " 'Sarah Palin' 'Lola Fabray' 'Jodi Deitz' 'George W. Bush' 'Jim Webb'\n",
            " 'Val' 'Dr. Hankin' 'Dr. Evil' 'Kat' 'Garth' 'Raúl Castro' 'James Franco'\n",
            " 'Grandpa Lloyd' 'Kathie Lee Gifford' 'Beyoncé' 'Dwayne Vogelcheck'\n",
            " 'Mr. Vogelcheck' 'Mrs. Vogelcheck' 'nurse' 'Austin Vogelcheck'\n",
            " 'Tweedle-Dong' 'Stefon' 'David Paterson' 'guy' 'Lawrence Welk' 'Dooneese'\n",
            " 'drunk salesman' 'Hank' 'woman' 'Jesse Pinkman' 'Meth Nephew' 'Keitha'\n",
            " 'Radley Cooper' 'Ted Pelms' 'Peter Drunklage' 'singer' 'Yortuk Festrunk'\n",
            " 'Georg Festrunk' 'Peter Goldstein' 'Finton Worthington Carey'\n",
            " 'Kerry Lapkis' 'robot' 'Jim Lehrer' 'Johnny Prosciutto'\n",
            " 'Bobbi Mohan-Culp' 'Greg Stink' 'Hamilton' 'Admiral General Aladeen'\n",
            " 'Betty Caruso' 'Lou' 'Justin Vernon' 'Hillary Clinton' 'George'\n",
            " 'Patrice Donovan' 'Octo Olrich' 'Victor Heinz' 'Captain Steve Rogers'\n",
            " 'Whitney Houston' 'patron' 'Daniel Radcliffe' 'Barry Gibb' 'Leilani'\n",
            " 'customer' 'Carmela St. Knix' 'Steve Stink' 'Michael Caine'\n",
            " 'Wayne Campbell' 'announcer' 'Janice' 'Clara' 'Peggy' 'Jugglette'\n",
            " 'Margaret Jo McCullin' 'Terry Rialto' 'sister' 'Renada Montolles'\n",
            " 'Gingey' 'daughter' \"Sally O'Malley\" 'Sy Horowitz' 'enumerator'\n",
            " 'Jay Leno' 'Lou Dobbs' 'The Rock Obama' 'Matthew McConaughey' 'Lexi'\n",
            " 'Arnold Schwarzenegger' 'Burt Reynolds' 'Glenda Goodwin' 'Ted de Poleas'\n",
            " 'Irving' 'Jessica Rabbit' 'John Boehner' 'Kiki Deamore' 'dancer'\n",
            " 'Peggy Olson' 'Roger Sterling' 'Michelle Obama' 'Gwen Ifill' 'reporter'\n",
            " 'Obama Girl' 'Bill Richardson' 'audience member' 'Karen' 'Elton John'\n",
            " 'Azamat' 'Borat' 'James Lipton' 'Charles Lepani' 'Jiminy Glick'\n",
            " 'Ann Coulter' 'Robin Gibb' 'Brian Fellow' 'Booger' 'Martha Stewart'\n",
            " 'Gollum' 'Buddy Mills' 'Al Sharpton' 'Balthazar' 'actor' 'Mr. Deternent'\n",
            " 'Michael Gelman' 'Bob Swerski' 'Jerome Mills' 'Parker'\n",
            " 'Anna Nicole Smith' 'Big Dog' 'Bob Dole' 'Roger Klarvin' 'Stuart Smalley'\n",
            " 'Siegfried Fischbacher' 'Mormon' 'Judge Lindenwell' 'skank'\n",
            " 'Dr. Keith Vester' 'Elwood Blues' 'Leonard Pinth-Garnell' 'Land Shark'\n",
            " 'Jenna Bush' 'Donnie Bartalotti' 'Leon Phelps' 'Wilma Slossen'\n",
            " 'Brandy Lane' 'bride' 'George Bush' 'Linda Tripp' 'Ted' 'Ben Willis'\n",
            " 'Nathan Barnett' 'Alex Krycek' 'applicant' 'Ross Perot' 'George Michael'\n",
            " 'Woody Allen' 'Mr. Jenkins' 'Mr. Praline' 'clerk' 'Merriweather'\n",
            " 'Squiggy' 'Jake' 'Father Guido Sarducci' 'Antoine Merriweather'\n",
            " 'Mr. Pink' 'Jean-Marc' 'Doc' 'Garth Algar' 'Jennifer' 'Max' 'Danielle'\n",
            " 'Fergus' 'Giuliano Amato' 'Bill Swerski' \"Opera Man's brother\" 'Betsy'\n",
            " 'Liz Rosenberg' 'Wednesday Addams' 'Pugsley Addams' 'student' 'Froggy'\n",
            " 'son' 'John Connor' 'Paul' 'Annoying Man' 'Murtaugh' 'girl'\n",
            " 'Terry Halsey' 'Doug McKenzie' 'Bob McKenzie' 'musician' 'biker'\n",
            " 'Mick Belker' 'Red West' 'Juan Gavino' 'Dr. Jonathan Lear' 'leprechaun'\n",
            " 'Eleanor Gaunt' 'Dirk Savage' 'juror' 'Aunt Margie' 'Marlon Brando'\n",
            " 'mate' 'bee' 'jockey' 'Seattle Slew' 'doctor' 'narrator' 'Mrs. Radner']\n"
          ]
        }
      ]
    },
    {
      "cell_type": "code",
      "metadata": {
        "id": "2kAs98FwAoUf"
      },
      "source": [
        "# change guest to cameo since they seem to be same thing\n",
        "apps.capacity = apps.capacity.replace('guest', 'cameo')"
      ],
      "execution_count": null,
      "outputs": []
    },
    {
      "cell_type": "code",
      "metadata": {
        "id": "IBOSReUpAoUf"
      },
      "source": [
        "# theres only 6 actors with unknown roles or capacities, this can be googled. "
      ],
      "execution_count": null,
      "outputs": []
    },
    {
      "cell_type": "code",
      "metadata": {
        "colab": {
          "base_uri": "https://localhost:8080/"
        },
        "id": "lv0NcTnlAoUf",
        "outputId": "9b7bcc55-9921-4ffb-ee97-6bd6b3b477c8"
      },
      "source": [
        "# let's check the 'unknown'\n",
        "apps[apps.capacity=='cast'].role.unique()"
      ],
      "execution_count": null,
      "outputs": [
        {
          "output_type": "execute_result",
          "data": {
            "text/plain": [
              "array(['Joanne', 'Craig Matthew Yorgensen', 'anchor', ..., 'Mr. Kromer',\n",
              "       'Harvey Morgomaster', 'Mrs. Kromer'], dtype=object)"
            ]
          },
          "metadata": {},
          "execution_count": 46
        }
      ]
    },
    {
      "cell_type": "code",
      "metadata": {
        "scrolled": false,
        "colab": {
          "base_uri": "https://localhost:8080/",
          "height": 887
        },
        "id": "mmfaOyD9AoUf",
        "outputId": "b0b20317-8134-4fce-9408-e73c427b9699"
      },
      "source": [
        "apps.capacity.value_counts().plot(kind='pie', figsize=(14,14), fontsize=18)\n",
        "plt.tight_layout()\n",
        "plt.title('Makeup of SNL Appearances')\n",
        "plt.show()"
      ],
      "execution_count": null,
      "outputs": [
        {
          "output_type": "display_data",
          "data": {
            "image/png": "[encoded data removed]",
            "text/plain": [
              "<Figure size 1008x1008 with 1 Axes>"
            ]
          },
          "metadata": {}
        }
      ]
    },
    {
      "cell_type": "code",
      "metadata": {
        "scrolled": true,
        "colab": {
          "base_uri": "https://localhost:8080/"
        },
        "id": "r4obixpZAoUf",
        "outputId": "0630560c-69e0-42bd-c2a9-c19feb81e730"
      },
      "source": [
        "apps.capacity.value_counts()"
      ],
      "execution_count": null,
      "outputs": [
        {
          "output_type": "execute_result",
          "data": {
            "text/plain": [
              "cast                  43986\n",
              "host                   6931\n",
              "music                  2051\n",
              "cameo                  1766\n",
              "filmed                  442\n",
              "narrator/announcer      179\n",
              "Name: capacity, dtype: int64"
            ]
          },
          "metadata": {},
          "execution_count": 48
        }
      ]
    },
    {
      "cell_type": "code",
      "metadata": {
        "colab": {
          "base_uri": "https://localhost:8080/",
          "height": 202
        },
        "id": "APNRxI0qAoUf",
        "outputId": "a9340b1f-0b02-43a0-a55c-11b5750032aa"
      },
      "source": [
        "apps.head()"
      ],
      "execution_count": null,
      "outputs": [
        {
          "output_type": "execute_result",
          "data": {
            "text/html": [
              "<div>\n",
              "<style scoped>\n",
              "    .dataframe tbody tr th:only-of-type {\n",
              "        vertical-align: middle;\n",
              "    }\n",
              "\n",
              "    .dataframe tbody tr th {\n",
              "        vertical-align: top;\n",
              "    }\n",
              "\n",
              "    .dataframe thead th {\n",
              "        text-align: right;\n",
              "    }\n",
              "</style>\n",
              "<table border=\"1\" class=\"dataframe\">\n",
              "  <thead>\n",
              "    <tr style=\"text-align: right;\">\n",
              "      <th></th>\n",
              "      <th>aid</th>\n",
              "      <th>tid</th>\n",
              "      <th>capacity</th>\n",
              "      <th>role</th>\n",
              "      <th>charid</th>\n",
              "      <th>impid</th>\n",
              "      <th>voice</th>\n",
              "      <th>epid</th>\n",
              "      <th>sid</th>\n",
              "    </tr>\n",
              "  </thead>\n",
              "  <tbody>\n",
              "    <tr>\n",
              "      <th>0</th>\n",
              "      <td>Kate McKinnon</td>\n",
              "      <td>202104101</td>\n",
              "      <td>cast</td>\n",
              "      <td>Joanne</td>\n",
              "      <td>nan</td>\n",
              "      <td>nan</td>\n",
              "      <td>False</td>\n",
              "      <td>20210410</td>\n",
              "      <td>46</td>\n",
              "    </tr>\n",
              "    <tr>\n",
              "      <th>1</th>\n",
              "      <td>Alex Moffat</td>\n",
              "      <td>202104101</td>\n",
              "      <td>cast</td>\n",
              "      <td>Craig Matthew Yorgensen</td>\n",
              "      <td>nan</td>\n",
              "      <td>nan</td>\n",
              "      <td>False</td>\n",
              "      <td>20210410</td>\n",
              "      <td>46</td>\n",
              "    </tr>\n",
              "    <tr>\n",
              "      <th>2</th>\n",
              "      <td>Ego Nwodim</td>\n",
              "      <td>202104101</td>\n",
              "      <td>cast</td>\n",
              "      <td>anchor</td>\n",
              "      <td>nan</td>\n",
              "      <td>nan</td>\n",
              "      <td>False</td>\n",
              "      <td>20210410</td>\n",
              "      <td>46</td>\n",
              "    </tr>\n",
              "    <tr>\n",
              "      <th>3</th>\n",
              "      <td>Chris Redd</td>\n",
              "      <td>202104101</td>\n",
              "      <td>cast</td>\n",
              "      <td>Calvin</td>\n",
              "      <td>nan</td>\n",
              "      <td>nan</td>\n",
              "      <td>False</td>\n",
              "      <td>20210410</td>\n",
              "      <td>46</td>\n",
              "    </tr>\n",
              "    <tr>\n",
              "      <th>4</th>\n",
              "      <td>Kenan Thompson</td>\n",
              "      <td>202104101</td>\n",
              "      <td>cast</td>\n",
              "      <td>anchor</td>\n",
              "      <td>nan</td>\n",
              "      <td>nan</td>\n",
              "      <td>False</td>\n",
              "      <td>20210410</td>\n",
              "      <td>46</td>\n",
              "    </tr>\n",
              "  </tbody>\n",
              "</table>\n",
              "</div>"
            ],
            "text/plain": [
              "              aid        tid capacity  ...  voice      epid sid\n",
              "0   Kate McKinnon  202104101     cast  ...  False  20210410  46\n",
              "1     Alex Moffat  202104101     cast  ...  False  20210410  46\n",
              "2      Ego Nwodim  202104101     cast  ...  False  20210410  46\n",
              "3      Chris Redd  202104101     cast  ...  False  20210410  46\n",
              "4  Kenan Thompson  202104101     cast  ...  False  20210410  46\n",
              "\n",
              "[5 rows x 9 columns]"
            ]
          },
          "metadata": {},
          "execution_count": 49
        }
      ]
    },
    {
      "cell_type": "code",
      "metadata": {
        "colab": {
          "base_uri": "https://localhost:8080/",
          "height": 414
        },
        "id": "41MQx9VlAoUf",
        "outputId": "0a4ae03a-79bf-4ad9-c957-28d9dd84bd57"
      },
      "source": [
        "# how many appearances by each actor?\n",
        "# lets check out the music performances\n",
        "apps[apps.capacity=='music']\n",
        "\n",
        "# music appearances don't have charid or impid, not actual sketches"
      ],
      "execution_count": null,
      "outputs": [
        {
          "output_type": "execute_result",
          "data": {
            "text/html": [
              "<div>\n",
              "<style scoped>\n",
              "    .dataframe tbody tr th:only-of-type {\n",
              "        vertical-align: middle;\n",
              "    }\n",
              "\n",
              "    .dataframe tbody tr th {\n",
              "        vertical-align: top;\n",
              "    }\n",
              "\n",
              "    .dataframe thead th {\n",
              "        text-align: right;\n",
              "    }\n",
              "</style>\n",
              "<table border=\"1\" class=\"dataframe\">\n",
              "  <thead>\n",
              "    <tr style=\"text-align: right;\">\n",
              "      <th></th>\n",
              "      <th>aid</th>\n",
              "      <th>tid</th>\n",
              "      <th>capacity</th>\n",
              "      <th>role</th>\n",
              "      <th>charid</th>\n",
              "      <th>impid</th>\n",
              "      <th>voice</th>\n",
              "      <th>epid</th>\n",
              "      <th>sid</th>\n",
              "    </tr>\n",
              "  </thead>\n",
              "  <tbody>\n",
              "    <tr>\n",
              "      <th>22</th>\n",
              "      <td>Kid Cudi</td>\n",
              "      <td>202104106</td>\n",
              "      <td>music</td>\n",
              "      <td>NaN</td>\n",
              "      <td>nan</td>\n",
              "      <td>nan</td>\n",
              "      <td>False</td>\n",
              "      <td>20210410</td>\n",
              "      <td>46</td>\n",
              "    </tr>\n",
              "    <tr>\n",
              "      <th>28</th>\n",
              "      <td>Kid Cudi</td>\n",
              "      <td>202104107</td>\n",
              "      <td>music</td>\n",
              "      <td>NaN</td>\n",
              "      <td>nan</td>\n",
              "      <td>nan</td>\n",
              "      <td>False</td>\n",
              "      <td>20210410</td>\n",
              "      <td>46</td>\n",
              "    </tr>\n",
              "    <tr>\n",
              "      <th>54</th>\n",
              "      <td>Kid Cudi</td>\n",
              "      <td>2021041013</td>\n",
              "      <td>music</td>\n",
              "      <td>NaN</td>\n",
              "      <td>nan</td>\n",
              "      <td>nan</td>\n",
              "      <td>False</td>\n",
              "      <td>20210410</td>\n",
              "      <td>46</td>\n",
              "    </tr>\n",
              "    <tr>\n",
              "      <th>90</th>\n",
              "      <td>St. Vincent</td>\n",
              "      <td>202104037</td>\n",
              "      <td>music</td>\n",
              "      <td>NaN</td>\n",
              "      <td>nan</td>\n",
              "      <td>nan</td>\n",
              "      <td>False</td>\n",
              "      <td>20210403</td>\n",
              "      <td>46</td>\n",
              "    </tr>\n",
              "    <tr>\n",
              "      <th>115</th>\n",
              "      <td>St. Vincent</td>\n",
              "      <td>2021040311</td>\n",
              "      <td>music</td>\n",
              "      <td>NaN</td>\n",
              "      <td>nan</td>\n",
              "      <td>nan</td>\n",
              "      <td>False</td>\n",
              "      <td>20210403</td>\n",
              "      <td>46</td>\n",
              "    </tr>\n",
              "    <tr>\n",
              "      <th>...</th>\n",
              "      <td>...</td>\n",
              "      <td>...</td>\n",
              "      <td>...</td>\n",
              "      <td>...</td>\n",
              "      <td>...</td>\n",
              "      <td>...</td>\n",
              "      <td>...</td>\n",
              "      <td>...</td>\n",
              "      <td>...</td>\n",
              "    </tr>\n",
              "    <tr>\n",
              "      <th>55276</th>\n",
              "      <td>Phoebe Snow</td>\n",
              "      <td>1975101815</td>\n",
              "      <td>music</td>\n",
              "      <td>NaN</td>\n",
              "      <td>nan</td>\n",
              "      <td>nan</td>\n",
              "      <td>False</td>\n",
              "      <td>19751018</td>\n",
              "      <td>1</td>\n",
              "    </tr>\n",
              "    <tr>\n",
              "      <th>55289</th>\n",
              "      <td>Billy Preston</td>\n",
              "      <td>197510114</td>\n",
              "      <td>music</td>\n",
              "      <td>NaN</td>\n",
              "      <td>nan</td>\n",
              "      <td>nan</td>\n",
              "      <td>False</td>\n",
              "      <td>19751011</td>\n",
              "      <td>1</td>\n",
              "    </tr>\n",
              "    <tr>\n",
              "      <th>55302</th>\n",
              "      <td>Janis Ian</td>\n",
              "      <td>197510118</td>\n",
              "      <td>music</td>\n",
              "      <td>NaN</td>\n",
              "      <td>nan</td>\n",
              "      <td>nan</td>\n",
              "      <td>False</td>\n",
              "      <td>19751011</td>\n",
              "      <td>1</td>\n",
              "    </tr>\n",
              "    <tr>\n",
              "      <th>55348</th>\n",
              "      <td>Billy Preston</td>\n",
              "      <td>1975101122</td>\n",
              "      <td>music</td>\n",
              "      <td>NaN</td>\n",
              "      <td>nan</td>\n",
              "      <td>nan</td>\n",
              "      <td>False</td>\n",
              "      <td>19751011</td>\n",
              "      <td>1</td>\n",
              "    </tr>\n",
              "    <tr>\n",
              "      <th>55354</th>\n",
              "      <td>Janis Ian</td>\n",
              "      <td>1975101125</td>\n",
              "      <td>music</td>\n",
              "      <td>NaN</td>\n",
              "      <td>nan</td>\n",
              "      <td>nan</td>\n",
              "      <td>False</td>\n",
              "      <td>19751011</td>\n",
              "      <td>1</td>\n",
              "    </tr>\n",
              "  </tbody>\n",
              "</table>\n",
              "<p>2051 rows × 9 columns</p>\n",
              "</div>"
            ],
            "text/plain": [
              "                 aid         tid capacity role  ... impid  voice      epid sid\n",
              "22          Kid Cudi   202104106    music  NaN  ...   nan  False  20210410  46\n",
              "28          Kid Cudi   202104107    music  NaN  ...   nan  False  20210410  46\n",
              "54          Kid Cudi  2021041013    music  NaN  ...   nan  False  20210410  46\n",
              "90       St. Vincent   202104037    music  NaN  ...   nan  False  20210403  46\n",
              "115      St. Vincent  2021040311    music  NaN  ...   nan  False  20210403  46\n",
              "...              ...         ...      ...  ...  ...   ...    ...       ...  ..\n",
              "55276    Phoebe Snow  1975101815    music  NaN  ...   nan  False  19751018   1\n",
              "55289  Billy Preston   197510114    music  NaN  ...   nan  False  19751011   1\n",
              "55302      Janis Ian   197510118    music  NaN  ...   nan  False  19751011   1\n",
              "55348  Billy Preston  1975101122    music  NaN  ...   nan  False  19751011   1\n",
              "55354      Janis Ian  1975101125    music  NaN  ...   nan  False  19751011   1\n",
              "\n",
              "[2051 rows x 9 columns]"
            ]
          },
          "metadata": {},
          "execution_count": 50
        }
      ]
    },
    {
      "cell_type": "code",
      "metadata": {
        "colab": {
          "base_uri": "https://localhost:8080/"
        },
        "id": "d-WVRoW0AoUg",
        "outputId": "bbc1c501-0c31-40b2-e497-ad042b0686c0"
      },
      "source": [
        "actors.shape"
      ],
      "execution_count": null,
      "outputs": [
        {
          "output_type": "execute_result",
          "data": {
            "text/plain": [
              "(2306, 4)"
            ]
          },
          "metadata": {},
          "execution_count": 51
        }
      ]
    },
    {
      "cell_type": "code",
      "metadata": {
        "scrolled": true,
        "colab": {
          "base_uri": "https://localhost:8080/",
          "height": 202
        },
        "id": "rJj7vXiTAoUg",
        "outputId": "17316199-12ce-4bbf-f9f3-640fbb4cc71b"
      },
      "source": [
        "actors.head()"
      ],
      "execution_count": null,
      "outputs": [
        {
          "output_type": "execute_result",
          "data": {
            "text/html": [
              "<div>\n",
              "<style scoped>\n",
              "    .dataframe tbody tr th:only-of-type {\n",
              "        vertical-align: middle;\n",
              "    }\n",
              "\n",
              "    .dataframe tbody tr th {\n",
              "        vertical-align: top;\n",
              "    }\n",
              "\n",
              "    .dataframe thead th {\n",
              "        text-align: right;\n",
              "    }\n",
              "</style>\n",
              "<table border=\"1\" class=\"dataframe\">\n",
              "  <thead>\n",
              "    <tr style=\"text-align: right;\">\n",
              "      <th></th>\n",
              "      <th>aid</th>\n",
              "      <th>url</th>\n",
              "      <th>type</th>\n",
              "      <th>gender</th>\n",
              "    </tr>\n",
              "  </thead>\n",
              "  <tbody>\n",
              "    <tr>\n",
              "      <th>0</th>\n",
              "      <td>Kate McKinnon</td>\n",
              "      <td>/Cast/?KaMc</td>\n",
              "      <td>cast</td>\n",
              "      <td>female</td>\n",
              "    </tr>\n",
              "    <tr>\n",
              "      <th>1</th>\n",
              "      <td>Alex Moffat</td>\n",
              "      <td>/Cast/?AlMo</td>\n",
              "      <td>cast</td>\n",
              "      <td>male</td>\n",
              "    </tr>\n",
              "    <tr>\n",
              "      <th>2</th>\n",
              "      <td>Ego Nwodim</td>\n",
              "      <td>/Cast/?EgNw</td>\n",
              "      <td>cast</td>\n",
              "      <td>unknown</td>\n",
              "    </tr>\n",
              "    <tr>\n",
              "      <th>3</th>\n",
              "      <td>Chris Redd</td>\n",
              "      <td>/Cast/?ChRe</td>\n",
              "      <td>cast</td>\n",
              "      <td>male</td>\n",
              "    </tr>\n",
              "    <tr>\n",
              "      <th>4</th>\n",
              "      <td>Kenan Thompson</td>\n",
              "      <td>/Cast/?KeTh</td>\n",
              "      <td>cast</td>\n",
              "      <td>male</td>\n",
              "    </tr>\n",
              "  </tbody>\n",
              "</table>\n",
              "</div>"
            ],
            "text/plain": [
              "              aid          url  type   gender\n",
              "0   Kate McKinnon  /Cast/?KaMc  cast   female\n",
              "1     Alex Moffat  /Cast/?AlMo  cast     male\n",
              "2      Ego Nwodim  /Cast/?EgNw  cast  unknown\n",
              "3      Chris Redd  /Cast/?ChRe  cast     male\n",
              "4  Kenan Thompson  /Cast/?KeTh  cast     male"
            ]
          },
          "metadata": {},
          "execution_count": 52
        }
      ]
    },
    {
      "cell_type": "code",
      "metadata": {
        "scrolled": true,
        "colab": {
          "base_uri": "https://localhost:8080/"
        },
        "id": "3OOF9dqqAoUg",
        "outputId": "ca461316-f2ab-4bf5-de50-4de61dee21f9"
      },
      "source": [
        "actors.type.value_counts()"
      ],
      "execution_count": null,
      "outputs": [
        {
          "output_type": "execute_result",
          "data": {
            "text/plain": [
              "guest      1926\n",
              "crew        170\n",
              "cast        154\n",
              "unknown      56\n",
              "Name: type, dtype: int64"
            ]
          },
          "metadata": {},
          "execution_count": 53
        }
      ]
    },
    {
      "cell_type": "markdown",
      "metadata": {
        "id": "lZ9JEA2AGLso"
      },
      "source": [
        "### Conclusion on this section: Based on the makeup of people who have the majority of the 'appearances' on tv, cast members... For the rest of this study, I will focus on cast members."
      ]
    },
    {
      "cell_type": "markdown",
      "metadata": {
        "id": "Jyn2sstdAoUg"
      },
      "source": [
        "\n",
        "# 1. How has the role of women changed at SNL?\n",
        "Cast members hired?\n",
        "appearences by female cast members?\n",
        "\n",
        "Since cast members make up the overwhelming majority of people in the sketches, lets only focus on 'cast'\n",
        "\n",
        "\n",
        "We need the actors df which has the gender of each actor"
      ]
    },
    {
      "cell_type": "markdown",
      "metadata": {
        "id": "6JdAjW0dOltN"
      },
      "source": [
        "### Preliminary EDA"
      ]
    },
    {
      "cell_type": "code",
      "metadata": {
        "colab": {
          "base_uri": "https://localhost:8080/",
          "height": 202
        },
        "id": "fq4feqn-AoUg",
        "outputId": "6b0a2c32-0abd-4c9b-f50f-8497a9f9a1b9"
      },
      "source": [
        "apps.head()"
      ],
      "execution_count": null,
      "outputs": [
        {
          "output_type": "execute_result",
          "data": {
            "text/html": [
              "<div>\n",
              "<style scoped>\n",
              "    .dataframe tbody tr th:only-of-type {\n",
              "        vertical-align: middle;\n",
              "    }\n",
              "\n",
              "    .dataframe tbody tr th {\n",
              "        vertical-align: top;\n",
              "    }\n",
              "\n",
              "    .dataframe thead th {\n",
              "        text-align: right;\n",
              "    }\n",
              "</style>\n",
              "<table border=\"1\" class=\"dataframe\">\n",
              "  <thead>\n",
              "    <tr style=\"text-align: right;\">\n",
              "      <th></th>\n",
              "      <th>aid</th>\n",
              "      <th>tid</th>\n",
              "      <th>capacity</th>\n",
              "      <th>role</th>\n",
              "      <th>charid</th>\n",
              "      <th>impid</th>\n",
              "      <th>voice</th>\n",
              "      <th>epid</th>\n",
              "      <th>sid</th>\n",
              "    </tr>\n",
              "  </thead>\n",
              "  <tbody>\n",
              "    <tr>\n",
              "      <th>0</th>\n",
              "      <td>Kate McKinnon</td>\n",
              "      <td>202104101</td>\n",
              "      <td>cast</td>\n",
              "      <td>Joanne</td>\n",
              "      <td>nan</td>\n",
              "      <td>nan</td>\n",
              "      <td>False</td>\n",
              "      <td>20210410</td>\n",
              "      <td>46</td>\n",
              "    </tr>\n",
              "    <tr>\n",
              "      <th>1</th>\n",
              "      <td>Alex Moffat</td>\n",
              "      <td>202104101</td>\n",
              "      <td>cast</td>\n",
              "      <td>Craig Matthew Yorgensen</td>\n",
              "      <td>nan</td>\n",
              "      <td>nan</td>\n",
              "      <td>False</td>\n",
              "      <td>20210410</td>\n",
              "      <td>46</td>\n",
              "    </tr>\n",
              "    <tr>\n",
              "      <th>2</th>\n",
              "      <td>Ego Nwodim</td>\n",
              "      <td>202104101</td>\n",
              "      <td>cast</td>\n",
              "      <td>anchor</td>\n",
              "      <td>nan</td>\n",
              "      <td>nan</td>\n",
              "      <td>False</td>\n",
              "      <td>20210410</td>\n",
              "      <td>46</td>\n",
              "    </tr>\n",
              "    <tr>\n",
              "      <th>3</th>\n",
              "      <td>Chris Redd</td>\n",
              "      <td>202104101</td>\n",
              "      <td>cast</td>\n",
              "      <td>Calvin</td>\n",
              "      <td>nan</td>\n",
              "      <td>nan</td>\n",
              "      <td>False</td>\n",
              "      <td>20210410</td>\n",
              "      <td>46</td>\n",
              "    </tr>\n",
              "    <tr>\n",
              "      <th>4</th>\n",
              "      <td>Kenan Thompson</td>\n",
              "      <td>202104101</td>\n",
              "      <td>cast</td>\n",
              "      <td>anchor</td>\n",
              "      <td>nan</td>\n",
              "      <td>nan</td>\n",
              "      <td>False</td>\n",
              "      <td>20210410</td>\n",
              "      <td>46</td>\n",
              "    </tr>\n",
              "  </tbody>\n",
              "</table>\n",
              "</div>"
            ],
            "text/plain": [
              "              aid        tid capacity  ...  voice      epid sid\n",
              "0   Kate McKinnon  202104101     cast  ...  False  20210410  46\n",
              "1     Alex Moffat  202104101     cast  ...  False  20210410  46\n",
              "2      Ego Nwodim  202104101     cast  ...  False  20210410  46\n",
              "3      Chris Redd  202104101     cast  ...  False  20210410  46\n",
              "4  Kenan Thompson  202104101     cast  ...  False  20210410  46\n",
              "\n",
              "[5 rows x 9 columns]"
            ]
          },
          "metadata": {},
          "execution_count": 54
        }
      ]
    },
    {
      "cell_type": "code",
      "metadata": {
        "colab": {
          "base_uri": "https://localhost:8080/"
        },
        "id": "87DYRiWDAoUg",
        "outputId": "ed3446b7-b555-463e-e070-d18c00028a4a"
      },
      "source": [
        "#how many unique values in aid for apps and actors?\n",
        "print(len(apps.aid.unique()))\n",
        "print(len(actors.aid.unique()))"
      ],
      "execution_count": null,
      "outputs": [
        {
          "output_type": "stream",
          "name": "stdout",
          "text": [
            "2306\n",
            "2306\n"
          ]
        }
      ]
    },
    {
      "cell_type": "code",
      "metadata": {
        "scrolled": false,
        "colab": {
          "base_uri": "https://localhost:8080/"
        },
        "id": "sINu7UvpAoUg",
        "outputId": "fa49a3c2-a3b9-4095-b4cf-8d356b396d26"
      },
      "source": [
        "# We are going to merge the actors df to the apps df because we want the gender:\n",
        "# first we need to fill in the unknowns\n",
        "actors.info()"
      ],
      "execution_count": null,
      "outputs": [
        {
          "output_type": "stream",
          "name": "stdout",
          "text": [
            "<class 'pandas.core.frame.DataFrame'>\n",
            "RangeIndex: 2306 entries, 0 to 2305\n",
            "Data columns (total 4 columns):\n",
            " #   Column  Non-Null Count  Dtype \n",
            "---  ------  --------------  ----- \n",
            " 0   aid     2306 non-null   object\n",
            " 1   url     2249 non-null   object\n",
            " 2   type    2306 non-null   object\n",
            " 3   gender  2306 non-null   object\n",
            "dtypes: object(4)\n",
            "memory usage: 72.2+ KB\n"
          ]
        }
      ]
    },
    {
      "cell_type": "code",
      "metadata": {
        "colab": {
          "base_uri": "https://localhost:8080/"
        },
        "id": "Tbm6TXk3AoUg",
        "outputId": "e3a89b82-0f1c-40e9-8fec-d700a0146c28"
      },
      "source": [
        "#what is the type?\n",
        "actors.type.value_counts()\n",
        "# seems similar to capacity from the other df, but lets keep it for now"
      ],
      "execution_count": null,
      "outputs": [
        {
          "output_type": "execute_result",
          "data": {
            "text/plain": [
              "guest      1926\n",
              "crew        170\n",
              "cast        154\n",
              "unknown      56\n",
              "Name: type, dtype: int64"
            ]
          },
          "metadata": {},
          "execution_count": 57
        }
      ]
    },
    {
      "cell_type": "code",
      "metadata": {
        "scrolled": false,
        "colab": {
          "base_uri": "https://localhost:8080/",
          "height": 202
        },
        "id": "LlA-lboAAoUg",
        "outputId": "3a7d3792-dfcc-4e0b-fa38-1d5bb562f631"
      },
      "source": [
        "# drop the url column\n",
        "actors = actors.drop(columns=['url'], axis =1)\n",
        "actors.head()"
      ],
      "execution_count": null,
      "outputs": [
        {
          "output_type": "execute_result",
          "data": {
            "text/html": [
              "<div>\n",
              "<style scoped>\n",
              "    .dataframe tbody tr th:only-of-type {\n",
              "        vertical-align: middle;\n",
              "    }\n",
              "\n",
              "    .dataframe tbody tr th {\n",
              "        vertical-align: top;\n",
              "    }\n",
              "\n",
              "    .dataframe thead th {\n",
              "        text-align: right;\n",
              "    }\n",
              "</style>\n",
              "<table border=\"1\" class=\"dataframe\">\n",
              "  <thead>\n",
              "    <tr style=\"text-align: right;\">\n",
              "      <th></th>\n",
              "      <th>aid</th>\n",
              "      <th>type</th>\n",
              "      <th>gender</th>\n",
              "    </tr>\n",
              "  </thead>\n",
              "  <tbody>\n",
              "    <tr>\n",
              "      <th>0</th>\n",
              "      <td>Kate McKinnon</td>\n",
              "      <td>cast</td>\n",
              "      <td>female</td>\n",
              "    </tr>\n",
              "    <tr>\n",
              "      <th>1</th>\n",
              "      <td>Alex Moffat</td>\n",
              "      <td>cast</td>\n",
              "      <td>male</td>\n",
              "    </tr>\n",
              "    <tr>\n",
              "      <th>2</th>\n",
              "      <td>Ego Nwodim</td>\n",
              "      <td>cast</td>\n",
              "      <td>unknown</td>\n",
              "    </tr>\n",
              "    <tr>\n",
              "      <th>3</th>\n",
              "      <td>Chris Redd</td>\n",
              "      <td>cast</td>\n",
              "      <td>male</td>\n",
              "    </tr>\n",
              "    <tr>\n",
              "      <th>4</th>\n",
              "      <td>Kenan Thompson</td>\n",
              "      <td>cast</td>\n",
              "      <td>male</td>\n",
              "    </tr>\n",
              "  </tbody>\n",
              "</table>\n",
              "</div>"
            ],
            "text/plain": [
              "              aid  type   gender\n",
              "0   Kate McKinnon  cast   female\n",
              "1     Alex Moffat  cast     male\n",
              "2      Ego Nwodim  cast  unknown\n",
              "3      Chris Redd  cast     male\n",
              "4  Kenan Thompson  cast     male"
            ]
          },
          "metadata": {},
          "execution_count": 58
        }
      ]
    },
    {
      "cell_type": "code",
      "metadata": {
        "colab": {
          "base_uri": "https://localhost:8080/",
          "height": 202
        },
        "id": "xjmMiKkiAoUg",
        "outputId": "702637ff-8551-4662-ed5c-b87c0c553abf"
      },
      "source": [
        "actors_cast = actors[actors['type']=='cast']\n",
        "actors_cast.head()"
      ],
      "execution_count": null,
      "outputs": [
        {
          "output_type": "execute_result",
          "data": {
            "text/html": [
              "<div>\n",
              "<style scoped>\n",
              "    .dataframe tbody tr th:only-of-type {\n",
              "        vertical-align: middle;\n",
              "    }\n",
              "\n",
              "    .dataframe tbody tr th {\n",
              "        vertical-align: top;\n",
              "    }\n",
              "\n",
              "    .dataframe thead th {\n",
              "        text-align: right;\n",
              "    }\n",
              "</style>\n",
              "<table border=\"1\" class=\"dataframe\">\n",
              "  <thead>\n",
              "    <tr style=\"text-align: right;\">\n",
              "      <th></th>\n",
              "      <th>aid</th>\n",
              "      <th>type</th>\n",
              "      <th>gender</th>\n",
              "    </tr>\n",
              "  </thead>\n",
              "  <tbody>\n",
              "    <tr>\n",
              "      <th>0</th>\n",
              "      <td>Kate McKinnon</td>\n",
              "      <td>cast</td>\n",
              "      <td>female</td>\n",
              "    </tr>\n",
              "    <tr>\n",
              "      <th>1</th>\n",
              "      <td>Alex Moffat</td>\n",
              "      <td>cast</td>\n",
              "      <td>male</td>\n",
              "    </tr>\n",
              "    <tr>\n",
              "      <th>2</th>\n",
              "      <td>Ego Nwodim</td>\n",
              "      <td>cast</td>\n",
              "      <td>unknown</td>\n",
              "    </tr>\n",
              "    <tr>\n",
              "      <th>3</th>\n",
              "      <td>Chris Redd</td>\n",
              "      <td>cast</td>\n",
              "      <td>male</td>\n",
              "    </tr>\n",
              "    <tr>\n",
              "      <th>4</th>\n",
              "      <td>Kenan Thompson</td>\n",
              "      <td>cast</td>\n",
              "      <td>male</td>\n",
              "    </tr>\n",
              "  </tbody>\n",
              "</table>\n",
              "</div>"
            ],
            "text/plain": [
              "              aid  type   gender\n",
              "0   Kate McKinnon  cast   female\n",
              "1     Alex Moffat  cast     male\n",
              "2      Ego Nwodim  cast  unknown\n",
              "3      Chris Redd  cast     male\n",
              "4  Kenan Thompson  cast     male"
            ]
          },
          "metadata": {},
          "execution_count": 59
        }
      ]
    },
    {
      "cell_type": "code",
      "metadata": {
        "scrolled": false,
        "colab": {
          "base_uri": "https://localhost:8080/",
          "height": 110
        },
        "id": "J7T0XT0hAoUg",
        "outputId": "9eab00e6-84c8-400b-c256-67ae5411477d"
      },
      "source": [
        "# lets fill in the unknown genders manually\n",
        "actors_cast[actors_cast['gender']=='unknown']"
      ],
      "execution_count": null,
      "outputs": [
        {
          "output_type": "execute_result",
          "data": {
            "text/html": [
              "<div>\n",
              "<style scoped>\n",
              "    .dataframe tbody tr th:only-of-type {\n",
              "        vertical-align: middle;\n",
              "    }\n",
              "\n",
              "    .dataframe tbody tr th {\n",
              "        vertical-align: top;\n",
              "    }\n",
              "\n",
              "    .dataframe thead th {\n",
              "        text-align: right;\n",
              "    }\n",
              "</style>\n",
              "<table border=\"1\" class=\"dataframe\">\n",
              "  <thead>\n",
              "    <tr style=\"text-align: right;\">\n",
              "      <th></th>\n",
              "      <th>aid</th>\n",
              "      <th>type</th>\n",
              "      <th>gender</th>\n",
              "    </tr>\n",
              "  </thead>\n",
              "  <tbody>\n",
              "    <tr>\n",
              "      <th>2</th>\n",
              "      <td>Ego Nwodim</td>\n",
              "      <td>cast</td>\n",
              "      <td>unknown</td>\n",
              "    </tr>\n",
              "    <tr>\n",
              "      <th>20</th>\n",
              "      <td>Punkie Johnson</td>\n",
              "      <td>cast</td>\n",
              "      <td>unknown</td>\n",
              "    </tr>\n",
              "  </tbody>\n",
              "</table>\n",
              "</div>"
            ],
            "text/plain": [
              "               aid  type   gender\n",
              "2       Ego Nwodim  cast  unknown\n",
              "20  Punkie Johnson  cast  unknown"
            ]
          },
          "metadata": {},
          "execution_count": 60
        }
      ]
    },
    {
      "cell_type": "code",
      "metadata": {
        "colab": {
          "base_uri": "https://localhost:8080/"
        },
        "id": "4BHAPg9_AoUh",
        "outputId": "de68e9d6-72ce-433e-f369-94e509b8f817"
      },
      "source": [
        "actors_cast.gender = actors_cast.gender.replace(['unknown'], ['female'])"
      ],
      "execution_count": null,
      "outputs": [
        {
          "output_type": "stream",
          "name": "stderr",
          "text": [
            "/usr/local/lib/python3.7/dist-packages/pandas/core/generic.py:5170: SettingWithCopyWarning: \n",
            "A value is trying to be set on a copy of a slice from a DataFrame.\n",
            "Try using .loc[row_indexer,col_indexer] = value instead\n",
            "\n",
            "See the caveats in the documentation: https://pandas.pydata.org/pandas-docs/stable/user_guide/indexing.html#returning-a-view-versus-a-copy\n",
            "  self[name] = value\n"
          ]
        }
      ]
    },
    {
      "cell_type": "code",
      "metadata": {
        "scrolled": true,
        "colab": {
          "base_uri": "https://localhost:8080/",
          "height": 202
        },
        "id": "NjbReO1xAoUh",
        "outputId": "7183b5db-d256-4eac-b6dc-b3fe63a685fa"
      },
      "source": [
        "actors_cast.head()"
      ],
      "execution_count": null,
      "outputs": [
        {
          "output_type": "execute_result",
          "data": {
            "text/html": [
              "<div>\n",
              "<style scoped>\n",
              "    .dataframe tbody tr th:only-of-type {\n",
              "        vertical-align: middle;\n",
              "    }\n",
              "\n",
              "    .dataframe tbody tr th {\n",
              "        vertical-align: top;\n",
              "    }\n",
              "\n",
              "    .dataframe thead th {\n",
              "        text-align: right;\n",
              "    }\n",
              "</style>\n",
              "<table border=\"1\" class=\"dataframe\">\n",
              "  <thead>\n",
              "    <tr style=\"text-align: right;\">\n",
              "      <th></th>\n",
              "      <th>aid</th>\n",
              "      <th>type</th>\n",
              "      <th>gender</th>\n",
              "    </tr>\n",
              "  </thead>\n",
              "  <tbody>\n",
              "    <tr>\n",
              "      <th>0</th>\n",
              "      <td>Kate McKinnon</td>\n",
              "      <td>cast</td>\n",
              "      <td>female</td>\n",
              "    </tr>\n",
              "    <tr>\n",
              "      <th>1</th>\n",
              "      <td>Alex Moffat</td>\n",
              "      <td>cast</td>\n",
              "      <td>male</td>\n",
              "    </tr>\n",
              "    <tr>\n",
              "      <th>2</th>\n",
              "      <td>Ego Nwodim</td>\n",
              "      <td>cast</td>\n",
              "      <td>female</td>\n",
              "    </tr>\n",
              "    <tr>\n",
              "      <th>3</th>\n",
              "      <td>Chris Redd</td>\n",
              "      <td>cast</td>\n",
              "      <td>male</td>\n",
              "    </tr>\n",
              "    <tr>\n",
              "      <th>4</th>\n",
              "      <td>Kenan Thompson</td>\n",
              "      <td>cast</td>\n",
              "      <td>male</td>\n",
              "    </tr>\n",
              "  </tbody>\n",
              "</table>\n",
              "</div>"
            ],
            "text/plain": [
              "              aid  type  gender\n",
              "0   Kate McKinnon  cast  female\n",
              "1     Alex Moffat  cast    male\n",
              "2      Ego Nwodim  cast  female\n",
              "3      Chris Redd  cast    male\n",
              "4  Kenan Thompson  cast    male"
            ]
          },
          "metadata": {},
          "execution_count": 62
        }
      ]
    },
    {
      "cell_type": "code",
      "metadata": {
        "colab": {
          "base_uri": "https://localhost:8080/",
          "height": 414
        },
        "id": "stPduxcRAoUh",
        "outputId": "92f2d760-8942-42b2-ebd2-7ce0ae64461f"
      },
      "source": [
        "actors_cast"
      ],
      "execution_count": null,
      "outputs": [
        {
          "output_type": "execute_result",
          "data": {
            "text/html": [
              "<div>\n",
              "<style scoped>\n",
              "    .dataframe tbody tr th:only-of-type {\n",
              "        vertical-align: middle;\n",
              "    }\n",
              "\n",
              "    .dataframe tbody tr th {\n",
              "        vertical-align: top;\n",
              "    }\n",
              "\n",
              "    .dataframe thead th {\n",
              "        text-align: right;\n",
              "    }\n",
              "</style>\n",
              "<table border=\"1\" class=\"dataframe\">\n",
              "  <thead>\n",
              "    <tr style=\"text-align: right;\">\n",
              "      <th></th>\n",
              "      <th>aid</th>\n",
              "      <th>type</th>\n",
              "      <th>gender</th>\n",
              "    </tr>\n",
              "  </thead>\n",
              "  <tbody>\n",
              "    <tr>\n",
              "      <th>0</th>\n",
              "      <td>Kate McKinnon</td>\n",
              "      <td>cast</td>\n",
              "      <td>female</td>\n",
              "    </tr>\n",
              "    <tr>\n",
              "      <th>1</th>\n",
              "      <td>Alex Moffat</td>\n",
              "      <td>cast</td>\n",
              "      <td>male</td>\n",
              "    </tr>\n",
              "    <tr>\n",
              "      <th>2</th>\n",
              "      <td>Ego Nwodim</td>\n",
              "      <td>cast</td>\n",
              "      <td>female</td>\n",
              "    </tr>\n",
              "    <tr>\n",
              "      <th>3</th>\n",
              "      <td>Chris Redd</td>\n",
              "      <td>cast</td>\n",
              "      <td>male</td>\n",
              "    </tr>\n",
              "    <tr>\n",
              "      <th>4</th>\n",
              "      <td>Kenan Thompson</td>\n",
              "      <td>cast</td>\n",
              "      <td>male</td>\n",
              "    </tr>\n",
              "    <tr>\n",
              "      <th>...</th>\n",
              "      <td>...</td>\n",
              "      <td>...</td>\n",
              "      <td>...</td>\n",
              "    </tr>\n",
              "    <tr>\n",
              "      <th>2048</th>\n",
              "      <td>Peter Aykroyd</td>\n",
              "      <td>cast</td>\n",
              "      <td>male</td>\n",
              "    </tr>\n",
              "    <tr>\n",
              "      <th>2049</th>\n",
              "      <td>Jane Curtin</td>\n",
              "      <td>cast</td>\n",
              "      <td>female</td>\n",
              "    </tr>\n",
              "    <tr>\n",
              "      <th>2051</th>\n",
              "      <td>Laraine Newman</td>\n",
              "      <td>cast</td>\n",
              "      <td>female</td>\n",
              "    </tr>\n",
              "    <tr>\n",
              "      <th>2054</th>\n",
              "      <td>Gilda Radner</td>\n",
              "      <td>cast</td>\n",
              "      <td>female</td>\n",
              "    </tr>\n",
              "    <tr>\n",
              "      <th>2132</th>\n",
              "      <td>George Coe</td>\n",
              "      <td>cast</td>\n",
              "      <td>male</td>\n",
              "    </tr>\n",
              "  </tbody>\n",
              "</table>\n",
              "<p>154 rows × 3 columns</p>\n",
              "</div>"
            ],
            "text/plain": [
              "                 aid  type  gender\n",
              "0      Kate McKinnon  cast  female\n",
              "1        Alex Moffat  cast    male\n",
              "2         Ego Nwodim  cast  female\n",
              "3         Chris Redd  cast    male\n",
              "4     Kenan Thompson  cast    male\n",
              "...              ...   ...     ...\n",
              "2048   Peter Aykroyd  cast    male\n",
              "2049     Jane Curtin  cast  female\n",
              "2051  Laraine Newman  cast  female\n",
              "2054    Gilda Radner  cast  female\n",
              "2132      George Coe  cast    male\n",
              "\n",
              "[154 rows x 3 columns]"
            ]
          },
          "metadata": {},
          "execution_count": 63
        }
      ]
    },
    {
      "cell_type": "code",
      "metadata": {
        "colab": {
          "base_uri": "https://localhost:8080/",
          "height": 202
        },
        "id": "TFGjMem2AoUh",
        "outputId": "ee378824-d349-4034-bfd0-3a8ae38a46c8"
      },
      "source": [
        "appear = pd.merge(apps, actors_cast, how='left', on='aid')\n",
        "appear.head()"
      ],
      "execution_count": null,
      "outputs": [
        {
          "output_type": "execute_result",
          "data": {
            "text/html": [
              "<div>\n",
              "<style scoped>\n",
              "    .dataframe tbody tr th:only-of-type {\n",
              "        vertical-align: middle;\n",
              "    }\n",
              "\n",
              "    .dataframe tbody tr th {\n",
              "        vertical-align: top;\n",
              "    }\n",
              "\n",
              "    .dataframe thead th {\n",
              "        text-align: right;\n",
              "    }\n",
              "</style>\n",
              "<table border=\"1\" class=\"dataframe\">\n",
              "  <thead>\n",
              "    <tr style=\"text-align: right;\">\n",
              "      <th></th>\n",
              "      <th>aid</th>\n",
              "      <th>tid</th>\n",
              "      <th>capacity</th>\n",
              "      <th>role</th>\n",
              "      <th>charid</th>\n",
              "      <th>impid</th>\n",
              "      <th>voice</th>\n",
              "      <th>epid</th>\n",
              "      <th>sid</th>\n",
              "      <th>type</th>\n",
              "      <th>gender</th>\n",
              "    </tr>\n",
              "  </thead>\n",
              "  <tbody>\n",
              "    <tr>\n",
              "      <th>0</th>\n",
              "      <td>Kate McKinnon</td>\n",
              "      <td>202104101</td>\n",
              "      <td>cast</td>\n",
              "      <td>Joanne</td>\n",
              "      <td>nan</td>\n",
              "      <td>nan</td>\n",
              "      <td>False</td>\n",
              "      <td>20210410</td>\n",
              "      <td>46</td>\n",
              "      <td>cast</td>\n",
              "      <td>female</td>\n",
              "    </tr>\n",
              "    <tr>\n",
              "      <th>1</th>\n",
              "      <td>Alex Moffat</td>\n",
              "      <td>202104101</td>\n",
              "      <td>cast</td>\n",
              "      <td>Craig Matthew Yorgensen</td>\n",
              "      <td>nan</td>\n",
              "      <td>nan</td>\n",
              "      <td>False</td>\n",
              "      <td>20210410</td>\n",
              "      <td>46</td>\n",
              "      <td>cast</td>\n",
              "      <td>male</td>\n",
              "    </tr>\n",
              "    <tr>\n",
              "      <th>2</th>\n",
              "      <td>Ego Nwodim</td>\n",
              "      <td>202104101</td>\n",
              "      <td>cast</td>\n",
              "      <td>anchor</td>\n",
              "      <td>nan</td>\n",
              "      <td>nan</td>\n",
              "      <td>False</td>\n",
              "      <td>20210410</td>\n",
              "      <td>46</td>\n",
              "      <td>cast</td>\n",
              "      <td>female</td>\n",
              "    </tr>\n",
              "    <tr>\n",
              "      <th>3</th>\n",
              "      <td>Chris Redd</td>\n",
              "      <td>202104101</td>\n",
              "      <td>cast</td>\n",
              "      <td>Calvin</td>\n",
              "      <td>nan</td>\n",
              "      <td>nan</td>\n",
              "      <td>False</td>\n",
              "      <td>20210410</td>\n",
              "      <td>46</td>\n",
              "      <td>cast</td>\n",
              "      <td>male</td>\n",
              "    </tr>\n",
              "    <tr>\n",
              "      <th>4</th>\n",
              "      <td>Kenan Thompson</td>\n",
              "      <td>202104101</td>\n",
              "      <td>cast</td>\n",
              "      <td>anchor</td>\n",
              "      <td>nan</td>\n",
              "      <td>nan</td>\n",
              "      <td>False</td>\n",
              "      <td>20210410</td>\n",
              "      <td>46</td>\n",
              "      <td>cast</td>\n",
              "      <td>male</td>\n",
              "    </tr>\n",
              "  </tbody>\n",
              "</table>\n",
              "</div>"
            ],
            "text/plain": [
              "              aid        tid capacity  ... sid  type  gender\n",
              "0   Kate McKinnon  202104101     cast  ...  46  cast  female\n",
              "1     Alex Moffat  202104101     cast  ...  46  cast    male\n",
              "2      Ego Nwodim  202104101     cast  ...  46  cast  female\n",
              "3      Chris Redd  202104101     cast  ...  46  cast    male\n",
              "4  Kenan Thompson  202104101     cast  ...  46  cast    male\n",
              "\n",
              "[5 rows x 11 columns]"
            ]
          },
          "metadata": {},
          "execution_count": 64
        }
      ]
    },
    {
      "cell_type": "code",
      "metadata": {
        "scrolled": false,
        "colab": {
          "base_uri": "https://localhost:8080/"
        },
        "id": "r09WotOAAoUh",
        "outputId": "7131ade0-7e1d-4051-fbaf-746da9397dd9"
      },
      "source": [
        "appear.info()\n",
        "# tid is the sketch, and aid is actor. we only care about these and sid and gender. drop all else"
      ],
      "execution_count": null,
      "outputs": [
        {
          "output_type": "stream",
          "name": "stdout",
          "text": [
            "<class 'pandas.core.frame.DataFrame'>\n",
            "Int64Index: 55355 entries, 0 to 55354\n",
            "Data columns (total 11 columns):\n",
            " #   Column    Non-Null Count  Dtype \n",
            "---  ------    --------------  ----- \n",
            " 0   aid       55355 non-null  object\n",
            " 1   tid       55355 non-null  object\n",
            " 2   capacity  55355 non-null  object\n",
            " 3   role      43766 non-null  object\n",
            " 4   charid    55355 non-null  object\n",
            " 5   impid     55355 non-null  object\n",
            " 6   voice     55355 non-null  bool  \n",
            " 7   epid      55355 non-null  object\n",
            " 8   sid       55355 non-null  int64 \n",
            " 9   type      40430 non-null  object\n",
            " 10  gender    40430 non-null  object\n",
            "dtypes: bool(1), int64(1), object(9)\n",
            "memory usage: 4.7+ MB\n"
          ]
        }
      ]
    },
    {
      "cell_type": "code",
      "metadata": {
        "colab": {
          "base_uri": "https://localhost:8080/"
        },
        "id": "-h9JfMOwAoUh",
        "outputId": "9a5bb9fe-5d58-4af2-a777-3f8c9997ed54"
      },
      "source": [
        "appear.capacity.unique()"
      ],
      "execution_count": null,
      "outputs": [
        {
          "output_type": "execute_result",
          "data": {
            "text/plain": [
              "array(['cast', 'host', 'cameo', 'music', 'filmed', 'narrator/announcer'],\n",
              "      dtype=object)"
            ]
          },
          "metadata": {},
          "execution_count": 66
        }
      ]
    },
    {
      "cell_type": "code",
      "metadata": {
        "colab": {
          "base_uri": "https://localhost:8080/",
          "height": 202
        },
        "id": "tfUkIW0fAoUh",
        "outputId": "57e8bc5e-8009-4b89-a984-988ff42e1896"
      },
      "source": [
        "appear = appear.drop(columns=[ 'role', 'charid', 'voice','epid', 'type'], axis=1)\n",
        "appear.head()"
      ],
      "execution_count": null,
      "outputs": [
        {
          "output_type": "execute_result",
          "data": {
            "text/html": [
              "<div>\n",
              "<style scoped>\n",
              "    .dataframe tbody tr th:only-of-type {\n",
              "        vertical-align: middle;\n",
              "    }\n",
              "\n",
              "    .dataframe tbody tr th {\n",
              "        vertical-align: top;\n",
              "    }\n",
              "\n",
              "    .dataframe thead th {\n",
              "        text-align: right;\n",
              "    }\n",
              "</style>\n",
              "<table border=\"1\" class=\"dataframe\">\n",
              "  <thead>\n",
              "    <tr style=\"text-align: right;\">\n",
              "      <th></th>\n",
              "      <th>aid</th>\n",
              "      <th>tid</th>\n",
              "      <th>capacity</th>\n",
              "      <th>impid</th>\n",
              "      <th>sid</th>\n",
              "      <th>gender</th>\n",
              "    </tr>\n",
              "  </thead>\n",
              "  <tbody>\n",
              "    <tr>\n",
              "      <th>0</th>\n",
              "      <td>Kate McKinnon</td>\n",
              "      <td>202104101</td>\n",
              "      <td>cast</td>\n",
              "      <td>nan</td>\n",
              "      <td>46</td>\n",
              "      <td>female</td>\n",
              "    </tr>\n",
              "    <tr>\n",
              "      <th>1</th>\n",
              "      <td>Alex Moffat</td>\n",
              "      <td>202104101</td>\n",
              "      <td>cast</td>\n",
              "      <td>nan</td>\n",
              "      <td>46</td>\n",
              "      <td>male</td>\n",
              "    </tr>\n",
              "    <tr>\n",
              "      <th>2</th>\n",
              "      <td>Ego Nwodim</td>\n",
              "      <td>202104101</td>\n",
              "      <td>cast</td>\n",
              "      <td>nan</td>\n",
              "      <td>46</td>\n",
              "      <td>female</td>\n",
              "    </tr>\n",
              "    <tr>\n",
              "      <th>3</th>\n",
              "      <td>Chris Redd</td>\n",
              "      <td>202104101</td>\n",
              "      <td>cast</td>\n",
              "      <td>nan</td>\n",
              "      <td>46</td>\n",
              "      <td>male</td>\n",
              "    </tr>\n",
              "    <tr>\n",
              "      <th>4</th>\n",
              "      <td>Kenan Thompson</td>\n",
              "      <td>202104101</td>\n",
              "      <td>cast</td>\n",
              "      <td>nan</td>\n",
              "      <td>46</td>\n",
              "      <td>male</td>\n",
              "    </tr>\n",
              "  </tbody>\n",
              "</table>\n",
              "</div>"
            ],
            "text/plain": [
              "              aid        tid capacity impid  sid  gender\n",
              "0   Kate McKinnon  202104101     cast   nan   46  female\n",
              "1     Alex Moffat  202104101     cast   nan   46    male\n",
              "2      Ego Nwodim  202104101     cast   nan   46  female\n",
              "3      Chris Redd  202104101     cast   nan   46    male\n",
              "4  Kenan Thompson  202104101     cast   nan   46    male"
            ]
          },
          "metadata": {},
          "execution_count": 67
        }
      ]
    },
    {
      "cell_type": "code",
      "metadata": {
        "id": "hS5g4MeOAoUh"
      },
      "source": [
        "castonly = appear[appear.capacity=='cast']"
      ],
      "execution_count": null,
      "outputs": []
    },
    {
      "cell_type": "code",
      "metadata": {
        "colab": {
          "base_uri": "https://localhost:8080/"
        },
        "id": "gAfdYb_1AoUh",
        "outputId": "580a9fea-df90-4bd4-a174-e81dbb028607"
      },
      "source": [
        "castonly.info()"
      ],
      "execution_count": null,
      "outputs": [
        {
          "output_type": "stream",
          "name": "stdout",
          "text": [
            "<class 'pandas.core.frame.DataFrame'>\n",
            "Int64Index: 43986 entries, 0 to 55353\n",
            "Data columns (total 6 columns):\n",
            " #   Column    Non-Null Count  Dtype \n",
            "---  ------    --------------  ----- \n",
            " 0   aid       43986 non-null  object\n",
            " 1   tid       43986 non-null  object\n",
            " 2   capacity  43986 non-null  object\n",
            " 3   impid     43986 non-null  object\n",
            " 4   sid       43986 non-null  int64 \n",
            " 5   gender    39413 non-null  object\n",
            "dtypes: int64(1), object(5)\n",
            "memory usage: 2.3+ MB\n"
          ]
        }
      ]
    },
    {
      "cell_type": "code",
      "metadata": {
        "colab": {
          "base_uri": "https://localhost:8080/",
          "height": 355
        },
        "id": "kyCPoKdKAoUh",
        "outputId": "942c585a-8cc8-4567-ea15-701cbda57d1b"
      },
      "source": [
        "castonly.head(10)"
      ],
      "execution_count": null,
      "outputs": [
        {
          "output_type": "execute_result",
          "data": {
            "text/html": [
              "<div>\n",
              "<style scoped>\n",
              "    .dataframe tbody tr th:only-of-type {\n",
              "        vertical-align: middle;\n",
              "    }\n",
              "\n",
              "    .dataframe tbody tr th {\n",
              "        vertical-align: top;\n",
              "    }\n",
              "\n",
              "    .dataframe thead th {\n",
              "        text-align: right;\n",
              "    }\n",
              "</style>\n",
              "<table border=\"1\" class=\"dataframe\">\n",
              "  <thead>\n",
              "    <tr style=\"text-align: right;\">\n",
              "      <th></th>\n",
              "      <th>aid</th>\n",
              "      <th>tid</th>\n",
              "      <th>capacity</th>\n",
              "      <th>impid</th>\n",
              "      <th>sid</th>\n",
              "      <th>gender</th>\n",
              "    </tr>\n",
              "  </thead>\n",
              "  <tbody>\n",
              "    <tr>\n",
              "      <th>0</th>\n",
              "      <td>Kate McKinnon</td>\n",
              "      <td>202104101</td>\n",
              "      <td>cast</td>\n",
              "      <td>nan</td>\n",
              "      <td>46</td>\n",
              "      <td>female</td>\n",
              "    </tr>\n",
              "    <tr>\n",
              "      <th>1</th>\n",
              "      <td>Alex Moffat</td>\n",
              "      <td>202104101</td>\n",
              "      <td>cast</td>\n",
              "      <td>nan</td>\n",
              "      <td>46</td>\n",
              "      <td>male</td>\n",
              "    </tr>\n",
              "    <tr>\n",
              "      <th>2</th>\n",
              "      <td>Ego Nwodim</td>\n",
              "      <td>202104101</td>\n",
              "      <td>cast</td>\n",
              "      <td>nan</td>\n",
              "      <td>46</td>\n",
              "      <td>female</td>\n",
              "    </tr>\n",
              "    <tr>\n",
              "      <th>3</th>\n",
              "      <td>Chris Redd</td>\n",
              "      <td>202104101</td>\n",
              "      <td>cast</td>\n",
              "      <td>nan</td>\n",
              "      <td>46</td>\n",
              "      <td>male</td>\n",
              "    </tr>\n",
              "    <tr>\n",
              "      <th>4</th>\n",
              "      <td>Kenan Thompson</td>\n",
              "      <td>202104101</td>\n",
              "      <td>cast</td>\n",
              "      <td>nan</td>\n",
              "      <td>46</td>\n",
              "      <td>male</td>\n",
              "    </tr>\n",
              "    <tr>\n",
              "      <th>8</th>\n",
              "      <td>Aidy Bryant</td>\n",
              "      <td>202104103</td>\n",
              "      <td>cast</td>\n",
              "      <td>nan</td>\n",
              "      <td>46</td>\n",
              "      <td>female</td>\n",
              "    </tr>\n",
              "    <tr>\n",
              "      <th>9</th>\n",
              "      <td>Steve Higgins</td>\n",
              "      <td>202104103</td>\n",
              "      <td>cast</td>\n",
              "      <td>nan</td>\n",
              "      <td>46</td>\n",
              "      <td>NaN</td>\n",
              "    </tr>\n",
              "    <tr>\n",
              "      <th>10</th>\n",
              "      <td>Chris Redd</td>\n",
              "      <td>202104103</td>\n",
              "      <td>cast</td>\n",
              "      <td>nan</td>\n",
              "      <td>46</td>\n",
              "      <td>male</td>\n",
              "    </tr>\n",
              "    <tr>\n",
              "      <th>11</th>\n",
              "      <td>Kenan Thompson</td>\n",
              "      <td>202104103</td>\n",
              "      <td>cast</td>\n",
              "      <td>nan</td>\n",
              "      <td>46</td>\n",
              "      <td>male</td>\n",
              "    </tr>\n",
              "    <tr>\n",
              "      <th>13</th>\n",
              "      <td>Aidy Bryant</td>\n",
              "      <td>202104104</td>\n",
              "      <td>cast</td>\n",
              "      <td>nan</td>\n",
              "      <td>46</td>\n",
              "      <td>female</td>\n",
              "    </tr>\n",
              "  </tbody>\n",
              "</table>\n",
              "</div>"
            ],
            "text/plain": [
              "               aid        tid capacity impid  sid  gender\n",
              "0    Kate McKinnon  202104101     cast   nan   46  female\n",
              "1      Alex Moffat  202104101     cast   nan   46    male\n",
              "2       Ego Nwodim  202104101     cast   nan   46  female\n",
              "3       Chris Redd  202104101     cast   nan   46    male\n",
              "4   Kenan Thompson  202104101     cast   nan   46    male\n",
              "8      Aidy Bryant  202104103     cast   nan   46  female\n",
              "9    Steve Higgins  202104103     cast   nan   46     NaN\n",
              "10      Chris Redd  202104103     cast   nan   46    male\n",
              "11  Kenan Thompson  202104103     cast   nan   46    male\n",
              "13     Aidy Bryant  202104104     cast   nan   46  female"
            ]
          },
          "metadata": {},
          "execution_count": 70
        }
      ]
    },
    {
      "cell_type": "code",
      "metadata": {
        "scrolled": true,
        "colab": {
          "base_uri": "https://localhost:8080/",
          "height": 323
        },
        "id": "6XRKgDRvAoUh",
        "outputId": "2be5aa05-6962-4957-9b1c-82b2ccc54f3f"
      },
      "source": [
        "s = castonly['gender'].value_counts()\n",
        "\n",
        "s.plot.bar()\n",
        "plt.title('Total Number of Appearances by Cast Members')\n",
        "plt.ylabel('# of Sketches')"
      ],
      "execution_count": null,
      "outputs": [
        {
          "output_type": "execute_result",
          "data": {
            "text/plain": [
              "Text(0, 0.5, '# of Sketches')"
            ]
          },
          "metadata": {},
          "execution_count": 71
        },
        {
          "output_type": "display_data",
          "data": {
            "image/png": "[encoded data removed]",
            "text/plain": [
              "<Figure size 432x288 with 1 Axes>"
            ]
          },
          "metadata": {
            "needs_background": "light"
          }
        }
      ]
    },
    {
      "cell_type": "markdown",
      "metadata": {
        "id": "ZNCMuiLqHpgX"
      },
      "source": [
        "#### Conclusion from graph:\n",
        "There is an overwhelmingly higher number of appearances by males than females over the 46 seasons of shows. "
      ]
    },
    {
      "cell_type": "markdown",
      "metadata": {
        "id": "UgcFGZQTHpZA"
      },
      "source": [
        "### Let's look at the top 10 individual cast members"
      ]
    },
    {
      "cell_type": "code",
      "metadata": {
        "colab": {
          "base_uri": "https://localhost:8080/"
        },
        "id": "OkjiQRMZAoUh",
        "outputId": "a0bffa74-a79e-4885-e5b0-f1cde96fa086"
      },
      "source": [
        "top10 = castonly.aid.value_counts().head(10)\n",
        "top10"
      ],
      "execution_count": null,
      "outputs": [
        {
          "output_type": "execute_result",
          "data": {
            "text/plain": [
              "Kenan Thompson     1452\n",
              "Phil Hartman       1067\n",
              "Darrell Hammond    1042\n",
              "Fred Armisen        856\n",
              "Bill Hader          821\n",
              "Cecily Strong       811\n",
              "Kate McKinnon       789\n",
              "Bobby Moynihan      775\n",
              "Amy Poehler         756\n",
              "Beck Bennett        743\n",
              "Name: aid, dtype: int64"
            ]
          },
          "metadata": {},
          "execution_count": 72
        }
      ]
    },
    {
      "cell_type": "code",
      "metadata": {
        "scrolled": false,
        "colab": {
          "base_uri": "https://localhost:8080/"
        },
        "id": "hgmneDZYAoUh",
        "outputId": "eb005ad0-1ba8-4666-a7c5-6bb2a23bf7ec"
      },
      "source": [
        "top10.plot(kind = \"bar\", fontsize = 15, figsize=(12,8))\n",
        "plt.title(\"Top 10 Cast Members based on appearances in sketches\", fontsize = 15)\n",
        "plt.ylabel(\"# of sketches\", fontsize = 14)\n",
        "plt.show()"
      ],
      "execution_count": null,
      "outputs": [
        {
          "output_type": "display_data",
          "data": {
            "image/png": "[encoded data removed]",
            "text/plain": [
              "<Figure size 864x576 with 1 Axes>"
            ]
          },
          "metadata": {
            "needs_background": "light"
          }
        }
      ]
    },
    {
      "cell_type": "code",
      "metadata": {
        "scrolled": false,
        "colab": {
          "base_uri": "https://localhost:8080/"
        },
        "id": "LcsM-StJAoUh",
        "outputId": "7fb25ea8-896b-4902-d8f4-6119dfe7c9cd"
      },
      "source": [
        "pal = sns.color_palette()\n",
        "print(pal)\n",
        "sns.palplot(pal)"
      ],
      "execution_count": null,
      "outputs": [
        {
          "output_type": "stream",
          "name": "stdout",
          "text": [
            "[(0.27698, 0.46153, 0.93309), (0.10738, 0.81381, 0.83484), (0.38127, 0.98909, 0.42386), (0.82333, 0.91253, 0.20663), (0.99672, 0.60977, 0.17842), (0.8538, 0.2217, 0.02677)]\n"
          ]
        },
        {
          "output_type": "display_data",
          "data": {
            "image/png": "[encoded data removed]",
            "text/plain": [
              "<Figure size 432x72 with 1 Axes>"
            ]
          },
          "metadata": {
            "needs_background": "light"
          }
        }
      ]
    },
    {
      "cell_type": "code",
      "metadata": {
        "colab": {
          "base_uri": "https://localhost:8080/"
        },
        "id": "ar60JhG-AoUi",
        "outputId": "11335cd8-de2f-40f1-955a-bc9a706230dd"
      },
      "source": [
        "print(pal[0])"
      ],
      "execution_count": null,
      "outputs": [
        {
          "output_type": "stream",
          "name": "stdout",
          "text": [
            "(0.27698, 0.46153, 0.93309)\n"
          ]
        }
      ]
    },
    {
      "cell_type": "code",
      "metadata": {
        "colab": {
          "base_uri": "https://localhost:8080/"
        },
        "id": "1ggs6-tKAoUi",
        "outputId": "4fb8e268-3167-47f6-8aa0-f7f965740e90"
      },
      "source": [
        "sns.palplot(pal[0])"
      ],
      "execution_count": null,
      "outputs": [
        {
          "output_type": "display_data",
          "data": {
            "image/png": "[encoded data removed]",
            "text/plain": [
              "<Figure size 216x72 with 1 Axes>"
            ]
          },
          "metadata": {
            "needs_background": "light"
          }
        }
      ]
    },
    {
      "cell_type": "code",
      "metadata": {
        "scrolled": false,
        "colab": {
          "base_uri": "https://localhost:8080/"
        },
        "id": "CodwFbHEAoUi",
        "outputId": "671e5de7-e397-4a97-e30b-4e769e91bf82"
      },
      "source": [
        "sns.palplot(pal[1])"
      ],
      "execution_count": null,
      "outputs": [
        {
          "output_type": "display_data",
          "data": {
            "image/png": "[encoded data removed]",
            "text/plain": [
              "<Figure size 216x72 with 1 Axes>"
            ]
          },
          "metadata": {
            "needs_background": "light"
          }
        }
      ]
    },
    {
      "cell_type": "code",
      "metadata": {
        "id": "SAFKWdNNAoUi"
      },
      "source": [
        "b = pal[0]\n",
        "t = pal[1]"
      ],
      "execution_count": null,
      "outputs": []
    },
    {
      "cell_type": "code",
      "metadata": {
        "scrolled": false,
        "colab": {
          "base_uri": "https://localhost:8080/"
        },
        "id": "Gi9e84PgAoUi",
        "outputId": "46a6f914-4ee3-4286-e071-3d26dd73b80c"
      },
      "source": [
        "# plotting the females as teal and males as blue\n",
        "\n",
        "c = [b,b,b,b,b, t,t, b,t, b ]\n",
        " \n",
        "\n",
        "barlist = top10.plot.bar(x=[0], y=[1], fontsize = 15, figsize=(12,8), color=c)\n",
        "plt.title(\"Top 10 Cast Members based on appearances in sketches\", fontsize = 30)\n",
        "plt.ylabel(\"# of sketches\", fontsize = 20)\n",
        "#barlist[0].set_color('r')\n",
        "plt.show()    \n",
        "    \n",
        "    #bar plot\n",
        "#plt.bar(x, height = h, color = c)\n",
        " \n",
        "#plt.show()"
      ],
      "execution_count": null,
      "outputs": [
        {
          "output_type": "display_data",
          "data": {
            "image/png": "[encoded data removed]",
            "text/plain": [
              "<Figure size 864x576 with 1 Axes>"
            ]
          },
          "metadata": {
            "needs_background": "light"
          }
        }
      ]
    },
    {
      "cell_type": "code",
      "metadata": {
        "scrolled": true,
        "colab": {
          "base_uri": "https://localhost:8080/"
        },
        "id": "Zogdxn-TAoUi",
        "outputId": "a59c2edc-b530-4a26-a04f-1a46e7bad7fa"
      },
      "source": [
        "top20 = castonly.aid.value_counts().head(20)\n",
        "top20\n",
        "\n",
        "c = [b,b,b,b,b, t,t, b,t, b,b,b,t,b,b,b,b, t,b,t ]\n",
        " \n",
        "\n",
        "barlist = top20.plot.bar(x=[0], y=[1], fontsize = 15, figsize=(16,8), color=c)\n",
        "plt.title(\"Top 20 Cast Members based on appearances in sketches\", fontsize = 30)\n",
        "plt.ylabel(\"# of sketches\", fontsize = 20)\n",
        "#barlist[0].set_color('r')\n",
        "plt.show()  "
      ],
      "execution_count": null,
      "outputs": [
        {
          "output_type": "display_data",
          "data": {
            "image/png": "[encoded data removed]",
            "text/plain": [
              "<Figure size 1152x576 with 1 Axes>"
            ]
          },
          "metadata": {
            "needs_background": "light"
          }
        }
      ]
    },
    {
      "cell_type": "markdown",
      "metadata": {
        "id": "E5e94WX8AoUi"
      },
      "source": [
        "### Now let's plot the appearances to compare male and female in each season"
      ]
    },
    {
      "cell_type": "code",
      "metadata": {
        "colab": {
          "base_uri": "https://localhost:8080/"
        },
        "id": "O6ede7_tAoUi",
        "outputId": "ee0b0d9e-36c2-4b74-be31-e8f48ee676e4"
      },
      "source": [
        "\n",
        "\n",
        "plt.figure(figsize=(24,10))\n",
        "sns.set(font_scale=1.5, palette=palette)\n",
        "sns.countplot(data = castonly, x = \"sid\", hue = \"gender\")\n",
        "plt.title(\"Appearances in SNL Sketches by Season\", fontsize = 30)\n",
        "plt.xlabel('Season', fontsize=24)\n",
        "plt.ylabel('number of sketches', fontsize=24)\n",
        "plt.show()"
      ],
      "execution_count": null,
      "outputs": [
        {
          "output_type": "display_data",
          "data": {
            "image/png": "[encoded data removed]",
            "text/plain": [
              "<Figure size 1728x720 with 1 Axes>"
            ]
          },
          "metadata": {
            "needs_background": "light"
          }
        }
      ]
    },
    {
      "cell_type": "code",
      "metadata": {
        "scrolled": true,
        "colab": {
          "base_uri": "https://localhost:8080/"
        },
        "id": "zQIHO1dLAoUi",
        "outputId": "42736d40-510a-4edd-f2c3-3588c93312b0"
      },
      "source": [
        "# lets group by gender and season id so we can stack the bar plot\n",
        "df_plot = castonly.groupby(['gender', 'sid']).size().reset_index().pivot(columns='gender', index='sid', values=0)\n",
        "df_plot.head()"
      ],
      "execution_count": null,
      "outputs": [
        {
          "output_type": "execute_result",
          "data": {
            "text/html": [
              "<div>\n",
              "<style scoped>\n",
              "    .dataframe tbody tr th:only-of-type {\n",
              "        vertical-align: middle;\n",
              "    }\n",
              "\n",
              "    .dataframe tbody tr th {\n",
              "        vertical-align: top;\n",
              "    }\n",
              "\n",
              "    .dataframe thead th {\n",
              "        text-align: right;\n",
              "    }\n",
              "</style>\n",
              "<table border=\"1\" class=\"dataframe\">\n",
              "  <thead>\n",
              "    <tr style=\"text-align: right;\">\n",
              "      <th>gender</th>\n",
              "      <th>female</th>\n",
              "      <th>male</th>\n",
              "    </tr>\n",
              "    <tr>\n",
              "      <th>sid</th>\n",
              "      <th></th>\n",
              "      <th></th>\n",
              "    </tr>\n",
              "  </thead>\n",
              "  <tbody>\n",
              "    <tr>\n",
              "      <th>1</th>\n",
              "      <td>291</td>\n",
              "      <td>587</td>\n",
              "    </tr>\n",
              "    <tr>\n",
              "      <th>2</th>\n",
              "      <td>301</td>\n",
              "      <td>543</td>\n",
              "    </tr>\n",
              "    <tr>\n",
              "      <th>3</th>\n",
              "      <td>271</td>\n",
              "      <td>491</td>\n",
              "    </tr>\n",
              "    <tr>\n",
              "      <th>4</th>\n",
              "      <td>249</td>\n",
              "      <td>451</td>\n",
              "    </tr>\n",
              "    <tr>\n",
              "      <th>5</th>\n",
              "      <td>275</td>\n",
              "      <td>488</td>\n",
              "    </tr>\n",
              "  </tbody>\n",
              "</table>\n",
              "</div>"
            ],
            "text/plain": [
              "gender  female  male\n",
              "sid                 \n",
              "1          291   587\n",
              "2          301   543\n",
              "3          271   491\n",
              "4          249   451\n",
              "5          275   488"
            ]
          },
          "metadata": {},
          "execution_count": 82
        }
      ]
    },
    {
      "cell_type": "code",
      "metadata": {
        "scrolled": false,
        "colab": {
          "base_uri": "https://localhost:8080/"
        },
        "id": "emNFFSklAoUi",
        "outputId": "bff070d6-98d9-433f-e19d-a8b020b51ddf"
      },
      "source": [
        "# Lets try stacking the bar plot from above: \n",
        "df_plot.plot(kind='bar', stacked=True, figsize=(24,10)) \n",
        "sns.set_palette(palette)\n",
        "plt.title(\"Appearances in SNL Sketches by Season\", fontsize = 30)\n",
        "plt.xlabel('Season', fontsize=24)\n",
        "plt.ylabel('number of sketches', fontsize=24)\n",
        "plt.show()"
      ],
      "execution_count": null,
      "outputs": [
        {
          "output_type": "display_data",
          "data": {
            "image/png": "[encoded data removed]",
            "text/plain": [
              "<Figure size 1728x720 with 1 Axes>"
            ]
          },
          "metadata": {}
        }
      ]
    },
    {
      "cell_type": "code",
      "metadata": {
        "colab": {
          "base_uri": "https://localhost:8080/"
        },
        "id": "P-e590MFAoUi",
        "outputId": "eb39975e-1e58-443b-a239-e1ef87dd2dbb"
      },
      "source": [
        "df_plot.index"
      ],
      "execution_count": null,
      "outputs": [
        {
          "output_type": "execute_result",
          "data": {
            "text/plain": [
              "Int64Index([ 1,  2,  3,  4,  5,  6,  7,  8,  9, 10, 11, 12, 13, 14, 15, 16, 17,\n",
              "            18, 19, 20, 21, 22, 23, 24, 25, 26, 27, 28, 29, 30, 31, 32, 33, 34,\n",
              "            35, 36, 37, 38, 39, 40, 41, 42, 43, 44, 45, 46],\n",
              "           dtype='int64', name='sid')"
            ]
          },
          "metadata": {},
          "execution_count": 84
        }
      ]
    },
    {
      "cell_type": "code",
      "metadata": {
        "colab": {
          "base_uri": "https://localhost:8080/"
        },
        "id": "GrmQ064qAoUi",
        "outputId": "0c8e71e8-9326-42eb-bc82-152956606ef8"
      },
      "source": [
        "df_plot[df_plot.index==1][['female','male']]"
      ],
      "execution_count": null,
      "outputs": [
        {
          "output_type": "execute_result",
          "data": {
            "text/html": [
              "<div>\n",
              "<style scoped>\n",
              "    .dataframe tbody tr th:only-of-type {\n",
              "        vertical-align: middle;\n",
              "    }\n",
              "\n",
              "    .dataframe tbody tr th {\n",
              "        vertical-align: top;\n",
              "    }\n",
              "\n",
              "    .dataframe thead th {\n",
              "        text-align: right;\n",
              "    }\n",
              "</style>\n",
              "<table border=\"1\" class=\"dataframe\">\n",
              "  <thead>\n",
              "    <tr style=\"text-align: right;\">\n",
              "      <th>gender</th>\n",
              "      <th>female</th>\n",
              "      <th>male</th>\n",
              "    </tr>\n",
              "    <tr>\n",
              "      <th>sid</th>\n",
              "      <th></th>\n",
              "      <th></th>\n",
              "    </tr>\n",
              "  </thead>\n",
              "  <tbody>\n",
              "    <tr>\n",
              "      <th>1</th>\n",
              "      <td>291</td>\n",
              "      <td>587</td>\n",
              "    </tr>\n",
              "  </tbody>\n",
              "</table>\n",
              "</div>"
            ],
            "text/plain": [
              "gender  female  male\n",
              "sid                 \n",
              "1          291   587"
            ]
          },
          "metadata": {},
          "execution_count": 85
        }
      ]
    },
    {
      "cell_type": "code",
      "metadata": {
        "colab": {
          "base_uri": "https://localhost:8080/"
        },
        "id": "RmZXsZgpAoUj",
        "outputId": "6829c780-c82c-4e30-9772-6d24a4c5ab5e"
      },
      "source": [
        "df_plot[df_plot.index==23][['female','male']]"
      ],
      "execution_count": null,
      "outputs": [
        {
          "output_type": "execute_result",
          "data": {
            "text/html": [
              "<div>\n",
              "<style scoped>\n",
              "    .dataframe tbody tr th:only-of-type {\n",
              "        vertical-align: middle;\n",
              "    }\n",
              "\n",
              "    .dataframe tbody tr th {\n",
              "        vertical-align: top;\n",
              "    }\n",
              "\n",
              "    .dataframe thead th {\n",
              "        text-align: right;\n",
              "    }\n",
              "</style>\n",
              "<table border=\"1\" class=\"dataframe\">\n",
              "  <thead>\n",
              "    <tr style=\"text-align: right;\">\n",
              "      <th>gender</th>\n",
              "      <th>female</th>\n",
              "      <th>male</th>\n",
              "    </tr>\n",
              "    <tr>\n",
              "      <th>sid</th>\n",
              "      <th></th>\n",
              "      <th></th>\n",
              "    </tr>\n",
              "  </thead>\n",
              "  <tbody>\n",
              "    <tr>\n",
              "      <th>23</th>\n",
              "      <td>293</td>\n",
              "      <td>554</td>\n",
              "    </tr>\n",
              "  </tbody>\n",
              "</table>\n",
              "</div>"
            ],
            "text/plain": [
              "gender  female  male\n",
              "sid                 \n",
              "23         293   554"
            ]
          },
          "metadata": {},
          "execution_count": 86
        }
      ]
    },
    {
      "cell_type": "code",
      "metadata": {
        "scrolled": true,
        "colab": {
          "base_uri": "https://localhost:8080/"
        },
        "id": "2mGNGFsVAoUj",
        "outputId": "bd1dafc4-1893-4a87-e8c3-cc843297d329"
      },
      "source": [
        "df_plot[df_plot.index==46][['female','male']]"
      ],
      "execution_count": null,
      "outputs": [
        {
          "output_type": "execute_result",
          "data": {
            "text/html": [
              "<div>\n",
              "<style scoped>\n",
              "    .dataframe tbody tr th:only-of-type {\n",
              "        vertical-align: middle;\n",
              "    }\n",
              "\n",
              "    .dataframe tbody tr th {\n",
              "        vertical-align: top;\n",
              "    }\n",
              "\n",
              "    .dataframe thead th {\n",
              "        text-align: right;\n",
              "    }\n",
              "</style>\n",
              "<table border=\"1\" class=\"dataframe\">\n",
              "  <thead>\n",
              "    <tr style=\"text-align: right;\">\n",
              "      <th>gender</th>\n",
              "      <th>female</th>\n",
              "      <th>male</th>\n",
              "    </tr>\n",
              "    <tr>\n",
              "      <th>sid</th>\n",
              "      <th></th>\n",
              "      <th></th>\n",
              "    </tr>\n",
              "  </thead>\n",
              "  <tbody>\n",
              "    <tr>\n",
              "      <th>46</th>\n",
              "      <td>357</td>\n",
              "      <td>475</td>\n",
              "    </tr>\n",
              "  </tbody>\n",
              "</table>\n",
              "</div>"
            ],
            "text/plain": [
              "gender  female  male\n",
              "sid                 \n",
              "46         357   475"
            ]
          },
          "metadata": {},
          "execution_count": 87
        }
      ]
    },
    {
      "cell_type": "code",
      "metadata": {
        "scrolled": true,
        "colab": {
          "base_uri": "https://localhost:8080/"
        },
        "id": "6cszihm0AoUj",
        "outputId": "7a569d66-1935-423f-a361-a11daff30eb7"
      },
      "source": [
        "seasons[seasons.index==22]"
      ],
      "execution_count": null,
      "outputs": [
        {
          "output_type": "execute_result",
          "data": {
            "text/html": [
              "<div>\n",
              "<style scoped>\n",
              "    .dataframe tbody tr th:only-of-type {\n",
              "        vertical-align: middle;\n",
              "    }\n",
              "\n",
              "    .dataframe tbody tr th {\n",
              "        vertical-align: top;\n",
              "    }\n",
              "\n",
              "    .dataframe thead th {\n",
              "        text-align: right;\n",
              "    }\n",
              "</style>\n",
              "<table border=\"1\" class=\"dataframe\">\n",
              "  <thead>\n",
              "    <tr style=\"text-align: right;\">\n",
              "      <th></th>\n",
              "      <th>sid</th>\n",
              "      <th>year</th>\n",
              "      <th>first_epid</th>\n",
              "      <th>last_epid</th>\n",
              "      <th>n_episodes</th>\n",
              "    </tr>\n",
              "  </thead>\n",
              "  <tbody>\n",
              "    <tr>\n",
              "      <th>22</th>\n",
              "      <td>23</td>\n",
              "      <td>1997</td>\n",
              "      <td>19970927</td>\n",
              "      <td>19980509</td>\n",
              "      <td>20</td>\n",
              "    </tr>\n",
              "  </tbody>\n",
              "</table>\n",
              "</div>"
            ],
            "text/plain": [
              "    sid  year  first_epid  last_epid  n_episodes\n",
              "22   23  1997    19970927   19980509          20"
            ]
          },
          "metadata": {},
          "execution_count": 88
        }
      ]
    },
    {
      "cell_type": "code",
      "metadata": {
        "colab": {
          "base_uri": "https://localhost:8080/"
        },
        "id": "A-rlzyKUAoUj",
        "outputId": "1dd6c214-343f-4c1a-d02a-e5f3a2da31ee"
      },
      "source": [
        "seasons[seasons.index==45]"
      ],
      "execution_count": null,
      "outputs": [
        {
          "output_type": "execute_result",
          "data": {
            "text/html": [
              "<div>\n",
              "<style scoped>\n",
              "    .dataframe tbody tr th:only-of-type {\n",
              "        vertical-align: middle;\n",
              "    }\n",
              "\n",
              "    .dataframe tbody tr th {\n",
              "        vertical-align: top;\n",
              "    }\n",
              "\n",
              "    .dataframe thead th {\n",
              "        text-align: right;\n",
              "    }\n",
              "</style>\n",
              "<table border=\"1\" class=\"dataframe\">\n",
              "  <thead>\n",
              "    <tr style=\"text-align: right;\">\n",
              "      <th></th>\n",
              "      <th>sid</th>\n",
              "      <th>year</th>\n",
              "      <th>first_epid</th>\n",
              "      <th>last_epid</th>\n",
              "      <th>n_episodes</th>\n",
              "    </tr>\n",
              "  </thead>\n",
              "  <tbody>\n",
              "    <tr>\n",
              "      <th>45</th>\n",
              "      <td>46</td>\n",
              "      <td>2020</td>\n",
              "      <td>20201003</td>\n",
              "      <td>20210410</td>\n",
              "      <td>17</td>\n",
              "    </tr>\n",
              "  </tbody>\n",
              "</table>\n",
              "</div>"
            ],
            "text/plain": [
              "    sid  year  first_epid  last_epid  n_episodes\n",
              "45   46  2020    20201003   20210410          17"
            ]
          },
          "metadata": {},
          "execution_count": 89
        }
      ]
    },
    {
      "cell_type": "code",
      "metadata": {
        "scrolled": true,
        "colab": {
          "base_uri": "https://localhost:8080/"
        },
        "id": "F3p3N5wJAoUj",
        "outputId": "9bc34c6f-953d-45e3-9abf-c0321cb4fff3"
      },
      "source": [
        "df_plot.head()"
      ],
      "execution_count": null,
      "outputs": [
        {
          "output_type": "execute_result",
          "data": {
            "text/html": [
              "<div>\n",
              "<style scoped>\n",
              "    .dataframe tbody tr th:only-of-type {\n",
              "        vertical-align: middle;\n",
              "    }\n",
              "\n",
              "    .dataframe tbody tr th {\n",
              "        vertical-align: top;\n",
              "    }\n",
              "\n",
              "    .dataframe thead th {\n",
              "        text-align: right;\n",
              "    }\n",
              "</style>\n",
              "<table border=\"1\" class=\"dataframe\">\n",
              "  <thead>\n",
              "    <tr style=\"text-align: right;\">\n",
              "      <th>gender</th>\n",
              "      <th>female</th>\n",
              "      <th>male</th>\n",
              "    </tr>\n",
              "    <tr>\n",
              "      <th>sid</th>\n",
              "      <th></th>\n",
              "      <th></th>\n",
              "    </tr>\n",
              "  </thead>\n",
              "  <tbody>\n",
              "    <tr>\n",
              "      <th>1</th>\n",
              "      <td>291</td>\n",
              "      <td>587</td>\n",
              "    </tr>\n",
              "    <tr>\n",
              "      <th>2</th>\n",
              "      <td>301</td>\n",
              "      <td>543</td>\n",
              "    </tr>\n",
              "    <tr>\n",
              "      <th>3</th>\n",
              "      <td>271</td>\n",
              "      <td>491</td>\n",
              "    </tr>\n",
              "    <tr>\n",
              "      <th>4</th>\n",
              "      <td>249</td>\n",
              "      <td>451</td>\n",
              "    </tr>\n",
              "    <tr>\n",
              "      <th>5</th>\n",
              "      <td>275</td>\n",
              "      <td>488</td>\n",
              "    </tr>\n",
              "  </tbody>\n",
              "</table>\n",
              "</div>"
            ],
            "text/plain": [
              "gender  female  male\n",
              "sid                 \n",
              "1          291   587\n",
              "2          301   543\n",
              "3          271   491\n",
              "4          249   451\n",
              "5          275   488"
            ]
          },
          "metadata": {},
          "execution_count": 90
        }
      ]
    },
    {
      "cell_type": "markdown",
      "metadata": {
        "id": "G033wBy2AoUj"
      },
      "source": [
        "# 2. Does the number of impressions a cast member can do affect the number of sketches in which they appear?"
      ]
    },
    {
      "cell_type": "code",
      "metadata": {
        "id": "QlfQ1bVCAoUj"
      },
      "source": [
        "# lets look at imp df and actors"
      ],
      "execution_count": null,
      "outputs": []
    },
    {
      "cell_type": "code",
      "metadata": {
        "colab": {
          "base_uri": "https://localhost:8080/",
          "height": 414
        },
        "id": "mmbnBd1SAoUj",
        "outputId": "793d5cd2-92c7-41c6-ffb2-7d3ec9770475"
      },
      "source": [
        "actors_cast # a df that has the 154 cast members and their genders"
      ],
      "execution_count": null,
      "outputs": [
        {
          "output_type": "execute_result",
          "data": {
            "text/html": [
              "<div>\n",
              "<style scoped>\n",
              "    .dataframe tbody tr th:only-of-type {\n",
              "        vertical-align: middle;\n",
              "    }\n",
              "\n",
              "    .dataframe tbody tr th {\n",
              "        vertical-align: top;\n",
              "    }\n",
              "\n",
              "    .dataframe thead th {\n",
              "        text-align: right;\n",
              "    }\n",
              "</style>\n",
              "<table border=\"1\" class=\"dataframe\">\n",
              "  <thead>\n",
              "    <tr style=\"text-align: right;\">\n",
              "      <th></th>\n",
              "      <th>aid</th>\n",
              "      <th>type</th>\n",
              "      <th>gender</th>\n",
              "    </tr>\n",
              "  </thead>\n",
              "  <tbody>\n",
              "    <tr>\n",
              "      <th>0</th>\n",
              "      <td>Kate McKinnon</td>\n",
              "      <td>cast</td>\n",
              "      <td>female</td>\n",
              "    </tr>\n",
              "    <tr>\n",
              "      <th>1</th>\n",
              "      <td>Alex Moffat</td>\n",
              "      <td>cast</td>\n",
              "      <td>male</td>\n",
              "    </tr>\n",
              "    <tr>\n",
              "      <th>2</th>\n",
              "      <td>Ego Nwodim</td>\n",
              "      <td>cast</td>\n",
              "      <td>female</td>\n",
              "    </tr>\n",
              "    <tr>\n",
              "      <th>3</th>\n",
              "      <td>Chris Redd</td>\n",
              "      <td>cast</td>\n",
              "      <td>male</td>\n",
              "    </tr>\n",
              "    <tr>\n",
              "      <th>4</th>\n",
              "      <td>Kenan Thompson</td>\n",
              "      <td>cast</td>\n",
              "      <td>male</td>\n",
              "    </tr>\n",
              "    <tr>\n",
              "      <th>...</th>\n",
              "      <td>...</td>\n",
              "      <td>...</td>\n",
              "      <td>...</td>\n",
              "    </tr>\n",
              "    <tr>\n",
              "      <th>2048</th>\n",
              "      <td>Peter Aykroyd</td>\n",
              "      <td>cast</td>\n",
              "      <td>male</td>\n",
              "    </tr>\n",
              "    <tr>\n",
              "      <th>2049</th>\n",
              "      <td>Jane Curtin</td>\n",
              "      <td>cast</td>\n",
              "      <td>female</td>\n",
              "    </tr>\n",
              "    <tr>\n",
              "      <th>2051</th>\n",
              "      <td>Laraine Newman</td>\n",
              "      <td>cast</td>\n",
              "      <td>female</td>\n",
              "    </tr>\n",
              "    <tr>\n",
              "      <th>2054</th>\n",
              "      <td>Gilda Radner</td>\n",
              "      <td>cast</td>\n",
              "      <td>female</td>\n",
              "    </tr>\n",
              "    <tr>\n",
              "      <th>2132</th>\n",
              "      <td>George Coe</td>\n",
              "      <td>cast</td>\n",
              "      <td>male</td>\n",
              "    </tr>\n",
              "  </tbody>\n",
              "</table>\n",
              "<p>154 rows × 3 columns</p>\n",
              "</div>"
            ],
            "text/plain": [
              "                 aid  type  gender\n",
              "0      Kate McKinnon  cast  female\n",
              "1        Alex Moffat  cast    male\n",
              "2         Ego Nwodim  cast  female\n",
              "3         Chris Redd  cast    male\n",
              "4     Kenan Thompson  cast    male\n",
              "...              ...   ...     ...\n",
              "2048   Peter Aykroyd  cast    male\n",
              "2049     Jane Curtin  cast  female\n",
              "2051  Laraine Newman  cast  female\n",
              "2054    Gilda Radner  cast  female\n",
              "2132      George Coe  cast    male\n",
              "\n",
              "[154 rows x 3 columns]"
            ]
          },
          "metadata": {},
          "execution_count": 92
        }
      ]
    },
    {
      "cell_type": "code",
      "metadata": {
        "colab": {
          "base_uri": "https://localhost:8080/",
          "height": 202
        },
        "id": "He7oVq79AoUj",
        "outputId": "e01723db-b552-4fc3-9815-63b35acf0c35"
      },
      "source": [
        "imp.head()"
      ],
      "execution_count": null,
      "outputs": [
        {
          "output_type": "execute_result",
          "data": {
            "text/html": [
              "<div>\n",
              "<style scoped>\n",
              "    .dataframe tbody tr th:only-of-type {\n",
              "        vertical-align: middle;\n",
              "    }\n",
              "\n",
              "    .dataframe tbody tr th {\n",
              "        vertical-align: top;\n",
              "    }\n",
              "\n",
              "    .dataframe thead th {\n",
              "        text-align: right;\n",
              "    }\n",
              "</style>\n",
              "<table border=\"1\" class=\"dataframe\">\n",
              "  <thead>\n",
              "    <tr style=\"text-align: right;\">\n",
              "      <th></th>\n",
              "      <th>impid</th>\n",
              "      <th>aid</th>\n",
              "      <th>name</th>\n",
              "    </tr>\n",
              "  </thead>\n",
              "  <tbody>\n",
              "    <tr>\n",
              "      <th>0</th>\n",
              "      <td>4142</td>\n",
              "      <td>Chris Redd</td>\n",
              "      <td>Barack Obama</td>\n",
              "    </tr>\n",
              "    <tr>\n",
              "      <th>1</th>\n",
              "      <td>4143</td>\n",
              "      <td>Beck Bennett</td>\n",
              "      <td>Bruce Springsteen</td>\n",
              "    </tr>\n",
              "    <tr>\n",
              "      <th>2</th>\n",
              "      <td>4141</td>\n",
              "      <td>Pete Davidson</td>\n",
              "      <td>Matt Gaetz</td>\n",
              "    </tr>\n",
              "    <tr>\n",
              "      <th>3</th>\n",
              "      <td>4057</td>\n",
              "      <td>Chloe Fineman</td>\n",
              "      <td>Britney Spears</td>\n",
              "    </tr>\n",
              "    <tr>\n",
              "      <th>4</th>\n",
              "      <td>4140</td>\n",
              "      <td>Chris Redd</td>\n",
              "      <td>Lil Nas X</td>\n",
              "    </tr>\n",
              "  </tbody>\n",
              "</table>\n",
              "</div>"
            ],
            "text/plain": [
              "   impid            aid               name\n",
              "0   4142     Chris Redd       Barack Obama\n",
              "1   4143   Beck Bennett  Bruce Springsteen\n",
              "2   4141  Pete Davidson         Matt Gaetz\n",
              "3   4057  Chloe Fineman     Britney Spears\n",
              "4   4140     Chris Redd          Lil Nas X"
            ]
          },
          "metadata": {},
          "execution_count": 93
        }
      ]
    },
    {
      "cell_type": "code",
      "metadata": {
        "colab": {
          "base_uri": "https://localhost:8080/"
        },
        "id": "QKDcc_irAoUj",
        "outputId": "21c5b6a9-03fb-4eb9-d2e6-abf9f5fc57a1"
      },
      "source": [
        "imp.shape"
      ],
      "execution_count": null,
      "outputs": [
        {
          "output_type": "execute_result",
          "data": {
            "text/plain": [
              "(4115, 3)"
            ]
          },
          "metadata": {},
          "execution_count": 94
        }
      ]
    },
    {
      "cell_type": "code",
      "metadata": {
        "colab": {
          "base_uri": "https://localhost:8080/"
        },
        "id": "cYKHon3WAoUj",
        "outputId": "a59fec0b-94fa-4ac0-f286-b534a31c84f0"
      },
      "source": [
        "imp.info()"
      ],
      "execution_count": null,
      "outputs": [
        {
          "output_type": "stream",
          "name": "stdout",
          "text": [
            "<class 'pandas.core.frame.DataFrame'>\n",
            "RangeIndex: 4115 entries, 0 to 4114\n",
            "Data columns (total 3 columns):\n",
            " #   Column  Non-Null Count  Dtype \n",
            "---  ------  --------------  ----- \n",
            " 0   impid   4115 non-null   int64 \n",
            " 1   aid     4115 non-null   object\n",
            " 2   name    4115 non-null   object\n",
            "dtypes: int64(1), object(2)\n",
            "memory usage: 96.6+ KB\n"
          ]
        }
      ]
    },
    {
      "cell_type": "code",
      "metadata": {
        "scrolled": true,
        "colab": {
          "base_uri": "https://localhost:8080/"
        },
        "id": "VDJ1VMP8AoUj",
        "outputId": "b24179f7-4414-4600-e770-8a7cc1d7c4dd"
      },
      "source": [
        "#convert impid to object\n",
        "imp.impid = imp.impid.astype(str)\n",
        "imp.info()"
      ],
      "execution_count": null,
      "outputs": [
        {
          "output_type": "stream",
          "name": "stdout",
          "text": [
            "<class 'pandas.core.frame.DataFrame'>\n",
            "RangeIndex: 4115 entries, 0 to 4114\n",
            "Data columns (total 3 columns):\n",
            " #   Column  Non-Null Count  Dtype \n",
            "---  ------  --------------  ----- \n",
            " 0   impid   4115 non-null   object\n",
            " 1   aid     4115 non-null   object\n",
            " 2   name    4115 non-null   object\n",
            "dtypes: object(3)\n",
            "memory usage: 96.6+ KB\n"
          ]
        }
      ]
    },
    {
      "cell_type": "code",
      "metadata": {
        "scrolled": true,
        "colab": {
          "base_uri": "https://localhost:8080/"
        },
        "id": "ZAbFAhM8AoUk",
        "outputId": "cdec1c79-75b3-4e07-f190-bbd8b3adb72b"
      },
      "source": [
        "print(len(imp.impid.unique()))\n",
        "print(len(imp.aid.unique()))\n",
        "print(len(imp.name.unique()))"
      ],
      "execution_count": null,
      "outputs": [
        {
          "output_type": "stream",
          "name": "stdout",
          "text": [
            "4115\n",
            "473\n",
            "2854\n"
          ]
        }
      ]
    },
    {
      "cell_type": "code",
      "metadata": {
        "id": "ZOEF5mIBAoUk"
      },
      "source": [
        "# There are 4,115 unique impid's !!! \n",
        "# There are 473 actors doing 2854 impressions"
      ],
      "execution_count": null,
      "outputs": []
    },
    {
      "cell_type": "code",
      "metadata": {
        "colab": {
          "base_uri": "https://localhost:8080/",
          "height": 220
        },
        "id": "WTuHhkIFAoUk",
        "outputId": "a5015339-ca30-4c94-bd57-3b3d80e7d26e"
      },
      "source": [
        "# lets merge imp df with actors_cast df\n",
        "print(imp.shape)\n",
        "imp.head()"
      ],
      "execution_count": null,
      "outputs": [
        {
          "output_type": "stream",
          "name": "stdout",
          "text": [
            "(4115, 3)\n"
          ]
        },
        {
          "output_type": "execute_result",
          "data": {
            "text/html": [
              "<div>\n",
              "<style scoped>\n",
              "    .dataframe tbody tr th:only-of-type {\n",
              "        vertical-align: middle;\n",
              "    }\n",
              "\n",
              "    .dataframe tbody tr th {\n",
              "        vertical-align: top;\n",
              "    }\n",
              "\n",
              "    .dataframe thead th {\n",
              "        text-align: right;\n",
              "    }\n",
              "</style>\n",
              "<table border=\"1\" class=\"dataframe\">\n",
              "  <thead>\n",
              "    <tr style=\"text-align: right;\">\n",
              "      <th></th>\n",
              "      <th>impid</th>\n",
              "      <th>aid</th>\n",
              "      <th>name</th>\n",
              "    </tr>\n",
              "  </thead>\n",
              "  <tbody>\n",
              "    <tr>\n",
              "      <th>0</th>\n",
              "      <td>4142</td>\n",
              "      <td>Chris Redd</td>\n",
              "      <td>Barack Obama</td>\n",
              "    </tr>\n",
              "    <tr>\n",
              "      <th>1</th>\n",
              "      <td>4143</td>\n",
              "      <td>Beck Bennett</td>\n",
              "      <td>Bruce Springsteen</td>\n",
              "    </tr>\n",
              "    <tr>\n",
              "      <th>2</th>\n",
              "      <td>4141</td>\n",
              "      <td>Pete Davidson</td>\n",
              "      <td>Matt Gaetz</td>\n",
              "    </tr>\n",
              "    <tr>\n",
              "      <th>3</th>\n",
              "      <td>4057</td>\n",
              "      <td>Chloe Fineman</td>\n",
              "      <td>Britney Spears</td>\n",
              "    </tr>\n",
              "    <tr>\n",
              "      <th>4</th>\n",
              "      <td>4140</td>\n",
              "      <td>Chris Redd</td>\n",
              "      <td>Lil Nas X</td>\n",
              "    </tr>\n",
              "  </tbody>\n",
              "</table>\n",
              "</div>"
            ],
            "text/plain": [
              "  impid            aid               name\n",
              "0  4142     Chris Redd       Barack Obama\n",
              "1  4143   Beck Bennett  Bruce Springsteen\n",
              "2  4141  Pete Davidson         Matt Gaetz\n",
              "3  4057  Chloe Fineman     Britney Spears\n",
              "4  4140     Chris Redd          Lil Nas X"
            ]
          },
          "metadata": {},
          "execution_count": 99
        }
      ]
    },
    {
      "cell_type": "code",
      "metadata": {
        "colab": {
          "base_uri": "https://localhost:8080/",
          "height": 220
        },
        "id": "uiNmdhGdAoUk",
        "outputId": "fcb60525-db60-439a-98b9-e94e40cb1d36"
      },
      "source": [
        "print(actors_cast.shape)\n",
        "actors_cast.head()"
      ],
      "execution_count": null,
      "outputs": [
        {
          "output_type": "stream",
          "name": "stdout",
          "text": [
            "(154, 3)\n"
          ]
        },
        {
          "output_type": "execute_result",
          "data": {
            "text/html": [
              "<div>\n",
              "<style scoped>\n",
              "    .dataframe tbody tr th:only-of-type {\n",
              "        vertical-align: middle;\n",
              "    }\n",
              "\n",
              "    .dataframe tbody tr th {\n",
              "        vertical-align: top;\n",
              "    }\n",
              "\n",
              "    .dataframe thead th {\n",
              "        text-align: right;\n",
              "    }\n",
              "</style>\n",
              "<table border=\"1\" class=\"dataframe\">\n",
              "  <thead>\n",
              "    <tr style=\"text-align: right;\">\n",
              "      <th></th>\n",
              "      <th>aid</th>\n",
              "      <th>type</th>\n",
              "      <th>gender</th>\n",
              "    </tr>\n",
              "  </thead>\n",
              "  <tbody>\n",
              "    <tr>\n",
              "      <th>0</th>\n",
              "      <td>Kate McKinnon</td>\n",
              "      <td>cast</td>\n",
              "      <td>female</td>\n",
              "    </tr>\n",
              "    <tr>\n",
              "      <th>1</th>\n",
              "      <td>Alex Moffat</td>\n",
              "      <td>cast</td>\n",
              "      <td>male</td>\n",
              "    </tr>\n",
              "    <tr>\n",
              "      <th>2</th>\n",
              "      <td>Ego Nwodim</td>\n",
              "      <td>cast</td>\n",
              "      <td>female</td>\n",
              "    </tr>\n",
              "    <tr>\n",
              "      <th>3</th>\n",
              "      <td>Chris Redd</td>\n",
              "      <td>cast</td>\n",
              "      <td>male</td>\n",
              "    </tr>\n",
              "    <tr>\n",
              "      <th>4</th>\n",
              "      <td>Kenan Thompson</td>\n",
              "      <td>cast</td>\n",
              "      <td>male</td>\n",
              "    </tr>\n",
              "  </tbody>\n",
              "</table>\n",
              "</div>"
            ],
            "text/plain": [
              "              aid  type  gender\n",
              "0   Kate McKinnon  cast  female\n",
              "1     Alex Moffat  cast    male\n",
              "2      Ego Nwodim  cast  female\n",
              "3      Chris Redd  cast    male\n",
              "4  Kenan Thompson  cast    male"
            ]
          },
          "metadata": {},
          "execution_count": 100
        }
      ]
    },
    {
      "cell_type": "code",
      "metadata": {
        "id": "cy3yOq0xAoUk"
      },
      "source": [
        "imp_gen = pd.merge(imp, actors_cast, how='left', on='aid')"
      ],
      "execution_count": null,
      "outputs": []
    },
    {
      "cell_type": "code",
      "metadata": {
        "colab": {
          "base_uri": "https://localhost:8080/",
          "height": 465
        },
        "id": "O8dFZNEEAoUk",
        "outputId": "eb5a7ca8-1725-49e6-9f72-80a3f57f649a"
      },
      "source": [
        "print(imp_gen.shape)\n",
        "imp_gen.head(13)\n"
      ],
      "execution_count": null,
      "outputs": [
        {
          "output_type": "stream",
          "name": "stdout",
          "text": [
            "(4115, 5)\n"
          ]
        },
        {
          "output_type": "execute_result",
          "data": {
            "text/html": [
              "<div>\n",
              "<style scoped>\n",
              "    .dataframe tbody tr th:only-of-type {\n",
              "        vertical-align: middle;\n",
              "    }\n",
              "\n",
              "    .dataframe tbody tr th {\n",
              "        vertical-align: top;\n",
              "    }\n",
              "\n",
              "    .dataframe thead th {\n",
              "        text-align: right;\n",
              "    }\n",
              "</style>\n",
              "<table border=\"1\" class=\"dataframe\">\n",
              "  <thead>\n",
              "    <tr style=\"text-align: right;\">\n",
              "      <th></th>\n",
              "      <th>impid</th>\n",
              "      <th>aid</th>\n",
              "      <th>name</th>\n",
              "      <th>type</th>\n",
              "      <th>gender</th>\n",
              "    </tr>\n",
              "  </thead>\n",
              "  <tbody>\n",
              "    <tr>\n",
              "      <th>0</th>\n",
              "      <td>4142</td>\n",
              "      <td>Chris Redd</td>\n",
              "      <td>Barack Obama</td>\n",
              "      <td>cast</td>\n",
              "      <td>male</td>\n",
              "    </tr>\n",
              "    <tr>\n",
              "      <th>1</th>\n",
              "      <td>4143</td>\n",
              "      <td>Beck Bennett</td>\n",
              "      <td>Bruce Springsteen</td>\n",
              "      <td>cast</td>\n",
              "      <td>male</td>\n",
              "    </tr>\n",
              "    <tr>\n",
              "      <th>2</th>\n",
              "      <td>4141</td>\n",
              "      <td>Pete Davidson</td>\n",
              "      <td>Matt Gaetz</td>\n",
              "      <td>cast</td>\n",
              "      <td>male</td>\n",
              "    </tr>\n",
              "    <tr>\n",
              "      <th>3</th>\n",
              "      <td>4057</td>\n",
              "      <td>Chloe Fineman</td>\n",
              "      <td>Britney Spears</td>\n",
              "      <td>cast</td>\n",
              "      <td>female</td>\n",
              "    </tr>\n",
              "    <tr>\n",
              "      <th>4</th>\n",
              "      <td>4140</td>\n",
              "      <td>Chris Redd</td>\n",
              "      <td>Lil Nas X</td>\n",
              "      <td>cast</td>\n",
              "      <td>male</td>\n",
              "    </tr>\n",
              "    <tr>\n",
              "      <th>5</th>\n",
              "      <td>2258</td>\n",
              "      <td>Maya Rudolph</td>\n",
              "      <td>Beyoncé</td>\n",
              "      <td>cast</td>\n",
              "      <td>female</td>\n",
              "    </tr>\n",
              "    <tr>\n",
              "      <th>6</th>\n",
              "      <td>4134</td>\n",
              "      <td>Mikey Day</td>\n",
              "      <td>Sean Evans</td>\n",
              "      <td>cast</td>\n",
              "      <td>male</td>\n",
              "    </tr>\n",
              "    <tr>\n",
              "      <th>7</th>\n",
              "      <td>4005</td>\n",
              "      <td>Maya Rudolph</td>\n",
              "      <td>Kamala Harris</td>\n",
              "      <td>cast</td>\n",
              "      <td>female</td>\n",
              "    </tr>\n",
              "    <tr>\n",
              "      <th>8</th>\n",
              "      <td>4135</td>\n",
              "      <td>Martin Short</td>\n",
              "      <td>Doug Emhoff</td>\n",
              "      <td>cast</td>\n",
              "      <td>male</td>\n",
              "    </tr>\n",
              "    <tr>\n",
              "      <th>9</th>\n",
              "      <td>4121</td>\n",
              "      <td>Aidy Bryant</td>\n",
              "      <td>Ted Cruz</td>\n",
              "      <td>cast</td>\n",
              "      <td>female</td>\n",
              "    </tr>\n",
              "    <tr>\n",
              "      <th>10</th>\n",
              "      <td>4136</td>\n",
              "      <td>Chloe Fineman</td>\n",
              "      <td>Ella Emhoff</td>\n",
              "      <td>cast</td>\n",
              "      <td>female</td>\n",
              "    </tr>\n",
              "    <tr>\n",
              "      <th>11</th>\n",
              "      <td>4096</td>\n",
              "      <td>Alex Moffat</td>\n",
              "      <td>Joe Biden</td>\n",
              "      <td>cast</td>\n",
              "      <td>male</td>\n",
              "    </tr>\n",
              "    <tr>\n",
              "      <th>12</th>\n",
              "      <td>4100</td>\n",
              "      <td>Cecily Strong</td>\n",
              "      <td>Marjorie Taylor Greene</td>\n",
              "      <td>cast</td>\n",
              "      <td>female</td>\n",
              "    </tr>\n",
              "  </tbody>\n",
              "</table>\n",
              "</div>"
            ],
            "text/plain": [
              "   impid            aid                    name  type  gender\n",
              "0   4142     Chris Redd            Barack Obama  cast    male\n",
              "1   4143   Beck Bennett       Bruce Springsteen  cast    male\n",
              "2   4141  Pete Davidson              Matt Gaetz  cast    male\n",
              "3   4057  Chloe Fineman          Britney Spears  cast  female\n",
              "4   4140     Chris Redd               Lil Nas X  cast    male\n",
              "5   2258   Maya Rudolph                 Beyoncé  cast  female\n",
              "6   4134      Mikey Day              Sean Evans  cast    male\n",
              "7   4005   Maya Rudolph           Kamala Harris  cast  female\n",
              "8   4135   Martin Short             Doug Emhoff  cast    male\n",
              "9   4121    Aidy Bryant                Ted Cruz  cast  female\n",
              "10  4136  Chloe Fineman             Ella Emhoff  cast  female\n",
              "11  4096    Alex Moffat               Joe Biden  cast    male\n",
              "12  4100  Cecily Strong  Marjorie Taylor Greene  cast  female"
            ]
          },
          "metadata": {},
          "execution_count": 102
        }
      ]
    },
    {
      "cell_type": "code",
      "metadata": {
        "id": "wL-neII9AoUk"
      },
      "source": [
        ""
      ],
      "execution_count": null,
      "outputs": []
    },
    {
      "cell_type": "code",
      "metadata": {
        "id": "tTf-UQTIAoUk"
      },
      "source": [
        ""
      ],
      "execution_count": null,
      "outputs": []
    },
    {
      "cell_type": "code",
      "metadata": {
        "id": "MXf_XimJAoUk"
      },
      "source": [
        ""
      ],
      "execution_count": null,
      "outputs": []
    },
    {
      "cell_type": "code",
      "metadata": {
        "id": "9b1K6QtGAoUk"
      },
      "source": [
        "# code from above\n",
        "castonly = appear[appear.capacity=='cast']"
      ],
      "execution_count": null,
      "outputs": []
    },
    {
      "cell_type": "code",
      "metadata": {
        "colab": {
          "base_uri": "https://localhost:8080/",
          "height": 414
        },
        "id": "dhOUvvKxAoUk",
        "outputId": "01276cec-1408-4564-fee5-ac9d07a8828c"
      },
      "source": [
        "castonly"
      ],
      "execution_count": null,
      "outputs": [
        {
          "output_type": "execute_result",
          "data": {
            "text/html": [
              "<div>\n",
              "<style scoped>\n",
              "    .dataframe tbody tr th:only-of-type {\n",
              "        vertical-align: middle;\n",
              "    }\n",
              "\n",
              "    .dataframe tbody tr th {\n",
              "        vertical-align: top;\n",
              "    }\n",
              "\n",
              "    .dataframe thead th {\n",
              "        text-align: right;\n",
              "    }\n",
              "</style>\n",
              "<table border=\"1\" class=\"dataframe\">\n",
              "  <thead>\n",
              "    <tr style=\"text-align: right;\">\n",
              "      <th></th>\n",
              "      <th>aid</th>\n",
              "      <th>tid</th>\n",
              "      <th>capacity</th>\n",
              "      <th>impid</th>\n",
              "      <th>sid</th>\n",
              "      <th>gender</th>\n",
              "    </tr>\n",
              "  </thead>\n",
              "  <tbody>\n",
              "    <tr>\n",
              "      <th>0</th>\n",
              "      <td>Kate McKinnon</td>\n",
              "      <td>202104101</td>\n",
              "      <td>cast</td>\n",
              "      <td>nan</td>\n",
              "      <td>46</td>\n",
              "      <td>female</td>\n",
              "    </tr>\n",
              "    <tr>\n",
              "      <th>1</th>\n",
              "      <td>Alex Moffat</td>\n",
              "      <td>202104101</td>\n",
              "      <td>cast</td>\n",
              "      <td>nan</td>\n",
              "      <td>46</td>\n",
              "      <td>male</td>\n",
              "    </tr>\n",
              "    <tr>\n",
              "      <th>2</th>\n",
              "      <td>Ego Nwodim</td>\n",
              "      <td>202104101</td>\n",
              "      <td>cast</td>\n",
              "      <td>nan</td>\n",
              "      <td>46</td>\n",
              "      <td>female</td>\n",
              "    </tr>\n",
              "    <tr>\n",
              "      <th>3</th>\n",
              "      <td>Chris Redd</td>\n",
              "      <td>202104101</td>\n",
              "      <td>cast</td>\n",
              "      <td>nan</td>\n",
              "      <td>46</td>\n",
              "      <td>male</td>\n",
              "    </tr>\n",
              "    <tr>\n",
              "      <th>4</th>\n",
              "      <td>Kenan Thompson</td>\n",
              "      <td>202104101</td>\n",
              "      <td>cast</td>\n",
              "      <td>nan</td>\n",
              "      <td>46</td>\n",
              "      <td>male</td>\n",
              "    </tr>\n",
              "    <tr>\n",
              "      <th>...</th>\n",
              "      <td>...</td>\n",
              "      <td>...</td>\n",
              "      <td>...</td>\n",
              "      <td>...</td>\n",
              "      <td>...</td>\n",
              "      <td>...</td>\n",
              "    </tr>\n",
              "    <tr>\n",
              "      <th>55349</th>\n",
              "      <td>Dan Aykroyd</td>\n",
              "      <td>1975101123</td>\n",
              "      <td>cast</td>\n",
              "      <td>nan</td>\n",
              "      <td>1</td>\n",
              "      <td>male</td>\n",
              "    </tr>\n",
              "    <tr>\n",
              "      <th>55350</th>\n",
              "      <td>John Belushi</td>\n",
              "      <td>1975101123</td>\n",
              "      <td>cast</td>\n",
              "      <td>nan</td>\n",
              "      <td>1</td>\n",
              "      <td>male</td>\n",
              "    </tr>\n",
              "    <tr>\n",
              "      <th>55351</th>\n",
              "      <td>Garrett Morris</td>\n",
              "      <td>1975101123</td>\n",
              "      <td>cast</td>\n",
              "      <td>nan</td>\n",
              "      <td>1</td>\n",
              "      <td>male</td>\n",
              "    </tr>\n",
              "    <tr>\n",
              "      <th>55352</th>\n",
              "      <td>Gilda Radner</td>\n",
              "      <td>1975101123</td>\n",
              "      <td>cast</td>\n",
              "      <td>nan</td>\n",
              "      <td>1</td>\n",
              "      <td>female</td>\n",
              "    </tr>\n",
              "    <tr>\n",
              "      <th>55353</th>\n",
              "      <td>Al Franken</td>\n",
              "      <td>1975101124</td>\n",
              "      <td>cast</td>\n",
              "      <td>nan</td>\n",
              "      <td>1</td>\n",
              "      <td>male</td>\n",
              "    </tr>\n",
              "  </tbody>\n",
              "</table>\n",
              "<p>43986 rows × 6 columns</p>\n",
              "</div>"
            ],
            "text/plain": [
              "                  aid         tid capacity impid  sid  gender\n",
              "0       Kate McKinnon   202104101     cast   nan   46  female\n",
              "1         Alex Moffat   202104101     cast   nan   46    male\n",
              "2          Ego Nwodim   202104101     cast   nan   46  female\n",
              "3          Chris Redd   202104101     cast   nan   46    male\n",
              "4      Kenan Thompson   202104101     cast   nan   46    male\n",
              "...               ...         ...      ...   ...  ...     ...\n",
              "55349     Dan Aykroyd  1975101123     cast   nan    1    male\n",
              "55350    John Belushi  1975101123     cast   nan    1    male\n",
              "55351  Garrett Morris  1975101123     cast   nan    1    male\n",
              "55352    Gilda Radner  1975101123     cast   nan    1  female\n",
              "55353      Al Franken  1975101124     cast   nan    1    male\n",
              "\n",
              "[43986 rows x 6 columns]"
            ]
          },
          "metadata": {},
          "execution_count": 104
        }
      ]
    },
    {
      "cell_type": "code",
      "metadata": {
        "scrolled": true,
        "colab": {
          "base_uri": "https://localhost:8080/"
        },
        "id": "gjZALq5eAoUk",
        "outputId": "942ad721-7705-439b-e7bb-ed171a6b7880"
      },
      "source": [
        "castonly.info()\n",
        "#how many with nan"
      ],
      "execution_count": null,
      "outputs": [
        {
          "output_type": "stream",
          "name": "stdout",
          "text": [
            "<class 'pandas.core.frame.DataFrame'>\n",
            "Int64Index: 43986 entries, 0 to 55353\n",
            "Data columns (total 6 columns):\n",
            " #   Column    Non-Null Count  Dtype \n",
            "---  ------    --------------  ----- \n",
            " 0   aid       43986 non-null  object\n",
            " 1   tid       43986 non-null  object\n",
            " 2   capacity  43986 non-null  object\n",
            " 3   impid     43986 non-null  object\n",
            " 4   sid       43986 non-null  int64 \n",
            " 5   gender    39413 non-null  object\n",
            "dtypes: int64(1), object(5)\n",
            "memory usage: 2.3+ MB\n"
          ]
        }
      ]
    },
    {
      "cell_type": "code",
      "metadata": {
        "colab": {
          "base_uri": "https://localhost:8080/",
          "height": 414
        },
        "id": "1JRgEE83AoUk",
        "outputId": "fe18eba5-2caa-4983-be37-45903adf56e4"
      },
      "source": [
        "# cast appearances where impid is not 'nan'\n",
        "cast_impress = castonly[castonly['impid']!='nan']\n",
        "cast_impress"
      ],
      "execution_count": null,
      "outputs": [
        {
          "output_type": "execute_result",
          "data": {
            "text/html": [
              "<div>\n",
              "<style scoped>\n",
              "    .dataframe tbody tr th:only-of-type {\n",
              "        vertical-align: middle;\n",
              "    }\n",
              "\n",
              "    .dataframe tbody tr th {\n",
              "        vertical-align: top;\n",
              "    }\n",
              "\n",
              "    .dataframe thead th {\n",
              "        text-align: right;\n",
              "    }\n",
              "</style>\n",
              "<table border=\"1\" class=\"dataframe\">\n",
              "  <thead>\n",
              "    <tr style=\"text-align: right;\">\n",
              "      <th></th>\n",
              "      <th>aid</th>\n",
              "      <th>tid</th>\n",
              "      <th>capacity</th>\n",
              "      <th>impid</th>\n",
              "      <th>sid</th>\n",
              "      <th>gender</th>\n",
              "    </tr>\n",
              "  </thead>\n",
              "  <tbody>\n",
              "    <tr>\n",
              "      <th>32</th>\n",
              "      <td>Chris Redd</td>\n",
              "      <td>202104108</td>\n",
              "      <td>cast</td>\n",
              "      <td>4142.0</td>\n",
              "      <td>46</td>\n",
              "      <td>male</td>\n",
              "    </tr>\n",
              "    <tr>\n",
              "      <th>33</th>\n",
              "      <td>Beck Bennett</td>\n",
              "      <td>202104108</td>\n",
              "      <td>cast</td>\n",
              "      <td>4143.0</td>\n",
              "      <td>46</td>\n",
              "      <td>male</td>\n",
              "    </tr>\n",
              "    <tr>\n",
              "      <th>62</th>\n",
              "      <td>Pete Davidson</td>\n",
              "      <td>202104031</td>\n",
              "      <td>cast</td>\n",
              "      <td>4141.0</td>\n",
              "      <td>46</td>\n",
              "      <td>male</td>\n",
              "    </tr>\n",
              "    <tr>\n",
              "      <th>64</th>\n",
              "      <td>Chloe Fineman</td>\n",
              "      <td>202104031</td>\n",
              "      <td>cast</td>\n",
              "      <td>4057.0</td>\n",
              "      <td>46</td>\n",
              "      <td>female</td>\n",
              "    </tr>\n",
              "    <tr>\n",
              "      <th>66</th>\n",
              "      <td>Chris Redd</td>\n",
              "      <td>202104031</td>\n",
              "      <td>cast</td>\n",
              "      <td>4140.0</td>\n",
              "      <td>46</td>\n",
              "      <td>male</td>\n",
              "    </tr>\n",
              "    <tr>\n",
              "      <th>...</th>\n",
              "      <td>...</td>\n",
              "      <td>...</td>\n",
              "      <td>...</td>\n",
              "      <td>...</td>\n",
              "      <td>...</td>\n",
              "      <td>...</td>\n",
              "    </tr>\n",
              "    <tr>\n",
              "      <th>55062</th>\n",
              "      <td>Chevy Chase</td>\n",
              "      <td>197511158</td>\n",
              "      <td>cast</td>\n",
              "      <td>5.0</td>\n",
              "      <td>1</td>\n",
              "      <td>male</td>\n",
              "    </tr>\n",
              "    <tr>\n",
              "      <th>55066</th>\n",
              "      <td>John Belushi</td>\n",
              "      <td>197511159</td>\n",
              "      <td>cast</td>\n",
              "      <td>6.0</td>\n",
              "      <td>1</td>\n",
              "      <td>male</td>\n",
              "    </tr>\n",
              "    <tr>\n",
              "      <th>55104</th>\n",
              "      <td>Chevy Chase</td>\n",
              "      <td>197511081</td>\n",
              "      <td>cast</td>\n",
              "      <td>3.0</td>\n",
              "      <td>1</td>\n",
              "      <td>male</td>\n",
              "    </tr>\n",
              "    <tr>\n",
              "      <th>55189</th>\n",
              "      <td>Laraine Newman</td>\n",
              "      <td>197510257</td>\n",
              "      <td>cast</td>\n",
              "      <td>1.0</td>\n",
              "      <td>1</td>\n",
              "      <td>female</td>\n",
              "    </tr>\n",
              "    <tr>\n",
              "      <th>55204</th>\n",
              "      <td>John Belushi</td>\n",
              "      <td>1975102512</td>\n",
              "      <td>cast</td>\n",
              "      <td>2.0</td>\n",
              "      <td>1</td>\n",
              "      <td>male</td>\n",
              "    </tr>\n",
              "  </tbody>\n",
              "</table>\n",
              "<p>6523 rows × 6 columns</p>\n",
              "</div>"
            ],
            "text/plain": [
              "                  aid         tid capacity   impid  sid  gender\n",
              "32         Chris Redd   202104108     cast  4142.0   46    male\n",
              "33       Beck Bennett   202104108     cast  4143.0   46    male\n",
              "62      Pete Davidson   202104031     cast  4141.0   46    male\n",
              "64      Chloe Fineman   202104031     cast  4057.0   46  female\n",
              "66         Chris Redd   202104031     cast  4140.0   46    male\n",
              "...               ...         ...      ...     ...  ...     ...\n",
              "55062     Chevy Chase   197511158     cast     5.0    1    male\n",
              "55066    John Belushi   197511159     cast     6.0    1    male\n",
              "55104     Chevy Chase   197511081     cast     3.0    1    male\n",
              "55189  Laraine Newman   197510257     cast     1.0    1  female\n",
              "55204    John Belushi  1975102512     cast     2.0    1    male\n",
              "\n",
              "[6523 rows x 6 columns]"
            ]
          },
          "metadata": {},
          "execution_count": 106
        }
      ]
    },
    {
      "cell_type": "code",
      "metadata": {
        "scrolled": true,
        "colab": {
          "base_uri": "https://localhost:8080/"
        },
        "id": "3prYyJUZAoUk",
        "outputId": "527cdc83-b29f-45fc-da03-15ee18f07530"
      },
      "source": [
        "cast_impress.info() # why are there unknowns for gender?"
      ],
      "execution_count": null,
      "outputs": [
        {
          "output_type": "stream",
          "name": "stdout",
          "text": [
            "<class 'pandas.core.frame.DataFrame'>\n",
            "Int64Index: 6523 entries, 32 to 55204\n",
            "Data columns (total 6 columns):\n",
            " #   Column    Non-Null Count  Dtype \n",
            "---  ------    --------------  ----- \n",
            " 0   aid       6523 non-null   object\n",
            " 1   tid       6523 non-null   object\n",
            " 2   capacity  6523 non-null   object\n",
            " 3   impid     6523 non-null   object\n",
            " 4   sid       6523 non-null   int64 \n",
            " 5   gender    6448 non-null   object\n",
            "dtypes: int64(1), object(5)\n",
            "memory usage: 356.7+ KB\n"
          ]
        }
      ]
    },
    {
      "cell_type": "code",
      "metadata": {
        "colab": {
          "base_uri": "https://localhost:8080/"
        },
        "id": "tgNHSf_bAoUk",
        "outputId": "7e794bf4-6573-427a-f76a-838e3452040d"
      },
      "source": [
        "cast_impress.gender.unique() # what are the nans"
      ],
      "execution_count": null,
      "outputs": [
        {
          "output_type": "execute_result",
          "data": {
            "text/plain": [
              "array(['male', 'female', nan], dtype=object)"
            ]
          },
          "metadata": {},
          "execution_count": 108
        }
      ]
    },
    {
      "cell_type": "code",
      "metadata": {
        "colab": {
          "base_uri": "https://localhost:8080/"
        },
        "id": "l2L-WSAaAoUk",
        "outputId": "f14bf562-1a1e-4150-af98-33b439a0f202"
      },
      "source": [
        "print(len(cast_impress[cast_impress['gender'].isna()].aid.unique()))\n",
        "cast_impress[cast_impress['gender'].isna()].aid.unique()"
      ],
      "execution_count": null,
      "outputs": [
        {
          "output_type": "stream",
          "name": "stdout",
          "text": [
            "29\n"
          ]
        },
        {
          "output_type": "execute_result",
          "data": {
            "text/plain": [
              "array(['Simon Rich', 'John Lutz', 'Paula Pell', 'Rich Francese',\n",
              "       'Robert Carlock', 'Tom Gianas', 'Lori Nasso', 'Michael Shoemaker',\n",
              "       'Steve Higgins', 'David Spade', 'Dave Attell', 'Jeff Renaudo',\n",
              "       'Christine Zander', 'Spike Feresten', 'Akira Yoshimura',\n",
              "       'Grafton True', 'Marc Shaiman', 'Andy Murphy', 'Don Pardo',\n",
              "       'Kevin Kelton', 'Nate Herman', 'Clint Smith', 'Andrew Smith',\n",
              "       'Nelson Lyon', 'Gilbert Gottfried', 'Pete Fatovich',\n",
              "       'Karen Roston', 'Bruce McCall', 'Doris Powell'], dtype=object)"
            ]
          },
          "metadata": {},
          "execution_count": 109
        }
      ]
    },
    {
      "cell_type": "code",
      "metadata": {
        "scrolled": true,
        "colab": {
          "base_uri": "https://localhost:8080/"
        },
        "id": "J15BlPlbAoUk",
        "outputId": "68a62e8a-7c6e-4190-c53c-b3df48bca9c7"
      },
      "source": [
        "# most are male, can we easily fill in the females?\n",
        "# list of females \n",
        "\n",
        "ladies = ['Paula Pell', 'Lori Nasso', \n",
        "       'Christine Zander', \n",
        "       'Karen Roston', 'Doris Powell']\n",
        "ladies"
      ],
      "execution_count": null,
      "outputs": [
        {
          "output_type": "execute_result",
          "data": {
            "text/plain": [
              "['Paula Pell',\n",
              " 'Lori Nasso',\n",
              " 'Christine Zander',\n",
              " 'Karen Roston',\n",
              " 'Doris Powell']"
            ]
          },
          "metadata": {},
          "execution_count": 110
        }
      ]
    },
    {
      "cell_type": "code",
      "metadata": {
        "colab": {
          "base_uri": "https://localhost:8080/",
          "height": 414
        },
        "id": "2mMW97DKAoUl",
        "outputId": "14165729-94d5-473f-e695-4d6e09593805"
      },
      "source": [
        "cast_impress[cast_impress['gender'].isna()]\n"
      ],
      "execution_count": null,
      "outputs": [
        {
          "output_type": "execute_result",
          "data": {
            "text/html": [
              "<div>\n",
              "<style scoped>\n",
              "    .dataframe tbody tr th:only-of-type {\n",
              "        vertical-align: middle;\n",
              "    }\n",
              "\n",
              "    .dataframe tbody tr th {\n",
              "        vertical-align: top;\n",
              "    }\n",
              "\n",
              "    .dataframe thead th {\n",
              "        text-align: right;\n",
              "    }\n",
              "</style>\n",
              "<table border=\"1\" class=\"dataframe\">\n",
              "  <thead>\n",
              "    <tr style=\"text-align: right;\">\n",
              "      <th></th>\n",
              "      <th>aid</th>\n",
              "      <th>tid</th>\n",
              "      <th>capacity</th>\n",
              "      <th>impid</th>\n",
              "      <th>sid</th>\n",
              "      <th>gender</th>\n",
              "    </tr>\n",
              "  </thead>\n",
              "  <tbody>\n",
              "    <tr>\n",
              "      <th>19278</th>\n",
              "      <td>Simon Rich</td>\n",
              "      <td>200711031</td>\n",
              "      <td>cast</td>\n",
              "      <td>2636.0</td>\n",
              "      <td>33</td>\n",
              "      <td>NaN</td>\n",
              "    </tr>\n",
              "    <tr>\n",
              "      <th>22268</th>\n",
              "      <td>John Lutz</td>\n",
              "      <td>2005041612</td>\n",
              "      <td>cast</td>\n",
              "      <td>2397.0</td>\n",
              "      <td>30</td>\n",
              "      <td>NaN</td>\n",
              "    </tr>\n",
              "    <tr>\n",
              "      <th>23157</th>\n",
              "      <td>Paula Pell</td>\n",
              "      <td>200410091</td>\n",
              "      <td>cast</td>\n",
              "      <td>2301.0</td>\n",
              "      <td>30</td>\n",
              "      <td>NaN</td>\n",
              "    </tr>\n",
              "    <tr>\n",
              "      <th>29562</th>\n",
              "      <td>Rich Francese</td>\n",
              "      <td>199902063</td>\n",
              "      <td>cast</td>\n",
              "      <td>1683.0</td>\n",
              "      <td>24</td>\n",
              "      <td>NaN</td>\n",
              "    </tr>\n",
              "    <tr>\n",
              "      <th>30553</th>\n",
              "      <td>Robert Carlock</td>\n",
              "      <td>199803071</td>\n",
              "      <td>cast</td>\n",
              "      <td>1578.0</td>\n",
              "      <td>23</td>\n",
              "      <td>NaN</td>\n",
              "    </tr>\n",
              "    <tr>\n",
              "      <th>...</th>\n",
              "      <td>...</td>\n",
              "      <td>...</td>\n",
              "      <td>...</td>\n",
              "      <td>...</td>\n",
              "      <td>...</td>\n",
              "      <td>...</td>\n",
              "    </tr>\n",
              "    <tr>\n",
              "      <th>48427</th>\n",
              "      <td>Pete Fatovich</td>\n",
              "      <td>1981011711</td>\n",
              "      <td>cast</td>\n",
              "      <td>263.0</td>\n",
              "      <td>6</td>\n",
              "      <td>NaN</td>\n",
              "    </tr>\n",
              "    <tr>\n",
              "      <th>50262</th>\n",
              "      <td>Karen Roston</td>\n",
              "      <td>197903103</td>\n",
              "      <td>cast</td>\n",
              "      <td>189.0</td>\n",
              "      <td>4</td>\n",
              "      <td>NaN</td>\n",
              "    </tr>\n",
              "    <tr>\n",
              "      <th>53469</th>\n",
              "      <td>Bruce McCall</td>\n",
              "      <td>197610306</td>\n",
              "      <td>cast</td>\n",
              "      <td>57.0</td>\n",
              "      <td>2</td>\n",
              "      <td>NaN</td>\n",
              "    </tr>\n",
              "    <tr>\n",
              "      <th>53936</th>\n",
              "      <td>Doris Powell</td>\n",
              "      <td>197605297</td>\n",
              "      <td>cast</td>\n",
              "      <td>37.0</td>\n",
              "      <td>1</td>\n",
              "      <td>NaN</td>\n",
              "    </tr>\n",
              "    <tr>\n",
              "      <th>53937</th>\n",
              "      <td>Akira Yoshimura</td>\n",
              "      <td>197605297</td>\n",
              "      <td>cast</td>\n",
              "      <td>39.0</td>\n",
              "      <td>1</td>\n",
              "      <td>NaN</td>\n",
              "    </tr>\n",
              "  </tbody>\n",
              "</table>\n",
              "<p>75 rows × 6 columns</p>\n",
              "</div>"
            ],
            "text/plain": [
              "                   aid         tid capacity   impid  sid gender\n",
              "19278       Simon Rich   200711031     cast  2636.0   33    NaN\n",
              "22268        John Lutz  2005041612     cast  2397.0   30    NaN\n",
              "23157       Paula Pell   200410091     cast  2301.0   30    NaN\n",
              "29562    Rich Francese   199902063     cast  1683.0   24    NaN\n",
              "30553   Robert Carlock   199803071     cast  1578.0   23    NaN\n",
              "...                ...         ...      ...     ...  ...    ...\n",
              "48427    Pete Fatovich  1981011711     cast   263.0    6    NaN\n",
              "50262     Karen Roston   197903103     cast   189.0    4    NaN\n",
              "53469     Bruce McCall   197610306     cast    57.0    2    NaN\n",
              "53936     Doris Powell   197605297     cast    37.0    1    NaN\n",
              "53937  Akira Yoshimura   197605297     cast    39.0    1    NaN\n",
              "\n",
              "[75 rows x 6 columns]"
            ]
          },
          "metadata": {},
          "execution_count": 111
        }
      ]
    },
    {
      "cell_type": "code",
      "metadata": {
        "colab": {
          "base_uri": "https://localhost:8080/"
        },
        "id": "vbC477O4AoUl",
        "outputId": "ad0eb4e7-474e-4519-d5e2-112f48354fba"
      },
      "source": [
        "for i in ladies:\n",
        "    cast_impress.loc[cast_impress['aid'] == i] = cast_impress.loc[cast_impress['aid'] == i].fillna('female')"
      ],
      "execution_count": null,
      "outputs": [
        {
          "output_type": "stream",
          "name": "stderr",
          "text": [
            "/usr/local/lib/python3.7/dist-packages/pandas/core/indexing.py:1715: SettingWithCopyWarning: \n",
            "A value is trying to be set on a copy of a slice from a DataFrame.\n",
            "Try using .loc[row_indexer,col_indexer] = value instead\n",
            "\n",
            "See the caveats in the documentation: https://pandas.pydata.org/pandas-docs/stable/user_guide/indexing.html#returning-a-view-versus-a-copy\n",
            "  isetter(loc, v)\n"
          ]
        }
      ]
    },
    {
      "cell_type": "code",
      "metadata": {
        "scrolled": true,
        "colab": {
          "base_uri": "https://localhost:8080/"
        },
        "id": "GXm2t_mVAoUl",
        "outputId": "9303d8ec-380c-4440-da1f-a2c306b69e38"
      },
      "source": [
        "print(len(cast_impress[cast_impress['gender'].isna()].aid.unique()))\n",
        "cast_impress[cast_impress['gender'].isna()].aid.unique()"
      ],
      "execution_count": null,
      "outputs": [
        {
          "output_type": "stream",
          "name": "stdout",
          "text": [
            "24\n"
          ]
        },
        {
          "output_type": "execute_result",
          "data": {
            "text/plain": [
              "array(['Simon Rich', 'John Lutz', 'Rich Francese', 'Robert Carlock',\n",
              "       'Tom Gianas', 'Michael Shoemaker', 'Steve Higgins', 'David Spade',\n",
              "       'Dave Attell', 'Jeff Renaudo', 'Spike Feresten', 'Akira Yoshimura',\n",
              "       'Grafton True', 'Marc Shaiman', 'Andy Murphy', 'Don Pardo',\n",
              "       'Kevin Kelton', 'Nate Herman', 'Clint Smith', 'Andrew Smith',\n",
              "       'Nelson Lyon', 'Gilbert Gottfried', 'Pete Fatovich',\n",
              "       'Bruce McCall'], dtype=object)"
            ]
          },
          "metadata": {},
          "execution_count": 113
        }
      ]
    },
    {
      "cell_type": "code",
      "metadata": {
        "id": "7is-NqjwAoUl"
      },
      "source": [
        "cast_impress = cast_impress.fillna('male')"
      ],
      "execution_count": null,
      "outputs": []
    },
    {
      "cell_type": "code",
      "metadata": {
        "colab": {
          "base_uri": "https://localhost:8080/"
        },
        "id": "swHyXNuQAoUl",
        "outputId": "b90cf51a-39f4-4a22-d62d-2692c737dc4b"
      },
      "source": [
        "cast_impress.gender.unique()"
      ],
      "execution_count": null,
      "outputs": [
        {
          "output_type": "execute_result",
          "data": {
            "text/plain": [
              "array(['male', 'female'], dtype=object)"
            ]
          },
          "metadata": {},
          "execution_count": 115
        }
      ]
    },
    {
      "cell_type": "code",
      "metadata": {
        "colab": {
          "base_uri": "https://localhost:8080/"
        },
        "id": "G4-urrNlAoUl",
        "outputId": "b7ab77bc-ee7e-4759-9046-e870bbfcd35b"
      },
      "source": [
        "cast_impress.info()"
      ],
      "execution_count": null,
      "outputs": [
        {
          "output_type": "stream",
          "name": "stdout",
          "text": [
            "<class 'pandas.core.frame.DataFrame'>\n",
            "Int64Index: 6523 entries, 32 to 55204\n",
            "Data columns (total 6 columns):\n",
            " #   Column    Non-Null Count  Dtype \n",
            "---  ------    --------------  ----- \n",
            " 0   aid       6523 non-null   object\n",
            " 1   tid       6523 non-null   object\n",
            " 2   capacity  6523 non-null   object\n",
            " 3   impid     6523 non-null   object\n",
            " 4   sid       6523 non-null   int64 \n",
            " 5   gender    6523 non-null   object\n",
            "dtypes: int64(1), object(5)\n",
            "memory usage: 356.7+ KB\n"
          ]
        }
      ]
    },
    {
      "cell_type": "code",
      "metadata": {
        "colab": {
          "base_uri": "https://localhost:8080/",
          "height": 232
        },
        "id": "0uOr2SkUAoUl",
        "outputId": "1df4c72f-bda4-4af6-8166-afab2169a338"
      },
      "source": [
        "# lets group by gender and season id so we can stack the bar plot\n",
        "impress_plot = cast_impress.groupby(['gender', 'sid']).size().reset_index().pivot(columns='gender', index='sid', values=0)\n",
        "impress_plot.head()"
      ],
      "execution_count": null,
      "outputs": [
        {
          "output_type": "execute_result",
          "data": {
            "text/html": [
              "<div>\n",
              "<style scoped>\n",
              "    .dataframe tbody tr th:only-of-type {\n",
              "        vertical-align: middle;\n",
              "    }\n",
              "\n",
              "    .dataframe tbody tr th {\n",
              "        vertical-align: top;\n",
              "    }\n",
              "\n",
              "    .dataframe thead th {\n",
              "        text-align: right;\n",
              "    }\n",
              "</style>\n",
              "<table border=\"1\" class=\"dataframe\">\n",
              "  <thead>\n",
              "    <tr style=\"text-align: right;\">\n",
              "      <th>gender</th>\n",
              "      <th>female</th>\n",
              "      <th>male</th>\n",
              "    </tr>\n",
              "    <tr>\n",
              "      <th>sid</th>\n",
              "      <th></th>\n",
              "      <th></th>\n",
              "    </tr>\n",
              "  </thead>\n",
              "  <tbody>\n",
              "    <tr>\n",
              "      <th>1</th>\n",
              "      <td>16</td>\n",
              "      <td>42</td>\n",
              "    </tr>\n",
              "    <tr>\n",
              "      <th>2</th>\n",
              "      <td>24</td>\n",
              "      <td>61</td>\n",
              "    </tr>\n",
              "    <tr>\n",
              "      <th>3</th>\n",
              "      <td>19</td>\n",
              "      <td>46</td>\n",
              "    </tr>\n",
              "    <tr>\n",
              "      <th>4</th>\n",
              "      <td>24</td>\n",
              "      <td>51</td>\n",
              "    </tr>\n",
              "    <tr>\n",
              "      <th>5</th>\n",
              "      <td>18</td>\n",
              "      <td>39</td>\n",
              "    </tr>\n",
              "  </tbody>\n",
              "</table>\n",
              "</div>"
            ],
            "text/plain": [
              "gender  female  male\n",
              "sid                 \n",
              "1           16    42\n",
              "2           24    61\n",
              "3           19    46\n",
              "4           24    51\n",
              "5           18    39"
            ]
          },
          "metadata": {},
          "execution_count": 117
        }
      ]
    },
    {
      "cell_type": "code",
      "metadata": {
        "scrolled": false,
        "colab": {
          "base_uri": "https://localhost:8080/",
          "height": 551
        },
        "id": "c2goDr6vAoUl",
        "outputId": "45c9dca6-f9e0-4a8a-c172-adfc9f1caebd"
      },
      "source": [
        "impress_plot.plot(kind='bar', stacked=True, figsize=(24,10)) # would be nicer if it was a percentage, because the # of \n",
        "# sketches each season varies\n",
        "sns.set_palette(palette)\n",
        "plt.title(\"Impressions in SNL Sketches by Season\", fontsize = 30)\n",
        "plt.xlabel('Season', fontsize=24)\n",
        "plt.ylabel('number of sketches', fontsize=24)\n",
        "plt.show()"
      ],
      "execution_count": null,
      "outputs": [
        {
          "output_type": "display_data",
          "data": {
            "image/png": "[encoded data removed]",
            "text/plain": [
              "<Figure size 1728x720 with 1 Axes>"
            ]
          },
          "metadata": {}
        }
      ]
    },
    {
      "cell_type": "markdown",
      "metadata": {
        "id": "DX6Tz0aaAoUl"
      },
      "source": [
        "# 3. Presidential Impressions\n",
        "Since SNL is known for their political impressions, especially during elections, I wanted to explore the impressions of presidential and vice presidential candidates. I found a table that listed all candidates and took those that were after 1975, when SNL's first season aired. "
      ]
    },
    {
      "cell_type": "markdown",
      "metadata": {
        "id": "2qBoTQ_YLSUl"
      },
      "source": [
        "#### Getting List of Presidential Candidates"
      ]
    },
    {
      "cell_type": "code",
      "metadata": {
        "id": "h0R_xLurAoUl"
      },
      "source": [
        "\n",
        "#Use pandas' `read_html` method to read the table from the URL below\n",
        "pres_url = 'https://en.wikipedia.org/wiki/List_of_United_States_major_party_presidential_tickets'\n",
        "pres = pd.read_html(pres_url)"
      ],
      "execution_count": null,
      "outputs": []
    },
    {
      "cell_type": "code",
      "metadata": {
        "id": "KIip97MPAoUl"
      },
      "source": [
        "pres = pres[0]"
      ],
      "execution_count": null,
      "outputs": []
    },
    {
      "cell_type": "code",
      "metadata": {
        "scrolled": true,
        "colab": {
          "base_uri": "https://localhost:8080/"
        },
        "id": "iLKLgNGMAoUl",
        "outputId": "f7180251-2f69-4a11-b4eb-bf9d33d79051"
      },
      "source": [
        "pres.head()"
      ],
      "execution_count": null,
      "outputs": [
        {
          "output_type": "execute_result",
          "data": {
            "text/html": [
              "<div>\n",
              "<style scoped>\n",
              "    .dataframe tbody tr th:only-of-type {\n",
              "        vertical-align: middle;\n",
              "    }\n",
              "\n",
              "    .dataframe tbody tr th {\n",
              "        vertical-align: top;\n",
              "    }\n",
              "\n",
              "    .dataframe thead tr th {\n",
              "        text-align: left;\n",
              "    }\n",
              "</style>\n",
              "<table border=\"1\" class=\"dataframe\">\n",
              "  <thead>\n",
              "    <tr>\n",
              "      <th></th>\n",
              "      <th>Unnamed: 0_level_0</th>\n",
              "      <th>Unnamed: 1_level_0</th>\n",
              "      <th>Unnamed: 2_level_0</th>\n",
              "      <th colspan=\"5\" halign=\"left\">Presidential nominee</th>\n",
              "      <th colspan=\"5\" halign=\"left\">Vice Presidential nominee</th>\n",
              "      <th colspan=\"3\" halign=\"left\">Results[3][c]</th>\n",
              "    </tr>\n",
              "    <tr>\n",
              "      <th></th>\n",
              "      <th>Year</th>\n",
              "      <th>T[d]</th>\n",
              "      <th>P</th>\n",
              "      <th>Position[e]</th>\n",
              "      <th>Name</th>\n",
              "      <th>S</th>\n",
              "      <th>B</th>\n",
              "      <th>A[f]</th>\n",
              "      <th>Position[e]</th>\n",
              "      <th>Name</th>\n",
              "      <th>S</th>\n",
              "      <th>B</th>\n",
              "      <th>A[f]</th>\n",
              "      <th>PV%</th>\n",
              "      <th>EV%</th>\n",
              "      <th>R</th>\n",
              "    </tr>\n",
              "  </thead>\n",
              "  <tbody>\n",
              "    <tr>\n",
              "      <th>0</th>\n",
              "      <td>2020</td>\n",
              "      <td>C</td>\n",
              "      <td>D</td>\n",
              "      <td>Fmr. Vice President</td>\n",
              "      <td>Joe Biden</td>\n",
              "      <td>DE</td>\n",
              "      <td>1942</td>\n",
              "      <td>77</td>\n",
              "      <td>Senator</td>\n",
              "      <td>Kamala Harris</td>\n",
              "      <td>CA</td>\n",
              "      <td>1964</td>\n",
              "      <td>56</td>\n",
              "      <td>51.3</td>\n",
              "      <td>56.9</td>\n",
              "      <td>1</td>\n",
              "    </tr>\n",
              "    <tr>\n",
              "      <th>1</th>\n",
              "      <td>2020</td>\n",
              "      <td>I</td>\n",
              "      <td>R</td>\n",
              "      <td>President</td>\n",
              "      <td>Donald Trump</td>\n",
              "      <td>FL</td>\n",
              "      <td>1946</td>\n",
              "      <td>74</td>\n",
              "      <td>Vice President</td>\n",
              "      <td>Mike Pence</td>\n",
              "      <td>IN</td>\n",
              "      <td>1959</td>\n",
              "      <td>61</td>\n",
              "      <td>46.9</td>\n",
              "      <td>43.1</td>\n",
              "      <td>2</td>\n",
              "    </tr>\n",
              "    <tr>\n",
              "      <th>2</th>\n",
              "      <td>2016</td>\n",
              "      <td>O</td>\n",
              "      <td>R</td>\n",
              "      <td>Businessman</td>\n",
              "      <td>Donald Trump</td>\n",
              "      <td>NY</td>\n",
              "      <td>1946</td>\n",
              "      <td>70</td>\n",
              "      <td>Governor</td>\n",
              "      <td>Mike Pence</td>\n",
              "      <td>IN</td>\n",
              "      <td>1959</td>\n",
              "      <td>57</td>\n",
              "      <td>46.1</td>\n",
              "      <td>56.5</td>\n",
              "      <td>1</td>\n",
              "    </tr>\n",
              "    <tr>\n",
              "      <th>3</th>\n",
              "      <td>2016</td>\n",
              "      <td>O</td>\n",
              "      <td>D</td>\n",
              "      <td>Fmr. Sec. of State</td>\n",
              "      <td>Hillary Clinton</td>\n",
              "      <td>NY</td>\n",
              "      <td>1947</td>\n",
              "      <td>69</td>\n",
              "      <td>Senator</td>\n",
              "      <td>Tim Kaine</td>\n",
              "      <td>VA</td>\n",
              "      <td>1958</td>\n",
              "      <td>58</td>\n",
              "      <td>48.2</td>\n",
              "      <td>42.2</td>\n",
              "      <td>2</td>\n",
              "    </tr>\n",
              "    <tr>\n",
              "      <th>4</th>\n",
              "      <td>2012</td>\n",
              "      <td>I</td>\n",
              "      <td>D</td>\n",
              "      <td>President</td>\n",
              "      <td>Barack Obama</td>\n",
              "      <td>IL</td>\n",
              "      <td>1961</td>\n",
              "      <td>51</td>\n",
              "      <td>Vice President</td>\n",
              "      <td>Joe Biden</td>\n",
              "      <td>DE</td>\n",
              "      <td>1942</td>\n",
              "      <td>69</td>\n",
              "      <td>51.0</td>\n",
              "      <td>61.7</td>\n",
              "      <td>1</td>\n",
              "    </tr>\n",
              "  </tbody>\n",
              "</table>\n",
              "</div>"
            ],
            "text/plain": [
              "  Unnamed: 0_level_0 Unnamed: 1_level_0  ... Results[3][c]   \n",
              "                Year               T[d]  ...           EV%  R\n",
              "0               2020                  C  ...          56.9  1\n",
              "1               2020                  I  ...          43.1  2\n",
              "2               2016                  O  ...          56.5  1\n",
              "3               2016                  O  ...          42.2  2\n",
              "4               2012                  I  ...          61.7  1\n",
              "\n",
              "[5 rows x 16 columns]"
            ]
          },
          "metadata": {},
          "execution_count": 121
        }
      ]
    },
    {
      "cell_type": "code",
      "metadata": {
        "scrolled": true,
        "colab": {
          "base_uri": "https://localhost:8080/"
        },
        "id": "yXZMtexrAoUl",
        "outputId": "58951384-b705-43ea-8758-feddae985ffe"
      },
      "source": [
        "pres.info()"
      ],
      "execution_count": null,
      "outputs": [
        {
          "output_type": "stream",
          "name": "stdout",
          "text": [
            "<class 'pandas.core.frame.DataFrame'>\n",
            "RangeIndex: 125 entries, 0 to 124\n",
            "Data columns (total 16 columns):\n",
            " #   Column                                    Non-Null Count  Dtype  \n",
            "---  ------                                    --------------  -----  \n",
            " 0   (Unnamed: 0_level_0, Year)                125 non-null    object \n",
            " 1   (Unnamed: 1_level_0, T[d])                125 non-null    object \n",
            " 2   (Unnamed: 2_level_0, P)                   125 non-null    object \n",
            " 3   (Presidential nominee, Position[e])       125 non-null    object \n",
            " 4   (Presidential nominee, Name)              125 non-null    object \n",
            " 5   (Presidential nominee, S)                 125 non-null    object \n",
            " 6   (Presidential nominee, B)                 125 non-null    int64  \n",
            " 7   (Presidential nominee, A[f])              125 non-null    int64  \n",
            " 8   (Vice Presidential nominee, Position[e])  125 non-null    object \n",
            " 9   (Vice Presidential nominee, Name)         125 non-null    object \n",
            " 10  (Vice Presidential nominee, S)            125 non-null    object \n",
            " 11  (Vice Presidential nominee, B)            125 non-null    object \n",
            " 12  (Vice Presidential nominee, A[f])         125 non-null    object \n",
            " 13  (Results[3][c], PV%)                      125 non-null    float64\n",
            " 14  (Results[3][c], EV%)                      125 non-null    float64\n",
            " 15  (Results[3][c], R)                        125 non-null    int64  \n",
            "dtypes: float64(2), int64(3), object(11)\n",
            "memory usage: 15.8+ KB\n"
          ]
        }
      ]
    },
    {
      "cell_type": "code",
      "metadata": {
        "colab": {
          "base_uri": "https://localhost:8080/"
        },
        "id": "CkoblSnoAoUl",
        "outputId": "40a9aaeb-25bc-4d6a-fae9-3a7292eeb7a5"
      },
      "source": [
        "pres.index"
      ],
      "execution_count": null,
      "outputs": [
        {
          "output_type": "execute_result",
          "data": {
            "text/plain": [
              "RangeIndex(start=0, stop=125, step=1)"
            ]
          },
          "metadata": {},
          "execution_count": 123
        }
      ]
    },
    {
      "cell_type": "code",
      "metadata": {
        "colab": {
          "base_uri": "https://localhost:8080/"
        },
        "id": "2eHCrob9AoUl",
        "outputId": "3eae9c97-aefc-4ef9-c0e1-20c9fb261ec6"
      },
      "source": [
        "pres.columns"
      ],
      "execution_count": null,
      "outputs": [
        {
          "output_type": "execute_result",
          "data": {
            "text/plain": [
              "MultiIndex([(       'Unnamed: 0_level_0',        'Year'),\n",
              "            (       'Unnamed: 1_level_0',        'T[d]'),\n",
              "            (       'Unnamed: 2_level_0',           'P'),\n",
              "            (     'Presidential nominee', 'Position[e]'),\n",
              "            (     'Presidential nominee',        'Name'),\n",
              "            (     'Presidential nominee',           'S'),\n",
              "            (     'Presidential nominee',           'B'),\n",
              "            (     'Presidential nominee',        'A[f]'),\n",
              "            ('Vice Presidential nominee', 'Position[e]'),\n",
              "            ('Vice Presidential nominee',        'Name'),\n",
              "            ('Vice Presidential nominee',           'S'),\n",
              "            ('Vice Presidential nominee',           'B'),\n",
              "            ('Vice Presidential nominee',        'A[f]'),\n",
              "            (            'Results[3][c]',         'PV%'),\n",
              "            (            'Results[3][c]',         'EV%'),\n",
              "            (            'Results[3][c]',           'R')],\n",
              "           )"
            ]
          },
          "metadata": {},
          "execution_count": 124
        }
      ]
    },
    {
      "cell_type": "code",
      "metadata": {
        "id": "pehbfwRvAoUl"
      },
      "source": [
        "pres.columns = pres.columns.droplevel(0)"
      ],
      "execution_count": null,
      "outputs": []
    },
    {
      "cell_type": "code",
      "metadata": {
        "colab": {
          "base_uri": "https://localhost:8080/"
        },
        "id": "fZQPYjuOAoUm",
        "outputId": "209412c0-b34a-416d-b96b-140b5803ec6d"
      },
      "source": [
        "pres.columns"
      ],
      "execution_count": null,
      "outputs": [
        {
          "output_type": "execute_result",
          "data": {
            "text/plain": [
              "Index(['Year', 'T[d]', 'P', 'Position[e]', 'Name', 'S', 'B', 'A[f]',\n",
              "       'Position[e]', 'Name', 'S', 'B', 'A[f]', 'PV%', 'EV%', 'R'],\n",
              "      dtype='object')"
            ]
          },
          "metadata": {},
          "execution_count": 126
        }
      ]
    },
    {
      "cell_type": "code",
      "metadata": {
        "id": "0Jp8D8-cAoUm"
      },
      "source": [
        "pres = pres[['Year', 'Name']]"
      ],
      "execution_count": null,
      "outputs": []
    },
    {
      "cell_type": "code",
      "metadata": {
        "colab": {
          "base_uri": "https://localhost:8080/"
        },
        "id": "hvfqGsfXAoUm",
        "outputId": "a7e13669-7bda-4978-ca11-683a7b9d4527"
      },
      "source": [
        "pres.head(30)"
      ],
      "execution_count": null,
      "outputs": [
        {
          "output_type": "execute_result",
          "data": {
            "text/html": [
              "<div>\n",
              "<style scoped>\n",
              "    .dataframe tbody tr th:only-of-type {\n",
              "        vertical-align: middle;\n",
              "    }\n",
              "\n",
              "    .dataframe tbody tr th {\n",
              "        vertical-align: top;\n",
              "    }\n",
              "\n",
              "    .dataframe thead th {\n",
              "        text-align: right;\n",
              "    }\n",
              "</style>\n",
              "<table border=\"1\" class=\"dataframe\">\n",
              "  <thead>\n",
              "    <tr style=\"text-align: right;\">\n",
              "      <th></th>\n",
              "      <th>Year</th>\n",
              "      <th>Name</th>\n",
              "      <th>Name</th>\n",
              "    </tr>\n",
              "  </thead>\n",
              "  <tbody>\n",
              "    <tr>\n",
              "      <th>0</th>\n",
              "      <td>2020</td>\n",
              "      <td>Joe Biden</td>\n",
              "      <td>Kamala Harris</td>\n",
              "    </tr>\n",
              "    <tr>\n",
              "      <th>1</th>\n",
              "      <td>2020</td>\n",
              "      <td>Donald Trump</td>\n",
              "      <td>Mike Pence</td>\n",
              "    </tr>\n",
              "    <tr>\n",
              "      <th>2</th>\n",
              "      <td>2016</td>\n",
              "      <td>Donald Trump</td>\n",
              "      <td>Mike Pence</td>\n",
              "    </tr>\n",
              "    <tr>\n",
              "      <th>3</th>\n",
              "      <td>2016</td>\n",
              "      <td>Hillary Clinton</td>\n",
              "      <td>Tim Kaine</td>\n",
              "    </tr>\n",
              "    <tr>\n",
              "      <th>4</th>\n",
              "      <td>2012</td>\n",
              "      <td>Barack Obama</td>\n",
              "      <td>Joe Biden</td>\n",
              "    </tr>\n",
              "    <tr>\n",
              "      <th>5</th>\n",
              "      <td>2012</td>\n",
              "      <td>Mitt Romney</td>\n",
              "      <td>Paul Ryan</td>\n",
              "    </tr>\n",
              "    <tr>\n",
              "      <th>6</th>\n",
              "      <td>2008</td>\n",
              "      <td>Barack Obama</td>\n",
              "      <td>Joe Biden</td>\n",
              "    </tr>\n",
              "    <tr>\n",
              "      <th>7</th>\n",
              "      <td>2008</td>\n",
              "      <td>John McCain</td>\n",
              "      <td>Sarah Palin</td>\n",
              "    </tr>\n",
              "    <tr>\n",
              "      <th>8</th>\n",
              "      <td>2004</td>\n",
              "      <td>George W. Bush</td>\n",
              "      <td>Dick Cheney</td>\n",
              "    </tr>\n",
              "    <tr>\n",
              "      <th>9</th>\n",
              "      <td>2004</td>\n",
              "      <td>John Kerry</td>\n",
              "      <td>John Edwards</td>\n",
              "    </tr>\n",
              "    <tr>\n",
              "      <th>10</th>\n",
              "      <td>2000</td>\n",
              "      <td>George W. Bush</td>\n",
              "      <td>Dick Cheney</td>\n",
              "    </tr>\n",
              "    <tr>\n",
              "      <th>11</th>\n",
              "      <td>2000</td>\n",
              "      <td>Al Gore</td>\n",
              "      <td>Joe Lieberman</td>\n",
              "    </tr>\n",
              "    <tr>\n",
              "      <th>12</th>\n",
              "      <td>1996</td>\n",
              "      <td>Bill Clinton</td>\n",
              "      <td>Al Gore</td>\n",
              "    </tr>\n",
              "    <tr>\n",
              "      <th>13</th>\n",
              "      <td>1996</td>\n",
              "      <td>Bob Dole</td>\n",
              "      <td>Jack Kemp</td>\n",
              "    </tr>\n",
              "    <tr>\n",
              "      <th>14</th>\n",
              "      <td>1992</td>\n",
              "      <td>Bill Clinton</td>\n",
              "      <td>Al Gore</td>\n",
              "    </tr>\n",
              "    <tr>\n",
              "      <th>15</th>\n",
              "      <td>1992</td>\n",
              "      <td>George H. W. Bush</td>\n",
              "      <td>Dan Quayle</td>\n",
              "    </tr>\n",
              "    <tr>\n",
              "      <th>16</th>\n",
              "      <td>1992</td>\n",
              "      <td>Ross Perot</td>\n",
              "      <td>James Stockdale</td>\n",
              "    </tr>\n",
              "    <tr>\n",
              "      <th>17</th>\n",
              "      <td>1988</td>\n",
              "      <td>George H. W. Bush</td>\n",
              "      <td>Dan Quayle</td>\n",
              "    </tr>\n",
              "    <tr>\n",
              "      <th>18</th>\n",
              "      <td>1988</td>\n",
              "      <td>Michael Dukakis</td>\n",
              "      <td>Lloyd Bentsen</td>\n",
              "    </tr>\n",
              "    <tr>\n",
              "      <th>19</th>\n",
              "      <td>1984</td>\n",
              "      <td>Ronald Reagan</td>\n",
              "      <td>George H. W. Bush</td>\n",
              "    </tr>\n",
              "    <tr>\n",
              "      <th>20</th>\n",
              "      <td>1984</td>\n",
              "      <td>Walter Mondale</td>\n",
              "      <td>Geraldine Ferraro</td>\n",
              "    </tr>\n",
              "    <tr>\n",
              "      <th>21</th>\n",
              "      <td>1980</td>\n",
              "      <td>Ronald Reagan</td>\n",
              "      <td>George H. W. Bush</td>\n",
              "    </tr>\n",
              "    <tr>\n",
              "      <th>22</th>\n",
              "      <td>1980</td>\n",
              "      <td>Jimmy Carter</td>\n",
              "      <td>Walter Mondale</td>\n",
              "    </tr>\n",
              "    <tr>\n",
              "      <th>23</th>\n",
              "      <td>1976</td>\n",
              "      <td>Jimmy Carter</td>\n",
              "      <td>Walter Mondale</td>\n",
              "    </tr>\n",
              "    <tr>\n",
              "      <th>24</th>\n",
              "      <td>1976</td>\n",
              "      <td>Gerald Ford</td>\n",
              "      <td>Bob Dole</td>\n",
              "    </tr>\n",
              "    <tr>\n",
              "      <th>25</th>\n",
              "      <td>1972</td>\n",
              "      <td>Richard Nixon</td>\n",
              "      <td>Spiro Agnew</td>\n",
              "    </tr>\n",
              "    <tr>\n",
              "      <th>26</th>\n",
              "      <td>1972</td>\n",
              "      <td>George McGovern</td>\n",
              "      <td>Sargent Shriver[g]</td>\n",
              "    </tr>\n",
              "    <tr>\n",
              "      <th>27</th>\n",
              "      <td>1968</td>\n",
              "      <td>Richard Nixon</td>\n",
              "      <td>Spiro Agnew</td>\n",
              "    </tr>\n",
              "    <tr>\n",
              "      <th>28</th>\n",
              "      <td>1968</td>\n",
              "      <td>Hubert Humphrey</td>\n",
              "      <td>Edmund Muskie</td>\n",
              "    </tr>\n",
              "    <tr>\n",
              "      <th>29</th>\n",
              "      <td>1968</td>\n",
              "      <td>George Wallace</td>\n",
              "      <td>Curtis LeMay</td>\n",
              "    </tr>\n",
              "  </tbody>\n",
              "</table>\n",
              "</div>"
            ],
            "text/plain": [
              "    Year               Name                Name\n",
              "0   2020          Joe Biden       Kamala Harris\n",
              "1   2020       Donald Trump          Mike Pence\n",
              "2   2016       Donald Trump          Mike Pence\n",
              "3   2016    Hillary Clinton           Tim Kaine\n",
              "4   2012       Barack Obama           Joe Biden\n",
              "5   2012        Mitt Romney           Paul Ryan\n",
              "6   2008       Barack Obama           Joe Biden\n",
              "7   2008        John McCain         Sarah Palin\n",
              "8   2004     George W. Bush         Dick Cheney\n",
              "9   2004         John Kerry        John Edwards\n",
              "10  2000     George W. Bush         Dick Cheney\n",
              "11  2000            Al Gore       Joe Lieberman\n",
              "12  1996       Bill Clinton             Al Gore\n",
              "13  1996           Bob Dole           Jack Kemp\n",
              "14  1992       Bill Clinton             Al Gore\n",
              "15  1992  George H. W. Bush          Dan Quayle\n",
              "16  1992         Ross Perot     James Stockdale\n",
              "17  1988  George H. W. Bush          Dan Quayle\n",
              "18  1988    Michael Dukakis       Lloyd Bentsen\n",
              "19  1984      Ronald Reagan   George H. W. Bush\n",
              "20  1984     Walter Mondale   Geraldine Ferraro\n",
              "21  1980      Ronald Reagan   George H. W. Bush\n",
              "22  1980       Jimmy Carter      Walter Mondale\n",
              "23  1976       Jimmy Carter      Walter Mondale\n",
              "24  1976        Gerald Ford            Bob Dole\n",
              "25  1972      Richard Nixon         Spiro Agnew\n",
              "26  1972    George McGovern  Sargent Shriver[g]\n",
              "27  1968      Richard Nixon         Spiro Agnew\n",
              "28  1968    Hubert Humphrey       Edmund Muskie\n",
              "29  1968     George Wallace        Curtis LeMay"
            ]
          },
          "metadata": {},
          "execution_count": 128
        }
      ]
    },
    {
      "cell_type": "code",
      "metadata": {
        "scrolled": true,
        "id": "2-4Xq3MNAoUm"
      },
      "source": [
        "#lets drop everything after index 24\n",
        "\n",
        "pres = pres.iloc[:25]"
      ],
      "execution_count": null,
      "outputs": []
    },
    {
      "cell_type": "code",
      "metadata": {
        "colab": {
          "base_uri": "https://localhost:8080/"
        },
        "id": "iYTZR6MOAoUm",
        "outputId": "2a2fe155-060c-4d06-fe89-e7cf983bfda3"
      },
      "source": [
        "pres"
      ],
      "execution_count": null,
      "outputs": [
        {
          "output_type": "execute_result",
          "data": {
            "text/html": [
              "<div>\n",
              "<style scoped>\n",
              "    .dataframe tbody tr th:only-of-type {\n",
              "        vertical-align: middle;\n",
              "    }\n",
              "\n",
              "    .dataframe tbody tr th {\n",
              "        vertical-align: top;\n",
              "    }\n",
              "\n",
              "    .dataframe thead th {\n",
              "        text-align: right;\n",
              "    }\n",
              "</style>\n",
              "<table border=\"1\" class=\"dataframe\">\n",
              "  <thead>\n",
              "    <tr style=\"text-align: right;\">\n",
              "      <th></th>\n",
              "      <th>Year</th>\n",
              "      <th>Name</th>\n",
              "      <th>Name</th>\n",
              "    </tr>\n",
              "  </thead>\n",
              "  <tbody>\n",
              "    <tr>\n",
              "      <th>0</th>\n",
              "      <td>2020</td>\n",
              "      <td>Joe Biden</td>\n",
              "      <td>Kamala Harris</td>\n",
              "    </tr>\n",
              "    <tr>\n",
              "      <th>1</th>\n",
              "      <td>2020</td>\n",
              "      <td>Donald Trump</td>\n",
              "      <td>Mike Pence</td>\n",
              "    </tr>\n",
              "    <tr>\n",
              "      <th>2</th>\n",
              "      <td>2016</td>\n",
              "      <td>Donald Trump</td>\n",
              "      <td>Mike Pence</td>\n",
              "    </tr>\n",
              "    <tr>\n",
              "      <th>3</th>\n",
              "      <td>2016</td>\n",
              "      <td>Hillary Clinton</td>\n",
              "      <td>Tim Kaine</td>\n",
              "    </tr>\n",
              "    <tr>\n",
              "      <th>4</th>\n",
              "      <td>2012</td>\n",
              "      <td>Barack Obama</td>\n",
              "      <td>Joe Biden</td>\n",
              "    </tr>\n",
              "    <tr>\n",
              "      <th>5</th>\n",
              "      <td>2012</td>\n",
              "      <td>Mitt Romney</td>\n",
              "      <td>Paul Ryan</td>\n",
              "    </tr>\n",
              "    <tr>\n",
              "      <th>6</th>\n",
              "      <td>2008</td>\n",
              "      <td>Barack Obama</td>\n",
              "      <td>Joe Biden</td>\n",
              "    </tr>\n",
              "    <tr>\n",
              "      <th>7</th>\n",
              "      <td>2008</td>\n",
              "      <td>John McCain</td>\n",
              "      <td>Sarah Palin</td>\n",
              "    </tr>\n",
              "    <tr>\n",
              "      <th>8</th>\n",
              "      <td>2004</td>\n",
              "      <td>George W. Bush</td>\n",
              "      <td>Dick Cheney</td>\n",
              "    </tr>\n",
              "    <tr>\n",
              "      <th>9</th>\n",
              "      <td>2004</td>\n",
              "      <td>John Kerry</td>\n",
              "      <td>John Edwards</td>\n",
              "    </tr>\n",
              "    <tr>\n",
              "      <th>10</th>\n",
              "      <td>2000</td>\n",
              "      <td>George W. Bush</td>\n",
              "      <td>Dick Cheney</td>\n",
              "    </tr>\n",
              "    <tr>\n",
              "      <th>11</th>\n",
              "      <td>2000</td>\n",
              "      <td>Al Gore</td>\n",
              "      <td>Joe Lieberman</td>\n",
              "    </tr>\n",
              "    <tr>\n",
              "      <th>12</th>\n",
              "      <td>1996</td>\n",
              "      <td>Bill Clinton</td>\n",
              "      <td>Al Gore</td>\n",
              "    </tr>\n",
              "    <tr>\n",
              "      <th>13</th>\n",
              "      <td>1996</td>\n",
              "      <td>Bob Dole</td>\n",
              "      <td>Jack Kemp</td>\n",
              "    </tr>\n",
              "    <tr>\n",
              "      <th>14</th>\n",
              "      <td>1992</td>\n",
              "      <td>Bill Clinton</td>\n",
              "      <td>Al Gore</td>\n",
              "    </tr>\n",
              "    <tr>\n",
              "      <th>15</th>\n",
              "      <td>1992</td>\n",
              "      <td>George H. W. Bush</td>\n",
              "      <td>Dan Quayle</td>\n",
              "    </tr>\n",
              "    <tr>\n",
              "      <th>16</th>\n",
              "      <td>1992</td>\n",
              "      <td>Ross Perot</td>\n",
              "      <td>James Stockdale</td>\n",
              "    </tr>\n",
              "    <tr>\n",
              "      <th>17</th>\n",
              "      <td>1988</td>\n",
              "      <td>George H. W. Bush</td>\n",
              "      <td>Dan Quayle</td>\n",
              "    </tr>\n",
              "    <tr>\n",
              "      <th>18</th>\n",
              "      <td>1988</td>\n",
              "      <td>Michael Dukakis</td>\n",
              "      <td>Lloyd Bentsen</td>\n",
              "    </tr>\n",
              "    <tr>\n",
              "      <th>19</th>\n",
              "      <td>1984</td>\n",
              "      <td>Ronald Reagan</td>\n",
              "      <td>George H. W. Bush</td>\n",
              "    </tr>\n",
              "    <tr>\n",
              "      <th>20</th>\n",
              "      <td>1984</td>\n",
              "      <td>Walter Mondale</td>\n",
              "      <td>Geraldine Ferraro</td>\n",
              "    </tr>\n",
              "    <tr>\n",
              "      <th>21</th>\n",
              "      <td>1980</td>\n",
              "      <td>Ronald Reagan</td>\n",
              "      <td>George H. W. Bush</td>\n",
              "    </tr>\n",
              "    <tr>\n",
              "      <th>22</th>\n",
              "      <td>1980</td>\n",
              "      <td>Jimmy Carter</td>\n",
              "      <td>Walter Mondale</td>\n",
              "    </tr>\n",
              "    <tr>\n",
              "      <th>23</th>\n",
              "      <td>1976</td>\n",
              "      <td>Jimmy Carter</td>\n",
              "      <td>Walter Mondale</td>\n",
              "    </tr>\n",
              "    <tr>\n",
              "      <th>24</th>\n",
              "      <td>1976</td>\n",
              "      <td>Gerald Ford</td>\n",
              "      <td>Bob Dole</td>\n",
              "    </tr>\n",
              "  </tbody>\n",
              "</table>\n",
              "</div>"
            ],
            "text/plain": [
              "    Year               Name               Name\n",
              "0   2020          Joe Biden      Kamala Harris\n",
              "1   2020       Donald Trump         Mike Pence\n",
              "2   2016       Donald Trump         Mike Pence\n",
              "3   2016    Hillary Clinton          Tim Kaine\n",
              "4   2012       Barack Obama          Joe Biden\n",
              "5   2012        Mitt Romney          Paul Ryan\n",
              "6   2008       Barack Obama          Joe Biden\n",
              "7   2008        John McCain        Sarah Palin\n",
              "8   2004     George W. Bush        Dick Cheney\n",
              "9   2004         John Kerry       John Edwards\n",
              "10  2000     George W. Bush        Dick Cheney\n",
              "11  2000            Al Gore      Joe Lieberman\n",
              "12  1996       Bill Clinton            Al Gore\n",
              "13  1996           Bob Dole          Jack Kemp\n",
              "14  1992       Bill Clinton            Al Gore\n",
              "15  1992  George H. W. Bush         Dan Quayle\n",
              "16  1992         Ross Perot    James Stockdale\n",
              "17  1988  George H. W. Bush         Dan Quayle\n",
              "18  1988    Michael Dukakis      Lloyd Bentsen\n",
              "19  1984      Ronald Reagan  George H. W. Bush\n",
              "20  1984     Walter Mondale  Geraldine Ferraro\n",
              "21  1980      Ronald Reagan  George H. W. Bush\n",
              "22  1980       Jimmy Carter     Walter Mondale\n",
              "23  1976       Jimmy Carter     Walter Mondale\n",
              "24  1976        Gerald Ford           Bob Dole"
            ]
          },
          "metadata": {},
          "execution_count": 130
        }
      ]
    },
    {
      "cell_type": "code",
      "metadata": {
        "id": "2hAsSz4wAoUm"
      },
      "source": [
        "pres.columns = ['Year','Pres', 'VP']"
      ],
      "execution_count": null,
      "outputs": []
    },
    {
      "cell_type": "code",
      "metadata": {
        "id": "y0W5Sbu6AoUm"
      },
      "source": [
        "pres = pres.drop(columns='Year', axis=1)"
      ],
      "execution_count": null,
      "outputs": []
    },
    {
      "cell_type": "code",
      "metadata": {
        "colab": {
          "base_uri": "https://localhost:8080/"
        },
        "id": "UAlxLm2_AoUm",
        "outputId": "88fdd325-1a49-4d15-f4df-61f798944375"
      },
      "source": [
        "pres.head()"
      ],
      "execution_count": null,
      "outputs": [
        {
          "output_type": "execute_result",
          "data": {
            "text/html": [
              "<div>\n",
              "<style scoped>\n",
              "    .dataframe tbody tr th:only-of-type {\n",
              "        vertical-align: middle;\n",
              "    }\n",
              "\n",
              "    .dataframe tbody tr th {\n",
              "        vertical-align: top;\n",
              "    }\n",
              "\n",
              "    .dataframe thead th {\n",
              "        text-align: right;\n",
              "    }\n",
              "</style>\n",
              "<table border=\"1\" class=\"dataframe\">\n",
              "  <thead>\n",
              "    <tr style=\"text-align: right;\">\n",
              "      <th></th>\n",
              "      <th>Pres</th>\n",
              "      <th>VP</th>\n",
              "    </tr>\n",
              "  </thead>\n",
              "  <tbody>\n",
              "    <tr>\n",
              "      <th>0</th>\n",
              "      <td>Joe Biden</td>\n",
              "      <td>Kamala Harris</td>\n",
              "    </tr>\n",
              "    <tr>\n",
              "      <th>1</th>\n",
              "      <td>Donald Trump</td>\n",
              "      <td>Mike Pence</td>\n",
              "    </tr>\n",
              "    <tr>\n",
              "      <th>2</th>\n",
              "      <td>Donald Trump</td>\n",
              "      <td>Mike Pence</td>\n",
              "    </tr>\n",
              "    <tr>\n",
              "      <th>3</th>\n",
              "      <td>Hillary Clinton</td>\n",
              "      <td>Tim Kaine</td>\n",
              "    </tr>\n",
              "    <tr>\n",
              "      <th>4</th>\n",
              "      <td>Barack Obama</td>\n",
              "      <td>Joe Biden</td>\n",
              "    </tr>\n",
              "  </tbody>\n",
              "</table>\n",
              "</div>"
            ],
            "text/plain": [
              "              Pres             VP\n",
              "0        Joe Biden  Kamala Harris\n",
              "1     Donald Trump     Mike Pence\n",
              "2     Donald Trump     Mike Pence\n",
              "3  Hillary Clinton      Tim Kaine\n",
              "4     Barack Obama      Joe Biden"
            ]
          },
          "metadata": {},
          "execution_count": 133
        }
      ]
    },
    {
      "cell_type": "code",
      "metadata": {
        "scrolled": true,
        "colab": {
          "base_uri": "https://localhost:8080/"
        },
        "id": "aUO8nJhsAoUm",
        "outputId": "711bd180-d890-4b7d-b1a4-dd15bbf8f58b"
      },
      "source": [
        "pres_list = list(pres.Pres)\n",
        "pres_list"
      ],
      "execution_count": null,
      "outputs": [
        {
          "output_type": "execute_result",
          "data": {
            "text/plain": [
              "['Joe Biden',\n",
              " 'Donald Trump',\n",
              " 'Donald Trump',\n",
              " 'Hillary Clinton',\n",
              " 'Barack Obama',\n",
              " 'Mitt Romney',\n",
              " 'Barack Obama',\n",
              " 'John McCain',\n",
              " 'George W. Bush',\n",
              " 'John Kerry',\n",
              " 'George W. Bush',\n",
              " 'Al Gore',\n",
              " 'Bill Clinton',\n",
              " 'Bob Dole',\n",
              " 'Bill Clinton',\n",
              " 'George H. W. Bush',\n",
              " 'Ross Perot',\n",
              " 'George H. W. Bush',\n",
              " 'Michael Dukakis',\n",
              " 'Ronald Reagan',\n",
              " 'Walter Mondale',\n",
              " 'Ronald Reagan',\n",
              " 'Jimmy Carter',\n",
              " 'Jimmy Carter',\n",
              " 'Gerald Ford']"
            ]
          },
          "metadata": {},
          "execution_count": 134
        }
      ]
    },
    {
      "cell_type": "code",
      "metadata": {
        "scrolled": false,
        "colab": {
          "base_uri": "https://localhost:8080/"
        },
        "id": "gqhBkr3HAoUm",
        "outputId": "995948ea-20bb-44d7-efc9-430cb8e4afb2"
      },
      "source": [
        "vp = list(pres['VP'])\n",
        "vp"
      ],
      "execution_count": null,
      "outputs": [
        {
          "output_type": "execute_result",
          "data": {
            "text/plain": [
              "['Kamala Harris',\n",
              " 'Mike Pence',\n",
              " 'Mike Pence',\n",
              " 'Tim Kaine',\n",
              " 'Joe Biden',\n",
              " 'Paul Ryan',\n",
              " 'Joe Biden',\n",
              " 'Sarah Palin',\n",
              " 'Dick Cheney',\n",
              " 'John Edwards',\n",
              " 'Dick Cheney',\n",
              " 'Joe Lieberman',\n",
              " 'Al Gore',\n",
              " 'Jack Kemp',\n",
              " 'Al Gore',\n",
              " 'Dan Quayle',\n",
              " 'James Stockdale',\n",
              " 'Dan Quayle',\n",
              " 'Lloyd Bentsen',\n",
              " 'George H. W. Bush',\n",
              " 'Geraldine Ferraro',\n",
              " 'George H. W. Bush',\n",
              " 'Walter Mondale',\n",
              " 'Walter Mondale',\n",
              " 'Bob Dole']"
            ]
          },
          "metadata": {},
          "execution_count": 135
        }
      ]
    },
    {
      "cell_type": "code",
      "metadata": {
        "id": "YS6ChFOjAoUm"
      },
      "source": [
        "for v in vp:\n",
        "    pres_list.append(v)"
      ],
      "execution_count": null,
      "outputs": []
    },
    {
      "cell_type": "code",
      "metadata": {
        "colab": {
          "base_uri": "https://localhost:8080/"
        },
        "id": "U_42mtUNAoUm",
        "outputId": "4a88a56f-982c-4ff5-96d8-1ff4b48c140b"
      },
      "source": [
        "pres_list"
      ],
      "execution_count": null,
      "outputs": [
        {
          "output_type": "execute_result",
          "data": {
            "text/plain": [
              "['Joe Biden',\n",
              " 'Donald Trump',\n",
              " 'Donald Trump',\n",
              " 'Hillary Clinton',\n",
              " 'Barack Obama',\n",
              " 'Mitt Romney',\n",
              " 'Barack Obama',\n",
              " 'John McCain',\n",
              " 'George W. Bush',\n",
              " 'John Kerry',\n",
              " 'George W. Bush',\n",
              " 'Al Gore',\n",
              " 'Bill Clinton',\n",
              " 'Bob Dole',\n",
              " 'Bill Clinton',\n",
              " 'George H. W. Bush',\n",
              " 'Ross Perot',\n",
              " 'George H. W. Bush',\n",
              " 'Michael Dukakis',\n",
              " 'Ronald Reagan',\n",
              " 'Walter Mondale',\n",
              " 'Ronald Reagan',\n",
              " 'Jimmy Carter',\n",
              " 'Jimmy Carter',\n",
              " 'Gerald Ford',\n",
              " 'Kamala Harris',\n",
              " 'Mike Pence',\n",
              " 'Mike Pence',\n",
              " 'Tim Kaine',\n",
              " 'Joe Biden',\n",
              " 'Paul Ryan',\n",
              " 'Joe Biden',\n",
              " 'Sarah Palin',\n",
              " 'Dick Cheney',\n",
              " 'John Edwards',\n",
              " 'Dick Cheney',\n",
              " 'Joe Lieberman',\n",
              " 'Al Gore',\n",
              " 'Jack Kemp',\n",
              " 'Al Gore',\n",
              " 'Dan Quayle',\n",
              " 'James Stockdale',\n",
              " 'Dan Quayle',\n",
              " 'Lloyd Bentsen',\n",
              " 'George H. W. Bush',\n",
              " 'Geraldine Ferraro',\n",
              " 'George H. W. Bush',\n",
              " 'Walter Mondale',\n",
              " 'Walter Mondale',\n",
              " 'Bob Dole']"
            ]
          },
          "metadata": {},
          "execution_count": 137
        }
      ]
    },
    {
      "cell_type": "markdown",
      "metadata": {
        "id": "SWNBaEu2Lp1l"
      },
      "source": [
        "#### Now that we have list of presidential candidates, let's create a df of cast impressions of these candidates:"
      ]
    },
    {
      "cell_type": "code",
      "metadata": {
        "scrolled": true,
        "colab": {
          "base_uri": "https://localhost:8080/",
          "height": 414
        },
        "id": "VSh5oc1YAoUm",
        "outputId": "e4d2cd3d-a56d-44f1-e33b-5a283f19c81a"
      },
      "source": [
        "# checking out cast_impress df\n",
        "cast_impress"
      ],
      "execution_count": null,
      "outputs": [
        {
          "output_type": "execute_result",
          "data": {
            "text/html": [
              "<div>\n",
              "<style scoped>\n",
              "    .dataframe tbody tr th:only-of-type {\n",
              "        vertical-align: middle;\n",
              "    }\n",
              "\n",
              "    .dataframe tbody tr th {\n",
              "        vertical-align: top;\n",
              "    }\n",
              "\n",
              "    .dataframe thead th {\n",
              "        text-align: right;\n",
              "    }\n",
              "</style>\n",
              "<table border=\"1\" class=\"dataframe\">\n",
              "  <thead>\n",
              "    <tr style=\"text-align: right;\">\n",
              "      <th></th>\n",
              "      <th>aid</th>\n",
              "      <th>tid</th>\n",
              "      <th>capacity</th>\n",
              "      <th>impid</th>\n",
              "      <th>sid</th>\n",
              "      <th>gender</th>\n",
              "    </tr>\n",
              "  </thead>\n",
              "  <tbody>\n",
              "    <tr>\n",
              "      <th>32</th>\n",
              "      <td>Chris Redd</td>\n",
              "      <td>202104108</td>\n",
              "      <td>cast</td>\n",
              "      <td>4142.0</td>\n",
              "      <td>46</td>\n",
              "      <td>male</td>\n",
              "    </tr>\n",
              "    <tr>\n",
              "      <th>33</th>\n",
              "      <td>Beck Bennett</td>\n",
              "      <td>202104108</td>\n",
              "      <td>cast</td>\n",
              "      <td>4143.0</td>\n",
              "      <td>46</td>\n",
              "      <td>male</td>\n",
              "    </tr>\n",
              "    <tr>\n",
              "      <th>62</th>\n",
              "      <td>Pete Davidson</td>\n",
              "      <td>202104031</td>\n",
              "      <td>cast</td>\n",
              "      <td>4141.0</td>\n",
              "      <td>46</td>\n",
              "      <td>male</td>\n",
              "    </tr>\n",
              "    <tr>\n",
              "      <th>64</th>\n",
              "      <td>Chloe Fineman</td>\n",
              "      <td>202104031</td>\n",
              "      <td>cast</td>\n",
              "      <td>4057.0</td>\n",
              "      <td>46</td>\n",
              "      <td>female</td>\n",
              "    </tr>\n",
              "    <tr>\n",
              "      <th>66</th>\n",
              "      <td>Chris Redd</td>\n",
              "      <td>202104031</td>\n",
              "      <td>cast</td>\n",
              "      <td>4140.0</td>\n",
              "      <td>46</td>\n",
              "      <td>male</td>\n",
              "    </tr>\n",
              "    <tr>\n",
              "      <th>...</th>\n",
              "      <td>...</td>\n",
              "      <td>...</td>\n",
              "      <td>...</td>\n",
              "      <td>...</td>\n",
              "      <td>...</td>\n",
              "      <td>...</td>\n",
              "    </tr>\n",
              "    <tr>\n",
              "      <th>55062</th>\n",
              "      <td>Chevy Chase</td>\n",
              "      <td>197511158</td>\n",
              "      <td>cast</td>\n",
              "      <td>5.0</td>\n",
              "      <td>1</td>\n",
              "      <td>male</td>\n",
              "    </tr>\n",
              "    <tr>\n",
              "      <th>55066</th>\n",
              "      <td>John Belushi</td>\n",
              "      <td>197511159</td>\n",
              "      <td>cast</td>\n",
              "      <td>6.0</td>\n",
              "      <td>1</td>\n",
              "      <td>male</td>\n",
              "    </tr>\n",
              "    <tr>\n",
              "      <th>55104</th>\n",
              "      <td>Chevy Chase</td>\n",
              "      <td>197511081</td>\n",
              "      <td>cast</td>\n",
              "      <td>3.0</td>\n",
              "      <td>1</td>\n",
              "      <td>male</td>\n",
              "    </tr>\n",
              "    <tr>\n",
              "      <th>55189</th>\n",
              "      <td>Laraine Newman</td>\n",
              "      <td>197510257</td>\n",
              "      <td>cast</td>\n",
              "      <td>1.0</td>\n",
              "      <td>1</td>\n",
              "      <td>female</td>\n",
              "    </tr>\n",
              "    <tr>\n",
              "      <th>55204</th>\n",
              "      <td>John Belushi</td>\n",
              "      <td>1975102512</td>\n",
              "      <td>cast</td>\n",
              "      <td>2.0</td>\n",
              "      <td>1</td>\n",
              "      <td>male</td>\n",
              "    </tr>\n",
              "  </tbody>\n",
              "</table>\n",
              "<p>6523 rows × 6 columns</p>\n",
              "</div>"
            ],
            "text/plain": [
              "                  aid         tid capacity   impid  sid  gender\n",
              "32         Chris Redd   202104108     cast  4142.0   46    male\n",
              "33       Beck Bennett   202104108     cast  4143.0   46    male\n",
              "62      Pete Davidson   202104031     cast  4141.0   46    male\n",
              "64      Chloe Fineman   202104031     cast  4057.0   46  female\n",
              "66         Chris Redd   202104031     cast  4140.0   46    male\n",
              "...               ...         ...      ...     ...  ...     ...\n",
              "55062     Chevy Chase   197511158     cast     5.0    1    male\n",
              "55066    John Belushi   197511159     cast     6.0    1    male\n",
              "55104     Chevy Chase   197511081     cast     3.0    1    male\n",
              "55189  Laraine Newman   197510257     cast     1.0    1  female\n",
              "55204    John Belushi  1975102512     cast     2.0    1    male\n",
              "\n",
              "[6523 rows x 6 columns]"
            ]
          },
          "metadata": {},
          "execution_count": 138
        }
      ]
    },
    {
      "cell_type": "code",
      "metadata": {
        "scrolled": true,
        "colab": {
          "base_uri": "https://localhost:8080/"
        },
        "id": "_0ePg91wAoUm",
        "outputId": "2857dfc2-328a-4a3d-bf85-89392f527e7e"
      },
      "source": [
        "cast_impress.info()"
      ],
      "execution_count": null,
      "outputs": [
        {
          "output_type": "stream",
          "name": "stdout",
          "text": [
            "<class 'pandas.core.frame.DataFrame'>\n",
            "Int64Index: 6523 entries, 32 to 55204\n",
            "Data columns (total 6 columns):\n",
            " #   Column    Non-Null Count  Dtype \n",
            "---  ------    --------------  ----- \n",
            " 0   aid       6523 non-null   object\n",
            " 1   tid       6523 non-null   object\n",
            " 2   capacity  6523 non-null   object\n",
            " 3   impid     6523 non-null   object\n",
            " 4   sid       6523 non-null   int64 \n",
            " 5   gender    6523 non-null   object\n",
            "dtypes: int64(1), object(5)\n",
            "memory usage: 356.7+ KB\n"
          ]
        }
      ]
    },
    {
      "cell_type": "code",
      "metadata": {
        "id": "Mpl0Q-WOAoUn"
      },
      "source": [
        "# editing the impid column because of the .0 \n",
        "cast_impress.impid = cast_impress.impid.str.strip('.0')"
      ],
      "execution_count": null,
      "outputs": []
    },
    {
      "cell_type": "code",
      "metadata": {
        "colab": {
          "base_uri": "https://localhost:8080/",
          "height": 202
        },
        "id": "O23TUq3uAoUn",
        "outputId": "7fe43fe7-732b-40fc-b5a4-ff0fb69a3168"
      },
      "source": [
        "cast_impress.head()\n",
        "# now we can merge with the other df"
      ],
      "execution_count": null,
      "outputs": [
        {
          "output_type": "execute_result",
          "data": {
            "text/html": [
              "<div>\n",
              "<style scoped>\n",
              "    .dataframe tbody tr th:only-of-type {\n",
              "        vertical-align: middle;\n",
              "    }\n",
              "\n",
              "    .dataframe tbody tr th {\n",
              "        vertical-align: top;\n",
              "    }\n",
              "\n",
              "    .dataframe thead th {\n",
              "        text-align: right;\n",
              "    }\n",
              "</style>\n",
              "<table border=\"1\" class=\"dataframe\">\n",
              "  <thead>\n",
              "    <tr style=\"text-align: right;\">\n",
              "      <th></th>\n",
              "      <th>aid</th>\n",
              "      <th>tid</th>\n",
              "      <th>capacity</th>\n",
              "      <th>impid</th>\n",
              "      <th>sid</th>\n",
              "      <th>gender</th>\n",
              "    </tr>\n",
              "  </thead>\n",
              "  <tbody>\n",
              "    <tr>\n",
              "      <th>32</th>\n",
              "      <td>Chris Redd</td>\n",
              "      <td>202104108</td>\n",
              "      <td>cast</td>\n",
              "      <td>4142</td>\n",
              "      <td>46</td>\n",
              "      <td>male</td>\n",
              "    </tr>\n",
              "    <tr>\n",
              "      <th>33</th>\n",
              "      <td>Beck Bennett</td>\n",
              "      <td>202104108</td>\n",
              "      <td>cast</td>\n",
              "      <td>4143</td>\n",
              "      <td>46</td>\n",
              "      <td>male</td>\n",
              "    </tr>\n",
              "    <tr>\n",
              "      <th>62</th>\n",
              "      <td>Pete Davidson</td>\n",
              "      <td>202104031</td>\n",
              "      <td>cast</td>\n",
              "      <td>4141</td>\n",
              "      <td>46</td>\n",
              "      <td>male</td>\n",
              "    </tr>\n",
              "    <tr>\n",
              "      <th>64</th>\n",
              "      <td>Chloe Fineman</td>\n",
              "      <td>202104031</td>\n",
              "      <td>cast</td>\n",
              "      <td>4057</td>\n",
              "      <td>46</td>\n",
              "      <td>female</td>\n",
              "    </tr>\n",
              "    <tr>\n",
              "      <th>66</th>\n",
              "      <td>Chris Redd</td>\n",
              "      <td>202104031</td>\n",
              "      <td>cast</td>\n",
              "      <td>414</td>\n",
              "      <td>46</td>\n",
              "      <td>male</td>\n",
              "    </tr>\n",
              "  </tbody>\n",
              "</table>\n",
              "</div>"
            ],
            "text/plain": [
              "              aid        tid capacity impid  sid  gender\n",
              "32     Chris Redd  202104108     cast  4142   46    male\n",
              "33   Beck Bennett  202104108     cast  4143   46    male\n",
              "62  Pete Davidson  202104031     cast  4141   46    male\n",
              "64  Chloe Fineman  202104031     cast  4057   46  female\n",
              "66     Chris Redd  202104031     cast   414   46    male"
            ]
          },
          "metadata": {},
          "execution_count": 141
        }
      ]
    },
    {
      "cell_type": "code",
      "metadata": {
        "scrolled": true,
        "colab": {
          "base_uri": "https://localhost:8080/"
        },
        "id": "fL_6uZKvAoUn",
        "outputId": "5703e09b-c740-4364-c3d4-a462936d6408"
      },
      "source": [
        "# checking out imp_gen df\n",
        "imp_gen.info()"
      ],
      "execution_count": null,
      "outputs": [
        {
          "output_type": "stream",
          "name": "stdout",
          "text": [
            "<class 'pandas.core.frame.DataFrame'>\n",
            "Int64Index: 4115 entries, 0 to 4114\n",
            "Data columns (total 5 columns):\n",
            " #   Column  Non-Null Count  Dtype \n",
            "---  ------  --------------  ----- \n",
            " 0   impid   4115 non-null   object\n",
            " 1   aid     4115 non-null   object\n",
            " 2   name    4115 non-null   object\n",
            " 3   type    3501 non-null   object\n",
            " 4   gender  3501 non-null   object\n",
            "dtypes: object(5)\n",
            "memory usage: 192.9+ KB\n"
          ]
        }
      ]
    },
    {
      "cell_type": "code",
      "metadata": {
        "id": "Eim8hE18AoUn"
      },
      "source": [
        "# drop redundant columns on imp_gen\n",
        "imp_gen2 = imp_gen.drop(columns=['aid', 'type', 'gender'])"
      ],
      "execution_count": null,
      "outputs": []
    },
    {
      "cell_type": "code",
      "metadata": {
        "colab": {
          "base_uri": "https://localhost:8080/",
          "height": 447
        },
        "id": "tNlqPqvKAoUn",
        "outputId": "b6362a79-1ca2-4efb-8f2a-ad216b65bc94"
      },
      "source": [
        "#check imp_gen2\n",
        "imp_gen2.sample(13)"
      ],
      "execution_count": null,
      "outputs": [
        {
          "output_type": "execute_result",
          "data": {
            "text/html": [
              "<div>\n",
              "<style scoped>\n",
              "    .dataframe tbody tr th:only-of-type {\n",
              "        vertical-align: middle;\n",
              "    }\n",
              "\n",
              "    .dataframe tbody tr th {\n",
              "        vertical-align: top;\n",
              "    }\n",
              "\n",
              "    .dataframe thead th {\n",
              "        text-align: right;\n",
              "    }\n",
              "</style>\n",
              "<table border=\"1\" class=\"dataframe\">\n",
              "  <thead>\n",
              "    <tr style=\"text-align: right;\">\n",
              "      <th></th>\n",
              "      <th>impid</th>\n",
              "      <th>name</th>\n",
              "    </tr>\n",
              "  </thead>\n",
              "  <tbody>\n",
              "    <tr>\n",
              "      <th>1056</th>\n",
              "      <td>3165</td>\n",
              "      <td>M.I.A.</td>\n",
              "    </tr>\n",
              "    <tr>\n",
              "      <th>1384</th>\n",
              "      <td>2859</td>\n",
              "      <td>Jason Mraz</td>\n",
              "    </tr>\n",
              "    <tr>\n",
              "      <th>2588</th>\n",
              "      <td>1604</td>\n",
              "      <td>Debbie Matenopoulos</td>\n",
              "    </tr>\n",
              "    <tr>\n",
              "      <th>1181</th>\n",
              "      <td>2926</td>\n",
              "      <td>Jim Nantz</td>\n",
              "    </tr>\n",
              "    <tr>\n",
              "      <th>617</th>\n",
              "      <td>3590</td>\n",
              "      <td>Michael Buffer</td>\n",
              "    </tr>\n",
              "    <tr>\n",
              "      <th>3486</th>\n",
              "      <td>675</td>\n",
              "      <td>Bruce Babbitt</td>\n",
              "    </tr>\n",
              "    <tr>\n",
              "      <th>3860</th>\n",
              "      <td>283</td>\n",
              "      <td>Jerry Lewis</td>\n",
              "    </tr>\n",
              "    <tr>\n",
              "      <th>482</th>\n",
              "      <td>3722</td>\n",
              "      <td>Chris Wallace</td>\n",
              "    </tr>\n",
              "    <tr>\n",
              "      <th>1679</th>\n",
              "      <td>2534</td>\n",
              "      <td>Farrah Fawcett</td>\n",
              "    </tr>\n",
              "    <tr>\n",
              "      <th>522</th>\n",
              "      <td>3684</td>\n",
              "      <td>Tupac Shakur</td>\n",
              "    </tr>\n",
              "    <tr>\n",
              "      <th>3382</th>\n",
              "      <td>607</td>\n",
              "      <td>Liza Minnelli</td>\n",
              "    </tr>\n",
              "    <tr>\n",
              "      <th>2682</th>\n",
              "      <td>1407</td>\n",
              "      <td>David Letterman</td>\n",
              "    </tr>\n",
              "    <tr>\n",
              "      <th>3722</th>\n",
              "      <td>427</td>\n",
              "      <td>Samuel Clemens</td>\n",
              "    </tr>\n",
              "  </tbody>\n",
              "</table>\n",
              "</div>"
            ],
            "text/plain": [
              "     impid                 name\n",
              "1056  3165               M.I.A.\n",
              "1384  2859           Jason Mraz\n",
              "2588  1604  Debbie Matenopoulos\n",
              "1181  2926            Jim Nantz\n",
              "617   3590       Michael Buffer\n",
              "3486   675        Bruce Babbitt\n",
              "3860   283          Jerry Lewis\n",
              "482   3722        Chris Wallace\n",
              "1679  2534       Farrah Fawcett\n",
              "522   3684         Tupac Shakur\n",
              "3382   607        Liza Minnelli\n",
              "2682  1407      David Letterman\n",
              "3722   427       Samuel Clemens"
            ]
          },
          "metadata": {},
          "execution_count": 144
        }
      ]
    },
    {
      "cell_type": "code",
      "metadata": {
        "id": "AfJmT7GcAoUn"
      },
      "source": [
        "# Merging cast_impress with imp_gen2 \n",
        "cast_imp_gen = pd.merge(cast_impress, imp_gen2, how='left', on='impid')"
      ],
      "execution_count": null,
      "outputs": []
    },
    {
      "cell_type": "code",
      "metadata": {
        "scrolled": true,
        "colab": {
          "base_uri": "https://localhost:8080/",
          "height": 447
        },
        "id": "dNQSvr_0AoUn",
        "outputId": "a46e92b6-738c-4389-84dd-f33f2aa3dfd3"
      },
      "source": [
        "cast_imp_gen.head(13)"
      ],
      "execution_count": null,
      "outputs": [
        {
          "output_type": "execute_result",
          "data": {
            "text/html": [
              "<div>\n",
              "<style scoped>\n",
              "    .dataframe tbody tr th:only-of-type {\n",
              "        vertical-align: middle;\n",
              "    }\n",
              "\n",
              "    .dataframe tbody tr th {\n",
              "        vertical-align: top;\n",
              "    }\n",
              "\n",
              "    .dataframe thead th {\n",
              "        text-align: right;\n",
              "    }\n",
              "</style>\n",
              "<table border=\"1\" class=\"dataframe\">\n",
              "  <thead>\n",
              "    <tr style=\"text-align: right;\">\n",
              "      <th></th>\n",
              "      <th>aid</th>\n",
              "      <th>tid</th>\n",
              "      <th>capacity</th>\n",
              "      <th>impid</th>\n",
              "      <th>sid</th>\n",
              "      <th>gender</th>\n",
              "      <th>name</th>\n",
              "    </tr>\n",
              "  </thead>\n",
              "  <tbody>\n",
              "    <tr>\n",
              "      <th>0</th>\n",
              "      <td>Chris Redd</td>\n",
              "      <td>202104108</td>\n",
              "      <td>cast</td>\n",
              "      <td>4142</td>\n",
              "      <td>46</td>\n",
              "      <td>male</td>\n",
              "      <td>Barack Obama</td>\n",
              "    </tr>\n",
              "    <tr>\n",
              "      <th>1</th>\n",
              "      <td>Beck Bennett</td>\n",
              "      <td>202104108</td>\n",
              "      <td>cast</td>\n",
              "      <td>4143</td>\n",
              "      <td>46</td>\n",
              "      <td>male</td>\n",
              "      <td>Bruce Springsteen</td>\n",
              "    </tr>\n",
              "    <tr>\n",
              "      <th>2</th>\n",
              "      <td>Pete Davidson</td>\n",
              "      <td>202104031</td>\n",
              "      <td>cast</td>\n",
              "      <td>4141</td>\n",
              "      <td>46</td>\n",
              "      <td>male</td>\n",
              "      <td>Matt Gaetz</td>\n",
              "    </tr>\n",
              "    <tr>\n",
              "      <th>3</th>\n",
              "      <td>Chloe Fineman</td>\n",
              "      <td>202104031</td>\n",
              "      <td>cast</td>\n",
              "      <td>4057</td>\n",
              "      <td>46</td>\n",
              "      <td>female</td>\n",
              "      <td>Britney Spears</td>\n",
              "    </tr>\n",
              "    <tr>\n",
              "      <th>4</th>\n",
              "      <td>Chris Redd</td>\n",
              "      <td>202104031</td>\n",
              "      <td>cast</td>\n",
              "      <td>414</td>\n",
              "      <td>46</td>\n",
              "      <td>male</td>\n",
              "      <td>Ron Hendren</td>\n",
              "    </tr>\n",
              "    <tr>\n",
              "      <th>5</th>\n",
              "      <td>Mikey Day</td>\n",
              "      <td>202103273</td>\n",
              "      <td>cast</td>\n",
              "      <td>4134</td>\n",
              "      <td>46</td>\n",
              "      <td>male</td>\n",
              "      <td>Sean Evans</td>\n",
              "    </tr>\n",
              "    <tr>\n",
              "      <th>6</th>\n",
              "      <td>Aidy Bryant</td>\n",
              "      <td>202103275</td>\n",
              "      <td>cast</td>\n",
              "      <td>4121</td>\n",
              "      <td>46</td>\n",
              "      <td>female</td>\n",
              "      <td>Ted Cruz</td>\n",
              "    </tr>\n",
              "    <tr>\n",
              "      <th>7</th>\n",
              "      <td>Chloe Fineman</td>\n",
              "      <td>202103275</td>\n",
              "      <td>cast</td>\n",
              "      <td>4136</td>\n",
              "      <td>46</td>\n",
              "      <td>female</td>\n",
              "      <td>Ella Emhoff</td>\n",
              "    </tr>\n",
              "    <tr>\n",
              "      <th>8</th>\n",
              "      <td>Alex Moffat</td>\n",
              "      <td>202103275</td>\n",
              "      <td>cast</td>\n",
              "      <td>4096</td>\n",
              "      <td>46</td>\n",
              "      <td>male</td>\n",
              "      <td>Joe Biden</td>\n",
              "    </tr>\n",
              "    <tr>\n",
              "      <th>9</th>\n",
              "      <td>Cecily Strong</td>\n",
              "      <td>202103275</td>\n",
              "      <td>cast</td>\n",
              "      <td>41</td>\n",
              "      <td>46</td>\n",
              "      <td>female</td>\n",
              "      <td>William Shatner , Captain Kirk</td>\n",
              "    </tr>\n",
              "    <tr>\n",
              "      <th>10</th>\n",
              "      <td>Kenan Thompson</td>\n",
              "      <td>202103275</td>\n",
              "      <td>cast</td>\n",
              "      <td>4137</td>\n",
              "      <td>46</td>\n",
              "      <td>male</td>\n",
              "      <td>Raphael Warnock</td>\n",
              "    </tr>\n",
              "    <tr>\n",
              "      <th>11</th>\n",
              "      <td>Kate McKinnon</td>\n",
              "      <td>202103276</td>\n",
              "      <td>cast</td>\n",
              "      <td>4138</td>\n",
              "      <td>46</td>\n",
              "      <td>female</td>\n",
              "      <td>Janet Yellen</td>\n",
              "    </tr>\n",
              "    <tr>\n",
              "      <th>12</th>\n",
              "      <td>Cecily Strong</td>\n",
              "      <td>202103278</td>\n",
              "      <td>cast</td>\n",
              "      <td>4139</td>\n",
              "      <td>46</td>\n",
              "      <td>female</td>\n",
              "      <td>Sidney Powell</td>\n",
              "    </tr>\n",
              "  </tbody>\n",
              "</table>\n",
              "</div>"
            ],
            "text/plain": [
              "               aid        tid  ...  gender                            name\n",
              "0       Chris Redd  202104108  ...    male                    Barack Obama\n",
              "1     Beck Bennett  202104108  ...    male               Bruce Springsteen\n",
              "2    Pete Davidson  202104031  ...    male                      Matt Gaetz\n",
              "3    Chloe Fineman  202104031  ...  female                  Britney Spears\n",
              "4       Chris Redd  202104031  ...    male                     Ron Hendren\n",
              "5        Mikey Day  202103273  ...    male                      Sean Evans\n",
              "6      Aidy Bryant  202103275  ...  female                        Ted Cruz\n",
              "7    Chloe Fineman  202103275  ...  female                     Ella Emhoff\n",
              "8      Alex Moffat  202103275  ...    male                       Joe Biden\n",
              "9    Cecily Strong  202103275  ...  female  William Shatner , Captain Kirk\n",
              "10  Kenan Thompson  202103275  ...    male                 Raphael Warnock\n",
              "11   Kate McKinnon  202103276  ...  female                    Janet Yellen\n",
              "12   Cecily Strong  202103278  ...  female                   Sidney Powell\n",
              "\n",
              "[13 rows x 7 columns]"
            ]
          },
          "metadata": {},
          "execution_count": 146
        }
      ]
    },
    {
      "cell_type": "code",
      "metadata": {
        "colab": {
          "base_uri": "https://localhost:8080/"
        },
        "id": "ZPXqSkNRMZ04",
        "outputId": "910693db-fee0-4b59-cede-ee2fee77dcbf"
      },
      "source": [
        "cast_imp_gen.info()"
      ],
      "execution_count": null,
      "outputs": [
        {
          "output_type": "stream",
          "name": "stdout",
          "text": [
            "<class 'pandas.core.frame.DataFrame'>\n",
            "Int64Index: 6523 entries, 0 to 6522\n",
            "Data columns (total 7 columns):\n",
            " #   Column    Non-Null Count  Dtype \n",
            "---  ------    --------------  ----- \n",
            " 0   aid       6523 non-null   object\n",
            " 1   tid       6523 non-null   object\n",
            " 2   capacity  6523 non-null   object\n",
            " 3   impid     6523 non-null   object\n",
            " 4   sid       6523 non-null   int64 \n",
            " 5   gender    6523 non-null   object\n",
            " 6   name      6506 non-null   object\n",
            "dtypes: int64(1), object(6)\n",
            "memory usage: 407.7+ KB\n"
          ]
        }
      ]
    },
    {
      "cell_type": "code",
      "metadata": {
        "colab": {
          "base_uri": "https://localhost:8080/"
        },
        "id": "zuz3mz_rKB_o",
        "outputId": "d58a27f9-a748-4618-b736-236134676ce9"
      },
      "source": [
        "len(cast_imp_gen.name.unique())"
      ],
      "execution_count": null,
      "outputs": [
        {
          "output_type": "execute_result",
          "data": {
            "text/plain": [
              "2405"
            ]
          },
          "metadata": {},
          "execution_count": 148
        }
      ]
    },
    {
      "cell_type": "code",
      "metadata": {
        "colab": {
          "base_uri": "https://localhost:8080/",
          "height": 447
        },
        "id": "JkA68oH6KSw6",
        "outputId": "7421ad59-872c-42a0-aea6-3b4341aaaa87"
      },
      "source": [
        "cast_imp_gen.sample(13)"
      ],
      "execution_count": null,
      "outputs": [
        {
          "output_type": "execute_result",
          "data": {
            "text/html": [
              "<div>\n",
              "<style scoped>\n",
              "    .dataframe tbody tr th:only-of-type {\n",
              "        vertical-align: middle;\n",
              "    }\n",
              "\n",
              "    .dataframe tbody tr th {\n",
              "        vertical-align: top;\n",
              "    }\n",
              "\n",
              "    .dataframe thead th {\n",
              "        text-align: right;\n",
              "    }\n",
              "</style>\n",
              "<table border=\"1\" class=\"dataframe\">\n",
              "  <thead>\n",
              "    <tr style=\"text-align: right;\">\n",
              "      <th></th>\n",
              "      <th>aid</th>\n",
              "      <th>tid</th>\n",
              "      <th>capacity</th>\n",
              "      <th>impid</th>\n",
              "      <th>sid</th>\n",
              "      <th>gender</th>\n",
              "      <th>name</th>\n",
              "    </tr>\n",
              "  </thead>\n",
              "  <tbody>\n",
              "    <tr>\n",
              "      <th>2980</th>\n",
              "      <td>Will Forte</td>\n",
              "      <td>200501221</td>\n",
              "      <td>cast</td>\n",
              "      <td>2252</td>\n",
              "      <td>30</td>\n",
              "      <td>male</td>\n",
              "      <td>George W. Bush</td>\n",
              "    </tr>\n",
              "    <tr>\n",
              "      <th>164</th>\n",
              "      <td>Cecily Strong</td>\n",
              "      <td>201912211</td>\n",
              "      <td>cast</td>\n",
              "      <td>4023</td>\n",
              "      <td>45</td>\n",
              "      <td>female</td>\n",
              "      <td>Tulsi Gabbard</td>\n",
              "    </tr>\n",
              "    <tr>\n",
              "      <th>4422</th>\n",
              "      <td>Darrell Hammond</td>\n",
              "      <td>199702151</td>\n",
              "      <td>cast</td>\n",
              "      <td>128</td>\n",
              "      <td>22</td>\n",
              "      <td>male</td>\n",
              "      <td>Hank Aaron</td>\n",
              "    </tr>\n",
              "    <tr>\n",
              "      <th>2850</th>\n",
              "      <td>Jason Sudeikis</td>\n",
              "      <td>200510086</td>\n",
              "      <td>cast</td>\n",
              "      <td>2425</td>\n",
              "      <td>31</td>\n",
              "      <td>male</td>\n",
              "      <td>Bill Frist</td>\n",
              "    </tr>\n",
              "    <tr>\n",
              "      <th>3391</th>\n",
              "      <td>Darrell Hammond</td>\n",
              "      <td>200211165</td>\n",
              "      <td>cast</td>\n",
              "      <td>1296</td>\n",
              "      <td>28</td>\n",
              "      <td>male</td>\n",
              "      <td>Phil Donahue</td>\n",
              "    </tr>\n",
              "    <tr>\n",
              "      <th>6492</th>\n",
              "      <td>John Belushi</td>\n",
              "      <td>1976042413</td>\n",
              "      <td>cast</td>\n",
              "      <td>2</td>\n",
              "      <td>1</td>\n",
              "      <td>male</td>\n",
              "      <td>Joe Cocker</td>\n",
              "    </tr>\n",
              "    <tr>\n",
              "      <th>2768</th>\n",
              "      <td>Andy Samberg</td>\n",
              "      <td>200601217</td>\n",
              "      <td>cast</td>\n",
              "      <td>2479</td>\n",
              "      <td>31</td>\n",
              "      <td>male</td>\n",
              "      <td>Chuck Norris</td>\n",
              "    </tr>\n",
              "    <tr>\n",
              "      <th>1508</th>\n",
              "      <td>Bill Hader</td>\n",
              "      <td>2012092210</td>\n",
              "      <td>cast</td>\n",
              "      <td>3126</td>\n",
              "      <td>38</td>\n",
              "      <td>male</td>\n",
              "      <td>Rick Perry</td>\n",
              "    </tr>\n",
              "    <tr>\n",
              "      <th>2692</th>\n",
              "      <td>Kenan Thompson</td>\n",
              "      <td>200605204</td>\n",
              "      <td>cast</td>\n",
              "      <td>2519</td>\n",
              "      <td>31</td>\n",
              "      <td>male</td>\n",
              "      <td>Maya Angelou</td>\n",
              "    </tr>\n",
              "    <tr>\n",
              "      <th>4457</th>\n",
              "      <td>Darrell Hammond</td>\n",
              "      <td>1997011816</td>\n",
              "      <td>cast</td>\n",
              "      <td>1292</td>\n",
              "      <td>22</td>\n",
              "      <td>male</td>\n",
              "      <td>Bill Clinton</td>\n",
              "    </tr>\n",
              "    <tr>\n",
              "      <th>467</th>\n",
              "      <td>Kate McKinnon</td>\n",
              "      <td>201804148</td>\n",
              "      <td>cast</td>\n",
              "      <td>388</td>\n",
              "      <td>43</td>\n",
              "      <td>female</td>\n",
              "      <td>James Watt</td>\n",
              "    </tr>\n",
              "    <tr>\n",
              "      <th>2395</th>\n",
              "      <td>Darrell Hammond</td>\n",
              "      <td>200810044</td>\n",
              "      <td>cast</td>\n",
              "      <td>2697</td>\n",
              "      <td>34</td>\n",
              "      <td>male</td>\n",
              "      <td>Herbert Sandler</td>\n",
              "    </tr>\n",
              "    <tr>\n",
              "      <th>879</th>\n",
              "      <td>Kate McKinnon</td>\n",
              "      <td>201512193</td>\n",
              "      <td>cast</td>\n",
              "      <td>3352</td>\n",
              "      <td>41</td>\n",
              "      <td>female</td>\n",
              "      <td>Hillary Clinton</td>\n",
              "    </tr>\n",
              "  </tbody>\n",
              "</table>\n",
              "</div>"
            ],
            "text/plain": [
              "                  aid         tid capacity impid  sid  gender             name\n",
              "2980       Will Forte   200501221     cast  2252   30    male   George W. Bush\n",
              "164     Cecily Strong   201912211     cast  4023   45  female    Tulsi Gabbard\n",
              "4422  Darrell Hammond   199702151     cast   128   22    male       Hank Aaron\n",
              "2850   Jason Sudeikis   200510086     cast  2425   31    male       Bill Frist\n",
              "3391  Darrell Hammond   200211165     cast  1296   28    male     Phil Donahue\n",
              "6492     John Belushi  1976042413     cast     2    1    male       Joe Cocker\n",
              "2768     Andy Samberg   200601217     cast  2479   31    male     Chuck Norris\n",
              "1508       Bill Hader  2012092210     cast  3126   38    male       Rick Perry\n",
              "2692   Kenan Thompson   200605204     cast  2519   31    male     Maya Angelou\n",
              "4457  Darrell Hammond  1997011816     cast  1292   22    male     Bill Clinton\n",
              "467     Kate McKinnon   201804148     cast   388   43  female       James Watt\n",
              "2395  Darrell Hammond   200810044     cast  2697   34    male  Herbert Sandler\n",
              "879     Kate McKinnon   201512193     cast  3352   41  female  Hillary Clinton"
            ]
          },
          "metadata": {},
          "execution_count": 149
        }
      ]
    },
    {
      "cell_type": "code",
      "metadata": {
        "scrolled": true,
        "colab": {
          "base_uri": "https://localhost:8080/"
        },
        "id": "OIbpUTumAoUn",
        "outputId": "f1b8ae9a-98a8-40d6-f811-9b3e3d3a3a1c"
      },
      "source": [
        "# checking that we have our pres_list\n",
        "print(len(pres_list))\n",
        "pres_list\n"
      ],
      "execution_count": null,
      "outputs": [
        {
          "output_type": "stream",
          "name": "stdout",
          "text": [
            "50\n"
          ]
        },
        {
          "output_type": "execute_result",
          "data": {
            "text/plain": [
              "['Joe Biden',\n",
              " 'Donald Trump',\n",
              " 'Donald Trump',\n",
              " 'Hillary Clinton',\n",
              " 'Barack Obama',\n",
              " 'Mitt Romney',\n",
              " 'Barack Obama',\n",
              " 'John McCain',\n",
              " 'George W. Bush',\n",
              " 'John Kerry',\n",
              " 'George W. Bush',\n",
              " 'Al Gore',\n",
              " 'Bill Clinton',\n",
              " 'Bob Dole',\n",
              " 'Bill Clinton',\n",
              " 'George H. W. Bush',\n",
              " 'Ross Perot',\n",
              " 'George H. W. Bush',\n",
              " 'Michael Dukakis',\n",
              " 'Ronald Reagan',\n",
              " 'Walter Mondale',\n",
              " 'Ronald Reagan',\n",
              " 'Jimmy Carter',\n",
              " 'Jimmy Carter',\n",
              " 'Gerald Ford',\n",
              " 'Kamala Harris',\n",
              " 'Mike Pence',\n",
              " 'Mike Pence',\n",
              " 'Tim Kaine',\n",
              " 'Joe Biden',\n",
              " 'Paul Ryan',\n",
              " 'Joe Biden',\n",
              " 'Sarah Palin',\n",
              " 'Dick Cheney',\n",
              " 'John Edwards',\n",
              " 'Dick Cheney',\n",
              " 'Joe Lieberman',\n",
              " 'Al Gore',\n",
              " 'Jack Kemp',\n",
              " 'Al Gore',\n",
              " 'Dan Quayle',\n",
              " 'James Stockdale',\n",
              " 'Dan Quayle',\n",
              " 'Lloyd Bentsen',\n",
              " 'George H. W. Bush',\n",
              " 'Geraldine Ferraro',\n",
              " 'George H. W. Bush',\n",
              " 'Walter Mondale',\n",
              " 'Walter Mondale',\n",
              " 'Bob Dole']"
            ]
          },
          "metadata": {},
          "execution_count": 150
        }
      ]
    },
    {
      "cell_type": "code",
      "metadata": {
        "id": "Yd0xx6XLAoUn"
      },
      "source": [
        "# Creating the pres_imp df: a df of cast impressions of presidential candidates\n",
        "pres_imp = pd.DataFrame(columns=cast_imp_gen.columns)\n",
        "\n",
        "for candidate in pres_list:\n",
        "    \n",
        "    pres_imp = pd.concat([pres_imp, cast_imp_gen.loc[cast_imp_gen['name'] == candidate]])"
      ],
      "execution_count": null,
      "outputs": []
    },
    {
      "cell_type": "code",
      "metadata": {
        "scrolled": true,
        "colab": {
          "base_uri": "https://localhost:8080/",
          "height": 447
        },
        "id": "VZM2DxgQAoUn",
        "outputId": "d03c30e7-4506-43e2-f14c-988b7625986f"
      },
      "source": [
        "pres_imp.head(13)"
      ],
      "execution_count": null,
      "outputs": [
        {
          "output_type": "execute_result",
          "data": {
            "text/html": [
              "<div>\n",
              "<style scoped>\n",
              "    .dataframe tbody tr th:only-of-type {\n",
              "        vertical-align: middle;\n",
              "    }\n",
              "\n",
              "    .dataframe tbody tr th {\n",
              "        vertical-align: top;\n",
              "    }\n",
              "\n",
              "    .dataframe thead th {\n",
              "        text-align: right;\n",
              "    }\n",
              "</style>\n",
              "<table border=\"1\" class=\"dataframe\">\n",
              "  <thead>\n",
              "    <tr style=\"text-align: right;\">\n",
              "      <th></th>\n",
              "      <th>aid</th>\n",
              "      <th>tid</th>\n",
              "      <th>capacity</th>\n",
              "      <th>impid</th>\n",
              "      <th>sid</th>\n",
              "      <th>gender</th>\n",
              "      <th>name</th>\n",
              "    </tr>\n",
              "  </thead>\n",
              "  <tbody>\n",
              "    <tr>\n",
              "      <th>8</th>\n",
              "      <td>Alex Moffat</td>\n",
              "      <td>202103275</td>\n",
              "      <td>cast</td>\n",
              "      <td>4096</td>\n",
              "      <td>46</td>\n",
              "      <td>male</td>\n",
              "      <td>Joe Biden</td>\n",
              "    </tr>\n",
              "    <tr>\n",
              "      <th>69</th>\n",
              "      <td>Alex Moffat</td>\n",
              "      <td>202012191</td>\n",
              "      <td>cast</td>\n",
              "      <td>4096</td>\n",
              "      <td>46</td>\n",
              "      <td>male</td>\n",
              "      <td>Joe Biden</td>\n",
              "    </tr>\n",
              "    <tr>\n",
              "      <th>1423</th>\n",
              "      <td>Jason Sudeikis</td>\n",
              "      <td>2013012614</td>\n",
              "      <td>cast</td>\n",
              "      <td>2638</td>\n",
              "      <td>38</td>\n",
              "      <td>male</td>\n",
              "      <td>Joe Biden</td>\n",
              "    </tr>\n",
              "    <tr>\n",
              "      <th>1475</th>\n",
              "      <td>Jason Sudeikis</td>\n",
              "      <td>201210131</td>\n",
              "      <td>cast</td>\n",
              "      <td>2638</td>\n",
              "      <td>38</td>\n",
              "      <td>male</td>\n",
              "      <td>Joe Biden</td>\n",
              "    </tr>\n",
              "    <tr>\n",
              "      <th>1528</th>\n",
              "      <td>Jason Sudeikis</td>\n",
              "      <td>201205121</td>\n",
              "      <td>cast</td>\n",
              "      <td>2638</td>\n",
              "      <td>37</td>\n",
              "      <td>male</td>\n",
              "      <td>Joe Biden</td>\n",
              "    </tr>\n",
              "    <tr>\n",
              "      <th>1599</th>\n",
              "      <td>Jason Sudeikis</td>\n",
              "      <td>2012021810</td>\n",
              "      <td>cast</td>\n",
              "      <td>2638</td>\n",
              "      <td>37</td>\n",
              "      <td>male</td>\n",
              "      <td>Joe Biden</td>\n",
              "    </tr>\n",
              "    <tr>\n",
              "      <th>1630</th>\n",
              "      <td>Jason Sudeikis</td>\n",
              "      <td>201201147</td>\n",
              "      <td>cast</td>\n",
              "      <td>2638</td>\n",
              "      <td>37</td>\n",
              "      <td>male</td>\n",
              "      <td>Joe Biden</td>\n",
              "    </tr>\n",
              "    <tr>\n",
              "      <th>1897</th>\n",
              "      <td>Jason Sudeikis</td>\n",
              "      <td>201012181</td>\n",
              "      <td>cast</td>\n",
              "      <td>2638</td>\n",
              "      <td>36</td>\n",
              "      <td>male</td>\n",
              "      <td>Joe Biden</td>\n",
              "    </tr>\n",
              "    <tr>\n",
              "      <th>1934</th>\n",
              "      <td>Jason Sudeikis</td>\n",
              "      <td>201012041</td>\n",
              "      <td>cast</td>\n",
              "      <td>2638</td>\n",
              "      <td>36</td>\n",
              "      <td>male</td>\n",
              "      <td>Joe Biden</td>\n",
              "    </tr>\n",
              "    <tr>\n",
              "      <th>1970</th>\n",
              "      <td>Jason Sudeikis</td>\n",
              "      <td>201010301</td>\n",
              "      <td>cast</td>\n",
              "      <td>2638</td>\n",
              "      <td>36</td>\n",
              "      <td>male</td>\n",
              "      <td>Joe Biden</td>\n",
              "    </tr>\n",
              "    <tr>\n",
              "      <th>2118</th>\n",
              "      <td>Jason Sudeikis</td>\n",
              "      <td>201001301</td>\n",
              "      <td>cast</td>\n",
              "      <td>2638</td>\n",
              "      <td>35</td>\n",
              "      <td>male</td>\n",
              "      <td>Joe Biden</td>\n",
              "    </tr>\n",
              "    <tr>\n",
              "      <th>2161</th>\n",
              "      <td>Jason Sudeikis</td>\n",
              "      <td>200912051</td>\n",
              "      <td>cast</td>\n",
              "      <td>2638</td>\n",
              "      <td>35</td>\n",
              "      <td>male</td>\n",
              "      <td>Joe Biden</td>\n",
              "    </tr>\n",
              "    <tr>\n",
              "      <th>2179</th>\n",
              "      <td>Jason Sudeikis</td>\n",
              "      <td>200911141</td>\n",
              "      <td>cast</td>\n",
              "      <td>2638</td>\n",
              "      <td>35</td>\n",
              "      <td>male</td>\n",
              "      <td>Joe Biden</td>\n",
              "    </tr>\n",
              "  </tbody>\n",
              "</table>\n",
              "</div>"
            ],
            "text/plain": [
              "                 aid         tid capacity impid sid gender       name\n",
              "8        Alex Moffat   202103275     cast  4096  46   male  Joe Biden\n",
              "69       Alex Moffat   202012191     cast  4096  46   male  Joe Biden\n",
              "1423  Jason Sudeikis  2013012614     cast  2638  38   male  Joe Biden\n",
              "1475  Jason Sudeikis   201210131     cast  2638  38   male  Joe Biden\n",
              "1528  Jason Sudeikis   201205121     cast  2638  37   male  Joe Biden\n",
              "1599  Jason Sudeikis  2012021810     cast  2638  37   male  Joe Biden\n",
              "1630  Jason Sudeikis   201201147     cast  2638  37   male  Joe Biden\n",
              "1897  Jason Sudeikis   201012181     cast  2638  36   male  Joe Biden\n",
              "1934  Jason Sudeikis   201012041     cast  2638  36   male  Joe Biden\n",
              "1970  Jason Sudeikis   201010301     cast  2638  36   male  Joe Biden\n",
              "2118  Jason Sudeikis   201001301     cast  2638  35   male  Joe Biden\n",
              "2161  Jason Sudeikis   200912051     cast  2638  35   male  Joe Biden\n",
              "2179  Jason Sudeikis   200911141     cast  2638  35   male  Joe Biden"
            ]
          },
          "metadata": {},
          "execution_count": 152
        }
      ]
    },
    {
      "cell_type": "code",
      "metadata": {
        "colab": {
          "base_uri": "https://localhost:8080/",
          "height": 447
        },
        "id": "MXMFVG2MMsR1",
        "outputId": "d5d95552-73c4-4f0d-cad4-02077bed81de"
      },
      "source": [
        "pres_imp.sample(13)"
      ],
      "execution_count": null,
      "outputs": [
        {
          "output_type": "execute_result",
          "data": {
            "text/html": [
              "<div>\n",
              "<style scoped>\n",
              "    .dataframe tbody tr th:only-of-type {\n",
              "        vertical-align: middle;\n",
              "    }\n",
              "\n",
              "    .dataframe tbody tr th {\n",
              "        vertical-align: top;\n",
              "    }\n",
              "\n",
              "    .dataframe thead th {\n",
              "        text-align: right;\n",
              "    }\n",
              "</style>\n",
              "<table border=\"1\" class=\"dataframe\">\n",
              "  <thead>\n",
              "    <tr style=\"text-align: right;\">\n",
              "      <th></th>\n",
              "      <th>aid</th>\n",
              "      <th>tid</th>\n",
              "      <th>capacity</th>\n",
              "      <th>impid</th>\n",
              "      <th>sid</th>\n",
              "      <th>gender</th>\n",
              "      <th>name</th>\n",
              "    </tr>\n",
              "  </thead>\n",
              "  <tbody>\n",
              "    <tr>\n",
              "      <th>512</th>\n",
              "      <td>Beck Bennett</td>\n",
              "      <td>201803031</td>\n",
              "      <td>cast</td>\n",
              "      <td>3703</td>\n",
              "      <td>43</td>\n",
              "      <td>male</td>\n",
              "      <td>Mike Pence</td>\n",
              "    </tr>\n",
              "    <tr>\n",
              "      <th>2251</th>\n",
              "      <td>Jason Sudeikis</td>\n",
              "      <td>200904111</td>\n",
              "      <td>cast</td>\n",
              "      <td>2638</td>\n",
              "      <td>34</td>\n",
              "      <td>male</td>\n",
              "      <td>Joe Biden</td>\n",
              "    </tr>\n",
              "    <tr>\n",
              "      <th>3329</th>\n",
              "      <td>Chris Parnell</td>\n",
              "      <td>200303151</td>\n",
              "      <td>cast</td>\n",
              "      <td>2055</td>\n",
              "      <td>28</td>\n",
              "      <td>male</td>\n",
              "      <td>George W. Bush</td>\n",
              "    </tr>\n",
              "    <tr>\n",
              "      <th>2406</th>\n",
              "      <td>Darrell Hammond</td>\n",
              "      <td>200809201</td>\n",
              "      <td>cast</td>\n",
              "      <td>2673</td>\n",
              "      <td>34</td>\n",
              "      <td>male</td>\n",
              "      <td>John McCain</td>\n",
              "    </tr>\n",
              "    <tr>\n",
              "      <th>2774</th>\n",
              "      <td>Darrell Hammond</td>\n",
              "      <td>200512171</td>\n",
              "      <td>cast</td>\n",
              "      <td>1872</td>\n",
              "      <td>31</td>\n",
              "      <td>male</td>\n",
              "      <td>Dick Cheney</td>\n",
              "    </tr>\n",
              "    <tr>\n",
              "      <th>5039</th>\n",
              "      <td>Phil Hartman</td>\n",
              "      <td>199301161</td>\n",
              "      <td>cast</td>\n",
              "      <td>962</td>\n",
              "      <td>18</td>\n",
              "      <td>male</td>\n",
              "      <td>Bill Clinton</td>\n",
              "    </tr>\n",
              "    <tr>\n",
              "      <th>3324</th>\n",
              "      <td>Chris Parnell</td>\n",
              "      <td>200304051</td>\n",
              "      <td>cast</td>\n",
              "      <td>2055</td>\n",
              "      <td>28</td>\n",
              "      <td>male</td>\n",
              "      <td>George W. Bush</td>\n",
              "    </tr>\n",
              "    <tr>\n",
              "      <th>2375</th>\n",
              "      <td>Jason Sudeikis</td>\n",
              "      <td>200810251</td>\n",
              "      <td>cast</td>\n",
              "      <td>2638</td>\n",
              "      <td>34</td>\n",
              "      <td>male</td>\n",
              "      <td>Joe Biden</td>\n",
              "    </tr>\n",
              "    <tr>\n",
              "      <th>1342</th>\n",
              "      <td>Jay Pharoah</td>\n",
              "      <td>201309281</td>\n",
              "      <td>cast</td>\n",
              "      <td>3227</td>\n",
              "      <td>39</td>\n",
              "      <td>male</td>\n",
              "      <td>Barack Obama</td>\n",
              "    </tr>\n",
              "    <tr>\n",
              "      <th>1251</th>\n",
              "      <td>Jay Pharoah</td>\n",
              "      <td>201312141</td>\n",
              "      <td>cast</td>\n",
              "      <td>3227</td>\n",
              "      <td>39</td>\n",
              "      <td>male</td>\n",
              "      <td>Barack Obama</td>\n",
              "    </tr>\n",
              "    <tr>\n",
              "      <th>4149</th>\n",
              "      <td>Darrell Hammond</td>\n",
              "      <td>199804041</td>\n",
              "      <td>cast</td>\n",
              "      <td>1292</td>\n",
              "      <td>23</td>\n",
              "      <td>male</td>\n",
              "      <td>Bill Clinton</td>\n",
              "    </tr>\n",
              "    <tr>\n",
              "      <th>2624</th>\n",
              "      <td>Jason Sudeikis</td>\n",
              "      <td>200612091</td>\n",
              "      <td>cast</td>\n",
              "      <td>2556</td>\n",
              "      <td>32</td>\n",
              "      <td>male</td>\n",
              "      <td>George W. Bush</td>\n",
              "    </tr>\n",
              "    <tr>\n",
              "      <th>911</th>\n",
              "      <td>Kate McKinnon</td>\n",
              "      <td>201511219</td>\n",
              "      <td>cast</td>\n",
              "      <td>3352</td>\n",
              "      <td>41</td>\n",
              "      <td>female</td>\n",
              "      <td>Hillary Clinton</td>\n",
              "    </tr>\n",
              "  </tbody>\n",
              "</table>\n",
              "</div>"
            ],
            "text/plain": [
              "                  aid        tid capacity impid sid  gender             name\n",
              "512      Beck Bennett  201803031     cast  3703  43    male       Mike Pence\n",
              "2251   Jason Sudeikis  200904111     cast  2638  34    male        Joe Biden\n",
              "3329    Chris Parnell  200303151     cast  2055  28    male   George W. Bush\n",
              "2406  Darrell Hammond  200809201     cast  2673  34    male      John McCain\n",
              "2774  Darrell Hammond  200512171     cast  1872  31    male      Dick Cheney\n",
              "5039     Phil Hartman  199301161     cast   962  18    male     Bill Clinton\n",
              "3324    Chris Parnell  200304051     cast  2055  28    male   George W. Bush\n",
              "2375   Jason Sudeikis  200810251     cast  2638  34    male        Joe Biden\n",
              "1342      Jay Pharoah  201309281     cast  3227  39    male     Barack Obama\n",
              "1251      Jay Pharoah  201312141     cast  3227  39    male     Barack Obama\n",
              "4149  Darrell Hammond  199804041     cast  1292  23    male     Bill Clinton\n",
              "2624   Jason Sudeikis  200612091     cast  2556  32    male   George W. Bush\n",
              "911     Kate McKinnon  201511219     cast  3352  41  female  Hillary Clinton"
            ]
          },
          "metadata": {},
          "execution_count": 153
        }
      ]
    },
    {
      "cell_type": "code",
      "metadata": {
        "colab": {
          "base_uri": "https://localhost:8080/"
        },
        "id": "JGm17-60AoUn",
        "outputId": "a568b729-bf6c-4a66-ce3f-a3ff735b4868"
      },
      "source": [
        "len(pres_imp.name.unique())"
      ],
      "execution_count": null,
      "outputs": [
        {
          "output_type": "execute_result",
          "data": {
            "text/plain": [
              "28"
            ]
          },
          "metadata": {},
          "execution_count": 154
        }
      ]
    },
    {
      "cell_type": "code",
      "metadata": {
        "id": "uz0cZ2jJAoUn"
      },
      "source": [
        "# 28 unique president candidates. \n",
        "# this is ok, because SNL did not necessarily do sketches about all of these candidates"
      ],
      "execution_count": null,
      "outputs": []
    },
    {
      "cell_type": "code",
      "metadata": {
        "colab": {
          "base_uri": "https://localhost:8080/"
        },
        "id": "iDqBUjoCAoUn",
        "outputId": "395ade4d-a97a-4a76-90c7-493acd4f2db4"
      },
      "source": [
        "pres_imp.info()"
      ],
      "execution_count": null,
      "outputs": [
        {
          "output_type": "stream",
          "name": "stdout",
          "text": [
            "<class 'pandas.core.frame.DataFrame'>\n",
            "Int64Index: 1183 entries, 8 to 4674\n",
            "Data columns (total 7 columns):\n",
            " #   Column    Non-Null Count  Dtype \n",
            "---  ------    --------------  ----- \n",
            " 0   aid       1183 non-null   object\n",
            " 1   tid       1183 non-null   object\n",
            " 2   capacity  1183 non-null   object\n",
            " 3   impid     1183 non-null   object\n",
            " 4   sid       1183 non-null   object\n",
            " 5   gender    1183 non-null   object\n",
            " 6   name      1183 non-null   object\n",
            "dtypes: object(7)\n",
            "memory usage: 73.9+ KB\n"
          ]
        }
      ]
    },
    {
      "cell_type": "code",
      "metadata": {
        "colab": {
          "base_uri": "https://localhost:8080/"
        },
        "id": "E78tt0qZAoUn",
        "outputId": "367b548a-68fc-40de-c102-724a91cb892e"
      },
      "source": [
        "pres_imp.shape"
      ],
      "execution_count": null,
      "outputs": [
        {
          "output_type": "execute_result",
          "data": {
            "text/plain": [
              "(1183, 7)"
            ]
          },
          "metadata": {},
          "execution_count": 157
        }
      ]
    },
    {
      "cell_type": "code",
      "metadata": {
        "scrolled": true,
        "colab": {
          "base_uri": "https://localhost:8080/",
          "height": 232
        },
        "id": "ANHXKG7SAoUo",
        "outputId": "57b72552-70d5-41c3-e8c2-76d5a114117d"
      },
      "source": [
        "# lets group by gender and season id so we can stack the bar plot\n",
        "pres_plot = pres_imp.groupby(['gender', 'sid']).size().reset_index().pivot(columns='gender', index='sid', values=0)\n",
        "pres_plot.head()"
      ],
      "execution_count": null,
      "outputs": [
        {
          "output_type": "execute_result",
          "data": {
            "text/html": [
              "<div>\n",
              "<style scoped>\n",
              "    .dataframe tbody tr th:only-of-type {\n",
              "        vertical-align: middle;\n",
              "    }\n",
              "\n",
              "    .dataframe tbody tr th {\n",
              "        vertical-align: top;\n",
              "    }\n",
              "\n",
              "    .dataframe thead th {\n",
              "        text-align: right;\n",
              "    }\n",
              "</style>\n",
              "<table border=\"1\" class=\"dataframe\">\n",
              "  <thead>\n",
              "    <tr style=\"text-align: right;\">\n",
              "      <th>gender</th>\n",
              "      <th>female</th>\n",
              "      <th>male</th>\n",
              "    </tr>\n",
              "    <tr>\n",
              "      <th>sid</th>\n",
              "      <th></th>\n",
              "      <th></th>\n",
              "    </tr>\n",
              "  </thead>\n",
              "  <tbody>\n",
              "    <tr>\n",
              "      <th>1</th>\n",
              "      <td>NaN</td>\n",
              "      <td>17.0</td>\n",
              "    </tr>\n",
              "    <tr>\n",
              "      <th>2</th>\n",
              "      <td>NaN</td>\n",
              "      <td>25.0</td>\n",
              "    </tr>\n",
              "    <tr>\n",
              "      <th>3</th>\n",
              "      <td>NaN</td>\n",
              "      <td>17.0</td>\n",
              "    </tr>\n",
              "    <tr>\n",
              "      <th>4</th>\n",
              "      <td>NaN</td>\n",
              "      <td>15.0</td>\n",
              "    </tr>\n",
              "    <tr>\n",
              "      <th>5</th>\n",
              "      <td>NaN</td>\n",
              "      <td>4.0</td>\n",
              "    </tr>\n",
              "  </tbody>\n",
              "</table>\n",
              "</div>"
            ],
            "text/plain": [
              "gender  female  male\n",
              "sid                 \n",
              "1          NaN  17.0\n",
              "2          NaN  25.0\n",
              "3          NaN  17.0\n",
              "4          NaN  15.0\n",
              "5          NaN   4.0"
            ]
          },
          "metadata": {},
          "execution_count": 158
        }
      ]
    },
    {
      "cell_type": "code",
      "metadata": {
        "scrolled": false,
        "colab": {
          "base_uri": "https://localhost:8080/",
          "height": 682
        },
        "id": "nSfXb1ZQAoUo",
        "outputId": "4a0c7d77-7baf-453d-dbee-621084155394"
      },
      "source": [
        "pres_plot.plot(kind='bar', stacked=True, figsize=(24,10)) # would be nicer if it was a percentage, because the # of \n",
        "# sketches each season varies\n",
        "sns.set_palette(palette)\n",
        "plt.title(\"Presidential Impressions in SNL Sketches by Season\", fontsize = 30)\n",
        "plt.xlabel('Season', fontsize=24)\n",
        "plt.ylabel('number of sketches', fontsize=24)\n",
        "plt.show()"
      ],
      "execution_count": null,
      "outputs": [
        {
          "output_type": "display_data",
          "data": {
            "image/png": "[encoded data removed]",
            "text/plain": [
              "<Figure size 1728x720 with 1 Axes>"
            ]
          },
          "metadata": {}
        }
      ]
    },
    {
      "cell_type": "code",
      "metadata": {
        "colab": {
          "base_uri": "https://localhost:8080/",
          "height": 447
        },
        "id": "gvvSZVT9AoUo",
        "outputId": "7b81319e-fea7-4c96-b0ed-a517181da64e"
      },
      "source": [
        "women = pres_imp[pres_imp['gender']=='female']\n",
        "women.sample(13)"
      ],
      "execution_count": null,
      "outputs": [
        {
          "output_type": "execute_result",
          "data": {
            "text/html": [
              "<div>\n",
              "<style scoped>\n",
              "    .dataframe tbody tr th:only-of-type {\n",
              "        vertical-align: middle;\n",
              "    }\n",
              "\n",
              "    .dataframe tbody tr th {\n",
              "        vertical-align: top;\n",
              "    }\n",
              "\n",
              "    .dataframe thead th {\n",
              "        text-align: right;\n",
              "    }\n",
              "</style>\n",
              "<table border=\"1\" class=\"dataframe\">\n",
              "  <thead>\n",
              "    <tr style=\"text-align: right;\">\n",
              "      <th></th>\n",
              "      <th>aid</th>\n",
              "      <th>tid</th>\n",
              "      <th>capacity</th>\n",
              "      <th>impid</th>\n",
              "      <th>sid</th>\n",
              "      <th>gender</th>\n",
              "      <th>name</th>\n",
              "    </tr>\n",
              "  </thead>\n",
              "  <tbody>\n",
              "    <tr>\n",
              "      <th>3967</th>\n",
              "      <td>Ana Gasteyer</td>\n",
              "      <td>199903131</td>\n",
              "      <td>cast</td>\n",
              "      <td>1519</td>\n",
              "      <td>24</td>\n",
              "      <td>female</td>\n",
              "      <td>Hillary Clinton</td>\n",
              "    </tr>\n",
              "    <tr>\n",
              "      <th>1143</th>\n",
              "      <td>Vanessa Bayer</td>\n",
              "      <td>201405101</td>\n",
              "      <td>cast</td>\n",
              "      <td>3015</td>\n",
              "      <td>39</td>\n",
              "      <td>female</td>\n",
              "      <td>Hillary Clinton</td>\n",
              "    </tr>\n",
              "    <tr>\n",
              "      <th>4288</th>\n",
              "      <td>Ana Gasteyer</td>\n",
              "      <td>199711151</td>\n",
              "      <td>cast</td>\n",
              "      <td>1519</td>\n",
              "      <td>23</td>\n",
              "      <td>female</td>\n",
              "      <td>Hillary Clinton</td>\n",
              "    </tr>\n",
              "    <tr>\n",
              "      <th>3747</th>\n",
              "      <td>Ana Gasteyer</td>\n",
              "      <td>200010215</td>\n",
              "      <td>cast</td>\n",
              "      <td>1519</td>\n",
              "      <td>26</td>\n",
              "      <td>female</td>\n",
              "      <td>Hillary Clinton</td>\n",
              "    </tr>\n",
              "    <tr>\n",
              "      <th>3840</th>\n",
              "      <td>Ana Gasteyer</td>\n",
              "      <td>200002121</td>\n",
              "      <td>cast</td>\n",
              "      <td>1519</td>\n",
              "      <td>25</td>\n",
              "      <td>female</td>\n",
              "      <td>Hillary Clinton</td>\n",
              "    </tr>\n",
              "    <tr>\n",
              "      <th>961</th>\n",
              "      <td>Kate McKinnon</td>\n",
              "      <td>201505161</td>\n",
              "      <td>cast</td>\n",
              "      <td>3352</td>\n",
              "      <td>40</td>\n",
              "      <td>female</td>\n",
              "      <td>Hillary Clinton</td>\n",
              "    </tr>\n",
              "    <tr>\n",
              "      <th>4097</th>\n",
              "      <td>Ana Gasteyer</td>\n",
              "      <td>199810031</td>\n",
              "      <td>cast</td>\n",
              "      <td>1519</td>\n",
              "      <td>24</td>\n",
              "      <td>female</td>\n",
              "      <td>Hillary Clinton</td>\n",
              "    </tr>\n",
              "    <tr>\n",
              "      <th>6121</th>\n",
              "      <td>Christine Ebersole</td>\n",
              "      <td>1981110712</td>\n",
              "      <td>cast</td>\n",
              "      <td>29</td>\n",
              "      <td>7</td>\n",
              "      <td>female</td>\n",
              "      <td>Ronald Reagan</td>\n",
              "    </tr>\n",
              "    <tr>\n",
              "      <th>526</th>\n",
              "      <td>Kate McKinnon</td>\n",
              "      <td>2018020310</td>\n",
              "      <td>cast</td>\n",
              "      <td>3352</td>\n",
              "      <td>43</td>\n",
              "      <td>female</td>\n",
              "      <td>Hillary Clinton</td>\n",
              "    </tr>\n",
              "    <tr>\n",
              "      <th>3933</th>\n",
              "      <td>Cheri Oteri</td>\n",
              "      <td>199910021</td>\n",
              "      <td>cast</td>\n",
              "      <td>1294</td>\n",
              "      <td>25</td>\n",
              "      <td>female</td>\n",
              "      <td>Ross Perot</td>\n",
              "    </tr>\n",
              "    <tr>\n",
              "      <th>879</th>\n",
              "      <td>Kate McKinnon</td>\n",
              "      <td>201512193</td>\n",
              "      <td>cast</td>\n",
              "      <td>3352</td>\n",
              "      <td>41</td>\n",
              "      <td>female</td>\n",
              "      <td>Hillary Clinton</td>\n",
              "    </tr>\n",
              "    <tr>\n",
              "      <th>844</th>\n",
              "      <td>Kate McKinnon</td>\n",
              "      <td>201603051</td>\n",
              "      <td>cast</td>\n",
              "      <td>3352</td>\n",
              "      <td>41</td>\n",
              "      <td>female</td>\n",
              "      <td>Hillary Clinton</td>\n",
              "    </tr>\n",
              "    <tr>\n",
              "      <th>5862</th>\n",
              "      <td>Mary Gross</td>\n",
              "      <td>198411031</td>\n",
              "      <td>cast</td>\n",
              "      <td>457</td>\n",
              "      <td>10</td>\n",
              "      <td>female</td>\n",
              "      <td>Geraldine Ferraro</td>\n",
              "    </tr>\n",
              "  </tbody>\n",
              "</table>\n",
              "</div>"
            ],
            "text/plain": [
              "                     aid         tid capacity  ... sid  gender               name\n",
              "3967        Ana Gasteyer   199903131     cast  ...  24  female    Hillary Clinton\n",
              "1143       Vanessa Bayer   201405101     cast  ...  39  female    Hillary Clinton\n",
              "4288        Ana Gasteyer   199711151     cast  ...  23  female    Hillary Clinton\n",
              "3747        Ana Gasteyer   200010215     cast  ...  26  female    Hillary Clinton\n",
              "3840        Ana Gasteyer   200002121     cast  ...  25  female    Hillary Clinton\n",
              "961        Kate McKinnon   201505161     cast  ...  40  female    Hillary Clinton\n",
              "4097        Ana Gasteyer   199810031     cast  ...  24  female    Hillary Clinton\n",
              "6121  Christine Ebersole  1981110712     cast  ...   7  female      Ronald Reagan\n",
              "526        Kate McKinnon  2018020310     cast  ...  43  female    Hillary Clinton\n",
              "3933         Cheri Oteri   199910021     cast  ...  25  female         Ross Perot\n",
              "879        Kate McKinnon   201512193     cast  ...  41  female    Hillary Clinton\n",
              "844        Kate McKinnon   201603051     cast  ...  41  female    Hillary Clinton\n",
              "5862          Mary Gross   198411031     cast  ...  10  female  Geraldine Ferraro\n",
              "\n",
              "[13 rows x 7 columns]"
            ]
          },
          "metadata": {},
          "execution_count": 166
        }
      ]
    }
  ]
}