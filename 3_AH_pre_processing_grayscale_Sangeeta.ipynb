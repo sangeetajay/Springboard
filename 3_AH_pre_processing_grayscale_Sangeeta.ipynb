{
  "nbformat": 4,
  "nbformat_minor": 0,
  "metadata": {
    "accelerator": "GPU",
    "colab": {
      "name": "3_AH_pre-processing_grayscale_Sangeeta.ipynb",
      "provenance": [],
      "collapsed_sections": [
        "yAS9ns0aAwjG"
      ],
      "include_colab_link": true
    },
    "kernelspec": {
      "display_name": "Python 3",
      "name": "python3"
    },
    "language_info": {
      "name": "python"
    }
  },
  "cells": [
    {
      "cell_type": "markdown",
      "metadata": {
        "id": "view-in-github",
        "colab_type": "text"
      },
      "source": [
        "<a href=\"https://colab.research.google.com/github/sangeetajay/Springboard/blob/master/3_AH_pre_processing_grayscale_Sangeeta.ipynb\" target=\"_parent\"><img src=\"https://colab.research.google.com/assets/colab-badge.svg\" alt=\"Open In Colab\"/></a>"
      ]
    },
    {
      "cell_type": "markdown",
      "metadata": {
        "id": "J8gOpIOM71i9"
      },
      "source": [
        "# Final Capstone Project:\n",
        "## Predicting House Prices from Zillow Images\n"
      ]
    },
    {
      "cell_type": "markdown",
      "metadata": {
        "id": "mE8xapl47_SH"
      },
      "source": [
        "## Pre-Processing/Modeling Notebook 3:\n",
        "\n",
        "\n",
        "\n"
      ]
    },
    {
      "cell_type": "markdown",
      "metadata": {
        "id": "D3MS8FuoQY1e"
      },
      "source": [
        "#### imports"
      ]
    },
    {
      "cell_type": "code",
      "metadata": {
        "id": "d6k1AEnZgq2y"
      },
      "source": [
        "import numpy as np\n",
        "import os\n",
        "import matplotlib.pyplot as plt\n",
        "import pandas as pd \n",
        "import seaborn as sns \n",
        "%matplotlib inline\n",
        "\n",
        "import PIL\n",
        "import PIL.Image\n",
        "\n",
        "from sklearn.utils import shuffle\n",
        "from sklearn.preprocessing import StandardScaler\n",
        "from sklearn.model_selection import train_test_split\n",
        "from sklearn.metrics import classification_report\n",
        "from skimage.io import imread\n",
        "from skimage.transform import resize\n",
        "import math\n",
        "from IPython.display import display\n",
        "from skimage import io\n",
        "\n",
        "import tensorflow as tf\n",
        "from tensorflow import keras\n",
        "from tensorflow.keras import applications\n",
        "from tensorflow.keras.preprocessing.image import ImageDataGenerator\n",
        "from tensorflow.keras.layers import Dense, Dropout, BatchNormalization, GlobalAveragePooling2D, Flatten, Conv2D, MaxPooling2D\n",
        "from tensorflow.keras.utils import Sequence\n",
        "from tensorflow.keras.layers import Dense, Dropout, Flatten, Conv2D, MaxPooling2D"
      ],
      "execution_count": 1,
      "outputs": []
    },
    {
      "cell_type": "markdown",
      "metadata": {
        "id": "e4q0wDwKZCaD"
      },
      "source": [
        "#### installs"
      ]
    },
    {
      "cell_type": "code",
      "metadata": {
        "id": "BDA-glPFpu-F"
      },
      "source": [
        "#!pip install -q tensorflow==2.1\n",
        "#!pip install -q keras==2.3.1\n",
        "#!pip install -q tensorflow-estimator==2.1.\n",
        "#!pip install gast==0.3.2\n",
        "#!pip install tensorflow"
      ],
      "execution_count": 2,
      "outputs": []
    },
    {
      "cell_type": "markdown",
      "metadata": {
        "id": "1jot_1DQVDW7"
      },
      "source": [
        "### Load the data"
      ]
    },
    {
      "cell_type": "code",
      "metadata": {
        "colab": {
          "base_uri": "https://localhost:8080/"
        },
        "id": "x5t1cjTHw5LX",
        "outputId": "869bf247-7338-4be7-932d-bbc1078186e7"
      },
      "source": [
        "from google.colab import drive\n",
        "drive.mount('/content/drive')"
      ],
      "execution_count": 3,
      "outputs": [
        {
          "output_type": "stream",
          "text": [
            "Drive already mounted at /content/drive; to attempt to forcibly remount, call drive.mount(\"/content/drive\", force_remount=True).\n"
          ],
          "name": "stdout"
        }
      ]
    },
    {
      "cell_type": "code",
      "metadata": {
        "colab": {
          "base_uri": "https://localhost:8080/",
          "height": 223
        },
        "id": "WRI-H-Oqgq-w",
        "outputId": "4250f118-bf95-4f90-be9e-9b4b5284b821"
      },
      "source": [
        "# load the cleaned dataset with image name and price\n",
        "# these are the 'labels' for the images\n",
        "file = '/content/drive/MyDrive/cleaned_AH_data_v2.csv'\n",
        "train_labels = pd.read_csv(file)\n",
        "# remove the .jpg from the image names\n",
        "train_labels['Image Name'] = train_labels['Image Name'].str.rstrip('.jpg')\n",
        "#check the shape\n",
        "print(train_labels.shape)\n",
        "\n",
        "train_labels.head()"
      ],
      "execution_count": 4,
      "outputs": [
        {
          "output_type": "stream",
          "text": [
            "(15012, 2)\n"
          ],
          "name": "stdout"
        },
        {
          "output_type": "execute_result",
          "data": {
            "text/html": [
              "<div>\n",
              "<style scoped>\n",
              "    .dataframe tbody tr th:only-of-type {\n",
              "        vertical-align: middle;\n",
              "    }\n",
              "\n",
              "    .dataframe tbody tr th {\n",
              "        vertical-align: top;\n",
              "    }\n",
              "\n",
              "    .dataframe thead th {\n",
              "        text-align: right;\n",
              "    }\n",
              "</style>\n",
              "<table border=\"1\" class=\"dataframe\">\n",
              "  <thead>\n",
              "    <tr style=\"text-align: right;\">\n",
              "      <th></th>\n",
              "      <th>Image Name</th>\n",
              "      <th>Price</th>\n",
              "    </tr>\n",
              "  </thead>\n",
              "  <tbody>\n",
              "    <tr>\n",
              "      <th>0</th>\n",
              "      <td>111373431_ffce26843283d3365c11d81b8e6bdc6f-p_f</td>\n",
              "      <td>305000</td>\n",
              "    </tr>\n",
              "    <tr>\n",
              "      <th>1</th>\n",
              "      <td>120900430_8255c127be8dcf0a1a18b7563d987088-p_f</td>\n",
              "      <td>295000</td>\n",
              "    </tr>\n",
              "    <tr>\n",
              "      <th>2</th>\n",
              "      <td>2084491383_a2ad649e1a7a098111dcea084a11c855-p_f</td>\n",
              "      <td>256125</td>\n",
              "    </tr>\n",
              "    <tr>\n",
              "      <th>3</th>\n",
              "      <td>120901374_b469367a619da85b1f5ceb69b675d88e-p_f</td>\n",
              "      <td>240000</td>\n",
              "    </tr>\n",
              "    <tr>\n",
              "      <th>4</th>\n",
              "      <td>60134862_b1a48a3df3f111e005bb913873e98ce2-p_f</td>\n",
              "      <td>239900</td>\n",
              "    </tr>\n",
              "  </tbody>\n",
              "</table>\n",
              "</div>"
            ],
            "text/plain": [
              "                                        Image Name   Price\n",
              "0   111373431_ffce26843283d3365c11d81b8e6bdc6f-p_f  305000\n",
              "1   120900430_8255c127be8dcf0a1a18b7563d987088-p_f  295000\n",
              "2  2084491383_a2ad649e1a7a098111dcea084a11c855-p_f  256125\n",
              "3   120901374_b469367a619da85b1f5ceb69b675d88e-p_f  240000\n",
              "4    60134862_b1a48a3df3f111e005bb913873e98ce2-p_f  239900"
            ]
          },
          "metadata": {
            "tags": []
          },
          "execution_count": 4
        }
      ]
    },
    {
      "cell_type": "markdown",
      "metadata": {
        "id": "yAS9ns0aAwjG"
      },
      "source": [
        "#### Unzipping the images from google drive"
      ]
    },
    {
      "cell_type": "code",
      "metadata": {
        "colab": {
          "base_uri": "https://localhost:8080/"
        },
        "id": "nrKevOx9nzFd",
        "outputId": "7f2e4d8c-ffd1-4000-d8cb-f8749a52d42f"
      },
      "source": [
        "!unzip /content/drive/MyDrive/ResizedGrayImages.zip"
      ],
      "execution_count": 5,
      "outputs": [
        {
          "output_type": "stream",
          "text": [
            "Archive:  /content/drive/MyDrive/ResizedGrayImages.zip\n",
            "replace ResizedGrayImages/70342475_47ba545f8d30d79930ead321dcbf11cf-p_f.jpg? [y]es, [n]o, [A]ll, [N]one, [r]ename: "
          ],
          "name": "stdout"
        }
      ]
    },
    {
      "cell_type": "markdown",
      "metadata": {
        "id": "KU_-TZZW0Zsm"
      },
      "source": [
        "### Function to get a image:\n",
        "\n"
      ]
    },
    {
      "cell_type": "code",
      "metadata": {
        "id": "iOle6qdQ0ecU"
      },
      "source": [
        "\n",
        "#Write function to get a specific image\n",
        "\n",
        "def load_pic(file_name, fig_type='jpg'):\n",
        "\n",
        "    img_path = ('/content/ResizedGrayImages/{}').format(file_name)\n",
        "    img = io.imread(img_path)\n",
        "    #normalize the image by dividing each pixel by 255\n",
        "    img = img/255\n",
        "    return np.reshape(img,[250,300,1])"
      ],
      "execution_count": 6,
      "outputs": []
    },
    {
      "cell_type": "code",
      "metadata": {
        "colab": {
          "base_uri": "https://localhost:8080/"
        },
        "id": "RkHSPLMu2vQt",
        "outputId": "2ff34b4e-19a6-456a-d267-9aff62ce4171"
      },
      "source": [
        "#testing the above 'load_image- function\n",
        "\n",
        "image = load_pic('110538801_b74a3118da9370a14aa8a5e96d93c27c-p_f.jpg')\n",
        "\n",
        "#plt.imshow(image)\n",
        "print(image.shape)\n",
        "print(image)"
      ],
      "execution_count": 7,
      "outputs": [
        {
          "output_type": "stream",
          "text": [
            "(250, 300, 1)\n",
            "[[[0.45882353]\n",
            "  [0.7254902 ]\n",
            "  [0.65098039]\n",
            "  ...\n",
            "  [0.4       ]\n",
            "  [0.4       ]\n",
            "  [0.4       ]]\n",
            "\n",
            " [[0.58431373]\n",
            "  [0.54901961]\n",
            "  [0.43529412]\n",
            "  ...\n",
            "  [0.4       ]\n",
            "  [0.4       ]\n",
            "  [0.4       ]]\n",
            "\n",
            " [[0.51764706]\n",
            "  [0.3372549 ]\n",
            "  [0.28627451]\n",
            "  ...\n",
            "  [0.4       ]\n",
            "  [0.4       ]\n",
            "  [0.4       ]]\n",
            "\n",
            " ...\n",
            "\n",
            " [[0.72941176]\n",
            "  [0.76078431]\n",
            "  [0.74509804]\n",
            "  ...\n",
            "  [0.84705882]\n",
            "  [0.85098039]\n",
            "  [0.85882353]]\n",
            "\n",
            " [[0.7372549 ]\n",
            "  [0.70588235]\n",
            "  [0.76470588]\n",
            "  ...\n",
            "  [0.83529412]\n",
            "  [0.83921569]\n",
            "  [0.84705882]]\n",
            "\n",
            " [[0.68235294]\n",
            "  [0.61568627]\n",
            "  [0.69411765]\n",
            "  ...\n",
            "  [0.83529412]\n",
            "  [0.83921569]\n",
            "  [0.84705882]]]\n"
          ],
          "name": "stdout"
        }
      ]
    },
    {
      "cell_type": "markdown",
      "metadata": {
        "id": "Q0Nh0-jN2CYv"
      },
      "source": [
        "#### checking the number of files in the *folder*"
      ]
    },
    {
      "cell_type": "code",
      "metadata": {
        "colab": {
          "base_uri": "https://localhost:8080/"
        },
        "id": "__bmSHJ0F9rp",
        "outputId": "095eb811-8375-490f-b824-f9f9bc1c6ac8"
      },
      "source": [
        "\n",
        "APP_FOLDER = '/content/ResizedGrayImages/'\n",
        "totalDir = 0\n",
        "totalFiles = 0\n",
        "for base, dirs, files in os.walk(APP_FOLDER):\n",
        "    print('Searching in : ',base)\n",
        "    for directories in dirs:\n",
        "        totalDir += 1\n",
        "    for Files in files:\n",
        "        totalFiles += 1\n",
        "totalFiles    "
      ],
      "execution_count": 8,
      "outputs": [
        {
          "output_type": "stream",
          "text": [
            "Searching in :  /content/ResizedGrayImages/\n"
          ],
          "name": "stdout"
        },
        {
          "output_type": "execute_result",
          "data": {
            "text/plain": [
              "15172"
            ]
          },
          "metadata": {
            "tags": []
          },
          "execution_count": 8
        }
      ]
    },
    {
      "cell_type": "markdown",
      "metadata": {
        "id": "VeV9PwjgA9I5"
      },
      "source": [
        "# Preparing for Generator"
      ]
    },
    {
      "cell_type": "code",
      "metadata": {
        "id": "fw7RW9-o1ohv"
      },
      "source": [
        "#adapted from https://stanford.edu/~shervine/blog/keras-how-to-generate-data-on-the-fly\n"
      ],
      "execution_count": 9,
      "outputs": []
    },
    {
      "cell_type": "code",
      "metadata": {
        "colab": {
          "base_uri": "https://localhost:8080/",
          "height": 205
        },
        "id": "HCGDwTIHrwDy",
        "outputId": "08540bac-b954-465e-aaea-d26a249c35c3"
      },
      "source": [
        "train_labels.head() # this is our dataframe of the image name and labels (price)"
      ],
      "execution_count": 10,
      "outputs": [
        {
          "output_type": "execute_result",
          "data": {
            "text/html": [
              "<div>\n",
              "<style scoped>\n",
              "    .dataframe tbody tr th:only-of-type {\n",
              "        vertical-align: middle;\n",
              "    }\n",
              "\n",
              "    .dataframe tbody tr th {\n",
              "        vertical-align: top;\n",
              "    }\n",
              "\n",
              "    .dataframe thead th {\n",
              "        text-align: right;\n",
              "    }\n",
              "</style>\n",
              "<table border=\"1\" class=\"dataframe\">\n",
              "  <thead>\n",
              "    <tr style=\"text-align: right;\">\n",
              "      <th></th>\n",
              "      <th>Image Name</th>\n",
              "      <th>Price</th>\n",
              "    </tr>\n",
              "  </thead>\n",
              "  <tbody>\n",
              "    <tr>\n",
              "      <th>0</th>\n",
              "      <td>111373431_ffce26843283d3365c11d81b8e6bdc6f-p_f</td>\n",
              "      <td>305000</td>\n",
              "    </tr>\n",
              "    <tr>\n",
              "      <th>1</th>\n",
              "      <td>120900430_8255c127be8dcf0a1a18b7563d987088-p_f</td>\n",
              "      <td>295000</td>\n",
              "    </tr>\n",
              "    <tr>\n",
              "      <th>2</th>\n",
              "      <td>2084491383_a2ad649e1a7a098111dcea084a11c855-p_f</td>\n",
              "      <td>256125</td>\n",
              "    </tr>\n",
              "    <tr>\n",
              "      <th>3</th>\n",
              "      <td>120901374_b469367a619da85b1f5ceb69b675d88e-p_f</td>\n",
              "      <td>240000</td>\n",
              "    </tr>\n",
              "    <tr>\n",
              "      <th>4</th>\n",
              "      <td>60134862_b1a48a3df3f111e005bb913873e98ce2-p_f</td>\n",
              "      <td>239900</td>\n",
              "    </tr>\n",
              "  </tbody>\n",
              "</table>\n",
              "</div>"
            ],
            "text/plain": [
              "                                        Image Name   Price\n",
              "0   111373431_ffce26843283d3365c11d81b8e6bdc6f-p_f  305000\n",
              "1   120900430_8255c127be8dcf0a1a18b7563d987088-p_f  295000\n",
              "2  2084491383_a2ad649e1a7a098111dcea084a11c855-p_f  256125\n",
              "3   120901374_b469367a619da85b1f5ceb69b675d88e-p_f  240000\n",
              "4    60134862_b1a48a3df3f111e005bb913873e98ce2-p_f  239900"
            ]
          },
          "metadata": {
            "tags": []
          },
          "execution_count": 10
        }
      ]
    },
    {
      "cell_type": "markdown",
      "metadata": {
        "id": "8gnnYo5bzSIX"
      },
      "source": [
        "##### create a lookup dictionary called labels"
      ]
    },
    {
      "cell_type": "code",
      "metadata": {
        "id": "4YTYjdvPzDgQ"
      },
      "source": [
        "labels_df = train_labels['Price']\n",
        "labels_df.index = train_labels['Image Name']\n",
        "\n",
        "#Create a lookup dictionary containing the labels for each image sample, we will use this on our data generator object\n",
        "\n",
        "labels = labels_df.to_dict(into=dict)"
      ],
      "execution_count": 11,
      "outputs": []
    },
    {
      "cell_type": "markdown",
      "metadata": {
        "id": "ySIYq-_Gzbp5"
      },
      "source": [
        "##### create a dictionary called partition with train and validation"
      ]
    },
    {
      "cell_type": "code",
      "metadata": {
        "id": "rNT_b9wsykDV"
      },
      "source": [
        "#Create a dictionary called partition where you gather:\n",
        "\n",
        "train_part = train_labels.sample(frac=0.8,random_state=200) #random state is a seed value\n",
        "test_part = train_labels.drop(train_part.index)\n",
        "\n",
        "partition = {}\n",
        "\n",
        "# in partition['train'] a list of training IDs\n",
        "partition['train'] = list(train_part['Image Name'])\n",
        "\n",
        "# in partition['validation'] a list of validation IDs\n",
        "partition['validation'] = list(test_part['Image Name'])\n",
        "\n"
      ],
      "execution_count": 12,
      "outputs": []
    },
    {
      "cell_type": "code",
      "metadata": {
        "colab": {
          "base_uri": "https://localhost:8080/"
        },
        "id": "0UXr5tpepKhn",
        "outputId": "6f33835f-a9d4-4f5d-fb04-b3312f1f527f"
      },
      "source": [
        "# checking what we did: created a test set and a validation set \n",
        "print(type(partition['train']))\n",
        "print(type(partition['validation']))\n",
        "print(len(partition['train']))\n",
        "print(len(partition['validation']))\n"
      ],
      "execution_count": 28,
      "outputs": [
        {
          "output_type": "stream",
          "text": [
            "<class 'list'>\n",
            "<class 'list'>\n",
            "12010\n",
            "3002\n"
          ],
          "name": "stdout"
        }
      ]
    },
    {
      "cell_type": "markdown",
      "metadata": {
        "id": "APFnCGaH1HJP"
      },
      "source": [
        "# Generator"
      ]
    },
    {
      "cell_type": "markdown",
      "metadata": {
        "id": "ChHyYGO69jCr"
      },
      "source": [
        "#### impors for generator"
      ]
    },
    {
      "cell_type": "code",
      "metadata": {
        "colab": {
          "base_uri": "https://localhost:8080/",
          "height": 35
        },
        "id": "vGvYmvNB4cRr",
        "outputId": "aedc5617-036c-414e-a3d6-da93db4f1fd9"
      },
      "source": [
        "tf.__version__"
      ],
      "execution_count": 14,
      "outputs": [
        {
          "output_type": "execute_result",
          "data": {
            "application/vnd.google.colaboratory.intrinsic+json": {
              "type": "string"
            },
            "text/plain": [
              "'2.6.0'"
            ]
          },
          "metadata": {
            "tags": []
          },
          "execution_count": 14
        }
      ]
    },
    {
      "cell_type": "markdown",
      "metadata": {
        "id": "HpfW8auN9m4u"
      },
      "source": [
        "#### actual start of generator"
      ]
    },
    {
      "cell_type": "code",
      "metadata": {
        "id": "EhyUDut-pKj3"
      },
      "source": [
        "# First, let's write the initialization function of the class\n",
        "\n",
        "class DataGenerator(Sequence):\n",
        "\n",
        "  def __init__(self, list_IDs, labels, batch_size=128, dim=(250,300), n_channels=1,\n",
        "              shuffle=True):\n",
        "    'Initialization'\n",
        "    self.dim = dim\n",
        "    self.batch_size = batch_size\n",
        "    self.labels = labels\n",
        "    self.list_IDs = list_IDs\n",
        "    self.n_channels = n_channels\n",
        "    #self.n_classes = n_classes\n",
        "    self.shuffle = shuffle\n",
        "    self.on_epoch_end()\n",
        "\n",
        "\n",
        "  def __len__(self):\n",
        "        'Denotes the number of batches per epoch'\n",
        "        return int(np.floor(len(self.list_IDs) / self.batch_size))\n",
        "\n",
        "  def __getitem__(self, index):\n",
        "        'Generate one batch of data'\n",
        "        # Generate indexes of the batch\n",
        "        indexes = self.indexes[index*self.batch_size:(index+1)*self.batch_size]\n",
        "\n",
        "        # Find list of IDs\n",
        "        list_IDs_temp = [self.list_IDs[k] for k in indexes]\n",
        "\n",
        "        # Generate data\n",
        "        X, y = self.__data_generation(list_IDs_temp)\n",
        "\n",
        "        return X, y\n",
        "\n",
        "  def on_epoch_end(self):\n",
        "        'Updates indexes after each epoch'\n",
        "        self.indexes = np.arange(len(self.list_IDs))\n",
        "        if self.shuffle == True:\n",
        "            np.random.shuffle(self.indexes)\n",
        "\n",
        "  def __data_generation(self, list_IDs_temp):\n",
        "        'Generates data containing batch_size samples' # X : (n_samples, *dim, n_channels)\n",
        "        # Initialization\n",
        "        X = np.empty((self.batch_size, *self.dim, self.n_channels))\n",
        "        y = list(np.empty((self.batch_size)))\n",
        "        #print(X.shape, X.dtype)\n",
        "        #print(y.shape, y.dtype)\n",
        "\n",
        "        # Generate data\n",
        "        for i, ID in enumerate(list_IDs_temp):\n",
        "            # Store sample\n",
        "            #X[i,] = load_pic(ID, size=self.dim[0], n_channels=self.n_channels)\n",
        "            try:\n",
        "              X[i,] = load_pic(ID+'.jpg' )\n",
        "              \n",
        "            #print(X[i,])\n",
        "\n",
        "            # Store class\n",
        "              y[i] = self.labels[ID]\n",
        "            except:\n",
        "              continue\n",
        "              \n",
        "        #print(type(X), type(y))\n",
        "        #print(y)\n",
        "        return X, np.array(y)\n",
        "\n"
      ],
      "execution_count": 15,
      "outputs": []
    },
    {
      "cell_type": "code",
      "metadata": {
        "id": "1VbaVigVMgiD"
      },
      "source": [
        "# Parameters\n",
        "params = {'dim': (250,300),\n",
        "          'batch_size': 128,\n",
        "          'n_channels': 1,\n",
        "          'shuffle': True}\n",
        "\n",
        "# Import the EarlyStopping and ModelCheckpoint callbacks\n",
        "from tensorflow.keras.callbacks import EarlyStopping, ModelCheckpoint\n",
        "\n",
        "\n",
        "# Define a callback to monitor validation accuracy\n",
        "monitor_val_loss = EarlyStopping(monitor='val_loss', patience=5, restore_best_weights=True)\n",
        "\n",
        "# Generators\n",
        "\n",
        "#def get_train_images():\n",
        "training_generator = DataGenerator(partition['train'], labels, **params)\n",
        "\n",
        "#def get_validation_images():\n",
        "validation_generator = DataGenerator(partition['validation'], labels, **params)\n"
      ],
      "execution_count": 16,
      "outputs": []
    },
    {
      "cell_type": "code",
      "metadata": {
        "colab": {
          "base_uri": "https://localhost:8080/"
        },
        "id": "kd-Ke2ikDwBR",
        "outputId": "353ceef1-f6c2-44d0-c8af-4f685ba8ca60"
      },
      "source": [
        "a = DataGenerator(partition['train'], labels, **params)\n",
        "a"
      ],
      "execution_count": 17,
      "outputs": [
        {
          "output_type": "execute_result",
          "data": {
            "text/plain": [
              "<__main__.DataGenerator at 0x7fe7eaf9c950>"
            ]
          },
          "metadata": {
            "tags": []
          },
          "execution_count": 17
        }
      ]
    },
    {
      "cell_type": "markdown",
      "metadata": {
        "id": "2l4qbZ67WvnW"
      },
      "source": [
        "## Metric Function"
      ]
    },
    {
      "cell_type": "code",
      "metadata": {
        "id": "XcKe-3fKW-xU"
      },
      "source": [
        "# from https://jmlb.github.io/ml/2017/03/20/CoeffDetermination_CustomMetric4Keras/\n",
        "\n",
        "from keras import backend as K\n",
        "\n",
        "def coeff_determination(y_true, y_pred):\n",
        "    SS_res =  K.sum(K.square( y_true-y_pred )) \n",
        "    SS_tot = K.sum(K.square( y_true - K.mean(y_true) ) ) \n",
        "    return ( 1 - SS_res/(SS_tot + K.epsilon()) )\n"
      ],
      "execution_count": 18,
      "outputs": []
    },
    {
      "cell_type": "markdown",
      "metadata": {
        "id": "dgMvEkOhzmyk"
      },
      "source": [
        "## CNN model \n",
        "from https://www.linkedin.com/learning/neural-networks-and-convolutional-neural-networks-essential-training/creating-and-compiling-the-model?u=36492188\n",
        "for images"
      ]
    },
    {
      "cell_type": "code",
      "metadata": {
        "id": "rDYJl8V0N9Jm"
      },
      "source": [
        "# CNN model\n",
        "from tensorflow.keras import Sequential\n",
        "\n",
        "cnn2 = Sequential()\n",
        "cnn2.add(Conv2D(32, kernel_size=(3,3), input_shape=(250,300,1),padding='same', activation='relu'))\n",
        "cnn2.add(MaxPooling2D(pool_size=(2, 2)))\n",
        "cnn2.add(Conv2D(64, kernel_size=(3,3), padding='same', activation='relu'))\n",
        "cnn2.add(MaxPooling2D(pool_size=(2, 2)))\n",
        "cnn2.add(Conv2D(128, kernel_size=(3,3), padding='same', activation='relu'))\n",
        "cnn2.add(MaxPooling2D(pool_size=(2, 2)))\n",
        "cnn2.add(Conv2D(128, kernel_size=(3,3), padding='same', activation='relu'))\n",
        "cnn2.add(MaxPooling2D(pool_size=(2, 2)))\n",
        "cnn2.add(Flatten())\n",
        "cnn2.add(Dropout(0.5))\n",
        "cnn2.add(Dense(512, activation='relu'))\n",
        "cnn2.add(Dense(32, activation='relu'))\n",
        "cnn2.add(Dense(1, activation='linear'))\n",
        "cnn2.compile(optimizer='adam', loss='mean_absolute_error', metrics=[[coeff_determination, 'mae']])\n"
      ],
      "execution_count": 19,
      "outputs": []
    },
    {
      "cell_type": "code",
      "metadata": {
        "colab": {
          "base_uri": "https://localhost:8080/"
        },
        "id": "tTtpm4Bp1Qor",
        "outputId": "954dd612-2951-4a78-cb05-44463169bdef"
      },
      "source": [
        "print(cnn2.summary())"
      ],
      "execution_count": 20,
      "outputs": [
        {
          "output_type": "stream",
          "text": [
            "Model: \"sequential\"\n",
            "_________________________________________________________________\n",
            "Layer (type)                 Output Shape              Param #   \n",
            "=================================================================\n",
            "conv2d (Conv2D)              (None, 250, 300, 32)      320       \n",
            "_________________________________________________________________\n",
            "max_pooling2d (MaxPooling2D) (None, 125, 150, 32)      0         \n",
            "_________________________________________________________________\n",
            "conv2d_1 (Conv2D)            (None, 125, 150, 64)      18496     \n",
            "_________________________________________________________________\n",
            "max_pooling2d_1 (MaxPooling2 (None, 62, 75, 64)        0         \n",
            "_________________________________________________________________\n",
            "conv2d_2 (Conv2D)            (None, 62, 75, 128)       73856     \n",
            "_________________________________________________________________\n",
            "max_pooling2d_2 (MaxPooling2 (None, 31, 37, 128)       0         \n",
            "_________________________________________________________________\n",
            "conv2d_3 (Conv2D)            (None, 31, 37, 128)       147584    \n",
            "_________________________________________________________________\n",
            "max_pooling2d_3 (MaxPooling2 (None, 15, 18, 128)       0         \n",
            "_________________________________________________________________\n",
            "flatten (Flatten)            (None, 34560)             0         \n",
            "_________________________________________________________________\n",
            "dropout (Dropout)            (None, 34560)             0         \n",
            "_________________________________________________________________\n",
            "dense (Dense)                (None, 512)               17695232  \n",
            "_________________________________________________________________\n",
            "dense_1 (Dense)              (None, 32)                16416     \n",
            "_________________________________________________________________\n",
            "dense_2 (Dense)              (None, 1)                 33        \n",
            "=================================================================\n",
            "Total params: 17,951,937\n",
            "Trainable params: 17,951,937\n",
            "Non-trainable params: 0\n",
            "_________________________________________________________________\n",
            "None\n"
          ],
          "name": "stdout"
        }
      ]
    },
    {
      "cell_type": "code",
      "metadata": {
        "colab": {
          "base_uri": "https://localhost:8080/"
        },
        "id": "hFNC72gX8lo0",
        "outputId": "c878b8f3-c3e7-46d9-cfe3-b3703ab02142"
      },
      "source": [
        "history = cnn2.fit_generator(generator=training_generator,\n",
        "                    validation_data=validation_generator, epochs = 40, steps_per_epoch=200, callbacks=[monitor_val_loss],\n",
        "                    use_multiprocessing=True,)"
      ],
      "execution_count": 21,
      "outputs": [
        {
          "output_type": "stream",
          "text": [
            "/usr/local/lib/python3.7/dist-packages/keras/engine/training.py:1972: UserWarning: `Model.fit_generator` is deprecated and will be removed in a future version. Please use `Model.fit`, which supports generators.\n",
            "  warnings.warn('`Model.fit_generator` is deprecated and '\n"
          ],
          "name": "stderr"
        },
        {
          "output_type": "stream",
          "text": [
            "Epoch 1/40\n",
            "200/200 [==============================] - 90s 410ms/step - loss: 242097.4219 - coeff_determination: -0.2354 - mae: 242097.4219 - val_loss: 211777.7031 - val_coeff_determination: -0.1094 - val_mae: 211777.7031\n",
            "Epoch 2/40\n",
            "200/200 [==============================] - 80s 396ms/step - loss: 212882.4844 - coeff_determination: -0.0493 - mae: 212882.4844 - val_loss: 206424.5156 - val_coeff_determination: -0.0226 - val_mae: 206424.5156\n",
            "Epoch 3/40\n",
            "200/200 [==============================] - 81s 401ms/step - loss: 210234.1250 - coeff_determination: -0.0345 - mae: 210234.1250 - val_loss: 205633.7188 - val_coeff_determination: -0.0061 - val_mae: 205633.7188\n",
            "Epoch 4/40\n",
            "200/200 [==============================] - 81s 404ms/step - loss: 360287962136576.0000 - coeff_determination: -0.0333 - mae: 360287962136576.0000 - val_loss: 205899.0938 - val_coeff_determination: -0.0442 - val_mae: 205899.0938\n",
            "Epoch 5/40\n",
            "200/200 [==============================] - 82s 409ms/step - loss: 209684.0625 - coeff_determination: -0.0296 - mae: 209684.0625 - val_loss: 207363.1094 - val_coeff_determination: -0.0726 - val_mae: 207363.1094\n",
            "Epoch 6/40\n",
            "200/200 [==============================] - 82s 406ms/step - loss: 209341.7969 - coeff_determination: -0.0307 - mae: 209341.7969 - val_loss: 205636.3438 - val_coeff_determination: -0.0369 - val_mae: 205636.3438\n",
            "Epoch 7/40\n",
            "200/200 [==============================] - 82s 405ms/step - loss: 207146.2344 - coeff_determination: -0.0236 - mae: 207146.2344 - val_loss: 210429.8281 - val_coeff_determination: -0.0989 - val_mae: 210429.8281\n",
            "Epoch 8/40\n",
            "200/200 [==============================] - 82s 409ms/step - loss: 207103.5781 - coeff_determination: -0.0244 - mae: 207103.5781 - val_loss: 205269.0469 - val_coeff_determination: 0.0123 - val_mae: 205269.0469\n",
            "Epoch 9/40\n",
            "200/200 [==============================] - 83s 413ms/step - loss: 208258.0000 - coeff_determination: -0.0213 - mae: 208258.0000 - val_loss: 204842.4375 - val_coeff_determination: -0.0166 - val_mae: 204842.4375\n",
            "Epoch 10/40\n",
            "200/200 [==============================] - 85s 421ms/step - loss: 208563.1562 - coeff_determination: -0.0172 - mae: 208563.1562 - val_loss: 204292.3281 - val_coeff_determination: -0.0368 - val_mae: 204292.3281\n",
            "Epoch 11/40\n",
            "200/200 [==============================] - 83s 413ms/step - loss: 208098.7031 - coeff_determination: -0.0224 - mae: 208098.7031 - val_loss: 204988.7188 - val_coeff_determination: -0.0193 - val_mae: 204988.7188\n",
            "Epoch 12/40\n",
            "200/200 [==============================] - 82s 408ms/step - loss: 206050.2969 - coeff_determination: -0.0147 - mae: 206050.2969 - val_loss: 207224.7656 - val_coeff_determination: 0.0284 - val_mae: 207224.7656\n",
            "Epoch 13/40\n",
            "200/200 [==============================] - 83s 411ms/step - loss: 205923.9062 - coeff_determination: -0.0126 - mae: 205923.9062 - val_loss: 205989.0156 - val_coeff_determination: -0.0453 - val_mae: 205989.0156\n",
            "Epoch 14/40\n",
            "200/200 [==============================] - 83s 410ms/step - loss: 206260.5469 - coeff_determination: -0.0195 - mae: 206260.5469 - val_loss: 204516.3438 - val_coeff_determination: -0.0262 - val_mae: 204516.3438\n",
            "Epoch 15/40\n",
            "200/200 [==============================] - 83s 413ms/step - loss: 204887.5625 - coeff_determination: -0.0098 - mae: 204887.5625 - val_loss: 204048.2031 - val_coeff_determination: -0.0279 - val_mae: 204048.2031\n",
            "Epoch 16/40\n",
            "200/200 [==============================] - 84s 416ms/step - loss: 205209.7812 - coeff_determination: -0.0031 - mae: 205209.7812 - val_loss: 201129.6562 - val_coeff_determination: -0.0178 - val_mae: 201129.6562\n",
            "Epoch 17/40\n",
            "200/200 [==============================] - 91s 451ms/step - loss: 204338.7969 - coeff_determination: 0.0019 - mae: 204338.7969 - val_loss: 203041.8281 - val_coeff_determination: 0.0021 - val_mae: 203041.8281\n",
            "Epoch 18/40\n",
            "200/200 [==============================] - 83s 414ms/step - loss: 204278.3594 - coeff_determination: 0.0085 - mae: 204278.3594 - val_loss: 199876.0469 - val_coeff_determination: -0.0060 - val_mae: 199876.0469\n",
            "Epoch 19/40\n",
            "200/200 [==============================] - 83s 410ms/step - loss: 202998.4375 - coeff_determination: 0.0112 - mae: 202998.4375 - val_loss: 201929.6250 - val_coeff_determination: -0.0074 - val_mae: 201929.6250\n",
            "Epoch 20/40\n",
            "200/200 [==============================] - 83s 411ms/step - loss: 204906.1406 - coeff_determination: 0.0138 - mae: 204906.1406 - val_loss: 206548.2031 - val_coeff_determination: 0.0537 - val_mae: 206548.2031\n",
            "Epoch 21/40\n",
            "200/200 [==============================] - 83s 410ms/step - loss: 201289.0781 - coeff_determination: 0.0208 - mae: 201289.0781 - val_loss: 205967.8750 - val_coeff_determination: 0.0594 - val_mae: 205967.8750\n",
            "Epoch 22/40\n",
            "200/200 [==============================] - 83s 412ms/step - loss: 202048.3125 - coeff_determination: 0.0301 - mae: 202048.3125 - val_loss: 198402.2344 - val_coeff_determination: 0.0284 - val_mae: 198402.2344\n",
            "Epoch 23/40\n",
            "200/200 [==============================] - 83s 412ms/step - loss: 202216.4375 - coeff_determination: 0.0266 - mae: 202216.4375 - val_loss: 205880.2656 - val_coeff_determination: 0.0632 - val_mae: 205880.2656\n",
            "Epoch 24/40\n",
            "200/200 [==============================] - 83s 411ms/step - loss: 201140.7031 - coeff_determination: 0.0306 - mae: 201140.7031 - val_loss: 204117.7969 - val_coeff_determination: -0.0431 - val_mae: 204117.7969\n",
            "Epoch 25/40\n",
            "200/200 [==============================] - 83s 413ms/step - loss: 200616.0625 - coeff_determination: 0.0411 - mae: 200616.0625 - val_loss: 200430.0000 - val_coeff_determination: 0.0476 - val_mae: 200430.0000\n",
            "Epoch 26/40\n",
            "200/200 [==============================] - 83s 411ms/step - loss: 198970.0156 - coeff_determination: 0.0466 - mae: 198970.0156 - val_loss: 199974.5625 - val_coeff_determination: -0.0141 - val_mae: 199974.5625\n",
            "Epoch 27/40\n",
            "200/200 [==============================] - 87s 431ms/step - loss: 200242.1875 - coeff_determination: 0.0440 - mae: 200242.1875 - val_loss: 196677.1094 - val_coeff_determination: 0.0315 - val_mae: 196677.1094\n",
            "Epoch 28/40\n",
            "200/200 [==============================] - 86s 429ms/step - loss: 197074.9219 - coeff_determination: 0.0552 - mae: 197074.9219 - val_loss: 201752.5000 - val_coeff_determination: 0.0355 - val_mae: 201752.5000\n",
            "Epoch 29/40\n",
            "200/200 [==============================] - 88s 434ms/step - loss: 197572.6406 - coeff_determination: 0.0614 - mae: 197572.6406 - val_loss: 197216.9062 - val_coeff_determination: 0.0370 - val_mae: 197216.9062\n",
            "Epoch 30/40\n",
            "200/200 [==============================] - 88s 434ms/step - loss: 196872.0781 - coeff_determination: 0.0659 - mae: 196872.0781 - val_loss: 197522.7188 - val_coeff_determination: 0.0366 - val_mae: 197522.7188\n",
            "Epoch 31/40\n",
            "200/200 [==============================] - 86s 425ms/step - loss: 363756.6875 - coeff_determination: -1.0190 - mae: 363756.6875 - val_loss: 510787.0312 - val_coeff_determination: -2.0524 - val_mae: 510787.0312\n",
            "Epoch 32/40\n",
            "200/200 [==============================] - 81s 399ms/step - loss: 510886.1875 - coeff_determination: -1.9751 - mae: 510886.1875 - val_loss: 511339.3438 - val_coeff_determination: -1.8184 - val_mae: 511339.3438\n"
          ],
          "name": "stdout"
        }
      ]
    },
    {
      "cell_type": "code",
      "metadata": {
        "id": "JMSOgsC_V2Zx"
      },
      "source": [
        "def plot_loss(coeff_determination,val_coeff_determination):\n",
        "    \"\"\"Plots loss as a function of epoch for validation \n",
        "           and training sets\"\"\"\n",
        "    \n",
        "    plt.figure()\n",
        "    plt.plot(coeff_determination)\n",
        "    plt.plot(val_coeff_determination)\n",
        "    plt.title('Coefficient of Determination')\n",
        "    plt.ylabel('R-squared')\n",
        "    plt.xlabel('Epoch')\n",
        "    plt.legend(['Train', 'Test'], loc='upper right')\n",
        "    plt.show()"
      ],
      "execution_count": 22,
      "outputs": []
    },
    {
      "cell_type": "code",
      "metadata": {
        "colab": {
          "base_uri": "https://localhost:8080/",
          "height": 295
        },
        "id": "1fESOa6Wjhu7",
        "outputId": "1e2b1366-68dc-4971-98d9-49eba7b9bd90"
      },
      "source": [
        "# Plot train vs test loss during training\n",
        "plot_loss(history.history['coeff_determination'], history.history['val_coeff_determination'])"
      ],
      "execution_count": 23,
      "outputs": [
        {
          "output_type": "display_data",
          "data": {
            "image/png": "[encoded data removed]",
            "text/plain": [
              "<Figure size 432x288 with 1 Axes>"
            ]
          },
          "metadata": {
            "tags": [],
            "needs_background": "light"
          }
        }
      ]
    },
    {
      "cell_type": "code",
      "metadata": {
        "id": "yBkMZuqzuT9_"
      },
      "source": [
        "def plot_loss(mae,val_mae):\n",
        "    \"\"\"Plots loss as a function of epoch for validation \n",
        "           and training sets\"\"\"\n",
        "    \n",
        "    plt.figure()\n",
        "    plt.plot(mae)\n",
        "    plt.plot(val_mae)\n",
        "    plt.title('Model loss')\n",
        "    plt.ylabel('Loss')\n",
        "    plt.xlabel('Epoch')\n",
        "    plt.legend(['Train', 'Test'], loc='upper right')\n",
        "    plt.show()"
      ],
      "execution_count": 24,
      "outputs": []
    },
    {
      "cell_type": "code",
      "metadata": {
        "colab": {
          "base_uri": "https://localhost:8080/",
          "height": 295
        },
        "id": "ZpNRVei-ghpQ",
        "outputId": "aac3d944-2cfd-4796-87b6-c7438b046f36"
      },
      "source": [
        "\n",
        "# Plot train vs test loss during training\n",
        "plot_loss(history.history['mae'], history.history['val_mae'])"
      ],
      "execution_count": 25,
      "outputs": [
        {
          "output_type": "display_data",
          "data": {
            "image/png": "[encoded data removed]",
            "text/plain": [
              "<Figure size 432x288 with 1 Axes>"
            ]
          },
          "metadata": {
            "tags": [],
            "needs_background": "light"
          }
        }
      ]
    },
    {
      "cell_type": "code",
      "metadata": {
        "id": "BeQNvnJ1mvTy"
      },
      "source": [
        ""
      ],
      "execution_count": 25,
      "outputs": []
    },
    {
      "cell_type": "markdown",
      "metadata": {
        "id": "gGOaO68dmykv"
      },
      "source": [
        "## Visualize the filters\n",
        "from : https://machinelearningmastery.com/how-to-visualize-filters-and-feature-maps-in-convolutional-neural-networks/"
      ]
    },
    {
      "cell_type": "code",
      "metadata": {
        "colab": {
          "base_uri": "https://localhost:8080/"
        },
        "id": "VH5X20ZGmvQ-",
        "outputId": "3762a034-48d0-4fc3-ab3f-1e859163224b"
      },
      "source": [
        "# summarize filter shapes\n",
        "for layer in cnn2.layers:\n",
        "\t# check for convolutional layer\n",
        "\tif 'conv' not in layer.name:\n",
        "\t\tcontinue\n",
        "\t# get filter weights\n",
        "\tfilters, biases = layer.get_weights()\n",
        "\tprint(layer.name, filters.shape)\n",
        "\n",
        "#output is the name of the layer and the shape of the filter"
      ],
      "execution_count": 26,
      "outputs": [
        {
          "output_type": "stream",
          "text": [
            "conv2d (3, 3, 1, 32)\n",
            "conv2d_1 (3, 3, 32, 64)\n",
            "conv2d_2 (3, 3, 64, 128)\n",
            "conv2d_3 (3, 3, 128, 128)\n"
          ],
          "name": "stdout"
        }
      ]
    },
    {
      "cell_type": "code",
      "metadata": {
        "colab": {
          "base_uri": "https://localhost:8080/",
          "height": 252
        },
        "id": "MW6nMLu3mvOg",
        "outputId": "418cad52-caf3-451a-9cf5-fbb4e5957b84"
      },
      "source": [
        "\n",
        "# plot first few filters\n",
        "n_filters, ix = 6, 1\n",
        "for i in range(n_filters):\n",
        "\t# get the filter\n",
        "\tf = filters[:, :, :, i]\n",
        "\t# plot each channel separately\n",
        "\tfor j in range(3):\n",
        "\t\t# specify subplot and turn of axis\n",
        "\t\tax = plt.subplot(n_filters, 3, ix)\n",
        "\t\tax.set_xticks([])\n",
        "\t\tax.set_yticks([])\n",
        "\t\t# plot filter channel in grayscale\n",
        "\t\tplt.imshow(f[:, :, j], cmap='gray')\n",
        "\t\tix += 1\n",
        "# show the figure\n",
        "plt.show()"
      ],
      "execution_count": 27,
      "outputs": [
        {
          "output_type": "display_data",
          "data": {
            "image/png": "[encoded data removed]",
            "text/plain": [
              "<Figure size 432x288 with 18 Axes>"
            ]
          },
          "metadata": {
            "tags": []
          }
        }
      ]
    },
    {
      "cell_type": "code",
      "metadata": {
        "id": "npjuqXVV3xar"
      },
      "source": [
        ""
      ],
      "execution_count": 27,
      "outputs": []
    },
    {
      "cell_type": "code",
      "metadata": {
        "id": "cDS-JlYo3xXP"
      },
      "source": [
        ""
      ],
      "execution_count": 27,
      "outputs": []
    }
  ]
}