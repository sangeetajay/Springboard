{
 "cells": [
  {
   "cell_type": "markdown",
   "metadata": {},
   "source": [
    "# Exploratory Data Analysis and continuation of Data Wrangling for Second Capstone Project"
   ]
  },
  {
   "cell_type": "markdown",
   "metadata": {},
   "source": [
    "### Predicting Rain in Australia using data collected over 10 years across 49 locations"
   ]
  },
  {
   "cell_type": "code",
   "execution_count": 1,
   "metadata": {},
   "outputs": [],
   "source": [
    "#Import python packages\n",
    "import pandas as pd\n",
    "import numpy as np\n",
    "import matplotlib.pyplot as plt \n",
    "import seaborn as sns\n",
    "import os\n",
    "import datetime\n",
    "\n",
    "\n",
    "import scipy.stats\n",
    "from scipy.stats import t\n",
    "from scipy.stats import chi2_contingency"
   ]
  },
  {
   "cell_type": "code",
   "execution_count": 2,
   "metadata": {
    "scrolled": false
   },
   "outputs": [
    {
     "data": {
      "text/html": [
       "<div>\n",
       "<style scoped>\n",
       "    .dataframe tbody tr th:only-of-type {\n",
       "        vertical-align: middle;\n",
       "    }\n",
       "\n",
       "    .dataframe tbody tr th {\n",
       "        vertical-align: top;\n",
       "    }\n",
       "\n",
       "    .dataframe thead th {\n",
       "        text-align: right;\n",
       "    }\n",
       "</style>\n",
       "<table border=\"1\" class=\"dataframe\">\n",
       "  <thead>\n",
       "    <tr style=\"text-align: right;\">\n",
       "      <th></th>\n",
       "      <th>Date</th>\n",
       "      <th>Location</th>\n",
       "      <th>MinTemp</th>\n",
       "      <th>MaxTemp</th>\n",
       "      <th>Rainfall</th>\n",
       "      <th>Evaporation</th>\n",
       "      <th>Sunshine</th>\n",
       "      <th>WindGustDir</th>\n",
       "      <th>WindGustSpeed</th>\n",
       "      <th>WindDir9am</th>\n",
       "      <th>...</th>\n",
       "      <th>Humidity9am</th>\n",
       "      <th>Humidity3pm</th>\n",
       "      <th>Pressure9am</th>\n",
       "      <th>Pressure3pm</th>\n",
       "      <th>Cloud9am</th>\n",
       "      <th>Cloud3pm</th>\n",
       "      <th>Temp9am</th>\n",
       "      <th>Temp3pm</th>\n",
       "      <th>RainToday</th>\n",
       "      <th>RainTomorrow</th>\n",
       "    </tr>\n",
       "  </thead>\n",
       "  <tbody>\n",
       "    <tr>\n",
       "      <th>0</th>\n",
       "      <td>2008-12-01</td>\n",
       "      <td>Albury</td>\n",
       "      <td>13.4</td>\n",
       "      <td>22.9</td>\n",
       "      <td>0.6</td>\n",
       "      <td>NaN</td>\n",
       "      <td>NaN</td>\n",
       "      <td>W</td>\n",
       "      <td>44.0</td>\n",
       "      <td>W</td>\n",
       "      <td>...</td>\n",
       "      <td>71.0</td>\n",
       "      <td>22.0</td>\n",
       "      <td>1007.7</td>\n",
       "      <td>1007.1</td>\n",
       "      <td>8.0</td>\n",
       "      <td>NaN</td>\n",
       "      <td>16.9</td>\n",
       "      <td>21.8</td>\n",
       "      <td>No</td>\n",
       "      <td>No</td>\n",
       "    </tr>\n",
       "    <tr>\n",
       "      <th>1</th>\n",
       "      <td>2008-12-02</td>\n",
       "      <td>Albury</td>\n",
       "      <td>7.4</td>\n",
       "      <td>25.1</td>\n",
       "      <td>0.0</td>\n",
       "      <td>NaN</td>\n",
       "      <td>NaN</td>\n",
       "      <td>WNW</td>\n",
       "      <td>44.0</td>\n",
       "      <td>NNW</td>\n",
       "      <td>...</td>\n",
       "      <td>44.0</td>\n",
       "      <td>25.0</td>\n",
       "      <td>1010.6</td>\n",
       "      <td>1007.8</td>\n",
       "      <td>NaN</td>\n",
       "      <td>NaN</td>\n",
       "      <td>17.2</td>\n",
       "      <td>24.3</td>\n",
       "      <td>No</td>\n",
       "      <td>No</td>\n",
       "    </tr>\n",
       "    <tr>\n",
       "      <th>2</th>\n",
       "      <td>2008-12-03</td>\n",
       "      <td>Albury</td>\n",
       "      <td>12.9</td>\n",
       "      <td>25.7</td>\n",
       "      <td>0.0</td>\n",
       "      <td>NaN</td>\n",
       "      <td>NaN</td>\n",
       "      <td>WSW</td>\n",
       "      <td>46.0</td>\n",
       "      <td>W</td>\n",
       "      <td>...</td>\n",
       "      <td>38.0</td>\n",
       "      <td>30.0</td>\n",
       "      <td>1007.6</td>\n",
       "      <td>1008.7</td>\n",
       "      <td>NaN</td>\n",
       "      <td>2.0</td>\n",
       "      <td>21.0</td>\n",
       "      <td>23.2</td>\n",
       "      <td>No</td>\n",
       "      <td>No</td>\n",
       "    </tr>\n",
       "    <tr>\n",
       "      <th>3</th>\n",
       "      <td>2008-12-04</td>\n",
       "      <td>Albury</td>\n",
       "      <td>9.2</td>\n",
       "      <td>28.0</td>\n",
       "      <td>0.0</td>\n",
       "      <td>NaN</td>\n",
       "      <td>NaN</td>\n",
       "      <td>NE</td>\n",
       "      <td>24.0</td>\n",
       "      <td>SE</td>\n",
       "      <td>...</td>\n",
       "      <td>45.0</td>\n",
       "      <td>16.0</td>\n",
       "      <td>1017.6</td>\n",
       "      <td>1012.8</td>\n",
       "      <td>NaN</td>\n",
       "      <td>NaN</td>\n",
       "      <td>18.1</td>\n",
       "      <td>26.5</td>\n",
       "      <td>No</td>\n",
       "      <td>No</td>\n",
       "    </tr>\n",
       "    <tr>\n",
       "      <th>4</th>\n",
       "      <td>2008-12-05</td>\n",
       "      <td>Albury</td>\n",
       "      <td>17.5</td>\n",
       "      <td>32.3</td>\n",
       "      <td>1.0</td>\n",
       "      <td>NaN</td>\n",
       "      <td>NaN</td>\n",
       "      <td>W</td>\n",
       "      <td>41.0</td>\n",
       "      <td>ENE</td>\n",
       "      <td>...</td>\n",
       "      <td>82.0</td>\n",
       "      <td>33.0</td>\n",
       "      <td>1010.8</td>\n",
       "      <td>1006.0</td>\n",
       "      <td>7.0</td>\n",
       "      <td>8.0</td>\n",
       "      <td>17.8</td>\n",
       "      <td>29.7</td>\n",
       "      <td>No</td>\n",
       "      <td>No</td>\n",
       "    </tr>\n",
       "  </tbody>\n",
       "</table>\n",
       "<p>5 rows × 23 columns</p>\n",
       "</div>"
      ],
      "text/plain": [
       "         Date Location  MinTemp  MaxTemp  Rainfall  Evaporation  Sunshine  \\\n",
       "0  2008-12-01   Albury     13.4     22.9       0.6          NaN       NaN   \n",
       "1  2008-12-02   Albury      7.4     25.1       0.0          NaN       NaN   \n",
       "2  2008-12-03   Albury     12.9     25.7       0.0          NaN       NaN   \n",
       "3  2008-12-04   Albury      9.2     28.0       0.0          NaN       NaN   \n",
       "4  2008-12-05   Albury     17.5     32.3       1.0          NaN       NaN   \n",
       "\n",
       "  WindGustDir  WindGustSpeed WindDir9am  ... Humidity9am  Humidity3pm  \\\n",
       "0           W           44.0          W  ...        71.0         22.0   \n",
       "1         WNW           44.0        NNW  ...        44.0         25.0   \n",
       "2         WSW           46.0          W  ...        38.0         30.0   \n",
       "3          NE           24.0         SE  ...        45.0         16.0   \n",
       "4           W           41.0        ENE  ...        82.0         33.0   \n",
       "\n",
       "   Pressure9am  Pressure3pm  Cloud9am  Cloud3pm  Temp9am  Temp3pm  RainToday  \\\n",
       "0       1007.7       1007.1       8.0       NaN     16.9     21.8         No   \n",
       "1       1010.6       1007.8       NaN       NaN     17.2     24.3         No   \n",
       "2       1007.6       1008.7       NaN       2.0     21.0     23.2         No   \n",
       "3       1017.6       1012.8       NaN       NaN     18.1     26.5         No   \n",
       "4       1010.8       1006.0       7.0       8.0     17.8     29.7         No   \n",
       "\n",
       "   RainTomorrow  \n",
       "0            No  \n",
       "1            No  \n",
       "2            No  \n",
       "3            No  \n",
       "4            No  \n",
       "\n",
       "[5 rows x 23 columns]"
      ]
     },
     "execution_count": 2,
     "metadata": {},
     "output_type": "execute_result"
    }
   ],
   "source": [
    "#load the dataset\n",
    "file = '/Users/sangeetajayakar/Springboard_Course/Files_for_second_capstone/weatherAUS.csv'\n",
    "df = pd.read_csv(file)\n",
    "df.head()"
   ]
  },
  {
   "cell_type": "code",
   "execution_count": 3,
   "metadata": {
    "scrolled": true
   },
   "outputs": [
    {
     "name": "stdout",
     "output_type": "stream",
     "text": [
      "<class 'pandas.core.frame.DataFrame'>\n",
      "RangeIndex: 145460 entries, 0 to 145459\n",
      "Data columns (total 23 columns):\n",
      " #   Column         Non-Null Count   Dtype  \n",
      "---  ------         --------------   -----  \n",
      " 0   Date           145460 non-null  object \n",
      " 1   Location       145460 non-null  object \n",
      " 2   MinTemp        143975 non-null  float64\n",
      " 3   MaxTemp        144199 non-null  float64\n",
      " 4   Rainfall       142199 non-null  float64\n",
      " 5   Evaporation    82670 non-null   float64\n",
      " 6   Sunshine       75625 non-null   float64\n",
      " 7   WindGustDir    135134 non-null  object \n",
      " 8   WindGustSpeed  135197 non-null  float64\n",
      " 9   WindDir9am     134894 non-null  object \n",
      " 10  WindDir3pm     141232 non-null  object \n",
      " 11  WindSpeed9am   143693 non-null  float64\n",
      " 12  WindSpeed3pm   142398 non-null  float64\n",
      " 13  Humidity9am    142806 non-null  float64\n",
      " 14  Humidity3pm    140953 non-null  float64\n",
      " 15  Pressure9am    130395 non-null  float64\n",
      " 16  Pressure3pm    130432 non-null  float64\n",
      " 17  Cloud9am       89572 non-null   float64\n",
      " 18  Cloud3pm       86102 non-null   float64\n",
      " 19  Temp9am        143693 non-null  float64\n",
      " 20  Temp3pm        141851 non-null  float64\n",
      " 21  RainToday      142199 non-null  object \n",
      " 22  RainTomorrow   142193 non-null  object \n",
      "dtypes: float64(16), object(7)\n",
      "memory usage: 25.5+ MB\n"
     ]
    }
   ],
   "source": [
    "df.info()"
   ]
  },
  {
   "cell_type": "code",
   "execution_count": 4,
   "metadata": {
    "scrolled": false
   },
   "outputs": [
    {
     "data": {
      "text/html": [
       "<div>\n",
       "<style scoped>\n",
       "    .dataframe tbody tr th:only-of-type {\n",
       "        vertical-align: middle;\n",
       "    }\n",
       "\n",
       "    .dataframe tbody tr th {\n",
       "        vertical-align: top;\n",
       "    }\n",
       "\n",
       "    .dataframe thead th {\n",
       "        text-align: right;\n",
       "    }\n",
       "</style>\n",
       "<table border=\"1\" class=\"dataframe\">\n",
       "  <thead>\n",
       "    <tr style=\"text-align: right;\">\n",
       "      <th></th>\n",
       "      <th>count</th>\n",
       "      <th>mean</th>\n",
       "      <th>std</th>\n",
       "      <th>min</th>\n",
       "      <th>25%</th>\n",
       "      <th>50%</th>\n",
       "      <th>75%</th>\n",
       "      <th>max</th>\n",
       "    </tr>\n",
       "  </thead>\n",
       "  <tbody>\n",
       "    <tr>\n",
       "      <th>MinTemp</th>\n",
       "      <td>143975.0</td>\n",
       "      <td>12.194034</td>\n",
       "      <td>6.398495</td>\n",
       "      <td>-8.5</td>\n",
       "      <td>7.6</td>\n",
       "      <td>12.0</td>\n",
       "      <td>16.9</td>\n",
       "      <td>33.9</td>\n",
       "    </tr>\n",
       "    <tr>\n",
       "      <th>MaxTemp</th>\n",
       "      <td>144199.0</td>\n",
       "      <td>23.221348</td>\n",
       "      <td>7.119049</td>\n",
       "      <td>-4.8</td>\n",
       "      <td>17.9</td>\n",
       "      <td>22.6</td>\n",
       "      <td>28.2</td>\n",
       "      <td>48.1</td>\n",
       "    </tr>\n",
       "    <tr>\n",
       "      <th>Rainfall</th>\n",
       "      <td>142199.0</td>\n",
       "      <td>2.360918</td>\n",
       "      <td>8.478060</td>\n",
       "      <td>0.0</td>\n",
       "      <td>0.0</td>\n",
       "      <td>0.0</td>\n",
       "      <td>0.8</td>\n",
       "      <td>371.0</td>\n",
       "    </tr>\n",
       "    <tr>\n",
       "      <th>Evaporation</th>\n",
       "      <td>82670.0</td>\n",
       "      <td>5.468232</td>\n",
       "      <td>4.193704</td>\n",
       "      <td>0.0</td>\n",
       "      <td>2.6</td>\n",
       "      <td>4.8</td>\n",
       "      <td>7.4</td>\n",
       "      <td>145.0</td>\n",
       "    </tr>\n",
       "    <tr>\n",
       "      <th>Sunshine</th>\n",
       "      <td>75625.0</td>\n",
       "      <td>7.611178</td>\n",
       "      <td>3.785483</td>\n",
       "      <td>0.0</td>\n",
       "      <td>4.8</td>\n",
       "      <td>8.4</td>\n",
       "      <td>10.6</td>\n",
       "      <td>14.5</td>\n",
       "    </tr>\n",
       "    <tr>\n",
       "      <th>WindGustSpeed</th>\n",
       "      <td>135197.0</td>\n",
       "      <td>40.035230</td>\n",
       "      <td>13.607062</td>\n",
       "      <td>6.0</td>\n",
       "      <td>31.0</td>\n",
       "      <td>39.0</td>\n",
       "      <td>48.0</td>\n",
       "      <td>135.0</td>\n",
       "    </tr>\n",
       "    <tr>\n",
       "      <th>WindSpeed9am</th>\n",
       "      <td>143693.0</td>\n",
       "      <td>14.043426</td>\n",
       "      <td>8.915375</td>\n",
       "      <td>0.0</td>\n",
       "      <td>7.0</td>\n",
       "      <td>13.0</td>\n",
       "      <td>19.0</td>\n",
       "      <td>130.0</td>\n",
       "    </tr>\n",
       "    <tr>\n",
       "      <th>WindSpeed3pm</th>\n",
       "      <td>142398.0</td>\n",
       "      <td>18.662657</td>\n",
       "      <td>8.809800</td>\n",
       "      <td>0.0</td>\n",
       "      <td>13.0</td>\n",
       "      <td>19.0</td>\n",
       "      <td>24.0</td>\n",
       "      <td>87.0</td>\n",
       "    </tr>\n",
       "    <tr>\n",
       "      <th>Humidity9am</th>\n",
       "      <td>142806.0</td>\n",
       "      <td>68.880831</td>\n",
       "      <td>19.029164</td>\n",
       "      <td>0.0</td>\n",
       "      <td>57.0</td>\n",
       "      <td>70.0</td>\n",
       "      <td>83.0</td>\n",
       "      <td>100.0</td>\n",
       "    </tr>\n",
       "    <tr>\n",
       "      <th>Humidity3pm</th>\n",
       "      <td>140953.0</td>\n",
       "      <td>51.539116</td>\n",
       "      <td>20.795902</td>\n",
       "      <td>0.0</td>\n",
       "      <td>37.0</td>\n",
       "      <td>52.0</td>\n",
       "      <td>66.0</td>\n",
       "      <td>100.0</td>\n",
       "    </tr>\n",
       "    <tr>\n",
       "      <th>Pressure9am</th>\n",
       "      <td>130395.0</td>\n",
       "      <td>1017.649940</td>\n",
       "      <td>7.106530</td>\n",
       "      <td>980.5</td>\n",
       "      <td>1012.9</td>\n",
       "      <td>1017.6</td>\n",
       "      <td>1022.4</td>\n",
       "      <td>1041.0</td>\n",
       "    </tr>\n",
       "    <tr>\n",
       "      <th>Pressure3pm</th>\n",
       "      <td>130432.0</td>\n",
       "      <td>1015.255889</td>\n",
       "      <td>7.037414</td>\n",
       "      <td>977.1</td>\n",
       "      <td>1010.4</td>\n",
       "      <td>1015.2</td>\n",
       "      <td>1020.0</td>\n",
       "      <td>1039.6</td>\n",
       "    </tr>\n",
       "    <tr>\n",
       "      <th>Cloud9am</th>\n",
       "      <td>89572.0</td>\n",
       "      <td>4.447461</td>\n",
       "      <td>2.887159</td>\n",
       "      <td>0.0</td>\n",
       "      <td>1.0</td>\n",
       "      <td>5.0</td>\n",
       "      <td>7.0</td>\n",
       "      <td>9.0</td>\n",
       "    </tr>\n",
       "    <tr>\n",
       "      <th>Cloud3pm</th>\n",
       "      <td>86102.0</td>\n",
       "      <td>4.509930</td>\n",
       "      <td>2.720357</td>\n",
       "      <td>0.0</td>\n",
       "      <td>2.0</td>\n",
       "      <td>5.0</td>\n",
       "      <td>7.0</td>\n",
       "      <td>9.0</td>\n",
       "    </tr>\n",
       "    <tr>\n",
       "      <th>Temp9am</th>\n",
       "      <td>143693.0</td>\n",
       "      <td>16.990631</td>\n",
       "      <td>6.488753</td>\n",
       "      <td>-7.2</td>\n",
       "      <td>12.3</td>\n",
       "      <td>16.7</td>\n",
       "      <td>21.6</td>\n",
       "      <td>40.2</td>\n",
       "    </tr>\n",
       "    <tr>\n",
       "      <th>Temp3pm</th>\n",
       "      <td>141851.0</td>\n",
       "      <td>21.683390</td>\n",
       "      <td>6.936650</td>\n",
       "      <td>-5.4</td>\n",
       "      <td>16.6</td>\n",
       "      <td>21.1</td>\n",
       "      <td>26.4</td>\n",
       "      <td>46.7</td>\n",
       "    </tr>\n",
       "  </tbody>\n",
       "</table>\n",
       "</div>"
      ],
      "text/plain": [
       "                  count         mean        std    min     25%     50%  \\\n",
       "MinTemp        143975.0    12.194034   6.398495   -8.5     7.6    12.0   \n",
       "MaxTemp        144199.0    23.221348   7.119049   -4.8    17.9    22.6   \n",
       "Rainfall       142199.0     2.360918   8.478060    0.0     0.0     0.0   \n",
       "Evaporation     82670.0     5.468232   4.193704    0.0     2.6     4.8   \n",
       "Sunshine        75625.0     7.611178   3.785483    0.0     4.8     8.4   \n",
       "WindGustSpeed  135197.0    40.035230  13.607062    6.0    31.0    39.0   \n",
       "WindSpeed9am   143693.0    14.043426   8.915375    0.0     7.0    13.0   \n",
       "WindSpeed3pm   142398.0    18.662657   8.809800    0.0    13.0    19.0   \n",
       "Humidity9am    142806.0    68.880831  19.029164    0.0    57.0    70.0   \n",
       "Humidity3pm    140953.0    51.539116  20.795902    0.0    37.0    52.0   \n",
       "Pressure9am    130395.0  1017.649940   7.106530  980.5  1012.9  1017.6   \n",
       "Pressure3pm    130432.0  1015.255889   7.037414  977.1  1010.4  1015.2   \n",
       "Cloud9am        89572.0     4.447461   2.887159    0.0     1.0     5.0   \n",
       "Cloud3pm        86102.0     4.509930   2.720357    0.0     2.0     5.0   \n",
       "Temp9am        143693.0    16.990631   6.488753   -7.2    12.3    16.7   \n",
       "Temp3pm        141851.0    21.683390   6.936650   -5.4    16.6    21.1   \n",
       "\n",
       "                  75%     max  \n",
       "MinTemp          16.9    33.9  \n",
       "MaxTemp          28.2    48.1  \n",
       "Rainfall          0.8   371.0  \n",
       "Evaporation       7.4   145.0  \n",
       "Sunshine         10.6    14.5  \n",
       "WindGustSpeed    48.0   135.0  \n",
       "WindSpeed9am     19.0   130.0  \n",
       "WindSpeed3pm     24.0    87.0  \n",
       "Humidity9am      83.0   100.0  \n",
       "Humidity3pm      66.0   100.0  \n",
       "Pressure9am    1022.4  1041.0  \n",
       "Pressure3pm    1020.0  1039.6  \n",
       "Cloud9am          7.0     9.0  \n",
       "Cloud3pm          7.0     9.0  \n",
       "Temp9am          21.6    40.2  \n",
       "Temp3pm          26.4    46.7  "
      ]
     },
     "execution_count": 4,
     "metadata": {},
     "output_type": "execute_result"
    }
   ],
   "source": [
    "df.describe().T"
   ]
  },
  {
   "cell_type": "code",
   "execution_count": 5,
   "metadata": {},
   "outputs": [
    {
     "data": {
      "text/plain": [
       "Date                 0\n",
       "Location             0\n",
       "MinTemp           1485\n",
       "MaxTemp           1261\n",
       "Rainfall          3261\n",
       "Evaporation      62790\n",
       "Sunshine         69835\n",
       "WindGustDir      10326\n",
       "WindGustSpeed    10263\n",
       "WindDir9am       10566\n",
       "WindDir3pm        4228\n",
       "WindSpeed9am      1767\n",
       "WindSpeed3pm      3062\n",
       "Humidity9am       2654\n",
       "Humidity3pm       4507\n",
       "Pressure9am      15065\n",
       "Pressure3pm      15028\n",
       "Cloud9am         55888\n",
       "Cloud3pm         59358\n",
       "Temp9am           1767\n",
       "Temp3pm           3609\n",
       "RainToday         3261\n",
       "RainTomorrow      3267\n",
       "dtype: int64"
      ]
     },
     "execution_count": 5,
     "metadata": {},
     "output_type": "execute_result"
    }
   ],
   "source": [
    "df.isnull().sum()"
   ]
  },
  {
   "cell_type": "code",
   "execution_count": 6,
   "metadata": {},
   "outputs": [
    {
     "data": {
      "image/png": "[encoded data removed]",
      "text/plain": [
       "<Figure size 1080x720 with 16 Axes>"
      ]
     },
     "metadata": {
      "needs_background": "light"
     },
     "output_type": "display_data"
    }
   ],
   "source": [
    "#Call `hist` method to plot histograms of each of the numeric features\n",
    "df.hist(figsize=(15,10))\n",
    "plt.subplots_adjust(hspace=0.5);"
   ]
  },
  {
   "cell_type": "markdown",
   "metadata": {},
   "source": [
    "#### Initial Observations from the dataset:\n",
    "1. 23 Columns of data including 19 numerical columns and 4 categorical columns. \n",
    "2. The target feature has been identified as RainTomorrow\n",
    "3. Some of the numerical data look like they are normally distributed\n",
    "4. Some columns to further examine based on odd-shaped histograms are Rainfall, Evaporation, all 3 of the Windspeed columns, and both of the Cloud columns.\n",
    "5. Some columns are missing a large amount of data: Evaporation, Sunshine, Cloud9am, Cloud3pm. These may need to be removed prior to modeling. \n",
    "\n",
    "Initial Questions:\n",
    "1. Can we turn RainToday and RainTomorrow into a new column where 'Yes'==1 and 'No'==0 to make it easier for analysis?\n",
    "2. Are there redundant columns (ie. Pressure9am vs Pressure3pm)? Can we create a new column where we find the difference in Pressure between these two times?"
   ]
  },
  {
   "cell_type": "markdown",
   "metadata": {},
   "source": [
    "## Exploring the Target Feature\n",
    "The feature RainTomorrow is the feature we want to predict. \n",
    "RainTomorrow will be examined, as well as RainToday to see how these differ from eachother."
   ]
  },
  {
   "cell_type": "code",
   "execution_count": 7,
   "metadata": {
    "scrolled": true
   },
   "outputs": [
    {
     "data": {
      "text/html": [
       "<div>\n",
       "<style scoped>\n",
       "    .dataframe tbody tr th:only-of-type {\n",
       "        vertical-align: middle;\n",
       "    }\n",
       "\n",
       "    .dataframe tbody tr th {\n",
       "        vertical-align: top;\n",
       "    }\n",
       "\n",
       "    .dataframe thead th {\n",
       "        text-align: right;\n",
       "    }\n",
       "</style>\n",
       "<table border=\"1\" class=\"dataframe\">\n",
       "  <thead>\n",
       "    <tr style=\"text-align: right;\">\n",
       "      <th></th>\n",
       "      <th>RainToday</th>\n",
       "    </tr>\n",
       "    <tr>\n",
       "      <th>RainToday</th>\n",
       "      <th></th>\n",
       "    </tr>\n",
       "  </thead>\n",
       "  <tbody>\n",
       "    <tr>\n",
       "      <th>No</th>\n",
       "      <td>110319</td>\n",
       "    </tr>\n",
       "    <tr>\n",
       "      <th>Yes</th>\n",
       "      <td>31880</td>\n",
       "    </tr>\n",
       "  </tbody>\n",
       "</table>\n",
       "</div>"
      ],
      "text/plain": [
       "           RainToday\n",
       "RainToday           \n",
       "No            110319\n",
       "Yes            31880"
      ]
     },
     "execution_count": 7,
     "metadata": {},
     "output_type": "execute_result"
    }
   ],
   "source": [
    "#Examination of the Target Feature 'RainTomorrow'\n",
    "#Target Feature is RainTomorrow. RainToday and RainTomorrow are both categorical with either 'Yes' or 'No'\n",
    "\n",
    "df.groupby(['RainToday'])[['RainToday']].count()"
   ]
  },
  {
   "cell_type": "code",
   "execution_count": 8,
   "metadata": {
    "scrolled": false
   },
   "outputs": [
    {
     "data": {
      "text/html": [
       "<div>\n",
       "<style scoped>\n",
       "    .dataframe tbody tr th:only-of-type {\n",
       "        vertical-align: middle;\n",
       "    }\n",
       "\n",
       "    .dataframe tbody tr th {\n",
       "        vertical-align: top;\n",
       "    }\n",
       "\n",
       "    .dataframe thead th {\n",
       "        text-align: right;\n",
       "    }\n",
       "</style>\n",
       "<table border=\"1\" class=\"dataframe\">\n",
       "  <thead>\n",
       "    <tr style=\"text-align: right;\">\n",
       "      <th></th>\n",
       "      <th>RainTomorrow</th>\n",
       "    </tr>\n",
       "    <tr>\n",
       "      <th>RainTomorrow</th>\n",
       "      <th></th>\n",
       "    </tr>\n",
       "  </thead>\n",
       "  <tbody>\n",
       "    <tr>\n",
       "      <th>No</th>\n",
       "      <td>110316</td>\n",
       "    </tr>\n",
       "    <tr>\n",
       "      <th>Yes</th>\n",
       "      <td>31877</td>\n",
       "    </tr>\n",
       "  </tbody>\n",
       "</table>\n",
       "</div>"
      ],
      "text/plain": [
       "              RainTomorrow\n",
       "RainTomorrow              \n",
       "No                  110316\n",
       "Yes                  31877"
      ]
     },
     "execution_count": 8,
     "metadata": {},
     "output_type": "execute_result"
    }
   ],
   "source": [
    "df.groupby(['RainTomorrow'])[['RainTomorrow']].count()"
   ]
  },
  {
   "cell_type": "code",
   "execution_count": 23,
   "metadata": {
    "scrolled": false
   },
   "outputs": [
    {
     "data": {
      "text/plain": [
       "Text(0.5, 1.0, 'Target Feature Counts')"
      ]
     },
     "execution_count": 23,
     "metadata": {},
     "output_type": "execute_result"
    },
    {
     "data": {
      "image/png": "[encoded data removed]",
      "text/plain": [
       "<Figure size 432x288 with 1 Axes>"
      ]
     },
     "metadata": {
      "needs_background": "light"
     },
     "output_type": "display_data"
    }
   ],
   "source": [
    "#Bar plot of RainTomorrow counts\n",
    "df.groupby(['RainTomorrow'])['RainTomorrow'].count().plot(kind='bar').set_ylabel('Count')\n",
    "plt.title('Target Feature Counts')"
   ]
  },
  {
   "cell_type": "code",
   "execution_count": null,
   "metadata": {},
   "outputs": [],
   "source": []
  },
  {
   "cell_type": "code",
   "execution_count": 10,
   "metadata": {},
   "outputs": [
    {
     "data": {
      "text/plain": [
       "3267"
      ]
     },
     "execution_count": 10,
     "metadata": {},
     "output_type": "execute_result"
    }
   ],
   "source": [
    "# count missing values in Target Feature\n",
    "df['RainTomorrow'].isnull().sum()"
   ]
  },
  {
   "cell_type": "code",
   "execution_count": 11,
   "metadata": {
    "scrolled": true
   },
   "outputs": [],
   "source": [
    "df = df.dropna(axis=0, subset=['RainTomorrow'])"
   ]
  },
  {
   "cell_type": "code",
   "execution_count": 13,
   "metadata": {
    "scrolled": true
   },
   "outputs": [
    {
     "data": {
      "text/plain": [
       "array(['No', 'Yes'], dtype=object)"
      ]
     },
     "execution_count": 13,
     "metadata": {},
     "output_type": "execute_result"
    }
   ],
   "source": [
    "df['RainTomorrow'].unique()"
   ]
  },
  {
   "cell_type": "code",
   "execution_count": null,
   "metadata": {},
   "outputs": [],
   "source": []
  },
  {
   "cell_type": "code",
   "execution_count": null,
   "metadata": {},
   "outputs": [],
   "source": []
  },
  {
   "cell_type": "code",
   "execution_count": 13,
   "metadata": {
    "scrolled": false
   },
   "outputs": [
    {
     "name": "stdout",
     "output_type": "stream",
     "text": [
      "[0 1]\n",
      "int64\n"
     ]
    }
   ],
   "source": [
    "# We will change 'Yes' to 1, and 'No' to 0 for easier analysis later on.\n",
    "\n",
    "df= df.replace({'RainTomorrow':'Yes'}, 1)\n",
    "df= df.replace({'RainTomorrow':'No'}, 0)\n",
    "\n",
    "print(df.RainTomorrow.unique())\n",
    "print(df.RainTomorrow.dtypes)\n"
   ]
  },
  {
   "cell_type": "code",
   "execution_count": 14,
   "metadata": {
    "scrolled": false
   },
   "outputs": [
    {
     "name": "stdout",
     "output_type": "stream",
     "text": [
      "[ 0.  1. nan]\n",
      "float64\n"
     ]
    }
   ],
   "source": [
    "# Now we will do the same to the RainToday column.\n",
    "\n",
    "df= df.replace({'RainToday':'Yes'}, 1)\n",
    "df= df.replace({'RainToday':'No'}, 0)\n",
    "#df.replace({'RainTomorrow': 'No'}, 0)\n",
    "#df.loc[df.RainTomorrow == 'No', 'RainTomorrow'] = 0\n",
    "print(df.RainToday.unique())\n",
    "print(df.RainToday.dtypes)"
   ]
  },
  {
   "cell_type": "code",
   "execution_count": 15,
   "metadata": {},
   "outputs": [
    {
     "name": "stdout",
     "output_type": "stream",
     "text": [
      "<class 'pandas.core.frame.DataFrame'>\n",
      "Int64Index: 142193 entries, 0 to 145458\n",
      "Data columns (total 23 columns):\n",
      " #   Column         Non-Null Count   Dtype  \n",
      "---  ------         --------------   -----  \n",
      " 0   Date           142193 non-null  object \n",
      " 1   Location       142193 non-null  object \n",
      " 2   MinTemp        141556 non-null  float64\n",
      " 3   MaxTemp        141871 non-null  float64\n",
      " 4   Rainfall       140787 non-null  float64\n",
      " 5   Evaporation    81350 non-null   float64\n",
      " 6   Sunshine       74377 non-null   float64\n",
      " 7   WindGustDir    132863 non-null  object \n",
      " 8   WindGustSpeed  132923 non-null  float64\n",
      " 9   WindDir9am     132180 non-null  object \n",
      " 10  WindDir3pm     138415 non-null  object \n",
      " 11  WindSpeed9am   140845 non-null  float64\n",
      " 12  WindSpeed3pm   139563 non-null  float64\n",
      " 13  Humidity9am    140419 non-null  float64\n",
      " 14  Humidity3pm    138583 non-null  float64\n",
      " 15  Pressure9am    128179 non-null  float64\n",
      " 16  Pressure3pm    128212 non-null  float64\n",
      " 17  Cloud9am       88536 non-null   float64\n",
      " 18  Cloud3pm       85099 non-null   float64\n",
      " 19  Temp9am        141289 non-null  float64\n",
      " 20  Temp3pm        139467 non-null  float64\n",
      " 21  RainToday      140787 non-null  float64\n",
      " 22  RainTomorrow   142193 non-null  int64  \n",
      "dtypes: float64(17), int64(1), object(5)\n",
      "memory usage: 26.0+ MB\n"
     ]
    }
   ],
   "source": [
    "df.info()"
   ]
  },
  {
   "cell_type": "markdown",
   "metadata": {},
   "source": [
    "#### Initial observations about Target Feature: RainTomorrow\n",
    "1. There were 3267 null values in this column, and these entire rows were removed.\n",
    "2. It is not clear what the relationship is between RainToday and RainTomorrow columns. A correlation analysis can be done between these two features.\n",
    "3. RainTomorrow and RainToday were both converted into a numerical values by changing Yes to 1 and No to 0. "
   ]
  },
  {
   "cell_type": "markdown",
   "metadata": {},
   "source": [
    "## Explore the categorical features \n",
    "Location, WindGustDir, WindDir9am, WinDir3pm are categorical features"
   ]
  },
  {
   "cell_type": "code",
   "execution_count": 16,
   "metadata": {
    "scrolled": false
   },
   "outputs": [
    {
     "data": {
      "text/plain": [
       "array(['Albury', 'BadgerysCreek', 'Cobar', 'CoffsHarbour', 'Moree',\n",
       "       'Newcastle', 'NorahHead', 'NorfolkIsland', 'Penrith', 'Richmond',\n",
       "       'Sydney', 'SydneyAirport', 'WaggaWagga', 'Williamtown',\n",
       "       'Wollongong', 'Canberra', 'Tuggeranong', 'MountGinini', 'Ballarat',\n",
       "       'Bendigo', 'Sale', 'MelbourneAirport', 'Melbourne', 'Mildura',\n",
       "       'Nhil', 'Portland', 'Watsonia', 'Dartmoor', 'Brisbane', 'Cairns',\n",
       "       'GoldCoast', 'Townsville', 'Adelaide', 'MountGambier', 'Nuriootpa',\n",
       "       'Woomera', 'Albany', 'Witchcliffe', 'PearceRAAF', 'PerthAirport',\n",
       "       'Perth', 'SalmonGums', 'Walpole', 'Hobart', 'Launceston',\n",
       "       'AliceSprings', 'Darwin', 'Katherine', 'Uluru'], dtype=object)"
      ]
     },
     "execution_count": 16,
     "metadata": {},
     "output_type": "execute_result"
    }
   ],
   "source": [
    "# Identify the unique locations\n",
    "df['Location'].unique()"
   ]
  },
  {
   "cell_type": "code",
   "execution_count": 17,
   "metadata": {
    "scrolled": false
   },
   "outputs": [
    {
     "data": {
      "text/plain": [
       "49"
      ]
     },
     "execution_count": 17,
     "metadata": {},
     "output_type": "execute_result"
    }
   ],
   "source": [
    "# How many unique locations are there?\n",
    "len(df['Location'].unique())"
   ]
  },
  {
   "cell_type": "code",
   "execution_count": 18,
   "metadata": {},
   "outputs": [
    {
     "data": {
      "text/plain": [
       "0"
      ]
     },
     "execution_count": 18,
     "metadata": {},
     "output_type": "execute_result"
    }
   ],
   "source": [
    "# Are there any records with null values for Location?\n",
    "df['Location'].isnull().sum()"
   ]
  },
  {
   "cell_type": "code",
   "execution_count": 19,
   "metadata": {
    "scrolled": false
   },
   "outputs": [
    {
     "data": {
      "text/plain": [
       "<AxesSubplot:title={'center':'Number of Records for each Location'}, xlabel='Location', ylabel='Count'>"
      ]
     },
     "execution_count": 19,
     "metadata": {},
     "output_type": "execute_result"
    },
    {
     "data": {
      "image/png": "[encoded data removed]",
      "text/plain": [
       "<Figure size 864x360 with 1 Axes>"
      ]
     },
     "metadata": {
      "needs_background": "light"
     },
     "output_type": "display_data"
    }
   ],
   "source": [
    "# How many records or rows are there for each location? \n",
    "df.groupby(['Location'])['Location'].count()\n",
    "df.groupby(['Location'])['Location'].count().plot(kind='bar', figsize=[12,5], ylabel='Count', title='Number of Records for each Location')\n",
    "# Most locations have a similar number of records ~3000 while 3 locatons have about half that amount."
   ]
  },
  {
   "cell_type": "code",
   "execution_count": 20,
   "metadata": {
    "scrolled": false
   },
   "outputs": [
    {
     "data": {
      "text/plain": [
       "<AxesSubplot:title={'center':'Ratio of Rainy Days Across Locations'}, xlabel='Location', ylabel='Ratio of Days with Rain per Location'>"
      ]
     },
     "execution_count": 20,
     "metadata": {},
     "output_type": "execute_result"
    },
    {
     "data": {
      "image/png": "[encoded data removed]",
      "text/plain": [
       "<Figure size 864x360 with 1 Axes>"
      ]
     },
     "metadata": {
      "needs_background": "light"
     },
     "output_type": "display_data"
    }
   ],
   "source": [
    "# Ratio of RainTomorrow_Yes (True/False) averaged for each location\n",
    "df.groupby(['Location' ])[['RainTomorrow']].mean()\n",
    "df.groupby(['Location' ])[['RainTomorrow']].mean().plot(kind='bar', figsize=(12, 5),ylabel='Ratio of Days with Rain per Location', title='Ratio of Rainy Days Across Locations')\n",
    "# Rain varies between different locations"
   ]
  },
  {
   "cell_type": "code",
   "execution_count": 21,
   "metadata": {},
   "outputs": [
    {
     "data": {
      "text/html": [
       "<div>\n",
       "<style scoped>\n",
       "    .dataframe tbody tr th:only-of-type {\n",
       "        vertical-align: middle;\n",
       "    }\n",
       "\n",
       "    .dataframe tbody tr th {\n",
       "        vertical-align: top;\n",
       "    }\n",
       "\n",
       "    .dataframe thead th {\n",
       "        text-align: right;\n",
       "    }\n",
       "</style>\n",
       "<table border=\"1\" class=\"dataframe\">\n",
       "  <thead>\n",
       "    <tr style=\"text-align: right;\">\n",
       "      <th></th>\n",
       "      <th>RainTomorrow</th>\n",
       "    </tr>\n",
       "    <tr>\n",
       "      <th>Location</th>\n",
       "      <th></th>\n",
       "    </tr>\n",
       "  </thead>\n",
       "  <tbody>\n",
       "    <tr>\n",
       "      <th>Adelaide</th>\n",
       "      <td>0.222654</td>\n",
       "    </tr>\n",
       "    <tr>\n",
       "      <th>Albany</th>\n",
       "      <td>0.299072</td>\n",
       "    </tr>\n",
       "    <tr>\n",
       "      <th>Albury</th>\n",
       "      <td>0.205247</td>\n",
       "    </tr>\n",
       "    <tr>\n",
       "      <th>AliceSprings</th>\n",
       "      <td>0.080501</td>\n",
       "    </tr>\n",
       "    <tr>\n",
       "      <th>BadgerysCreek</th>\n",
       "      <td>0.199112</td>\n",
       "    </tr>\n",
       "    <tr>\n",
       "      <th>Ballarat</th>\n",
       "      <td>0.257926</td>\n",
       "    </tr>\n",
       "    <tr>\n",
       "      <th>Bendigo</th>\n",
       "      <td>0.185234</td>\n",
       "    </tr>\n",
       "    <tr>\n",
       "      <th>Brisbane</th>\n",
       "      <td>0.224296</td>\n",
       "    </tr>\n",
       "    <tr>\n",
       "      <th>Cairns</th>\n",
       "      <td>0.317938</td>\n",
       "    </tr>\n",
       "    <tr>\n",
       "      <th>Canberra</th>\n",
       "      <td>0.184026</td>\n",
       "    </tr>\n",
       "    <tr>\n",
       "      <th>Cobar</th>\n",
       "      <td>0.129183</td>\n",
       "    </tr>\n",
       "    <tr>\n",
       "      <th>CoffsHarbour</th>\n",
       "      <td>0.294277</td>\n",
       "    </tr>\n",
       "    <tr>\n",
       "      <th>Dartmoor</th>\n",
       "      <td>0.313286</td>\n",
       "    </tr>\n",
       "    <tr>\n",
       "      <th>Darwin</th>\n",
       "      <td>0.266917</td>\n",
       "    </tr>\n",
       "    <tr>\n",
       "      <th>GoldCoast</th>\n",
       "      <td>0.260067</td>\n",
       "    </tr>\n",
       "    <tr>\n",
       "      <th>Hobart</th>\n",
       "      <td>0.238708</td>\n",
       "    </tr>\n",
       "    <tr>\n",
       "      <th>Katherine</th>\n",
       "      <td>0.169981</td>\n",
       "    </tr>\n",
       "    <tr>\n",
       "      <th>Launceston</th>\n",
       "      <td>0.230845</td>\n",
       "    </tr>\n",
       "    <tr>\n",
       "      <th>Melbourne</th>\n",
       "      <td>0.261191</td>\n",
       "    </tr>\n",
       "    <tr>\n",
       "      <th>MelbourneAirport</th>\n",
       "      <td>0.217016</td>\n",
       "    </tr>\n",
       "    <tr>\n",
       "      <th>Mildura</th>\n",
       "      <td>0.108746</td>\n",
       "    </tr>\n",
       "    <tr>\n",
       "      <th>Moree</th>\n",
       "      <td>0.138052</td>\n",
       "    </tr>\n",
       "    <tr>\n",
       "      <th>MountGambier</th>\n",
       "      <td>0.303630</td>\n",
       "    </tr>\n",
       "    <tr>\n",
       "      <th>MountGinini</th>\n",
       "      <td>0.281734</td>\n",
       "    </tr>\n",
       "    <tr>\n",
       "      <th>Newcastle</th>\n",
       "      <td>0.247377</td>\n",
       "    </tr>\n",
       "    <tr>\n",
       "      <th>Nhil</th>\n",
       "      <td>0.154238</td>\n",
       "    </tr>\n",
       "    <tr>\n",
       "      <th>NorahHead</th>\n",
       "      <td>0.275862</td>\n",
       "    </tr>\n",
       "    <tr>\n",
       "      <th>NorfolkIsland</th>\n",
       "      <td>0.310054</td>\n",
       "    </tr>\n",
       "    <tr>\n",
       "      <th>Nuriootpa</th>\n",
       "      <td>0.197202</td>\n",
       "    </tr>\n",
       "    <tr>\n",
       "      <th>PearceRAAF</th>\n",
       "      <td>0.182839</td>\n",
       "    </tr>\n",
       "    <tr>\n",
       "      <th>Penrith</th>\n",
       "      <td>0.200742</td>\n",
       "    </tr>\n",
       "    <tr>\n",
       "      <th>Perth</th>\n",
       "      <td>0.202004</td>\n",
       "    </tr>\n",
       "    <tr>\n",
       "      <th>PerthAirport</th>\n",
       "      <td>0.188435</td>\n",
       "    </tr>\n",
       "    <tr>\n",
       "      <th>Portland</th>\n",
       "      <td>0.365487</td>\n",
       "    </tr>\n",
       "    <tr>\n",
       "      <th>Richmond</th>\n",
       "      <td>0.189766</td>\n",
       "    </tr>\n",
       "    <tr>\n",
       "      <th>Sale</th>\n",
       "      <td>0.214333</td>\n",
       "    </tr>\n",
       "    <tr>\n",
       "      <th>SalmonGums</th>\n",
       "      <td>0.159729</td>\n",
       "    </tr>\n",
       "    <tr>\n",
       "      <th>Sydney</th>\n",
       "      <td>0.259215</td>\n",
       "    </tr>\n",
       "    <tr>\n",
       "      <th>SydneyAirport</th>\n",
       "      <td>0.257571</td>\n",
       "    </tr>\n",
       "    <tr>\n",
       "      <th>Townsville</th>\n",
       "      <td>0.171118</td>\n",
       "    </tr>\n",
       "    <tr>\n",
       "      <th>Tuggeranong</th>\n",
       "      <td>0.189460</td>\n",
       "    </tr>\n",
       "    <tr>\n",
       "      <th>Uluru</th>\n",
       "      <td>0.076266</td>\n",
       "    </tr>\n",
       "    <tr>\n",
       "      <th>WaggaWagga</th>\n",
       "      <td>0.180108</td>\n",
       "    </tr>\n",
       "    <tr>\n",
       "      <th>Walpole</th>\n",
       "      <td>0.336644</td>\n",
       "    </tr>\n",
       "    <tr>\n",
       "      <th>Watsonia</th>\n",
       "      <td>0.246082</td>\n",
       "    </tr>\n",
       "    <tr>\n",
       "      <th>Williamtown</th>\n",
       "      <td>0.274187</td>\n",
       "    </tr>\n",
       "    <tr>\n",
       "      <th>Witchcliffe</th>\n",
       "      <td>0.297764</td>\n",
       "    </tr>\n",
       "    <tr>\n",
       "      <th>Wollongong</th>\n",
       "      <td>0.239021</td>\n",
       "    </tr>\n",
       "    <tr>\n",
       "      <th>Woomera</th>\n",
       "      <td>0.067559</td>\n",
       "    </tr>\n",
       "  </tbody>\n",
       "</table>\n",
       "</div>"
      ],
      "text/plain": [
       "                  RainTomorrow\n",
       "Location                      \n",
       "Adelaide              0.222654\n",
       "Albany                0.299072\n",
       "Albury                0.205247\n",
       "AliceSprings          0.080501\n",
       "BadgerysCreek         0.199112\n",
       "Ballarat              0.257926\n",
       "Bendigo               0.185234\n",
       "Brisbane              0.224296\n",
       "Cairns                0.317938\n",
       "Canberra              0.184026\n",
       "Cobar                 0.129183\n",
       "CoffsHarbour          0.294277\n",
       "Dartmoor              0.313286\n",
       "Darwin                0.266917\n",
       "GoldCoast             0.260067\n",
       "Hobart                0.238708\n",
       "Katherine             0.169981\n",
       "Launceston            0.230845\n",
       "Melbourne             0.261191\n",
       "MelbourneAirport      0.217016\n",
       "Mildura               0.108746\n",
       "Moree                 0.138052\n",
       "MountGambier          0.303630\n",
       "MountGinini           0.281734\n",
       "Newcastle             0.247377\n",
       "Nhil                  0.154238\n",
       "NorahHead             0.275862\n",
       "NorfolkIsland         0.310054\n",
       "Nuriootpa             0.197202\n",
       "PearceRAAF            0.182839\n",
       "Penrith               0.200742\n",
       "Perth                 0.202004\n",
       "PerthAirport          0.188435\n",
       "Portland              0.365487\n",
       "Richmond              0.189766\n",
       "Sale                  0.214333\n",
       "SalmonGums            0.159729\n",
       "Sydney                0.259215\n",
       "SydneyAirport         0.257571\n",
       "Townsville            0.171118\n",
       "Tuggeranong           0.189460\n",
       "Uluru                 0.076266\n",
       "WaggaWagga            0.180108\n",
       "Walpole               0.336644\n",
       "Watsonia              0.246082\n",
       "Williamtown           0.274187\n",
       "Witchcliffe           0.297764\n",
       "Wollongong            0.239021\n",
       "Woomera               0.067559"
      ]
     },
     "execution_count": 21,
     "metadata": {},
     "output_type": "execute_result"
    }
   ],
   "source": [
    "df.groupby(['Location' ])[['RainTomorrow']].mean()"
   ]
  },
  {
   "cell_type": "code",
   "execution_count": 31,
   "metadata": {},
   "outputs": [
    {
     "name": "stdout",
     "output_type": "stream",
     "text": [
      "The chi square statistic is:  3544.7901812833\n",
      "The p-value is:  0.0\n"
     ]
    },
    {
     "data": {
      "image/png": "[encoded data removed]",
      "text/plain": [
       "<Figure size 864x576 with 2 Axes>"
      ]
     },
     "metadata": {
      "needs_background": "light"
     },
     "output_type": "display_data"
    }
   ],
   "source": [
    "# Chi Square test to see if there is a statiscally significant difference in RainTomorrow between the Location\n",
    "#Make a contingency table:\n",
    "contingency= pd.crosstab(df['Location'], df['RainTomorrow'])\n",
    "#Make a heatmap to visualize the contingency\n",
    "plt.figure(figsize=(12,8))\n",
    "sns.heatmap(contingency, annot=True, cmap=\"YlGnBu\")\n",
    "# Chi-square test of independence.\n",
    "c, p, dof, expected = chi2_contingency(contingency)\n",
    "print('The chi square statistic is: ', c)\n",
    "print('The p-value is: ', p)"
   ]
  },
  {
   "cell_type": "code",
   "execution_count": 22,
   "metadata": {
    "scrolled": true
   },
   "outputs": [
    {
     "data": {
      "text/plain": [
       "<AxesSubplot:ylabel='Frequency'>"
      ]
     },
     "execution_count": 22,
     "metadata": {},
     "output_type": "execute_result"
    },
    {
     "data": {
      "image/png": "[encoded data removed]",
      "text/plain": [
       "<Figure size 432x288 with 1 Axes>"
      ]
     },
     "metadata": {
      "needs_background": "light"
     },
     "output_type": "display_data"
    }
   ],
   "source": [
    "# Distribution of mean RainTomorrow by Location\n",
    "df.groupby(['Location' ])[['RainTomorrow']].mean().plot(kind='hist', bins=20)"
   ]
  },
  {
   "cell_type": "markdown",
   "metadata": {},
   "source": [
    "#### Initial Observations about Location\n",
    "1. 3 out of 49 Unique Locations have half as many entries as the other Locations.\n",
    "2. This preliminary comparison of ratio of days with RainTomorrow grouped by Location suggests that Location will be an important feature in this model.\n",
    "3. There are no null values in the Location column."
   ]
  },
  {
   "cell_type": "markdown",
   "metadata": {},
   "source": [
    "### Other categorical features (wind gust direction, WindDir9am, WindDir3pm)\n",
    "what is the difference between these 3 categories? Does 9am vs 3pm make a difference on RainTomorrow?"
   ]
  },
  {
   "cell_type": "code",
   "execution_count": 23,
   "metadata": {
    "scrolled": true
   },
   "outputs": [
    {
     "name": "stdout",
     "output_type": "stream",
     "text": [
      "['W' 'WNW' 'WSW' 'NE' 'NNW' 'N' 'NNE' 'SW' 'ENE' 'SSE' 'S' 'NW' 'SE' 'ESE'\n",
      " nan 'E' 'SSW']\n"
     ]
    },
    {
     "data": {
      "text/plain": [
       "17"
      ]
     },
     "execution_count": 23,
     "metadata": {},
     "output_type": "execute_result"
    }
   ],
   "source": [
    "print(df['WindGustDir'].unique())\n",
    "len(df['WindGustDir'].unique())"
   ]
  },
  {
   "cell_type": "code",
   "execution_count": 24,
   "metadata": {
    "scrolled": false
   },
   "outputs": [
    {
     "data": {
      "text/plain": [
       "<AxesSubplot:title={'center':'Ratio of Days with Rain by Wind Gust Direction'}, xlabel='WindGustDir', ylabel='Ratio of Rainy Days'>"
      ]
     },
     "execution_count": 24,
     "metadata": {},
     "output_type": "execute_result"
    },
    {
     "data": {
      "image/png": "[encoded data removed]",
      "text/plain": [
       "<Figure size 432x288 with 1 Axes>"
      ]
     },
     "metadata": {
      "needs_background": "light"
     },
     "output_type": "display_data"
    }
   ],
   "source": [
    "# Ratio of RainTomorrow averaged for each wind direction\n",
    "df.groupby(['WindGustDir'])[['RainTomorrow']].mean()\n",
    "df.groupby(['WindGustDir'])[['RainTomorrow']].mean().plot(kind='bar', figsize=(6,4), \n",
    "               title='Ratio of Days with Rain by Wind Gust Direction', ylabel='Ratio of Rainy Days')"
   ]
  },
  {
   "cell_type": "markdown",
   "metadata": {},
   "source": [
    "#### Hypothesis Test 1:\n",
    "Null Hypothesis: There is no association between 'WindGustDir' and RainTomorrow.  \n",
    "Alternative Hypothesis: There is an association between 'WindGustDir' and RainTomorrow."
   ]
  },
  {
   "cell_type": "code",
   "execution_count": 25,
   "metadata": {
    "scrolled": true
   },
   "outputs": [
    {
     "data": {
      "text/html": [
       "<div>\n",
       "<style scoped>\n",
       "    .dataframe tbody tr th:only-of-type {\n",
       "        vertical-align: middle;\n",
       "    }\n",
       "\n",
       "    .dataframe tbody tr th {\n",
       "        vertical-align: top;\n",
       "    }\n",
       "\n",
       "    .dataframe thead th {\n",
       "        text-align: right;\n",
       "    }\n",
       "</style>\n",
       "<table border=\"1\" class=\"dataframe\">\n",
       "  <thead>\n",
       "    <tr style=\"text-align: right;\">\n",
       "      <th>RainTomorrow</th>\n",
       "      <th>0</th>\n",
       "      <th>1</th>\n",
       "    </tr>\n",
       "    <tr>\n",
       "      <th>WindGustDir</th>\n",
       "      <th></th>\n",
       "      <th></th>\n",
       "    </tr>\n",
       "  </thead>\n",
       "  <tbody>\n",
       "    <tr>\n",
       "      <th>E</th>\n",
       "      <td>7721</td>\n",
       "      <td>1350</td>\n",
       "    </tr>\n",
       "    <tr>\n",
       "      <th>ENE</th>\n",
       "      <td>6704</td>\n",
       "      <td>1288</td>\n",
       "    </tr>\n",
       "    <tr>\n",
       "      <th>ESE</th>\n",
       "      <td>6105</td>\n",
       "      <td>1200</td>\n",
       "    </tr>\n",
       "    <tr>\n",
       "      <th>N</th>\n",
       "      <td>6581</td>\n",
       "      <td>2452</td>\n",
       "    </tr>\n",
       "    <tr>\n",
       "      <th>NE</th>\n",
       "      <td>5741</td>\n",
       "      <td>1319</td>\n",
       "    </tr>\n",
       "    <tr>\n",
       "      <th>NNE</th>\n",
       "      <td>4952</td>\n",
       "      <td>1481</td>\n",
       "    </tr>\n",
       "    <tr>\n",
       "      <th>NNW</th>\n",
       "      <td>4698</td>\n",
       "      <td>1863</td>\n",
       "    </tr>\n",
       "    <tr>\n",
       "      <th>NW</th>\n",
       "      <td>5719</td>\n",
       "      <td>2284</td>\n",
       "    </tr>\n",
       "    <tr>\n",
       "      <th>S</th>\n",
       "      <td>6932</td>\n",
       "      <td>2017</td>\n",
       "    </tr>\n",
       "    <tr>\n",
       "      <th>SE</th>\n",
       "      <td>7576</td>\n",
       "      <td>1733</td>\n",
       "    </tr>\n",
       "    <tr>\n",
       "      <th>SSE</th>\n",
       "      <td>7238</td>\n",
       "      <td>1755</td>\n",
       "    </tr>\n",
       "    <tr>\n",
       "      <th>SSW</th>\n",
       "      <td>6713</td>\n",
       "      <td>1897</td>\n",
       "    </tr>\n",
       "    <tr>\n",
       "      <th>SW</th>\n",
       "      <td>6993</td>\n",
       "      <td>1804</td>\n",
       "    </tr>\n",
       "    <tr>\n",
       "      <th>W</th>\n",
       "      <td>7173</td>\n",
       "      <td>2607</td>\n",
       "    </tr>\n",
       "    <tr>\n",
       "      <th>WNW</th>\n",
       "      <td>5791</td>\n",
       "      <td>2275</td>\n",
       "    </tr>\n",
       "    <tr>\n",
       "      <th>WSW</th>\n",
       "      <td>6816</td>\n",
       "      <td>2085</td>\n",
       "    </tr>\n",
       "  </tbody>\n",
       "</table>\n",
       "</div>"
      ],
      "text/plain": [
       "RainTomorrow     0     1\n",
       "WindGustDir             \n",
       "E             7721  1350\n",
       "ENE           6704  1288\n",
       "ESE           6105  1200\n",
       "N             6581  2452\n",
       "NE            5741  1319\n",
       "NNE           4952  1481\n",
       "NNW           4698  1863\n",
       "NW            5719  2284\n",
       "S             6932  2017\n",
       "SE            7576  1733\n",
       "SSE           7238  1755\n",
       "SSW           6713  1897\n",
       "SW            6993  1804\n",
       "W             7173  2607\n",
       "WNW           5791  2275\n",
       "WSW           6816  2085"
      ]
     },
     "execution_count": 25,
     "metadata": {},
     "output_type": "execute_result"
    }
   ],
   "source": [
    "# Chi Square test to see if there is a statiscally significant difference in RainTomorrow between the WindGustDir\n",
    "#Make a contingency table:\n",
    "contingency= pd.crosstab(df['WindGustDir'], df['RainTomorrow'])\n",
    "contingency"
   ]
  },
  {
   "cell_type": "code",
   "execution_count": 26,
   "metadata": {
    "scrolled": true
   },
   "outputs": [
    {
     "data": {
      "text/plain": [
       "<AxesSubplot:xlabel='RainTomorrow', ylabel='WindGustDir'>"
      ]
     },
     "execution_count": 26,
     "metadata": {},
     "output_type": "execute_result"
    },
    {
     "data": {
      "image/png": "[encoded data removed]",
      "text/plain": [
       "<Figure size 864x576 with 2 Axes>"
      ]
     },
     "metadata": {
      "needs_background": "light"
     },
     "output_type": "display_data"
    }
   ],
   "source": [
    "#Make a heatmap to visualize the contingency\n",
    "plt.figure(figsize=(12,8))\n",
    "sns.heatmap(contingency, annot=True, cmap=\"YlGnBu\")"
   ]
  },
  {
   "cell_type": "code",
   "execution_count": 27,
   "metadata": {
    "scrolled": false
   },
   "outputs": [
    {
     "name": "stdout",
     "output_type": "stream",
     "text": [
      "The chi square statistic is:  1519.9012419828084\n",
      "The p-value is:  0.0\n"
     ]
    }
   ],
   "source": [
    "# Chi-square test of independence.\n",
    "c, p, dof, expected = chi2_contingency(contingency)\n",
    "print('The chi square statistic is: ', c)\n",
    "print('The p-value is: ', p)"
   ]
  },
  {
   "cell_type": "code",
   "execution_count": null,
   "metadata": {},
   "outputs": [],
   "source": []
  },
  {
   "cell_type": "markdown",
   "metadata": {},
   "source": [
    "#### P value is 0.  We reject the null hypothesis. 'WindGustDir' is associated with 'RainTomorrow'"
   ]
  },
  {
   "cell_type": "code",
   "execution_count": 28,
   "metadata": {},
   "outputs": [
    {
     "name": "stdout",
     "output_type": "stream",
     "text": [
      "The chi square statistic is:  2214.8468820751004\n",
      "The p-value is:  0.0\n"
     ]
    }
   ],
   "source": [
    "# Chi square test for other Wind Direction columns: WindDir9am\n",
    "contingency= pd.crosstab(df['WindDir9am'], df['RainTomorrow'])\n",
    "# Chi-square test of independence.\n",
    "c, p, dof, expected = chi2_contingency(contingency)\n",
    "print('The chi square statistic is: ', c)\n",
    "print('The p-value is: ', p)"
   ]
  },
  {
   "cell_type": "code",
   "execution_count": 29,
   "metadata": {
    "scrolled": true
   },
   "outputs": [
    {
     "name": "stdout",
     "output_type": "stream",
     "text": [
      "The chi square statistic is:  1281.2667035163702\n",
      "The p-value is:  5.645749267196633e-264\n"
     ]
    }
   ],
   "source": [
    "# Chi square test for other Wind Direction columns: WindDir3pm\n",
    "contingency= pd.crosstab(df['WindDir3pm'], df['RainTomorrow'])\n",
    "# Chi-square test of independence.\n",
    "c, p, dof, expected = chi2_contingency(contingency)\n",
    "print('The chi square statistic is: ', c)\n",
    "print('The p-value is: ', p)"
   ]
  },
  {
   "cell_type": "markdown",
   "metadata": {},
   "source": [
    "#### Initial Observations of Wind Direction data\n",
    "1. The values are different for WindGustDir and also for the 9am and 3pm columns.\n",
    "2. Wind direction is categorical data, and chi square test shows this is associated with RainTomorrow.\n",
    "3. All 3 'Wind Direction' columns are statistically significant. Since it may be redundant to have all 3 columns, the 9am and 3pm columns will be removed, leaving the \"WindGustDir\" column since it is the direction of the strongest wind gust measured for that day. \n"
   ]
  },
  {
   "cell_type": "markdown",
   "metadata": {},
   "source": [
    "## Numerical Features"
   ]
  },
  {
   "cell_type": "code",
   "execution_count": 31,
   "metadata": {
    "scrolled": true
   },
   "outputs": [
    {
     "data": {
      "text/html": [
       "<div>\n",
       "<style scoped>\n",
       "    .dataframe tbody tr th:only-of-type {\n",
       "        vertical-align: middle;\n",
       "    }\n",
       "\n",
       "    .dataframe tbody tr th {\n",
       "        vertical-align: top;\n",
       "    }\n",
       "\n",
       "    .dataframe thead th {\n",
       "        text-align: right;\n",
       "    }\n",
       "</style>\n",
       "<table border=\"1\" class=\"dataframe\">\n",
       "  <thead>\n",
       "    <tr style=\"text-align: right;\">\n",
       "      <th></th>\n",
       "      <th>count</th>\n",
       "      <th>mean</th>\n",
       "      <th>std</th>\n",
       "      <th>min</th>\n",
       "      <th>25%</th>\n",
       "      <th>50%</th>\n",
       "      <th>75%</th>\n",
       "      <th>max</th>\n",
       "    </tr>\n",
       "  </thead>\n",
       "  <tbody>\n",
       "    <tr>\n",
       "      <th>MinTemp</th>\n",
       "      <td>141556.0</td>\n",
       "      <td>12.186400</td>\n",
       "      <td>6.403283</td>\n",
       "      <td>-8.5</td>\n",
       "      <td>7.6</td>\n",
       "      <td>12.0</td>\n",
       "      <td>16.8</td>\n",
       "      <td>33.9</td>\n",
       "    </tr>\n",
       "    <tr>\n",
       "      <th>MaxTemp</th>\n",
       "      <td>141871.0</td>\n",
       "      <td>23.226784</td>\n",
       "      <td>7.117618</td>\n",
       "      <td>-4.8</td>\n",
       "      <td>17.9</td>\n",
       "      <td>22.6</td>\n",
       "      <td>28.2</td>\n",
       "      <td>48.1</td>\n",
       "    </tr>\n",
       "    <tr>\n",
       "      <th>Rainfall</th>\n",
       "      <td>140787.0</td>\n",
       "      <td>2.349974</td>\n",
       "      <td>8.465173</td>\n",
       "      <td>0.0</td>\n",
       "      <td>0.0</td>\n",
       "      <td>0.0</td>\n",
       "      <td>0.8</td>\n",
       "      <td>371.0</td>\n",
       "    </tr>\n",
       "    <tr>\n",
       "      <th>Evaporation</th>\n",
       "      <td>81350.0</td>\n",
       "      <td>5.469824</td>\n",
       "      <td>4.188537</td>\n",
       "      <td>0.0</td>\n",
       "      <td>2.6</td>\n",
       "      <td>4.8</td>\n",
       "      <td>7.4</td>\n",
       "      <td>145.0</td>\n",
       "    </tr>\n",
       "    <tr>\n",
       "      <th>Sunshine</th>\n",
       "      <td>74377.0</td>\n",
       "      <td>7.624853</td>\n",
       "      <td>3.781525</td>\n",
       "      <td>0.0</td>\n",
       "      <td>4.9</td>\n",
       "      <td>8.5</td>\n",
       "      <td>10.6</td>\n",
       "      <td>14.5</td>\n",
       "    </tr>\n",
       "    <tr>\n",
       "      <th>WindGustSpeed</th>\n",
       "      <td>132923.0</td>\n",
       "      <td>39.984292</td>\n",
       "      <td>13.588801</td>\n",
       "      <td>6.0</td>\n",
       "      <td>31.0</td>\n",
       "      <td>39.0</td>\n",
       "      <td>48.0</td>\n",
       "      <td>135.0</td>\n",
       "    </tr>\n",
       "    <tr>\n",
       "      <th>WindSpeed9am</th>\n",
       "      <td>140845.0</td>\n",
       "      <td>14.001988</td>\n",
       "      <td>8.893337</td>\n",
       "      <td>0.0</td>\n",
       "      <td>7.0</td>\n",
       "      <td>13.0</td>\n",
       "      <td>19.0</td>\n",
       "      <td>130.0</td>\n",
       "    </tr>\n",
       "    <tr>\n",
       "      <th>WindSpeed3pm</th>\n",
       "      <td>139563.0</td>\n",
       "      <td>18.637576</td>\n",
       "      <td>8.803345</td>\n",
       "      <td>0.0</td>\n",
       "      <td>13.0</td>\n",
       "      <td>19.0</td>\n",
       "      <td>24.0</td>\n",
       "      <td>87.0</td>\n",
       "    </tr>\n",
       "    <tr>\n",
       "      <th>Humidity9am</th>\n",
       "      <td>140419.0</td>\n",
       "      <td>68.843810</td>\n",
       "      <td>19.051293</td>\n",
       "      <td>0.0</td>\n",
       "      <td>57.0</td>\n",
       "      <td>70.0</td>\n",
       "      <td>83.0</td>\n",
       "      <td>100.0</td>\n",
       "    </tr>\n",
       "    <tr>\n",
       "      <th>Humidity3pm</th>\n",
       "      <td>138583.0</td>\n",
       "      <td>51.482606</td>\n",
       "      <td>20.797772</td>\n",
       "      <td>0.0</td>\n",
       "      <td>37.0</td>\n",
       "      <td>52.0</td>\n",
       "      <td>66.0</td>\n",
       "      <td>100.0</td>\n",
       "    </tr>\n",
       "    <tr>\n",
       "      <th>Pressure9am</th>\n",
       "      <td>128179.0</td>\n",
       "      <td>1017.653758</td>\n",
       "      <td>7.105476</td>\n",
       "      <td>980.5</td>\n",
       "      <td>1012.9</td>\n",
       "      <td>1017.6</td>\n",
       "      <td>1022.4</td>\n",
       "      <td>1041.0</td>\n",
       "    </tr>\n",
       "    <tr>\n",
       "      <th>Pressure3pm</th>\n",
       "      <td>128212.0</td>\n",
       "      <td>1015.258204</td>\n",
       "      <td>7.036677</td>\n",
       "      <td>977.1</td>\n",
       "      <td>1010.4</td>\n",
       "      <td>1015.2</td>\n",
       "      <td>1020.0</td>\n",
       "      <td>1039.6</td>\n",
       "    </tr>\n",
       "    <tr>\n",
       "      <th>Cloud9am</th>\n",
       "      <td>88536.0</td>\n",
       "      <td>4.437189</td>\n",
       "      <td>2.887016</td>\n",
       "      <td>0.0</td>\n",
       "      <td>1.0</td>\n",
       "      <td>5.0</td>\n",
       "      <td>7.0</td>\n",
       "      <td>9.0</td>\n",
       "    </tr>\n",
       "    <tr>\n",
       "      <th>Cloud3pm</th>\n",
       "      <td>85099.0</td>\n",
       "      <td>4.503167</td>\n",
       "      <td>2.720633</td>\n",
       "      <td>0.0</td>\n",
       "      <td>2.0</td>\n",
       "      <td>5.0</td>\n",
       "      <td>7.0</td>\n",
       "      <td>9.0</td>\n",
       "    </tr>\n",
       "    <tr>\n",
       "      <th>Temp9am</th>\n",
       "      <td>141289.0</td>\n",
       "      <td>16.987509</td>\n",
       "      <td>6.492838</td>\n",
       "      <td>-7.2</td>\n",
       "      <td>12.3</td>\n",
       "      <td>16.7</td>\n",
       "      <td>21.6</td>\n",
       "      <td>40.2</td>\n",
       "    </tr>\n",
       "    <tr>\n",
       "      <th>Temp3pm</th>\n",
       "      <td>139467.0</td>\n",
       "      <td>21.687235</td>\n",
       "      <td>6.937594</td>\n",
       "      <td>-5.4</td>\n",
       "      <td>16.6</td>\n",
       "      <td>21.1</td>\n",
       "      <td>26.4</td>\n",
       "      <td>46.7</td>\n",
       "    </tr>\n",
       "    <tr>\n",
       "      <th>RainToday</th>\n",
       "      <td>140787.0</td>\n",
       "      <td>0.223423</td>\n",
       "      <td>0.416541</td>\n",
       "      <td>0.0</td>\n",
       "      <td>0.0</td>\n",
       "      <td>0.0</td>\n",
       "      <td>0.0</td>\n",
       "      <td>1.0</td>\n",
       "    </tr>\n",
       "    <tr>\n",
       "      <th>RainTomorrow</th>\n",
       "      <td>142193.0</td>\n",
       "      <td>0.224181</td>\n",
       "      <td>0.417043</td>\n",
       "      <td>0.0</td>\n",
       "      <td>0.0</td>\n",
       "      <td>0.0</td>\n",
       "      <td>0.0</td>\n",
       "      <td>1.0</td>\n",
       "    </tr>\n",
       "  </tbody>\n",
       "</table>\n",
       "</div>"
      ],
      "text/plain": [
       "                  count         mean        std    min     25%     50%  \\\n",
       "MinTemp        141556.0    12.186400   6.403283   -8.5     7.6    12.0   \n",
       "MaxTemp        141871.0    23.226784   7.117618   -4.8    17.9    22.6   \n",
       "Rainfall       140787.0     2.349974   8.465173    0.0     0.0     0.0   \n",
       "Evaporation     81350.0     5.469824   4.188537    0.0     2.6     4.8   \n",
       "Sunshine        74377.0     7.624853   3.781525    0.0     4.9     8.5   \n",
       "WindGustSpeed  132923.0    39.984292  13.588801    6.0    31.0    39.0   \n",
       "WindSpeed9am   140845.0    14.001988   8.893337    0.0     7.0    13.0   \n",
       "WindSpeed3pm   139563.0    18.637576   8.803345    0.0    13.0    19.0   \n",
       "Humidity9am    140419.0    68.843810  19.051293    0.0    57.0    70.0   \n",
       "Humidity3pm    138583.0    51.482606  20.797772    0.0    37.0    52.0   \n",
       "Pressure9am    128179.0  1017.653758   7.105476  980.5  1012.9  1017.6   \n",
       "Pressure3pm    128212.0  1015.258204   7.036677  977.1  1010.4  1015.2   \n",
       "Cloud9am        88536.0     4.437189   2.887016    0.0     1.0     5.0   \n",
       "Cloud3pm        85099.0     4.503167   2.720633    0.0     2.0     5.0   \n",
       "Temp9am        141289.0    16.987509   6.492838   -7.2    12.3    16.7   \n",
       "Temp3pm        139467.0    21.687235   6.937594   -5.4    16.6    21.1   \n",
       "RainToday      140787.0     0.223423   0.416541    0.0     0.0     0.0   \n",
       "RainTomorrow   142193.0     0.224181   0.417043    0.0     0.0     0.0   \n",
       "\n",
       "                  75%     max  \n",
       "MinTemp          16.8    33.9  \n",
       "MaxTemp          28.2    48.1  \n",
       "Rainfall          0.8   371.0  \n",
       "Evaporation       7.4   145.0  \n",
       "Sunshine         10.6    14.5  \n",
       "WindGustSpeed    48.0   135.0  \n",
       "WindSpeed9am     19.0   130.0  \n",
       "WindSpeed3pm     24.0    87.0  \n",
       "Humidity9am      83.0   100.0  \n",
       "Humidity3pm      66.0   100.0  \n",
       "Pressure9am    1022.4  1041.0  \n",
       "Pressure3pm    1020.0  1039.6  \n",
       "Cloud9am          7.0     9.0  \n",
       "Cloud3pm          7.0     9.0  \n",
       "Temp9am          21.6    40.2  \n",
       "Temp3pm          26.4    46.7  \n",
       "RainToday         0.0     1.0  \n",
       "RainTomorrow      0.0     1.0  "
      ]
     },
     "execution_count": 31,
     "metadata": {},
     "output_type": "execute_result"
    }
   ],
   "source": [
    "#look at distribution and relationship of some numerical features to RainTomorrow\n",
    "df.describe().T"
   ]
  },
  {
   "cell_type": "code",
   "execution_count": 32,
   "metadata": {
    "scrolled": true
   },
   "outputs": [
    {
     "name": "stdout",
     "output_type": "stream",
     "text": [
      "<class 'pandas.core.frame.DataFrame'>\n",
      "Int64Index: 67816 entries, 0 to 145458\n",
      "Data columns (total 23 columns):\n",
      " #   Column         Non-Null Count  Dtype  \n",
      "---  ------         --------------  -----  \n",
      " 0   Date           67816 non-null  object \n",
      " 1   Location       67816 non-null  object \n",
      " 2   MinTemp        67276 non-null  float64\n",
      " 3   MaxTemp        67541 non-null  float64\n",
      " 4   Rainfall       66805 non-null  float64\n",
      " 5   Evaporation    10932 non-null  float64\n",
      " 6   Sunshine       0 non-null      float64\n",
      " 7   WindGustDir    62863 non-null  object \n",
      " 8   WindGustSpeed  62900 non-null  float64\n",
      " 9   WindDir9am     60480 non-null  object \n",
      " 10  WindDir3pm     64718 non-null  object \n",
      " 11  WindSpeed9am   66639 non-null  float64\n",
      " 12  WindSpeed3pm   65577 non-null  float64\n",
      " 13  Humidity9am    66442 non-null  float64\n",
      " 14  Humidity3pm    64781 non-null  float64\n",
      " 15  Pressure9am    53935 non-null  float64\n",
      " 16  Pressure3pm    53973 non-null  float64\n",
      " 17  Cloud9am       22057 non-null  float64\n",
      " 18  Cloud3pm       20206 non-null  float64\n",
      " 19  Temp9am        67041 non-null  float64\n",
      " 20  Temp3pm        65417 non-null  float64\n",
      " 21  RainToday      66805 non-null  float64\n",
      " 22  RainTomorrow   67816 non-null  int64  \n",
      "dtypes: float64(17), int64(1), object(5)\n",
      "memory usage: 12.4+ MB\n"
     ]
    }
   ],
   "source": [
    "# Because Sunshine column is missing half of its values, we are evaluating the \n",
    "# portion of the dataset that has missing data to see if we notice any patterns.\n",
    "df[df['Sunshine'].isnull()].info()"
   ]
  },
  {
   "cell_type": "code",
   "execution_count": 33,
   "metadata": {},
   "outputs": [
    {
     "data": {
      "text/plain": [
       "0    2008-12-01\n",
       "1    2008-12-02\n",
       "2    2008-12-03\n",
       "3    2008-12-04\n",
       "4    2008-12-05\n",
       "Name: Date, dtype: object"
      ]
     },
     "execution_count": 33,
     "metadata": {},
     "output_type": "execute_result"
    }
   ],
   "source": [
    "# examining the date column, finding the datatype:\n",
    "df['Date'].head()"
   ]
  },
  {
   "cell_type": "code",
   "execution_count": 34,
   "metadata": {
    "scrolled": true
   },
   "outputs": [
    {
     "data": {
      "text/html": [
       "<div>\n",
       "<style scoped>\n",
       "    .dataframe tbody tr th:only-of-type {\n",
       "        vertical-align: middle;\n",
       "    }\n",
       "\n",
       "    .dataframe tbody tr th {\n",
       "        vertical-align: top;\n",
       "    }\n",
       "\n",
       "    .dataframe thead th {\n",
       "        text-align: right;\n",
       "    }\n",
       "</style>\n",
       "<table border=\"1\" class=\"dataframe\">\n",
       "  <thead>\n",
       "    <tr style=\"text-align: right;\">\n",
       "      <th></th>\n",
       "      <th>Date</th>\n",
       "      <th>Location</th>\n",
       "      <th>MinTemp</th>\n",
       "      <th>MaxTemp</th>\n",
       "      <th>Rainfall</th>\n",
       "      <th>Evaporation</th>\n",
       "      <th>Sunshine</th>\n",
       "      <th>WindGustDir</th>\n",
       "      <th>WindGustSpeed</th>\n",
       "      <th>WindDir9am</th>\n",
       "      <th>...</th>\n",
       "      <th>Pressure9am</th>\n",
       "      <th>Pressure3pm</th>\n",
       "      <th>Cloud9am</th>\n",
       "      <th>Cloud3pm</th>\n",
       "      <th>Temp9am</th>\n",
       "      <th>Temp3pm</th>\n",
       "      <th>RainToday</th>\n",
       "      <th>RainTomorrow</th>\n",
       "      <th>Month</th>\n",
       "      <th>Year</th>\n",
       "    </tr>\n",
       "  </thead>\n",
       "  <tbody>\n",
       "    <tr>\n",
       "      <th>0</th>\n",
       "      <td>2008-12-01</td>\n",
       "      <td>Albury</td>\n",
       "      <td>13.4</td>\n",
       "      <td>22.9</td>\n",
       "      <td>0.6</td>\n",
       "      <td>NaN</td>\n",
       "      <td>NaN</td>\n",
       "      <td>W</td>\n",
       "      <td>44.0</td>\n",
       "      <td>W</td>\n",
       "      <td>...</td>\n",
       "      <td>1007.7</td>\n",
       "      <td>1007.1</td>\n",
       "      <td>8.0</td>\n",
       "      <td>NaN</td>\n",
       "      <td>16.9</td>\n",
       "      <td>21.8</td>\n",
       "      <td>0.0</td>\n",
       "      <td>0</td>\n",
       "      <td>12</td>\n",
       "      <td>2008</td>\n",
       "    </tr>\n",
       "    <tr>\n",
       "      <th>1</th>\n",
       "      <td>2008-12-02</td>\n",
       "      <td>Albury</td>\n",
       "      <td>7.4</td>\n",
       "      <td>25.1</td>\n",
       "      <td>0.0</td>\n",
       "      <td>NaN</td>\n",
       "      <td>NaN</td>\n",
       "      <td>WNW</td>\n",
       "      <td>44.0</td>\n",
       "      <td>NNW</td>\n",
       "      <td>...</td>\n",
       "      <td>1010.6</td>\n",
       "      <td>1007.8</td>\n",
       "      <td>NaN</td>\n",
       "      <td>NaN</td>\n",
       "      <td>17.2</td>\n",
       "      <td>24.3</td>\n",
       "      <td>0.0</td>\n",
       "      <td>0</td>\n",
       "      <td>12</td>\n",
       "      <td>2008</td>\n",
       "    </tr>\n",
       "    <tr>\n",
       "      <th>2</th>\n",
       "      <td>2008-12-03</td>\n",
       "      <td>Albury</td>\n",
       "      <td>12.9</td>\n",
       "      <td>25.7</td>\n",
       "      <td>0.0</td>\n",
       "      <td>NaN</td>\n",
       "      <td>NaN</td>\n",
       "      <td>WSW</td>\n",
       "      <td>46.0</td>\n",
       "      <td>W</td>\n",
       "      <td>...</td>\n",
       "      <td>1007.6</td>\n",
       "      <td>1008.7</td>\n",
       "      <td>NaN</td>\n",
       "      <td>2.0</td>\n",
       "      <td>21.0</td>\n",
       "      <td>23.2</td>\n",
       "      <td>0.0</td>\n",
       "      <td>0</td>\n",
       "      <td>12</td>\n",
       "      <td>2008</td>\n",
       "    </tr>\n",
       "    <tr>\n",
       "      <th>3</th>\n",
       "      <td>2008-12-04</td>\n",
       "      <td>Albury</td>\n",
       "      <td>9.2</td>\n",
       "      <td>28.0</td>\n",
       "      <td>0.0</td>\n",
       "      <td>NaN</td>\n",
       "      <td>NaN</td>\n",
       "      <td>NE</td>\n",
       "      <td>24.0</td>\n",
       "      <td>SE</td>\n",
       "      <td>...</td>\n",
       "      <td>1017.6</td>\n",
       "      <td>1012.8</td>\n",
       "      <td>NaN</td>\n",
       "      <td>NaN</td>\n",
       "      <td>18.1</td>\n",
       "      <td>26.5</td>\n",
       "      <td>0.0</td>\n",
       "      <td>0</td>\n",
       "      <td>12</td>\n",
       "      <td>2008</td>\n",
       "    </tr>\n",
       "    <tr>\n",
       "      <th>4</th>\n",
       "      <td>2008-12-05</td>\n",
       "      <td>Albury</td>\n",
       "      <td>17.5</td>\n",
       "      <td>32.3</td>\n",
       "      <td>1.0</td>\n",
       "      <td>NaN</td>\n",
       "      <td>NaN</td>\n",
       "      <td>W</td>\n",
       "      <td>41.0</td>\n",
       "      <td>ENE</td>\n",
       "      <td>...</td>\n",
       "      <td>1010.8</td>\n",
       "      <td>1006.0</td>\n",
       "      <td>7.0</td>\n",
       "      <td>8.0</td>\n",
       "      <td>17.8</td>\n",
       "      <td>29.7</td>\n",
       "      <td>0.0</td>\n",
       "      <td>0</td>\n",
       "      <td>12</td>\n",
       "      <td>2008</td>\n",
       "    </tr>\n",
       "  </tbody>\n",
       "</table>\n",
       "<p>5 rows × 25 columns</p>\n",
       "</div>"
      ],
      "text/plain": [
       "         Date Location  MinTemp  MaxTemp  Rainfall  Evaporation  Sunshine  \\\n",
       "0  2008-12-01   Albury     13.4     22.9       0.6          NaN       NaN   \n",
       "1  2008-12-02   Albury      7.4     25.1       0.0          NaN       NaN   \n",
       "2  2008-12-03   Albury     12.9     25.7       0.0          NaN       NaN   \n",
       "3  2008-12-04   Albury      9.2     28.0       0.0          NaN       NaN   \n",
       "4  2008-12-05   Albury     17.5     32.3       1.0          NaN       NaN   \n",
       "\n",
       "  WindGustDir  WindGustSpeed WindDir9am  ... Pressure9am  Pressure3pm  \\\n",
       "0           W           44.0          W  ...      1007.7       1007.1   \n",
       "1         WNW           44.0        NNW  ...      1010.6       1007.8   \n",
       "2         WSW           46.0          W  ...      1007.6       1008.7   \n",
       "3          NE           24.0         SE  ...      1017.6       1012.8   \n",
       "4           W           41.0        ENE  ...      1010.8       1006.0   \n",
       "\n",
       "   Cloud9am  Cloud3pm  Temp9am  Temp3pm  RainToday  RainTomorrow  Month  Year  \n",
       "0       8.0       NaN     16.9     21.8        0.0             0     12  2008  \n",
       "1       NaN       NaN     17.2     24.3        0.0             0     12  2008  \n",
       "2       NaN       2.0     21.0     23.2        0.0             0     12  2008  \n",
       "3       NaN       NaN     18.1     26.5        0.0             0     12  2008  \n",
       "4       7.0       8.0     17.8     29.7        0.0             0     12  2008  \n",
       "\n",
       "[5 rows x 25 columns]"
      ]
     },
     "execution_count": 34,
     "metadata": {},
     "output_type": "execute_result"
    }
   ],
   "source": [
    "# create a month and year column and extract the month and year from the datetime object.\n",
    "# The date column can be dropped later.\n",
    "pd.to_datetime(df['Date']).dt.month\n",
    "\n",
    "df['Month'] = pd.to_datetime(df['Date']).dt.month\n",
    "df['Year'] = pd.to_datetime(df['Date']).dt.year\n",
    "df.head()"
   ]
  },
  {
   "cell_type": "code",
   "execution_count": 35,
   "metadata": {
    "scrolled": true
   },
   "outputs": [
    {
     "data": {
      "text/html": [
       "<div>\n",
       "<style scoped>\n",
       "    .dataframe tbody tr th:only-of-type {\n",
       "        vertical-align: middle;\n",
       "    }\n",
       "\n",
       "    .dataframe tbody tr th {\n",
       "        vertical-align: top;\n",
       "    }\n",
       "\n",
       "    .dataframe thead th {\n",
       "        text-align: right;\n",
       "    }\n",
       "</style>\n",
       "<table border=\"1\" class=\"dataframe\">\n",
       "  <thead>\n",
       "    <tr style=\"text-align: right;\">\n",
       "      <th></th>\n",
       "      <th>Sunshine</th>\n",
       "      <th>Month</th>\n",
       "    </tr>\n",
       "  </thead>\n",
       "  <tbody>\n",
       "    <tr>\n",
       "      <th>30176</th>\n",
       "      <td>0.0</td>\n",
       "      <td>2</td>\n",
       "    </tr>\n",
       "    <tr>\n",
       "      <th>30177</th>\n",
       "      <td>2.7</td>\n",
       "      <td>2</td>\n",
       "    </tr>\n",
       "    <tr>\n",
       "      <th>30178</th>\n",
       "      <td>0.1</td>\n",
       "      <td>2</td>\n",
       "    </tr>\n",
       "    <tr>\n",
       "      <th>30179</th>\n",
       "      <td>0.0</td>\n",
       "      <td>2</td>\n",
       "    </tr>\n",
       "    <tr>\n",
       "      <th>30180</th>\n",
       "      <td>0.0</td>\n",
       "      <td>2</td>\n",
       "    </tr>\n",
       "    <tr>\n",
       "      <th>...</th>\n",
       "      <td>...</td>\n",
       "      <td>...</td>\n",
       "    </tr>\n",
       "    <tr>\n",
       "      <th>33515</th>\n",
       "      <td>7.8</td>\n",
       "      <td>6</td>\n",
       "    </tr>\n",
       "    <tr>\n",
       "      <th>33516</th>\n",
       "      <td>9.2</td>\n",
       "      <td>6</td>\n",
       "    </tr>\n",
       "    <tr>\n",
       "      <th>33517</th>\n",
       "      <td>2.7</td>\n",
       "      <td>6</td>\n",
       "    </tr>\n",
       "    <tr>\n",
       "      <th>33518</th>\n",
       "      <td>9.3</td>\n",
       "      <td>6</td>\n",
       "    </tr>\n",
       "    <tr>\n",
       "      <th>33519</th>\n",
       "      <td>9.4</td>\n",
       "      <td>6</td>\n",
       "    </tr>\n",
       "  </tbody>\n",
       "</table>\n",
       "<p>3337 rows × 2 columns</p>\n",
       "</div>"
      ],
      "text/plain": [
       "       Sunshine  Month\n",
       "30176       0.0      2\n",
       "30177       2.7      2\n",
       "30178       0.1      2\n",
       "30179       0.0      2\n",
       "30180       0.0      2\n",
       "...         ...    ...\n",
       "33515       7.8      6\n",
       "33516       9.2      6\n",
       "33517       2.7      6\n",
       "33518       9.3      6\n",
       "33519       9.4      6\n",
       "\n",
       "[3337 rows x 2 columns]"
      ]
     },
     "execution_count": 35,
     "metadata": {},
     "output_type": "execute_result"
    }
   ],
   "source": [
    "# Examining the 'Sunshine' for one location by 'Month'\n",
    "df[df['Location']=='Sydney'][['Sunshine', 'Month']]"
   ]
  },
  {
   "cell_type": "code",
   "execution_count": 64,
   "metadata": {},
   "outputs": [
    {
     "data": {
      "text/plain": [
       "Text(0, 0.5, 'Month')"
      ]
     },
     "execution_count": 64,
     "metadata": {},
     "output_type": "execute_result"
    },
    {
     "data": {
      "image/png": "[encoded data removed]",
      "text/plain": [
       "<Figure size 375x300 with 1 Axes>"
      ]
     },
     "metadata": {
      "needs_background": "light"
     },
     "output_type": "display_data"
    }
   ],
   "source": [
    "x = df[df['Location']=='Sydney'][['Sunshine']]\n",
    "y = df[df['Location']=='Sydney'][['Month']]\n",
    "plt.scatter(x,y)\n",
    "plt.xlabel('Hours of Sunshine per day')\n",
    "plt.ylabel('Month')"
   ]
  },
  {
   "cell_type": "code",
   "execution_count": 21,
   "metadata": {
    "scrolled": false
   },
   "outputs": [
    {
     "data": {
      "text/html": [
       "<div>\n",
       "<style scoped>\n",
       "    .dataframe tbody tr th:only-of-type {\n",
       "        vertical-align: middle;\n",
       "    }\n",
       "\n",
       "    .dataframe tbody tr th {\n",
       "        vertical-align: top;\n",
       "    }\n",
       "\n",
       "    .dataframe thead th {\n",
       "        text-align: right;\n",
       "    }\n",
       "</style>\n",
       "<table border=\"1\" class=\"dataframe\">\n",
       "  <thead>\n",
       "    <tr style=\"text-align: right;\">\n",
       "      <th></th>\n",
       "      <th>mean</th>\n",
       "      <th>std</th>\n",
       "    </tr>\n",
       "    <tr>\n",
       "      <th>RainTomorrow</th>\n",
       "      <th></th>\n",
       "      <th></th>\n",
       "    </tr>\n",
       "  </thead>\n",
       "  <tbody>\n",
       "    <tr>\n",
       "      <th>No</th>\n",
       "      <td>8.546358</td>\n",
       "      <td>3.380298</td>\n",
       "    </tr>\n",
       "    <tr>\n",
       "      <th>Yes</th>\n",
       "      <td>4.471761</td>\n",
       "      <td>3.359329</td>\n",
       "    </tr>\n",
       "  </tbody>\n",
       "</table>\n",
       "</div>"
      ],
      "text/plain": [
       "                  mean       std\n",
       "RainTomorrow                    \n",
       "No            8.546358  3.380298\n",
       "Yes           4.471761  3.359329"
      ]
     },
     "execution_count": 21,
     "metadata": {},
     "output_type": "execute_result"
    },
    {
     "data": {
      "image/png": "[encoded data removed]",
      "text/plain": [
       "<Figure size 432x288 with 1 Axes>"
      ]
     },
     "metadata": {
      "needs_background": "light"
     },
     "output_type": "display_data"
    },
    {
     "data": {
      "image/png": "[encoded data removed]",
      "text/plain": [
       "<Figure size 432x288 with 1 Axes>"
      ]
     },
     "metadata": {
      "needs_background": "light"
     },
     "output_type": "display_data"
    }
   ],
   "source": [
    "#distribution of Sunshine Data\n",
    "ax = (df['Sunshine']).hist(bins=20) \n",
    "ax.set_ylabel('counts')\n",
    "ax.set_xlabel('Hours of Sunshine per day')\n",
    "ax.set_title('Distribution of Sunshine Data')\n",
    "\n",
    "df.boxplot(column=['Sunshine'],by = ['RainTomorrow'])\n",
    "plt.ylabel('hours')\n",
    "plt.title('Hours of Sunshine per day grouped by Rain Tomorrow')\n",
    "plt.tight_layout()\n",
    "\n",
    "df.groupby(['RainTomorrow'])['Sunshine'].describe().loc[:,['mean','std']]\n"
   ]
  },
  {
   "cell_type": "code",
   "execution_count": 37,
   "metadata": {},
   "outputs": [
    {
     "data": {
      "text/html": [
       "<div>\n",
       "<style scoped>\n",
       "    .dataframe tbody tr th:only-of-type {\n",
       "        vertical-align: middle;\n",
       "    }\n",
       "\n",
       "    .dataframe tbody tr th {\n",
       "        vertical-align: top;\n",
       "    }\n",
       "\n",
       "    .dataframe thead th {\n",
       "        text-align: right;\n",
       "    }\n",
       "</style>\n",
       "<table border=\"1\" class=\"dataframe\">\n",
       "  <thead>\n",
       "    <tr style=\"text-align: right;\">\n",
       "      <th></th>\n",
       "      <th>mean</th>\n",
       "      <th>std</th>\n",
       "    </tr>\n",
       "    <tr>\n",
       "      <th>RainTomorrow</th>\n",
       "      <th></th>\n",
       "      <th></th>\n",
       "    </tr>\n",
       "  </thead>\n",
       "  <tbody>\n",
       "    <tr>\n",
       "      <th>0</th>\n",
       "      <td>11.897675</td>\n",
       "      <td>6.398699</td>\n",
       "    </tr>\n",
       "    <tr>\n",
       "      <th>1</th>\n",
       "      <td>13.186890</td>\n",
       "      <td>6.317971</td>\n",
       "    </tr>\n",
       "  </tbody>\n",
       "</table>\n",
       "</div>"
      ],
      "text/plain": [
       "                   mean       std\n",
       "RainTomorrow                     \n",
       "0             11.897675  6.398699\n",
       "1             13.186890  6.317971"
      ]
     },
     "execution_count": 37,
     "metadata": {},
     "output_type": "execute_result"
    },
    {
     "data": {
      "image/png": "[encoded data removed]",
      "text/plain": [
       "<Figure size 432x288 with 1 Axes>"
      ]
     },
     "metadata": {
      "needs_background": "light"
     },
     "output_type": "display_data"
    }
   ],
   "source": [
    "#distribution of MinTemp Data\n",
    "ax = (df['MinTemp']).hist(bins=20) \n",
    "ax.set_ylabel('counts')\n",
    "ax.set_xlabel('MinTemp C')\n",
    "ax.set_title('Distribution of MinTemp Data')\n",
    "\n",
    "df.groupby(['RainTomorrow'])['MinTemp'].describe().loc[:,['mean','std']]\n",
    "# When RainTomorrow = 1 or Yes, the temperature is about 1.2 Degrees C higher."
   ]
  },
  {
   "cell_type": "code",
   "execution_count": 38,
   "metadata": {
    "scrolled": true
   },
   "outputs": [
    {
     "data": {
      "text/html": [
       "<div>\n",
       "<style scoped>\n",
       "    .dataframe tbody tr th:only-of-type {\n",
       "        vertical-align: middle;\n",
       "    }\n",
       "\n",
       "    .dataframe tbody tr th {\n",
       "        vertical-align: top;\n",
       "    }\n",
       "\n",
       "    .dataframe thead th {\n",
       "        text-align: right;\n",
       "    }\n",
       "</style>\n",
       "<table border=\"1\" class=\"dataframe\">\n",
       "  <thead>\n",
       "    <tr style=\"text-align: right;\">\n",
       "      <th></th>\n",
       "      <th>mean</th>\n",
       "      <th>std</th>\n",
       "    </tr>\n",
       "    <tr>\n",
       "      <th>RainTomorrow</th>\n",
       "      <th></th>\n",
       "      <th></th>\n",
       "    </tr>\n",
       "  </thead>\n",
       "  <tbody>\n",
       "    <tr>\n",
       "      <th>0</th>\n",
       "      <td>23.836247</td>\n",
       "      <td>7.059825</td>\n",
       "    </tr>\n",
       "    <tr>\n",
       "      <th>1</th>\n",
       "      <td>21.119100</td>\n",
       "      <td>6.911485</td>\n",
       "    </tr>\n",
       "  </tbody>\n",
       "</table>\n",
       "</div>"
      ],
      "text/plain": [
       "                   mean       std\n",
       "RainTomorrow                     \n",
       "0             23.836247  7.059825\n",
       "1             21.119100  6.911485"
      ]
     },
     "execution_count": 38,
     "metadata": {},
     "output_type": "execute_result"
    },
    {
     "data": {
      "image/png": "[encoded data removed]",
      "text/plain": [
       "<Figure size 432x288 with 1 Axes>"
      ]
     },
     "metadata": {
      "needs_background": "light"
     },
     "output_type": "display_data"
    }
   ],
   "source": [
    "#distribution of MaxTemp Data\n",
    "ax = (df['MaxTemp']).hist(bins=20) \n",
    "ax.set_ylabel('counts')\n",
    "ax.set_xlabel('MaxTemp C')\n",
    "ax.set_title('Distribution of MaxTemp Data')\n",
    "\n",
    "df.groupby(['RainTomorrow'])['MaxTemp'].describe().loc[:,['mean','std']]\n",
    "# When RainTomorrow = 1 or Yes, the temperature is about 1.2 Degrees C higher."
   ]
  },
  {
   "cell_type": "code",
   "execution_count": 39,
   "metadata": {},
   "outputs": [
    {
     "data": {
      "image/png": "[encoded data removed]",
      "text/plain": [
       "<Figure size 456.833x375 with 1 Axes>"
      ]
     },
     "metadata": {
      "needs_background": "light"
     },
     "output_type": "display_data"
    },
    {
     "data": {
      "image/png": "[encoded data removed]",
      "text/plain": [
       "<Figure size 456.833x375 with 1 Axes>"
      ]
     },
     "metadata": {
      "needs_background": "light"
     },
     "output_type": "display_data"
    }
   ],
   "source": [
    "# Relationship between Min and Max Temp, Temp 9am and Temp 3pm.\n",
    "plt.rcParams.update({'figure.figsize':(5,4), 'figure.dpi':75})\n",
    "sns.lmplot(x='Temp9am', y='MinTemp', data=df, hue='RainTomorrow')\n",
    "plt.title(\"Scatter Plot of MinTemp vs Temp9am\");\n",
    "\n",
    "\n",
    "plt.rcParams.update({'figure.figsize':(5,4), 'figure.dpi':75})\n",
    "sns.lmplot(x='Temp3pm', y='MaxTemp', data=df, hue='RainTomorrow')\n",
    "plt.title(\"Scatter Plot of MaxTemp vs Temp3pm\");"
   ]
  },
  {
   "cell_type": "code",
   "execution_count": 19,
   "metadata": {},
   "outputs": [
    {
     "data": {
      "text/html": [
       "<div>\n",
       "<style scoped>\n",
       "    .dataframe tbody tr th:only-of-type {\n",
       "        vertical-align: middle;\n",
       "    }\n",
       "\n",
       "    .dataframe tbody tr th {\n",
       "        vertical-align: top;\n",
       "    }\n",
       "\n",
       "    .dataframe thead th {\n",
       "        text-align: right;\n",
       "    }\n",
       "</style>\n",
       "<table border=\"1\" class=\"dataframe\">\n",
       "  <thead>\n",
       "    <tr style=\"text-align: right;\">\n",
       "      <th></th>\n",
       "      <th>mean</th>\n",
       "      <th>std</th>\n",
       "    </tr>\n",
       "    <tr>\n",
       "      <th>RainTomorrow</th>\n",
       "      <th></th>\n",
       "      <th></th>\n",
       "    </tr>\n",
       "  </thead>\n",
       "  <tbody>\n",
       "    <tr>\n",
       "      <th>No</th>\n",
       "      <td>38.288391</td>\n",
       "      <td>12.406522</td>\n",
       "    </tr>\n",
       "    <tr>\n",
       "      <th>Yes</th>\n",
       "      <td>45.946764</td>\n",
       "      <td>15.717954</td>\n",
       "    </tr>\n",
       "  </tbody>\n",
       "</table>\n",
       "</div>"
      ],
      "text/plain": [
       "                   mean        std\n",
       "RainTomorrow                      \n",
       "No            38.288391  12.406522\n",
       "Yes           45.946764  15.717954"
      ]
     },
     "execution_count": 19,
     "metadata": {},
     "output_type": "execute_result"
    },
    {
     "data": {
      "image/png": "[encoded data removed]",
      "text/plain": [
       "<Figure size 432x288 with 1 Axes>"
      ]
     },
     "metadata": {
      "needs_background": "light"
     },
     "output_type": "display_data"
    },
    {
     "data": {
      "image/png": "[encoded data removed]",
      "text/plain": [
       "<Figure size 432x288 with 1 Axes>"
      ]
     },
     "metadata": {
      "needs_background": "light"
     },
     "output_type": "display_data"
    }
   ],
   "source": [
    "# distribution of WindGustSpeed\n",
    "ax = (df['WindGustSpeed']).hist(bins=20) \n",
    "ax.set_ylabel('counts')\n",
    "ax.set_xlabel('WindGustSpeed')\n",
    "ax.set_title('Distribution of WindGustSpeed Data')\n",
    "\n",
    "df.boxplot(column=['WindGustSpeed'],by = ['RainTomorrow'])\n",
    "plt.ylabel('speed in km/hr')\n",
    "plt.title('Wind Gust Speed grouped by Rain Tomorrow')\n",
    "plt.tight_layout()\n",
    "\n",
    "df.groupby(['RainTomorrow'])['WindGustSpeed'].describe().loc[:,['mean','std']]\n"
   ]
  },
  {
   "cell_type": "code",
   "execution_count": 34,
   "metadata": {},
   "outputs": [
    {
     "data": {
      "text/plain": [
       "Ttest_indResult(statistic=-87.75255861882876, pvalue=0.0)"
      ]
     },
     "execution_count": 34,
     "metadata": {},
     "output_type": "execute_result"
    }
   ],
   "source": [
    "df_A = df.dropna(axis=0, subset=['WindGustSpeed'])\n",
    "A = df_A[df_A['RainTomorrow']==0]['WindGustSpeed']\n",
    "B = df_A[df_A['RainTomorrow']==1]['WindGustSpeed']\n",
    "scipy.stats.ttest_ind(A, B)"
   ]
  },
  {
   "cell_type": "code",
   "execution_count": 41,
   "metadata": {},
   "outputs": [
    {
     "data": {
      "text/html": [
       "<div>\n",
       "<style scoped>\n",
       "    .dataframe tbody tr th:only-of-type {\n",
       "        vertical-align: middle;\n",
       "    }\n",
       "\n",
       "    .dataframe tbody tr th {\n",
       "        vertical-align: top;\n",
       "    }\n",
       "\n",
       "    .dataframe thead th {\n",
       "        text-align: right;\n",
       "    }\n",
       "</style>\n",
       "<table border=\"1\" class=\"dataframe\">\n",
       "  <thead>\n",
       "    <tr style=\"text-align: right;\">\n",
       "      <th></th>\n",
       "      <th>mean</th>\n",
       "      <th>std</th>\n",
       "    </tr>\n",
       "    <tr>\n",
       "      <th>RainTomorrow</th>\n",
       "      <th></th>\n",
       "      <th></th>\n",
       "    </tr>\n",
       "  </thead>\n",
       "  <tbody>\n",
       "    <tr>\n",
       "      <th>0</th>\n",
       "      <td>1018.595599</td>\n",
       "      <td>6.760700</td>\n",
       "    </tr>\n",
       "    <tr>\n",
       "      <th>1</th>\n",
       "      <td>1014.400000</td>\n",
       "      <td>7.304373</td>\n",
       "    </tr>\n",
       "  </tbody>\n",
       "</table>\n",
       "</div>"
      ],
      "text/plain": [
       "                     mean       std\n",
       "RainTomorrow                       \n",
       "0             1018.595599  6.760700\n",
       "1             1014.400000  7.304373"
      ]
     },
     "execution_count": 41,
     "metadata": {},
     "output_type": "execute_result"
    },
    {
     "data": {
      "image/png": "[encoded data removed]",
      "text/plain": [
       "<Figure size 375x300 with 1 Axes>"
      ]
     },
     "metadata": {
      "needs_background": "light"
     },
     "output_type": "display_data"
    },
    {
     "data": {
      "image/png": "[encoded data removed]",
      "text/plain": [
       "<Figure size 375x300 with 1 Axes>"
      ]
     },
     "metadata": {
      "needs_background": "light"
     },
     "output_type": "display_data"
    }
   ],
   "source": [
    "#distribution of Pressure9am data\n",
    "ax = (df['Pressure9am']).hist(bins=20) \n",
    "ax.set_ylabel('counts')\n",
    "ax.set_xlabel('Pressure')\n",
    "ax.set_title('Distribution of Pressure9am Data')\n",
    "\n",
    "df.boxplot(column=['Pressure9am'],by = ['RainTomorrow'])\n",
    "plt.tight_layout()\n",
    "\n",
    "df.groupby( ['RainTomorrow'])['Pressure9am'].describe().loc[:,['mean','std']]"
   ]
  },
  {
   "cell_type": "code",
   "execution_count": 42,
   "metadata": {
    "scrolled": false
   },
   "outputs": [
    {
     "data": {
      "text/html": [
       "<div>\n",
       "<style scoped>\n",
       "    .dataframe tbody tr th:only-of-type {\n",
       "        vertical-align: middle;\n",
       "    }\n",
       "\n",
       "    .dataframe tbody tr th {\n",
       "        vertical-align: top;\n",
       "    }\n",
       "\n",
       "    .dataframe thead th {\n",
       "        text-align: right;\n",
       "    }\n",
       "</style>\n",
       "<table border=\"1\" class=\"dataframe\">\n",
       "  <thead>\n",
       "    <tr style=\"text-align: right;\">\n",
       "      <th></th>\n",
       "      <th>mean</th>\n",
       "      <th>std</th>\n",
       "    </tr>\n",
       "    <tr>\n",
       "      <th>RainTomorrow</th>\n",
       "      <th></th>\n",
       "      <th></th>\n",
       "    </tr>\n",
       "  </thead>\n",
       "  <tbody>\n",
       "    <tr>\n",
       "      <th>0</th>\n",
       "      <td>1016.113587</td>\n",
       "      <td>6.710292</td>\n",
       "    </tr>\n",
       "    <tr>\n",
       "      <th>1</th>\n",
       "      <td>1012.300820</td>\n",
       "      <td>7.331664</td>\n",
       "    </tr>\n",
       "  </tbody>\n",
       "</table>\n",
       "</div>"
      ],
      "text/plain": [
       "                     mean       std\n",
       "RainTomorrow                       \n",
       "0             1016.113587  6.710292\n",
       "1             1012.300820  7.331664"
      ]
     },
     "execution_count": 42,
     "metadata": {},
     "output_type": "execute_result"
    },
    {
     "data": {
      "image/png": "[encoded data removed]",
      "text/plain": [
       "<Figure size 375x300 with 1 Axes>"
      ]
     },
     "metadata": {
      "needs_background": "light"
     },
     "output_type": "display_data"
    },
    {
     "data": {
      "image/png": "[encoded data removed]",
      "text/plain": [
       "<Figure size 375x300 with 1 Axes>"
      ]
     },
     "metadata": {
      "needs_background": "light"
     },
     "output_type": "display_data"
    }
   ],
   "source": [
    "#distribution of Pressure3pm data\n",
    "ax = (df['Pressure3pm']).hist(bins=20) \n",
    "ax.set_ylabel('counts')\n",
    "ax.set_xlabel('Pressure')\n",
    "ax.set_title('Distribution of Pressure3pm Data')\n",
    "\n",
    "df.boxplot(column=['Pressure3pm'],by = ['RainTomorrow'])\n",
    "plt.tight_layout()\n",
    "\n",
    "df.groupby( ['RainTomorrow'])['Pressure3pm'].describe().loc[:,['mean','std']]"
   ]
  },
  {
   "cell_type": "code",
   "execution_count": 43,
   "metadata": {
    "scrolled": true
   },
   "outputs": [
    {
     "data": {
      "text/html": [
       "<div>\n",
       "<style scoped>\n",
       "    .dataframe tbody tr th:only-of-type {\n",
       "        vertical-align: middle;\n",
       "    }\n",
       "\n",
       "    .dataframe tbody tr th {\n",
       "        vertical-align: top;\n",
       "    }\n",
       "\n",
       "    .dataframe thead th {\n",
       "        text-align: right;\n",
       "    }\n",
       "</style>\n",
       "<table border=\"1\" class=\"dataframe\">\n",
       "  <thead>\n",
       "    <tr style=\"text-align: right;\">\n",
       "      <th></th>\n",
       "      <th>Date</th>\n",
       "      <th>Location</th>\n",
       "      <th>MinTemp</th>\n",
       "      <th>MaxTemp</th>\n",
       "      <th>Rainfall</th>\n",
       "      <th>Evaporation</th>\n",
       "      <th>Sunshine</th>\n",
       "      <th>WindGustDir</th>\n",
       "      <th>WindGustSpeed</th>\n",
       "      <th>WindDir9am</th>\n",
       "      <th>...</th>\n",
       "      <th>Pressure3pm</th>\n",
       "      <th>Cloud9am</th>\n",
       "      <th>Cloud3pm</th>\n",
       "      <th>Temp9am</th>\n",
       "      <th>Temp3pm</th>\n",
       "      <th>RainToday</th>\n",
       "      <th>RainTomorrow</th>\n",
       "      <th>Month</th>\n",
       "      <th>Year</th>\n",
       "      <th>Pressure_Diff</th>\n",
       "    </tr>\n",
       "  </thead>\n",
       "  <tbody>\n",
       "    <tr>\n",
       "      <th>0</th>\n",
       "      <td>2008-12-01</td>\n",
       "      <td>Albury</td>\n",
       "      <td>13.4</td>\n",
       "      <td>22.9</td>\n",
       "      <td>0.6</td>\n",
       "      <td>NaN</td>\n",
       "      <td>NaN</td>\n",
       "      <td>W</td>\n",
       "      <td>44.0</td>\n",
       "      <td>W</td>\n",
       "      <td>...</td>\n",
       "      <td>1007.1</td>\n",
       "      <td>8.0</td>\n",
       "      <td>NaN</td>\n",
       "      <td>16.9</td>\n",
       "      <td>21.8</td>\n",
       "      <td>0.0</td>\n",
       "      <td>0</td>\n",
       "      <td>12</td>\n",
       "      <td>2008</td>\n",
       "      <td>-0.6</td>\n",
       "    </tr>\n",
       "    <tr>\n",
       "      <th>1</th>\n",
       "      <td>2008-12-02</td>\n",
       "      <td>Albury</td>\n",
       "      <td>7.4</td>\n",
       "      <td>25.1</td>\n",
       "      <td>0.0</td>\n",
       "      <td>NaN</td>\n",
       "      <td>NaN</td>\n",
       "      <td>WNW</td>\n",
       "      <td>44.0</td>\n",
       "      <td>NNW</td>\n",
       "      <td>...</td>\n",
       "      <td>1007.8</td>\n",
       "      <td>NaN</td>\n",
       "      <td>NaN</td>\n",
       "      <td>17.2</td>\n",
       "      <td>24.3</td>\n",
       "      <td>0.0</td>\n",
       "      <td>0</td>\n",
       "      <td>12</td>\n",
       "      <td>2008</td>\n",
       "      <td>-2.8</td>\n",
       "    </tr>\n",
       "    <tr>\n",
       "      <th>2</th>\n",
       "      <td>2008-12-03</td>\n",
       "      <td>Albury</td>\n",
       "      <td>12.9</td>\n",
       "      <td>25.7</td>\n",
       "      <td>0.0</td>\n",
       "      <td>NaN</td>\n",
       "      <td>NaN</td>\n",
       "      <td>WSW</td>\n",
       "      <td>46.0</td>\n",
       "      <td>W</td>\n",
       "      <td>...</td>\n",
       "      <td>1008.7</td>\n",
       "      <td>NaN</td>\n",
       "      <td>2.0</td>\n",
       "      <td>21.0</td>\n",
       "      <td>23.2</td>\n",
       "      <td>0.0</td>\n",
       "      <td>0</td>\n",
       "      <td>12</td>\n",
       "      <td>2008</td>\n",
       "      <td>1.1</td>\n",
       "    </tr>\n",
       "    <tr>\n",
       "      <th>3</th>\n",
       "      <td>2008-12-04</td>\n",
       "      <td>Albury</td>\n",
       "      <td>9.2</td>\n",
       "      <td>28.0</td>\n",
       "      <td>0.0</td>\n",
       "      <td>NaN</td>\n",
       "      <td>NaN</td>\n",
       "      <td>NE</td>\n",
       "      <td>24.0</td>\n",
       "      <td>SE</td>\n",
       "      <td>...</td>\n",
       "      <td>1012.8</td>\n",
       "      <td>NaN</td>\n",
       "      <td>NaN</td>\n",
       "      <td>18.1</td>\n",
       "      <td>26.5</td>\n",
       "      <td>0.0</td>\n",
       "      <td>0</td>\n",
       "      <td>12</td>\n",
       "      <td>2008</td>\n",
       "      <td>-4.8</td>\n",
       "    </tr>\n",
       "    <tr>\n",
       "      <th>4</th>\n",
       "      <td>2008-12-05</td>\n",
       "      <td>Albury</td>\n",
       "      <td>17.5</td>\n",
       "      <td>32.3</td>\n",
       "      <td>1.0</td>\n",
       "      <td>NaN</td>\n",
       "      <td>NaN</td>\n",
       "      <td>W</td>\n",
       "      <td>41.0</td>\n",
       "      <td>ENE</td>\n",
       "      <td>...</td>\n",
       "      <td>1006.0</td>\n",
       "      <td>7.0</td>\n",
       "      <td>8.0</td>\n",
       "      <td>17.8</td>\n",
       "      <td>29.7</td>\n",
       "      <td>0.0</td>\n",
       "      <td>0</td>\n",
       "      <td>12</td>\n",
       "      <td>2008</td>\n",
       "      <td>-4.8</td>\n",
       "    </tr>\n",
       "  </tbody>\n",
       "</table>\n",
       "<p>5 rows × 26 columns</p>\n",
       "</div>"
      ],
      "text/plain": [
       "         Date Location  MinTemp  MaxTemp  Rainfall  Evaporation  Sunshine  \\\n",
       "0  2008-12-01   Albury     13.4     22.9       0.6          NaN       NaN   \n",
       "1  2008-12-02   Albury      7.4     25.1       0.0          NaN       NaN   \n",
       "2  2008-12-03   Albury     12.9     25.7       0.0          NaN       NaN   \n",
       "3  2008-12-04   Albury      9.2     28.0       0.0          NaN       NaN   \n",
       "4  2008-12-05   Albury     17.5     32.3       1.0          NaN       NaN   \n",
       "\n",
       "  WindGustDir  WindGustSpeed WindDir9am  ... Pressure3pm  Cloud9am  Cloud3pm  \\\n",
       "0           W           44.0          W  ...      1007.1       8.0       NaN   \n",
       "1         WNW           44.0        NNW  ...      1007.8       NaN       NaN   \n",
       "2         WSW           46.0          W  ...      1008.7       NaN       2.0   \n",
       "3          NE           24.0         SE  ...      1012.8       NaN       NaN   \n",
       "4           W           41.0        ENE  ...      1006.0       7.0       8.0   \n",
       "\n",
       "   Temp9am  Temp3pm  RainToday  RainTomorrow  Month  Year  Pressure_Diff  \n",
       "0     16.9     21.8        0.0             0     12  2008           -0.6  \n",
       "1     17.2     24.3        0.0             0     12  2008           -2.8  \n",
       "2     21.0     23.2        0.0             0     12  2008            1.1  \n",
       "3     18.1     26.5        0.0             0     12  2008           -4.8  \n",
       "4     17.8     29.7        0.0             0     12  2008           -4.8  \n",
       "\n",
       "[5 rows x 26 columns]"
      ]
     },
     "execution_count": 43,
     "metadata": {},
     "output_type": "execute_result"
    }
   ],
   "source": [
    "# Add a column to show the difference in Pressure (Pressure3pm - Pressure9am)\n",
    "df['Pressure_Diff'] = df['Pressure3pm'] - df['Pressure9am']\n",
    "df.head()"
   ]
  },
  {
   "cell_type": "code",
   "execution_count": 44,
   "metadata": {
    "scrolled": false
   },
   "outputs": [
    {
     "data": {
      "text/html": [
       "<div>\n",
       "<style scoped>\n",
       "    .dataframe tbody tr th:only-of-type {\n",
       "        vertical-align: middle;\n",
       "    }\n",
       "\n",
       "    .dataframe tbody tr th {\n",
       "        vertical-align: top;\n",
       "    }\n",
       "\n",
       "    .dataframe thead th {\n",
       "        text-align: right;\n",
       "    }\n",
       "</style>\n",
       "<table border=\"1\" class=\"dataframe\">\n",
       "  <thead>\n",
       "    <tr style=\"text-align: right;\">\n",
       "      <th></th>\n",
       "      <th>mean</th>\n",
       "      <th>std</th>\n",
       "    </tr>\n",
       "    <tr>\n",
       "      <th>RainTomorrow</th>\n",
       "      <th></th>\n",
       "      <th></th>\n",
       "    </tr>\n",
       "  </thead>\n",
       "  <tbody>\n",
       "    <tr>\n",
       "      <th>0</th>\n",
       "      <td>-2.482602</td>\n",
       "      <td>1.837420</td>\n",
       "    </tr>\n",
       "    <tr>\n",
       "      <th>1</th>\n",
       "      <td>-2.103548</td>\n",
       "      <td>2.338037</td>\n",
       "    </tr>\n",
       "  </tbody>\n",
       "</table>\n",
       "</div>"
      ],
      "text/plain": [
       "                  mean       std\n",
       "RainTomorrow                    \n",
       "0            -2.482602  1.837420\n",
       "1            -2.103548  2.338037"
      ]
     },
     "execution_count": 44,
     "metadata": {},
     "output_type": "execute_result"
    },
    {
     "data": {
      "image/png": "[encoded data removed]",
      "text/plain": [
       "<Figure size 375x300 with 1 Axes>"
      ]
     },
     "metadata": {
      "needs_background": "light"
     },
     "output_type": "display_data"
    },
    {
     "data": {
      "image/png": "[encoded data removed]",
      "text/plain": [
       "<Figure size 375x300 with 1 Axes>"
      ]
     },
     "metadata": {
      "needs_background": "light"
     },
     "output_type": "display_data"
    }
   ],
   "source": [
    "#distribution of Pressure_Diff data- \n",
    "ax = (df['Pressure_Diff']).hist(bins=20) \n",
    "ax.set_ylabel('counts')\n",
    "ax.set_xlabel('Pressure')\n",
    "ax.set_title('Distribution of Pressure_Diff Data')\n",
    "\n",
    "df.boxplot(column=['Pressure_Diff'],by = ['RainTomorrow'])\n",
    "plt.tight_layout()\n",
    "\n",
    "df.groupby( ['RainTomorrow'])['Pressure_Diff'].describe().loc[:,['mean','std']]\n",
    "\n"
   ]
  },
  {
   "cell_type": "markdown",
   "metadata": {},
   "source": [
    "#### Hypothesis Test 2:\n",
    "Null Hypothesis: The Pressure_Diff values are the same for the two RainTomorrow groups.  \n",
    "Alternative Hypothesis: The Pressure_Diff values are different between the two RainTomorrow groups (0 and 1). "
   ]
  },
  {
   "cell_type": "code",
   "execution_count": 45,
   "metadata": {},
   "outputs": [
    {
     "data": {
      "text/plain": [
       "Ttest_indResult(statistic=-28.84984965260336, pvalue=1.9641096571749098e-182)"
      ]
     },
     "execution_count": 45,
     "metadata": {},
     "output_type": "execute_result"
    }
   ],
   "source": [
    "df_A = df.dropna(axis=0, subset=['Pressure_Diff'])\n",
    "A = df_A[df_A['RainTomorrow']==0]['Pressure_Diff']\n",
    "B = df_A[df_A['RainTomorrow']==1]['Pressure_Diff']\n",
    "scipy.stats.ttest_ind(A, B)"
   ]
  },
  {
   "cell_type": "markdown",
   "metadata": {},
   "source": [
    "#### P value is less than 0.05. We reject the null hypothesis. "
   ]
  },
  {
   "cell_type": "code",
   "execution_count": 46,
   "metadata": {},
   "outputs": [
    {
     "data": {
      "text/html": [
       "<div>\n",
       "<style scoped>\n",
       "    .dataframe tbody tr th:only-of-type {\n",
       "        vertical-align: middle;\n",
       "    }\n",
       "\n",
       "    .dataframe tbody tr th {\n",
       "        vertical-align: top;\n",
       "    }\n",
       "\n",
       "    .dataframe thead th {\n",
       "        text-align: right;\n",
       "    }\n",
       "</style>\n",
       "<table border=\"1\" class=\"dataframe\">\n",
       "  <thead>\n",
       "    <tr style=\"text-align: right;\">\n",
       "      <th></th>\n",
       "      <th>mean</th>\n",
       "      <th>std</th>\n",
       "    </tr>\n",
       "    <tr>\n",
       "      <th>RainTomorrow</th>\n",
       "      <th></th>\n",
       "      <th></th>\n",
       "    </tr>\n",
       "  </thead>\n",
       "  <tbody>\n",
       "    <tr>\n",
       "      <th>0</th>\n",
       "      <td>66.217573</td>\n",
       "      <td>19.020703</td>\n",
       "    </tr>\n",
       "    <tr>\n",
       "      <th>1</th>\n",
       "      <td>77.983314</td>\n",
       "      <td>16.108377</td>\n",
       "    </tr>\n",
       "  </tbody>\n",
       "</table>\n",
       "</div>"
      ],
      "text/plain": [
       "                   mean        std\n",
       "RainTomorrow                      \n",
       "0             66.217573  19.020703\n",
       "1             77.983314  16.108377"
      ]
     },
     "execution_count": 46,
     "metadata": {},
     "output_type": "execute_result"
    },
    {
     "data": {
      "image/png": "[encoded data removed]",
      "text/plain": [
       "<Figure size 375x300 with 1 Axes>"
      ]
     },
     "metadata": {
      "needs_background": "light"
     },
     "output_type": "display_data"
    },
    {
     "data": {
      "image/png": "[encoded data removed]",
      "text/plain": [
       "<Figure size 375x300 with 1 Axes>"
      ]
     },
     "metadata": {
      "needs_background": "light"
     },
     "output_type": "display_data"
    }
   ],
   "source": [
    "#distribution of Humidity9am data\n",
    "ax = (df['Humidity9am']).hist(bins=20) \n",
    "ax.set_ylabel('counts')\n",
    "ax.set_xlabel('Humidity')\n",
    "ax.set_title('Distribution of Humidity9am Data')\n",
    "\n",
    "df.boxplot(column=['Humidity9am'],by = ['RainTomorrow'])\n",
    "plt.tight_layout()\n",
    "\n",
    "df.groupby( ['RainTomorrow'])['Humidity9am'].describe().loc[:,['mean','std']]"
   ]
  },
  {
   "cell_type": "code",
   "execution_count": 17,
   "metadata": {
    "scrolled": false
   },
   "outputs": [
    {
     "data": {
      "text/html": [
       "<div>\n",
       "<style scoped>\n",
       "    .dataframe tbody tr th:only-of-type {\n",
       "        vertical-align: middle;\n",
       "    }\n",
       "\n",
       "    .dataframe tbody tr th {\n",
       "        vertical-align: top;\n",
       "    }\n",
       "\n",
       "    .dataframe thead th {\n",
       "        text-align: right;\n",
       "    }\n",
       "</style>\n",
       "<table border=\"1\" class=\"dataframe\">\n",
       "  <thead>\n",
       "    <tr style=\"text-align: right;\">\n",
       "      <th></th>\n",
       "      <th>mean</th>\n",
       "      <th>std</th>\n",
       "    </tr>\n",
       "    <tr>\n",
       "      <th>RainTomorrow</th>\n",
       "      <th></th>\n",
       "      <th></th>\n",
       "    </tr>\n",
       "  </thead>\n",
       "  <tbody>\n",
       "    <tr>\n",
       "      <th>No</th>\n",
       "      <td>46.510625</td>\n",
       "      <td>18.489476</td>\n",
       "    </tr>\n",
       "    <tr>\n",
       "      <th>Yes</th>\n",
       "      <td>68.800019</td>\n",
       "      <td>19.037409</td>\n",
       "    </tr>\n",
       "  </tbody>\n",
       "</table>\n",
       "</div>"
      ],
      "text/plain": [
       "                   mean        std\n",
       "RainTomorrow                      \n",
       "No            46.510625  18.489476\n",
       "Yes           68.800019  19.037409"
      ]
     },
     "execution_count": 17,
     "metadata": {},
     "output_type": "execute_result"
    },
    {
     "data": {
      "image/png": "[encoded data removed]",
      "text/plain": [
       "<Figure size 432x288 with 1 Axes>"
      ]
     },
     "metadata": {
      "needs_background": "light"
     },
     "output_type": "display_data"
    },
    {
     "data": {
      "image/png": "[encoded data removed]",
      "text/plain": [
       "<Figure size 432x288 with 1 Axes>"
      ]
     },
     "metadata": {
      "needs_background": "light"
     },
     "output_type": "display_data"
    }
   ],
   "source": [
    "#distribution of Humidity3pm data\n",
    "ax = (df['Humidity3pm']).hist(bins=20) \n",
    "ax.set_ylabel('counts')\n",
    "ax.set_xlabel('Humidity')\n",
    "ax.set_title('Distribution of Humidity3pm Data')\n",
    "\n",
    "df.boxplot(column=['Humidity3pm'],by = ['RainTomorrow'])\n",
    "plt.ylabel('percentage')\n",
    "plt.title('Humidity Percentage at 3pm grouped by Rain Tomorrow')\n",
    "plt.tight_layout()\n",
    "\n",
    "df.groupby( ['RainTomorrow'])['Humidity3pm'].describe().loc[:,['mean','std']]"
   ]
  },
  {
   "cell_type": "markdown",
   "metadata": {},
   "source": [
    "#### Hypothesis Test 3:\n",
    "Null Hypothesis: The Humidity3pm values are the same for the two RainTomorrow groups.  \n",
    "Alternative Hypothesis: The Humidity3pm values are different between the two RainTomorrow groups (0 and 1). "
   ]
  },
  {
   "cell_type": "code",
   "execution_count": 48,
   "metadata": {},
   "outputs": [
    {
     "data": {
      "text/plain": [
       "Ttest_indResult(statistic=-185.5848864315162, pvalue=0.0)"
      ]
     },
     "execution_count": 48,
     "metadata": {},
     "output_type": "execute_result"
    }
   ],
   "source": [
    "df_A = df.dropna(axis=0, subset=['Humidity3pm'])\n",
    "A = df_A[df_A['RainTomorrow']==0]['Humidity3pm']\n",
    "B = df_A[df_A['RainTomorrow']==1]['Humidity3pm']\n",
    "scipy.stats.ttest_ind(A, B)"
   ]
  },
  {
   "cell_type": "markdown",
   "metadata": {},
   "source": [
    "#### The p value is 0. We reject the null hypothesis. "
   ]
  },
  {
   "cell_type": "code",
   "execution_count": 49,
   "metadata": {
    "scrolled": true
   },
   "outputs": [
    {
     "data": {
      "text/html": [
       "<div>\n",
       "<style scoped>\n",
       "    .dataframe tbody tr th:only-of-type {\n",
       "        vertical-align: middle;\n",
       "    }\n",
       "\n",
       "    .dataframe tbody tr th {\n",
       "        vertical-align: top;\n",
       "    }\n",
       "\n",
       "    .dataframe thead th {\n",
       "        text-align: right;\n",
       "    }\n",
       "</style>\n",
       "<table border=\"1\" class=\"dataframe\">\n",
       "  <thead>\n",
       "    <tr style=\"text-align: right;\">\n",
       "      <th></th>\n",
       "      <th>Date</th>\n",
       "      <th>Location</th>\n",
       "      <th>MinTemp</th>\n",
       "      <th>MaxTemp</th>\n",
       "      <th>Rainfall</th>\n",
       "      <th>Evaporation</th>\n",
       "      <th>Sunshine</th>\n",
       "      <th>WindGustDir</th>\n",
       "      <th>WindGustSpeed</th>\n",
       "      <th>WindDir9am</th>\n",
       "      <th>...</th>\n",
       "      <th>Cloud9am</th>\n",
       "      <th>Cloud3pm</th>\n",
       "      <th>Temp9am</th>\n",
       "      <th>Temp3pm</th>\n",
       "      <th>RainToday</th>\n",
       "      <th>RainTomorrow</th>\n",
       "      <th>Month</th>\n",
       "      <th>Year</th>\n",
       "      <th>Pressure_Diff</th>\n",
       "      <th>Humidity_Diff</th>\n",
       "    </tr>\n",
       "  </thead>\n",
       "  <tbody>\n",
       "    <tr>\n",
       "      <th>0</th>\n",
       "      <td>2008-12-01</td>\n",
       "      <td>Albury</td>\n",
       "      <td>13.4</td>\n",
       "      <td>22.9</td>\n",
       "      <td>0.6</td>\n",
       "      <td>NaN</td>\n",
       "      <td>NaN</td>\n",
       "      <td>W</td>\n",
       "      <td>44.0</td>\n",
       "      <td>W</td>\n",
       "      <td>...</td>\n",
       "      <td>8.0</td>\n",
       "      <td>NaN</td>\n",
       "      <td>16.9</td>\n",
       "      <td>21.8</td>\n",
       "      <td>0.0</td>\n",
       "      <td>0</td>\n",
       "      <td>12</td>\n",
       "      <td>2008</td>\n",
       "      <td>-0.6</td>\n",
       "      <td>-49.0</td>\n",
       "    </tr>\n",
       "    <tr>\n",
       "      <th>1</th>\n",
       "      <td>2008-12-02</td>\n",
       "      <td>Albury</td>\n",
       "      <td>7.4</td>\n",
       "      <td>25.1</td>\n",
       "      <td>0.0</td>\n",
       "      <td>NaN</td>\n",
       "      <td>NaN</td>\n",
       "      <td>WNW</td>\n",
       "      <td>44.0</td>\n",
       "      <td>NNW</td>\n",
       "      <td>...</td>\n",
       "      <td>NaN</td>\n",
       "      <td>NaN</td>\n",
       "      <td>17.2</td>\n",
       "      <td>24.3</td>\n",
       "      <td>0.0</td>\n",
       "      <td>0</td>\n",
       "      <td>12</td>\n",
       "      <td>2008</td>\n",
       "      <td>-2.8</td>\n",
       "      <td>-19.0</td>\n",
       "    </tr>\n",
       "    <tr>\n",
       "      <th>2</th>\n",
       "      <td>2008-12-03</td>\n",
       "      <td>Albury</td>\n",
       "      <td>12.9</td>\n",
       "      <td>25.7</td>\n",
       "      <td>0.0</td>\n",
       "      <td>NaN</td>\n",
       "      <td>NaN</td>\n",
       "      <td>WSW</td>\n",
       "      <td>46.0</td>\n",
       "      <td>W</td>\n",
       "      <td>...</td>\n",
       "      <td>NaN</td>\n",
       "      <td>2.0</td>\n",
       "      <td>21.0</td>\n",
       "      <td>23.2</td>\n",
       "      <td>0.0</td>\n",
       "      <td>0</td>\n",
       "      <td>12</td>\n",
       "      <td>2008</td>\n",
       "      <td>1.1</td>\n",
       "      <td>-8.0</td>\n",
       "    </tr>\n",
       "    <tr>\n",
       "      <th>3</th>\n",
       "      <td>2008-12-04</td>\n",
       "      <td>Albury</td>\n",
       "      <td>9.2</td>\n",
       "      <td>28.0</td>\n",
       "      <td>0.0</td>\n",
       "      <td>NaN</td>\n",
       "      <td>NaN</td>\n",
       "      <td>NE</td>\n",
       "      <td>24.0</td>\n",
       "      <td>SE</td>\n",
       "      <td>...</td>\n",
       "      <td>NaN</td>\n",
       "      <td>NaN</td>\n",
       "      <td>18.1</td>\n",
       "      <td>26.5</td>\n",
       "      <td>0.0</td>\n",
       "      <td>0</td>\n",
       "      <td>12</td>\n",
       "      <td>2008</td>\n",
       "      <td>-4.8</td>\n",
       "      <td>-29.0</td>\n",
       "    </tr>\n",
       "    <tr>\n",
       "      <th>4</th>\n",
       "      <td>2008-12-05</td>\n",
       "      <td>Albury</td>\n",
       "      <td>17.5</td>\n",
       "      <td>32.3</td>\n",
       "      <td>1.0</td>\n",
       "      <td>NaN</td>\n",
       "      <td>NaN</td>\n",
       "      <td>W</td>\n",
       "      <td>41.0</td>\n",
       "      <td>ENE</td>\n",
       "      <td>...</td>\n",
       "      <td>7.0</td>\n",
       "      <td>8.0</td>\n",
       "      <td>17.8</td>\n",
       "      <td>29.7</td>\n",
       "      <td>0.0</td>\n",
       "      <td>0</td>\n",
       "      <td>12</td>\n",
       "      <td>2008</td>\n",
       "      <td>-4.8</td>\n",
       "      <td>-49.0</td>\n",
       "    </tr>\n",
       "  </tbody>\n",
       "</table>\n",
       "<p>5 rows × 27 columns</p>\n",
       "</div>"
      ],
      "text/plain": [
       "         Date Location  MinTemp  MaxTemp  Rainfall  Evaporation  Sunshine  \\\n",
       "0  2008-12-01   Albury     13.4     22.9       0.6          NaN       NaN   \n",
       "1  2008-12-02   Albury      7.4     25.1       0.0          NaN       NaN   \n",
       "2  2008-12-03   Albury     12.9     25.7       0.0          NaN       NaN   \n",
       "3  2008-12-04   Albury      9.2     28.0       0.0          NaN       NaN   \n",
       "4  2008-12-05   Albury     17.5     32.3       1.0          NaN       NaN   \n",
       "\n",
       "  WindGustDir  WindGustSpeed WindDir9am  ... Cloud9am  Cloud3pm  Temp9am  \\\n",
       "0           W           44.0          W  ...      8.0       NaN     16.9   \n",
       "1         WNW           44.0        NNW  ...      NaN       NaN     17.2   \n",
       "2         WSW           46.0          W  ...      NaN       2.0     21.0   \n",
       "3          NE           24.0         SE  ...      NaN       NaN     18.1   \n",
       "4           W           41.0        ENE  ...      7.0       8.0     17.8   \n",
       "\n",
       "   Temp3pm  RainToday  RainTomorrow  Month  Year  Pressure_Diff  Humidity_Diff  \n",
       "0     21.8        0.0             0     12  2008           -0.6          -49.0  \n",
       "1     24.3        0.0             0     12  2008           -2.8          -19.0  \n",
       "2     23.2        0.0             0     12  2008            1.1           -8.0  \n",
       "3     26.5        0.0             0     12  2008           -4.8          -29.0  \n",
       "4     29.7        0.0             0     12  2008           -4.8          -49.0  \n",
       "\n",
       "[5 rows x 27 columns]"
      ]
     },
     "execution_count": 49,
     "metadata": {},
     "output_type": "execute_result"
    }
   ],
   "source": [
    "# Add a column to show the difference in Humidity (Humidity3pm - Humidity9am)\n",
    "df['Humidity_Diff'] = df['Humidity3pm'] - df['Humidity9am']\n",
    "df.head()"
   ]
  },
  {
   "cell_type": "code",
   "execution_count": 50,
   "metadata": {},
   "outputs": [
    {
     "data": {
      "text/html": [
       "<div>\n",
       "<style scoped>\n",
       "    .dataframe tbody tr th:only-of-type {\n",
       "        vertical-align: middle;\n",
       "    }\n",
       "\n",
       "    .dataframe tbody tr th {\n",
       "        vertical-align: top;\n",
       "    }\n",
       "\n",
       "    .dataframe thead th {\n",
       "        text-align: right;\n",
       "    }\n",
       "</style>\n",
       "<table border=\"1\" class=\"dataframe\">\n",
       "  <thead>\n",
       "    <tr style=\"text-align: right;\">\n",
       "      <th></th>\n",
       "      <th>mean</th>\n",
       "      <th>std</th>\n",
       "    </tr>\n",
       "    <tr>\n",
       "      <th>RainTomorrow</th>\n",
       "      <th></th>\n",
       "      <th></th>\n",
       "    </tr>\n",
       "  </thead>\n",
       "  <tbody>\n",
       "    <tr>\n",
       "      <th>0</th>\n",
       "      <td>-19.713761</td>\n",
       "      <td>15.431266</td>\n",
       "    </tr>\n",
       "    <tr>\n",
       "      <th>1</th>\n",
       "      <td>-9.188344</td>\n",
       "      <td>16.709306</td>\n",
       "    </tr>\n",
       "  </tbody>\n",
       "</table>\n",
       "</div>"
      ],
      "text/plain": [
       "                   mean        std\n",
       "RainTomorrow                      \n",
       "0            -19.713761  15.431266\n",
       "1             -9.188344  16.709306"
      ]
     },
     "execution_count": 50,
     "metadata": {},
     "output_type": "execute_result"
    },
    {
     "data": {
      "image/png": "[encoded data removed]",
      "text/plain": [
       "<Figure size 375x300 with 1 Axes>"
      ]
     },
     "metadata": {
      "needs_background": "light"
     },
     "output_type": "display_data"
    },
    {
     "data": {
      "image/png": "[encoded data removed]",
      "text/plain": [
       "<Figure size 375x300 with 1 Axes>"
      ]
     },
     "metadata": {
      "needs_background": "light"
     },
     "output_type": "display_data"
    }
   ],
   "source": [
    "#distribution of Humidity_Diff data\n",
    "ax = (df['Humidity_Diff']).hist(bins=20) \n",
    "ax.set_ylabel('counts')\n",
    "ax.set_xlabel('Pressure')\n",
    "ax.set_title('Distribution of Humidity_Diff Data')\n",
    "\n",
    "df.boxplot(column=['Humidity_Diff'],by = ['RainTomorrow'])\n",
    "plt.tight_layout()\n",
    "\n",
    "df.groupby( ['RainTomorrow'])['Humidity_Diff'].describe().loc[:,['mean','std']]"
   ]
  },
  {
   "cell_type": "code",
   "execution_count": 51,
   "metadata": {},
   "outputs": [
    {
     "data": {
      "text/html": [
       "<div>\n",
       "<style scoped>\n",
       "    .dataframe tbody tr th:only-of-type {\n",
       "        vertical-align: middle;\n",
       "    }\n",
       "\n",
       "    .dataframe tbody tr th {\n",
       "        vertical-align: top;\n",
       "    }\n",
       "\n",
       "    .dataframe thead th {\n",
       "        text-align: right;\n",
       "    }\n",
       "</style>\n",
       "<table border=\"1\" class=\"dataframe\">\n",
       "  <thead>\n",
       "    <tr style=\"text-align: right;\">\n",
       "      <th></th>\n",
       "      <th>mean</th>\n",
       "      <th>std</th>\n",
       "    </tr>\n",
       "    <tr>\n",
       "      <th>RainTomorrow</th>\n",
       "      <th></th>\n",
       "      <th></th>\n",
       "    </tr>\n",
       "  </thead>\n",
       "  <tbody>\n",
       "    <tr>\n",
       "      <th>0</th>\n",
       "      <td>3.932282</td>\n",
       "      <td>2.877299</td>\n",
       "    </tr>\n",
       "    <tr>\n",
       "      <th>1</th>\n",
       "      <td>6.099990</td>\n",
       "      <td>2.216997</td>\n",
       "    </tr>\n",
       "  </tbody>\n",
       "</table>\n",
       "</div>"
      ],
      "text/plain": [
       "                  mean       std\n",
       "RainTomorrow                    \n",
       "0             3.932282  2.877299\n",
       "1             6.099990  2.216997"
      ]
     },
     "execution_count": 51,
     "metadata": {},
     "output_type": "execute_result"
    },
    {
     "data": {
      "image/png": "[encoded data removed]",
      "text/plain": [
       "<Figure size 375x300 with 1 Axes>"
      ]
     },
     "metadata": {
      "needs_background": "light"
     },
     "output_type": "display_data"
    },
    {
     "data": {
      "image/png": "[encoded data removed]",
      "text/plain": [
       "<Figure size 375x300 with 1 Axes>"
      ]
     },
     "metadata": {
      "needs_background": "light"
     },
     "output_type": "display_data"
    }
   ],
   "source": [
    "#distribution of Cloud9am data\n",
    "ax = (df['Cloud9am']).hist(bins=20) \n",
    "ax.set_ylabel('counts')\n",
    "ax.set_xlabel('Cloud9am')\n",
    "ax.set_title('Distribution of Cloud9am Data')\n",
    "\n",
    "df.boxplot(column=['Cloud9am'],by = ['RainTomorrow'])\n",
    "plt.tight_layout()\n",
    "\n",
    "df.groupby( ['RainTomorrow'])['Cloud9am'].describe().loc[:,['mean','std']]"
   ]
  },
  {
   "cell_type": "code",
   "execution_count": 20,
   "metadata": {
    "scrolled": true
   },
   "outputs": [
    {
     "data": {
      "text/html": [
       "<div>\n",
       "<style scoped>\n",
       "    .dataframe tbody tr th:only-of-type {\n",
       "        vertical-align: middle;\n",
       "    }\n",
       "\n",
       "    .dataframe tbody tr th {\n",
       "        vertical-align: top;\n",
       "    }\n",
       "\n",
       "    .dataframe thead th {\n",
       "        text-align: right;\n",
       "    }\n",
       "</style>\n",
       "<table border=\"1\" class=\"dataframe\">\n",
       "  <thead>\n",
       "    <tr style=\"text-align: right;\">\n",
       "      <th></th>\n",
       "      <th>mean</th>\n",
       "      <th>std</th>\n",
       "    </tr>\n",
       "    <tr>\n",
       "      <th>RainTomorrow</th>\n",
       "      <th></th>\n",
       "      <th></th>\n",
       "    </tr>\n",
       "  </thead>\n",
       "  <tbody>\n",
       "    <tr>\n",
       "      <th>No</th>\n",
       "      <td>3.921896</td>\n",
       "      <td>2.667284</td>\n",
       "    </tr>\n",
       "    <tr>\n",
       "      <th>Yes</th>\n",
       "      <td>6.360065</td>\n",
       "      <td>1.947514</td>\n",
       "    </tr>\n",
       "  </tbody>\n",
       "</table>\n",
       "</div>"
      ],
      "text/plain": [
       "                  mean       std\n",
       "RainTomorrow                    \n",
       "No            3.921896  2.667284\n",
       "Yes           6.360065  1.947514"
      ]
     },
     "execution_count": 20,
     "metadata": {},
     "output_type": "execute_result"
    },
    {
     "data": {
      "image/png": "[encoded data removed]",
      "text/plain": [
       "<Figure size 432x288 with 1 Axes>"
      ]
     },
     "metadata": {
      "needs_background": "light"
     },
     "output_type": "display_data"
    },
    {
     "data": {
      "image/png": "[encoded data removed]",
      "text/plain": [
       "<Figure size 432x288 with 1 Axes>"
      ]
     },
     "metadata": {
      "needs_background": "light"
     },
     "output_type": "display_data"
    }
   ],
   "source": [
    "#distribution of Cloud3pm data\n",
    "ax = (df['Cloud3pm']).hist(bins=20) \n",
    "ax.set_ylabel('counts')\n",
    "ax.set_xlabel('Cloud3pm')\n",
    "ax.set_title('Distribution of Cloud3pm Data')\n",
    "\n",
    "df.boxplot(column=['Cloud3pm'],by = ['RainTomorrow'])\n",
    "plt.ylabel('cloud cover in \"oktas\"')\n",
    "plt.title('Cloud Cover at 3pm grouped by Rain Tomorrow')\n",
    "plt.tight_layout()\n",
    "\n",
    "df.groupby( ['RainTomorrow'])['Cloud3pm'].describe().loc[:,['mean','std']]"
   ]
  },
  {
   "cell_type": "markdown",
   "metadata": {},
   "source": [
    "#### Hypothesis Test 4: \n",
    "Null Hypothesis: The Cloud3pm values are the same for the two RainTomorrow groups.  \n",
    "Alternative Hypothesis: The Cloud3pm values are different between the two RainTomorrow groups (0 and 1). "
   ]
  },
  {
   "cell_type": "code",
   "execution_count": 53,
   "metadata": {
    "scrolled": true
   },
   "outputs": [
    {
     "data": {
      "text/plain": [
       "Ttest_indResult(statistic=-120.53126321396545, pvalue=0.0)"
      ]
     },
     "execution_count": 53,
     "metadata": {},
     "output_type": "execute_result"
    }
   ],
   "source": [
    "# t-test between Cloud3pm\n",
    "df_A = df.dropna(axis=0, subset=['Cloud3pm'])\n",
    "A = df_A[df_A['RainTomorrow']==0]['Cloud3pm']\n",
    "B = df_A[df_A['RainTomorrow']==1]['Cloud3pm']\n",
    "scipy.stats.ttest_ind(A, B)"
   ]
  },
  {
   "cell_type": "markdown",
   "metadata": {},
   "source": [
    "#### The p-value is 0. We reject the null hypothesis."
   ]
  },
  {
   "cell_type": "code",
   "execution_count": 36,
   "metadata": {
    "scrolled": false
   },
   "outputs": [
    {
     "data": {
      "text/html": [
       "<div>\n",
       "<style scoped>\n",
       "    .dataframe tbody tr th:only-of-type {\n",
       "        vertical-align: middle;\n",
       "    }\n",
       "\n",
       "    .dataframe tbody tr th {\n",
       "        vertical-align: top;\n",
       "    }\n",
       "\n",
       "    .dataframe thead th {\n",
       "        text-align: right;\n",
       "    }\n",
       "</style>\n",
       "<table border=\"1\" class=\"dataframe\">\n",
       "  <thead>\n",
       "    <tr style=\"text-align: right;\">\n",
       "      <th></th>\n",
       "      <th>count</th>\n",
       "      <th>mean</th>\n",
       "      <th>std</th>\n",
       "      <th>min</th>\n",
       "      <th>25%</th>\n",
       "      <th>50%</th>\n",
       "      <th>75%</th>\n",
       "      <th>max</th>\n",
       "    </tr>\n",
       "    <tr>\n",
       "      <th>RainTomorrow</th>\n",
       "      <th></th>\n",
       "      <th></th>\n",
       "      <th></th>\n",
       "      <th></th>\n",
       "      <th></th>\n",
       "      <th></th>\n",
       "      <th></th>\n",
       "      <th></th>\n",
       "    </tr>\n",
       "  </thead>\n",
       "  <tbody>\n",
       "    <tr>\n",
       "      <th>0</th>\n",
       "      <td>109586.0</td>\n",
       "      <td>1.270290</td>\n",
       "      <td>5.332200</td>\n",
       "      <td>0.0</td>\n",
       "      <td>0.0</td>\n",
       "      <td>0.0</td>\n",
       "      <td>0.2</td>\n",
       "      <td>240.0</td>\n",
       "    </tr>\n",
       "    <tr>\n",
       "      <th>1</th>\n",
       "      <td>31201.0</td>\n",
       "      <td>6.142104</td>\n",
       "      <td>14.318292</td>\n",
       "      <td>0.0</td>\n",
       "      <td>0.0</td>\n",
       "      <td>0.8</td>\n",
       "      <td>6.2</td>\n",
       "      <td>371.0</td>\n",
       "    </tr>\n",
       "  </tbody>\n",
       "</table>\n",
       "</div>"
      ],
      "text/plain": [
       "                 count      mean        std  min  25%  50%  75%    max\n",
       "RainTomorrow                                                          \n",
       "0             109586.0  1.270290   5.332200  0.0  0.0  0.0  0.2  240.0\n",
       "1              31201.0  6.142104  14.318292  0.0  0.0  0.8  6.2  371.0"
      ]
     },
     "execution_count": 36,
     "metadata": {},
     "output_type": "execute_result"
    },
    {
     "data": {
      "image/png": "[encoded data removed]",
      "text/plain": [
       "<Figure size 432x288 with 1 Axes>"
      ]
     },
     "metadata": {
      "needs_background": "light"
     },
     "output_type": "display_data"
    },
    {
     "data": {
      "image/png": "[encoded data removed]",
      "text/plain": [
       "<Figure size 432x288 with 1 Axes>"
      ]
     },
     "metadata": {
      "needs_background": "light"
     },
     "output_type": "display_data"
    }
   ],
   "source": [
    "#distribution of rainfall data\n",
    "ax = (df['Rainfall']).hist(bins=50) \n",
    "ax.set_ylabel('counts')\n",
    "ax.set_xlabel('Rainfall')\n",
    "ax.set_title('Distribution of Rainfall Data')\n",
    "\n",
    "df.boxplot(column=['Rainfall'],by = ['RainTomorrow'])\n",
    "plt.tight_layout()\n",
    "\n",
    "df.groupby( ['RainTomorrow'])['Rainfall'].describe().loc[:,['mean','std']]\n",
    "df.groupby( ['RainTomorrow'])['Rainfall'].describe()"
   ]
  },
  {
   "cell_type": "code",
   "execution_count": 35,
   "metadata": {},
   "outputs": [
    {
     "data": {
      "text/plain": [
       "Ttest_indResult(statistic=-92.36541729279263, pvalue=0.0)"
      ]
     },
     "execution_count": 35,
     "metadata": {},
     "output_type": "execute_result"
    }
   ],
   "source": [
    "df_A = df.dropna(axis=0, subset=['Rainfall'])\n",
    "A = df_A[df_A['RainTomorrow']==0]['Rainfall']\n",
    "B = df_A[df_A['RainTomorrow']==1]['Rainfall']\n",
    "scipy.stats.ttest_ind(A, B)"
   ]
  },
  {
   "cell_type": "code",
   "execution_count": 55,
   "metadata": {
    "scrolled": false
   },
   "outputs": [
    {
     "data": {
      "image/png": "[encoded data removed]",
      "text/plain": [
       "<Figure size 750x525 with 25 Axes>"
      ]
     },
     "metadata": {
      "needs_background": "light"
     },
     "output_type": "display_data"
    }
   ],
   "source": [
    "# Should get all values that are above 100 as these could be errors (based on the histogram)\n",
    "len(df[df['Rainfall']>100])\n",
    "df[df['Rainfall']>100].hist(figsize=(10,7))\n",
    "plt.subplots_adjust(hspace=1);"
   ]
  },
  {
   "cell_type": "code",
   "execution_count": 56,
   "metadata": {
    "scrolled": false
   },
   "outputs": [
    {
     "data": {
      "text/plain": [
       "14"
      ]
     },
     "execution_count": 56,
     "metadata": {},
     "output_type": "execute_result"
    }
   ],
   "source": [
    "# there are 151 entries with Rainfall values above 100, this does not seem like it is an error. These are real rainfall measurments.\n",
    "# try setting the threshhold higher to 200)\n",
    "len(df[df['Rainfall']>200])\n"
   ]
  },
  {
   "cell_type": "code",
   "execution_count": 57,
   "metadata": {
    "scrolled": true
   },
   "outputs": [],
   "source": [
    "# There are 14 records with Rainfall values above 200"
   ]
  },
  {
   "cell_type": "code",
   "execution_count": 58,
   "metadata": {},
   "outputs": [
    {
     "name": "stdout",
     "output_type": "stream",
     "text": [
      "137968\n",
      "142193\n",
      "0.96\n"
     ]
    }
   ],
   "source": [
    "# It doesn't seem like these are errors... just very few records with large amount of rainfall.\n",
    "# Now we will examine the Rainfall data that are less than or equal to 25 \n",
    "print(len(df[df['Rainfall']<=25]))\n",
    "print(len(df))\n",
    "# Calculate how much of the data fall under a rainfall value of 25\n",
    "print(round(139329/145460, 2))"
   ]
  },
  {
   "cell_type": "markdown",
   "metadata": {},
   "source": [
    "#### Initial Observations about Numerical data\n",
    "1. Some features could be related to RainTomorrow such as Humidity, and Cloud3pm, based on the results of a t-test.\n",
    "2. Cloud3pm and Cloud9am are not normally distributed, and approximately half the records are null for the Cloud columns.\n",
    "3. Rainfall data is very skewed to the left. ~96% of the data fall under a Rainfall value of 25, while the remaining ~4% of the data are spread out to a max value of 371.\n"
   ]
  },
  {
   "cell_type": "markdown",
   "metadata": {},
   "source": [
    "### Drop columns that are unnecessary: Date, Humidity9am, Pressure9am, Cloud9am, WindDir9am, WindDir3pm, WindSpeed9am, WindSpeed3pm"
   ]
  },
  {
   "cell_type": "code",
   "execution_count": 59,
   "metadata": {
    "scrolled": false
   },
   "outputs": [
    {
     "data": {
      "text/plain": [
       "Index(['Date', 'Location', 'MinTemp', 'MaxTemp', 'Rainfall', 'Evaporation',\n",
       "       'Sunshine', 'WindGustDir', 'WindGustSpeed', 'WindDir9am', 'WindDir3pm',\n",
       "       'WindSpeed9am', 'WindSpeed3pm', 'Humidity9am', 'Humidity3pm',\n",
       "       'Pressure9am', 'Pressure3pm', 'Cloud9am', 'Cloud3pm', 'Temp9am',\n",
       "       'Temp3pm', 'RainToday', 'RainTomorrow', 'Month', 'Year',\n",
       "       'Pressure_Diff', 'Humidity_Diff'],\n",
       "      dtype='object')"
      ]
     },
     "execution_count": 59,
     "metadata": {},
     "output_type": "execute_result"
    }
   ],
   "source": [
    "df.columns"
   ]
  },
  {
   "cell_type": "code",
   "execution_count": 60,
   "metadata": {
    "scrolled": true
   },
   "outputs": [
    {
     "data": {
      "text/html": [
       "<div>\n",
       "<style scoped>\n",
       "    .dataframe tbody tr th:only-of-type {\n",
       "        vertical-align: middle;\n",
       "    }\n",
       "\n",
       "    .dataframe tbody tr th {\n",
       "        vertical-align: top;\n",
       "    }\n",
       "\n",
       "    .dataframe thead th {\n",
       "        text-align: right;\n",
       "    }\n",
       "</style>\n",
       "<table border=\"1\" class=\"dataframe\">\n",
       "  <thead>\n",
       "    <tr style=\"text-align: right;\">\n",
       "      <th></th>\n",
       "      <th>Location</th>\n",
       "      <th>MinTemp</th>\n",
       "      <th>MaxTemp</th>\n",
       "      <th>Rainfall</th>\n",
       "      <th>Evaporation</th>\n",
       "      <th>Sunshine</th>\n",
       "      <th>WindGustDir</th>\n",
       "      <th>WindGustSpeed</th>\n",
       "      <th>Humidity3pm</th>\n",
       "      <th>Pressure3pm</th>\n",
       "      <th>Cloud3pm</th>\n",
       "      <th>RainToday</th>\n",
       "      <th>RainTomorrow</th>\n",
       "      <th>Month</th>\n",
       "      <th>Year</th>\n",
       "      <th>Pressure_Diff</th>\n",
       "      <th>Humidity_Diff</th>\n",
       "    </tr>\n",
       "  </thead>\n",
       "  <tbody>\n",
       "    <tr>\n",
       "      <th>0</th>\n",
       "      <td>Albury</td>\n",
       "      <td>13.4</td>\n",
       "      <td>22.9</td>\n",
       "      <td>0.6</td>\n",
       "      <td>NaN</td>\n",
       "      <td>NaN</td>\n",
       "      <td>W</td>\n",
       "      <td>44.0</td>\n",
       "      <td>22.0</td>\n",
       "      <td>1007.1</td>\n",
       "      <td>NaN</td>\n",
       "      <td>0.0</td>\n",
       "      <td>0</td>\n",
       "      <td>12</td>\n",
       "      <td>2008</td>\n",
       "      <td>-0.6</td>\n",
       "      <td>-49.0</td>\n",
       "    </tr>\n",
       "    <tr>\n",
       "      <th>1</th>\n",
       "      <td>Albury</td>\n",
       "      <td>7.4</td>\n",
       "      <td>25.1</td>\n",
       "      <td>0.0</td>\n",
       "      <td>NaN</td>\n",
       "      <td>NaN</td>\n",
       "      <td>WNW</td>\n",
       "      <td>44.0</td>\n",
       "      <td>25.0</td>\n",
       "      <td>1007.8</td>\n",
       "      <td>NaN</td>\n",
       "      <td>0.0</td>\n",
       "      <td>0</td>\n",
       "      <td>12</td>\n",
       "      <td>2008</td>\n",
       "      <td>-2.8</td>\n",
       "      <td>-19.0</td>\n",
       "    </tr>\n",
       "    <tr>\n",
       "      <th>2</th>\n",
       "      <td>Albury</td>\n",
       "      <td>12.9</td>\n",
       "      <td>25.7</td>\n",
       "      <td>0.0</td>\n",
       "      <td>NaN</td>\n",
       "      <td>NaN</td>\n",
       "      <td>WSW</td>\n",
       "      <td>46.0</td>\n",
       "      <td>30.0</td>\n",
       "      <td>1008.7</td>\n",
       "      <td>2.0</td>\n",
       "      <td>0.0</td>\n",
       "      <td>0</td>\n",
       "      <td>12</td>\n",
       "      <td>2008</td>\n",
       "      <td>1.1</td>\n",
       "      <td>-8.0</td>\n",
       "    </tr>\n",
       "  </tbody>\n",
       "</table>\n",
       "</div>"
      ],
      "text/plain": [
       "  Location  MinTemp  MaxTemp  Rainfall  Evaporation  Sunshine WindGustDir  \\\n",
       "0   Albury     13.4     22.9       0.6          NaN       NaN           W   \n",
       "1   Albury      7.4     25.1       0.0          NaN       NaN         WNW   \n",
       "2   Albury     12.9     25.7       0.0          NaN       NaN         WSW   \n",
       "\n",
       "   WindGustSpeed  Humidity3pm  Pressure3pm  Cloud3pm  RainToday  RainTomorrow  \\\n",
       "0           44.0         22.0       1007.1       NaN        0.0             0   \n",
       "1           44.0         25.0       1007.8       NaN        0.0             0   \n",
       "2           46.0         30.0       1008.7       2.0        0.0             0   \n",
       "\n",
       "   Month  Year  Pressure_Diff  Humidity_Diff  \n",
       "0     12  2008           -0.6          -49.0  \n",
       "1     12  2008           -2.8          -19.0  \n",
       "2     12  2008            1.1           -8.0  "
      ]
     },
     "execution_count": 60,
     "metadata": {},
     "output_type": "execute_result"
    }
   ],
   "source": [
    "df = df.drop(['Date','Humidity9am', 'Pressure9am', 'Cloud9am', 'WindDir9am', 'WindDir3pm',\n",
    "       'WindSpeed9am', 'WindSpeed3pm', 'Temp9am',\n",
    "       'Temp3pm' ], axis = 1)\n",
    "df.head(3)"
   ]
  },
  {
   "cell_type": "code",
   "execution_count": 61,
   "metadata": {
    "scrolled": true
   },
   "outputs": [
    {
     "name": "stdout",
     "output_type": "stream",
     "text": [
      "<class 'pandas.core.frame.DataFrame'>\n",
      "Int64Index: 142193 entries, 0 to 145458\n",
      "Data columns (total 17 columns):\n",
      " #   Column         Non-Null Count   Dtype  \n",
      "---  ------         --------------   -----  \n",
      " 0   Location       142193 non-null  object \n",
      " 1   MinTemp        141556 non-null  float64\n",
      " 2   MaxTemp        141871 non-null  float64\n",
      " 3   Rainfall       140787 non-null  float64\n",
      " 4   Evaporation    81350 non-null   float64\n",
      " 5   Sunshine       74377 non-null   float64\n",
      " 6   WindGustDir    132863 non-null  object \n",
      " 7   WindGustSpeed  132923 non-null  float64\n",
      " 8   Humidity3pm    138583 non-null  float64\n",
      " 9   Pressure3pm    128212 non-null  float64\n",
      " 10  Cloud3pm       85099 non-null   float64\n",
      " 11  RainToday      140787 non-null  float64\n",
      " 12  RainTomorrow   142193 non-null  int64  \n",
      " 13  Month          142193 non-null  int64  \n",
      " 14  Year           142193 non-null  int64  \n",
      " 15  Pressure_Diff  127989 non-null  float64\n",
      " 16  Humidity_Diff  137907 non-null  float64\n",
      "dtypes: float64(12), int64(3), object(2)\n",
      "memory usage: 19.5+ MB\n"
     ]
    }
   ],
   "source": [
    "df.info()"
   ]
  },
  {
   "cell_type": "markdown",
   "metadata": {},
   "source": [
    "### EDA summary:\n",
    "We see that categorical features Location and WindGustDir are associated with the RainTomorrow target feature as shown by the results of the statistical tests.\n",
    "A Number of the numerical features also show a significant association with the RainTomorrow feature.\n",
    "Dates have been converted to months and years in order to account for seasonal changes (months) and climate change (years). Redundant columns were dropped.\n",
    "There are still issues to address before the data is ready for modeling. There are 3 columns where null values will be imputed (Sunshine, Evaporation, and Cloud3pm). "
   ]
  },
  {
   "cell_type": "markdown",
   "metadata": {},
   "source": [
    "### Output of the cleaned data:"
   ]
  },
  {
   "cell_type": "code",
   "execution_count": 63,
   "metadata": {},
   "outputs": [],
   "source": [
    "df.to_csv(r'/Users/sangeetajayakar/Springboard_Course/Files_for_second_capstone/weatherAUS_files/rain_data_cleaned_4.csv')"
   ]
  }
 ],
 "metadata": {
  "kernelspec": {
   "display_name": "Python 3",
   "language": "python",
   "name": "python3"
  },
  "language_info": {
   "codemirror_mode": {
    "name": "ipython",
    "version": 3
   },
   "file_extension": ".py",
   "mimetype": "text/x-python",
   "name": "python",
   "nbconvert_exporter": "python",
   "pygments_lexer": "ipython3",
   "version": "3.8.5"
  }
 },
 "nbformat": 4,
 "nbformat_minor": 4
}
