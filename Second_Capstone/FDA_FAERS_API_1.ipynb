{
 "cells": [
  {
   "cell_type": "code",
   "execution_count": 54,
   "metadata": {},
   "outputs": [],
   "source": [
    "#imports\n",
    "import requests\n",
    "import collections\n",
    "import json\n",
    "import pandas as pd\n",
    "import numpy as np\n",
    "import matplotlib.pyplot as plt \n",
    "import os\n",
    "import pprint"
   ]
  },
  {
   "cell_type": "code",
   "execution_count": 16,
   "metadata": {},
   "outputs": [],
   "source": [
    "#get data from FDA API\n",
    "# Store the API key as a string - according to PEP8, constants are always named in all upper case\n",
    "API_KEY = 'key'\n"
   ]
  },
  {
   "cell_type": "code",
   "execution_count": 15,
   "metadata": {},
   "outputs": [],
   "source": [
    "url= 'https://api.fda.gov/drug/event.json?search=patient.drug.drugindication:\"cholesterol\"&limit=1&api_key='+API_KEY\n",
    "r = requests.get(url)"
   ]
  },
  {
   "cell_type": "code",
   "execution_count": 12,
   "metadata": {
    "scrolled": true
   },
   "outputs": [
    {
     "name": "stdout",
     "output_type": "stream",
     "text": [
      "{'meta': {'disclaimer': 'Do not rely on openFDA to make decisions regarding '\n",
      "                        'medical care. While we make every effort to ensure '\n",
      "                        'that data is accurate, you should assume all results '\n",
      "                        'are unvalidated. We may limit or otherwise restrict '\n",
      "                        'your access to the API in line with our Terms of '\n",
      "                        'Service.',\n",
      "          'last_updated': '2021-01-28',\n",
      "          'license': 'https://open.fda.gov/license/',\n",
      "          'results': {'limit': 1, 'skip': 0, 'total': 171223},\n",
      "          'terms': 'https://open.fda.gov/terms/'},\n",
      " 'results': [{'companynumb': 'US-B.I. '\n",
      "                             'PHARMACEUTICALS,INC./RIDGEFIELD-2014-BI-09473BP',\n",
      "              'duplicate': '1',\n",
      "              'fulfillexpeditecriteria': '2',\n",
      "              'occurcountry': 'US',\n",
      "              'patient': {'drug': [{'actiondrug': '4',\n",
      "                                    'drugadministrationroute': '048',\n",
      "                                    'drugauthorizationnumb': '022512',\n",
      "                                    'drugcharacterization': '1',\n",
      "                                    'drugdosageform': 'CAPSULE',\n",
      "                                    'drugdosagetext': '300 MG',\n",
      "                                    'drugindication': 'CEREBROVASCULAR '\n",
      "                                                      'ACCIDENT PROPHYLAXIS',\n",
      "                                    'drugintervaldosagedefinition': '804',\n",
      "                                    'drugintervaldosageunitnumb': '1',\n",
      "                                    'drugseparatedosagenumb': '2',\n",
      "                                    'drugstartdate': '2011',\n",
      "                                    'drugstartdateformat': '602',\n",
      "                                    'drugstructuredosagenumb': '150',\n",
      "                                    'drugstructuredosageunit': '003',\n",
      "                                    'medicinalproduct': 'PRADAXA',\n",
      "                                    'openfda': {'application_number': ['NDA022512'],\n",
      "                                                'brand_name': ['PRADAXA'],\n",
      "                                                'generic_name': ['DABIGATRAN '\n",
      "                                                                 'ETEXILATE '\n",
      "                                                                 'MESYLATE'],\n",
      "                                                'manufacturer_name': ['Boehringer '\n",
      "                                                                      'Ingelheim '\n",
      "                                                                      'Pharmaceuticals '\n",
      "                                                                      'Inc.'],\n",
      "                                                'package_ndc': ['0597-0108-54',\n",
      "                                                                '0597-0108-60',\n",
      "                                                                '0597-0355-09',\n",
      "                                                                '0597-0355-56',\n",
      "                                                                '0597-0355-53',\n",
      "                                                                '0597-0360-55',\n",
      "                                                                '0597-0360-42',\n",
      "                                                                '0597-0360-82'],\n",
      "                                                'product_ndc': ['0597-0108',\n",
      "                                                                '0597-0355',\n",
      "                                                                '0597-0360'],\n",
      "                                                'product_type': ['HUMAN '\n",
      "                                                                 'PRESCRIPTION '\n",
      "                                                                 'DRUG'],\n",
      "                                                'route': ['ORAL'],\n",
      "                                                'rxcui': ['1037045',\n",
      "                                                          '1037049',\n",
      "                                                          '1037179',\n",
      "                                                          '1037181',\n",
      "                                                          '1723476',\n",
      "                                                          '1723478'],\n",
      "                                                'spl_id': ['fdeb89cd-11fc-4393-8fe7-a497e11a9cc8'],\n",
      "                                                'spl_set_id': ['ba74e3cd-b06f-4145-b284-5fd6b84ff3c9'],\n",
      "                                                'substance_name': ['DABIGATRAN '\n",
      "                                                                   'ETEXILATE '\n",
      "                                                                   'MESYLATE'],\n",
      "                                                'unii': ['SC7NUW5IIT']}},\n",
      "                                   {'drugadministrationroute': '065',\n",
      "                                    'drugcharacterization': '2',\n",
      "                                    'drugindication': 'HYPERTENSION',\n",
      "                                    'medicinalproduct': 'LOSARTAN'},\n",
      "                                   {'drugadministrationroute': '065',\n",
      "                                    'drugcharacterization': '2',\n",
      "                                    'drugindication': 'BLOOD CHOLESTEROL '\n",
      "                                                      'INCREASED',\n",
      "                                    'medicinalproduct': 'CRESTOR',\n",
      "                                    'openfda': {'application_number': ['NDA021366'],\n",
      "                                                'brand_name': ['CRESTOR'],\n",
      "                                                'generic_name': ['ROSUVASTATIN '\n",
      "                                                                 'CALCIUM'],\n",
      "                                                'manufacturer_name': ['AstraZeneca '\n",
      "                                                                      'Pharmaceuticals '\n",
      "                                                                      'LP'],\n",
      "                                                'package_ndc': ['0310-0755-90',\n",
      "                                                                '0310-0751-90',\n",
      "                                                                '0310-0751-39',\n",
      "                                                                '0310-0752-90',\n",
      "                                                                '0310-0752-39',\n",
      "                                                                '0310-0754-30'],\n",
      "                                                'product_ndc': ['0310-0751',\n",
      "                                                                '0310-0755',\n",
      "                                                                '0310-0752',\n",
      "                                                                '0310-0754'],\n",
      "                                                'product_type': ['HUMAN '\n",
      "                                                                 'PRESCRIPTION '\n",
      "                                                                 'DRUG'],\n",
      "                                                'route': ['ORAL'],\n",
      "                                                'rxcui': ['859419',\n",
      "                                                          '859421',\n",
      "                                                          '859424',\n",
      "                                                          '859426',\n",
      "                                                          '859747',\n",
      "                                                          '859749',\n",
      "                                                          '859751',\n",
      "                                                          '859753'],\n",
      "                                                'spl_id': ['0abd2d1e-ee9a-4738-ad7e-610a2caa24ab'],\n",
      "                                                'spl_set_id': ['bb0f3b5e-4bc6-41c9-66b9-6257e2513512'],\n",
      "                                                'substance_name': ['ROSUVASTATIN '\n",
      "                                                                   'CALCIUM'],\n",
      "                                                'unii': ['83MVU38M7Q']}},\n",
      "                                   {'drugadministrationroute': '065',\n",
      "                                    'drugcharacterization': '2',\n",
      "                                    'drugindication': 'TYPE 2 DIABETES '\n",
      "                                                      'MELLITUS',\n",
      "                                    'medicinalproduct': 'DIABETES MEDICATION'}],\n",
      "                          'patientonsetage': '80',\n",
      "                          'patientonsetageunit': '801',\n",
      "                          'patientsex': '1',\n",
      "                          'reaction': [{'reactionmeddrapt': 'Proctalgia',\n",
      "                                        'reactionmeddraversionpt': '17.0',\n",
      "                                        'reactionoutcome': '3'},\n",
      "                                       {'reactionmeddrapt': 'Anorectal '\n",
      "                                                            'discomfort',\n",
      "                                        'reactionmeddraversionpt': '17.0',\n",
      "                                        'reactionoutcome': '3'},\n",
      "                                       {'reactionmeddrapt': 'Rectal '\n",
      "                                                            'haemorrhage',\n",
      "                                        'reactionmeddraversionpt': '17.0',\n",
      "                                        'reactionoutcome': '3'}]},\n",
      "              'primarysource': {'qualification': '5', 'reportercountry': 'US'},\n",
      "              'primarysourcecountry': 'US',\n",
      "              'receiptdate': '20140312',\n",
      "              'receiptdateformat': '102',\n",
      "              'receivedate': '20140312',\n",
      "              'receivedateformat': '102',\n",
      "              'receiver': {'receiverorganization': 'FDA', 'receivertype': '6'},\n",
      "              'reportduplicate': {'duplicatenumb': 'US-B.I. '\n",
      "                                                   'PHARMACEUTICALS,INC./RIDGEFIELD-2014-BI-09473BP',\n",
      "                                  'duplicatesource': 'BOEHRINGER INGELHEIM'},\n",
      "              'reporttype': '1',\n",
      "              'safetyreportid': '10003332',\n",
      "              'safetyreportversion': '1',\n",
      "              'sender': {'senderorganization': 'FDA-Public Use',\n",
      "                         'sendertype': '2'},\n",
      "              'serious': '2',\n",
      "              'transmissiondate': '20141002',\n",
      "              'transmissiondateformat': '102'}]}\n"
     ]
    }
   ],
   "source": [
    "json_data = r.json()\n",
    "pprint.pprint(json_data)"
   ]
  },
  {
   "cell_type": "code",
   "execution_count": 40,
   "metadata": {
    "scrolled": false
   },
   "outputs": [
    {
     "name": "stdout",
     "output_type": "stream",
     "text": [
      "Do not rely on openFDA to make decisions regarding medical care. While we make every effort to ensure that data is accurate, you should assume all results are unvalidated. We may limit or otherwise restrict your access to the API in line with our Terms of Service.\n"
     ]
    }
   ],
   "source": [
    "print(json_data['meta']['disclaimer'])"
   ]
  },
  {
   "cell_type": "code",
   "execution_count": 79,
   "metadata": {},
   "outputs": [
    {
     "data": {
      "text/plain": [
       "dict"
      ]
     },
     "execution_count": 79,
     "metadata": {},
     "output_type": "execute_result"
    }
   ],
   "source": [
    "# what type is json_data\n",
    "type(json_data)"
   ]
  },
  {
   "cell_type": "code",
   "execution_count": 41,
   "metadata": {},
   "outputs": [
    {
     "name": "stdout",
     "output_type": "stream",
     "text": [
      "['PRADAXA']\n"
     ]
    }
   ],
   "source": [
    "pprint.pprint(json_data['results'][0]['patient']['drug'][0]['openfda']['brand_name'])"
   ]
  },
  {
   "cell_type": "code",
   "execution_count": 42,
   "metadata": {},
   "outputs": [],
   "source": [
    " brand_name = (json_data['results'][0]['patient']['drug'][0]['openfda']['brand_name'])"
   ]
  },
  {
   "cell_type": "code",
   "execution_count": 78,
   "metadata": {},
   "outputs": [
    {
     "data": {
      "text/plain": [
       "list"
      ]
     },
     "execution_count": 78,
     "metadata": {},
     "output_type": "execute_result"
    }
   ],
   "source": [
    "type(brand_name)"
   ]
  },
  {
   "cell_type": "code",
   "execution_count": 43,
   "metadata": {
    "scrolled": false
   },
   "outputs": [
    {
     "name": "stdout",
     "output_type": "stream",
     "text": [
      "'Proctalgia'\n"
     ]
    }
   ],
   "source": [
    "pprint.pprint(json_data['results'][0]['patient']['reaction'][0]['reactionmeddrapt'])"
   ]
  },
  {
   "cell_type": "code",
   "execution_count": 44,
   "metadata": {},
   "outputs": [
    {
     "data": {
      "text/plain": [
       "'Proctalgia'"
      ]
     },
     "execution_count": 44,
     "metadata": {},
     "output_type": "execute_result"
    }
   ],
   "source": [
    "reaction = (json_data['results'][0]['patient']['reaction'][0]['reactionmeddrapt'])\n",
    "reaction"
   ]
  },
  {
   "cell_type": "code",
   "execution_count": 80,
   "metadata": {},
   "outputs": [
    {
     "data": {
      "text/plain": [
       "str"
      ]
     },
     "execution_count": 80,
     "metadata": {},
     "output_type": "execute_result"
    }
   ],
   "source": [
    "type(reaction)"
   ]
  },
  {
   "cell_type": "code",
   "execution_count": 50,
   "metadata": {},
   "outputs": [
    {
     "name": "stdout",
     "output_type": "stream",
     "text": [
      "{'actiondrug': '4',\n",
      " 'drugadministrationroute': '048',\n",
      " 'drugauthorizationnumb': '022512',\n",
      " 'drugcharacterization': '1',\n",
      " 'drugdosageform': 'CAPSULE',\n",
      " 'drugdosagetext': '300 MG',\n",
      " 'drugindication': 'CEREBROVASCULAR ACCIDENT PROPHYLAXIS',\n",
      " 'drugintervaldosagedefinition': '804',\n",
      " 'drugintervaldosageunitnumb': '1',\n",
      " 'drugseparatedosagenumb': '2',\n",
      " 'drugstartdate': '2011',\n",
      " 'drugstartdateformat': '602',\n",
      " 'drugstructuredosagenumb': '150',\n",
      " 'drugstructuredosageunit': '003',\n",
      " 'medicinalproduct': 'PRADAXA',\n",
      " 'openfda': {'application_number': ['NDA022512'],\n",
      "             'brand_name': ['PRADAXA'],\n",
      "             'generic_name': ['DABIGATRAN ETEXILATE MESYLATE'],\n",
      "             'manufacturer_name': ['Boehringer Ingelheim Pharmaceuticals Inc.'],\n",
      "             'package_ndc': ['0597-0108-54',\n",
      "                             '0597-0108-60',\n",
      "                             '0597-0355-09',\n",
      "                             '0597-0355-56',\n",
      "                             '0597-0355-53',\n",
      "                             '0597-0360-55',\n",
      "                             '0597-0360-42',\n",
      "                             '0597-0360-82'],\n",
      "             'product_ndc': ['0597-0108', '0597-0355', '0597-0360'],\n",
      "             'product_type': ['HUMAN PRESCRIPTION DRUG'],\n",
      "             'route': ['ORAL'],\n",
      "             'rxcui': ['1037045',\n",
      "                       '1037049',\n",
      "                       '1037179',\n",
      "                       '1037181',\n",
      "                       '1723476',\n",
      "                       '1723478'],\n",
      "             'spl_id': ['fdeb89cd-11fc-4393-8fe7-a497e11a9cc8'],\n",
      "             'spl_set_id': ['ba74e3cd-b06f-4145-b284-5fd6b84ff3c9'],\n",
      "             'substance_name': ['DABIGATRAN ETEXILATE MESYLATE'],\n",
      "             'unii': ['SC7NUW5IIT']}}\n"
     ]
    }
   ],
   "source": [
    "pprint.pprint(json_data['results'][0]['patient']['drug'][0])"
   ]
  },
  {
   "cell_type": "code",
   "execution_count": 52,
   "metadata": {},
   "outputs": [
    {
     "data": {
      "text/plain": [
       "\"import json\\nresult = json.loads(url)  # result is now a dict\\nprint(result['meta']['disclaimer'])\\n\\nreturn requests.get(url).json()\\n\""
      ]
     },
     "execution_count": 52,
     "metadata": {},
     "output_type": "execute_result"
    }
   ],
   "source": [
    "'''import json\n",
    "result = json.loads(url)  # result is now a dict\n",
    "print(result['meta']['disclaimer'])\n",
    "\n",
    "return requests.get(url).json()\n",
    "'''"
   ]
  },
  {
   "cell_type": "code",
   "execution_count": 56,
   "metadata": {
    "scrolled": true
   },
   "outputs": [
    {
     "data": {
      "text/html": [
       "<div>\n",
       "<style scoped>\n",
       "    .dataframe tbody tr th:only-of-type {\n",
       "        vertical-align: middle;\n",
       "    }\n",
       "\n",
       "    .dataframe tbody tr th {\n",
       "        vertical-align: top;\n",
       "    }\n",
       "\n",
       "    .dataframe thead th {\n",
       "        text-align: right;\n",
       "    }\n",
       "</style>\n",
       "<table border=\"1\" class=\"dataframe\">\n",
       "  <thead>\n",
       "    <tr style=\"text-align: right;\">\n",
       "      <th></th>\n",
       "      <th>results</th>\n",
       "      <th>meta.disclaimer</th>\n",
       "      <th>meta.terms</th>\n",
       "      <th>meta.license</th>\n",
       "      <th>meta.last_updated</th>\n",
       "      <th>meta.results.skip</th>\n",
       "      <th>meta.results.limit</th>\n",
       "      <th>meta.results.total</th>\n",
       "    </tr>\n",
       "  </thead>\n",
       "  <tbody>\n",
       "    <tr>\n",
       "      <th>0</th>\n",
       "      <td>[{'reporttype': '1', 'receiptdateformat': '102...</td>\n",
       "      <td>Do not rely on openFDA to make decisions regar...</td>\n",
       "      <td>https://open.fda.gov/terms/</td>\n",
       "      <td>https://open.fda.gov/license/</td>\n",
       "      <td>2021-01-28</td>\n",
       "      <td>0</td>\n",
       "      <td>1</td>\n",
       "      <td>171223</td>\n",
       "    </tr>\n",
       "  </tbody>\n",
       "</table>\n",
       "</div>"
      ],
      "text/plain": [
       "                                             results  \\\n",
       "0  [{'reporttype': '1', 'receiptdateformat': '102...   \n",
       "\n",
       "                                     meta.disclaimer  \\\n",
       "0  Do not rely on openFDA to make decisions regar...   \n",
       "\n",
       "                    meta.terms                   meta.license  \\\n",
       "0  https://open.fda.gov/terms/  https://open.fda.gov/license/   \n",
       "\n",
       "  meta.last_updated  meta.results.skip  meta.results.limit  meta.results.total  \n",
       "0        2021-01-28                  0                   1              171223  "
      ]
     },
     "execution_count": 56,
     "metadata": {},
     "output_type": "execute_result"
    }
   ],
   "source": [
    "# trying the pandas function: json_normalize()\n",
    "pd.json_normalize(json_data)\n",
    "#why is it only printing the meta?"
   ]
  },
  {
   "cell_type": "code",
   "execution_count": 68,
   "metadata": {
    "scrolled": false
   },
   "outputs": [
    {
     "data": {
      "text/html": [
       "<div>\n",
       "<style scoped>\n",
       "    .dataframe tbody tr th:only-of-type {\n",
       "        vertical-align: middle;\n",
       "    }\n",
       "\n",
       "    .dataframe tbody tr th {\n",
       "        vertical-align: top;\n",
       "    }\n",
       "\n",
       "    .dataframe thead th {\n",
       "        text-align: right;\n",
       "    }\n",
       "</style>\n",
       "<table border=\"1\" class=\"dataframe\">\n",
       "  <thead>\n",
       "    <tr style=\"text-align: right;\">\n",
       "      <th></th>\n",
       "      <th>reporttype</th>\n",
       "      <th>receiptdateformat</th>\n",
       "      <th>companynumb</th>\n",
       "      <th>occurcountry</th>\n",
       "      <th>safetyreportversion</th>\n",
       "      <th>receivedateformat</th>\n",
       "      <th>duplicate</th>\n",
       "      <th>transmissiondateformat</th>\n",
       "      <th>fulfillexpeditecriteria</th>\n",
       "      <th>safetyreportid</th>\n",
       "      <th>...</th>\n",
       "      <th>primarysource.qualification</th>\n",
       "      <th>sender.sendertype</th>\n",
       "      <th>sender.senderorganization</th>\n",
       "      <th>patient.patientonsetage</th>\n",
       "      <th>patient.patientonsetageunit</th>\n",
       "      <th>patient.patientsex</th>\n",
       "      <th>patient.reaction</th>\n",
       "      <th>patient.drug</th>\n",
       "      <th>reportduplicate.duplicatesource</th>\n",
       "      <th>reportduplicate.duplicatenumb</th>\n",
       "    </tr>\n",
       "  </thead>\n",
       "  <tbody>\n",
       "    <tr>\n",
       "      <th>0</th>\n",
       "      <td>1</td>\n",
       "      <td>102</td>\n",
       "      <td>US-B.I. PHARMACEUTICALS,INC./RIDGEFIELD-2014-B...</td>\n",
       "      <td>US</td>\n",
       "      <td>1</td>\n",
       "      <td>102</td>\n",
       "      <td>1</td>\n",
       "      <td>102</td>\n",
       "      <td>2</td>\n",
       "      <td>10003332</td>\n",
       "      <td>...</td>\n",
       "      <td>5</td>\n",
       "      <td>2</td>\n",
       "      <td>FDA-Public Use</td>\n",
       "      <td>80</td>\n",
       "      <td>801</td>\n",
       "      <td>1</td>\n",
       "      <td>[{'reactionmeddraversionpt': '17.0', 'reaction...</td>\n",
       "      <td>[{'drugcharacterization': '1', 'medicinalprodu...</td>\n",
       "      <td>BOEHRINGER INGELHEIM</td>\n",
       "      <td>US-B.I. PHARMACEUTICALS,INC./RIDGEFIELD-2014-B...</td>\n",
       "    </tr>\n",
       "  </tbody>\n",
       "</table>\n",
       "<p>1 rows × 28 columns</p>\n",
       "</div>"
      ],
      "text/plain": [
       "  reporttype receiptdateformat  \\\n",
       "0          1               102   \n",
       "\n",
       "                                         companynumb occurcountry  \\\n",
       "0  US-B.I. PHARMACEUTICALS,INC./RIDGEFIELD-2014-B...           US   \n",
       "\n",
       "  safetyreportversion receivedateformat duplicate transmissiondateformat  \\\n",
       "0                   1               102         1                    102   \n",
       "\n",
       "  fulfillexpeditecriteria safetyreportid  ... primarysource.qualification  \\\n",
       "0                       2       10003332  ...                           5   \n",
       "\n",
       "  sender.sendertype sender.senderorganization patient.patientonsetage  \\\n",
       "0                 2            FDA-Public Use                      80   \n",
       "\n",
       "  patient.patientonsetageunit patient.patientsex  \\\n",
       "0                         801                  1   \n",
       "\n",
       "                                    patient.reaction  \\\n",
       "0  [{'reactionmeddraversionpt': '17.0', 'reaction...   \n",
       "\n",
       "                                        patient.drug  \\\n",
       "0  [{'drugcharacterization': '1', 'medicinalprodu...   \n",
       "\n",
       "  reportduplicate.duplicatesource  \\\n",
       "0            BOEHRINGER INGELHEIM   \n",
       "\n",
       "                       reportduplicate.duplicatenumb  \n",
       "0  US-B.I. PHARMACEUTICALS,INC./RIDGEFIELD-2014-B...  \n",
       "\n",
       "[1 rows x 28 columns]"
      ]
     },
     "execution_count": 68,
     "metadata": {},
     "output_type": "execute_result"
    }
   ],
   "source": [
    "# trying to extract the 'results' dictionary\n",
    "pd.json_normalize(json_data['results'])"
   ]
  },
  {
   "cell_type": "code",
   "execution_count": 101,
   "metadata": {},
   "outputs": [
    {
     "data": {
      "text/plain": [
       "{'patientonsetage': '80',\n",
       " 'patientonsetageunit': '801',\n",
       " 'patientsex': '1',\n",
       " 'reaction': [{'reactionmeddraversionpt': '17.0',\n",
       "   'reactionmeddrapt': 'Proctalgia',\n",
       "   'reactionoutcome': '3'},\n",
       "  {'reactionmeddraversionpt': '17.0',\n",
       "   'reactionmeddrapt': 'Anorectal discomfort',\n",
       "   'reactionoutcome': '3'},\n",
       "  {'reactionmeddraversionpt': '17.0',\n",
       "   'reactionmeddrapt': 'Rectal haemorrhage',\n",
       "   'reactionoutcome': '3'}],\n",
       " 'drug': [{'drugcharacterization': '1',\n",
       "   'medicinalproduct': 'PRADAXA',\n",
       "   'drugauthorizationnumb': '022512',\n",
       "   'drugstructuredosagenumb': '150',\n",
       "   'drugstructuredosageunit': '003',\n",
       "   'drugseparatedosagenumb': '2',\n",
       "   'drugintervaldosageunitnumb': '1',\n",
       "   'drugintervaldosagedefinition': '804',\n",
       "   'drugdosagetext': '300 MG',\n",
       "   'drugdosageform': 'CAPSULE',\n",
       "   'drugadministrationroute': '048',\n",
       "   'drugindication': 'CEREBROVASCULAR ACCIDENT PROPHYLAXIS',\n",
       "   'drugstartdateformat': '602',\n",
       "   'drugstartdate': '2011',\n",
       "   'actiondrug': '4',\n",
       "   'openfda': {'application_number': ['NDA022512'],\n",
       "    'brand_name': ['PRADAXA'],\n",
       "    'generic_name': ['DABIGATRAN ETEXILATE MESYLATE'],\n",
       "    'manufacturer_name': ['Boehringer Ingelheim Pharmaceuticals Inc.'],\n",
       "    'product_ndc': ['0597-0108', '0597-0355', '0597-0360'],\n",
       "    'product_type': ['HUMAN PRESCRIPTION DRUG'],\n",
       "    'route': ['ORAL'],\n",
       "    'substance_name': ['DABIGATRAN ETEXILATE MESYLATE'],\n",
       "    'rxcui': ['1037045',\n",
       "     '1037049',\n",
       "     '1037179',\n",
       "     '1037181',\n",
       "     '1723476',\n",
       "     '1723478'],\n",
       "    'spl_id': ['fdeb89cd-11fc-4393-8fe7-a497e11a9cc8'],\n",
       "    'spl_set_id': ['ba74e3cd-b06f-4145-b284-5fd6b84ff3c9'],\n",
       "    'package_ndc': ['0597-0108-54',\n",
       "     '0597-0108-60',\n",
       "     '0597-0355-09',\n",
       "     '0597-0355-56',\n",
       "     '0597-0355-53',\n",
       "     '0597-0360-55',\n",
       "     '0597-0360-42',\n",
       "     '0597-0360-82'],\n",
       "    'unii': ['SC7NUW5IIT']}},\n",
       "  {'drugcharacterization': '2',\n",
       "   'medicinalproduct': 'LOSARTAN',\n",
       "   'drugadministrationroute': '065',\n",
       "   'drugindication': 'HYPERTENSION'},\n",
       "  {'drugcharacterization': '2',\n",
       "   'medicinalproduct': 'CRESTOR',\n",
       "   'drugadministrationroute': '065',\n",
       "   'drugindication': 'BLOOD CHOLESTEROL INCREASED',\n",
       "   'openfda': {'application_number': ['NDA021366'],\n",
       "    'brand_name': ['CRESTOR'],\n",
       "    'generic_name': ['ROSUVASTATIN CALCIUM'],\n",
       "    'manufacturer_name': ['AstraZeneca Pharmaceuticals LP'],\n",
       "    'product_ndc': ['0310-0751', '0310-0755', '0310-0752', '0310-0754'],\n",
       "    'product_type': ['HUMAN PRESCRIPTION DRUG'],\n",
       "    'route': ['ORAL'],\n",
       "    'substance_name': ['ROSUVASTATIN CALCIUM'],\n",
       "    'rxcui': ['859419',\n",
       "     '859421',\n",
       "     '859424',\n",
       "     '859426',\n",
       "     '859747',\n",
       "     '859749',\n",
       "     '859751',\n",
       "     '859753'],\n",
       "    'spl_id': ['0abd2d1e-ee9a-4738-ad7e-610a2caa24ab'],\n",
       "    'spl_set_id': ['bb0f3b5e-4bc6-41c9-66b9-6257e2513512'],\n",
       "    'package_ndc': ['0310-0755-90',\n",
       "     '0310-0751-90',\n",
       "     '0310-0751-39',\n",
       "     '0310-0752-90',\n",
       "     '0310-0752-39',\n",
       "     '0310-0754-30'],\n",
       "    'unii': ['83MVU38M7Q']}},\n",
       "  {'drugcharacterization': '2',\n",
       "   'medicinalproduct': 'DIABETES MEDICATION',\n",
       "   'drugadministrationroute': '065',\n",
       "   'drugindication': 'TYPE 2 DIABETES MELLITUS'}]}"
      ]
     },
     "execution_count": 101,
     "metadata": {},
     "output_type": "execute_result"
    }
   ],
   "source": [
    "patient_data = json_data['results'][0]['patient']\n",
    "patient_data"
   ]
  },
  {
   "cell_type": "code",
   "execution_count": 105,
   "metadata": {},
   "outputs": [
    {
     "data": {
      "text/plain": [
       "'80'"
      ]
     },
     "execution_count": 105,
     "metadata": {},
     "output_type": "execute_result"
    }
   ],
   "source": [
    "patient_age = patient_data['patientonsetage']\n",
    "patient_age"
   ]
  },
  {
   "cell_type": "code",
   "execution_count": 104,
   "metadata": {},
   "outputs": [
    {
     "data": {
      "text/plain": [
       "'1'"
      ]
     },
     "execution_count": 104,
     "metadata": {},
     "output_type": "execute_result"
    }
   ],
   "source": [
    "patient_sex = patient_data['patientsex']\n",
    "patient_sex"
   ]
  },
  {
   "cell_type": "code",
   "execution_count": 71,
   "metadata": {
    "scrolled": true
   },
   "outputs": [
    {
     "data": {
      "text/html": [
       "<div>\n",
       "<style scoped>\n",
       "    .dataframe tbody tr th:only-of-type {\n",
       "        vertical-align: middle;\n",
       "    }\n",
       "\n",
       "    .dataframe tbody tr th {\n",
       "        vertical-align: top;\n",
       "    }\n",
       "\n",
       "    .dataframe thead th {\n",
       "        text-align: right;\n",
       "    }\n",
       "</style>\n",
       "<table border=\"1\" class=\"dataframe\">\n",
       "  <thead>\n",
       "    <tr style=\"text-align: right;\">\n",
       "      <th></th>\n",
       "      <th>reactionmeddraversionpt</th>\n",
       "      <th>reactionmeddrapt</th>\n",
       "      <th>reactionoutcome</th>\n",
       "    </tr>\n",
       "  </thead>\n",
       "  <tbody>\n",
       "    <tr>\n",
       "      <th>0</th>\n",
       "      <td>17.0</td>\n",
       "      <td>Proctalgia</td>\n",
       "      <td>3</td>\n",
       "    </tr>\n",
       "    <tr>\n",
       "      <th>1</th>\n",
       "      <td>17.0</td>\n",
       "      <td>Anorectal discomfort</td>\n",
       "      <td>3</td>\n",
       "    </tr>\n",
       "    <tr>\n",
       "      <th>2</th>\n",
       "      <td>17.0</td>\n",
       "      <td>Rectal haemorrhage</td>\n",
       "      <td>3</td>\n",
       "    </tr>\n",
       "  </tbody>\n",
       "</table>\n",
       "</div>"
      ],
      "text/plain": [
       "  reactionmeddraversionpt      reactionmeddrapt reactionoutcome\n",
       "0                    17.0            Proctalgia               3\n",
       "1                    17.0  Anorectal discomfort               3\n",
       "2                    17.0    Rectal haemorrhage               3"
      ]
     },
     "execution_count": 71,
     "metadata": {},
     "output_type": "execute_result"
    }
   ],
   "source": [
    "#trying to extract the 'reaction' and 'drug'\n",
    "# record_path=['students']\n",
    "#pd.json_normalize(json_data['results'], record_path=['patient.reaction'])\n",
    "pd.json_normalize(json_data['results'][0]['patient'], record_path=['reaction'])"
   ]
  },
  {
   "cell_type": "code",
   "execution_count": 72,
   "metadata": {
    "scrolled": true
   },
   "outputs": [
    {
     "data": {
      "text/html": [
       "<div>\n",
       "<style scoped>\n",
       "    .dataframe tbody tr th:only-of-type {\n",
       "        vertical-align: middle;\n",
       "    }\n",
       "\n",
       "    .dataframe tbody tr th {\n",
       "        vertical-align: top;\n",
       "    }\n",
       "\n",
       "    .dataframe thead th {\n",
       "        text-align: right;\n",
       "    }\n",
       "</style>\n",
       "<table border=\"1\" class=\"dataframe\">\n",
       "  <thead>\n",
       "    <tr style=\"text-align: right;\">\n",
       "      <th></th>\n",
       "      <th>drugcharacterization</th>\n",
       "      <th>medicinalproduct</th>\n",
       "      <th>drugauthorizationnumb</th>\n",
       "      <th>drugstructuredosagenumb</th>\n",
       "      <th>drugstructuredosageunit</th>\n",
       "      <th>drugseparatedosagenumb</th>\n",
       "      <th>drugintervaldosageunitnumb</th>\n",
       "      <th>drugintervaldosagedefinition</th>\n",
       "      <th>drugdosagetext</th>\n",
       "      <th>drugdosageform</th>\n",
       "      <th>...</th>\n",
       "      <th>openfda.manufacturer_name</th>\n",
       "      <th>openfda.product_ndc</th>\n",
       "      <th>openfda.product_type</th>\n",
       "      <th>openfda.route</th>\n",
       "      <th>openfda.substance_name</th>\n",
       "      <th>openfda.rxcui</th>\n",
       "      <th>openfda.spl_id</th>\n",
       "      <th>openfda.spl_set_id</th>\n",
       "      <th>openfda.package_ndc</th>\n",
       "      <th>openfda.unii</th>\n",
       "    </tr>\n",
       "  </thead>\n",
       "  <tbody>\n",
       "    <tr>\n",
       "      <th>0</th>\n",
       "      <td>1</td>\n",
       "      <td>PRADAXA</td>\n",
       "      <td>022512</td>\n",
       "      <td>150</td>\n",
       "      <td>003</td>\n",
       "      <td>2</td>\n",
       "      <td>1</td>\n",
       "      <td>804</td>\n",
       "      <td>300 MG</td>\n",
       "      <td>CAPSULE</td>\n",
       "      <td>...</td>\n",
       "      <td>[Boehringer Ingelheim Pharmaceuticals Inc.]</td>\n",
       "      <td>[0597-0108, 0597-0355, 0597-0360]</td>\n",
       "      <td>[HUMAN PRESCRIPTION DRUG]</td>\n",
       "      <td>[ORAL]</td>\n",
       "      <td>[DABIGATRAN ETEXILATE MESYLATE]</td>\n",
       "      <td>[1037045, 1037049, 1037179, 1037181, 1723476, ...</td>\n",
       "      <td>[fdeb89cd-11fc-4393-8fe7-a497e11a9cc8]</td>\n",
       "      <td>[ba74e3cd-b06f-4145-b284-5fd6b84ff3c9]</td>\n",
       "      <td>[0597-0108-54, 0597-0108-60, 0597-0355-09, 059...</td>\n",
       "      <td>[SC7NUW5IIT]</td>\n",
       "    </tr>\n",
       "    <tr>\n",
       "      <th>1</th>\n",
       "      <td>2</td>\n",
       "      <td>LOSARTAN</td>\n",
       "      <td>NaN</td>\n",
       "      <td>NaN</td>\n",
       "      <td>NaN</td>\n",
       "      <td>NaN</td>\n",
       "      <td>NaN</td>\n",
       "      <td>NaN</td>\n",
       "      <td>NaN</td>\n",
       "      <td>NaN</td>\n",
       "      <td>...</td>\n",
       "      <td>NaN</td>\n",
       "      <td>NaN</td>\n",
       "      <td>NaN</td>\n",
       "      <td>NaN</td>\n",
       "      <td>NaN</td>\n",
       "      <td>NaN</td>\n",
       "      <td>NaN</td>\n",
       "      <td>NaN</td>\n",
       "      <td>NaN</td>\n",
       "      <td>NaN</td>\n",
       "    </tr>\n",
       "    <tr>\n",
       "      <th>2</th>\n",
       "      <td>2</td>\n",
       "      <td>CRESTOR</td>\n",
       "      <td>NaN</td>\n",
       "      <td>NaN</td>\n",
       "      <td>NaN</td>\n",
       "      <td>NaN</td>\n",
       "      <td>NaN</td>\n",
       "      <td>NaN</td>\n",
       "      <td>NaN</td>\n",
       "      <td>NaN</td>\n",
       "      <td>...</td>\n",
       "      <td>[AstraZeneca Pharmaceuticals LP]</td>\n",
       "      <td>[0310-0751, 0310-0755, 0310-0752, 0310-0754]</td>\n",
       "      <td>[HUMAN PRESCRIPTION DRUG]</td>\n",
       "      <td>[ORAL]</td>\n",
       "      <td>[ROSUVASTATIN CALCIUM]</td>\n",
       "      <td>[859419, 859421, 859424, 859426, 859747, 85974...</td>\n",
       "      <td>[0abd2d1e-ee9a-4738-ad7e-610a2caa24ab]</td>\n",
       "      <td>[bb0f3b5e-4bc6-41c9-66b9-6257e2513512]</td>\n",
       "      <td>[0310-0755-90, 0310-0751-90, 0310-0751-39, 031...</td>\n",
       "      <td>[83MVU38M7Q]</td>\n",
       "    </tr>\n",
       "    <tr>\n",
       "      <th>3</th>\n",
       "      <td>2</td>\n",
       "      <td>DIABETES MEDICATION</td>\n",
       "      <td>NaN</td>\n",
       "      <td>NaN</td>\n",
       "      <td>NaN</td>\n",
       "      <td>NaN</td>\n",
       "      <td>NaN</td>\n",
       "      <td>NaN</td>\n",
       "      <td>NaN</td>\n",
       "      <td>NaN</td>\n",
       "      <td>...</td>\n",
       "      <td>NaN</td>\n",
       "      <td>NaN</td>\n",
       "      <td>NaN</td>\n",
       "      <td>NaN</td>\n",
       "      <td>NaN</td>\n",
       "      <td>NaN</td>\n",
       "      <td>NaN</td>\n",
       "      <td>NaN</td>\n",
       "      <td>NaN</td>\n",
       "      <td>NaN</td>\n",
       "    </tr>\n",
       "  </tbody>\n",
       "</table>\n",
       "<p>4 rows × 28 columns</p>\n",
       "</div>"
      ],
      "text/plain": [
       "  drugcharacterization     medicinalproduct drugauthorizationnumb  \\\n",
       "0                    1              PRADAXA                022512   \n",
       "1                    2             LOSARTAN                   NaN   \n",
       "2                    2              CRESTOR                   NaN   \n",
       "3                    2  DIABETES MEDICATION                   NaN   \n",
       "\n",
       "  drugstructuredosagenumb drugstructuredosageunit drugseparatedosagenumb  \\\n",
       "0                     150                     003                      2   \n",
       "1                     NaN                     NaN                    NaN   \n",
       "2                     NaN                     NaN                    NaN   \n",
       "3                     NaN                     NaN                    NaN   \n",
       "\n",
       "  drugintervaldosageunitnumb drugintervaldosagedefinition drugdosagetext  \\\n",
       "0                          1                          804         300 MG   \n",
       "1                        NaN                          NaN            NaN   \n",
       "2                        NaN                          NaN            NaN   \n",
       "3                        NaN                          NaN            NaN   \n",
       "\n",
       "  drugdosageform  ...                    openfda.manufacturer_name  \\\n",
       "0        CAPSULE  ...  [Boehringer Ingelheim Pharmaceuticals Inc.]   \n",
       "1            NaN  ...                                          NaN   \n",
       "2            NaN  ...             [AstraZeneca Pharmaceuticals LP]   \n",
       "3            NaN  ...                                          NaN   \n",
       "\n",
       "                            openfda.product_ndc       openfda.product_type  \\\n",
       "0             [0597-0108, 0597-0355, 0597-0360]  [HUMAN PRESCRIPTION DRUG]   \n",
       "1                                           NaN                        NaN   \n",
       "2  [0310-0751, 0310-0755, 0310-0752, 0310-0754]  [HUMAN PRESCRIPTION DRUG]   \n",
       "3                                           NaN                        NaN   \n",
       "\n",
       "  openfda.route           openfda.substance_name  \\\n",
       "0        [ORAL]  [DABIGATRAN ETEXILATE MESYLATE]   \n",
       "1           NaN                              NaN   \n",
       "2        [ORAL]           [ROSUVASTATIN CALCIUM]   \n",
       "3           NaN                              NaN   \n",
       "\n",
       "                                       openfda.rxcui  \\\n",
       "0  [1037045, 1037049, 1037179, 1037181, 1723476, ...   \n",
       "1                                                NaN   \n",
       "2  [859419, 859421, 859424, 859426, 859747, 85974...   \n",
       "3                                                NaN   \n",
       "\n",
       "                           openfda.spl_id  \\\n",
       "0  [fdeb89cd-11fc-4393-8fe7-a497e11a9cc8]   \n",
       "1                                     NaN   \n",
       "2  [0abd2d1e-ee9a-4738-ad7e-610a2caa24ab]   \n",
       "3                                     NaN   \n",
       "\n",
       "                       openfda.spl_set_id  \\\n",
       "0  [ba74e3cd-b06f-4145-b284-5fd6b84ff3c9]   \n",
       "1                                     NaN   \n",
       "2  [bb0f3b5e-4bc6-41c9-66b9-6257e2513512]   \n",
       "3                                     NaN   \n",
       "\n",
       "                                 openfda.package_ndc  openfda.unii  \n",
       "0  [0597-0108-54, 0597-0108-60, 0597-0355-09, 059...  [SC7NUW5IIT]  \n",
       "1                                                NaN           NaN  \n",
       "2  [0310-0755-90, 0310-0751-90, 0310-0751-39, 031...  [83MVU38M7Q]  \n",
       "3                                                NaN           NaN  \n",
       "\n",
       "[4 rows x 28 columns]"
      ]
     },
     "execution_count": 72,
     "metadata": {},
     "output_type": "execute_result"
    }
   ],
   "source": [
    "# trying to get the 'drug' \n",
    "pd.json_normalize(json_data['results'][0]['patient'], record_path=['drug'])"
   ]
  },
  {
   "cell_type": "code",
   "execution_count": 106,
   "metadata": {
    "scrolled": true
   },
   "outputs": [
    {
     "data": {
      "text/plain": [
       "'10003332'"
      ]
     },
     "execution_count": 106,
     "metadata": {},
     "output_type": "execute_result"
    }
   ],
   "source": [
    "# make all of this into a DataFrame with the important features.\n",
    "# again, trying to extract the 'results' dictionary\n",
    "results = pd.json_normalize(json_data['results'])\n",
    "#we will need the safety report ID to join these together....\n",
    "# We probably want the patientonsetage and patientsex\n",
    "safetyreportIDpre = json_data['results'][0]\n",
    "safetyreportID = safetyreportIDpre['safetyreportid']\n",
    "safetyreportID"
   ]
  },
  {
   "cell_type": "code",
   "execution_count": 107,
   "metadata": {},
   "outputs": [],
   "source": [
    "#create an empty dictionary\n",
    "newdict = {}"
   ]
  },
  {
   "cell_type": "code",
   "execution_count": 108,
   "metadata": {},
   "outputs": [],
   "source": [
    "newdict['safetyreportID'] = safetyreportID"
   ]
  },
  {
   "cell_type": "code",
   "execution_count": 109,
   "metadata": {
    "scrolled": true
   },
   "outputs": [
    {
     "data": {
      "text/plain": [
       "{'safetyreportID': '10003332'}"
      ]
     },
     "execution_count": 109,
     "metadata": {},
     "output_type": "execute_result"
    }
   ],
   "source": [
    "newdict"
   ]
  },
  {
   "cell_type": "code",
   "execution_count": 110,
   "metadata": {},
   "outputs": [
    {
     "data": {
      "text/plain": [
       "{'safetyreportID': '10003332', 'patient onset age': '80', 'patient_sex': '1'}"
      ]
     },
     "execution_count": 110,
     "metadata": {},
     "output_type": "execute_result"
    }
   ],
   "source": [
    "newdict['patient onset age'] = patient_age\n",
    "newdict['patient_sex'] = patient_sex\n",
    "newdict"
   ]
  },
  {
   "cell_type": "code",
   "execution_count": 118,
   "metadata": {},
   "outputs": [
    {
     "data": {
      "text/plain": [
       "dict"
      ]
     },
     "execution_count": 118,
     "metadata": {},
     "output_type": "execute_result"
    }
   ],
   "source": [
    "type(newdict)"
   ]
  },
  {
   "cell_type": "code",
   "execution_count": 121,
   "metadata": {
    "scrolled": true
   },
   "outputs": [
    {
     "data": {
      "text/html": [
       "<div>\n",
       "<style scoped>\n",
       "    .dataframe tbody tr th:only-of-type {\n",
       "        vertical-align: middle;\n",
       "    }\n",
       "\n",
       "    .dataframe tbody tr th {\n",
       "        vertical-align: top;\n",
       "    }\n",
       "\n",
       "    .dataframe thead th {\n",
       "        text-align: right;\n",
       "    }\n",
       "</style>\n",
       "<table border=\"1\" class=\"dataframe\">\n",
       "  <thead>\n",
       "    <tr style=\"text-align: right;\">\n",
       "      <th></th>\n",
       "      <th>safetyreportID</th>\n",
       "      <th>patient onset age</th>\n",
       "      <th>patient_sex</th>\n",
       "    </tr>\n",
       "  </thead>\n",
       "  <tbody>\n",
       "    <tr>\n",
       "      <th>0</th>\n",
       "      <td>10003332</td>\n",
       "      <td>80</td>\n",
       "      <td>1</td>\n",
       "    </tr>\n",
       "  </tbody>\n",
       "</table>\n",
       "</div>"
      ],
      "text/plain": [
       "  safetyreportID patient onset age patient_sex\n",
       "0       10003332                80           1"
      ]
     },
     "execution_count": 121,
     "metadata": {},
     "output_type": "execute_result"
    }
   ],
   "source": [
    "#convert newdict to dataframe- success!\n",
    "pd.DataFrame(data=newdict, index=[0])"
   ]
  },
  {
   "cell_type": "code",
   "execution_count": null,
   "metadata": {},
   "outputs": [],
   "source": [
    "# now try to add drug info: drug indication, brand name, generic name, manufacturer"
   ]
  }
 ],
 "metadata": {
  "kernelspec": {
   "display_name": "Python 3",
   "language": "python",
   "name": "python3"
  },
  "language_info": {
   "codemirror_mode": {
    "name": "ipython",
    "version": 3
   },
   "file_extension": ".py",
   "mimetype": "text/x-python",
   "name": "python",
   "nbconvert_exporter": "python",
   "pygments_lexer": "ipython3",
   "version": "3.8.5"
  }
 },
 "nbformat": 4,
 "nbformat_minor": 4
}
