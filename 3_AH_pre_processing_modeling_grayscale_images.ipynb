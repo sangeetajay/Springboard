{
  "nbformat": 4,
  "nbformat_minor": 0,
  "metadata": {
    "accelerator": "GPU",
    "colab": {
      "name": "3_AH_pre-processing_modeling_grayscale_images.ipynb",
      "provenance": [],
      "collapsed_sections": [
        "D3MS8FuoQY1e",
        "7-I61VIvF4Mk",
        "KU_-TZZW0Zsm",
        "VeV9PwjgA9I5",
        "APFnCGaH1HJP",
        "auKAlYf0HclO"
      ],
      "include_colab_link": true
    },
    "kernelspec": {
      "display_name": "Python 3",
      "name": "python3"
    },
    "language_info": {
      "name": "python"
    }
  },
  "cells": [
    {
      "cell_type": "markdown",
      "metadata": {
        "id": "view-in-github",
        "colab_type": "text"
      },
      "source": [
        "<a href=\"https://colab.research.google.com/github/sangeetajay/Springboard/blob/master/3_AH_pre_processing_modeling_grayscale_images.ipynb\" target=\"_parent\"><img src=\"https://colab.research.google.com/assets/colab-badge.svg\" alt=\"Open In Colab\"/></a>"
      ]
    },
    {
      "cell_type": "markdown",
      "metadata": {
        "id": "J8gOpIOM71i9"
      },
      "source": [
        "# Final Capstone Project:\n",
        "# Predicting Austin Home Prices from Zillow Images\n",
        "\n",
        "## Pre-Processing/Modeling Notebook 3:\n",
        "In this notebook, we will use the home images that were resized and converted to grayscale in a Convolutional Neural Network to try to predict home prices. We will start out with a simple baseline CNN to get an idea of what will be needed to make our model work. \n",
        " \n",
        "Sections:\n",
        "1. Imports\n",
        "2. Prepare Image Data\n",
        "3. Data Generator\n",
        "4. Modeling: CNN\n",
        "\n"
      ]
    },
    {
      "cell_type": "markdown",
      "metadata": {
        "id": "D3MS8FuoQY1e"
      },
      "source": [
        "## 1. Imports"
      ]
    },
    {
      "cell_type": "code",
      "metadata": {
        "id": "d6k1AEnZgq2y"
      },
      "source": [
        "import numpy as np\n",
        "import os\n",
        "import matplotlib.pyplot as plt\n",
        "import pandas as pd \n",
        "import seaborn as sns \n",
        "%matplotlib inline\n",
        "\n",
        "import PIL\n",
        "import PIL.Image\n",
        "\n",
        "from sklearn.utils import shuffle\n",
        "from sklearn.preprocessing import StandardScaler\n",
        "from sklearn.model_selection import train_test_split\n",
        "from sklearn.metrics import classification_report\n",
        "from skimage.io import imread\n",
        "from skimage.transform import resize\n",
        "import math\n",
        "from IPython.display import display\n",
        "from skimage import io\n",
        "\n",
        "import tensorflow as tf\n",
        "from tensorflow import keras\n",
        "from tensorflow.keras import applications\n",
        "from tensorflow.keras.preprocessing.image import ImageDataGenerator\n",
        "from tensorflow.keras.layers import Dense, Dropout, BatchNormalization, GlobalAveragePooling2D, Flatten, Conv2D, MaxPooling2D\n",
        "from tensorflow.keras.utils import Sequence\n",
        "from tensorflow.keras.layers import Dense, Dropout, Flatten, Conv2D, MaxPooling2D"
      ],
      "execution_count": 1,
      "outputs": []
    },
    {
      "cell_type": "code",
      "metadata": {
        "id": "BDA-glPFpu-F"
      },
      "source": [
        "#!pip install -q tensorflow==2.1\n",
        "#!pip install -q keras==2.3.1\n",
        "#!pip install -q tensorflow-estimator==2.1.\n",
        "#!pip install gast==0.3.2\n",
        "#!pip install tensorflow"
      ],
      "execution_count": 2,
      "outputs": []
    },
    {
      "cell_type": "markdown",
      "metadata": {
        "id": "1jot_1DQVDW7"
      },
      "source": [
        "## 2. Prepare Image Data"
      ]
    },
    {
      "cell_type": "markdown",
      "metadata": {
        "id": "yAS9ns0aAwjG"
      },
      "source": [
        "#### 2a. Unzipping the images from Google Drive"
      ]
    },
    {
      "cell_type": "code",
      "metadata": {
        "colab": {
          "base_uri": "https://localhost:8080/"
        },
        "id": "x5t1cjTHw5LX",
        "outputId": "80853c3e-e0a4-4453-8078-5814e2997da6"
      },
      "source": [
        "from google.colab import drive\n",
        "drive.mount('/content/drive')"
      ],
      "execution_count": 3,
      "outputs": [
        {
          "output_type": "stream",
          "text": [
            "Mounted at /content/drive\n"
          ],
          "name": "stdout"
        }
      ]
    },
    {
      "cell_type": "code",
      "metadata": {
        "id": "nrKevOx9nzFd"
      },
      "source": [
        "#!unzip /content/drive/MyDrive/ResizedGrayImages.zip"
      ],
      "execution_count": 28,
      "outputs": []
    },
    {
      "cell_type": "markdown",
      "metadata": {
        "id": "7-I61VIvF4Mk"
      },
      "source": [
        "#### 2b. Load training labels for the images\n"
      ]
    },
    {
      "cell_type": "code",
      "metadata": {
        "colab": {
          "base_uri": "https://localhost:8080/",
          "height": 0
        },
        "id": "WRI-H-Oqgq-w",
        "outputId": "210af929-8ce8-4c5c-a253-55a82763699f"
      },
      "source": [
        "# load the cleaned dataset with image name and price\n",
        "# these are the 'labels' for the images\n",
        "file = '/content/drive/MyDrive/cleaned_AH_data_v2.csv'\n",
        "train_labels = pd.read_csv(file)\n",
        "# remove the .jpg from the image names\n",
        "train_labels['Image Name'] = train_labels['Image Name'].str.rstrip('.jpg')\n",
        "#check the shape\n",
        "print(train_labels.shape)\n",
        "\n",
        "train_labels.head()"
      ],
      "execution_count": 5,
      "outputs": [
        {
          "output_type": "stream",
          "text": [
            "(15012, 2)\n"
          ],
          "name": "stdout"
        },
        {
          "output_type": "execute_result",
          "data": {
            "text/html": [
              "<div>\n",
              "<style scoped>\n",
              "    .dataframe tbody tr th:only-of-type {\n",
              "        vertical-align: middle;\n",
              "    }\n",
              "\n",
              "    .dataframe tbody tr th {\n",
              "        vertical-align: top;\n",
              "    }\n",
              "\n",
              "    .dataframe thead th {\n",
              "        text-align: right;\n",
              "    }\n",
              "</style>\n",
              "<table border=\"1\" class=\"dataframe\">\n",
              "  <thead>\n",
              "    <tr style=\"text-align: right;\">\n",
              "      <th></th>\n",
              "      <th>Image Name</th>\n",
              "      <th>Price</th>\n",
              "    </tr>\n",
              "  </thead>\n",
              "  <tbody>\n",
              "    <tr>\n",
              "      <th>0</th>\n",
              "      <td>111373431_ffce26843283d3365c11d81b8e6bdc6f-p_f</td>\n",
              "      <td>305000</td>\n",
              "    </tr>\n",
              "    <tr>\n",
              "      <th>1</th>\n",
              "      <td>120900430_8255c127be8dcf0a1a18b7563d987088-p_f</td>\n",
              "      <td>295000</td>\n",
              "    </tr>\n",
              "    <tr>\n",
              "      <th>2</th>\n",
              "      <td>2084491383_a2ad649e1a7a098111dcea084a11c855-p_f</td>\n",
              "      <td>256125</td>\n",
              "    </tr>\n",
              "    <tr>\n",
              "      <th>3</th>\n",
              "      <td>120901374_b469367a619da85b1f5ceb69b675d88e-p_f</td>\n",
              "      <td>240000</td>\n",
              "    </tr>\n",
              "    <tr>\n",
              "      <th>4</th>\n",
              "      <td>60134862_b1a48a3df3f111e005bb913873e98ce2-p_f</td>\n",
              "      <td>239900</td>\n",
              "    </tr>\n",
              "  </tbody>\n",
              "</table>\n",
              "</div>"
            ],
            "text/plain": [
              "                                        Image Name   Price\n",
              "0   111373431_ffce26843283d3365c11d81b8e6bdc6f-p_f  305000\n",
              "1   120900430_8255c127be8dcf0a1a18b7563d987088-p_f  295000\n",
              "2  2084491383_a2ad649e1a7a098111dcea084a11c855-p_f  256125\n",
              "3   120901374_b469367a619da85b1f5ceb69b675d88e-p_f  240000\n",
              "4    60134862_b1a48a3df3f111e005bb913873e98ce2-p_f  239900"
            ]
          },
          "metadata": {},
          "execution_count": 5
        }
      ]
    },
    {
      "cell_type": "markdown",
      "metadata": {
        "id": "KU_-TZZW0Zsm"
      },
      "source": [
        "#### 2c. Write a function to read an image and return a normalized numpy array:\n",
        "\n"
      ]
    },
    {
      "cell_type": "code",
      "metadata": {
        "id": "iOle6qdQ0ecU"
      },
      "source": [
        "\n",
        "#Write function to get a specific image\n",
        "\n",
        "def load_pic(file_name, fig_type='jpg'):\n",
        "\n",
        "    img_path = ('/content/ResizedGrayImages/{}').format(file_name)\n",
        "    img = io.imread(img_path)\n",
        "    #normalize the image by dividing each pixel by 255\n",
        "    img = img/255\n",
        "    return np.reshape(img,[250,300,1])"
      ],
      "execution_count": 6,
      "outputs": []
    },
    {
      "cell_type": "code",
      "metadata": {
        "colab": {
          "base_uri": "https://localhost:8080/"
        },
        "id": "RkHSPLMu2vQt",
        "outputId": "fa8d0c4b-123a-4e0e-c257-a30cd8b3a214"
      },
      "source": [
        "#testing the above 'load_image- function\n",
        "\n",
        "image = load_pic('110538801_b74a3118da9370a14aa8a5e96d93c27c-p_f.jpg')\n",
        "\n",
        "#plt.imshow(image)\n",
        "print(image.shape)\n",
        "print(image)"
      ],
      "execution_count": 7,
      "outputs": [
        {
          "output_type": "stream",
          "text": [
            "(250, 300, 1)\n",
            "[[[0.45882353]\n",
            "  [0.7254902 ]\n",
            "  [0.65098039]\n",
            "  ...\n",
            "  [0.4       ]\n",
            "  [0.4       ]\n",
            "  [0.4       ]]\n",
            "\n",
            " [[0.58431373]\n",
            "  [0.54901961]\n",
            "  [0.43529412]\n",
            "  ...\n",
            "  [0.4       ]\n",
            "  [0.4       ]\n",
            "  [0.4       ]]\n",
            "\n",
            " [[0.51764706]\n",
            "  [0.3372549 ]\n",
            "  [0.28627451]\n",
            "  ...\n",
            "  [0.4       ]\n",
            "  [0.4       ]\n",
            "  [0.4       ]]\n",
            "\n",
            " ...\n",
            "\n",
            " [[0.72941176]\n",
            "  [0.76078431]\n",
            "  [0.74509804]\n",
            "  ...\n",
            "  [0.84705882]\n",
            "  [0.85098039]\n",
            "  [0.85882353]]\n",
            "\n",
            " [[0.7372549 ]\n",
            "  [0.70588235]\n",
            "  [0.76470588]\n",
            "  ...\n",
            "  [0.83529412]\n",
            "  [0.83921569]\n",
            "  [0.84705882]]\n",
            "\n",
            " [[0.68235294]\n",
            "  [0.61568627]\n",
            "  [0.69411765]\n",
            "  ...\n",
            "  [0.83529412]\n",
            "  [0.83921569]\n",
            "  [0.84705882]]]\n"
          ],
          "name": "stdout"
        }
      ]
    },
    {
      "cell_type": "code",
      "metadata": {
        "colab": {
          "base_uri": "https://localhost:8080/"
        },
        "id": "__bmSHJ0F9rp",
        "outputId": "575b96dc-b2b9-4d4b-91f3-31e8264b8e2c"
      },
      "source": [
        "# checking the number of image files in the folder, checking the path\n",
        "APP_FOLDER = '/content/ResizedGrayImages/'\n",
        "totalDir = 0\n",
        "totalFiles = 0\n",
        "for base, dirs, files in os.walk(APP_FOLDER):\n",
        "    print('Searching in : ',base)\n",
        "    for directories in dirs:\n",
        "        totalDir += 1\n",
        "    for Files in files:\n",
        "        totalFiles += 1\n",
        "totalFiles    "
      ],
      "execution_count": 8,
      "outputs": [
        {
          "output_type": "stream",
          "text": [
            "Searching in :  /content/ResizedGrayImages/\n"
          ],
          "name": "stdout"
        },
        {
          "output_type": "execute_result",
          "data": {
            "text/plain": [
              "15172"
            ]
          },
          "metadata": {},
          "execution_count": 8
        }
      ]
    },
    {
      "cell_type": "markdown",
      "metadata": {
        "id": "VeV9PwjgA9I5"
      },
      "source": [
        "#### 2d. Creating train/test set for generator\n",
        "adapted from https://stanford.edu/~shervine/blog/keras-how-to-generate-data-on-the-fly"
      ]
    },
    {
      "cell_type": "code",
      "metadata": {
        "colab": {
          "base_uri": "https://localhost:8080/",
          "height": 0
        },
        "id": "HCGDwTIHrwDy",
        "outputId": "c3d15283-47f2-4bdc-8137-9614eb1664d1"
      },
      "source": [
        "train_labels.head() # this is our dataframe of the image name and labels (price)"
      ],
      "execution_count": 9,
      "outputs": [
        {
          "output_type": "execute_result",
          "data": {
            "text/html": [
              "<div>\n",
              "<style scoped>\n",
              "    .dataframe tbody tr th:only-of-type {\n",
              "        vertical-align: middle;\n",
              "    }\n",
              "\n",
              "    .dataframe tbody tr th {\n",
              "        vertical-align: top;\n",
              "    }\n",
              "\n",
              "    .dataframe thead th {\n",
              "        text-align: right;\n",
              "    }\n",
              "</style>\n",
              "<table border=\"1\" class=\"dataframe\">\n",
              "  <thead>\n",
              "    <tr style=\"text-align: right;\">\n",
              "      <th></th>\n",
              "      <th>Image Name</th>\n",
              "      <th>Price</th>\n",
              "    </tr>\n",
              "  </thead>\n",
              "  <tbody>\n",
              "    <tr>\n",
              "      <th>0</th>\n",
              "      <td>111373431_ffce26843283d3365c11d81b8e6bdc6f-p_f</td>\n",
              "      <td>305000</td>\n",
              "    </tr>\n",
              "    <tr>\n",
              "      <th>1</th>\n",
              "      <td>120900430_8255c127be8dcf0a1a18b7563d987088-p_f</td>\n",
              "      <td>295000</td>\n",
              "    </tr>\n",
              "    <tr>\n",
              "      <th>2</th>\n",
              "      <td>2084491383_a2ad649e1a7a098111dcea084a11c855-p_f</td>\n",
              "      <td>256125</td>\n",
              "    </tr>\n",
              "    <tr>\n",
              "      <th>3</th>\n",
              "      <td>120901374_b469367a619da85b1f5ceb69b675d88e-p_f</td>\n",
              "      <td>240000</td>\n",
              "    </tr>\n",
              "    <tr>\n",
              "      <th>4</th>\n",
              "      <td>60134862_b1a48a3df3f111e005bb913873e98ce2-p_f</td>\n",
              "      <td>239900</td>\n",
              "    </tr>\n",
              "  </tbody>\n",
              "</table>\n",
              "</div>"
            ],
            "text/plain": [
              "                                        Image Name   Price\n",
              "0   111373431_ffce26843283d3365c11d81b8e6bdc6f-p_f  305000\n",
              "1   120900430_8255c127be8dcf0a1a18b7563d987088-p_f  295000\n",
              "2  2084491383_a2ad649e1a7a098111dcea084a11c855-p_f  256125\n",
              "3   120901374_b469367a619da85b1f5ceb69b675d88e-p_f  240000\n",
              "4    60134862_b1a48a3df3f111e005bb913873e98ce2-p_f  239900"
            ]
          },
          "metadata": {},
          "execution_count": 9
        }
      ]
    },
    {
      "cell_type": "code",
      "metadata": {
        "id": "4YTYjdvPzDgQ"
      },
      "source": [
        "# create a lookup dicitonary called labels\n",
        "labels_df = train_labels['Price']\n",
        "labels_df.index = train_labels['Image Name']\n",
        "\n",
        "#Create a lookup dictionary containing the labels for each image sample, we will use this on our data generator object\n",
        "\n",
        "labels = labels_df.to_dict(into=dict)"
      ],
      "execution_count": 10,
      "outputs": []
    },
    {
      "cell_type": "code",
      "metadata": {
        "id": "rNT_b9wsykDV"
      },
      "source": [
        "#Create a dictionary called partition where you gather train and test sets:\n",
        "partition = {}\n",
        "\n",
        "# randomly create train and test parts\n",
        "train_part = train_labels.sample(frac=0.8,random_state=200) #random state is a seed value\n",
        "test_part = train_labels.drop(train_part.index)\n",
        "\n",
        "# add these to the dictionary:\n",
        "# in partition['train'] a list of training IDs\n",
        "partition['train'] = list(train_part['Image Name'])\n",
        "\n",
        "# in partition['validation'] a list of validation IDs\n",
        "partition['validation'] = list(test_part['Image Name'])\n",
        "\n"
      ],
      "execution_count": 11,
      "outputs": []
    },
    {
      "cell_type": "code",
      "metadata": {
        "colab": {
          "base_uri": "https://localhost:8080/"
        },
        "id": "0UXr5tpepKhn",
        "outputId": "3ab62d31-6d27-49d2-cdc4-4bc5706c3944"
      },
      "source": [
        "# checking what we did: created a test set and a validation set \n",
        "print(type(partition['train']))\n",
        "print(type(partition['validation']))\n",
        "print(len(partition['train']))\n",
        "print(len(partition['validation']))\n"
      ],
      "execution_count": 12,
      "outputs": [
        {
          "output_type": "stream",
          "text": [
            "<class 'list'>\n",
            "<class 'list'>\n",
            "12010\n",
            "3002\n"
          ],
          "name": "stdout"
        }
      ]
    },
    {
      "cell_type": "markdown",
      "metadata": {
        "id": "APFnCGaH1HJP"
      },
      "source": [
        "## 3. Data Generator"
      ]
    },
    {
      "cell_type": "markdown",
      "metadata": {
        "id": "HpfW8auN9m4u"
      },
      "source": [
        "#### 3a. Start of Generator"
      ]
    },
    {
      "cell_type": "code",
      "metadata": {
        "id": "EhyUDut-pKj3"
      },
      "source": [
        "# First, let's write the initialization function of the class\n",
        "\n",
        "class DataGenerator(Sequence):\n",
        "\n",
        "  def __init__(self, list_IDs, labels, batch_size=128, dim=(250,300), n_channels=1,\n",
        "              shuffle=True):\n",
        "    'Initialization'\n",
        "    self.dim = dim\n",
        "    self.batch_size = batch_size\n",
        "    self.labels = labels\n",
        "    self.list_IDs = list_IDs\n",
        "    self.n_channels = n_channels\n",
        "    #self.n_classes = n_classes\n",
        "    self.shuffle = shuffle\n",
        "    self.on_epoch_end()\n",
        "\n",
        "\n",
        "  def __len__(self):\n",
        "        'Denotes the number of batches per epoch'\n",
        "        return int(np.floor(len(self.list_IDs) / self.batch_size))\n",
        "\n",
        "  def __getitem__(self, index):\n",
        "        'Generate one batch of data'\n",
        "        # Generate indexes of the batch\n",
        "        indexes = self.indexes[index*self.batch_size:(index+1)*self.batch_size]\n",
        "\n",
        "        # Find list of IDs\n",
        "        list_IDs_temp = [self.list_IDs[k] for k in indexes]\n",
        "\n",
        "        # Generate data\n",
        "        X, y = self.__data_generation(list_IDs_temp)\n",
        "\n",
        "        return X, y\n",
        "\n",
        "  def on_epoch_end(self):\n",
        "        'Updates indexes after each epoch'\n",
        "        self.indexes = np.arange(len(self.list_IDs))\n",
        "        if self.shuffle == True:\n",
        "            np.random.shuffle(self.indexes)\n",
        "\n",
        "  def __data_generation(self, list_IDs_temp):\n",
        "        'Generates data containing batch_size samples' # X : (n_samples, *dim, n_channels)\n",
        "        # Initialization\n",
        "        X = np.empty((self.batch_size, *self.dim, self.n_channels))\n",
        "        y = list(np.empty((self.batch_size)))\n",
        "        #print(X.shape, X.dtype)\n",
        "        #print(y.shape, y.dtype)\n",
        "\n",
        "        # Generate data\n",
        "        for i, ID in enumerate(list_IDs_temp):\n",
        "            # Store sample\n",
        "            #X[i,] = load_pic(ID, size=self.dim[0], n_channels=self.n_channels)\n",
        "            try:\n",
        "              X[i,] = load_pic(ID+'.jpg' )\n",
        "              \n",
        "            #print(X[i,])\n",
        "\n",
        "            # Store class\n",
        "              y[i] = self.labels[ID]\n",
        "            except:\n",
        "              continue\n",
        "              \n",
        "        #print(type(X), type(y))\n",
        "        #print(y)\n",
        "        return X, np.array(y)\n",
        "\n"
      ],
      "execution_count": 13,
      "outputs": []
    },
    {
      "cell_type": "code",
      "metadata": {
        "id": "UNwG2Cv0HkaX"
      },
      "source": [
        "# Parameters\n",
        "params = {'dim': (250,300),\n",
        "          'batch_size': 128,\n",
        "          'n_channels': 1,\n",
        "          'shuffle': True}\n",
        "\n",
        "# Import the EarlyStopping and ModelCheckpoint callbacks\n",
        "from tensorflow.keras.callbacks import EarlyStopping, ModelCheckpoint\n",
        "\n",
        "\n",
        "# Define a callback to monitor validation accuracy\n",
        "monitor_val_loss = EarlyStopping(monitor='val_loss', patience=5, restore_best_weights=True)\n"
      ],
      "execution_count": 14,
      "outputs": []
    },
    {
      "cell_type": "markdown",
      "metadata": {
        "id": "auKAlYf0HclO"
      },
      "source": [
        "#### 3b. Create Training and Validation Generator Object\n"
      ]
    },
    {
      "cell_type": "code",
      "metadata": {
        "id": "1VbaVigVMgiD"
      },
      "source": [
        "\n",
        "# Generators\n",
        "\n",
        "#def get_train_images():\n",
        "training_generator = DataGenerator(partition['train'], labels, **params)\n",
        "\n",
        "#def get_validation_images():\n",
        "validation_generator = DataGenerator(partition['validation'], labels, **params)\n"
      ],
      "execution_count": 15,
      "outputs": []
    },
    {
      "cell_type": "code",
      "metadata": {
        "colab": {
          "base_uri": "https://localhost:8080/"
        },
        "id": "kd-Ke2ikDwBR",
        "outputId": "93ade03e-50c5-4c7b-c503-25e209291088"
      },
      "source": [
        "a = DataGenerator(partition['train'], labels, **params)\n",
        "a"
      ],
      "execution_count": 16,
      "outputs": [
        {
          "output_type": "execute_result",
          "data": {
            "text/plain": [
              "<__main__.DataGenerator at 0x7f36fc657ed0>"
            ]
          },
          "metadata": {},
          "execution_count": 16
        }
      ]
    },
    {
      "cell_type": "markdown",
      "metadata": {
        "id": "2l4qbZ67WvnW"
      },
      "source": [
        "#### 3c. Metric Function for Coefficient of Determination"
      ]
    },
    {
      "cell_type": "code",
      "metadata": {
        "id": "XcKe-3fKW-xU"
      },
      "source": [
        "# from https://jmlb.github.io/ml/2017/03/20/CoeffDetermination_CustomMetric4Keras/\n",
        "\n",
        "from keras import backend as K\n",
        "\n",
        "def coeff_determination(y_true, y_pred):\n",
        "    SS_res =  K.sum(K.square( y_true-y_pred )) \n",
        "    SS_tot = K.sum(K.square( y_true - K.mean(y_true) ) ) \n",
        "    return ( 1 - SS_res/(SS_tot + K.epsilon()) )\n"
      ],
      "execution_count": 17,
      "outputs": []
    },
    {
      "cell_type": "markdown",
      "metadata": {
        "id": "dgMvEkOhzmyk"
      },
      "source": [
        "## 4. CNN model \n",
        "from https://www.linkedin.com/learning/neural-networks-and-convolutional-neural-networks-essential-training/creating-and-compiling-the-model?u=36492188\n",
        "for images"
      ]
    },
    {
      "cell_type": "markdown",
      "metadata": {
        "id": "tCsGmNV3IEDB"
      },
      "source": [
        "#### 4a. Build the CNN model"
      ]
    },
    {
      "cell_type": "code",
      "metadata": {
        "id": "rDYJl8V0N9Jm"
      },
      "source": [
        "# CNN model\n",
        "from tensorflow.keras import Sequential\n",
        "\n",
        "cnn2 = Sequential()\n",
        "cnn2.add(Conv2D(32, kernel_size=(3,3),input_shape=(250,300,1),padding='same', activation='relu'))\n",
        "cnn2.add(MaxPooling2D(pool_size=(2, 2)))\n",
        "cnn2.add(Conv2D(64, kernel_size=(3,3), padding='same', activation='relu'))\n",
        "cnn2.add(MaxPooling2D(pool_size=(2, 2)))\n",
        "cnn2.add(Conv2D(128, kernel_size=(3,3), padding='same', activation='relu'))\n",
        "cnn2.add(MaxPooling2D(pool_size=(2, 2)))\n",
        "cnn2.add(Conv2D(128, kernel_size=(3,3), padding='same', activation='relu'))\n",
        "cnn2.add(MaxPooling2D(pool_size=(2, 2)))\n",
        "cnn2.add(Flatten())\n",
        "cnn2.add(Dropout(0.5))\n",
        "cnn2.add(Dense(512, activation='relu'))\n",
        "cnn2.add(Dense(32, activation='relu'))\n",
        "cnn2.add(Dense(1, activation='linear'))\n",
        "cnn2.compile(optimizer='adam', loss='mean_absolute_error', metrics=[[coeff_determination, 'mae']])\n"
      ],
      "execution_count": 18,
      "outputs": []
    },
    {
      "cell_type": "code",
      "metadata": {
        "colab": {
          "base_uri": "https://localhost:8080/"
        },
        "id": "tTtpm4Bp1Qor",
        "outputId": "7ee9f3e7-ebf4-4dd5-a675-fab5a3ecb79a"
      },
      "source": [
        "print(cnn2.summary())"
      ],
      "execution_count": 19,
      "outputs": [
        {
          "output_type": "stream",
          "text": [
            "Model: \"sequential\"\n",
            "_________________________________________________________________\n",
            "Layer (type)                 Output Shape              Param #   \n",
            "=================================================================\n",
            "conv2d (Conv2D)              (None, 250, 300, 32)      320       \n",
            "_________________________________________________________________\n",
            "max_pooling2d (MaxPooling2D) (None, 125, 150, 32)      0         \n",
            "_________________________________________________________________\n",
            "conv2d_1 (Conv2D)            (None, 125, 150, 64)      18496     \n",
            "_________________________________________________________________\n",
            "max_pooling2d_1 (MaxPooling2 (None, 62, 75, 64)        0         \n",
            "_________________________________________________________________\n",
            "conv2d_2 (Conv2D)            (None, 62, 75, 128)       73856     \n",
            "_________________________________________________________________\n",
            "max_pooling2d_2 (MaxPooling2 (None, 31, 37, 128)       0         \n",
            "_________________________________________________________________\n",
            "conv2d_3 (Conv2D)            (None, 31, 37, 128)       147584    \n",
            "_________________________________________________________________\n",
            "max_pooling2d_3 (MaxPooling2 (None, 15, 18, 128)       0         \n",
            "_________________________________________________________________\n",
            "flatten (Flatten)            (None, 34560)             0         \n",
            "_________________________________________________________________\n",
            "dropout (Dropout)            (None, 34560)             0         \n",
            "_________________________________________________________________\n",
            "dense (Dense)                (None, 512)               17695232  \n",
            "_________________________________________________________________\n",
            "dense_1 (Dense)              (None, 32)                16416     \n",
            "_________________________________________________________________\n",
            "dense_2 (Dense)              (None, 1)                 33        \n",
            "=================================================================\n",
            "Total params: 17,951,937\n",
            "Trainable params: 17,951,937\n",
            "Non-trainable params: 0\n",
            "_________________________________________________________________\n",
            "None\n"
          ],
          "name": "stdout"
        }
      ]
    },
    {
      "cell_type": "markdown",
      "metadata": {
        "id": "evL9z7klILQI"
      },
      "source": [
        "#### 4b. Training the Model"
      ]
    },
    {
      "cell_type": "code",
      "metadata": {
        "colab": {
          "base_uri": "https://localhost:8080/"
        },
        "id": "hFNC72gX8lo0",
        "outputId": "c4fcd1af-a7f2-41ba-bfb3-08b4d912e722"
      },
      "source": [
        "history = cnn2.fit_generator(generator=training_generator,\n",
        "                    validation_data=validation_generator, epochs = 40, steps_per_epoch=200, callbacks=[monitor_val_loss],\n",
        "                    use_multiprocessing=True,)"
      ],
      "execution_count": 20,
      "outputs": [
        {
          "output_type": "stream",
          "text": [
            "/usr/local/lib/python3.7/dist-packages/keras/engine/training.py:1972: UserWarning: `Model.fit_generator` is deprecated and will be removed in a future version. Please use `Model.fit`, which supports generators.\n",
            "  warnings.warn('`Model.fit_generator` is deprecated and '\n"
          ],
          "name": "stderr"
        },
        {
          "output_type": "stream",
          "text": [
            "Epoch 1/40\n",
            "200/200 [==============================] - 100s 392ms/step - loss: 242236.2344 - coeff_determination: -0.2528 - mae: 242236.2344 - val_loss: 207945.4375 - val_coeff_determination: -0.0429 - val_mae: 207945.4375\n",
            "Epoch 2/40\n",
            "200/200 [==============================] - 82s 405ms/step - loss: 211652.5156 - coeff_determination: -0.0527 - mae: 211652.5156 - val_loss: 209236.5625 - val_coeff_determination: -0.0116 - val_mae: 209236.5625\n",
            "Epoch 3/40\n",
            "200/200 [==============================] - 83s 410ms/step - loss: 209295.8750 - coeff_determination: -0.0363 - mae: 209295.8750 - val_loss: 206834.2031 - val_coeff_determination: -0.0418 - val_mae: 206834.2031\n",
            "Epoch 4/40\n",
            "200/200 [==============================] - 82s 409ms/step - loss: 210031.4531 - coeff_determination: -0.0339 - mae: 210031.4531 - val_loss: 209860.9375 - val_coeff_determination: 0.0174 - val_mae: 209860.9375\n",
            "Epoch 5/40\n",
            "200/200 [==============================] - 82s 405ms/step - loss: 209869.9219 - coeff_determination: -0.0317 - mae: 209869.9219 - val_loss: 206086.8906 - val_coeff_determination: -0.0233 - val_mae: 206086.8906\n",
            "Epoch 6/40\n",
            "200/200 [==============================] - 82s 405ms/step - loss: 207612.1562 - coeff_determination: -0.0236 - mae: 207612.1562 - val_loss: 205885.5625 - val_coeff_determination: -0.0052 - val_mae: 205885.5625\n",
            "Epoch 7/40\n",
            "200/200 [==============================] - 84s 416ms/step - loss: 206661.8594 - coeff_determination: -0.0206 - mae: 206661.8594 - val_loss: 206873.7344 - val_coeff_determination: -0.1015 - val_mae: 206873.7344\n",
            "Epoch 8/40\n",
            "200/200 [==============================] - 84s 418ms/step - loss: 207465.7031 - coeff_determination: -0.0210 - mae: 207465.7031 - val_loss: 204586.6719 - val_coeff_determination: -0.0438 - val_mae: 204586.6719\n",
            "Epoch 9/40\n",
            "200/200 [==============================] - 81s 401ms/step - loss: 205668.5156 - coeff_determination: -0.0187 - mae: 205668.5156 - val_loss: 205483.8281 - val_coeff_determination: -0.0596 - val_mae: 205483.8281\n",
            "Epoch 10/40\n",
            "200/200 [==============================] - 83s 413ms/step - loss: 206703.5469 - coeff_determination: -0.0150 - mae: 206703.5469 - val_loss: 205326.3281 - val_coeff_determination: 0.0180 - val_mae: 205326.3281\n",
            "Epoch 11/40\n",
            "200/200 [==============================] - 83s 411ms/step - loss: 205845.9219 - coeff_determination: -0.0120 - mae: 205845.9219 - val_loss: 203257.3906 - val_coeff_determination: -0.0251 - val_mae: 203257.3906\n",
            "Epoch 12/40\n",
            "200/200 [==============================] - 84s 415ms/step - loss: 206673.4062 - coeff_determination: -0.0116 - mae: 206673.4062 - val_loss: 207363.3281 - val_coeff_determination: 0.0309 - val_mae: 207363.3281\n",
            "Epoch 13/40\n",
            "200/200 [==============================] - 83s 413ms/step - loss: 207807.7812 - coeff_determination: -0.0141 - mae: 207807.7812 - val_loss: 204947.1562 - val_coeff_determination: 0.0165 - val_mae: 204947.1562\n",
            "Epoch 14/40\n",
            "200/200 [==============================] - 84s 415ms/step - loss: 206159.4375 - coeff_determination: -0.0083 - mae: 206159.4375 - val_loss: 203419.5156 - val_coeff_determination: 0.0190 - val_mae: 203419.5156\n",
            "Epoch 15/40\n",
            "200/200 [==============================] - 82s 406ms/step - loss: 205957.0625 - coeff_determination: -0.0084 - mae: 205957.0625 - val_loss: 202029.7188 - val_coeff_determination: -0.0215 - val_mae: 202029.7188\n",
            "Epoch 16/40\n",
            "200/200 [==============================] - 83s 412ms/step - loss: 205033.4844 - coeff_determination: -0.0067 - mae: 205033.4844 - val_loss: 200406.9844 - val_coeff_determination: -0.0319 - val_mae: 200406.9844\n",
            "Epoch 17/40\n",
            "200/200 [==============================] - 83s 413ms/step - loss: 360287962136576.0000 - coeff_determination: -0.0066 - mae: 360287962136576.0000 - val_loss: 202210.3438 - val_coeff_determination: 0.0147 - val_mae: 202210.3438\n",
            "Epoch 18/40\n",
            "200/200 [==============================] - 84s 417ms/step - loss: 225015.0469 - coeff_determination: -0.1316 - mae: 225015.0469 - val_loss: 508944.3438 - val_coeff_determination: -2.0469 - val_mae: 508944.3438\n",
            "Epoch 19/40\n",
            "200/200 [==============================] - 83s 411ms/step - loss: 510649.3750 - coeff_determination: -1.9241 - mae: 510649.3750 - val_loss: 511612.9688 - val_coeff_determination: -1.9018 - val_mae: 511612.9688\n",
            "Epoch 20/40\n",
            "200/200 [==============================] - 83s 410ms/step - loss: 511466.5625 - coeff_determination: -1.9388 - mae: 511466.5625 - val_loss: 510756.1250 - val_coeff_determination: -1.9609 - val_mae: 510756.1250\n",
            "Epoch 21/40\n",
            "200/200 [==============================] - 81s 403ms/step - loss: 511302.8125 - coeff_determination: -1.9439 - mae: 511302.8125 - val_loss: 511491.5625 - val_coeff_determination: -1.9727 - val_mae: 511491.5625\n"
          ],
          "name": "stdout"
        }
      ]
    },
    {
      "cell_type": "markdown",
      "metadata": {
        "id": "ttWJaD_VIf4o"
      },
      "source": [
        "#### 4c. Plot the metrics"
      ]
    },
    {
      "cell_type": "code",
      "metadata": {
        "id": "JMSOgsC_V2Zx"
      },
      "source": [
        "def plot_loss(coeff_determination,val_coeff_determination):\n",
        "    \"\"\"Plots loss as a function of epoch for validation \n",
        "           and training sets\"\"\"\n",
        "    \n",
        "    plt.figure()\n",
        "    plt.plot(coeff_determination)\n",
        "    plt.plot(val_coeff_determination)\n",
        "    plt.title('Coefficient of Determination')\n",
        "    plt.ylabel('R-squared')\n",
        "    plt.xlabel('Epoch')\n",
        "    plt.legend(['Train', 'Test'], loc='upper right')\n",
        "    plt.show()"
      ],
      "execution_count": 21,
      "outputs": []
    },
    {
      "cell_type": "code",
      "metadata": {
        "colab": {
          "base_uri": "https://localhost:8080/",
          "height": 295
        },
        "id": "1fESOa6Wjhu7",
        "outputId": "62224995-77a5-4939-a486-dbdaf2ea2499"
      },
      "source": [
        "# Plot train vs test loss during training\n",
        "plot_loss(history.history['coeff_determination'], history.history['val_coeff_determination'])"
      ],
      "execution_count": 22,
      "outputs": [
        {
          "output_type": "display_data",
          "data": {
            "image/png": "[encoded data removed]",
            "text/plain": [
              "<Figure size 432x288 with 1 Axes>"
            ]
          },
          "metadata": {
            "needs_background": "light"
          }
        }
      ]
    },
    {
      "cell_type": "code",
      "metadata": {
        "id": "yBkMZuqzuT9_"
      },
      "source": [
        "def plot_loss(mae,val_mae):\n",
        "    \"\"\"Plots loss as a function of epoch for validation \n",
        "           and training sets\"\"\"\n",
        "    \n",
        "    plt.figure()\n",
        "    plt.plot(mae)\n",
        "    plt.plot(val_mae)\n",
        "    plt.title('Model loss')\n",
        "    plt.ylabel('Loss')\n",
        "    plt.xlabel('Epoch')\n",
        "    plt.legend(['Train', 'Test'], loc='upper right')\n",
        "    plt.show()"
      ],
      "execution_count": 23,
      "outputs": []
    },
    {
      "cell_type": "code",
      "metadata": {
        "colab": {
          "base_uri": "https://localhost:8080/",
          "height": 295
        },
        "id": "ZpNRVei-ghpQ",
        "outputId": "4fd2199b-9c8f-4f7c-a6fb-8a15b0a9b244"
      },
      "source": [
        "\n",
        "# Plot train vs test loss during training\n",
        "plot_loss(history.history['mae'], history.history['val_mae'])"
      ],
      "execution_count": 24,
      "outputs": [
        {
          "output_type": "display_data",
          "data": {
            "image/png": "[encoded data removed]",
            "text/plain": [
              "<Figure size 432x288 with 1 Axes>"
            ]
          },
          "metadata": {
            "needs_background": "light"
          }
        }
      ]
    },
    {
      "cell_type": "code",
      "metadata": {
        "colab": {
          "base_uri": "https://localhost:8080/",
          "height": 367
        },
        "id": "Lmwm5OIVzB1n",
        "outputId": "e8276a0f-304b-4ce4-d8bd-b285341fe10e"
      },
      "source": [
        "# create figure\n",
        "fig= plt.figure(figsize=(14,5))\n",
        "#plt.suptitle('Artifical Neural Network on Home Features')\n",
        "titlesize=26\n",
        "fontsize=18\n",
        "# loss plot on left\n",
        "plt.subplot(1,2, 1)\n",
        "plt.plot(history.history['loss'])\n",
        "plt.plot(history.history['val_loss'])\n",
        "         \n",
        "plt.title('Model Loss', fontsize=titlesize)\n",
        "plt.ylabel('Mean absolute error in price', fontsize=fontsize)\n",
        "plt.xlabel('Epoch', fontsize=fontsize)\n",
        "\n",
        "# coeff plot on right\n",
        "plt.subplot(1,2, 2)\n",
        "plt.plot(history.history['coeff_determination'])\n",
        "plt.plot(history.history['val_coeff_determination'])\n",
        "\n",
        "plt.title('Model Performance', fontsize= titlesize)\n",
        "plt.ylabel('Coefficient of Determination',  fontsize=fontsize)\n",
        "plt.xlabel('Epoch', fontsize=fontsize)\n",
        "\n",
        "plt.show()"
      ],
      "execution_count": 25,
      "outputs": [
        {
          "output_type": "display_data",
          "data": {
            "image/png": "[encoded data removed]",
            "text/plain": [
              "<Figure size 1008x360 with 2 Axes>"
            ]
          },
          "metadata": {
            "needs_background": "light"
          }
        }
      ]
    },
    {
      "cell_type": "markdown",
      "metadata": {
        "id": "gGOaO68dmykv"
      },
      "source": [
        "#### 4d. Visualize the filters\n",
        "from : **https**://machinelearningmastery.com/how-to-visualize-filters-and-feature-maps-in-convolutional-neural-networks/"
      ]
    },
    {
      "cell_type": "code",
      "metadata": {
        "colab": {
          "base_uri": "https://localhost:8080/"
        },
        "id": "VH5X20ZGmvQ-",
        "outputId": "425f9f5f-b302-4fe0-c196-469b7acfeea8"
      },
      "source": [
        "# summarize filter shapes\n",
        "for layer in cnn2.layers:\n",
        "\t# check for convolutional layer\n",
        "\tif 'conv' not in layer.name:\n",
        "\t\tcontinue\n",
        "\t# get filter weights\n",
        "\tfilters, biases = layer.get_weights()\n",
        "\tprint(layer.name, filters.shape)\n",
        "\n",
        "#output is the name of the layer and the shape of the filter"
      ],
      "execution_count": 26,
      "outputs": [
        {
          "output_type": "stream",
          "text": [
            "conv2d (3, 3, 1, 32)\n",
            "conv2d_1 (3, 3, 32, 64)\n",
            "conv2d_2 (3, 3, 64, 128)\n",
            "conv2d_3 (3, 3, 128, 128)\n"
          ],
          "name": "stdout"
        }
      ]
    },
    {
      "cell_type": "code",
      "metadata": {
        "colab": {
          "base_uri": "https://localhost:8080/",
          "height": 252
        },
        "id": "MW6nMLu3mvOg",
        "outputId": "f5061699-2f65-4970-de7f-13cad6fe4b41"
      },
      "source": [
        "\n",
        "# plot first few filters\n",
        "n_filters, ix = 6, 1\n",
        "for i in range(n_filters):\n",
        "\t# get the filter\n",
        "\tf = filters[:, :, :, i]\n",
        "\t# plot each channel separately\n",
        "\tfor j in range(3):\n",
        "\t\t# specify subplot and turn of axis\n",
        "\t\tax = plt.subplot(n_filters, 3, ix)\n",
        "\t\tax.set_xticks([])\n",
        "\t\tax.set_yticks([])\n",
        "\t\t# plot filter channel in grayscale\n",
        "\t\tplt.imshow(f[:, :, j], cmap='gray')\n",
        "\t\tix += 1\n",
        "# show the figure\n",
        "plt.show()"
      ],
      "execution_count": 27,
      "outputs": [
        {
          "output_type": "display_data",
          "data": {
            "image/png": "[encoded data removed]",
            "text/plain": [
              "<Figure size 432x288 with 18 Axes>"
            ]
          },
          "metadata": {}
        }
      ]
    },
    {
      "cell_type": "code",
      "metadata": {
        "id": "npjuqXVV3xar"
      },
      "source": [
        ""
      ],
      "execution_count": 27,
      "outputs": []
    },
    {
      "cell_type": "code",
      "metadata": {
        "id": "cDS-JlYo3xXP"
      },
      "source": [
        ""
      ],
      "execution_count": 27,
      "outputs": []
    }
  ]
}