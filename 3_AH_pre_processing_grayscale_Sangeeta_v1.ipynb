{
  "nbformat": 4,
  "nbformat_minor": 0,
  "metadata": {
    "accelerator": "GPU",
    "colab": {
      "name": "3_AH_pre-processing_grayscale_Sangeeta.ipynb",
      "provenance": [],
      "collapsed_sections": [
        "yAS9ns0aAwjG"
      ],
      "include_colab_link": true
    },
    "kernelspec": {
      "display_name": "Python 3",
      "name": "python3"
    },
    "language_info": {
      "name": "python"
    }
  },
  "cells": [
    {
      "cell_type": "markdown",
      "metadata": {
        "id": "view-in-github",
        "colab_type": "text"
      },
      "source": [
        "<a href=\"https://colab.research.google.com/github/sangeetajay/Springboard/blob/master/3_AH_pre_processing_grayscale_Sangeeta_v1.ipynb\" target=\"_parent\"><img src=\"https://colab.research.google.com/assets/colab-badge.svg\" alt=\"Open In Colab\"/></a>"
      ]
    },
    {
      "cell_type": "markdown",
      "metadata": {
        "id": "J8gOpIOM71i9"
      },
      "source": [
        "# Final Capstone Project:\n",
        "## Predicting House Prices from Zillow Images\n"
      ]
    },
    {
      "cell_type": "markdown",
      "metadata": {
        "id": "mE8xapl47_SH"
      },
      "source": [
        "## Pre-Processing/Modeling Notebook 3:\n",
        "\n",
        "\n",
        "\n"
      ]
    },
    {
      "cell_type": "markdown",
      "metadata": {
        "id": "D3MS8FuoQY1e"
      },
      "source": [
        "#### imports"
      ]
    },
    {
      "cell_type": "code",
      "metadata": {
        "id": "d6k1AEnZgq2y"
      },
      "source": [
        "import numpy as np\n",
        "import os\n",
        "import matplotlib.pyplot as plt\n",
        "import pandas as pd \n",
        "import seaborn as sns \n",
        "%matplotlib inline\n",
        "\n",
        "import PIL\n",
        "import PIL.Image\n",
        "\n",
        "from sklearn.utils import shuffle\n",
        "from sklearn.preprocessing import StandardScaler\n",
        "from sklearn.model_selection import train_test_split\n",
        "from sklearn.metrics import classification_report\n",
        "from skimage.io import imread\n",
        "from skimage.transform import resize\n",
        "import math\n",
        "from IPython.display import display\n",
        "from skimage import io\n",
        "\n",
        "import tensorflow as tf\n",
        "from tensorflow import keras\n",
        "from tensorflow.keras import applications\n",
        "from tensorflow.keras.preprocessing.image import ImageDataGenerator\n",
        "from tensorflow.keras.layers import Dense, Dropout, BatchNormalization, GlobalAveragePooling2D, Flatten, Conv2D, MaxPooling2D\n",
        "from tensorflow.keras.utils import Sequence\n",
        "from tensorflow.keras.layers import Dense, Dropout, Flatten, Conv2D, MaxPooling2D"
      ],
      "execution_count": 1,
      "outputs": []
    },
    {
      "cell_type": "markdown",
      "metadata": {
        "id": "e4q0wDwKZCaD"
      },
      "source": [
        "#### installs"
      ]
    },
    {
      "cell_type": "code",
      "metadata": {
        "id": "BDA-glPFpu-F"
      },
      "source": [
        "#!pip install -q tensorflow==2.1\n",
        "#!pip install -q keras==2.3.1\n",
        "#!pip install -q tensorflow-estimator==2.1.\n",
        "#!pip install gast==0.3.2\n",
        "#!pip install tensorflow"
      ],
      "execution_count": 2,
      "outputs": []
    },
    {
      "cell_type": "markdown",
      "metadata": {
        "id": "1jot_1DQVDW7"
      },
      "source": [
        "### Load the data"
      ]
    },
    {
      "cell_type": "code",
      "metadata": {
        "colab": {
          "base_uri": "https://localhost:8080/"
        },
        "id": "x5t1cjTHw5LX",
        "outputId": "869bf247-7338-4be7-932d-bbc1078186e7"
      },
      "source": [
        "from google.colab import drive\n",
        "drive.mount('/content/drive')"
      ],
      "execution_count": 3,
      "outputs": [
        {
          "output_type": "stream",
          "text": [
            "Drive already mounted at /content/drive; to attempt to forcibly remount, call drive.mount(\"/content/drive\", force_remount=True).\n"
          ],
          "name": "stdout"
        }
      ]
    },
    {
      "cell_type": "code",
      "metadata": {
        "colab": {
          "base_uri": "https://localhost:8080/",
          "height": 223
        },
        "id": "WRI-H-Oqgq-w",
        "outputId": "4250f118-bf95-4f90-be9e-9b4b5284b821"
      },
      "source": [
        "# load the cleaned dataset with image name and price\n",
        "# these are the 'labels' for the images\n",
        "file = '/content/drive/MyDrive/cleaned_AH_data_v2.csv'\n",
        "train_labels = pd.read_csv(file)\n",
        "# remove the .jpg from the image names\n",
        "train_labels['Image Name'] = train_labels['Image Name'].str.rstrip('.jpg')\n",
        "#check the shape\n",
        "print(train_labels.shape)\n",
        "\n",
        "train_labels.head()"
      ],
      "execution_count": 4,
      "outputs": [
        {
          "output_type": "stream",
          "text": [
            "(15012, 2)\n"
          ],
          "name": "stdout"
        },
        {
          "output_type": "execute_result",
          "data": {
            "text/html": [
              "<div>\n",
              "<style scoped>\n",
              "    .dataframe tbody tr th:only-of-type {\n",
              "        vertical-align: middle;\n",
              "    }\n",
              "\n",
              "    .dataframe tbody tr th {\n",
              "        vertical-align: top;\n",
              "    }\n",
              "\n",
              "    .dataframe thead th {\n",
              "        text-align: right;\n",
              "    }\n",
              "</style>\n",
              "<table border=\"1\" class=\"dataframe\">\n",
              "  <thead>\n",
              "    <tr style=\"text-align: right;\">\n",
              "      <th></th>\n",
              "      <th>Image Name</th>\n",
              "      <th>Price</th>\n",
              "    </tr>\n",
              "  </thead>\n",
              "  <tbody>\n",
              "    <tr>\n",
              "      <th>0</th>\n",
              "      <td>111373431_ffce26843283d3365c11d81b8e6bdc6f-p_f</td>\n",
              "      <td>305000</td>\n",
              "    </tr>\n",
              "    <tr>\n",
              "      <th>1</th>\n",
              "      <td>120900430_8255c127be8dcf0a1a18b7563d987088-p_f</td>\n",
              "      <td>295000</td>\n",
              "    </tr>\n",
              "    <tr>\n",
              "      <th>2</th>\n",
              "      <td>2084491383_a2ad649e1a7a098111dcea084a11c855-p_f</td>\n",
              "      <td>256125</td>\n",
              "    </tr>\n",
              "    <tr>\n",
              "      <th>3</th>\n",
              "      <td>120901374_b469367a619da85b1f5ceb69b675d88e-p_f</td>\n",
              "      <td>240000</td>\n",
              "    </tr>\n",
              "    <tr>\n",
              "      <th>4</th>\n",
              "      <td>60134862_b1a48a3df3f111e005bb913873e98ce2-p_f</td>\n",
              "      <td>239900</td>\n",
              "    </tr>\n",
              "  </tbody>\n",
              "</table>\n",
              "</div>"
            ],
            "text/plain": [
              "                                        Image Name   Price\n",
              "0   111373431_ffce26843283d3365c11d81b8e6bdc6f-p_f  305000\n",
              "1   120900430_8255c127be8dcf0a1a18b7563d987088-p_f  295000\n",
              "2  2084491383_a2ad649e1a7a098111dcea084a11c855-p_f  256125\n",
              "3   120901374_b469367a619da85b1f5ceb69b675d88e-p_f  240000\n",
              "4    60134862_b1a48a3df3f111e005bb913873e98ce2-p_f  239900"
            ]
          },
          "metadata": {
            "tags": []
          },
          "execution_count": 4
        }
      ]
    },
    {
      "cell_type": "markdown",
      "metadata": {
        "id": "yAS9ns0aAwjG"
      },
      "source": [
        "#### Unzipping the images from google drive"
      ]
    },
    {
      "cell_type": "code",
      "metadata": {
        "colab": {
          "base_uri": "https://localhost:8080/"
        },
        "id": "nrKevOx9nzFd",
        "outputId": "7f2e4d8c-ffd1-4000-d8cb-f8749a52d42f"
      },
      "source": [
        "!unzip /content/drive/MyDrive/ResizedGrayImages.zip"
      ],
      "execution_count": 5,
      "outputs": [
        {
          "output_type": "stream",
          "text": [
            "Archive:  /content/drive/MyDrive/ResizedGrayImages.zip\n",
            "replace ResizedGrayImages/70342475_47ba545f8d30d79930ead321dcbf11cf-p_f.jpg? [y]es, [n]o, [A]ll, [N]one, [r]ename: "
          ],
          "name": "stdout"
        }
      ]
    },
    {
      "cell_type": "markdown",
      "metadata": {
        "id": "KU_-TZZW0Zsm"
      },
      "source": [
        "### Function to get a image:\n",
        "\n"
      ]
    },
    {
      "cell_type": "code",
      "metadata": {
        "id": "iOle6qdQ0ecU"
      },
      "source": [
        "\n",
        "#Write function to get a specific image\n",
        "\n",
        "def load_pic(file_name, fig_type='jpg'):\n",
        "\n",
        "    img_path = ('/content/ResizedGrayImages/{}').format(file_name)\n",
        "    img = io.imread(img_path)\n",
        "    #normalize the image by dividing each pixel by 255\n",
        "    img = img/255\n",
        "    return np.reshape(img,[250,300,1])"
      ],
      "execution_count": 6,
      "outputs": []
    },
    {
      "cell_type": "code",
      "metadata": {
        "colab": {
          "base_uri": "https://localhost:8080/"
        },
        "id": "RkHSPLMu2vQt",
        "outputId": "2ff34b4e-19a6-456a-d267-9aff62ce4171"
      },
      "source": [
        "#testing the above 'load_image- function\n",
        "\n",
        "image = load_pic('110538801_b74a3118da9370a14aa8a5e96d93c27c-p_f.jpg')\n",
        "\n",
        "#plt.imshow(image)\n",
        "print(image.shape)\n",
        "print(image)"
      ],
      "execution_count": 7,
      "outputs": [
        {
          "output_type": "stream",
          "text": [
            "(250, 300, 1)\n",
            "[[[0.45882353]\n",
            "  [0.7254902 ]\n",
            "  [0.65098039]\n",
            "  ...\n",
            "  [0.4       ]\n",
            "  [0.4       ]\n",
            "  [0.4       ]]\n",
            "\n",
            " [[0.58431373]\n",
            "  [0.54901961]\n",
            "  [0.43529412]\n",
            "  ...\n",
            "  [0.4       ]\n",
            "  [0.4       ]\n",
            "  [0.4       ]]\n",
            "\n",
            " [[0.51764706]\n",
            "  [0.3372549 ]\n",
            "  [0.28627451]\n",
            "  ...\n",
            "  [0.4       ]\n",
            "  [0.4       ]\n",
            "  [0.4       ]]\n",
            "\n",
            " ...\n",
            "\n",
            " [[0.72941176]\n",
            "  [0.76078431]\n",
            "  [0.74509804]\n",
            "  ...\n",
            "  [0.84705882]\n",
            "  [0.85098039]\n",
            "  [0.85882353]]\n",
            "\n",
            " [[0.7372549 ]\n",
            "  [0.70588235]\n",
            "  [0.76470588]\n",
            "  ...\n",
            "  [0.83529412]\n",
            "  [0.83921569]\n",
            "  [0.84705882]]\n",
            "\n",
            " [[0.68235294]\n",
            "  [0.61568627]\n",
            "  [0.69411765]\n",
            "  ...\n",
            "  [0.83529412]\n",
            "  [0.83921569]\n",
            "  [0.84705882]]]\n"
          ],
          "name": "stdout"
        }
      ]
    },
    {
      "cell_type": "markdown",
      "metadata": {
        "id": "Q0Nh0-jN2CYv"
      },
      "source": [
        "#### checking the number of files in the *folder*"
      ]
    },
    {
      "cell_type": "code",
      "metadata": {
        "colab": {
          "base_uri": "https://localhost:8080/"
        },
        "id": "__bmSHJ0F9rp",
        "outputId": "095eb811-8375-490f-b824-f9f9bc1c6ac8"
      },
      "source": [
        "\n",
        "APP_FOLDER = '/content/ResizedGrayImages/'\n",
        "totalDir = 0\n",
        "totalFiles = 0\n",
        "for base, dirs, files in os.walk(APP_FOLDER):\n",
        "    print('Searching in : ',base)\n",
        "    for directories in dirs:\n",
        "        totalDir += 1\n",
        "    for Files in files:\n",
        "        totalFiles += 1\n",
        "totalFiles    "
      ],
      "execution_count": 8,
      "outputs": [
        {
          "output_type": "stream",
          "text": [
            "Searching in :  /content/ResizedGrayImages/\n"
          ],
          "name": "stdout"
        },
        {
          "output_type": "execute_result",
          "data": {
            "text/plain": [
              "15172"
            ]
          },
          "metadata": {
            "tags": []
          },
          "execution_count": 8
        }
      ]
    },
    {
      "cell_type": "markdown",
      "metadata": {
        "id": "VeV9PwjgA9I5"
      },
      "source": [
        "# Preparing for Generator"
      ]
    },
    {
      "cell_type": "code",
      "metadata": {
        "id": "fw7RW9-o1ohv"
      },
      "source": [
        "#adapted from https://stanford.edu/~shervine/blog/keras-how-to-generate-data-on-the-fly\n"
      ],
      "execution_count": 9,
      "outputs": []
    },
    {
      "cell_type": "code",
      "metadata": {
        "colab": {
          "base_uri": "https://localhost:8080/",
          "height": 205
        },
        "id": "HCGDwTIHrwDy",
        "outputId": "08540bac-b954-465e-aaea-d26a249c35c3"
      },
      "source": [
        "train_labels.head() # this is our dataframe of the image name and labels (price)"
      ],
      "execution_count": 10,
      "outputs": [
        {
          "output_type": "execute_result",
          "data": {
            "text/html": [
              "<div>\n",
              "<style scoped>\n",
              "    .dataframe tbody tr th:only-of-type {\n",
              "        vertical-align: middle;\n",
              "    }\n",
              "\n",
              "    .dataframe tbody tr th {\n",
              "        vertical-align: top;\n",
              "    }\n",
              "\n",
              "    .dataframe thead th {\n",
              "        text-align: right;\n",
              "    }\n",
              "</style>\n",
              "<table border=\"1\" class=\"dataframe\">\n",
              "  <thead>\n",
              "    <tr style=\"text-align: right;\">\n",
              "      <th></th>\n",
              "      <th>Image Name</th>\n",
              "      <th>Price</th>\n",
              "    </tr>\n",
              "  </thead>\n",
              "  <tbody>\n",
              "    <tr>\n",
              "      <th>0</th>\n",
              "      <td>111373431_ffce26843283d3365c11d81b8e6bdc6f-p_f</td>\n",
              "      <td>305000</td>\n",
              "    </tr>\n",
              "    <tr>\n",
              "      <th>1</th>\n",
              "      <td>120900430_8255c127be8dcf0a1a18b7563d987088-p_f</td>\n",
              "      <td>295000</td>\n",
              "    </tr>\n",
              "    <tr>\n",
              "      <th>2</th>\n",
              "      <td>2084491383_a2ad649e1a7a098111dcea084a11c855-p_f</td>\n",
              "      <td>256125</td>\n",
              "    </tr>\n",
              "    <tr>\n",
              "      <th>3</th>\n",
              "      <td>120901374_b469367a619da85b1f5ceb69b675d88e-p_f</td>\n",
              "      <td>240000</td>\n",
              "    </tr>\n",
              "    <tr>\n",
              "      <th>4</th>\n",
              "      <td>60134862_b1a48a3df3f111e005bb913873e98ce2-p_f</td>\n",
              "      <td>239900</td>\n",
              "    </tr>\n",
              "  </tbody>\n",
              "</table>\n",
              "</div>"
            ],
            "text/plain": [
              "                                        Image Name   Price\n",
              "0   111373431_ffce26843283d3365c11d81b8e6bdc6f-p_f  305000\n",
              "1   120900430_8255c127be8dcf0a1a18b7563d987088-p_f  295000\n",
              "2  2084491383_a2ad649e1a7a098111dcea084a11c855-p_f  256125\n",
              "3   120901374_b469367a619da85b1f5ceb69b675d88e-p_f  240000\n",
              "4    60134862_b1a48a3df3f111e005bb913873e98ce2-p_f  239900"
            ]
          },
          "metadata": {
            "tags": []
          },
          "execution_count": 10
        }
      ]
    },
    {
      "cell_type": "markdown",
      "metadata": {
        "id": "8gnnYo5bzSIX"
      },
      "source": [
        "##### create a lookup dictionary called labels"
      ]
    },
    {
      "cell_type": "code",
      "metadata": {
        "id": "4YTYjdvPzDgQ"
      },
      "source": [
        "labels_df = train_labels['Price']\n",
        "labels_df.index = train_labels['Image Name']\n",
        "\n",
        "#Create a lookup dictionary containing the labels for each image sample, we will use this on our data generator object\n",
        "\n",
        "labels = labels_df.to_dict(into=dict)"
      ],
      "execution_count": 11,
      "outputs": []
    },
    {
      "cell_type": "markdown",
      "metadata": {
        "id": "ySIYq-_Gzbp5"
      },
      "source": [
        "##### create a dictionary called partition with train and validation"
      ]
    },
    {
      "cell_type": "code",
      "metadata": {
        "id": "rNT_b9wsykDV"
      },
      "source": [
        "#Create a dictionary called partition where you gather:\n",
        "\n",
        "train_part = train_labels.sample(frac=0.8,random_state=200) #random state is a seed value\n",
        "test_part = train_labels.drop(train_part.index)\n",
        "\n",
        "partition = {}\n",
        "\n",
        "# in partition['train'] a list of training IDs\n",
        "partition['train'] = list(train_part['Image Name'])\n",
        "\n",
        "# in partition['validation'] a list of validation IDs\n",
        "partition['validation'] = list(test_part['Image Name'])\n",
        "\n"
      ],
      "execution_count": 12,
      "outputs": []
    },
    {
      "cell_type": "code",
      "metadata": {
        "colab": {
          "base_uri": "https://localhost:8080/"
        },
        "id": "0UXr5tpepKhn",
        "outputId": "de913c18-c65a-4c58-c414-b20664e997ec"
      },
      "source": [
        "# checking what we did: created a test set and a validation set \n",
        "print(type(partition['train']))\n",
        "print(partition['validation'])\n",
        "print(len(partition['train']))\n",
        "print(len(partition['validation']))\n"
      ],
      "execution_count": 13,
      "outputs": [
        {
          "output_type": "stream",
          "text": [
            "<class 'list'>\n",
            "['2084491383_a2ad649e1a7a098111dcea084a11c855-p_f', '120901374_b469367a619da85b1f5ceb69b675d88e-p_f', '2080105342_553d16748c296fce71f33902edd98d2d-p_f', '116080992_83c089e97b4e96ecb01c3555fa8252d0-p_f', '88013985_6d4b35d2a232c42fcc863317f22401c7-p_f', '70355990_04f1194f797deba9500ba186fa208bde-p_f', '70333917_38e0174e92f0a3743d95f5d04f1d5a71-p_f', '29366912_2fa103c62c3954827b01dfd5c0fc162a-p_f', '69808963_db27c0b5ccf2da4dee52c45796a1aa73-p_f', '89548844_7c09c2874d6229ab2a66778ef49e39a5-p_f', '63228462_cb341a255f875034524d1f4891127c77-p_f', '96639474_cd2c016209f6d3cae48b6b6c34ec7887-p_f', '80094409_18d24472ab3cd2cf322d28f398d940b9-p_f', '70355962_e27d5d4ed70a50b13eae203d2fc90546-p_f', '29376480_a23f17b68055f8ee74eaa60a14a6d24e-p_f', '29370900_130c0ecaa8beb4d1ba2917cb717c3697-p_f', '185218453_3e973c89630316bc19e884e7d0875fce-p_f', '29375972_a73d2411f33138da0a0cb6218092bcca-p_f', '29370850_d8a1b96226836fa6236d53cd75751010-p_f', '2082038175_457fd02d2caf702afb49207c45707748-p_f', '83823977_d477586bfb2f6f16d9d8efc755234add-p_f', '29355980_streetviewlocation7903EntradaCv2CAustin2CTX78730size1025x768keyAIzaSyARFMLB1na-BBWf7_R3-5YOQQaHqEJf6RQsourceoutdoorsignatureukwWnElc9qYCZZ17lBgS2QhXtG', '70352465_c6346c4a39d1f87578ee1529329d9296-p_f', '58265966_412cd827f4cea4cd05ceef5b4611f379-p_f', '70352461_a09cfad45a949f7195c9540224f51e49-p_f', '121658390_2437d71b068aee815e58a4ec556424b8-p_f', '29370836_460f7fb0fc28bba5a17dc372cc7f64a0-p_f', '116080928_a7fa711565fa3b86e102dc66163499d3-p_f', '29353976_b80e5c08660a0aff9a83e348cf6545e1-p_f', '29366834_ea36d4346b0997f7d56512f5480b4c26-p_f', '29465145_f70d2e8226f9a3a4b147eab5a108bfa5-p_f', '80090962_b06ea20dda04e5bfcf5aa82b01a57287-p_f', '29374964_fb44e1b8a1061d5087161af67b6388a0-p_f', '185217426_24146b3b24a6ccbf404a7d9c356c608a-p_f', '83814445_6d386d5ead63e73314c96ddd59d13dd4-p_f', '2087686692_49ee480b769bbce82c2abf2ebc3dc82d-p_f', '29353975_1ad847b009c8114ee1e8a7ab0d222095-p_f', '29343949_a1fc37be8902d0077655098aaffee746-p_f', '29374462_03b3f7dbcecd00b2e3e01ba0a2dc803f-p_f', '145658835_f27581f1ee2ab3a8a6755de708cec292-p_f', '79981874_2ca7e1d41a4f6d1b55560eb81863bc7b-p_f', '29344951_8940f352dad235dffb014cb5c9f5420c-p_f', '145658832_52e7ad0bcd09931f1ce13322bcd7f91c-p_f', '29334450_3d3679124def36d52c2a0af70d981a47-p_f', '64901960_6f9a21c6710b9b5335c7ce1264ce7386-p_f', '29396923_30efa9fa15a720c9b7e33c63f73d9869-p_f', '29344946_f69d74e4eac42d1d8c863d4fc501366a-p_f', '58298866_e36eaa6b6624d0a9c522b4f910dbe034-p_f', '79981862_ffdb1076e400cbe0254c1b87a8d628a1-p_f', '58298454_ba261e2c2f1fd2d7bca9ba0ba83260d1-p_f', '2080854860_77fa72d32bc9f4a9e57eaa3fe197940a-p_f', '83819673_b23aa46b9aa89694ad6e0ba588abeb60-p_f', '29368449_1d5757fc37e93345c48593e395f13b21-p_f', '120290135_098fe589a9a4a0fd08972dddb8f58bd4-p_f', '29376446_4ccb1fcaaac32b68a554ab46c5cfc4ba-p_f', '80093390_b1a4de0d5f04431b0175698e9022dc8d-p_f', '70330432_528c856852848a250104e0a1c8720e8c-p_f', '63835353_51cea53f75118b91e7d4c5f0d22bb267-p_f', '29351445_a6a0786d93706f1acf78cf7954e0ad6e-p_f', '29341408_fa48acaed2fc916f22d9495233b0827a-p_f', '83824877_020d855970f45696eafe897cc5e38ec5-p_f', '29351438_bd4437faa6a254f4d29ff0ceeb0715ce-p_f', '29342427_streetviewlocation9803TimberRidgePass2CAustin2CTX78733size1025x768keyAIzaSyARFMLB1na-BBWf7_R3-5YOQQaHqEJf6RQsourceoutdoorsignature6PKRWTQSs-1HhDfHFD95YsMAEyI', '29396897_b1bb563b39c86b7f4a31c049ca776eb3-p_f', '119984117_7e91f80e323602d80b04a643f74984ec-p_f', '83827393_a3db1553a493cc74b9f85e8ca4db87d9-p_f', '89551502_432f732f827514e764dbe55d1211c1c6-p_f', '29342422_fa75e4a6bad8d214a65a1cba5a7b59ad-p_f', '29368601_5aba10af522d4a61a952802e8ba07309-p_f', '29357371_b25c8e5720ffc7eaa5d7cbdb046e47d2-p_f', '70336913_e58ce36785bfa38826257987140a12f4-p_f', '29357369_209e52d3aac55c6b05b0396cb7da570f-p_f', '70992361_streetviewlocation15308StakedPlainsLoop2CAustin2CTX78717size1025x768keyAIzaSyARFMLB1na-BBWf7_R3-5YOQQaHqEJf6RQsourceoutdoorsignaturetGXnJGJr_zJ0rpZ6fYUPME_0KEY', '29357366_dea1f10caf4f6341d11414b1483af5ef-p_f', '29368548_b278e1b30197a20d1390217c1d84e1fb-p_f', '29341393_ee544b668d20341bab1b0863dc62ef59-p_f', '111372714_97bb79afdb1a750007a00ce6cfdf47f0-p_f', '29368531_9e4ab92970a55ea1883e760235d91f6b-p_f', '29343391_2ef7a02fb37d648d338e00ac78892584-p_f', '70352403_90ddfcbddb11bb2f781c7c922e0a9ebc-p_f', '58298426_5535d848f1c51a35ae79bd19fd5cbf24-p_f', '70330400_9afb7cb79afd38289ff55af8b17596b2-p_f', '251032578_1a8705f2249b002807e3d78c2bd4e416-p_f', '111973229_a739e4820e9d004af9a0247631122e0b-p_f', '70992346_4348f708f9a6eed80d92b894d39f86d2-p_f', '241931861_ac91ef4d20af2ed5e65970d95cb87e33-p_f', '70352400_23907291113558e0b998ced7ce0d83f2-p_f', '29395357_39ed18971c5fb082b65708cdacf85671-p_f', '55299488_4732016415b172738a01b6e0b8f5eba3-p_f', '70348219_8ca2e08450ff8a59f5e16da8c70e6ef7-p_f', '251033728_c83eaf51cd99d53ad1ee52a29dac5c37-p_f', '70992334_e178ce009e10159520bcd517badacdae-p_f', '29346897_e8f9ebf8e1b6a695c7d7576e590ff08e-p_f', '70992331_b5efc13737cbd72090b24246b65077a1-p_f', '29351415_db7151c5885c9b24f8eb19f17edb80f8-p_f', '241938219_d5cd974dbcde871fb967e36f6104bf13-p_f', '29344861_941db8c10a5dd59976e0c1431e6f8480-p_f', '29368500_6b555c336bd18250e89e839e41297b81-p_f', '29351414_f9e1cf8ec0f1876a0aed930ae3881dc0-p_f', '2088560215_3eb84298fa69ebecb7a9c2181843b2d2-p_f', '29461309_6e1d9764e31cfc0e7c666fc96764127c-p_f', '55299479_84fb4c71afe9a1f4ce3298b410e7410d-p_f', '29351909_904fee59d43ef209c60101745bf232ae-p_f', '29439010_38500ca62ffb1df6035a3a0fbbacb211-p_f', '29471186_a9d452581dfac6f77f08f54c488c4c65-p_f', '58297966_36cb124a9e8fdc17d824bb577d939481-p_f', '29462690_d6ba73de91adfc8f60d23a61167012af-p_f', '29343832_1f0d6acf3c0baed4044c612810bfba30-p_f', '55299476_7a39104f0f7299166c109693671f6785-p_f', '29464189_2e4b8c8e5cf9763ae10a3abe16196227-p_f', '29342388_11f9e35eb2531b7de9229ba44ebe0ba5-p_f', '29344833_c0c93f148e0606f110b27ab7834fad0a-p_f', '70336887_d7529e8080c033243be384ea3b983bbf-p_f', '29361809_09771acbd2bf59a059de416f26c10923-p_f', '29462679_11bef4cd35c54e0879d32e9cd27e31a1-p_f', '29353897_eb5c1b6004302428284922ea630ffcab-p_f', '29342316_ed5e8dd1538a6aeeb3081b196b36e03b-p_f', '29372402_ec146452850a7f6e4347b160df4042e6-p_f', '145656091_260d9e612d779acdc41b4cd25a712cc7-p_f', '29470429_5b8e070b4837af17472ac327ac481e78-p_f', '29342304_870ab9eb155b9fea370ce82bba5423cf-p_f', '70352288_b8f6571220d6410445d174488e6f01ae-p_f', '83819425_bc1feac5786403b0a51892691d129b6f-p_f', '243293463_17ddad1c3dec6d44155b9cba6f3e41e4-p_f', '70345662_4341bd1d10a19c85c254d4c1cc440417-p_f', '89550796_aaf067abcfba6e89d53073f00cdc2402-p_f', '70345631_8cee3c68c66510844f960f809f797db1-p_f', '114157955_56e4bed819ef2b6cec3e96fed0dda30a-p_f', '64578358_334d002db90b873d54ef6718701a2ff3-p_f', '251029914_659f8868728ac3c841ccf9b0908430d4-p_f', '125934135_7c43e72dd0eb69f52244a9cb8428e31d-p_f', '70345913_82c51b01a926ad35fe63f3d17b35229c-p_f', '2098913275_bc284005d9758c53fbb10682e0d719ad-p_f', '70345600_f212ee5230541d1e1271d90dd8fefc1f-p_f', '29377392_7f3af67e4f40bf42502fc68e92a95d10-p_f', '125739266_0fb36775ff21476141130495707ca394-p_f', '29351873_1200f57158c6006a385611a4e28e6b17-p_f', '185217270_54067a9c953bf60cc1d5fec0a04289ec-p_f', '63712399_773db0fcf4aa97103aba349c3dc84f47-p_f', '29342348_b04d3e72f56574ddf0bfb53f2787258c-p_f', '111372751_28db7c2db2b2fa05199d72fb3865c807-p_f', '119618443_cb23df6558b5877e8c6b877c1d7edbff-p_f', '70337262_streetviewlocation7113MalibuCv2CAustin2CTX78730size1025x768keyAIzaSyARFMLB1na-BBWf7_R3-5YOQQaHqEJf6RQsourceoutdoorsignatureiRFpPWvggUy8eAdeR7iRHIghzH0', '243334255_70e70b4638956274245a287808e09dce-p_f', '29359361_9f788c88811fba126711e71dff16636b-p_f', '29344758_fe0d7a0ff6819f5600b80b33f1d16040-p_f', '70345883_b1815ac4b7e6b3307ecb000dcaa71e93-p_f', '29343838_c77ed05fa65b8504255052dd46578af5-p_f', '145551603_d15b90f27a76020fa42bf715e12b9882-p_f', '29361742_51e01d3f6b73a668fca0cb64720b5b5e-p_f', '2090437934_ed5cc58062618a5412b227d31dc48656-p_f', '125803744_808ebbdee432d7f43ee88d9761895af8-p_f', '58298859_4379c8193d5cf9bc00812f8ac704ce60-p_f', '80096879_d3084f6c4c9798d9947d0c8ff43128a7-p_f', '145655592_7615205396fa6aa2c6fc244e44863de5-p_f', '125230931_1651869ba1ab295f5d2a9de222f8f72f-p_f', '29344738_fb09fc90c75093e9396edd5b4de916b5-p_f', '70352232_dd2384f08f130f6397bb2e46165598ff-p_f', '29470367_26b0401f32a1ff0d57ac56c26fc202de-p_f', '29361730_cf4fb7e98eab8d183e2ad6b83ce0fc8a-p_f', '29351336_5ddba3d39858abd07bca7da33ec60985-p_f', '70341866_941f8129263609bd4fa2b6dc826b593a-p_f', '70352228_1727c16ee37dae3a915266615be2f2ac-p_f', '145653227_23435ba3efe63b7c333fe3dff17cf366-p_f', '58300371_11d1b1756cc2eb3b4c9598fa0bc1ba76-p_f', '64488353_9b693da0bd8143c899865e7894514d6a-p_f', '29351824_f1c77d6c0de71c177b267a6540107f75-p_f', '64698200_7a4aa2cb5c7ea897f4dfc880b645fc80-p_f', '83817227_62bece17177b55cc2e71d503210602d1-p_f', '58301197_e43a8f7591a24fe74088ba81b910ce78-p_f', '145657207_cdf4f1984dcfc58588e87483d774a3e8-p_f', '28591920_e879d0cc2c08d37abbaa093ec0a11aaf-p_f', '70342344_1184436e1445a7117f9dce166bda22a9-p_f', '29368367_5762a5dbec9b53119e877e7950d6352c-p_f', '83821706_c3994093ff3902fd4007b9ca070506c8-p_f', '70352206_7185d8a7136c87f412b4cf06833f5504-p_f', '89550915_807aba4fdaa4bac63db10f633b80b97a-p_f', '80104819_5b3699e1b38bf6d74b2aff166afa7ac6-p_f', '249913071_ce63801ba6fbac2b0d40c18f90cbbce3-p_f', '70352478_805b5a6b748b1d9cffeb93a4c41fedb0-p_f', '29470334_0c6a593f71ad298d3d20bf665743900d-p_f', '29334477_026aee3d43c070538324257994b36972-p_f', '29588860_5d799054b0180a1ba5804430202d40b6-p_f', '120088690_8c8e0ade2efa13abe5b1619c510b6de0-p_f', '29470310_958cf4ec91188518d24f6ec383600b4b-p_f', '83124810_54194001a5bc9c82fa19864206c3e46e-p_f', '111719175_de94a4a1cad88a49c7572e3034dd8c84-p_f', '83124842_1cf72ff96f826f5641cd479b690879e3-p_f', '122577183_72efa8b1ec7848465e32d1e035595147-p_f', '111719174_8cb1192693fc94ebe4d103c05335411a-p_f', '125915673_2adff14650c76b1ca7d8899dee40329e-p_f', '63834670_e72fe1c48765609f7570064a6aaa533d-p_f', '83817142_40d595f69316e15cfa4de67a4d34ae9f-p_f', '119621889_99349b9f76cfd1dd13517b6f94a6d2c0-p_f', '2089111155_e878ca0346600e7c0ff04203079baa95-p_f', '58298794_ae106608ed0f5ae2e4e8dff6ac1a44e9-p_f', '89549801_ab09192a79bdd1e4c6ebca7d2ef32be6-p_f', '120772665_38607debc3ee84b8194101b34b530b7a-p_f', '64812633_668f8317bbab0e3d3580cfd63c825695-p_f', '241933052_64e15f69a53d4a100d4ffe61759a6768-p_f', '70326632_cc3c08f6145bfdf12e76d2db6363cae6-p_f', '88018155_eec7ca97afd5cecd661c34977d75e186-p_f', '89548796_streetviewsize1025x768location30.349878311157227-97.90374755859375keyAIzaSyBJsNQO5ZeG-XAbqqWLKwG08fWITSxg33wsignatureZyKvvKv1Wl-aLYJZzEwkZRSMBEA', '29363276_c4e0d7cacd7d319d28a09963c17ce077-p_f', '60138138_c060b8fb8a4e5a44a595bfa1b31fce27-p_f', '80084882_1aa84de0152cedcda365febb446b1a8b-p_f', '29351768_c711ba974c3b797d8aed254fc009baa9-p_f', '58298766_cdb5d7e8f629b52a7f3dfaee19079976-p_f', '83817288_1c7ae5a744ca0a2c0d1ed67707da21d5-p_f', '29351764_813c46b07f569bbd10ba096eb3ff509a-p_f', '29344625_ca96954243e6d8b96f311d3dc3f47762-p_f', '70344611_7db725e763d937b850b5d0c22bb230af-p_f', '29346617_905da99d2d7f18c5d17aafc7b389d7aa-p_f', '88026632_abb893089860e58045f09b51842c7db5-p_f', '83821607_ec28ac6f969b397507dc4147cab29c0b-p_f', '145655490_794faecd3f15aed00cd06aa4654d3233-p_f', '29376486_9f9411489c677e48a1babbacf674897a-p_f', '241931375_4a01d92471add62ee924f111684dca57-p_f', '29351759_43d2c24281c694a0564e72ccfb46aa47-p_f', '80076872_77b1473bec89af892f99057edcbdd810-p_f', '124839587_6aca901da2ece02bbb31e7219fb4b14d-p_f', '29356252_af105f7827357d78aba2067886495d43-p_f', '29566837_b57c5946c0ec9a35270762ff4edc7bde-p_f', '88016124_c74f5923f8b1de12cb44cd7aa3643084-p_f', '64622273_566fb8c81cdd51905e88eee218bad83d-p_f', '29372336_c97b5ce15eef9c549f067edd4c1e6d46-p_f', '29344597_streetviewlocation4320ShadowOakLn2CAustin2CTX78746size1025x768keyAIzaSyARFMLB1na-BBWf7_R3-5YOQQaHqEJf6RQsourceoutdoorsignature5IuqA8hqLm6JP3ymtX0Ha_MlS1U', '2078422772_7221061767be4aeb2f80b5ef0ddc4c46-p_f', '29344594_3e9cf40a3787ceb7e31d9f47c6a69d7a-p_f', '125903592_47a0ad3cd46b92ad441e40bfe9272f67-p_f', '29377332_421167061ccbae93c56c1f76d6090519-p_f', '29346588_5c1fcb4d2561f3f25753aac33a9a71dc-p_f', '29377331_384494d1740f9e62312bdec26b3b3226-p_f', '125806578_b7e37999639bd01d93bb5d880657430b-p_f', '2080873074_37bb19b49ec89d7bb6bd73a35eb870b3-p_f', '80075865_f360909445a40cb907d74083c75512f2-p_f', '70344560_24ee6d45119bc091e4b98bcf98cef74b-p_f', '63228478_streetviewlocation12432LaGuardiaLn2CDelValle2CTX78617size1025x768keyAIzaSyARFMLB1na-BBWf7_R3-5YOQQaHqEJf6RQsourceoutdoorsignatureRV9za-2Gm1dO2IuVCXJvjXa5YGk', '29346757_ef1e98921144a2a56ceb87e8743fcfe5-p_f', '111371572_e8979e75cebc221ce80c530261adf630-p_f', '69809089_69a28725b2658a0666a148697461a210-p_f', '83831530_5356c71dda19886f31e1482f90f9b76e-p_f', '89546577_5287a7b70038f50490278b8e07b20a68-p_f', '121424443_905839998255043bd571bd00146e2db2-p_f', '111960857_158107e025662a9ff0ee6d7d71471b9d-p_f', '29343576_e70aacdbacf2b4310c3a5a078d866203-p_f', '29346570_23570c53ae450b820a1f9cfd597db562-p_f', '83823613_d8542fe330baec6a7f87f4110452edb6-p_f', '79981108_530a13f72ad1c9ca6f30276f74b9f6cc-p_f', '241930567_9c4d926d3dddc8ba4140fc9736971f0d-p_f', '2090533813_2cd66fb740b768ede7ad69a8cd97b01b-p_f', '70326530_e48abda90bf8b62d6eb17c3dc9f291b3-p_f', '119615718_c72e3c177025d1d2d8b198ad207a8ce2-p_f', '70326524_c1b2a4d4f85f0f6a5f9b4dee1a03d582-p_f', '83825022_72dd9f122a3fc4bb434be79fff64cfc5-p_f', '70337612_b62203248fe4782c119a39a680c188bb-p_f', '63838037_ed315001e796478c727dcf34d4c8fce6-p_f', '70352603_39ba5138f5bca32be1759275a18006ba-p_f', '63838036_26b45dfcdeb3a1335d2009626e93d8cb-p_f', '29356706_e21ecf9e9de6256fc36ccadfd00031d7-p_f', '89545601_a3ff3aaee70809095674f8f89e99409f-p_f', '83814520_14418b96740ca934061958455493620b-p_f', '64650718_57e1302b1024524bc01b2f26a6e7c1ea-p_f', '121723404_e0a596ad6b0a5717cb2cf242d9156cfb-p_f', '29372308_deaad851a4b628b7210c8785131d36d8-p_f', '80075328_ef6af21644844899e65ddfc6644206e3-p_f', '70352582_0992e1321a0abfcc43951d8e4c05ffff-p_f', '29364185_e22f49b001915f5612060e35d2df765c-p_f', '121724693_0f5460b986123adefcbb2f5f2391948a-p_f', '29356684_41342aeaa00ac1903270aa57f02918b7-p_f', '2111911001_streetviewsize1025x768location30.335613250732422-97.82901000976562keyAIzaSyBJsNQO5ZeG-XAbqqWLKwG08fWITSxg33wsignaturespTiZu2ZphEo2trnZkfdij6oqRw', '111966820_streetviewsize1025x768location30.161685943603516-97.99773406982422keyAIzaSyBJsNQO5ZeG-XAbqqWLKwG08fWITSxg33wsignature6XMD9hjX13ngqpEzcG2OwoB9xGY', '29336692_93ce7004aa6d81d0dd167b5a555bd573-p_f', '80075314_8e65e4f40db69b36a88952ac8d45dc82-p_f', '119623313_8ab424f06487b83197a7897a91364085-p_f', '83124053_3a2f02cd2528eda493535f5fcbabb7bf-p_f', '29364181_2bb737547f38accd5bbf5c1f6fda44c5-p_f', '70352688_664b8ddfe77354fbf88995a386bcfad6-p_f', '94642681_c50efe84a99e4b6127e56a1309c35301-p_f', '29356174_streetviewlocation9305BellMountainDr2CAustin2CTX78730size1025x768keyAIzaSyARFMLB1na-BBWf7_R3-5YOQQaHqEJf6RQsourceoutdoorsignaturehjzsM1rtjRu5QoMAiusFWst9FMo', '29368284_365d4e64d84b3b9b05c8f52d9a06fc65-p_f', '145656494_445e4048e111d4321c2a9b605f726df9-p_f', '122187305_d2f1d5dcd36104caf1045e5532cbf4d5-p_f', '83124039_c56b2f2bd09e4ea63eace794e08c7c87-p_f', '29372282_794a41d0e6e03802ab270976e6b55128-p_f', '111964492_bea2be5eaa8e4bab01a2f361a1818724-p_f', '96605612_dc8074974f37ce4b137effb2e7596f12-p_f', '70352526_3b50fd8767cd024ee8e49d26f79ed691-p_f', '80108524_250ab55186b8f82995934eba54840ae9-p_f', '202169287_aad90110be94b5f2e451f49787cffa83-p_f', '122186285_c241724fb225deb2788ecab991ebb5b8-p_f', '121656272_d864e601c41a49351b8e0c291b38ad2d-p_f', '121656264_25c454ae96b2ec58b9f703226202b6a2-p_f', '145657259_6d6dd0520d76943ae96585ea5fb89c90-p_f', '125256756_d4adf4e6c09cc55092c88f099173cb5f-p_f', '89413247_5a8323648300fad57b112491a4697be2-p_f', '122185730_87ad56d0136d4fdabf06ec0456e0f7f9-p_f', '89551699_c7b514ed14e2b3d7a0c33ec2768db61b-p_f', '122519698_0a3e969e27db7a2d273e20e21b60d4fb-p_f', '28594191_6a597e6864035f11e072851c69abe788-p_f', '202137180_029f0c1ed67047026316ed2cdbd01051-p_f', '28585671_b973707f82382d537de457a39bfcac29-p_f', '111965163_0a6d7e1d58792ac99b45b0bc3372e43c-p_f', '243292641_b84942fdf89a8c15c7308dcb02ee6948-p_f', '125090140_64cda5c83f5fbef57fbc0b44bf0be021-p_f', '119615616_8a4d42b178926bee3abde7c521769b9f-p_f', '119625108_777ed576e6da0ab27a46d2ae132be4c6-p_f', '80077104_9a8f75d4f10c2e97024b6761994d23c8-p_f', '119619099_beb3dbd09c2aa6949e5bf4a18850a9a3-p_f', '28596593_405bf478f4a69c9de4634f34446f65f9-p_f', '202161591_23802047ee21031401eb8baa656e49dd-p_f', '243292073_433e144f27f413b4482e4ee1df33b273-p_f', '119630071_e4befbcc5e337631b768ed1ad2833ea0-p_f', '84133064_0f13a65d217d25fec1a721e4a49c2678-p_f', '250400554_8ebd0d98fc6c0c3c6f302c75a5e9a3a4-p_f', '80080552_759ecc235e5df71c3c5a4f9a022ad8b7-p_f', '80075550_259f4d4ac86fc3e21f6221a876a163be-p_f', '84141545_e2ef9d2d14293750675d1eedd81d1a5d-p_f', '122189039_3023efa3635157998190d160c79564a7-p_f', '121658531_dd6153582ec6dbd4954ee1526e299ee9-p_f', '119632530_93baa0c5d793625fe7521e4588f3cbc8-p_f', '2084298010_d5433bc59d1a1a4eb1415130379f7c88-p_f', '80077001_61f990f83904241833a9963662f49957-p_f', '29355997_6f459a3ae0c43630558ffc5639c2f491-p_f', '29364488_2c54d689175aae1e813e9906b498071a-p_f', '29361141_02bf19f88a8209f3157506f7f52b84b9-p_f', '58299903_b1e977a8c2836457d9543e7490773c1b-p_f', '29359116_1899eddfaedc2c0d8fa7439a12a0506d-p_f', '29363471_f28fa61924f8abf6f06cee3d08e332f0-p_f', '29363830_98f2fe5e4003f516bb8df31373aac2a5-p_f', '29356084_462c50994240cf7e5a33015e3329a5c9-p_f', '29365306_cf1b601e3055eb1c420928a1d0666cb6-p_f', '29363795_3e9d05f7fed51a498d894ec362309a43-p_f', '80088046_0667f0a5ac8763ae31587ddaa0c37f6d-p_f', '29363209_9995cb21edcb3bff13d6cb892375e3df-p_f', '29365167_8bc0b4d57a81970d2416ad177d2400b9-p_f', '29361033_02afdcedde2aa3e6672e40bcbf71b60e-p_f', '29365100_5ce9ea2a1e1ffb4219cd5369a32ebc33-p_f', '29362454_9b2feb98681d4bf35d3c3b51b59dd167-p_f', '79980518_7e7a971a8c5a2ff7305884203d2763a4-p_f', '29361013_c30735edbfb88278dad70c7329aa18b9-p_f', '29354006_4652fb4430627cb233089b94bafaf485-p_f', '29362505_74ad264d160f9c8ac54fce6ffb897e0d-p_f', '29364051_345ff81c07d257998af9ca0768f0b401-p_f', '29342464_04c7a9ac551cb776bbdbf668cd4e6640-p_f', '29346657_4cd22263b73f32b85927b32983af943e-p_f', '29364041_9ad533d927e0271166d476452dc9363f-p_f', '29343653_c90d9a4911da4d1754f7f78b4f55b9c3-p_f', '58303958_4b7b06770b84b6f692acf779b3c3ab9d-p_f', '29433445_89b42a610744ff2da89a9a64f297d154-p_f', '29364927_0b6e24ae061386455590f0f80e239561-p_f', '29377277_db8ba8c15741faf1868f5c91e34db03b-p_f', '29372276_fe7779ed58ebddec9828f8effeba83a2-p_f', '119381474_cf189ce8319d1ccc40b698368f069d11-p_f', '2090867919_0e07c8bb1e1363823fcaadb3499f9e44-p_f', '69692485_8e94b50252f8d5b94b4465ecb8533dc2-p_f', '250400973_22ebdf463833e8f09eb4aaa6c215da86-p_f', '29421924_6b645b6b81cfc32316db99eb712640da-p_f', '251035849_0cd2d4ada494740c8a96095d9eef9de3-p_f', '29477973_3bd3ed2d244ebc473afba4a1378bd440-p_f', '80090939_f32def14fcc80ca869584b08ee7142c7-p_f', '29477471_4001ed7ec4425d831349ade8eef0778a-p_f', '70345968_e79393a66f5df4a44d4fa247bd461bfc-p_f', '83825401_f3ce341202ddb23be5193e0bd1e99e8d-p_f', '29477956_94a4331aa86aef2d148e04ad70990ccd-p_f', '83831805_cac24e59bd94004ef0b92c7bdbba71e0-p_f', '83832295_dcfaa667e7990f8880b6240861c1180a-p_f', '70342509_9a42814e843f6d2560b6db0643138cf6-p_f', '29478007_4c7137b986e8978ed9c8b60326041b8e-p_f', '29475987_1eea0cbb6eae402e9ffa998275c414e4-p_f', '63228495_a6dc14d0c550180a5e0f3d711b67506b-p_f', '29470485_37cbbe8e6f461a1ebbbc7e8c3896582b-p_f', '70343436_93edc0709f3b23a51252c590e90cc47f-p_f', '29469972_2ada9817f97ff30646fa8e014a49ee89-p_f', '241930971_32ca7d31af8a75a96629db9e73a239ae-p_f', '249912454_50c60967327491ba916fb30f68e756c3-p_f', '29508337_5e7035765327c0e18606f2835ec10fc2-p_f', '62608311_863bc954df0cb688cb519295e1a2ce2a-p_f', '29508801_1adcfc376063e8ef9de00fdaff86cab1-p_f', '2083181914_f6b101299964ab9df0860214a052d387-p_f', '145657409_cc248fbb8889f6a4f5dee30c21a48ada-p_f', '58311879_6b8887ca970d0bb2073a090e996cef85-p_f', '250997669_f28b1333f91a71bb1dc36404e77aa83b-p_f', '58311846_dd5b035a5e0fdf4ac641a77546f5cb2d-p_f', '63228649_c38c5d199745e422318066c9eea00f83-p_f', '63228637_4a2e9764cfccca7c738e56734de0c073-p_f', '145656829_41db4147207cae919ff81c499dae0381-p_f', '63228625_31e0cc3bc914f0a9248c1856cb72b607-p_f', '29508611_c73eb7c17ddb977137fb51f0b7bf7d53-p_f', '29512095_ba08d289740c6d0699e23dc0d27e90b8-p_f', '29469794_7651828ae64207602d5dc9839edd8539-p_f', '58311787_5dfbfb61eb65cf5f230ca55d38496d20-p_f', '58311784_f1c9fe3c9e70e19cf5d5aa8cbc116f7d-p_f', '70343566_86c673f9f5e3428d3a4711dd05311980-p_f', '305429057_e758053e7b68fb913fb5522d4a6dbcd9-p_f', '70343521_72146b1870e2468fcb8603f352f729ac-p_f', '29508276_3b770cdf9d3c1a0c4049dc6260cba4a5-p_f', '29505506_ab3460647ae618fb85e56e852fd948e4-p_f', '119630916_549cd4b079fcf3c604b87af0fa302547-p_f', '29508258_400e010f7316013437ae5fcbf181caed-p_f', '124839386_b72a202df071b14abf27a366e01146f1-p_f', '29515005_cccc654aa6ca546cda56749ff011c6dd-p_f', '64842861_0f7bfe025d6521a831baa2db6430f003-p_f', '29508236_9ff01c953c1555283cf5c83a2b8769a3-p_f', '58311735_cef2f51c1df156c6cb9ac952c481edff-p_f', '58311733_016525a85f281d7aa4d6d578b0391cf7-p_f', '58299487_a35c69b9e5f869e2515cc0202cade9b9-p_f', '58317846_210c074370c86dddb6142c26a3d6d1bb-p_f', '60136480_4db15841d0d547e223947c6f5c24926f-p_f', '83821414_3cd6aaabaaf94089d9650d36a3c519fe-p_f', '70342398_a08bfa6b1febdd2de48a5acf3a87f743-p_f', '83815377_8338c24f7190b2552190f19a45256e13-p_f', '145657223_d27e3e7dbfada17118138f1bfdff4539-p_f', '83831459_38b237ddfddb3006d36d0693fb48aae6-p_f', '241930822_20f9982f5941efbe0aef517584d797cf-p_f', '29361458_ccf15bcf4ec12723d9d1c98705369e62-p_f', '80096890_bf049a88d2a064e4875aa691f49fc73a-p_f', '29361328_89a742853dafe9425c76ae1e55962ab7-p_f', '80098884_7697158181c344a8a4fcdffc97242056-p_f', '29361437_476a2caae3db4cb0ef12c7d22d64fc20-p_f', '29361303_77785382ca590e18a25982321ed5a054-p_f', '241930706_f962e23abecda0d55e7c73958c9b45e0-p_f', '29361291_9008a6973a50a191f55b690de85751e9-p_f', '29361283_c45600886f11ed11b95b4c2e4a131702-p_f', '29508201_48aea00eda59e0d8fd68019c6aca8902-p_f', '2079799776_1bd0caabe75b2310bd4b4fe7077ba906-p_f', '251034779_73f61595fdc6b115aadf28dfac2c519a-p_f', '29359248_9c5e2db90f677c127e8b5f28d172765a-p_f', '29361489_dcb047fa555ebda35dd0f8f4b4d21e07-p_f', '250997691_5178e1fdea7cbf74535507587f76161d-p_f', '29361391_1ef598eae5b6a176f577832bc12d9b7f-p_f', '110538801_b74a3118da9370a14aa8a5e96d93c27c-p_f', '241930679_f9cafcc1f1040eb548b1cdff95cc8d87-p_f', '64534498_9221d9f6a5f4954cad6228dc75824e23-p_f', '2083654661_f8c98594e69dc457e4695a7ddbfc4242-p_f', '29359786_3852f10317a4fcf10c4a0ce630422046-p_f', '83816285_2389e5beac3dae3223a1ca2e449a1a6c-p_f', '29359997_941b1795032bcf5bbe27c46fd8c79ff7-p_f', '29359496_b8c40de9d52a8e6d6f33525c355ac3db-p_f', '70342160_84fd254ab082b293eb113874fe011733-p_f', '120895238_c6c5ef99d3076f41761c3c1b050a9f91-p_f', '29359495_5e3142d4e39c76c6b542501438ff5c9a-p_f', '121658256_ab5a103055a1a37edf383bb85303b254-p_f', '83829992_73f161fbaef06ac508385f8c4c89b2d8-p_f', '29516734_c665c82511d2fe2b058b548ecc78b815-p_f', '29356991_07664b808fbf368a74f197bda074c8da-p_f', '120897238_844b36c4618cbdee9d8e73da7be66322-p_f', '58311637_e20b18bc643c4bd14574f4350c6ace39-p_f', '111372711_6f9c168976ad4121a3d86d928955393b-p_f', '29356985_81fa7dbd40c33fc7b751b15492bae21f-p_f', '29361688_4b0713c833957d5800b40b8ed356990a-p_f', '125091291_fee872604103cb20d492d63b645bc404-p_f', '29478184_56b133a73bfc43604996bee96db2265c-p_f', '84138858_e58e9b1ce6017943921324ceac7d07c0-p_f', '80100265_24fd5a979e1565f26e14d2c3361c465c-p_f', '29492264_30774bef52e3a94a01b8f4a275177cf6-p_f', '70346237_0a73c903fd9acf8e629f48480399f641-p_f', '202137334_streetviewlocation166NantucketCir2CAustin2CTX78737size1025x768keyAIzaSyARFMLB1na-BBWf7_R3-5YOQQaHqEJf6RQsourceoutdoorsignatureA7gYQgw8_dRFgiqAgkFMUwOdezM', '29477935_d37ddcb120bfb9ea45b44e115d6d4215-p_f', '29345145_25ff1797951c967d264bc632d8688118-p_f', '29376269_270303cbfa76956e83914fe24fb25e47-p_f', '29375769_b18f119a5291a59767acf353867eca77-p_f', '2087932767_29f0d69df4785ca658ab4416da0bb8fa-p_f', '29374767_7d99d4a4da1838f85dbf55df5d7fb25c-p_f', '29343637_676356a899ff328981a31e03ca57ca26-p_f', '29336633_94d1a230e862aaca728b88d9f17f3e43-p_f', '29549753_a6f6c9988374715b67c9013f0fb7ea80-p_f', '29567251_d02ad2318c2ef8eaad8fc1e8a7bef26d-p_f', '83833118_f4adb3331750248463dde7b97588f4ef-p_f', '29345111_38159d36d81d66a38daad3b6ee49b0cf-p_f', '29334609_f9a6a6104758a338dc8d263c90b10acf-p_f', '64544202_8930cfc091656438a1ea52336131ca09-p_f', '29339606_ed70943f5a3f79055fb154876ca8776d-p_f', '29374191_dedc35dd5d44c2a29be8e7b15f633032-p_f', '2086105685_b330208553dde25d4186c2dc10e35e01-p_f', '29372955_8b42954738b63c24d535adfa98b40b5e-p_f', '29372685_streetviewlocation9407AshtonRdg2CAustin2CTX78750size1025x768keyAIzaSyARFMLB1na-BBWf7_R3-5YOQQaHqEJf6RQsourceoutdoorsignatureOitknJVK6Pmb0ixotLFcts2mFA4', '64616594_e2a0b4b1172dcab2393f14acfeec83f1-p_f', '29339592_b42962189f683400219bbf776a74ad3c-p_f', '29376179_292dc3d3f0a0615694dc231dd288e485-p_f', '70337673_119e4527729caada60bdbdd34edacda2-p_f', '29376663_2a6ba3e44eb06fc2768f84d3f6781eb1-p_f', '29334572_a1a4742b45b504054fdf88d0b8f60f87-p_f', '29339560_a18e7bb07789f17f4c87f966a161b4e1-p_f', '29376640_e1592f9f84dccb8d3e1b23339ff4214b-p_f', '29334560_7d9829a7e8977342f707d24b1ada0c08-p_f', '29339555_6a28c55d83d389cbf2f7072cebffef90-p_f', '29334554_695a9851babbaf38bcc9e03c729cdcab-p_f', '29345051_c7d2badf164d077b459ab589c2044160-p_f', '29345044_45604d59f2726bb7e78068a0244af4d0-p_f', '120896542_a6ca819d11254a1f7e111aadeb086a99-p_f', '29348537_19959d15aaba41cd175dd5a34c52bb80-p_f', '29567628_2b5b3768fa7271af8110aeba40b8f03e-p_f', '29334533_e6003e106511fb9b6afeedeab9bf625d-p_f', '70330626_3d6ef63e915d678a98f4bcc0be3d1be0-p_f', '64510024_20e999c8942cc9689763c43b1ce077a7-p_f', '88027119_4001ab50fc6251685212b136f9bf9266-p_f', '29348518_34661a321111ad872011bbd7a38b847e-p_f', '29374614_751103399b6bc5c28fb207ab02151e13-p_f', '29373114_82ce87e4ac0f3af828032b16aa8bf898-p_f', '29376603_012896e5f44de76f604a80d5fde8de95-p_f', '29372153_700b2313f30d3c181d440ecf759fdc4b-p_f', '80094463_c63df7ebda7be053f3713becc4cded25-p_f', '29376600_0d438d4022895033b5564b8a9c367e7e-p_f', '29376587_06a474a2248f2d2c2eb47cc2e60b0f98-p_f', '29377581_b60b05636a6c8d4c98b76c06a41732da-p_f', '29549576_9a14d0e14606cecdea0aed6088a9daed-p_f', '70330422_f44ece370254f7d59a867d0eb6a06175-p_f', '29336706_5440ce01c7f9a39bcce1c417fb7f0e78-p_f', '29370345_ce5eb7f6d16033f27036ef408c6f49aa-p_f', '29549542_05e7eab35e19956cb845c84a88a059b9-p_f', '29374031_30ae20a764b5c3207248a1020ce91b1d-p_f', '29370530_456593239c3863926803f41c11d40334-p_f', '29376028_ae94874eb00ac012f0b70ea8f6adebd7-p_f', '70332027_073a2cca3a92768dc8e03f1f79305390-p_f', '29378016_streetviewlocation11409AntlerLn2CAustin2CTX78726size1025x768keyAIzaSyARFMLB1na-BBWf7_R3-5YOQQaHqEJf6RQsourceoutdoorsignaturex0nucJHN-DFVv6mHG6UqVo1jJ-Y', '2086106014_ec1f046edaa0d23918f7e6b038cb7d63-p_f', '64477507_08f9117699c1a7cb7833247e2230cb6f-p_f', '29374001_145ff7a71c9d8bc65831775f93c5814d-p_f', '29364512_0c98ee3e8870ff585acaaf73f20cadf1-p_f', '29364009_97280c362c76831a498f207492cdddc6-p_f', '29356496_13b7d80ebbc26a3bd95c2251abdcd99a-p_f', '29438250_fa0c6f317f8c396651e5d98098212dfb-p_f', '29437389_551b0cf3368a41dca5cbc8a98effdf48-p_f', '58299749_d22c12a393e106296f7b67d74475d56b-p_f', '29432896_66fa97b0ced588017d0152080979c32e-p_f', '29363746_aa46257b48b359a3a9f8406c5a402178-p_f', '29437367_3a11aeec9d5f592ddff106e5660a5dd5-p_f', '29437366_2686b869fcbb7da5d99394bd50c1351d-p_f', '29433727_88d74b899af58ce12f8e7d4bc8138648-p_f', '29432726_20a187b34c137b8ed93454360dd94ded-p_f', '58299711_7db356720c85b5afb3f5dc6c30c5f01f-p_f', '29437211_20ae2eefb65b7e2b3b54fd0d1de469e1-p_f', '29438175_3f1cf6cbe9f861c14cd3aa5a7b34ea09-p_f', '29438138_1666fca4e623b81e5de12f8bd4849df9-p_f', '58303785_501445a6ab85677a7582a273e7f66b72-p_f', '29432637_9bbc08a0141f4ee76e97987c4f39db09-p_f', '29349375_f315ee79591813a2faddffc47ece1241-p_f', '58299592_4005e1c1d9548ce4050a12f4dd26b02a-p_f', '29435765_24c7c1da7d82196b1d0ae780faaacc06-p_f', '29353853_38963d73427b6c1640437fac301032d1-p_f', '58299025_091c2d32b9f6832335c4d66a0fb2d916-p_f', '29435738_7bb9615613b332b4a5c86aa56188a079-p_f', '29434227_9763088ca698816e11b47b45db8c53f3-p_f', '29349817_4fd9384b5d1b2e97f95c341c599ab5eb-p_f', '29355809_6bfaad94f0b11028e20a02e3208ffe61-p_f', '29358805_5783e4b839b0a82c1d3a51c4732fad73-p_f', '29435701_093163c59832b781f13a7425152769ea-p_f', '29353279_4f0031840a9eb88075242f756161cd64-p_f', '29358777_f460b9dea228a44779e86d8e8e9e3526-p_f', '58304177_5332b0a04076ed92ae649818e95de2fb-p_f', '121655484_3b711fa648adc7ad1f1a980ce44de341-p_f', '29431141_0d5eea19f4ef23650859aa1dc3a01fa0-p_f', '29469631_01c994d79b7b505b7439339017bf97cb-p_f', '29434126_9ee8116bdb6dd74053f13dd05a68c688-p_f', '29351252_48554b45e2c31a7c7e38b44d98f3755a-p_f', '64868747_aa3e0b1b7e9dac3299a998fba43b4f7b-p_f', '241930622_b65cf3ed81b7c4de25d9a9f9fc17c313-p_f', '29432981_6c332f56f5834ecc81d36078818d84ec-p_f', '29436079_9a75c94c7fbdf5a9b14d4b6a9711a3e5-p_f', '29351228_d37c4a5ac1e14783bdea6027dd02a00e-p_f', '29350219_5d9c9b97b5b74167e61d815bb4a5146d-p_f', '29437569_4218e3c45b3acec0f8bc4113cead5b31-p_f', '29351717_7ef5e75b0a0687c0653274904ce6a42d-p_f', '70343701_3fe7fa29854162d04fa8c97ca263c752-p_f', '241933107_524df2f7214a2fbdcdaf8044198d0df3-p_f', '58311604_3890dcf8d1879051edf015c543c733ff-p_f', '29355577_a35a958508e6e5e8e2ea0be8f2c91934-p_f', '29350173_2ad68e6b625e1586391a1aed37738df2-p_f', '29433522_5edd05dece203d97edbd41626b51bb1c-p_f', '29433519_b69fda6b8c479fc2e3e8971f9dfd23bd-p_f', '29353657_6afb58c0857663cd5db00c244a0bbe94-p_f', '29436016_da68ea6a86dd4f6c57e914252dbae312-p_f', '29433516_17cd7dcbe94502a05015cffd623c7e06-p_f', '29351613_5b61e892476253fcddc84665533808a2-p_f', '29353109_a2591b49de21c08fd4d327b87ebf95f0-p_f', '29353596_d54bb6f4d9f18158e79fc38f9dce9b8c-p_f', '29353094_aa1b6ea6604e898fe64da50d7e38c77c-p_f', '29353069_3e977333e70823a5d2c69efdc35d893c-p_f', '29355560_e2ce40de79c208fc011649c84bca1933-p_f', '29350050_e217dbc088f90d5384c7844eb7d89315-p_f', '29355542_401140ca3106fdcc048ad6fe8c53c691-p_f', '29350025_4440a25251b7229e016ed69752937dc6-p_f', '29349521_f83251fde56d337bd6f808f8f9684af5-p_f', '29422472_150722ed1b97e195311f64f6d1e96112-p_f', '58303413_9f07a7161c0084d829cec22f2a7c08aa-p_f', '58303408_3b3439a8aa8d98fcfbf1fc5a443d70fd-p_f', '58302893_008ebd9afe56fc80cd4008f22b4992ad-p_f', '125090887_a4f21301f377e3e445f362126bc1669f-p_f', '29434378_9c1147796b20c27c03a9966ed7d9e16c-p_f', '29436371_51811f191d083e610c312b501403d02f-p_f', '29434370_e662c38fcab3e9a6357c68bd5cab7112-p_f', '29427957_e65855facaed9412e0dfbe0132b9c90d-p_f', '58303329_984c65a3ab91f5774239091356ac125a-p_f', '29424967_c1b24cd411837038e3d34185f6ff7508-p_f', '58303317_fde81cbf380105cf56e87e9d379d7c4c-p_f', '29431458_6c40082a77b79b1a780e881a0315a071-p_f', '29422931_7c24e21eb0a660510540aa5212096b1d-p_f', '29431455_38c75d94e84dd51ee58411682e6cf46b-p_f', '58304295_2822dfacb85ecebf2509a89b5213d166-p_f', '29432453_dbd25187d5cf1866bac14c601d0a26b3-p_f', '58303288_1c0592cecdbad597c375dc034716724b-p_f', '58304287_32af1c1572c7159536e8a5e677f69808-p_f', '58304280_a1e46c26c019aa03e1b8902fb015dca7-p_f', '250997408_97b8845a2a755083c00e9f0229a89e6a-p_f', '58303253_903115b9e4815c8ce5a5f7b8a995351c-p_f', '29429396_251339cfd3f60d8e685e59567928a272-p_f', '58303225_3635c41a9b6fc769962808f142a364b1-p_f', '29427896_82232a673e81b0308fd4cbbf9763058e-p_f', '29424934_fb81bf7d9c728feb9fa7b953e90530bd-p_f', '58304218_48ad38d1c15f23c87be0bb62af02b412-p_f', '29425890_df177ad09c2eb9b21b2064e8c614036b-p_f', '29425387_6fc76d063f57cb103ba3608948898441-p_f', '29423979_f5496e0dda99c5b4063f51661a602a18-p_f', '29425879_d7fee1c950389554edad45031e2d5080-p_f', '29431863_c637aec91d2aef258a629616bf2c3564-p_f', '29427857_462246153626c394afccccadc05c290b-p_f', '29438654_8103bdf7d6d7543b714a00a828fb8fc1-p_f', '29427781_7325f0a750b50fffa306921a0427e093-p_f', '29427425_f83791e4f13fa2e16c7208b76e612187-p_f', '29429921_38659977bb9b2d4369e13aa946863dcd-p_f', '58304284_68375c7cebecb7edec75b8f64732fc38-p_f', '251029571_b659c096c091a525ecc6f2899cb3af31-p_f', '29423914_305fbf04651740105b5f454abd42ca18-p_f', '119621055_aeacf587a5ee6b8a064ec6aae8ccb049-p_f', '29429910_b70fad4140a748b7eb39f5437747e532-p_f', '2100773550_394f4181d9527cb50ca3278b1adf5a4f-p_f', '29427406_d3f7bcecb349218afc9da92da6d02eae-p_f', '120899544_679f19e0612b7557f7c50c42b8787053-p_f', '58303043_864129a1401b943bf200d96310fa5927-p_f', '29435043_3ab7efcc20f6ebc832d92387684a3e2e-p_f', '29431396_fbf129ef5a48d9d55abf156e29dec4d6-p_f', '58304522_b28bd4274801c1bb439d933ca2300c9c-p_f', '29427389_ce86124289daf722805238e3d7be8d12-p_f', '29424889_097cb361dd7d2ae2511624557bc9d56f-p_f', '29431488_453380826cca33fb725a561137799c1b-p_f', '58304432_27cee22793e52a048ce5eec43c5becc3-p_f', '58302702_b1f926fdb5e2078beb32a345d4be97e1-p_f', '29421695_0e4756de9f0a85701d42a95b0185e9ca-p_f', '29430173_ed8b2bcd3610952a45d40ec8c708fdb2-p_f', '29424877_d76ffde56fde4d4e44a2a7cec1c00c72-p_f', '29426873_f1c3e3811efe504684513b02b3604768-p_f', '29427372_b829b0554f69b8262f12dc4e0ae9b822-p_f', '29427371_20025b1a5017d27f58959afd6947087a-p_f', '2132020369_d774faa2c439e1fbe4939d7a8184f4da-p_f', '2091380148_49179245b46b9d7daf1a45f6e371ed13-p_f', '29428863_76749896e5db7f057a10411c6820bafc-p_f', '29429114_53b84b2a612800194fdfffc184f211cd-p_f', '29423356_165cae9078a95d012d74ab420324686f-p_f', '29431355_32ba90f2de04844cb9fc985f070d4e90-p_f', '29425572_8eed927350001ce73aab0329c6176746-p_f', '29421352_78374b90f9ceed90a6329a73fffc7d24-p_f', '29429057_9e47785e785db68487d3453943a57f9f-p_f', '58302554_a53ff0dddab2028290dfe0e0273b6d8a-p_f', '29427337_585f62675a0f7272f0920c26967ff7c8-p_f', '29423836_53cf8bd23e44a58cd37218b90442987e-p_f', '29427041_2fbe5a07e188d9837947c822de5cb390-p_f', '29427034_0f0de017f1652b1f74a99f3f4ffc3324-p_f', '29425321_1f0be1a02b5ddae5127bd3b2e56597a6-p_f', '58302694_337f91203c3f72c3557c7a8b61b47f8c-p_f', '29425520_eba0c2436f26622e4254283e39674a35-p_f', '29425517_77574af8baaaad1bcb2afbf15333980d-p_f', '29425317_5fc0f03749b14f4fad7c531c35195240-p_f', '29428799_bc7dfc1e9c745cacc892e03da58d16f5-p_f', '29426792_0c090ab8ea0b707d3d01d17a167e9246-p_f', '29431255_df279e5d21fb2bccfa4aff71d552f024-p_f', '29428748_86a83c3cf61d626c004a9df4d6d237c4-p_f', '29420721_8537663920ed90ea311ebc0440855039-p_f', '29432217_bc16c196fdd5361e70c79f87e14085eb-p_f', '29425210_345cace6b6766ff8e69508a28b68926f-p_f', '29427682_574c0a70b046aca724ee3c6f7d40d658-p_f', '29432161_9b463c7978a6b2a2c3979029b4f6f678-p_f', '29427486_8133bb9fe66c9703c1410fb18ff68552-p_f', '29422652_3e30f93c3255803b461dd551012b92d2-p_f', '29428637_98a9c9b2eac67b8f2a4314dab39e4e7d-p_f', '29420632_ec895f58519c653a51f2fcb0a9b2b92f-p_f', '29425113_043b4a6ed4734f7a102adb0ad71a981e-p_f', '29420612_f2ab84224401e895eaa82518e76a25dd-p_f', '29425105_6a8d3514671d7525036692e1180dad1e-p_f', '29431097_4492fdfd5bcb0ae6027edbb92eb9d91e-p_f', '29423596_6e178fa67967736782893ba696e9368f-p_f', '29420595_3de29243a77251bcdc1ddcf74fea2339-p_f', '29425071_1776766076bf39af836eb66e0ee0063d-p_f', '29431058_f28f0e846970d2aec43b3468fb65674b-p_f', '29423542_7637b62fa57b136c02e036353141bfc1-p_f', '29431539_bf370d59e05eb8490ed998d3bb732ff3-p_f', '29423536_38ef4fa5024742bb9ccc261ab0ceabcf-p_f', '29428533_cfc022fba3283b78e8d9a6cde746408c-p_f', '29425016_28d3c194eef62dfaf620242718a4d6cd-p_f', '29425008_e73016facb7b5f2eceba8742185b0053-p_f', '29547937_cddd392386aec3729621509e70a178b5-p_f', '29376983_c22232b60f44d228727f998b4cb53015-p_f', '29375481_cd6a626c70637a6d48f7e00595c9bb4c-p_f', '29445947_efaf4a4dfcc225885fc1ea95520cf8e7-p_f', '29575428_832a71c0db87856bb6124879f29ab26b-p_f', '29557427_13f22dff2f400a4c2b1290b4d3b9cc36-p_f', '29377926_a0dd494b87eb516cd2ae0454ec9aec67-p_f', '29366469_5df8258e5dbbd27d6ea88b9639842e0a-p_f', '58304958_0f70f67785abad63b18717a4b9f5ec3d-p_f', '29447379_4ddd2c1df93b33011645dc48b41225da-p_f', '29442437_c16236c921c8a0240bbda49ba56e388c-p_f', '29445935_1f8edcb83f659e65cf3e67e5cb6cd037-p_f', '29447312_d4ad084838bc9dffd2c6fb5f5e328300-p_f', '29369439_0bd9594d9bae4b063ec3299d09a921a1-p_f', '29591751_891424ef22a7e19d057d20c1c85975d4-p_f', '29366432_139aa49fcef17651ce6d1432ee28f1fd-p_f', '29369931_c508a6ac92619731fb8959896851a996-p_f', '29369429_6a296d452333441fb33ae11047e2d2f9-p_f', '29445910_0a9385429afeb4c0d1f8898b0a4ff168-p_f', '29377216_2d9d06e419864bf2eeff8bb1dc81dc6f-p_f', '29367923_b1a73cd7b857c93e56bca29ec1c35c12-p_f', '29439400_b26a37f6f0c59417b4cd6cc21c32a002-p_f', '29369917_ec2011aeef810349793bc45f59f10c5d-p_f', '29371915_7adbea887e4a96b5f55f7c6f48413cd7-p_f', '29439391_1dd9a742098c7796842dffc96f671162-p_f', '29439384_5ff4b97e310c9a6b0f4b9c876fb3dad2-p_f', '29366410_4b8d9de15b2c4b0f4e8ffeba440a456e-p_f', '29447175_streetviewlocation12904CamposDr2CAustin2CTX78727size1025x768keyAIzaSyARFMLB1na-BBWf7_R3-5YOQQaHqEJf6RQsourceoutdoorsignatureHmppmd-MqU1hnDRw5c4CPtVpSEE', '29367908_1a42fa83cc44152d74751a7e56b23d89-p_f', '29591661_6cdedf77a111fa5d406a068301156a64-p_f', '29442352_5a99aae0fa96b680fdbff8dee1e9eb09-p_f', '29439343_4f27d1ff5a360289e2ed6e19443c0cf1-p_f', '29442328_de7dd518129621ab5974155c4ec76e42-p_f', '58305078_e3088ffce403faf6e097a3fb78d0cb39-p_f', '29365383_a363fd84f54476ca8c36680ac3865499-p_f', '29439480_48e69f10f8d247fc3fcf65ed0fc9c8ba-p_f', '29369882_8d649afd52f2cf3a748ff70364967988-p_f', '29447102_b608bf8af4a536295d151d28644e912e-p_f', '29442297_2aa36b8a8a8d86ef13076bbd92ed0fe2-p_f', '29369373_5c5c705a90a96e27bd9138aea0923626-p_f', '29365357_c8f0bc0fa5951c0eea1672d26e241fe6-p_f', '29371853_165e0ce12cb053b888de4585dedafe84-p_f', '29447494_361e43ef0973bbcad2f275ee5de5e0cb-p_f', '29446032_2ace0fcac0d0a7451c3a7bb4da3bf1bb-p_f', '29447481_a042447f1f68595bbb6215c77e1404ce-p_f', '29582527_b6a99e73dd3c0b7921791c3bd19610f8-p_f', '29443472_995566d8cf0f8e74ec8bc1f2eaac140b-p_f', '119621323_ecbb3d1a27272c6e90fb758421f772bf-p_f', '2088041511_8fd2584c994b025f278cdbcbcaf1fd3c-p_f', '2084102799_fb5b99296cc783181d4125f4b0224428-p_f', '125903747_2c8a4490784bff4dbda1edb621e1c662-p_f', '241931239_625e2bba81ac6fbd4b9cdc5ddd496bd5-p_f', '119619183_fd143c134c23126b7e85fd7799bc81fe-p_f', '29500430_a6d2aac6a8be9312dfd62c468388c86e-p_f', '79982258_c45094ded18fda04a598b6d3113c4249-p_f', '29464107_ee1e91cffb2bf23c694aed347f72d3ac-p_f', '29462372_55f04a4dcf69ba29c44f97d83c7d92a3-p_f', '29461846_334454af6de60c1a1f8a45958b7e4c10-p_f', '80098922_19f4e5e51a6673c74f03f53c7fc73c36-p_f', '241930979_d094c39ec69b1a82c2a50a56d97a3019-p_f', '29463372_a935efee5ca2f1c8587d97e8e292722a-p_f', '29464861_f7140b12db760cbdb974943bbd71e1cd-p_f', '29461861_d7fcb1d88a8bbe3223046d97be074219-p_f', '2079734358_f0e314c64dcb97640466971651bc3bd5-p_f', '250997474_52386fc366dd63d73fb7eca09fca3fa1-p_f', '2079912816_97e116f95a4e73e431e73efa2a89fa97-p_f', '120897300_streetviewlocation7225CrestoneRd2CAustin2CTX78744size1025x768keyAIzaSyARFMLB1na-BBWf7_R3-5YOQQaHqEJf6RQsourceoutdoorsignatureQ1HLkCnAij4Q826g5uezm5e5kNU', '29463283_afcc05d9613226bcd5fc0479568980c5-p_f', '29462269_3c60eb57362bb2648fbe21b7747d3af0-p_f', '80097258_9e82b7e04fd825de88a3855672147a2f-p_f', '119628247_dc7e949f79ecf2b01e163fad66e4ac95-p_f', '70345744_99ee6429c060c8ef5f174ff61fda771c-p_f', '70345734_ca2eed7fbdf242352ae782837288602f-p_f', '80093222_7d8d1decae49c7d168ff13c2149ac079-p_f', '62607221_f890b9cfadab117151f3d5180eb77e6a-p_f', '120899190_d61c123aac1cef68cd8799a3bf97d41a-p_f', '29462186_c74b5395e1ecaaac2bde0c29581782b3-p_f', '83819680_0d2c8bd39486406db34baf2922d89515-p_f', '80086671_fcaae4fa2cfdaaf1ddfef20c611ebbae-p_f', '29463159_8d37c2a87eeca77206bf3fcf4c7f74f1-p_f', '144343622_bcd4dde92076aa1663202f72e7ed4b87-p_f', '251031858_da0220a2605635f486a8a86e65ca6862-p_f', '29464097_782abe6e6bb4e4abeda1be1a43ce06e9-p_f', '29461963_1824b00b7128ade17d5e70088a9e7f97-p_f', '29464079_b0de363154265cbe5ae0eb5a61fdbcc7-p_f', '29464069_d67ee6ce92974e63ebd48182647c68c5-p_f', '2091380537_72fe1b1d641a8f03c59e27fbc1b79228-p_f', '29462023_a636d107e8937bba40390cbfe4473b24-p_f', '251029954_f785825bcabd16c9679b74eb13037fb2-p_f', '29463454_0ff41567702a75000a228a5f08c8b119-p_f', '80107018_d29ca0a04955370823e78360ed40943f-p_f', '29465503_69bdcf0828bd99c31916d686c22d59a7-p_f', '96536821_81711784b307db1710a7e42675099b8a-p_f', '145653412_203f7d3747c0e6cabc5ed51859bd9ca3-p_f', '111372408_28f73cdb08a3e920a378c3bfc2232943-p_f', '303836811_4568e073a856c556e2760d0ba6c822f9-p_f', '2085513810_028f9027b9047adaa3376a868adc5282-p_f', '29419903_15920b0e2c93fbb0465a9e9bd88bba9c-p_f', '145654878_66b5a2d2711a6a8bc781de2396c86a9b-p_f', '2088737292_6203c1c1cc4521da4986d0aa97530bc8-p_f', '119624286_c339a0db77fb8480b340eca4822eca15-p_f', '84140779_eedc76fa940ff1f5aafe4e913614dddd-p_f', '29421851_75b3465fb7d7edf7c97177220fd05bf1-p_f', '114157278_6979bb3aa5a10e08c935668c61ebb033-p_f', '29421848_fb5b174a1bff3386a11f9488547f0c75-p_f', '29415848_0901bb6f7e88860d20d1689eaeaddc15-p_f', '84131768_ff41736259dbc659040c902eaf753205-p_f', '58301342_a4f5b8ac4dc2b08d265ebf6df8d26cb3-p_f', '29404840_cac7193c3af0dd76f1946792197f93bc-p_f', '29419839_2fd69ccea473a70bfeadef42955da289-p_f', '125805837_47864cf35481d172cfa29151f96a03db-p_f', '58301337_dc9c5510838bf38f7cca60753aaa7456-p_f', '114157250_f581c5e8df139e9c5ab4d45f9acbc3c3-p_f', '250400725_69c4e7cb0b7a5e0bb616c83a8c5a9cf0-p_f', '70338445_a3d227bf0fcae161679492ab9e941fb1-p_f', '303836196_3484976aef6e72c3bc5a888fc80a4be7-p_f', '29408794_aba95511c8443452d9b681779e57a1e9-p_f', '121651444_9abf0ead9d4c8d7f90b5c895c3bed0eb-p_f', '67388669_65c0053f21cd231d9ae062bf16543c16-p_f', '29421770_b2db49381d866b9d8b8da26f89fee4cb-p_f', '2085050656_0a634cd9ee46b93c126d76baefa23581-p_f', '125252138_75045b8b360258d0d2f0f5f2193ae7a4-p_f', '303836135_9aeca009084ff769ef63d60698ff9580-p_f', '122186618_0a2201c21a95612782de51d8923791a4-p_f', '84132126_215c6ce42b21e3b307ac8adb6c89c564-p_f', '119556614_300f356963b97284193e7b414a1ad974-p_f', '243294104_010d56b392e4edce33233db5bdc5ea5a-p_f', '250400089_5274efe362ed24ba9cbae376030e39d6-p_f', '58301745_28140704ca4e7609ede7d8a2b7a577d4-p_f', '202136952_8eedd69bac5f78dd73b22167dfa2f809-p_f', '70334227_61cb2a8bc0069764e504aebe53f93120-p_f', '121654722_c7b557fb9a96b64c14e383689d92fa9b-p_f', '29415721_1a1576bbae5bab5f34c8705839422159-p_f', '145654204_3d3ec99774e895475a3057b26066c82f-p_f', '125254009_c894ec105633945f2c258accb8dc1734-p_f', '70334200_1fffcba7bebf7b1e997f050d7acfa457-p_f', '89404506_d7ddd80ddc32e0c48481a4b64dbbe24c-p_f', '28607483_fa680cbf567350602a49e37a172c203c-p_f', '28587967_8144f4bc2370c3079949ac2c271ca88d-p_f', '111372174_504f727bc9f73cf9ecd8b820603c7bb1-p_f', '28584946_bba3047a75bcc86551f7f485a97d7235-p_f', '119625499_streetviewsize1025x768location30.211631774902344-97.97774505615234keyAIzaSyBJsNQO5ZeG-XAbqqWLKwG08fWITSxg33wsignatureXCAPMnrg1twUyVHkTTYQncmHiY0', '28587927_88dac71ce440eea833810e3eca4f856e-p_f', '28597926_0d537a99a5c409543041936233f6f07f-p_f', '114156910_a79bfc89a11ba3ea1af8e74ab771e86c-p_f', '114156908_14afcbf4c675723e2a7a751ba207a842-p_f', '29415648_f4dcc740cc88e15b09f4c1552ca2816b-p_f', '122187375_4d40e848bc8ab17713d3f7ae8ea322a5-p_f', '202140864_db2b858588f282b5268d30ad7d12b910-p_f', '28601848_7b83a800247b10f267c253b0d69c868e-p_f', '29410328_05f56ae219495a453d097e9e6dc544d7-p_f', '111372586_afcdca827ada2cc6539d6d630e8167a5-p_f', '94729785_10d6eb4f4eae68c772e8181fbfa04544-p_f', '2093866778_604da39c4c02df1691fcae09638a8547-p_f', '29401078_d759f4d60a718754cc8793853a8c40b6-p_f', '29404564_513523f39d667613290fe80773764388-p_f', '28595764_fea5f9aaa7f34f32d4097660a14b8b8b-p_f', '28595737_3466c60ab7f5b566ce891994436beda4-p_f', '89412227_fe506a6d0d358179ba4a1172a0433d2a-p_f', '119631192_6a3ac9b754bc55e1d989e3cf549beead-p_f', '80083187_3763f67c2615f28bf9a5a19189da2683-p_f', '111371503_a3c0db0ad7f2efba2c07ba07b26b8273-p_f', '84076993_6543942d9c8f70fda0b9acb570442ea5-p_f', '28595661_4f577ee4f42f02ab4b6692f17cafe4ab-p_f', '28595658_7137bdd97e718357e43bea5bff5049c4-p_f', '28595653_efe042413dc3743eaa18b92407a642e9-p_f', '67389634_29ef6af3613a89738c002bfe0dec7b4d-p_f', '67388620_e1c5f2142bc488a68ab9466ad7f20c46-p_f', '67388618_e93e50ba510aae74fec9b2b4b0adc4b8-p_f', '28595615_9f3d4446f8c765fd487f0a39c415a7ea-p_f', '67389614_f448ea4f9fb03cc9fd7f71b45c88f3a6-p_f', '55299100_9d59ad00e5fa747a8af3039cf5a61463-p_f', '84132095_0f0a30fff92d679e82e92dc9b723782e-p_f', '29489089_c507b2477f6382bded2f7b86d2f855e1-p_f', '28602064_5cacaef8584bb1ee7ab0eba68ef5ab93-p_f', '67388560_streetviewlocation161VictoriaCt2CAustin2CTX78737size1025x768keyAIzaSyARFMLB1na-BBWf7_R3-5YOQQaHqEJf6RQsourceoutdoorsignatureoQCOgsgHBzAGRHWoevFaQ9qU0kM', '67388558_1a042ef8727885c0dcfe263fc5141848-p_f', '69679553_c4acb0f3124e6c72a15429d30e2c81b9-p_f', '67388553_d9188fca165bf6119561666413013b56-p_f', '28602016_6b2f8d3f90fdac1d7aec5ddf949b0219-p_f', '84138508_585197b113f6c69ed7fd6cfb245cedc3-p_f', '70327932_d9ec21c3b1dca016600423fcdc4cdd1f-p_f', '80100212_0c0fdfaf8ac57ccb09e89842df1f4092-p_f', '70346194_590942e6a40b4ff6c4ae1fd9fb88d51f-p_f', '80096421_58f9e1a12f45c1786dd02e201a28209c-p_f', '70346182_40571e65f31d362cf7d585a415afdf13-p_f', '79980998_2375b9ec8b0cf0bbba24593c5ca4daa6-p_f', '119631155_244afcd7e9555e6fe0135a7280e643f1-p_f', '70346145_6a6cb0755be25f7dc5768652cbab7617-p_f', '70327904_4ca5b023136bcdaceed44cb7d5c6e96a-p_f', '305425899_9a843cc73e11559cd7a249d9d298a8d4-p_f', '29477998_967f46d96b097eccccb8913654600603-p_f', '70342990_1a2b8cd3f454b3f7e22f83da4079c3b3-p_f', '79981093_0258fafde60459cbaec512d1e64dad14-p_f', '70343091_1f3ba3550b97560cf30e45607eed3537-p_f', '79981086_19e5f4eb59dc8a9ff282fe5b30dd5536-p_f', '29328893_afb0927a6bcc5b65440dbee40f168a6b-p_f', '79981077_971ee38bf9b6b371cb85c9fe3a9dc46b-p_f', '80104576_1d3b0294613eda8361b2d60bc7ff9564-p_f', '2084004377_3883c7ef453ebdf4ed5cd64b781d2df9-p_f', '70343054_0e419e0f7e695b4450b3dace66a1cf6e-p_f', '70327870_1db4fc58f26e4fa353d52e5b1d584f4e-p_f', '80092544_189b1b1441256e49fd158e01f835048f-p_f', '29328860_b3d42140709fa63f8f7b54e7fd3b1443-p_f', '79981030_1e910ca97f4b188db1f949f2de91d20d-p_f', '79981012_26b1b94c0074e8dda05dbe8976e50563-p_f', '64849851_bc283b84c071fbbde35406d6a54e9484-p_f', '79981002_streetviewlocation11813CherisseDr2CAustin2CTX78739size1025x768keyAIzaSyARFMLB1na-BBWf7_R3-5YOQQaHqEJf6RQsourceoutdoorsignaturexhR60ZRVFzpOQwLNW0MvyhRufJs', '29502950_7a6a174a2c18c2782cdcd4bad7c953be-p_f', '83818928_streetviewlocation11001LaRocaCv2CAustin2CTX78739size1025x768keyAIzaSyARFMLB1na-BBWf7_R3-5YOQQaHqEJf6RQsourceoutdoorsignature_BE4oKNneAjQFRZLWPnqLjTbQ8Q', '29481892_c1c75b14a4a066fa877ccf6e5dea9f85-p_f', '29475835_abb893089860e58045f09b51842c7db5-p_f', '29499890_1444181d617f6c08d76e88ebe2efa637-p_f', '29481850_61173a1a6a7192c2e0c11a1163d4d567-p_f', '144389349_ed503e5077769c93cbb48964204f500d-p_f', '29331319_bc7946ac0cb77401dbc0aec6d2b9e673-p_f', '80090809_6013e50c4b4439e70faec1f8db4dd831-p_f', '29477800_819dc8cde04528cdea616e43deaf4797-p_f', '145656153_78fe5a7305ba6b6ce0520ca698f3e03c-p_f', '70331787_283cbf5a5dc8b7832e14006de4456213-p_f', '124840131_055ec6891fc4a2be969518403e1c349c-p_f', '70346089_725ef5b6261cf2d72cefc59f0042d8d9-p_f', '29477276_ca86b2e06be968df1ff9ef54af452e6f-p_f', '29487579_019fe154652d2cf86aabb32763d7eb55-p_f', '70331774_17c30feb803faa1b12bb082c6b0f89e4-p_f', '70346039_407d1ddb81932637fe247094ebd0d754-p_f', '70356767_ce78aa504f6ccde90b3575cdfd0e97f4-p_f', '83832035_70f713b7161d882a71199ec96a10e940-p_f', '70330266_3644f45cd4c0ab8cb3fff3c2795a7537-p_f', '94641510_b4b24964c6084825b73e525cfa3fba1f-p_f', '29477752_4b25a7cea9f80e09ede454b165de08c0-p_f', '29331250_a4b9f6047f42ebfc74b66def2aa1be45-p_f', '29511441_88e322f9aa2c9c7f5d887c1687bc9523-p_f', '29511438_a378c0e04999dbddabcf0ef31d97a193-p_f', '60138922_f9f2fa5ee511a91808c8209f9907d6dc-p_f', '60138918_83c93aaa5446072fe8c50caf007c6539-p_f', '64885887_825b39aefa006a5c71be31d3478f29af-p_f', '64871347_bb07ea5f8a8c6c3eb0194021586a4b04-p_f', '29510324_a5fee28cc86c91901f0718823398ff03-p_f', '29510309_28e99640922370fa12ee8e3d1d2b0b35-p_f', '29509799_2ae46d72e60c06785336a32cb63b306d-p_f', '29510298_5352744317d289673866cefde9824d4a-p_f', '29510247_66327c43e16fae70cac364dd1e8e2510-p_f', '29510241_87ab54fd1ffa0a5a2c1f7b5a2c534a46-p_f', '2078337976_a94deb378f36df8477a3984d3cecc5d0-p_f', '83126488_9145ead86ce2d2fb7d413d30b069c00b-p_f', '119625975_c7738e4f8b6a0430481a095d0747fd24-p_f', '83126457_6774f87dd5b207459e049cadbe7fcfbe-p_f', '64507219_8b96ec1f07b0b026386e6a6860d36ff8-p_f', '29501557_57ed83b8248187b333e85cd67c36ff5c-p_f', '60138974_2fee61356ae38d0c5cb1f3057291527c-p_f', '119557444_b63ed354cf649b2900efb7c8edeee33b-p_f', '70332698_392a7ed589f91043cec2b80d884adcab-p_f', '89549849_f93a60d73c91ddb675b78b560fb35bdd-p_f', '60138962_b9fee07e9c78be43e0a841f5753c59fe-p_f', '114405961_f7f4c09d0f4c5f8bdf61a508cce5dc72-p_f', '89551301_59e93e2d9772d14806318f74c71e1b6f-p_f', '29493906_c38fd3c7feb5cdc92b4fb9336ecbd8b3-p_f', '60138961_85913055031732889ec680dc2974a388-p_f', '70332685_7b5ea017e77bfcbb1a39727ac5b0a118-p_f', '70332683_6e3e2373f6a641359457aceeb8c06f9a-p_f', '29504470_a0aa2edc3e3992bd4be0dec2c406a01d-p_f', '29498260_e08203ef251ff5059bf1ebd89cd268bc-p_f', '64887452_4761b96d0e761c8a0bd6c9005d635dd7-p_f', '29498247_a3db64df0a44ff2434f13028be2b9b49-p_f', '29510174_0229258012d98899a4422541d2cbb842-p_f', '29509908_12caed966c84319ef2ecdfa662d0f140-p_f', '29493840_b315b25801d1823b4938023cd5cb31ce-p_f', '29507169_90d21f86e981f3045e81989a1a33324b-p_f', '29498662_e7780d566e051e4a364636e2d9ccf1b2-p_f', '58317450_02f0138d282dfded90b081e7017fad77-p_f', '29514386_f3042735df72b277b448d66883c559a1-p_f', '64558166_0b1cf8351f4b67c4a93546af5d9f1421-p_f', '89552394_878c6b8894b78106ef4c9378725fa7b0-p_f', '70332661_65226d0dc2cd5f77cf042571a54bb02a-p_f', '29498999_a43955191bada2f7554f6dd439ad0c08-p_f', '29499048_91d2d637638660e3cde1d129ff190644-p_f', '89548887_6c666227a722727a88037f451aacbd30-p_f', '29495315_17976573e4208e8beff01e888de0736f-p_f', '29506885_433530bbae509399e217d8cb00471bd5-p_f', '29514351_6e3d5d7a6ac53316a705d4ae2e5bb7c1-p_f', '69808924_85330ac71db64bb8974e0c140be929b8-p_f', '29495804_a12a4bb0629eb2698f4f12fe4fa0bba8-p_f', '29504419_8078d6f12ecd98bd810326e1f02751d6-p_f', '111373481_bb5f9ed913514e3889f37d89974a9cbe-p_f', '64913947_9c53ec43f9bc830c7a41c97f2ece5476-p_f', '80108483_e8b14585a3645e8c2828d2c453ec73d5-p_f', '58317473_b00c1d28e2ea7ce5da8df7116a161e3d-p_f', '58314907_fcee5d4bd9a389067aaabb457ad54a46-p_f', '29505965_ddc47f82b9d066c1456c207ebf58f380-p_f', '111371969_d1b88127655ca13ff783e114605c2f16-p_f', '29515466_47981d659e634c06171065307e536417-p_f', '80089897_617da04c8972e2016d1da029dd3061b8-p_f', '29513984_f9448baa590f8ddd957c448d04c3dadc-p_f', '29503444_082e7131276124ae7de979764d799ded-p_f', '29488893_a4ef567b13415bb3622655d7d0b68cd8-p_f', '29507462_2b7eaeb0bff9a673efee1d92e51fe21d-p_f', '83823461_b3d2e698ad9ca2e09e4e693d3d6151ae-p_f', '80108425_8c864671d3205d3ae964dcf356ad6709-p_f', '29497425_17103a94a167acff25c4ca288b91b31d-p_f', '29490352_9dff07a993e63ca4a8e67876b936ddb2-p_f', '29511954_233ee2c71c863e0568321734d294d24c-p_f', '29483341_ca15cb08461dd0f8576aedb42562d743-p_f', '58314832_ada6d275cfb8e7bcc46a435aa93562e9-p_f', '64669862_e477017a23c3fa576e045561f7afb018-p_f', '29515439_57afa9f6f7f56dd971ee9a41a9f9a6d2-p_f', '29515438_682f4f5d02dbe1a07a344a2b58bdf2d0-p_f', '119622968_ae32a293de0ba1930c9901a5162b4a5b-p_f', '29506412_75ec61832f43018f4dba63ed64af0695-p_f', '58314761_62e87b3c174b0b4e6414d99749f79a6a-p_f', '29501412_dae7f7841c4d863021c7230efea8dcf3-p_f', '29511924_be3ddf714ac04f278c343161a60aa31f-p_f', '112087923_d28c6971f73cec7123d9f6ee2900befd-p_f', '70342905_324808bbeabb01db88bb973132b52aa5-p_f', '29515423_106c94adb93cc00da27a4a9192eb0ec0-p_f', '145656422_d07dc0c1c477e438b8a5850437531684-p_f', '29511914_streetviewlocation11416SabinalMesaDr2CAustin2CTX78739size1025x768keyAIzaSyARFMLB1na-BBWf7_R3-5YOQQaHqEJf6RQsourceoutdoorsignatureFXaKpCd7fovFYrPhuwn7ctl6NiI', '29498898_1d3d1cdd18c159a6c41674d97b4fe029-p_f', '83819308_a41ffb5e9d7795621af607224da7de06-p_f', '29497394_b4b2874dd60d66a608397ea41bd947aa-p_f', '70343806_48a34f4a67cad8d0673b91d845fed8a5-p_f', '29508444_5e039c8f07c9e8837e6c88f7b1c50bdb-p_f', '58317519_3eb7e0dc9faf5486981ce5b5b7825a03-p_f', '80087305_7846119845bee537499d9aa23e146da8-p_f', '29331242_54dfb5bb5b17b6a741ca649e83c8b0f0-p_f', '70331740_streetviewlocation5716FortBentonDr2CAustin2CTX78735size1025x768keyAIzaSyARFMLB1na-BBWf7_R3-5YOQQaHqEJf6RQsourceoutdoorsignatureGgf_FQeexqJkBjYn2V71GBOsTB0', '29477683_7865b236df37827bbd78f2dcded227ce-p_f', '29327226_811cfb134911b60830174fb4700afc39-p_f', '60136219_e1aed38f2266aa1c7cad26b01285b684-p_f', '29477717_ad2aeae58f890ba3f178a858c88b2b50-p_f', '29477700_8d8378d2b5838f54927a4a1514b474c3-p_f', '70348197_cb1adc1428eea1c19d697a4ca677438f-p_f', '29475696_9387bd486b68cfbe7ca717c9cc9080c1-p_f', '29477688_d11bcc9ed6e18d7f2c3dc06c551efeec-p_f', '29477682_e6a05ec188d712e548a40e2374059249-p_f', '144358169_109a01e52ff4c0f6feeb90a13ae1ba4e-p_f', '64617142_a307eddafa6d67110d42aec4eba63a9b-p_f', '80091587_8881aec73af442066834e3b99995349e-p_f', '64689585_e6237b86ca7a711ef739bd844aa39f5b-p_f', '119622084_83a967ffe20aa42d05a19c1f0dc46b2b-p_f', '64861571_95bdb270fae3a17aafc21689e4d0e34d-p_f', '29333070_2190acd0246bd6a68c51b3804bd26afe-p_f', '29477563_7d5cbaee2e3b48f4f24c4a1ecc2bce73-p_f', '29477560_689096715487bfc0d30f0433eadfe29b-p_f', '29478038_5bd0f8b4cdc836adddd996bd3ff4e462-p_f', '70342536_9c368190bc3d3b3402f9d632befa0573-p_f', '89548463_04236a5b2ad6ddcf77b234ff6e16366e-p_f', '29477183_0fe5834deca0983f8b5b3687db1a0fd4-p_f', '124719957_a1e397986fcb0a86eb5c919828c2ba47-p_f', '29482457_845748b48b86f10dd946177861614e40-p_f', '79980950_2dd7f8177fc0e004ccea8aef0cc027ab-p_f', '29487945_6a4abf02f15d4033a4684b526929943d-p_f', '124844438_0677d43acef8b9b41e4e31db6cbadde0-p_f', '83833423_c518fb63700e1e89e292c5646062865e-p_f', '29487918_1cefb3f20d72e5c2956b9ba389b7d547-p_f', '29484993_dcfaac060ff5c6639a42259816f8f879-p_f', '29482387_8b16d4be2bec5c21ee9175177ef9bfd8-p_f', '64759870_d936f4d0dbfaf99e88c8dbcb239279c9-p_f', '29489465_60a8214c5a0568b5eda719edc7b5d0cf-p_f', '29492463_a03e3728d946e497601e0f10ff909c4f-p_f', '29492423_673a6b6de0f6b5f91287871f990ab1b1-p_f', '124836382_73f5b0dd71bf9c4723cac8418c6d11da-p_f', '29494380_279bf5ebc4d6e846684fd0fd5e92d5ec-p_f', '29494418_77b9ba5634d06ba61985019d2828c6f7-p_f', '29467877_f7e0083a70001b5a42f75a4131211779-p_f', '29489415_470a0af37b549b970a80f0acffa672ec-p_f', '29466872_6f7a901ab38e6cd9c39a976a6a919e97-p_f', '119624353_0c9830bd6ce8673486d144ffd922569b-p_f', '29492364_649eee231518eaed012c9bb85909b673-p_f', '70348792_1c357ed5dfd5a1396a8ed22c913cd026-p_f', '29487778_dc12726fe454f68b2ffbcb47bfbf8159-p_f', '29467792_7c1c2581ea572f2400b05b615f14d98b-p_f', '29489477_838bd2d739f8fe4abb22abf6e206473a-p_f', '29502260_c03e7c23e99f15837ee5b39a94973098-p_f', '29467758_1839d57381f9881f6d3c72f4bca9b0b2-p_f', '29468250_407729b8b8975a86af1ce597b1ea3f56-p_f', '29487728_1f99d574da6957cd0cc4091793f4e852-p_f', '29489706_f0315938b19c9140ddc2cd71d60953f7-p_f', '29359981_fcc0ea46e1dbc69ba08313be179ddf40-p_f', '29356981_7f212db613a73d7619bd9fb65cced519-p_f', '29359480_d04d3a27a7c96e8777562b9a531f725c-p_f', '83833071_7509529e372a393b7e41c68a04884a4e-p_f', '29515681_0480b6e59eefd9592f58e35716cf6917-p_f', '120896016_533a862ebd5a00544a9368df8e836fbc-p_f', '70343674_05e8286b09aba4f64fba1a50f4b7b607-p_f', '70343673_1c77892ac4d6eb83b35f50b86da9cd79-p_f', '29361586_7c62fada59b1e7abb7beb9fecb77273b-p_f', '80090668_99e0cb1caa956c795f147048ca979fb8-p_f', '29359577_f309a188e84e00960db89a6ff832b016-p_f', '29470508_3b5953f0c6e309992f5f02a1cae25403-p_f', '29359472_6ff5b46aa7e5255c6a65c23dc1e73177-p_f', '29361573_d529618e6d21b12f522623bda5ad73be-p_f', '83817463_streetviewsize1025x768location30.36638641357422-97.89839935302734keyAIzaSyBJsNQO5ZeG-XAbqqWLKwG08fWITSxg33wsignatureEQkVbKxOzAtmyxxIHbtgE3Kg8mU', '29516159_c65487f9376ba046bbf0472c95b20c8e-p_f', '83825957_018a0e82eb679330e55ba4f661267ca0-p_f', '29361560_streetviewlocation4200CanyonGlenCir2CAustin2CTX78732size1025x768keyAIzaSyARFMLB1na-BBWf7_R3-5YOQQaHqEJf6RQsourceoutdoorsignature6lzfsEDEveiRGViYWtOZk4mDQRc', '29359558_6e6551888bb966a73cea0fbaf9657b2d-p_f', '83825448_45610d030c38908cbee8f1d482ebb5dd-p_f', '80103131_32f6c74d2fd20bc39c516c10b4c73e8d-p_f', '29356944_1cc1116714d5ff3d2b7baec9ab3883c7-p_f', '111371128_7f549166d1560aad73f9386c12806eb2-p_f', '29359530_aad9469e601e48f2199be657233af35f-p_f', '29359527_9c9b28ca9ff9614c68f756986bbba1ab-p_f', '29515125_0ff654565edff768b87ba17d1e49bbfc-p_f', '29516119_27c764cf9382d72fb80e764072e03b4c-p_f', '305434615_338aa05eb63a5e193fef5f76081c5f58-p_f', '241939114_55bc998678a24f583b5e4ead7f67c178-p_f', '29359929_74bb2e4e97eb6ccc38cd40ff49e6aa6a-p_f', '124845105_955df791ecc964adcd0078cd1d134287-p_f', '29359910_246ce7d4ee34834ea1c805dc472afd40-p_f', '83830407_7f0ce76a64129adc34e84e3883fcda93-p_f', '125916811_afaacb4a2f5e90d3d0b9cc774aa4a503-p_f', '29356904_f26e13dae2a975511c50ecc92aee4f01-p_f', '70337421_4aad9ceaf985a6d67573b56b41f4f36e-p_f', '29515051_36859753048a407ded7351c9fcb3d669-p_f', '60134382_65159e29c2d773461bc78ffa48d52882-p_f', '125914520_2d74ef3b331843dbe396bef5b4e22e53-p_f', '60134365_feb7b97dbad04e2437613f9aca1e2bbc-p_f', '70331858_c167cfa206f6330f5a2d4fbbcb3d7336-p_f', '63834854_945acd94a5702966eeac0fae8d4b92f2-p_f', '83823843_streetviewsize1025x768location30.351802825927734-97.88910675048828keyAIzaSyBJsNQO5ZeG-XAbqqWLKwG08fWITSxg33wsignatureUxrVRXNh0NiiAQh-Q8Dj2SKMA9A', '83825842_44f29b9218f3691462b33608bc7b0a37-p_f', '83825321_32aa12f931f48de576398445d51727ff-p_f', '70337321_streetviewsize1025x768location30.355070114135742-97.89137268066406keyAIzaSyBJsNQO5ZeG-XAbqqWLKwG08fWITSxg33wsignaturebgOqcGPcSWlIT0yqj7wae4_l8aY', '80098879_56d3ec2a30e72e9d40281bde8be87f8a-p_f', '63834812_a1abe8fa11d18f66dc04673f8eb9bbdf-p_f', '29356863_21f58f8b3959d9bf26296b38d15f8266-p_f', '29359358_f711301b323a521bad74b6bacb2ea04f-p_f', '29359353_756b84919d3b31846a56c86f55498900-p_f', '70337304_9dd8c204a0155a46a5859c1cace71798-p_f', '58298334_6c106f69b648f1744bc3d290b6f25969-p_f', '29359332_d8fb0dda22519a43c0c091d2bea88d35-p_f', '64761291_950ce6a78a9c522206482025b99df43d-p_f', '58298310_8b2860d409d2eafa758f50c80a49dadc-p_f', '58298301_ed7ab8539d853a717b417bb123dd3229-p_f', '70337285_6edd1a30324201e5e0715a054fd2dd75-p_f', '64516283_5aeef1cf9e38b1026a7fa21bf9bfe04e-p_f', '29359282_6c23c92f3fe2f0b96ece76fbd9ada5d9-p_f', '29357280_510f8b5b3827d5c4b350d9a0256f5cac-p_f', '58298267_dce9ac762a4295f3fa21a0c8dad0c2d1-p_f', '29359261_5313d138ebb759b3c2d4c5d1d0c26ab8-p_f', '29359259_d9ade7c350c5d85ddd34c59bb62b6d47-p_f', '83826264_45bd20527b2985433890f83651679128-p_f', '54051706_7c3d56b9372f7f0d435ed845ffec6dbc-p_f', '83817563_c1aeccc0d43362b0664312a4336d3fe8-p_f', '83830235_c8656bcb20ec74f5ea03d07a2127138e-p_f', '29357235_947756a35894d6ac1a916d17ef2696d5-p_f', '58311526_0d3f73b29447982646e5db3532fd6fa3-p_f', '89549524_d8cc87e764b0eb872af76be87abe1bc8-p_f', '29470018_402e0ad40969b68f4941a946c18e14f5-p_f', '29357218_5a672ed2272e49e154314a44e9ea1cf6-p_f', '29359716_f4defd6fca2822fa822004a3e2881788-p_f', '29354104_04a79dff7a2899aebb563f6bb287efff-p_f', '29359712_bd4dc4e66137f45ccf73a8e55c570c70-p_f', '29354087_62ad3576b6e637dc83075aeab5fe2bba-p_f', '54769560_99ea9fbda2d600d9ee0f96e8924255f0-p_f', '29347504_3f6d0bcc06dfae50aa9abae19359c4fc-p_f', '80088188_3a241bbef97057918e61f631980fb8b0-p_f', '29359683_ac9fa4b04016d28d9c663a8738477e92-p_f', '70352680_9a417a5df62f5e91d66c8c8cfbeb1a31-p_f', '2096039179_6e3cf68a8e9f1910f7ec4716c9f97b86-p_f', '29357176_337a22817c149c4fe89232c69f3d9d76-p_f', '83824113_58a777d04b7c7cae1785de0a7ad54e83-p_f', '89547592_96db74bdfd766351632fc0962b787c87-p_f', '29357089_a4f0f71b74a332cb82c441715621cfba-p_f', '70352577_2cf28abb7d5de73c1dab366832610d3b-p_f', '79980551_0081acfe011bb601c29af738576aa638-p_f', '70352551_82158366ab23d5ec4842b1d03e9eebd8-p_f', '70337549_24d787467ce2d4c85afd9b161fdf3149-p_f', '29359539_89d0c8bb78294197fdbe034b4139b6c5-p_f', '29359535_e80176e6c1ccc6126ffa689e0244b3a7-p_f', '29357005_0c88ddb0fff9682960a13566cb7cce79-p_f', '80092967_f6f1f9b3a1fb946e202b582e98d2619b-p_f', '29475466_ba74e6735769d2626f9f58412ae76b83-p_f', '29323463_b1f139dbd02919e39655ef11f06a12eb-p_f', '29323440_e4274b00defb32fc9ed2cdb306d362df-p_f', '29323433_a6033d8eac94025513fd8086411b466b-p_f', '29332430_25b6b8e4bc06eb032cffb17b340a5c78-p_f', '29322927_8a00adc5543471ddbc00b5136088d19c-p_f', '29332424_c63d5297158c819e6161986fc3f9208f-p_f', '29326419_b02f5a1c88f4760eea4f2c1ff7f3f8dd-p_f', '29326904_f9a4584e03e8765fc54afe875d0a1196-p_f', '29473899_fcbceab9d1f33a2730b31ed98fafa609-p_f', '79980393_cc8c1f090db4018d431498d9d6bcb84f-p_f', '29328393_3d74c3124b4ee73f1aff194eb09a72c2-p_f', '29328497_6593a02b34d7cf03ddbb9eee3ea7f918-p_f', '29332379_cf3052a2021ec17e80c78e30473beb27-p_f', '29322874_8fce71b1fe8c7e07825db335b0fb37b1-p_f', '29475339_90c545d6c2d53c7c22ad6bfeaeb216bf-p_f', '29325839_9495c975f97302524fc3308e07bd4c6f-p_f', '29475338_de170c8e9ddf56434042d8694cc8b6db-p_f', '29326337_47a255689df03ab446b357e00fce68f5-p_f', '29474310_54dfae6b5fc6e6cdbba2d7a0e78a555d-p_f', '29473786_849226ededd6572143286ceba1984b40-p_f', '29323281_6c09cb4f0b57527fff271b4ffad73693-p_f', '29472259_658ef1037770879ec23060ba3e65fd52-p_f', '29474258_b582f1a8222bf15ff55f21851d8d0699-p_f', '29326758_1cb66664da9fec2be759bb1a9d45354f-p_f', '58312245_ea6fa98aec83628e3f8537e6897b5f90-p_f', '29472235_c12d76753f4bc5a0f6d2d5bae22fc56a-p_f', '29472212_ae521cb520325b1d07f712cd959f3cfc-p_f', '60136208_67ced4081599bc7cb0fd48bc8f212f76-p_f', '29327193_230627a626b8beb29b8c8da630c5dcd3-p_f', '29326176_d1bb6ff0284d3ebfaab6fd75afe09ddc-p_f', '29475660_e33b54993ca8fbdd8ad8d397c6fb66d7-p_f', '29327160_b91cebc8022642fec5ab694c249f97a9-p_f', '2089430654_049acf23c5ca05e60b88fb25d0d32a1f-p_f', '29323132_5772b7a16c49019b46618a8537e96aaa-p_f', '29326628_b148c6ada65f90724c4a1f5629f7a0e8-p_f', '2115151119_46aa29ae22d8cfd563c8cee167328311-p_f', '29472559_b907cb3364612f142478785f1ab51893-p_f', '29474054_12c0c585ee59d808eb44576b6f9e83db-p_f', '29326977_00255434cfd2c66984631563fac05d94-p_f', '29323035_8f47f2596e0d4346f0a9fa032ecea5f4-p_f', '29327030_d996ccc31468c125b9a8cecb37a4ba21-p_f', '58312519_dbf304bf476c02c579627aedaf0c8eba-p_f', '63838497_ae5b359b920369f7ac57ea813e5a3b51-p_f', '29487493_aad3bd77b979509e5ee2230df6587423-p_f', '70334994_a1ec455d3b848fa2c779c6ef88516618-p_f', '29491970_9f60c1645854aebd4fac84dc3f785ab1-p_f', '29501971_5e14c6df3da95cf332e1987f406b7288-p_f', '29501963_e9005931bb38e0d3ee6b9a3cde70047e-p_f', '29488918_9a6a85d9b55f86df064015677eac4d01-p_f', '29480691_80ef0c80b84f437d8fc452a290d7d650-p_f', '29480689_397e342b975c7b1bbe9ed06d3ba16b37-p_f', '29486179_streetviewlocation3904StonecroftDr2CAustin2CTX78749size1025x768keyAIzaSyARFMLB1na-BBWf7_R3-5YOQQaHqEJf6RQsourceoutdoorsignatureiFdDiQBf5LM3ZP7odUkplMuCSnU', '29480672_11be8301af8c9d80559927a230e4d4d0-p_f', '58315162_0df275b36a5eb05609048da5b7eb996e-p_f', '58314613_2486d5c72ba6ecd0c6745d96fdeb8f94-p_f', '29485516_d47c64e94406e5b7d09f84ba9ab694e2-p_f', '29490794_f82c7ddc22bf09d31c945e87c5d680a3-p_f', '2078450497_6b5be316417ed04b4ece74c839f2564e-p_f', '29485943_64660207f0f2d17b2e99311ce0d6a08e-p_f', '29495425_19e7a79acfc884695659574b789eea90-p_f', '29495422_63ed7a9c25a51d89034510aa0eaf7816-p_f', '29490752_771121615c3d70352215e583fdbe5be9-p_f', '29495421_33483da335fff016c8fd702a4962d4b7-p_f', '29498751_d48cc282e715bd7244ee0be350e69e61-p_f', '125089932_462508c9e0dcecec02662626fd439646-p_f', '29498418_8de0fbae76db60441fc703f626f3a886-p_f', '29495387_6d8ed62be939f58a32c212081f64e93a-p_f', '29507390_b9d6ab9ac3bd838ffe5fdbd31011ecae-p_f', '29490224_64f7e6e772c0bb1f9ad1d28a03e84ca2-p_f', '29504388_0e5105585240280eb1af8811fd45a2af-p_f', '29494213_3235ff36b42e4de2208e6b23bb0d12c6-p_f', '29498981_82143a15ef83e20f61fe790de7d5455e-p_f', '70342978_f7d44728587b73c695bbacb965e87e0a-p_f', '29499201_8d983c2f11d87967b3a8826935241f65-p_f', '29485924_f92bafbc118899d263a910f6d6a76b13-p_f', '29498699_b839665b2cf386224a5faa3b523d92f8-p_f', '29495343_2428130ddebbad1e055a492edcfec390-p_f', '29481984_2f46b4b932bdbc58ef8377f68a9e562c-p_f', '29479935_96551150946ae2809202de31b6cbbd2c-p_f', '29498325_0f5bcd4c61d60862eeaec2f05945f21b-p_f', '29490191_219b4cbaad24b77b98c2c7c80cb52025-p_f', '29504327_77fa06dabf316eedde05cce065c6872f-p_f', '29507323_e8da2deecef69a6175734772ad12415b-p_f', '29488786_d46a1ed925390adc56424e87a3553e66-p_f', '29504319_4f2bc7c1c3e11ae57b63007d6aeefd0b-p_f', '29493785_c43e6495c6b5691902533e8a8e352359-p_f', '29501441_536c81619abb4b0a61cc16fcdab5aff0-p_f', '29504309_7e3569e9e018ade56ceefa3722a8d52a-p_f', '29504300_a1b233d19a6934948000a36ee4ed73b0-p_f', '29506936_3d09965c8e767b37f25fe9174993c5c3-p_f', '29488769_378d3650c9cb428150639e1d48bd737d-p_f', '29504292_1223c46ff4f16af93a003bf88496c4e0-p_f', '29495654_1ca1ebe3028ce697a86eeb6aca757f36-p_f', '29494153_094150039dc4d55671a88a5ddb4e11a0-p_f', '29494151_streetviewlocation3801AlexandriaDr2CAustin2CTX78749size1025x768keyAIzaSyARFMLB1na-BBWf7_R3-5YOQQaHqEJf6RQsourceoutdoorsignatureYB7FwmHCdZRSXYYyxqOpeyU1hSs', '29495230_ccaa725bc15481a0d6cedb0eb7afe9a0-p_f', '29490645_d0dec5d9859710745ab255dc48627136-p_f', '29504251_de07bf8baba7d0fafa22616b3805696c-p_f', '29498223_21fc5b9777a6944d11d15204a2e1cd94-p_f', '29494106_9789f58b39e96857fadf039a159e493a-p_f', '58316020_7719a57c32a7cc63e1dda8ffd6c754eb-p_f', '29504228_577eb9d116cb0960fcbfeb09966711e3-p_f', '29506904_e69874bb25fd2df8ee7678cc12d697f8-p_f', '29482886_c31e08edf4fbf978c9325c6059d6e81d-p_f', '29495584_218165cb713fc0f8fb362c990dc49794-p_f', '29498181_9691fa21dba27ea10526220fe9b596af-p_f', '29485382_e003771dac08c15afda0291410955dfb-p_f', '29506880_c0d3d30e7b9a4d1aa77933a5a1299960-p_f', '29488675_ae7f50610abd65003aa22148d35818c0-p_f', '29494075_762bdc34643f6a1308789b988c69759a-p_f', '29506383_f17fb0dd89a9a53ec9d63644f2546183-p_f', '29504200_aa6d6857a947d786fbe593b492e26026-p_f', '29485376_f52d9219b18f63d27b83f983eb0f8db5-p_f', '29495157_66d8ce9476b7b9d985330fc0f0182eb7-p_f', '29495673_e1122e0792ed4c9cb0b86e5bc543f316-p_f', '29498156_2338ce85cbd7153ad7aa96eebd7919fd-p_f', '29501591_104a008791e187ba0822e77d110ceb05-p_f', '29501590_80863416f0cf34a5e0aa014343c78eb0-p_f', '29495122_28bd958c5c40119a2b8def949d886b3f-p_f', '29506369_dcb2fddf52ada09e198e9bfdcd68f752-p_f', '29501577_d7a18c7a686a468275760966d343798a-p_f', '29494047_bd2602986b16d134a412e33f222d2c60-p_f', '29482857_ba39e390915bba2c3141b183b566e1e4-p_f', '29501576_c90a8cc5ec0d3945e4562d12220d3b23-p_f', '29503824_streetviewlocation8606CollingwoodDr2CAustin2CTX78748size1025x768keyAIzaSyARFMLB1na-BBWf7_R3-5YOQQaHqEJf6RQsourceoutdoorsignatureu7NWkamgGbSfqeqX47baRCk-gc0', '125090848_728406db697bfff18989407b96b21ab6-p_f', '29506813_9f7158b914cfa9f0b340b732f9387149-p_f', '58313843_05d174a22517aa59f10194c6a012dd32-p_f', '125808019_7171e7c1953b0437a1df2b8603b2a521-p_f', '29507040_c5f04b60df7a002d7e0c77f7b9872fe5-p_f', '29493958_2e81902947dc995640a11c6024f4fb14-p_f', '29495500_03d95c0421ff65454f298330fe2fb883-p_f', '29503776_e80cea32decb430054a66c6be2d3bcc5-p_f', '70342769_e3e869ecca3e8d911209b3e6a971249d-p_f', '110538818_d346456fb50a2b329c56a43044347970-p_f', '58316350_531bb99a857706cc1513394e5dfda4e9-p_f', '29507016_6857aeb7b13789ae4c37bbad8e35a8c6-p_f', '63838760_a3870a6bc2a99c059c3e63bab3c8226b-p_f', '63744849_867a8a4d3a0d4d3d634a1142c8593777-p_f', '114406311_b104d3867f496233a8c0e1e9dfbddc74-p_f', '29500836_44a48b1c060b95f2eb556206b22288e2-p_f', '29501099_da80baf65678c61559d21d834bb72512-p_f', '29485295_9c63871c26d66e70c2eee0ee0f0d2ba2-p_f', '29506678_8d22fe2b1e467f38dc2d547c56763218-p_f', '29497778_abb893089860e58045f09b51842c7db5-p_f', '29497260_5deb164f38ed6998cf0545050c0c9b8a-p_f', '29501259_7618ca8ee0bcc40d55e72ece93d26f23-p_f', '29503745_2cb871d4ee8d3ff2492d986dddc122b4-p_f', '29503741_7ed37fc55940bead964546a86af636cc-p_f', '29503737_5650c82f585867869a73432e63fad4dd-p_f', '29497228_54636cfd08d0bf1f2aee99df20917191-p_f', '29501221_9f36cec825b0a5867fd1e63567431132-p_f', '58316695_50e190e63d8db6c25663547f0e009333-p_f', '70343179_1be6a9c7f9ba48354a64b5a26f51c91e-p_f', '145656157_4ff8ab3cbce9fa0adcdd2db05d06a109-p_f', '58316146_4942ffad4434d52d9260bef3c001f9f0-p_f', '29506116_901afe5a5cbbcdf3d794cd26d24bcdfa-p_f', '145655612_1627f09bfa6616c696fec95253294b6b-p_f', '58316682_212433766f721ad25b89b7e79d827c80-p_f', '145656064_86777d094b549f2bd25b9917b750d165-p_f', '2092620063_edd7609540ced02d2aa5a48fe1ec7cac-p_f', '29497561_27ad1f3489bfe69a5f0bdf5975accbc2-p_f', '29503555_7c9e8085dfce165161ae85f2acdb0811-p_f', '241933256_f29ebdda4ec8c97b8878c5bdc46c6fec-p_f', '29503519_828f3a0501b302336531ebbf6527e0b7-p_f', '58316013_d56aff43300ffb300abb03350674468f-p_f', '29488487_2b0854b9185b4ee3f88389a012712f94-p_f', '2092603972_2ae923efc6267747db27740d0ac6d137-p_f', '29488549_04b0beb3b993ec108148abba28f2959b-p_f', '29489962_31a78c9dc9e91ae88f6785b3fa659aa1-p_f', '145551944_streetviewsize1025x768location30.19687271118164-97.80225372314453keyAIzaSyBJsNQO5ZeG-XAbqqWLKwG08fWITSxg33wsignatureUpn0AiFynjz3YliGLe2Fg1onsyc', '125089431_529005eecb0f1fb2604c313046102dd4-p_f', '29489921_ef8757911daa4ee233b8f2a82fcb649b-p_f', '29489893_76f0bb861e95068b189244dd7ad16254-p_f', '29489886_3514f81c3baf76df888efb63a3d96fb2-p_f', '29489871_e1edfc4843a2d8d874b525a1eebebbcd-p_f', '29497870_85b10e8e3fac98c70eb6434b77375389-p_f', '29497907_b20539ad61adc53b53080b6c946646c5-p_f', '29493370_34e46b6c31da5723dcd82ec8b527817f-p_f', '29492860_5d5a20213749f6c921172c80f4446d23-p_f', '29489848_a53c24e201c478593a3afe1b207a3870-p_f', '29497326_36053646c8002004737410cead2c8dfc-p_f', '29488313_28bef839a27279004abfd8583be10a73-p_f', '29493311_8e3638a4f94edf209bf5ebf4e6bfadac-p_f', '29488311_267315ae9be8e95b6416f0862ea1e015-p_f', '29497801_00020245d3c4cb2759b99a3bbd0ee951-p_f', '29493299_d3ee01256036da3c190216cd7925b95d-p_f', '29489797_c176dba71d6758462f9bf1f9f36716e6-p_f', '29497295_11b5edfe54897e0f7225f496ca7e6102-p_f', '29488276_6169b033a23579be16f82e8f3dffd166-p_f', '29488528_b56a13f8dc5db4bbc4b0568a39eae2ee-p_f', '29493200_streetviewlocation6402CapriolaDr2CAustin2CTX78745size1025x768keyAIzaSyARFMLB1na-BBWf7_R3-5YOQQaHqEJf6RQsourceoutdoorsignatureTC1CTGl8F1zyHn00YXRwX46mbAw', '29493679_7039c64dd76c1ee25c530befc78f721a-p_f', '29488639_1bac6388efdd4074a1adee11160a7798-p_f', '29493632_01e2431a69cc14050f3a421ae938918a-p_f', '29488626_adf3ddd0d936089ac0dfb2a606d1e42a-p_f', '29488611_e300d7b30eddd3e2669cd0e9b24ba8ce-p_f', '29494602_82c2923f5bc11329d07128ced9b64956-p_f', '29488602_9dc9dce8b42491e31dfe2b0b16d0b473-p_f', '29493090_d98256d936cda2cf2d00d50527934c91-p_f', '29494581_7bf4a9e263167af5c2bd3ea09750ea69-p_f', '2080757076_830e6ca6a9f016d129a3543444b107c1-p_f', '29488063_a6fe844ca604dfe478c5449ca61f6ae9-p_f', '29493552_a9f411c935ac267799a6fdf85a0a0c40-p_f', '29493530_6daf09b7fe830cebf01f6f6fd07e1234-p_f', '29488029_d75d9c5e54709980525e45b10b7f151a-p_f', '29497505_f1b2c0fe2c7bfe5a73cdc531d80e0e85-p_f', '70351954_fa3f5fdea851594e164c07233236d7b9-p_f', '29510930_ff5b136004aa6b861320c0307fcc06f0-p_f', '29508405_fd6a74957c7dc6744dbff41d1734540b-p_f', '29512902_4e9d0d4ef8d7dd9d7fc7462db1b1bc5f-p_f', '29510901_8a7a14be2963f7a0d63d52a0a1a87495-p_f', '58316898_fa4cb896912fd8c6b7b67493dd20842b-p_f', '83823892_79538ab2b0921135e7efa01fe5265461-p_f', '58316892_e7a9f48ffff64be94b462aca74a5ef45-p_f', '2090599387_dfabbb869535ce82f5be464e47a6fe6b-p_f', '251031385_76194fdfa944b06e76ed050f137b1ab3-p_f', '251029884_afcf261f3e7d0caf82d6a3ff8fabfad0-p_f', '125806871_70d4c6102036cda1b9b8c8e3b9a6ee57-p_f', '29513863_4390ce2848cff792bea075725391c22f-p_f', '80093334_825d9dbaf781d49e569b0c86a4e9e2a6-p_f', '80092404_da9c72133e11b8f1f3030607a6925365-p_f', '2095600833_01127e930744f312983d5c918042e1ad-p_f', '80098857_d3e5dd1edba6020517e9d340cbb48287-p_f', '64849769_6434b5c7685b519613f488c96a5121da-p_f', '2090745314_eaed74546012bf1bf9aa87fa51d908eb-p_f', '29508498_658edb8893de7008ffd4f95c6173c27e-p_f', '80101795_c2dbe20e58585ead7b79bd919ab3e698-p_f', '80101812_6e8c5be8db2a6a0521218cfe1a5e0d68-p_f', '251030288_eca8ddd06af6758460fa24d26e8c7a4b-p_f', '64648284_7f538d99de7681f7a7d2db7df5f2e7aa-p_f', '29515776_e6a1e90869046b8f6e813af96c208527-p_f', '2089378210_8e8fdbf3221e216d44d01573735b4278-p_f', '29509268_streetviewlocation9200IndependenceLoop2CAustin2CTX78748size1025x768keyAIzaSyARFMLB1na-BBWf7_R3-5YOQQaHqEJf6RQsourceoutdoorsignatureVziERgdlCV0_V1I7bM3q4OoS6kQ', '29516757_e1bab1ec2cf30d2453fd288108ba16e5-p_f', '29512767_a83aedbb6c95b9e5f7b2ade226f355bb-p_f', '80092187_9680b3861caba62b6693eff5930bdebb-p_f', '89459183_8e4a8b5894ac8fcb089ff8a37b0f8482-p_f', '80091754_440e0311f3e709dbf8a87d17e0a1c060-p_f', '251031248_6f3a00c775e2a453281a6df50a0dbd03-p_f', '251031845_f503b2ed1a5914af24d481423413d837-p_f', '29509246_6cea51efa0cb1beb87969f16ddeb19de-p_f', '80108651_691b16f440c2d84186ddaf5770d855e0-p_f', '80107716_8ec70e51d17871e05e285c74f0badbd1-p_f', '89551241_cadc09b52a4025ba38b5a3ffc1cddafc-p_f', '29515701_89b0c13eeca1c347e5646dedf00b8d07-p_f', '60135692_fc0e69459170da7f502d9fd435a59724-p_f', '2103231234_cc6d48c6dd0aafe032d9d83690aeae56-p_f', '70335620_451818200c3572ad88c50856c8d523ab-p_f', '58317669_91b53f9fd85e90a8dc5764206d38f647-p_f', '112087899_53eac677191edce62c7d797a253710e4-p_f', '70335576_9b811cd9549629e97ff269e32009e466-p_f', '241933391_a540d2a319a75121548178ad90b930e0-p_f', '58317636_cb5a3b9e483e723060e78240d71c5bbc-p_f', '251032215_a13110a1318601d536c7f7ed70cf3bdb-p_f', '29511891_d864d1a1d8df2ab31f77f25febb0b75f-p_f', '29515135_084e9d827c6a7a8aee246fe34943750c-p_f', '58317632_a3063a3db147e999e818c1a2741d15f2-p_f', '29515373_07d7f7256cab90cb7d89adb8db4f6f7d-p_f', '144399871_bbeab6ca14b153f4758f0e168a9909d9-p_f', '29515363_a272799ae4d5f8594acc2f25086b1fef-p_f', '29510360_5530dd6285a85ceabfdfea1e76a9c622-p_f', '2081020538_55797f9e43f787349a5b36fb7853fa14-p_f', '2081385200_34cab82b68e3cb13f9887507fcd32e45-p_f', '29511856_93537eda2812a24b10db57d98f1404b9-p_f', '58317611_019969ca49a8df1ca7840f646de7337e-p_f', '29514850_b3b357ef76b53feeaf26c7a30d7daf8d-p_f', '83126530_afbf2e0934483b8f90a198d08c51982e-p_f', '64721106_ff89479f626b4a407c1124e245c6f033-p_f', '64820022_b40fd04d1492a3481f2c45425afa86d4-p_f', '70357599_1791c0445b2047d17f1ad86ce094f948-p_f', '119621344_34a5f9bf19daf14067744be7bdd91cb8-p_f', '29511844_ab3d0986ff0c63e430b96436a8a6f309-p_f', '119631340_2e25238ff262dbe00fa969d4d1c799ca-p_f', '29511181_710763c010948a2beba4f2a3afb22568-p_f', '29511839_6c3e3bc2e5caf95267faae9480604505-p_f', '29513337_e10d6a5810ed5179541a38f76368df4b-p_f', '29515333_215dc800c3c6b42769f9cf81fb11239f-p_f', '29509173_882237962c1c1b685cb43501e831a554-p_f', '58317563_83e1445f6223611b767a741d9866405a-p_f', '70357559_5c59f831ddb99ff8b3a84b815c10a332-p_f', '58317544_c215b8488c0a3c959663ce7200b5ff5a-p_f', '70343308_2f46a0b0174d588cff54d96ff076d567-p_f', '70357536_cee7e945d6052abe5fdadc0b8a5b1802-p_f', '70343323_0afbdffc4cc4f18dce03afb9bc042eaa-p_f', '70343303_3f1b191b1679a927623c2ae5f0d29f40-p_f', '29513789_5de3a0db80ccfde15096f985fab672cd-p_f', '70335274_e7b84bc8975e70adbf0ab7fbe6088a63-p_f', '64449760_ce6b95d45b139129dd170daf6b985163-p_f', '119632254_17f80355dd38cf5a9fe2b60443b4c308-p_f', '29512742_a0670d8d6042606f2145c2fbdb83b0a9-p_f', '29512723_66ca17f1997a083257d28d6e62fe6c2d-p_f', '29513713_e7d02414c405efca5a6b78232b426c1a-p_f', '29513711_4248ed77419961596c8907ff6b79ca23-p_f', '119621208_ea406079137c5e257432d6ff9256aaaa-p_f', '29512685_9a9a891c0d3490b8675ba1db04b49275-p_f', '29514680_a6dbd8b3b74bd4aa6b23703723b7be9a-p_f', '64732679_570549fe97d4864498c59c082b79817b-p_f', '29511665_f5630ce003864b9120d33bbcf0efc491-p_f', '29514662_2dea35dda60ef9bbd4d7e83bd887c6dc-p_f', '114405153_c75e76d2e19b65c3ca5640f946abf3fb-p_f', '29515418_64f38afaaee968418fb696f51840973a-p_f', '29512614_39e183426467431140bef697b274f9c8-p_f', '2082667322_3995f4526cf8fde49872d17cbf5ecd30-p_f', '64458595_fe0c2649a525e16bbc4fe0764b8cc02d-p_f', '29513587_6daa48c123e76b1225e2ced23921eb06-p_f', '29511586_4e44e9a19fd04f15beda08c9b64c7587-p_f', '29513583_e60a90c1b738c1c1b5e25b72bd02ee72-p_f', '29514582_1649fde3fd018a57da64d4c3395b472a-p_f', '29514578_9710edbdb3f3d9a76372bd153464bd40-p_f', '29512574_83faa43d52d1e24706a3d21abfc9a191-p_f', '119623572_e447a8459376f7db8b2a00fd2738a7b0-p_f', '111371036_601d5ab74464932d7a74ef1c89b1b35d-p_f', '29512028_1ecc62a8c779e7f275ebc1aec3adcc45-p_f', '2084648020_f336b830e356ecbfb6b032cebe701632-p_f', '29550814_83b96ef6d8d68ab55bce7ba55881f576-p_f', '29510501_7924144736028e995684b5a14206fa4a-p_f', '29438993_168a7846875357395f92d11e3b154e26-p_f', '29434419_93123812ff6586ce59ad9978545d3134-p_f', '29433384_f970dd06499f319f6f1405e2d64e7461-p_f', '29438858_23d2dfaafa57e8c69fa60fb376a98816-p_f', '29438851_5240607929e8deec339b75fcc4c82043-p_f', '29433344_41b7058da428de56566a0b726b7dbe78-p_f', '29438819_6ba29b8c769f3362e6fce332b0c1cad8-p_f', '29434793_ddc7fa99bc7d3471ebce810feb3b5c39-p_f', '29433254_d1b9c0af665109c74c185a989ef78b9f-p_f', '29435219_3c7ea36f4f840a57a65c26720f8c7ab2-p_f', '29435691_13a9264501ccd8abba0c713e84ebffb2-p_f', '29434690_86fef2b27a635412e8c567cc1d650efd-p_f', '29437688_07c280731a0a5bf09ca14ac0c43af77d-p_f', '29435651_0e374c1bb713f4ad24fdd36826f2ed1b-p_f', '29434649_9b12265659c002ab434b3b9a009f442e-p_f', '29436643_6496c9baed0f0898cbd66e83ebd9251a-p_f', '29435590_b3afdcd0f7c698b2a314c13cee0185c0-p_f', '29439052_03e4d6147dfdd8a86ab7023e21490ac3-p_f', '29439046_a3db427614be5503a843e471fb59904c-p_f', '29437044_b609c191c44ad62c5f0a24b2f5fed049-p_f', '29434541_67e3f46cb834bff9ad215276b33e77c0-p_f', '60134497_59519411e49345a63403be1d825fba50-p_f', '29424483_6ae845c849b710d7436649b2e06621e1-p_f', '29356458_d7bc64586b90a40a1c742df40acdc619-p_f', '58302803_3cd53507afa15cb0b09f4669f01f0fae-p_f', '29425999_b37873951547afc65a1beaa8f8609ecd-p_f', '29422429_96da0eb3b3c3ca6f36a8d07469967daf-p_f', '29426427_f871cd21612f7fb03b658382a346005a-p_f', '145550424_589955ccafdcae8d0fb72765635a1914-p_f', '29422419_2a3646a1f2c861b1096c505c87d51399-p_f', '29428417_cf737c75c91fe7d2f490ec560d1df1eb-p_f', '29352903_793ae5d2dc671588f3ac5b8abdaa9e94-p_f', '29358396_cf7374e30b9293a12e0f518daafc2b5a-p_f', '29426389_d0c5617aec0f62a7fa47a1e802e2de09-p_f', '29422386_914d09fb6bd5c7f1eca47c74bba49b18-p_f', '29428367_2e9818c84c301ed2753a5b16f561002c-p_f', '29421347_d646dcd1881bec27f331bc600ad385cc-p_f', '29421333_446175dd5593fddfb65184b08b572621-p_f', '29426312_9b9c2264f560a53b78a19c084492e295-p_f', '29422308_ec95e2eb7602c080995dbba60575df34-p_f', '29421299_5333dc172ac02ea2a38373da4eadb900-p_f', '29428277_c10716d6cee1b37899fcb9b918a57a89-p_f', '29424777_c5ebd04e45aeb1ae0031797df54b2603-p_f', '29430761_7ef9b35e57da91f564b1369ccaeeac02-p_f', '29421257_206667a27821937f2dd32eb053accd52-p_f', '29429753_729b8966bc73e227deea771362325643-p_f', '29430752_fd29b9d22fdc4818c982f66651cb3556-p_f', '29424746_838b63f5bf67355d70392d79e2376f76-p_f', '120899742_65dcdd84c44987b672d98cadc6974f84-p_f', '29430716_60cafc32409cc1a64d926721ff9bbb2e-p_f', '29355216_35f839f3ef6c972811fbda6fe2fd774d-p_f', '29430707_c9c1e76b0c22bc713a037a26c6bb0714-p_f', '29421207_3034ae11878fec232f1a0a85004f7990-p_f', '29422202_f9636f573444eef2443bf7ddef56f0c0-p_f', '29427199_883c165298ebfc3696f8d966cc713698-p_f', '29421164_7c708578f6e107b402466d0bb20fb6b5-p_f', '29420161_5a394eac85b4431760fb016c63a030b1-p_f', '29424653_706cc4d70f29387b50e5b42ca3ece25a-p_f', '29428150_8d58084a8c60cc64aeab079bc5e6ecef-p_f', '29424643_9ff992bf0ac3d8716e1eabaa4e1d6eca-p_f', '29423132_60e7eede93f5e73810d855de164e7254-p_f', '29422124_6d7aaed48a2f28a5c62a7c63d7f46c67-p_f', '29423131_84c23890608b09b92b45fa02b0d89eed-p_f', '29430608_streetviewsize1025x768location30.37351417541504-97.7443618774414keyAIzaSyBJsNQO5ZeG-XAbqqWLKwG08fWITSxg33wsignaturethMO953pX0y_M3fXPC19aYT5wWI', '29432096_fcbe11624dd40f465326278b4eed6ac0-p_f', '29428088_e696b8c04690d41dfc70bf225e97228c-p_f', '29425978_b9645dcca80bc2a5f2c86ae316f78a46-p_f', '29429583_a369072555d33f6becdb400a52e2331f-p_f', '29421083_e8adaf220644aa6aae9a334bacc71ff8-p_f', '144274064_ae5a117908ae65850c5c12124985a600-p_f', '29428059_94b2338bb20e3f7ba6b8edfd7388060f-p_f', '29421051_0e6acf2e9194b24b75cff73b813c74b9-p_f', '29423044_66f9cac769a76d8d925fb06ddfa75138-p_f', '29429474_8d46d0ec79a633ebc946a9a91ac1c4f0-p_f', '29430526_streetviewlocation3915AmyCir2CAustin2CTX78759size1025x768keyAIzaSyARFMLB1na-BBWf7_R3-5YOQQaHqEJf6RQsourceoutdoorsignaturefokv8ZW835kiWNtNkErDHuhzB3c', '29426022_f389875fc2d9f557c26ba061d0e7eac3-p_f', '29429512_57ff21a3ccebf943c613ae98cd057d1d-p_f', '29426011_29bcbe89e0eb571ff43180c1ff06f995-p_f', '29577936_de635a33ee2523b3508ff09e87063a51-p_f', '29604429_15f2d46ab6609aeb06e98957f73ac937-p_f', '29596419_cfe7057f2aedbad426f8a96cf0303dbb-p_f', '29577905_28ac81ba17e8c77a3ab52a236b56991a-p_f', '80127397_9d12c93d10267edcb328b3aa83c6dea2-p_f', '29577878_d527803087dbc33b76647ae414ed35b4-p_f', '70985494_5fd0fd19dc3c42d7161aeec037fba7c7-p_f', '29577848_a2d0fafbb9249693d01ad87834775eff-p_f', '67010985_0264994ccedd00bee0f8f2a16425894a-p_f', '60335978_5d12041526603964b7a79530af698862-p_f', '67004976_7e574a168ad205f37d217f6b87725c3b-p_f', '67004973_e71592697d16ced59892d0c65ee2cfb0-p_f', '29609330_aaa6870bde2693bb09a53ff30880bd65-p_f', '67003964_afab946b7238028736003ed31facd216-p_f', '70992774_77aecd2a07a7110926e48cb2a49538ca-p_f', '67004956_af3ddf91ab72ecaf57da7ace41237326-p_f', '70976455_50259b9ad2bf239d3c347a5549486d7f-p_f', '70992756_7534d0cf04a97b7b7bdb5ce57ffb59d1-p_f', '80126243_75c61031f405c0a5cab5909010948a44-p_f', '88018937_cecae5c9350ce3b1f391782e6547ef9b-p_f', '80123722_b7a0b433409f97d377634115476374b9-p_f', '60335918_b37eafa9a2d94229e858f8fddc74b5f3-p_f', '29614441_streetviewlocation8529AlvinHighLn2CAustin2CTX78729size1025x768keyAIzaSyARFMLB1na-BBWf7_R3-5YOQQaHqEJf6RQsourceoutdoorsignatureicDDa3r4qgzOB8Vl8GAo6WsxGY', '29577698_48c347c06f4e7ec710871199675606ee-p_f', '87922894_4bd21f52afd290b3a868f7a0060be4ee-p_f', '70992691_40719443b15407ad9862a109a8069b46-p_f', '60335884_033587868fe9b123e212bb704c09868f-p_f', '70980382_69ecaeef34c4f9ad131bada4e9d03ebe-p_f', '29577684_cbb351bc6d2db747d2d1b2e8a3b2f0a8-p_f', '70992680_a375d7ef04b25aec737eb692ce95df00-p_f', '60335999_5001e0eed8eada8213fdf575b564aabf-p_f', '88026371_streetviewlocation9512PasatiempoDr2CAustin2CTX78717size1025x768keyAIzaSyARFMLB1na-BBWf7_R3-5YOQQaHqEJf6RQsourceoutdoorsignatureeeJkoAseFcXLabxpxB266_OUp_I', '29577675_a5f44983c6001652e05f6da1333d1df5-p_f', '29577666_adf673ee6d5d2775e9d840f4f32df3d0-p_f', '58267865_0cc0e51a53407cc37bb08f3342e4220a-p_f', '29548164_0da4b13373d1a7226af4916218eb5cb1-p_f', '29604149_22e4d56394f215fa1bb8b0656cc24b70-p_f', '29555369_aea99afccb1be349af86a311d15d50ec-p_f', '29577643_d5abca568d1ed98592ff10d2b4bc2f36-p_f', '80111854_0633bd7c4452bfebd660b055e566f6bb-p_f', '60335852_59bcd300c121907818fd051d90d6a866-p_f', '58267833_51cd6680a116630593b1c4160de1b043-p_f', '60336097_5fc8b164b1f0b03a76ddcd045cea2ef1-p_f', '58267826_9c94f413d37b4d6725be24b9d7b5c987-p_f', '60335825_1de9166eb75ee64302205169912f2584-p_f', '60336073_9ce86428db5bce0bab44bc4b5e7e8154-p_f', '58267807_58d4fa3feb51d3fb6aed4124bae737fc-p_f', '29555308_f28ffe1fe189384bb2e96c45cff3bb90-p_f', '29548058_127663880d438cdc35797c89a5c89e1e-p_f', '88016281_a02f0cde4f9129b958c652b7c81b1476-p_f', '60336016_657a4162c8c568e3e2582c8d981ad81c-p_f', '52830727_63d4a056ae422bfdbbd0b0862896e1f0-p_f', '111972198_ad1b1ac1bee9fb1f543312e396d83d1d-p_f', '58267688_a05eca66bde28fc183906b9e03b084a3-p_f', '88017684_83a6c828d40a55d70c4f6e6c94a4e12f-p_f', '111972153_streetviewsize1025x768location30.500141143798828-97.7586669921875keyAIzaSyBJsNQO5ZeG-XAbqqWLKwG08fWITSxg33wsignature2NF66ZFqw_fZQaZjp5Whw0iFdYY', '52830635_b376a847064eb998638f1910746a3d96-p_f', '52830628_6152ffde006a6fae0dd3cf2f9faccb06-p_f', '70985115_d6bce707eab201d56c50438783ff1c91-p_f', '70977568_735fe6069dbd8f59628c0f4ff34450af-p_f', '67011558_119af96f1fea18aa53cd7c6aa3a68707-p_f', '70985529_57604e2cf43de536c799532a947c79c2-p_f', '67004007_0a0317bfe58e26b934db0fbd99f8d4b7-p_f', '70985503_b758114c703911ceb8809f7e1f906a96-p_f', '250825272_39cc7e3fb4daa9f33645fe6b6528b257-p_f', '121724709_3aeba5768360f3fc06305936f3f65baf-p_f', '29616205_dbb68645511554431509f59dd92a236f-p_f', '121719648_81f84244f0340ffdee71f76085551374-p_f', '29596646_d9db05c4d609f674b803d7ec83da34d1-p_f', '29575609_c67cdf3e8e78c8f2ee56cbd2bcda1d9f-p_f', '29561590_81648f865d73bbc4c4233e3d0376f037-p_f', '121721574_4701336e4759579e87eddd45fe6ba836-p_f', '29587064_272584b7142aa884092b974f80a2fc1d-p_f', '121721045_4e13831752f984dfa31e802f233a38ad-p_f', '29587039_909b5b370250cd75319b75977b237b3a-p_f', '29554979_28a7db35d7bb49fa68784b53c0cd943a-p_f', '29588464_fc6508699d941a8e76e24d5bfac0246d-p_f', '29453980_7110be4b08cf3815702dd7ec40b2f7f7-p_f', '29447980_bd4dfb5cf33c17cc6f0a258688c99885-p_f', '29582440_818c4c0d6f2b6dde1ae7794186f6af04-p_f', '29447966_4cebbe0d88ecedfeb08d59c5254192cf-p_f', '29447960_165f034add187059b69d559675265edd-p_f', '29572429_938d3d5879bbb7318e7b3b49a0876d82-p_f', '29444985_bd4867beddefac277aebdf24414779d2-p_f', '58306475_88786dbb603d95a6d51bddbcd3718b40-p_f', '70339556_9a77e756d0114eac28a3e0c6161d8748-p_f', '58306495_8a7a47092396aeb60290e29202b4171c-p_f', '58306442_ea9e929db323993d11c92d163a6681a7-p_f', '241932381_84e05d7bdad87cbc3eb3d893f2f0938b-p_f', '29550795_7219cc6360a13a048558463ddc7d74d0-p_f', '29366286_862ba6782e037b80e2ee4283c7b98f33-p_f', '29369778_b7548f785b866610ed5f98ff38012cd2-p_f', '58307358_e550f6a918d1cc96478380f0f968e509-p_f', '29366268_8778ad644fd2c547e6119eebafa57bf9-p_f', '29369767_dc9e27e9cf658166b70bfc7b59cdb071-p_f', '29368264_7e61d2064860d3e1957c6ce8ab4afe50-p_f', '29442850_324bb8b9ec6229912a51b05fb0badbab-p_f', '29365262_e20c8623e2b96081c93b071a869d3f16-p_f', '29371759_76b44dab3d981ef468566672c930cb42-p_f', '58307339_45ca0796e1a42646dfd9b6e1291c43d8-p_f', '58305338_cef77fed9157fb2aa68000d06b614c5a-p_f', '58305335_2084a1936da832911042aaf967a16f47-p_f', '29440827_178627a123b403a5aa3a52910157f897-p_f', '58306513_c280b21aaaebfacab6a40434333b9c54-p_f', '29444816_49d0d10c07f7869492bec456f14ea915-p_f', '29366724_26d02a64fb00fe40da43e1c95f112fbd-p_f', '58306293_5c3ba690f45469bc79c41a24ef75fef1-p_f', '29367718_3f4fca9a5a6ed0b390bda12386530bb1-p_f', '29369712_80b6ff821e3c30665dec91484060b010-p_f', '29370204_46c65cee05d5a86aacac5c6adc6ea8de-p_f', '29444290_49acd1662ccf985ef7a4a18de9057a66-p_f', '58305717_61823bf363f0b3405fc9ca1efdf89365-p_f', '58307286_f02b327506b35dc60535b47ce59c956c-p_f', '29444217_511b71dd2a58a402208e97d95886917f-p_f', '29369697_bb6358496246f7a995982b3e11fae375-p_f', '29371696_f4574ae67080fb1827c4af1f38614651-p_f', '58305280_da72f1bfb9047f3a93b634cf2f130eb4-p_f', '29370196_af34b3e8f80ef948d0e9bda92f91c226-p_f', '29370194_7b8c898a3062f8db0131ba047357b637-p_f', '29372193_f5ab17085a7e3e8036b7f3575b9c7fc6-p_f', '58307271_77bcc642ff238b1c875c137ac54dc3dc-p_f', '29366690_79a836b9e5be887fa002def04a3be396-p_f', '29367686_25d833a71b974911a21a09357e123db7-p_f', '58305189_7a6b1773a5cc81b4ff3a86fcd28358c5-p_f', '29370177_ee583e061b70417bd9c061771560c0c8-p_f', '29442747_da70d5ee3884624a84c7e79997a334d2-p_f', '29444745_793d24302f58d60a14864d5b82aaa6ab-p_f', '29446235_2b1a18fd3c24f0686086d8752bc724eb-p_f', '29439166_967fc10cd9b5b74436fad3d181a22afd-p_f', '58305149_39c7d1adff620c7e0b1783cda98d5551-p_f', '29454443_32bcb73bdbde44c6ac2139ea3dc14115-p_f', '83829134_a7615d22e6c4de75a3485a69b004b314-p_f', '29367646_338c96537a256bcc9272b78ab42b122d-p_f', '58300145_9bd4e038a6515b8a033659a45ed5fe48-p_f', '58305105_dfb7bb1c1c6f0480e703201b86cdd46a-p_f', '29453933_3a5d4c2a0981eabc4a0f2324af02d6e6-p_f', '29442654_5ce7348f20dfd40829c493c5fefd3062-p_f', '29446152_fa8f80a8ae79507d18f5a28cb7cd098b-p_f', '114406617_dd2ba8153a13541ad9a9f5ef2bd585ea-p_f', '29440643_ac7a0c9072374f452204434e70608d16-p_f', '58305075_82e7d9d5275ccb66d04cdc5a4111ca8a-p_f', '58307125_d53c1245b7ae60085d9ea74bcdfe602a-p_f', '29442041_7a3b7fef6efdbf54654202d6e3d8a843-p_f', '29442611_d932fff62797e204e556fbd2ace11dc0-p_f', '29366100_db15f666e0528fe36e6d2f2e90a8b752-p_f', '29442604_dadd0db020d7b6047f4a8523f19c0695-p_f', '29442220_9cbc2e07472f39513af37c39b5e94c06-p_f', '29369220_e88f4b52e9446553683c337bb68a24da-p_f', '29439514_a894a591b78cb81ad4077682e7eed128-p_f', '29449343_afb4cc25cf4c8eb6433956f7e77523b3-p_f', '29447833_10b0bf4c64cf0d19d812df19dc1ba0f4-p_f', '29454329_ef902e42e139ee9c171a9f622d3502e7-p_f', '2078955819_f0d7924e325a0396ca5c6b00de44e7b7-p_f', '29367500_7fe956bcad566eb448aa16e5e1d1ffa5-p_f', '29449315_982f996dbe32ddeaca7498b3ad0dd797-p_f', '29369255_d83d1335b69322efca1b8789aa2864d0-p_f', '29366089_6f3a1f7ad9f55bb29468834eb0497e03-p_f', '29452807_2eeeddcd079b6396cef3c8af6a5c88bf-p_f', '29368085_ee06a3bc6fc951431da57a2f41efe413-p_f', '29449302_627cc9d449674e4c5f446541e6344027-p_f', '29374083_7a314de4a0484d7eac68058ade7b40e7-p_f', '29366082_4627210420bb4902c5a47f837a0d02c5-p_f', '29451300_025604a7f995c3a4f845210e19e40b83-p_f', '58306096_9169e86c0aa548572c89cf6ba37b5c67-p_f', '29367577_60c72f15db9ff1629de52b3582aa8f4a-p_f', '58307090_8f5f4c95d48c4d3838665bd699cc1b37-p_f', '58307081_baebaf0e515ad10094a70263da191551-p_f', '29444571_c7b31881d39b21b19b8ab174f72e63ac-p_f', '29374067_9325e96c2c67c21fafb92144ee599ab6-p_f', '29372067_5b59c21781c633d7a67a9148539c3027-p_f', '29451799_eecef90adc035f5c2ded0f423519b12e-p_f', '29442558_b3448633960b5199f204ad9b8e3a3988-p_f', '29372062_a9ea10596509f0c897696a588c68c78c-p_f', '29447796_0706a70e6ae5e965cf7925c18158eef1-p_f', '29440541_74d234b86bfb4262a3e575ddf18467db-p_f', '70339539_a05102e27c650908614a573a892702c5-p_f', '29445038_64d268cf16d18818acbe16cf341f344c-p_f', '29449777_1496a6607c4ad8887d7a26a486a71d04-p_f', '29447423_14e86a03ec313c7d6fd853b8541a3bf8-p_f', '29451257_da162194624ab1ecb9f883a89236d6a7-p_f', '29454415_fa83ea3897e069cc855dcea2c4299348-p_f', '29449705_bdd79ff6448014af088ed0b3cffbd6b4-p_f', '58308181_9cd5182ec96785cfd46c2f574ee0442b-p_f', '29451174_5c5f13bf80ccd6362b9e5f6077b4c24e-p_f', '29451159_f06ff970ea28e040d37e9f3be6c92f5c-p_f', '29451158_6d32fc9eeaba7f51d774608c11d26867-p_f', '29451652_d6d5ece37ff8db69f43507c655672a2b-p_f', '29449635_4ff3d9cf34c1ccb7632bbbfb153058de-p_f', '29451129_1ad35df01c4b88e10a5a97ad9a333925-p_f', '29447625_2fd78b4d49a8d9dcac1ecba3a6473d3b-p_f', '29451109_0f6a2939152c945e08c5315aed180003-p_f', '29451103_4cd6f9fbf8f6a0e3e0d17e7631faec10-p_f', '29449596_d09ddb2f00144b7fe6fab3935242d929-p_f', '29451079_5105f9b54ceb3d03e4136607923df191-p_f', '29451548_7cd5ec756b156424fedb20b8a4a52b5f-p_f', '29449539_c8596c3769abcc96b63ad182af0b8a48-p_f', '29451015_040b8e310a50efb855e0066c3ca18723-p_f', '29365029_2cf4a2c6c81c25d421bcb9b930b59ae8-p_f', '29368000_f378b58af77aa6a8409e90b21e84b970-p_f', '58307426_64fba5aba7ebaee2f491f5c471f860d4-p_f', '29440897_b520d55484507527f0fbe4982491c2f8-p_f', '29442892_2121a9109f430a5e73aaecdc7524c223-p_f', '29443374_1dc8c3e806e6ec7f479cf0e27dfa828b-p_f', '29445371_f7c846d919d0970526475c1bf0cf09d6-p_f', '29444978_586ac50751b0d39ab85dd3e98cc7b73b-p_f', '29442859_e023a477eb8fa6eaf341ede850513b6f-p_f', '29442838_98fcf14631b499d9c54484daeca86919-p_f', '70330805_e139bae2fe95483b3cb328132d790630-p_f', '29441294_182a86b6b33a9770e180574740129f66-p_f', '29443286_cf29756a67031980c721997b4e72e17d-p_f', '29443282_6f8e8e10e71167bf2b5d1f05e2fd4f93-p_f', '29443269_1fb176010f911523cc36bbe6321a829d-p_f', '29443254_9a89798f508e6cc78904b901e97b724c-p_f', '29442734_6bfcd9d650c10f8aac10c7917d18f204-p_f', '29443228_0b91635b963c9d83264600d261da93dd-p_f', '29445200_4cd92b6912666a3eeceac4bc8709e480-p_f', '29441200_267fef63907015559dd55542e45db31c-p_f', '29441191_2fd9ba8adcb693a4ec467fea1f689902-p_f', '29445186_ea8997b43533c119ccd6e1933e2d2694-p_f', '58307481_953198a8489aba0bc19f5ed0865be944-p_f', '29440161_b307accf3110d0d6809da7ff06cc5aee-p_f', '29443145_5fb8684d04c3d2fbc2c0c974af32fbc0-p_f', '29440134_c2f1dd003d37966bb0d760b7b0c0f6f7-p_f', '29440122_5e0717eb329be0dbb80e8b147916c752-p_f', '29438603_78dd5081ed6d7b9d496e2e94a6daa88b-p_f', '2092918102_da4eebdff71929690ec07452a855dc6c-p_f', '29438598_47343754c77833e1affc909a370082bd-p_f', '29440732_7210af01f15d6a24485a772625222633-p_f', '29438583_b1c5a3accd63c72b0063f27a4fb1e8f7-p_f', '29443576_f3a0c7bfe7c2ecdd6a2930d327a43b51-p_f', '29443074_44cee3c10447c9f3ec6b87d2089009c6-p_f', '29440056_0c14ba677decc38d497027555c148e61-p_f', '29441038_99fba2aac6fda22f14791c654dccc32b-p_f', '29443029_c8357febaec0a829b6de0a2eb6bb1a99-p_f', '29440007_2d5a1d483fb01929c1a7a7db48e79717-p_f', '29440005_1da479ed8292fa3c27386586d103fd75-p_f', '29395482_1fc074885042918b867836894c73a00b-p_f', '29327650_4cf5702e00b3b1508cdc1722a8462d76-p_f', '29387544_be50d60d164ace52d0a68c4f43a8680f-p_f', '241934815_4ce952bab7ed93da35ee9e18c49e191a-p_f', '29396010_6643acd01e26ddaa1cff0c0d09ac6067-p_f', '29396005_246c395908455dfeab356eb876e5b831-p_f', '29331984_d89116fefccf5387f6bfecdcdae32327-p_f', '2077674887_df1e89ce2f55ea4b698fbe88b1c41403-p_f', '29460354_cabdae8c9648a0aaf252c2e328f2bf18-p_f', '29458978_883a43d21b5ff22aed4d814ed1e6321e-p_f', '29381478_c3a349b38cc6f52f5ffcf0c9f56ee24a-p_f', '29381473_dfe2848e6796ca350124fff9985d284d-p_f', '251029843_1f3c1f542707026130ed5b0684944b3f-p_f', '145655338_9c11c2c4cac742df9a8b0509ebdb9e8d-p_f', '145658373_433fff365203a096357a91ce55df5d56-p_f', '29458821_022fea52c21e6bff77e8d904518dd57b-p_f', '29460315_f67ee5ab8c02e35901a0e9f3e669567c-p_f', '29460807_4534b11e0cee6c579331444b54b754be-p_f', '29384304_9a4a1fed09e21dbfa4ecc64d3e0c6a14-p_f', '29323799_e216d02ef7e8cac395999387a5607938-p_f', '29381796_0ed5befd9eb1a3eabd33b7a1f0d19c06-p_f', '29459291_876069d9c8b1c386af93df3ba94a4b6d-p_f', '29458783_33b33edb3eecf1aa571be323d8e91901-p_f', '29473240_7cc5b072ac5334ea52b75550e2efd809-p_f', '29459449_6a650379c3091160301807695f139d54-p_f', '29473211_530f5637b42ff1145b72fa2cf911f894-p_f', '64768709_cbf8e263a547a8106796b4e72981d184-p_f', '2091191439_e158cb8609fdbf091860c1577c550137-p_f', '29459158_c7f113fc04a011cecf19830993cbd43e-p_f', '29459655_fa395fdd334e387d37836bdc6ecf3ddd-p_f', '241930654_7e593eb1d1e71bb3b6ad8d66419b2622-p_f', '83813150_61af25d8ed12d14b9aba44eb30429496-p_f', '29473137_4b850c9b55c830ac81ae0e55a377130d-p_f', '29460133_streetviewlocation507ELiveOakSt2CAustin2CTX78704size1025x768keyAIzaSyARFMLB1na-BBWf7_R3-5YOQQaHqEJf6RQsourceoutdoorsignatureUZlQYNvRCvGApGVHZDt3sUIGBUs', '29459630_fb2d231bc7929856def201e52712b7aa-p_f', '29382626_2040ae10dc59a0ce947ccc49a1743cb0-p_f', '29460624_0fa6356c61b162f5b5b44912dbcf0ab1-p_f', '29471934_7a9266004195d37ab41d36d1784b0f79-p_f', '241934432_9ff91106d1ab615e315858a8195d355e-p_f', '29382610_55260eddec59a57349720523873d5d14-p_f', '29459002_60464580af7b14da196891f64ca619ca-p_f', '29459603_5d70d9fcdf4ed8290d23d18c774badef-p_f', '29460096_2fb8a9f99d99c095a94b426dc0cd2a38-p_f', '62604584_e99b082c3861cdf52baded3544fc9a34-p_f', '29460581_d91391691ccf7d7995fe6156dabe321b-p_f', '29471928_697e2ed44ca5df14151b7a31ecac9a04-p_f', '29459574_78d929cd9a808da2620f165cc77de44b-p_f', '29459063_f40d70daa0c94cd931d1cf6087e7037b-p_f', '29459060_6349a6799c3fd82669e5c5edc6dc1979-p_f', '29461050_7be211bbf4e352017651b965030f358f-p_f', '2080286541_28f12cd64cf97535711f661fb7cc588d-p_f', '29461024_24315355a97ddde41c5ef8cf9f5110a2-p_f', '29460498_24902011b272a26c0b74d9ee4f0f2ba5-p_f', '29382514_72f13404433fa1a5d3642fafbb480c06-p_f', '29394421_7c2de10657f276c9243e847d78fc045d-p_f', '29390998_8ae0bdee4abbfe4f56565da8202801bf-p_f', '29394400_ffc4a8452b7e6aee5146d826e78f73b9-p_f', '29394874_75dc66f95767bf5caaeb6fcf6df5ae80-p_f', '29396371_6eda6fd2cd40bc1c48afefa98d589387-p_f', '29390994_7b24fcad10f999e42d1281bd849313ac-p_f', '29394811_e4f47968d65ccc156ba2324e41edaf27-p_f', '29394809_68c0bb13b5cc09c079ed2beb74a5fa16-p_f', '29396306_eb7814d2fe10ee8e23948e283210a7e9-p_f', '29396294_05acf0ae4dd4dc1f237315459ad53ee2-p_f', '29389715_4fdfb99e67aa5c76c9e97cadcfc6dccb-p_f', '29394708_6a824dd95f3e6b2733eca20c0c37d610-p_f', '29392192_1b1f5b0b2a7e7255e9fd7515e45d38ed-p_f', '29394668_80d554d1428c1632aca76ba9bbf3db82-p_f', '29394616_7b911d9a42bcd1d4ffa038fc89c37da8-p_f', '29393111_dd9c76b82f8a5fcf5a5cda56265a0c93-p_f', '29396523_414f86f571e5982931ed1c406ee38c5c-p_f', '80095932_9939135457bc02f764d03c18a2ac55ec-p_f', '2082001877_903cabbfc7ef91ae3325f141a840bdcb-p_f', '251029362_2f282a71c087f0fcfb891d2ef318171e-p_f', '2097074353_f9dbb8ab5ac1df0dc1c8bf4074ba654a-p_f', '125807815_da3244a8f76204d498f6e7859e2b2141-p_f', '29392277_e390ed616977a6f9f8bbc11209008623-p_f', '29392306_ad5ec1f6f22beb33e3f6f11333427672-p_f', '29393259_4e9af605969c76e9df37f53b0203f963-p_f', '125915181_b4f67080b4a7c5549f392c2460dacca5-p_f', '80103661_ea97d8c0bebf93e1e3559e8636cb0ee5-p_f', '29390090_5771c5369b190cd0d97c8c7ed820d1cb-p_f', '29396580_705a3d0dba347de49dbe7ec5fb74bc68-p_f', '29396564_a5760e2ae14175ba4eca1ab27a3b23f8-p_f', '29388380_streetviewlocation1604E13thSt2CAustin2CTX78702size1025x768keyAIzaSyARFMLB1na-BBWf7_R3-5YOQQaHqEJf6RQsourceoutdoorsignaturenBPeBzwt3R4YQmwyyeKa7vmI_98', '2079572332_51648879e21ae10be8196517ec5bba42-p_f', '119623806_041567324fa689c37ffcda7ce25522c4-p_f', '29389772_473c283f2a092bcdec8bac46d1f45ef9-p_f', '124843670_1c55576896893da7f5d6a9b383218259-p_f', '121658636_0a1a03e3439f4c26f02b65b21e25e43a-p_f', '2093033613_51bd1f62b8a34f82ed7258b36329e909-p_f', '29388585_15865a69f39ac823dc94fb35ed01b8a5-p_f', '29389534_996f7ec075e483662ab32eb78542e7ff-p_f', '89549030_0b792f80147a5d6bbd5eeaa59f4bc44f-p_f', '2125354507_b715bf390f52c01baf30014e8f238fc8-p_f', '29386883_4f7c0d7a8b5467b51ea6cbf4e1a11ba9-p_f', '29386879_c8597043aaab49533177db5ab8f11db2-p_f', '29389868_57e4fc30a270f92d88bb6d71c6faee8a-p_f', '145655239_5f35cbea8105e136419333a428304006-p_f', '29388713_821a9ffa31aa932368ce6a54377cc7ba-p_f', '29389982_062a6f883c3affd360f1f7f5ccadc6c8-p_f', '29386481_5938a0835829d00f979d713af51b822a-p_f', '124843152_db2ae9693088b62ac8da1f716ae05979-p_f', '29386480_85f92d60e85970aa46eadfc10e075d44-p_f', '29390003_b024079596260c783645357c9d1e254a-p_f', '29386475_82729bf030c1fcd0aafa3f5ff268925e-p_f', '29386964_f93e4ff3c6ffc57fdfe113630da80085-p_f', '29389952_5e49f548197869d1c3d6f1dfc23812b1-p_f', '80101523_34652789b9e5b9fec0c927e32f350de9-p_f', '29387010_150539bc10b4adabc54b8b2e65ab2c58-p_f', '29390007_74902ce7e59a8c005a9225d9a5998883-p_f', '29390004_f5045f5e98f64d237091333ded0b9daf-p_f', '145658494_5259123ccc3a3b993344909ca1f6a3f8-p_f', '29388908_b1a39efd070815d3a17dfd648ea5322f-p_f', '29388901_5b2845ac6b30bc9d322ce17b4c04aa55-p_f', '29391393_2d365acd5bcee465e0a8c0e20511d46c-p_f', '29388882_3e2fd7b30ce57a5d2468c36024b54fec-p_f', '29392857_b28c03dc42ce79ead7233af8b88cbcf3-p_f', '29388844_816fb64d747c0759cf98a25c9a9ab6cc-p_f', '29392831_f1cce5753f1759fd33c14bf1baa650ab-p_f', '29387980_20fa87113e9646a908fd96a771620d3e-p_f', '29391285_cefedf8fa450e4ae71243e1a0ac64bbc-p_f', '29388969_2d7fa3a18bf2b8a861f531c97b008aa9-p_f', '29388214_42ad51c54a0f5ec3ded1ccfdb403bc72-p_f', '29387968_2ea0609ed0c9002adc86d501c68f2ce9-p_f', '29396639_8fb83978eaa155269dee8d725b4ce66b-p_f', '29392766_d93fc8024553b0ab87c6d0aa2277fcd1-p_f', '29396765_b5584c0dc17be394b4a6a705afb36d44-p_f', '29391264_e4490591a81f7aa33ac548fdaf0311e9-p_f', '29391258_e615791f751987a52e1d9d424a997194-p_f', '83123737_d1e4b4d4846856610d2074db2108ce29-p_f', '2091533727_2aaef913c76ddf2c3b7cbe98d0c544e6-p_f', '29396723_9f19f7d94ebde49f3a55fa4f295772a0-p_f', '29386709_ebea99a312b955b65b494c39f5d40b67-p_f', '29395208_438af929c6f7173f14aadc02b369b5a7-p_f', '64660702_d7e5880159dfe492055b0c5a06f19618-p_f', '70326200_7df0218b9220f79f9e5b3272b7e0b2c5-p_f', '29392686_9fb752101cb7c98cef51d0830a2e55e9-p_f', '80102937_d87fd877350fc9f57c625c08269267eb-p_f', '29391437_f9859e4a4b35bc017d0a705c57d4c88c-p_f', '2087651160_ef27f6dccce8b97c7533685c0a6347a2-p_f', '29396657_ff9c9e38085c65ffca5e251b10598f08-p_f', '29391149_8657b6d78c6058843e34c002267852a9-p_f', '29388135_4e6a0389b41ceb92929a86deca15ec1f-p_f', '29395133_08bbcfd09f86957f7ec4749fe6ff6ea2-p_f', '29388124_4fe2c8441b4bfbe43d87f4cb231c1411-p_f', '29387102_cfa19ade6db8b4677d014ddaa01f1f7d-p_f', '29386581_61377932e6720f9524485f17f0ceb010-p_f', '29392579_6d9bb6201aa0f95fcdae0011157bbd29-p_f', '29388078_2013371bf03b7b1f42081915352b88f5-p_f', '29388073_3b96904682ac02ea6fb09264c3f68f9e-p_f', '29395071_2703795e498bdbad388d6a034a41d47a-p_f', '251034063_3f34096e867825c7a21650ea56e3dba3-p_f', '29387046_f685beb39979bb988eaf2e27d09ad7db-p_f', '29392537_b035af17136bec367415ac37b5b80e7c-p_f', '29392527_c73483962607b4def9d33919adfb5417-p_f', '70326411_01128443134aaa5b8d8ad1ad7295b121-p_f', '29395014_3bd3e4539c909a1d9f832d4492d0987e-p_f', '29391511_69d7a39fb60a2cbc79f3428379895b92-p_f', '89550509_ebd5065ab82dbf92c2355ec670ec57f5-p_f', '29391504_4ed66481e3114f24e35f151705839745-p_f', '124841928_833710fcd5b87941740c7b4cec9a65b3-p_f', '2078449420_26c2a250e26c85c82efa1eae252188dc-p_f', '29383417_4a01cc93583d1663abfc4897ee80944c-p_f', '124844842_a750ee0c80bb6fe43978cf0f41aa4f78-p_f', '29382332_fd52f4111361d78632272327b169191a-p_f', '2079615780_85281de22b4df769709335931e06f376-p_f', '29385273_2597c979dfe460344abc206ba597ee8a-p_f', '29384770_ba6edb73bc6f1927f89442a48f002a32-p_f', '29383242_95fd05631371d593b9b484d07510b806-p_f', '29385237_streetviewlocation2014E9thSt2CAustin2CTX78702size1025x768keyAIzaSyARFMLB1na-BBWf7_R3-5YOQQaHqEJf6RQsourceoutdoorsignatureePy5ixYPv6G5yROOoe6aairSkbA', '29384710_a07114a5a35f0670f7ff6cbf8570953d-p_f', '144230873_aa8f7c65351a75e6180564a4a186d92e-p_f', '29383192_9713f6d33cdb4c73e45f344cbbce30a8-p_f', '29384661_8a75c86e354789a71f46b75fbd3cf3fe-p_f', '125752628_d0a7ffbb4b4dfd08ecd4b1d15695aa56-p_f', '125159127_06ae88d4301e97e600cf69fad5485f2b-p_f', '29384111_3a31c8bc5f04a824681a3b3f57daffa6-p_f', '29384068_16b772ca654b55cfc599e03a266a7cbf-p_f', '29384557_8fee5bdbc37c9b9401c9cbbaedd8e581-p_f', '29381540_bb98739c85308a6e79ede6995084a95c-p_f', '251029457_24951e8d50d2ecfbf9ca59bcb35a9991-p_f', '29384027_ea1fed92df613962ec729a3dfd8c99eb-p_f', '29385516_479aacb386085dfeeaf9ad20a40f2c9b-p_f', '29384505_27e2e8fbd66f73a38a83d7dce7dbb3b5-p_f', '251031002_b3a281006bfce78f10447ea3b374d0e7-p_f', '29460842_633c0cb9ce26826c72b13a86869d8274-p_f', '70353492_4eec85433a6dd64d4cd71a77007c0e72-p_f', '125157398_67b6439ce8565eee681e385faf8fbc6e-p_f', '29384890_e8fb2f71a66e40b5b355e27eee53ea65-p_f', '89552386_f9b2f06d8e2ae66934ca17a03af361c4-p_f', '29384856_3a9f409b51aafbf0450664a9a97dcbd9-p_f', '89552354_824890897744164dc855c5abb60a2b69-p_f', '29460845_7ddf278126c84b6da742d383ae75d1e7-p_f', '70348283_fde533220e67790f551ca6a1a77b9101-p_f', '29461224_f59a8a8ad714851853a28d7a35041244-p_f', '119381222_c5e4b024eb837df0faf80684149ba925-p_f', '29385706_3e05b1f6ca1f78096a362ebb6594d369-p_f', '29383680_a70b023844005b3d2239ab474670bf8a-p_f', '2092731665_efc675f2d23ac99fc4bef8e98e804816-p_f', '89549641_b24a84075fd26a9195320be4e5ebc716-p_f', '124904554_20c2e58d8b3d35c3682851361e23769b-p_f', '89549547_4b073ae15654f06fad814ff308978201-p_f', '29467987_98e7c474530d0f60fb67baa84d6bdadb-p_f', '29502237_33b84c518e2b064862b1e5b310e3819a-p_f', '29468229_5a1a42d97d78e80ca4103d40627c30bf-p_f', '29468211_7334e45abc8fba463934845b14575d89-p_f', '29468210_427ed64995f8857e4704775b55029ca1-p_f', '29467695_1affdbca5b80bdafac78cc8853e50c6f-p_f', '29467958_0ecf1e62fcb872be550e86e9911461fb-p_f', '29500173_43efc1ccccb9d19102919ff6f0a38078-p_f', '29502172_8da7628314967abc0af63d7ed59d3a5a-p_f', '29468153_87ec95487c408c8ce37f21d6e1fa8374-p_f', '29466631_e894c4b4c8a0c86035f8387b82055a2a-p_f', '29500126_3ea256aa54976bbb8ee4e6d296ecebe7-p_f', '29467619_ad51388a1ef90039388badfd37dbdcc6-p_f', '29500113_5fbac326a65e30e5f9bfe35ffdd144e7-p_f', '121658606_46a91a495b2ca52ea6b6f3ab7656f5e0-p_f', '305433597_a5ad8444290b3f383d2af1d44caf04c9-p_f', '29468070_e5fdcbf92d70c3ea5d088015f72ca34c-p_f', '29500050_ec60ef37e9ffb669690718da57214259-p_f', '29467539_f6fa974ad3f2a3016deecccce96d1e50-p_f', '29466945_e4d6faed7bb0b2ce215f55a073b8052a-p_f', '70327381_3c2be4917fd2c30d514c9ca67cda8dac-p_f', '29466354_26ca3c843f2039e1f7a7fed9dbec4d7e-p_f', '29466349_8bd4694161a3a1560d2217a323f9466d-p_f', '29466298_0af3702d2f76afae6799bb7d31906eda-p_f', '64859285_5a60bd29dd18201a629e09865b57ed35-p_f', '29494236_1d003f57728d74738a5076fd3ed5b843-p_f', '64729566_4ec17d0fa1f97a02fb24533d062b9cc2-p_f', '29467037_aacda229ec03bbd92c58ae79c18fa52f-p_f', '29503326_07540eb4a19bde1e8c3afd1e6e525f44-p_f', '29508319_49065cd5f38adfb775b418d50bfce61b-p_f', '64486758_68c0b2ac3df469a4dd3841f6414cf683-p_f', '29503222_dc88092babbab0546131a1fc10bb841a-p_f', '29500478_be322207b75da54ee6bc51116389438c-p_f', '29497188_9dfd6ad30c87fb5b8441be55540a23ac-p_f', '29502686_6684ae0e0049d337913980e833ca89d6-p_f', '29497184_58a5e8d3357007ba27aad972b7a2a7e7-p_f', '70335145_be1ab1e5404502790a87f464b62b262f-p_f', '29497137_f383b4ce25daab04cbcc199b4804f214-p_f', '29497114_bb2eae7d4b5095c46bb9f4cf0ae2e69e-p_f', '29501109_33ac2f2d8d38b2d2c0b5809376478ed0-p_f', '29497108_7ba1b2733885a59bee44499a1fdff938-p_f', '29497101_869253188df5794891fe7cd8ac45fa38-p_f', '64495565_407976c5a414b1129283a4660a5a13ca-p_f', '29500551_ec764e59f8bd498768c74493e8625e26-p_f', '29497048_77fb5107789e58b3a5ec077e117a560d-p_f', '64553007_02f875d000e4a61e614927ab4ee9f619-p_f', '29500507_8cd44eeb6c01737c0c7e1a8332b71fa4-p_f', '29489524_ce14633157f2c787c46ee347b283ac3f-p_f', '29485700_a1c55eb049c34003bf0da2aa16319d86-p_f', '29492668_7a1d7402021fbba88a1f06e8be1f4acb-p_f', '29492600_148ed1f9dbe04093b258c00d905a2c50-p_f', '29489567_bc72bd523de1a6bb6e4bed37807a46af-p_f', '29489496_9db4e60ba1b7a5989772614fe0300f88-p_f', '29480337_fbf3244d86195ce869f0bbcb3440e050-p_f', '29478335_65a3c5f0dd1fef2e5a1a1173524387ce-p_f', '29479834_e06e07065ecf2ad89dbfb71d97145f44-p_f', '89549319_15e4589ab3fafc0996cc562b69f7b74f-p_f', '2082909307_acba3ce08367bce8029c86867ab16efc-p_f', '29478307_d8f3652ef4149e8ac62f3651a3d52fb6-p_f', '29478799_883d82034952c522fc51223683cf496a-p_f', '29482798_c5d5e6a67d0d27d9defd12ec2b8966fe-p_f', '145546297_7060dc579ef77559fce8aaa360665242-p_f', '29482793_b2602e919912fd2f27f845c37ae74a81-p_f', '63838287_26d678e37857775059c72976f6851d55-p_f', '29478776_858fcde5bb568bf8a6102a59adb3cba6-p_f', '29485775_0a1870d639cbd429dc0d25e96ada8f88-p_f', '2079829770_4a5cd8989dab6c6268f79c5a09f357f2-p_f', '63838268_6fd6baff11459458a57bf5c39aaa9039-p_f', '29476732_8777b4dc4646dfc8364f3cb0245e1fab-p_f', '29480220_streetviewlocation806PhilcoDr2CAustin2CTX78745size1025x768keyAIzaSyARFMLB1na-BBWf7_R3-5YOQQaHqEJf6RQsourceoutdoorsignatureIvR2GTmkeJe6qYM9Om6Yv1lCdVc', '29475219_e72f7f868ef7ed9f5d54933154f84b9c-p_f', '241933208_00b7187fc36d4d946db794f4b67870ad-p_f', '58187203_c6bea8e174d9ae219ce1b5158e61cb16-p_f', '2083399200_679fc5f4f3a3bfaf646af5aedb977ae6-p_f', '29482193_b3a41421b27fe627c47b2bfc4fa232b5-p_f', '29480190_cbba4851c28088e121e1017db8c1bcb8-p_f', '29482675_741d83d61ed828c1296fba16fc204ebb-p_f', '29476667_streetviewlocation3314GardenVillaLn2CAustin2CTX78704size1025x768keyAIzaSyARFMLB1na-BBWf7_R3-5YOQQaHqEJf6RQsourceoutdoorsignatureUg-IpXvzy9hy3g6xv996Ppcz9UY', '29485637_7555db0d1e647c329a08d631294a6b11-p_f', '29482631_b9cd89f01b3d318e897df2aef13ee014-p_f', '58313119_befed9b771c3d6ae9243a6677786190a-p_f', '251029326_d47ee9be43415ae6a6e9e5bb82c5bbba-p_f', '83818618_0b8394a47beaccd1ac808fb8c3cd1194-p_f', '29482606_e5c0b7c0af4631c9370d5d5fb17446fc-p_f', '29480579_55ea33c58e2c93b38f10abb2ebaf2ab9-p_f', '29476472_29489b78a2fcb17cc6025744e205edc2-p_f', '29485555_8ae8ae6e0e5cad9299f32797e759db3d-p_f', '29480551_2bdcca0736c5c702ee47d45d517ecc02-p_f', '29485047_4234187f8397507efbd090160e3fa3df-p_f', '241938539_87ca84d79caa2d8e52a53b69e31142b1-p_f', '29476469_b0c99d8884c0e342385e3ff735e58b01-p_f', '58313026_f0ba36c5a4e258d9e0be7b594fd57418-p_f', '29478526_95032e916965db5b2f3fc1e268b612a4-p_f', '58313022_f7faf1eb252bed67bfb08e7e05986ce9-p_f', '29464446_687b6de1c25c0f581472eaa3c5e5b891-p_f', '29462919_7a174362b55ba84c2cd6639ee22f37e1-p_f', '29465350_d4602f24561097d0cbc88db8fc76ccf2-p_f', '29464331_cd2e39719b80a595c6fe55415fc6196b-p_f', '125805827_c0f7f1e01cb44c794a590e7bc5c9312f-p_f', '29465313_ba5c41f62b71936cfa327c0bcbd8b12a-p_f', '29476310_c452ad7c692d470c09242a2160ca9868-p_f', '29465276_f09b078484e46ee16b9107e2a6687d5e-p_f', '29465260_e9aa8c364fccff91010e40999ba81111-p_f', '124842254_7d3bb23e2769b4892af6cad047c68159-p_f', '83124171_bed15904439c8ec2bfeb64a0b8f0e226-p_f', '29462129_2c0fc04593320a166272f7b1e8d2f0fe-p_f', '29462128_4a3e250193438578e4d75689b210736c-p_f', '145656607_252fb92375d5a5cd066d47034104142e-p_f', '29462072_64d6550bce8d2a5584ee176beea498cf-p_f', '29465566_12f3dc036a6f662a23d41f6811f35b42-p_f', '29465537_02c252d5fd05f2f18488cf0410abed77-p_f', '29461728_6cd38210d8c8566921a44d175d06ae71-p_f', '29461021_03952264a5e120132ab79128a1b32f9e-p_f', '29461501_3f0fae565b51260a0c28d8fed4b00597-p_f', '249890945_5480e686df1b232908e767f211b8df7d-p_f', '119623941_928af46e2ce71436baea76e1521252f8-p_f', '70354409_bda23096563048af19afdcea8996746d-p_f', '29433408_0ae69ca81699ad38987ad7ff7b7c35f9-p_f', '70354436_6698d0580a95e36c4e6d15db34b67fbe-p_f', '58302377_a455b805057dd6abe3a614d90cec2edb-p_f', '58302352_769a788e316938b11bf1b678ba417b0f-p_f', '83829336_6c62388ce8be0076f881b9f23946b3fd-p_f', '249890962_7867833fc31465be6b42ae92bed9c877-p_f', '83822813_a450ba29b5bb486587f41c1703e050bd-p_f', '70339304_5e9b68fef08aea5075eece93efd9f7cf-p_f', '70339300_513af4d067287bc3667e41c90b4beea3-p_f', '70339286_e31283cd49e9cb88b6777f53db1ac90c-p_f', '29433284_b7295da5a4b663a6d8c95e8620a12df5-p_f', '64492273_6afeaca22b8454aab0b7fd4457f84d07-p_f', '29433249_6275c8d709703a4767bb6ffe559f069e-p_f', '80089748_85663fbb362b7f6279f0892d1dce08d3-p_f', '80100736_ee3c6b2f2ddca17183c819f3c709b7c3-p_f', '80106711_15d7faf51aea6375dbdcd9b6c483d3a0-p_f', '83832676_e4ed43f729ba048883806bff58f523ff-p_f', '83827170_b76423ef5823353e918a6a042d86a046-p_f', '2080097108_8369b6a4c0b74ac3a543bafefac680ed-p_f', '241936104_9fd2c017a16c1cf3e25d070ecf25a7a8-p_f', '64858594_884ed025ab8317378599142a35b9c2c4-p_f', '64718587_d87e7de72b1a25b0ea3777b8132735f2-p_f', '119625580_ddc0ab935182aa599464fec0a9444c12-p_f', '70339038_cb698639c8cc4736490799c5d4d8eca7-p_f', '70339027_14e4eedbee43ac3118e578ed749e5b82-p_f', '29424434_2cabb6bf48828f1942648db2d75ec5cb-p_f', '29424430_41eec42b827d4e9b51dcae6982e77a8f-p_f', '29424416_30122b9b14dc316347c83001b33153a6-p_f', '29424409_4952caf693c00ad3644e0d59cb07e7b4-p_f', '122588387_9e5243c5db12618aca61b25ed4089f2d-p_f', '94642885_7ac20db7675910e57dd081f7a0d6ce2b-p_f', '29424369_3ce1dfaeb1c1634e3d327ba63e548738-p_f', '145658306_13791d4cb5e63a9930e7cd194ba4325d-p_f', '29421802_9cd60cd831f8b1397c79530fbdcdf028-p_f', '2079811780_ad719cce30106a85a7a686db628b3d67-p_f', '124845272_c1e7fb00703cdfa4c0fc1cc8575e7f38-p_f', '145652498_157689e064f8f3eb97381bc68d583e7f-p_f', '64635218_02ace61830233764d1702becdb8b3023-p_f', '70338705_ee752296c36f68c1a4f4470d4208bfe5-p_f', '80102201_90279b820f360501032c849182a3f70f-p_f', '69809173_76a8da637bffbbc66d26665a1c10960a-p_f', '111373626_3e6ee8030ee326a4a308722d228f7a91-p_f', '124839097_1fb3a560416bd26a0402b6d059bf23fb-p_f', '64672074_1ec01844ccf1c07dfc8e2f38a638b528-p_f', '119626072_deb38b5fc9a30484132865dc4aed6ec4-p_f', '60134569_f7510fb090b2d0477a15447a903dd936-p_f', '70354565_170fa6935729ff107f137c9ed5ae0227-p_f', '241932055_4dacdc2d30e4baab7f59cd77ff508d86-p_f', '119631551_8ece43b39afa8c0c8a0be261f2cbb0a3-p_f', '64771547_fbccee732723a1c99b71f892d965d86b-p_f', '2086122546_cd4dad6a4f8ba7c7632fcf5526752968-p_f', '70354544_a76849ef286370183da31f89825bad0f-p_f', '60134529_fcc3093f415ee11abcd2a63bb557fb38-p_f', '83815028_94e805e10e11bd9ef7c2316e86c33ae8-p_f', '80098520_streetviewlocation5616LibertonLn2CAustin2CTX78754size1025x768keyAIzaSyARFMLB1na-BBWf7_R3-5YOQQaHqEJf6RQsourceoutdoorsignatureH9YXnevAziCeNZIx_Wslj-BqW_0', '70354510_ab5b83b1c39c64318c17e366d65421d7-p_f', '29403462_c87bbe9ee815917e4909799a4c58607d-p_f', '83125445_2a96de59948e1a84fb6cd1b4e0e99f39-p_f', '2110746442_99f080698a5307281a31aef724a95c3c-p_f', '29405435_e750e714deed345da6f09e4b162ee815-p_f', '241931907_1617031f4c265cde7400503b92fd252d-p_f', '124837405_bcf71d56a19d467a9721cffe5101ebfe-p_f', '29398392_9bcad68f34cb27d22388e7f15539cad9-p_f', '80088883_d4d2ae2e1b534bb9e6a30f74971fd66f-p_f', '29409383_fa7f74b8b4dbf094a1a957a2c234d109-p_f', '120575878_719decd9de888f830e0efd892e3190c6-p_f', '29406878_15038e4fd382c7fbc2a0ae16d49457d5-p_f', '120897872_e442265cce2a4d5c9c77d43dc9e4ae9f-p_f', '29409865_6ea1024ba04ebf3c8354c9ac68ff9c39-p_f', '29409843_351f608becf45e1b887fd087e112bcfd-p_f', '120788330_c04905937764a161a8c02867d64bdaab-p_f', '29409330_d4a861c8b63b17b2cae9fb129549aeb1-p_f', '29409828_2c5062274dde45e15f2e5cfe0f5264f2-p_f', '29405314_336fabb4826b39b93da8710ec97e00ac-p_f', '29409311_streetviewlocation106W55thSt2CAustin2CTX78751size1025x768keyAIzaSyARFMLB1na-BBWf7_R3-5YOQQaHqEJf6RQsourceoutdoorsignaturekFptBWrd-Xorcv4jLdwCjV0EJRk', '29405311_686311f582acf01606cffb15a9d50be8-p_f', '29409305_8bb88feca33d1ad19566e3b13fd72112-p_f', '29403785_7d5c0c21250be052b7ea434c90a825bf-p_f', '145653268_c10c6fb5c5da65b149b638dee7d99de4-p_f', '145653257_1b1712324fe5f4c2640e19f9363fc80f-p_f', '80092247_5f18dca8dac3cc010c2a9bc3c06a1d3b-p_f', '29409246_daccf63e37e1ef93aef0ec2448e25b9b-p_f', '124720730_dfb861fb8d34f5081539cb9e6a18dfbf-p_f', '145658720_afcde8d71c5856cb55dbd07393d569a6-p_f', '80101209_65cd9005159fd5618e16481c74f2f8ef-p_f', '29406705_03f50d40d22e48a1062c4bfc684a3ebb-p_f', '29399702_dc66cc8ca88cf17cc8bc613b4f167672-p_f', '29399671_f72921194f19c8ceb60c50da3b2be8df-p_f', '83125499_1c511f85ec3dcad34964d9fd7e7c1fb9-p_f', '144970661_4fb904211caa0a4a992bd4f2eaf52100-p_f', '29402151_daf7f7349d39370517e06054e61e17ba-p_f', '144970632_d1275157657bdf829da286ab0003f4ee-p_f', '2077713613_5cbcfeac85bf543cf49b0201c905ffbc-p_f', '29399582_ea20c60da8f5f372332a88a82c25e909-p_f', '29409576_44e73150023533fac8ee60fd57b842f3-p_f', '64905572_328f4b9ecff48308fcc6e82276418b27-p_f', '83124070_54e11a7ae2e0d92577593fd41a187197-p_f', '2084307058_68d45e58e9488251fdb303cd25b6312c-p_f', '29405536_47eb5d3149f676e3575287fcf7ba7823-p_f', '145653521_0915648d058b7e49327a8ab79f660fe0-p_f', '29403520_259f33999c1ffa783572a0d5f5dc22bd-p_f', '29403519_504af4b351a39daa8250c2da7eb8ec58-p_f', '29407015_5f65033027941185b87eb7fb58638067-p_f', '29412881_39039deeed8ff041e7be01e9f06a1bf6-p_f', '2091316347_75a7c0d8e146d431224380dd55197e6d-p_f', '29412823_cdb1b107c2e8e5479058e657ad9e1cb1-p_f', '29413797_4294c561d479723ac5d1742359358cf6-p_f', '29419773_cb39e87b7213a3f6ff042705d6d251a3-p_f', '29412749_bef9e26c65b4cbdb053d11b0906476e4-p_f', '29419725_912d915e0bd1d03570662f2e01537af6-p_f', '29419681_bc5af7135ffa3dbd109f7fa23b529d4f-p_f', '29419659_63e0237fe3e3ac49dcc119c39899c904-p_f', '29419553_22f87004908f41f7e41826a08277e121-p_f', '29412011_6eeefe1e7f7bdb76808ac6be6f9e96f7-p_f', '29419504_856c81aa090da6017054a060261a1781-p_f', '29409975_5490c1f565760f31bfd8abc038dcb0a0-p_f', '29402475_streetviewlocation5705ExeterDr2CAustin2CTX78723size1025x768keyAIzaSyARFMLB1na-BBWf7_R3-5YOQQaHqEJf6RQsourceoutdoorsignature3m9g4zZQmROvta7NefKG_21o3Uk', '29404472_fcfb6a22cb9ff4e98e922bcf7743d26f-p_f', '29407472_0b791c1d66106994dbda35dbc743318c-p_f', '29404468_1182de93d716bc34a241a6cfd0c3013b-p_f', '29404463_50e2d24322c2ac759cffb636268f6c64-p_f', '29410957_884d9cef91aa5904588a7468139f345d-p_f', '29400955_5db50517d6a18e8ebc64f374e49c472e-p_f', '29409952_6d8c31340fddca84d3212c749fc64a8c-p_f', '29402432_593a9903cba6bcf14f6d2453df8517b6-p_f', '29402419_854623e0846d58ff2f8716369cbdd906-p_f', '29408418_77cbffb93c5a75719f6f7fe2a2382b35-p_f', '29405906_5fcc5518c8cd23ea0896aeea7e7aff14-p_f', '241931897_f87c0902ae5ffd78e16e7c7c354953bb-p_f', '29402397_2deda24a2315ef775723e4ce8d9929ce-p_f', '241931891_63358b63c04224a3aac16be8c1844703-p_f', '29399882_ede8b9bddb5ba2209943bb82ba6a8f0d-p_f', '29404370_36e47e418902ccab6a893334636b6c72-p_f', '29407359_9c8c2a4d887a8552e58bb5f9ef3f5c97-p_f', '83833345_def39fcfc65285658ea599b3d5772f8d-p_f', '29407342_b1cfddde29beedfe194fc0b776fe710d-p_f', '29408333_3915193338460d277da092e0635406fe-p_f', '29404313_e8a340a9e6e3d5f7701c98d98ddbdfda-p_f', '29408306_f7901ec4a260ec0d1d5e6b0020f712e0-p_f', '64756788_0744dae5efb13eed754b0a36dafdbe85-p_f', '29399786_d308cac295e54069b3889edc59d7c8dc-p_f', '29397770_8aca5a44e1f5d2a788091e3053536e5e-p_f', '29408268_bf6edbaa166eb5ad9e46cd09fe0a0fa3-p_f', '29397764_c5570f667bfbb248f21d2d02b0510321-p_f', '29408263_da509ab461dc1fc801a48a6c2334383a-p_f', '29404260_aba3ab62484a78d1ba2feae06e1bf68c-p_f', '29408749_826e5ebd8e5202c3dea20ac8c4fcfe7d-p_f', '29404245_9244322410489d82abecc992729b3150-p_f', '29404241_9dfeb77aec6d9bc1618e15079024a897-p_f', '29407227_797b90c9ac33e30c0cfa1efc47eaeef9-p_f', '29402224_311f82c109cadd9289380c9b3f9358a9-p_f', '29408221_456902e9d64432b9fa712897d643da4f-p_f', '29408719_11d0627f1353f2cac8c0a5d210ad93c4-p_f', '29410210_5b13031354f35d655d5530084aac865b-p_f', '29407209_fa43ef2c55e5e44941e65d8f33aea27e-p_f', '29405697_8f8eea46dbf1ff22ac9bfce102928f4e-p_f', '29408488_6c3f628b2c57e398abdbdd7f534629cd-p_f', '29410181_d89f1ea527eebb80e2e65aea782d5c9c-p_f', '29398675_8bbe6495f016be53fa684bd3bd040cd7-p_f', '29400169_d912384f3586525ffad02525dd4e49ba-p_f', '29411167_d0a0fd9544e11dbc8dd139f0958acbca-p_f', '29408165_7b8171b6a76a07ffd139ed6c7feca247-p_f', '29408155_df0f0262eb7da358f449b856503a81bd-p_f', '29404154_2091493b9183521cb1ea5bfb19cfcf0e-p_f', '29408652_afe01782cb2c1d12aa3ede84c0a86355-p_f', '29405650_c052643b155e8d99d43de20bbcd132f9-p_f', '29410142_streetviewlocation7101GenevaDr2CAustin2CTX78723size1025x768keyAIzaSyARFMLB1na-BBWf7_R3-5YOQQaHqEJf6RQsourceoutdoorsignature0tx0kY_bpR4ifpQgTA3Q-5GSiIc', '29410136_73bad019dd28c8f3999f6cf8ced9d302-p_f', '29411132_6f513120702d0fd018b68bdd0be400b1-p_f', '29402131_ff199ea27b9ed6755c5835c1527c192e-p_f', '29398628_065cdf86b7cf42a5bffb7015a9bd075e-p_f', '29404123_c7de0cd2f2b80e16132497292129678b-p_f', '29400118_e64781d7f40564706dd046eeaf7f021e-p_f', '29404087_a184cda25542e5f25b0567d6e72cd1b3-p_f', '29408557_6483e8a779a7bd8b535ab924ab221731-p_f', '29407554_56cdcceda17501c4a06c1cf57af9f335-p_f', '29408552_59d6f4ea5ab7ae5a4ac088424fd4e7d6-p_f', '29408039_93a603563bed09bb52e93133587721dd-p_f', '29407978_1cdc5a524a0358df80e412ffc2264469-p_f', '29402533_194d33a2a17993b5bf85bc7694730cd7-p_f', '29408031_555f87807f307523f744ee37709c101d-p_f', '29401025_f2b9acb2873683db8886dba679835b09-p_f', '29411022_a9be99e2862199ec2efd0abb56fc2258-p_f', '29411021_3adab26499a050a5ec36ffd978f82b84-p_f', '29404112_ca6eaa914dc941fc35c3fab39f117f34-p_f', '29407518_72222ec3f159d3b203f674003373024a-p_f', '29411016_7a1fdd908336a357a7762ae745f34152-p_f', '29401015_0d8633ecb78318882718523bd1f6f5fa-p_f', '29400006_abc202e64fa62d31687339458d744975-p_f', '29419455_a72de14db97a407c7130e33059b38d6d-p_f', '29411928_65a6ba5922320f262a6d9167aba719d6-p_f', '2077373426_baaf1dacf50b041c50b72d0f3c668067-p_f', '29418413_66d86a6263926c9988f8a81f452f8bde-p_f', '29414410_4f0fd8edb7e3ff6b64d30d27d7220864-p_f', '29417408_0cb66cd95545595fbac8106b86869c0a-p_f', '29415381_80f59bb9461af2df41dd31b7e760ea6c-p_f', '29414990_9ba71ac145edae7b59f57c70ba4489f5-p_f', '29413331_6694ad9725835d4dc1c8c44d83cb8406-p_f', '29413324_a3feb840ea89fa2345aae8d825d91aef-p_f', '29417307_2c682c60748a6206c8d432effaed409b-p_f', '111969256_c9d6b36ad6d38bd5dd560fe8875db75f-p_f', '29415254_ec9d0f5a30cb5ecd30acc08914fdd286-p_f', '29413409_8f3bd5cfa141d4032a4c2b84775ba934-p_f', '29415342_7c3507810f14e889a83424b8e3b50229-p_f', '29420706_0b3b364b86cdb4f85dd16d61a3de5925-p_f', '29419183_2a4264b2eb2236656b53961fd9099d46-p_f', '241935674_8b1a03799cf83ff97894f968e12d30c5-p_f', '29413668_f028ca049dc2194deb3febc33fa9c415-p_f', '29416665_cd1de1f8b3979e2ca81b67d6c46caeca-p_f', '29415164_38090ffef829820d20316b0390b93e9d-p_f', '64692625_594ede0cf619b629a33f37c2cd883f79-p_f', '29420618_13db300af8b96508a58dab47d3bf79ed-p_f', '29420617_92db5d0daf22db5b7da332f134ae8a5c-p_f', '124837612_013cc342107efbf9043854a8c15c6f45-p_f', '29415110_f2d263b33f4fb9a531c379eb0038f885-p_f', '29412609_streetviewlocation1035ESaintJohnsAve2CAustin2CTX78752size1025x768keyAIzaSyARFMLB1na-BBWf7_R3-5YOQQaHqEJf6RQsourceoutdoorsignaturew8T7DpMu4TBlono27LUA1pDYwmk', '29416606_857da40d360ef30ae0c1975f2ecab466-p_f', '29416593_3c8384fbd750841dc825e8c629daf22b-p_f', '29413588_d972b7a3a3f1bdeb2e13cbd39616b5c1-p_f', '29413579_eb9a3c0de7264b0e0cbbce295525303b-p_f', '29416577_f8bf79615326eebbb8f6e2a3df3b9214-p_f', '29413555_streetviewlocation6920BennettAve2CAustin2CTX78752size1025x768keyAIzaSyARFMLB1na-BBWf7_R3-5YOQQaHqEJf6RQsourceoutdoorsignatureYCdaALa6oq8fKoMELQNYLj2oEqE', '124843524_0707e7021e4804cefd120c78c323455f-p_f', '29415016_73349c6455ae27c9cec7a7de46b8f852-p_f', '29413510_41ad46e138d71ede664eab69c955a761-p_f', '145654471_276dbd6c33e1979424026bc680ff1212-p_f', '58317423_19ec08f7aaf10bd00a0e73c13a503e01-p_f', '114405838_41094dc22a18ff6970c536e8de368b2b-p_f', '29509823_d60fbb989bfe946ca8818d6889524962-p_f', '120897265_007607aebe3e0f1a7d39f5a1601876d7-p_f', '70332555_0d2e110d57b17ed6577788f0c238e82c-p_f', '62608399_122edba8fb8f02795c6d6d5dd7b449ce-p_f', '89545898_7efa943032238d61761efd8b57ecebf9-p_f', '70332540_69800068be2d779bfec0856a12b68ace-p_f', '89550710_02d0e6f3bc508893e9386b4262102ae2-p_f', '70335354_04169a08d7b00b50c433dd9af956c4b8-p_f', '70332518_652d63b2c20982dcef26421eec0a2370-p_f', '64639018_987fb75ae28ea8e4283df8d77eeef8b7-p_f', '70332517_981ca891267fb5422b97feab38f8dc38-p_f', '29510017_fc29e72e70da54f4633aa55938949b58-p_f', '70335331_eedee6536ae8222b90e45150d836cf59-p_f', '58317294_82fa4aaf5670ce22c286a4269e0e495d-p_f', '29514259_46efb53f10c1a86c2ee7acb6e2a4babb-p_f', '29513322_ddc7bca86fa0bee2b43f708b6f16ef0c-p_f', '94643152_b4dfa3498b8df6daf98f90bc97a34037-p_f', '58317222_0091cd8f9172285d99fe43aca5128dc1-p_f', '58317217_48029c389b9de31e7d8144cf2b991881-p_f', '80091295_19d4fcb639d9421162e55c56b8896155-p_f', '79981115_832c9c6e75381565bca2e92208586b2d-p_f', '89549485_d738bf9f9956fae7048fb2cc1f1bba8b-p_f', '70335280_d83f598b410443285a88c7b5688d7c8e-p_f', '83815578_288d3220dc56d53ca5696fd79caa1f41-p_f', '119628565_1297f0ad0a986ba469580ee67ffb25e4-p_f', '249911674_2a1678aa105b7ff94c9d3fe030a29cb4-p_f', '64894268_20190ca95e5fd6491653dc933a826118-p_f', '70332765_32ed7ccb23e886661cbaaac031d9153a-p_f', '58317166_a9014de55365a451e3d1ebb4079a0fb6-p_f', '58317252_9ef1282fa3f1487cdcf4acd0326171ad-p_f', '29509982_streetviewlocation2610PipingRockTrl2CAustin2CTX78748size1025x768keyAIzaSyARFMLB1na-BBWf7_R3-5YOQQaHqEJf6RQsourceoutdoorsignatureB5gctfnMmMYRj3F43KB1mUOsHBY', '58317145_a02661dde9aed0f706f8a2700a226d55-p_f', '29514134_e165ddae4d7774c51d116c6ee25a8a94-p_f', '29509981_ac481fce00a154c5d06230e0b5538022-p_f', '29514241_501e27e289c6b2c72068483196eb8725-p_f', '63838808_65e3f4635731ff3fc574fe25ad70bf8c-p_f', '70332730_c3dbd1a8e6de002fef71855aebaec52c-p_f', '29514070_dd781af08de04520dbf93ed00bace467-p_f', '2122955062_0f005b1aa24192b8b904f86db31a5e4c-p_f', '29513216_0bc47ead7b639869dadb8591e9545961-p_f', '29514207_46bb0e1d44d9b45e0e286425359c762c-p_f', '119623199_430f0e700b1d2dca1f3f799ec9eed6f0-p_f', '83827684_b196589ca8ef0a3e51ab238381f252d9-p_f', '119626146_51092169f029679cb5b4d700db7ed916-p_f', '60135606_55b4cf8088c90a3a3845512c2e32b2f7-p_f', '89546071_88aa6111f7615f72a789782f5541990d-p_f', '89549526_a7297847a5ddc518c6c48cffee1bf9ab-p_f', '64795014_601e760140c0f3bbb8a6a78493e2b9b4-p_f', '145656158_7c1d85ebd0e7111a7f28580342e2934f-p_f', '29499158_a385a80e1399efa70a20be07f33d367c-p_f', '29499153_ca152634406a7d72064f83958a7e3b7d-p_f', '89545628_fe337c0b34c8c0c01dd049616452ddc4-p_f', '29499118_5957f4a824aefbba9b6803d19b4c26dc-p_f', '63228576_f03c20341a9cdb2ca23ac2114b989ff8-p_f', '63228572_014d82ccb51dc09d5227b002138ca55b-p_f', '29504072_4bb1e9a2fb0b26887d1b2d26eb9cc666-p_f', '29504071_9348d621c685ecf1bb922f6504f1c1d3-p_f', '63838570_07d44f0605a1dba2d436c52d7975b035-p_f', '70357520_22ae21bab367e2e6eca8c103ae87663a-p_f', '29506558_streetviewlocation2302VassalDr2CAustin2CTX78748size1025x768keyAIzaSyARFMLB1na-BBWf7_R3-5YOQQaHqEJf6RQsourceoutdoorsignatureYuk9pC0o5bpWBbFQ8MQsKF9TECA', '249890052_31168a1cc86501ef8705c1fd5e3fc44a-p_f', '63838532_95241ba36ac1a64ec18ee9ee215a5daf-p_f', '29491495_5d03ac311ff9f14c3fd48bc092238e87-p_f', '29478955_edd4ed5a51a38a938b0d2ff4fb12c2f7-p_f', '29486450_31b6f09b763bfeb8a11789c9d2b69e5a-p_f', '29484442_7e8b53224bedfc1547798b721c955dab-p_f', '29487439_37733b0c6f0461474699f4f159a300cb-p_f', '29491435_b46730562d4c53acc9d0654d4f1cf32c-p_f', '29483935_f74bf32b8739c35ad0d1c173b2d9872d-p_f', '29487425_151d316181a6471a7aece3b0f43707ee-p_f', '29484425_b16cd1e84eef2ced196b48e678c46304-p_f', '29491416_d5f3a15febb61be3902b5cc0eaf30128-p_f', '29506131_a945fe7384d2ad7e4b39f7c69051555e-p_f', '29487403_43536ef63046848c1b3e702b78bcc673-p_f', '29491401_48df2cc39c108bb10f4987c300874ca3-p_f', '29512119_629a4703574ca410cf1e7af2704883ec-p_f', '29483897_a8906d9d71216a0137072776e90f08bc-p_f', '70343606_074e2347041ecd0254418289106f8b6f-p_f', '119557605_6c9f1055ff9b72cd3c7b28aed9715a2b-p_f', '29490884_01c709ddbf6908d0d9b3e816ac55af75-p_f', '83828102_c9c6f2162db51d96c8bcf4e503da66d8-p_f', '29509101_e7fc3ad2d221aceea4edf460b1b7c795-p_f', '29490883_9e09662f648cbcdef9a212561b61160c-p_f', '29509099_764688e108b68df0e032a79ee01502f1-p_f', '29506095_e7651d048220a7b7dd01cfdbf196aaf2-p_f', '29491371_81c0753f8302b590bf65b18a176bcac4-p_f', '29484371_25ec11aa664cc867d4ee7718ab8c07d7-p_f', '29484370_406877b73dd152b3f938ca81e2ca34fc-p_f', '29514079_52903ce76783ff9a687a2dd38c6fb85a-p_f', '58316069_51f7e3afbc104bf8d971417f13ad8644-p_f', '29484350_9f20a28ca316dd018f4cc945c15dda39-p_f', '29483987_d4c90ab0e21905285de06fe00cf0b959-p_f', '29513061_50fb8852150b100c1e77c1b875ff68e8-p_f', '29506061_3e28170a7737b5713ad1fe01b1380e2d-p_f', '83827060_ddd1b6988a73fa415d32991e4a9fd501-p_f', '124840543_d88a0b2dfb6fc1996533a3b660946a63-p_f', '29508542_02ff502792eb0fe7e3dae37703666892-p_f', '29491324_fe91bb0a68d3e15e374d3285c2f93089-p_f', '80101535_ea0cb8c9086e94e41eb6f980b067a467-p_f', '29481316_c6c7ac9be7ab3060c3f9d9c0347eac9a-p_f', '29509031_streetviewlocation718MinturnLn2CAustin2CTX78748size1025x768keyAIzaSyARFMLB1na-BBWf7_R3-5YOQQaHqEJf6RQsourceoutdoorsignaturekO705EzLuVznKlrtzJHxB80T8kM', '29491308_69ad9356b8df6181a420d2732014f997-p_f', '29486800_9a7ca68ec9b28d379e3cead66fc1aa1d-p_f', '29490299_546acc127013d91b66ba05ac973b2a60-p_f', '29514026_d8c7a96b448d395a4e6e563dd59a0ab8-p_f', '2090413022_5d583bc5c019c4c1fb40f32d41d0361a-p_f', '29479291_2ddd20258093cac2909e15060fc51dbe-p_f', '29511017_c547f87f87928951df2507a578d9b688-p_f', '29491767_c8afb943fbaf6e2b85547d0a5cfb1748-p_f', '2087494510_60040ea882e18661866ccb01e2489f2d-p_f', '29491263_19785f36a269b5a86bac718c7c69cab9-p_f', '29491759_1cba1e348e44a4caf65576def8af4eba-p_f', '29509504_d25489c99610e8f1d495c5b865f3cb16-p_f', '29481252_d4fa5d5b0996e41aa2b90ef6424c6125-p_f', '29481225_75545420c6de078de00bf337b337119a-p_f', '29484221_84b35ee78a10778c41c2fe28642f10ff-p_f', '58315477_ad47ec5188e8882a263d395f97085898-p_f', '29507472_066b981b8cbee0cccea64a2ba0b7a184-p_f', '29491205_16e3478aefcd68614ea801b5457562c2-p_f', '29491906_66e56d256a1f0e06d2a5c1a0a84092dd-p_f', '29507468_20d9bfee62dda0b309aeb51c4904c1a1-p_f', '29486703_74206039990b9e31533a31a2ae0b952d-p_f', '29479399_aea89d31bb18248f4b4b64ba6a1372ab-p_f', '29507452_0b2e8cac81288851bb0fb84aa22511dc-p_f', '64497378_746b1d1acec2de258afc6772c5623cad-p_f', '58316435_5f0d715d1f85818b4e024445c17b49df-p_f', '29501852_aafbfa1e6c44595d63f32b7c05ba217a-p_f', '29486687_f9cda69f481d6c7703345e5c07800e5f-p_f', '29501817_18302e1cb0f6aa1eff3bff13502f088d-p_f', '29504934_8cd171f17f1b5b379466c8b09623c201-p_f', '29479183_83ed3c83e79e692458aa14c072375685-p_f', '29481180_142bb7466b8de6d3205a868cea903a94-p_f', '29501929_1cabea17d54eded3acef61818ed5b308-p_f', '29501814_bfc6e25054e37acba6b42f99d45dce58-p_f', '29491819_67f7ce0cbcd9762eb55a7e1b4a43de0d-p_f', '29484179_961682f08277c4bb48f913b41f580732-p_f', '29501735_0eb042c089ff53bf38c5c8b3f28c1360-p_f', '58314289_6bde06c659a669072b214010c2245208-p_f', '111967734_4698b32476ad522b16fd964c11df34e7-p_f', '29507703_27775031266ad56f33b9db6eae0558d6-p_f', '29481663_4a6ac300e01504242f30aeeb8c1635f8-p_f', '119617907_f90c62caa0ccedb6387ba27e8bfe10ed-p_f', '29507694_1a138788145be618303f113495c14317-p_f', '29504896_700f55182938a988c4666ea820ff82e9-p_f', '29487156_564271d50ab1558dd878ba76406d4fef-p_f', '29481656_cc303cd01d51ac2351012ab5f428c50a-p_f', '29507667_0c27d3dfe2ccd5ca3395dc538a8aaa4a-p_f', '64543660_240739f9880c856aab437eec04e9da86-p_f', '64607391_4564994a72d28e488cf43884c022cac3-p_f', '29507888_c38d090c71557d39b3c8258afc576eb5-p_f', '58315659_ca43a8f55a1ff8073451ad65bde0fe89-p_f', '29504874_4e65fd8fd31f5dcfdd30da6316c414ac-p_f', '29329374_68d20d546d26eed144a78090a8a7a823-p_f', '29490970_51e71be00a6992a687cfcdb6f0b25a14-p_f', '63408696_1c2de56f2aed96b591a07d887bb097ef-p_f', '58315632_266be29951ae753918cc3813ca7fd4c7-p_f', '29507854_26d577db893a70c44f8dbc5a3922417f-p_f', '29481126_f773017caa1f9b9218dfc4b5067ce70c-p_f', '29501628_cbe4cdb39c5e9b1eff49ac8ce37162e6-p_f', '29486617_ec8b01faf9810d1124c5212fa7826be0-p_f', '29481114_3fd2bbdeb666a108dd0f18f8102f9998-p_f', '64429841_624fe4597b3cb0e784f2cb4c23c9338e-p_f', '29507836_40696ac9b56c8765728736fdc1cdb2cf-p_f', '29479108_e8506f014e4a4da01735630faf8b6831-p_f', '29492156_5e8af7a00f3a5fc093a9d6c97d2d17b3-p_f', '29507585_de2f414fa8449edfc6bfcd4cb74ba922-p_f', '83829840_40ef04352149a703f0a1dff929165d61-p_f', '29481653_1daef13e119e55e009ab187b5f98eeda-p_f', '144156329_235e2060573ec33acc6d160fa0b96f4c-p_f', '70342650_a55214734dcb45989fb6aee248b80003-p_f', '29504562_d693ac6a31800dbfe3b0e42cc0ca64cc-p_f', '29481639_0206eeb2359fa48dc4aeb2181d26bcfe-p_f', '249911804_35247f5585f94ca5d7c19f94678b1979-p_f', '29333319_589a2962d0a209eba2ff1051b1268a0f-p_f', '29504547_0cc83543792be53276039c99dc7772e4-p_f', '29507801_faca2d579ff8d7274167292561965b2c-p_f', '29333810_50a6eafde4bc1f963f020047256c72e4-p_f', '70342800_1951f3194dca27f359859c5601a4eefe-p_f', '29328965_e4064b2eee90d5151c7f1ebe36ac349e-p_f', '29507789_9afa41e62fbed64622de7fea42909f9d-p_f', '29486594_63289efcfbe63eba39e298a005ccf882-p_f', '29329386_68ea4aabd207d8250608ef4cce43ea96-p_f', '29484608_2342a1c9d619a2f6ae1cde8730c57934-p_f', '29481590_aff6d18324f936c479e3a48cca24aa7f-p_f', '29329787_7e08ba9b63ab05f27cd4f56c16dba61d-p_f', '29484089_6bd472e058043135f9b4bfde817ba393-p_f', '29491600_eaf7b0f1b8299e7d07f4e99c093aa8d4-p_f', '29490979_c50576f0cb7834f747055af5f05ec345-p_f', '29484577_8acfba2d1bd1ad2f0fd1a78fdb5caa92-p_f', '29495973_8cb837677718c2bb5c4da28bc61a77f2-p_f', '29491581_1bff7538586bffdb40b2088c765a0e8e-p_f', '29496468_18716f58a09881806a0564180b683ddf-p_f', '29501776_2832aecc5c5f5cca38a985f88651b13d-p_f', '29327765_8816653c88c0ee5619f4f8a7fd1b6f0d-p_f', '29499464_80091bc7f5d11e6ae34a2a6acf2ef543-p_f', '29495961_50a248af145c9464e5cbe771b2b20ef0-p_f', '29507769_bf2af3c0a732dc037c7b45e2406b254e-p_f', '29484070_0f4939fa42e2cda42964c8c4b2c5a77f-p_f', '58312770_d6f297a0ab999a3834cde93a2a4094d1-p_f', '2081450233_e6e346e407329972d14e68c4ad8c0709-p_f', '29479068_86bfb83fbdf899b2aedab4f5b21faf10-p_f', '29487551_4d70c6a85fca489e721fce4187b46682-p_f', '29486566_feb74bad63d510030ffa174828ed3879-p_f', '29478050_7bcc5ed5511dfc57870093afa4f7d8b3-p_f', '29496445_7e5fc3890ae53324034d3342f7aec91a-p_f', '29329730_e5a319e2a0399274d035cb0e972e7793-p_f', '29495938_b4921faa89de2804a3f319b8c52c8195-p_f', '29483562_bc0938b63a83b1ccc8e98ab3e6ac476f-p_f', '29488253_9b37087bed4be35c9620a8dc59ad1898-p_f', '145655521_46e26520f699f54640ca8e67deea251d-p_f', '29492021_b4607497244847a5a62cfb57571e1253-p_f', '29504753_8298df3fd238849788b317438863a450-p_f', '29484521_b02599a28bb0b1c860ed172041a40d03-p_f', '29505252_03a3f0944ef467f21fdcb9743db55a2f-p_f', '64867751_d1b20a5ff248fa7247dd1ba185dd021b-p_f', '58315421_82ea7b096170b644c2518db7d4934e5c-p_f', '2080139213_4930b2489f43105f836a6f98fa5b09c9-p_f', '58315414_3db32ba90af55cb7901549db00952382-p_f', '29488233_409ebd0d54d2d0be5cc3fbdd32ac2cea-p_f', '29499414_92318d15cc1e9deacde290223ffd64ce-p_f', '29488230_888f7eb8cc371ace51560657e456e090-p_f', '29485227_f2456fe0baf9db55782249205724edaf-p_f', '29327440_80fa35261a3822a7be6da801364b632c-p_f', '29327694_012206197a4f9018af2897f578aab6de-p_f', '29496402_5df1391b05716aacd07b3b8dd8e5620e-p_f', '58313719_922bc766274b1854d2f3c8e32000adfe-p_f', '29329191_995ee93a4831fa12bfbab946df93957a-p_f', '2089291900_c936bcaaeda60451bdf36d3b586f4295-p_f', '29507733_582e8be7420930fd2f38367f9fb76312-p_f', '29327438_a5d7c525c2198991c8cd3302bc397530-p_f', '125090715_569c0278f9abcabcbddc6201a99d0649-p_f', '29507732_4df377e26efc96c4f86fdce21ea7a45c-p_f', '29490528_20895ed810d4db2fbabae7932805744f-p_f', '29490526_01c0481448e05d3cac9af952e915aced-p_f', '58313205_664ea3053b4a9d5ecd82366f398cb443-p_f', '58187202_f3be27f6fb70adc660b0fb7f0d7cd90b-p_f', '58313201_56d21ec5408b32b71f2007c16e3af66d-p_f', '29505217_b11abfc2f30d72ee52c7d09fef587e5c-p_f', '29332172_71601328f357f20f5ebe932366a8f0fc-p_f', '64882170_34ea6d4b6725bcf8e69aece20e6dc2a4-p_f', '64543213_5cf64bea53c82c8004cb02e3273ecc94-p_f', '58314689_cee9ddb1e4a76e06f34bb6a61639a3a6-p_f', '83124187_4fe3020a10f77bb10e242cc0639682ff-p_f', '29331992_1f5c615bbc9f4e163159b7bce9aacb5b-p_f', '29487013_2ec88aba468eaf4e5c17e8b212db6f6e-p_f', '70334848_b8eb36c8d5f77708a9d9de56e5c717bb-p_f', '58313395_fc743f1a5fa95c0bc8cc61ae527533bf-p_f', '58312661_783cf5b8c986f563bdf54a60e0a13f63-p_f', '58312657_2d260f2a060014c730b16db0e4a570e9-p_f', '29331622_7872abcbdb0ff3707a1e68b6867d1568-p_f', '64500190_fb61a358bbcd756f89fe456a04cec58b-p_f', '29496322_8391285ec75b9a6a5757c4fc3f482db5-p_f', '58314653_ddbec62cb98b45864edeff80f6a07cf7-p_f', '29486504_f88e181b8eafb5d11b8db08556274f41-p_f', '29332087_03de3f4391fb2c14d7605d951b4ba8c8-p_f', '58314647_2d5cd0738b633bfe693bd35694e08648-p_f', '58313642_23cf9efc22136df633200911c8b63e19-p_f', '58314638_c9fe135bebe7fc5bd7d28d995e23a3c0-p_f', '29479955_streetviewlocation4621ManchacaRd2CAustin2CTX78745size1025x768keyAIzaSyARFMLB1na-BBWf7_R3-5YOQQaHqEJf6RQsourceoutdoorsignature-wdRDZCcm3VVcFikr0Laf0yh6sk', '29508164_a269f27ce882db53e4c7cb84e03be554-p_f', '29496776_b347d2aaf0be3d878cc655d36ac93067-p_f', '58314626_5a0b148e0fa1f39fed88178ab62acfbb-p_f', '29499269_2f227c7f6e2626a67bba67296b0713ac-p_f', '29332051_1fe46c0884df226ccbb61c5a110caea7-p_f', '29499766_streetviewlocation4624WalsallLoop2CAustin2CTX78749size1025x768keyAIzaSyARFMLB1na-BBWf7_R3-5YOQQaHqEJf6RQsourceoutdoorsignature1CLV03nJSjKgMfVDTWf_tfM94PQ', '64565145_2b0479a326c61bc3f5a14c84495d65ba-p_f', '29499264_292039b7a831532f513433dd3e6b58e6-p_f', '58314621_207333dad12fa02fe9b96b19fb651cce-p_f', '83129644_8a4b0675dc99b51fe2b1e8742b471004-p_f', '29496264_88a52ced1502c821757a400cc5255c29-p_f', '58314953_09d9ef9d39a2746fc33464e46bb0bceb-p_f', '29505138_6834a7782c6ed28bd8962e83431bea58-p_f', '29505131_da871c031c3bceb27b6fa5d93e150864-p_f', '29508123_fd8dfa42d56dd0f488270b4006ef3625-p_f', '29502113_a954bd067b0836df0c79f25c11b2dd8a-p_f', '29482094_e81c560b837b89948b6601d7f3dbf083-p_f', '119615580_1f523d21be5a462bfdafbebe47a58133-p_f', '29482091_d9b677f4612a127988a4ead42ba0981d-p_f', '29508074_da5b76effb7f7c96240f11a36eb1ba9e-p_f', '29327504_dbbca783cce195e7d9b946da841aac18-p_f', '58314087_b18de77dbbf8a5ee60af49ed998e197e-p_f', '58313583_a67fac8178f6444142389ebde8990338-p_f', '29502071_afd63053d2f845d26c31c2fcd923236c-p_f', '29485080_489124fb2ce714244b223b87dc6b48fc-p_f', '58314577_dd37842cc59166013fbdf97cc5e1465e-p_f', '29480077_eeb7db0549d862940924041bda980998-p_f', '29499210_1b9e316adaa809fa6123cf5ea25a71b8-p_f', '29499706_f48ae2b0bbb1c9a42dc9b502747c46d7-p_f', '2091055575_3885d2ca0a631d638aa738c9b53f8dcc-p_f', '29505056_1f0fa545790636ebf00606161cabd828-p_f', '29502055_9f76fc39aa9c7d47e172599e987b5cdc-p_f', '29496201_c93f5dd7abc920a5cef83c67910c976b-p_f', '29486069_070a1d5186ee2f2a944418adeb74e38d-p_f', '70335046_9d73bc35655fd516fcb3dc22dd0af42c-p_f', '29499691_492f1d6eada1166ba4ef4fc4f4f03c81-p_f', '29496189_835637dc90f0a0deb57c792237b17205-p_f', '29483060_c8f1a480d3c5889f0efbbf5b871ae563-p_f', '29480049_27cd5b1336bb041a9fffac49c026e440-p_f', '29505027_c08f3f122b7372fed38ab822e6b60553-p_f', '29496174_d25fd3b5280e4ad34a4267f5a223b937-p_f', '125089041_353cedc050fa78f556a9f154b7e55fd6-p_f', '58314038_2f86d1bc2ecad91bb51aef165e50b99c-p_f', '70335022_bf74eec66e840c27b05d069a5f0f871a-p_f', '64548022_fb019f3616d69eb203d422f1b7b45839-p_f', '29499653_37c8f49617394115973dd5dbc9ca3c26-p_f', '58314532_0375e2858d60a09dac784b5fea55d34e-p_f', '29496151_8ca5bdc373030453cb68119c03b6e576-p_f', '29496650_0ae0e27cd98ba83d6d554dee8af8baef-p_f', '29495785_b5909d8265e1ff05f0c4466e21705e5e-p_f', '29482020_62aa550df32eeb9ac8f29ad21b97af86-p_f', '29480017_2025b473a3f3435023de7df8370ec009-p_f', '29496124_7246b2ea834d4949b9d09b913c356cbf-p_f', '29496117_2e27bbe65a0b50b8662d4cfb354c5964-p_f', '29495613_2baf46fe6783ef95552d7256fbd5df62-p_f', '29499772_a1335f52d74d96b817eb2f23ec1036e0-p_f', '29496611_066603f71c582755c3f398686613a493-p_f', '29499592_0b3b0a3a8980db2a99db02febd93bc50-p_f', '29496909_ed66fb8faa498df9c7269633b375254a-p_f', '29491847_8db18fc619d48005dd3d0b5f69716e3e-p_f', '29496839_71fad2616cd4ce7f0a94223a0688619c-p_f', '70342836_164aa4e8dc805dffaa0b8935d4c05a36-p_f', '58315550_348270895a155c4538fc590d1347673d-p_f', '29499548_5894c044f76f66002f6f62aeb9f64f98-p_f', '29496046_d775033e9d7b78f9adcd3bff92a1b8da-p_f', '29496830_dce9dc9900e26316bffb11aaba5ac52c-p_f', '29491045_dd8d7bccd216c6e7f13b7c12cbe99381-p_f', '69811325_20c61fdd9bde62cf86b63f140b06d492-p_f', '29499530_a2e79c21eb35a347c5023724507ee4cf-p_f', '58315302_001fc0449b3205bda40b41696d92a8e2-p_f', '251027801_e40b6d82084a779ae59682c09ad3b5d3-p_f', '58315786_a856bd268314e4e7d4622598099526b9-p_f', '58315284_428b2e5609a01bca7b17841bf6cadcbe-p_f', '29495517_8f0501adf20a288b4526946f3e68b70a-p_f', '29491516_5b4f977ff9a9c0da94f1aa99bc821fd9-p_f', '29491011_03006f9eef9904605510114540df1db0-p_f', '64551250_2ffae243edacd0f53f3e0a62d310e0b7-p_f', '29495507_27fa296dde559cbcf5629a7397397dd0-p_f', '29499504_896396320e71924becf470f6a649714e-p_f', '29491729_600e0d5c0649ff845036da6653e58bcc-p_f', '55291213_streetviewlocation9508HopelandDr2CAustin2CTX78749size1025x768keyAIzaSyARFMLB1na-BBWf7_R3-5YOQQaHqEJf6RQsourceoutdoorsignatureO6nL9gYggvqS9iBfIPj9x9HgXTw', '64742663_4d70a358931764c3e7d28a483b3d8cc7-p_f', '64826109_b80f29bd2da6ee09712383a80d965c5d-p_f', '64647073_4629024211cfacd35889a1305d94af4b-p_f', '80107564_a6eb42b1944b045bfd49491d39beabdd-p_f', '83814958_2e85c8af7089b76187d8477a24e63d22-p_f', '29324877_f62a7d3804f95094d8d690204f62eabd-p_f', '29322844_57d5c2e55318f8d7148b8b0babd2fc15-p_f', '29324474_72e4d9972ec15c758ec8492ae3461cfa-p_f', '29472930_4acc05cd9326275305ad1707be74e585-p_f', '29322807_9a3c6cc772453fafe36ab32cd72645f6-p_f', '29325495_4d745eb2df282adc842ca2c4025c3fb7-p_f', '29322305_cb92eb85afd2103e204b486eaa9c0cc5-p_f', '29472904_df9af6328ac3fc323908d75e125f15d4-p_f', '29325763_5bd947f36f0552a872572c427ae38c25-p_f', '29324248_94ee413298d801882ea3c2b97a38d523-p_f', '29324233_c8ba13cbee9b52cf2932b9e92f855d5a-p_f', '83819988_c7b5958c8d979a3d4b5b4ef69c0470af-p_f', '29323745_e79bfc4bf41afe2fba8e98a73c1c7734-p_f', '29325678_1aaa2f63cc099b9558103bfe1af52c7b-p_f', '29322175_b24823402ca5bcbe83a079d7fd455481-p_f', '29322167_b6d1954346b48183dde8a73e36e4f5c8-p_f', '29472859_6134b8ca4b6e308ffb9b10a057393f8c-p_f', '29324229_170c18e0f089ae3b52e0a91f3e71590c-p_f', '29322190_d6a1b3c26ad28c1fbac24e23a733e8bb-p_f', '29324178_686f24368dd047403de62cbcc50dbb24-p_f', '29322114_345bd68e26c9f2fb4072d7ceac0ba96a-p_f', '29323954_1fea2080447398dda08eed9038131823-p_f', '29322628_4147e331e620a308eeaa258932d63a9e-p_f', '29325554_9f27c8587bcd09694c65899ff9088567-p_f', '29472302_565ea86e83a40db4b3ec016666630230-p_f', '29324501_d1cf9bad8e60e503cd5a839cd55174c9-p_f', '29323947_a3a6ba0966b7fbb26b680516813770d3-p_f', '29325082_ed046b7f03c1fa09882bace2d4f666bb-p_f', '29322242_eba9679f48f73d0c591828402b9e4bbe-p_f', '29322021_fe526b09e168e156f3ebc9104dcbf4a8-p_f', '29474905_25582f4be30bc47511bbec7a1ed2801e-p_f', '29323919_a3300b0526a67f9f0cee09a7ec68203d-p_f', '29322015_5ec6411c4c6c1d8633affe427b564c3c-p_f', '29325509_88f21862b07b12873ac3811c67a19cc7-p_f', '29473383_48037b14df030e77858670a75e7482e6-p_f', '29474873_2812ef3041f4f7427ff545c839454bd6-p_f', '29322349_03bc9c7ef4aac0c80d842371c1374426-p_f', '58312187_94e4b60d9113c7c3817e2d434f8f8a4b-p_f', '29474793_9525712705c4e353df27aaef83d3e8ed-p_f', '29474960_65d7e6ff4cf071ac00fd79b09ccb62b8-p_f', '29472801_f35be1b5319cf8fd9328434da8493092-p_f', '29474669_71f6b7ea14e7b4590a8bfa249aec793e-p_f', '29473284_e97d67dbb6913dbae3a00ce86e6f123d-p_f', '62607746_be21209db14008d5b52d0eb8530b37ec-p_f', '62604580_529ba2525d1b93c7c155ff6bdbd24540-p_f', '29473577_070bfd0deaf3bb5af65ba883d32984d1-p_f', '29473073_73b48c4c2dc0b50cd75391a72b541331-p_f', '29472713_1548bac8356a6f4ba8aa36625cadc93c-p_f', '29322464_b8c2bd9e774dcbd2aff9320591f322d1-p_f', '2094674171_fa8b7151efc97b89dc2c28a7ff6502d3-p_f', '29472663_ab35b3a4ad6a993fd18e14e36f2f13e1-p_f', '29322657_ae03283e4940f99cb33babdea6a2df13-p_f', '119626651_60fabb98fd23283fed19dafa902ec08a-p_f', '29472629_5017ee0d7198fcf361689238088b018a-p_f', '124844599_1273fe003529c5752057a3947acb865a-p_f', '29474587_d928f20d1ffbae88f92d03595df308e3-p_f', '29322049_e6fe658214310da450268d676b160a35-p_f', '2094495422_386102a1590957aed4b06df76d773f34-p_f', '29475031_d33a35567fc9fa81aede070c35f5fc34-p_f', '145655513_2262601553e631336559c1fc212608be-p_f', '28602870_c56da50d0b69cb5a85c8ca6a79453a19-p_f', '2078228282_6994380cfaf11707c42772558f082fc3-p_f', '29512295_9817e990d22e8dd91cdcf54f6d676fe3-p_f', '29555240_d8cdc9493b46e67855e96f065897e07c-p_f', '29555220_8b4b080ce8d23fab6bb86d90961a6f24-p_f', '29555200_34964d5323f8d2f7bacde41ee0019179-p_f', '29609692_6617bc8a808549e5675c6389f4adafd9-p_f', '29603139_a9ab44fe4a37befb565e61be04137898-p_f', '29549595_2365b3280aef7aaea793ddf6335d62be-p_f', '29595497_0376e10331e1b52b063bd31bd7ff0fc0-p_f', '29588424_4ea70a0f2a61c2c339054d9eccd00a52-p_f', '185203902_64b7ab2a80932f461c0eb5a1e9909196-p_f', '29588391_510f60244329e1dc393bc3ec2a00a328-p_f', '29547375_bb898a3e816e3d335b1080ed04032de5-p_f', '29596369_4eb765e51b17d8e793915ecebb371e9a-p_f', '29547367_fb4382005301bcc5383608f29f712eff-p_f', '29590365_e233333a96ca9e372355d1185f1a09da-p_f', '29588493_f5333cad81f48b85c36ad9d833b4167b-p_f', '29578358_3e55c71afd2094bc2cfb10eb1c4d22f8-p_f', '29596353_streetviewlocation12609TwistedBriarLn2CAustin2CTX78729size1025x768keyAIzaSyARFMLB1na-BBWf7_R3-5YOQQaHqEJf6RQsourceoutdoorsignaturetsze8D6BNVWy0nYO1jKS1Vj328U', '29596349_329062e03b7640a341c34e77f4c5230c-p_f', '29572841_3b817f8404eec6f32ab9e0b449abff54-p_f', '29576838_9519f0aceb0e2213f4022ee6103b18f3-p_f', '29564834_7c7476a836c139c23067e51a5ad4a5d7-p_f', '29558277_2511c127daf5d1c1e99d1faaad650c2f-p_f', '29575271_b42b2b9523c1034cc1762f242cc0674d-p_f', '29557240_4f84897f02733800cfe91b238c8c7fed-p_f', '29573705_797bb1ffd073872795940a42ca350fb8-p_f', '29573701_d7baa422ab23110de4cb1bf0a8da58c2-p_f', '29570700_278c10ef20a0a6689aff601f7f213b2b-p_f', '29570695_b994514afa3d529d7788d161082aebcf-p_f', '29558193_4809547c45f7a41feae901e1908bac81-p_f', '29549687_8955ca0397617a55dc87bb6c89463ac2-p_f', '29549683_86c8e9f8504fb7bc760975f3c7aec25c-p_f', '29567682_655611cd257398d63007bf926f11ebb0-p_f', '29584666_96afa735002b483d497d525d287bf769-p_f', '29554990_bba6c745ff2508f47c5e22bd39b341c6-p_f', '29558155_45752b6e5440dbff12ab9e2476a6d4b1-p_f', '29572654_0c346850e6408d3e59fcbdcb82650019-p_f', '29604647_2b7c088c77eb56e09f7e28740b82141c-p_f', '29547635_b6fff44ae9a4de1714b75b7ae6ed61cb-p_f', '29442225_760c6fb0e57e80d3ad3cd9b90297f954-p_f', '29578131_f63ed04547eeb6c017c5441ac00185be-p_f', '29555126_cd56a5948c4d35a31414e674029283b9-p_f', '29549620_44be03159d7ffdabcb66664e520d195b-p_f', '29547604_19878f6ee8114144e0ca0ead13da26ee-p_f', '29558103_4aceaff194705c14ab0e5bbc4f13b669-p_f', '29555103_4416e9a78a235ff8cf670ea2cf3149a5-p_f', '29567598_c0b635f37c140f6b8794b0f54ed4455b-p_f', '29555058_001a93a7124b819a38d7dbf9e284ab67-p_f', '29554878_9edfc8db9326cd89f203567be6615d57-p_f', '29565013_3ba65933732ef89954ef298eea0a3493-p_f', '29595502_38f5f2cb03ab0655abed8f6c440ed233-p_f', '29355358_fbcee2a14e970ac51c553d6e29cead5b-p_f', '29345956_5419ce204c841f07814caabb55cfac5e-p_f', '29345950_1e185ecf9332625af2199d2e5d21a18a-p_f', '29348206_13b2d5e213212e73f5e53d35763803ce-p_f', '58302445_33c5bd62c244a70add2df4aa3743dc65-p_f', '29349499_fe09e313d7cbf3c2fcadec940b3c1a0d-p_f', '29341900_dd86d191d4d0aabbf223d12063b2e2c5-p_f', '29344392_35334822ce365b0c3996d855cdc6cb48-p_f', '29347386_82c6270b0df835441583b3dc3fe842b1-p_f', '29347883_07707d0cee61897b2d35ef6c4a351649-p_f', '29347380_f9140f5d4098ad41cfb6920af9a01172-p_f', '29341877_47de8ee9e23354404b2ca646f0e55dcc-p_f', '29338927_57a305061172bbc0be1aa4fee131787f-p_f', '29346373_7b63ff88bde04ae53a3806db479826a6-p_f', '29337911_55e4d6251d7307072d6278a0e820fa1e-p_f', '29347867_7c8018f1f68285dfb745dfb58895d281-p_f', '29333909_e7cc710a3df55fc49870e57a1b36b7e1-p_f', '29341847_a165d986a836d8569e47b13738a2c6ca-p_f', '29337907_0da193afb35b4e19c31e7359867cb902-p_f', '29337899_81429fe50a1a9f85ff2f10e010cfc968-p_f', '29341891_72f11218e85d26983fc54df313b5d4e0-p_f', '29335992_0e788f5e43866944412bf69fbd1ca981-p_f', '29337387_817ccfcba53bc5eb5b5cf14ed7082371-p_f', '29349325_570ccf801e2b46ffe3ca32b72b95620e-p_f', '29348314_b76052aa263d9978331f0e3d17c04ba6-p_f', '29346309_09bfc155865bfc592aaebc922db11185-p_f', '2079842710_9d2c762f7af91a72df7c416fbeb652f8-p_f', '58297831_19cbb6e1e2b54951585f030fc8a59f83-p_f', '29335828_271c89d3acb42bfbcabf0252093561d7-p_f', '29348283_d49e8266eb641d6c513c0a0a7d77e1ce-p_f', '29404935_6117c8dbc4641832450ad69bf25a3a43-p_f', '29335306_6cb0e76aa865d9d5bfabcb6870e4528d-p_f', '29346257_streetviewlocation4412SmallDr2CAustin2CTX78731size1025x768keyAIzaSyARFMLB1na-BBWf7_R3-5YOQQaHqEJf6RQsourceoutdoorsignature2ex8eks9In_AFvty-ehWLNgbghY', '29402930_c6811e0246f0dd5a8424ca95c4b8d9d4-p_f', '29338795_5b2be4074281ecc05042005a7e6534b6-p_f', '29344253_df7fc61b9a27f6ef632b741e35c4b498-p_f', '29397926_d66eae3e010457f850a59e65747095f5-p_f', '29335779_764b8beeba195f3769dd972d3922bd92-p_f', '29398923_7d85bd607933cfa9545390e1b27556da-p_f', '29404920_8e38be413fd8c2837d5adccb1257b725-p_f', '29349724_4d1b6cd262a60ba9bfecaaac0ba4d1fd-p_f', '29343220_01fe3e8c5093883f980a0eba86027113-p_f', '2088849252_476c6d87280b2a0d211cde393b7da96b-p_f', '29408905_6813885b4580beb66abb58692f85ae1b-p_f', '29348196_b6e4e01c42fd0c6f6e3463674a24d5b9-p_f', '29337238_dd49db877e31197a505d70c6f3812719-p_f', '29348182_e39173b9612275b65137346dde0e4b95-p_f', '29337225_2fc696336247e3f8a6c29808df912518-p_f', '29401385_19535e7778c048c5b703ef78b6b40c77-p_f', '29335724_f4792d7a4a18a524b058b82bdf54eafe-p_f', '29397879_a37303e3f2da4f8fcc5a823d9e69607e-p_f', '29408877_6f547e6581f93f68a11009dc1c6d47fc-p_f', '29345673_cf104a9db9831a8b31f0937816788128-p_f', '29346163_1242f3f96caa3bf712b7956f319e815f-p_f', '29335208_7d8a6abf95e7d67019de0a27052ce9eb-p_f', '29339194_streetviewlocation2404WestlakeDr2CAustin2CTX78746size1025x768keyAIzaSyARFMLB1na-BBWf7_R3-5YOQQaHqEJf6RQsourceoutdoorsignatureYsnW7edBfcW6GzEmWFHe8xUN1Ds', '29338694_b0f94c58cd4e5d1a3dee236b67c78ad6-p_f', '29407851_fd0354ceeb56d29df66e10bcbbd73ad0-p_f', '29342639_8366c7c604f438a1aa2e456281c128d5-p_f', '29336191_e44cfc9d4f4371519cda5d9e2a04897f-p_f', '29405973_4082e0f84e7fad94e23f2a2d8264bd6f-p_f', '29397840_1a6001762e4b414710a1b87505db22b6-p_f', '29397338_cc37ffabaa28da9878719c3480092d48-p_f', '29348123_03e4a5fb7747b3946c9b0a53dad44904-p_f', '29399332_bd701260dad5bb646672bea09689ccfc-p_f', '29403326_f6ff45e2cf992c0c3908589570e2c44f-p_f', '29349617_5d8ee8e6cdf1d47f64ce937f3e58994d-p_f', '29403322_ba8d4a85be6ddd8c6a575eb07efb1202-p_f', '29335663_c44f98f5ba7ad1500c6c3060e4baeadf-p_f', '29348102_streetviewlocation6100MarquesaDr2CAustin2CTX78731size1025x768keyAIzaSyARFMLB1na-BBWf7_R3-5YOQQaHqEJf6RQsourceoutdoorsignatureApB-O48Ho3oZUzPtFgfkWOHscxE', '29344101_0bb2a7b45a7056436b26746319844e1f-p_f', '29336146_f5b8853df7ee449763cf183a2fa0a481-p_f', '29335606_d74b536a2c26095c46a4512da4e27dba-p_f', '145655084_4889181fa95a53b0b06398a2d48df1c9-p_f', '29335604_streetviewlocation1611WestoverRd2CAustin2CTX78703size1025x768keyAIzaSyARFMLB1na-BBWf7_R3-5YOQQaHqEJf6RQsourceoutdoorsignatureWomAM6NNcyVsl4wBTi536ZaAs8c', '29337779_streetviewlocation3308KerbeyLn2CAustin2CTX78703size1025x768keyAIzaSyARFMLB1na-BBWf7_R3-5YOQQaHqEJf6RQsourceoutdoorsignatureUttGfsBMCYynjnKDBH4H01xOoBA', '29346465_0c1cc56c33b185239ae727c264c0fce9-p_f', '29403266_a97c329dec4854f694fe59355a1ace23-p_f', '124836084_ffba110bebc8e7e1dee88c0a446c829e-p_f', '29335577_d66effa94276a18f02bbcb6cf7f05c9b-p_f', '29342058_7f8838ab682b69c490fbafa6b0435439-p_f', '29343056_47b798236c1542a8ffec33f468e93df8-p_f', '29349463_e1e38bb6764c561753ad62113b0027a4-p_f', '29399226_1ee156f000cf4a8c8fc389fed0e8e2fa-p_f', '63834530_f247d32dc99addb9fb51d959a45f8ce4-p_f', '29339029_fb807cd36d8aace44124731e8ec6e401-p_f', '29338526_95319a34e57ed897fe1831a1d5acee2a-p_f', '29408977_4b6eff8efdad0f2c3b971b6ae6a56eb2-p_f', '29406224_fdff9dbbc14c23632674664da8f618df-p_f', '29339020_de8c09bc40d9e00f86ffa18bafc4b8d0-p_f', '29403191_7ebe6c664e5b36bd6393543e8ec172e3-p_f', '29405189_983b9c2be1a1fd335d8a37100908637d-p_f', '29397172_d185e7ee39d97e9626fd28a4c66620fb-p_f', '29403170_db5fef174586eefc4fc8db24c818dd29-p_f', '29410664_6e52cb90b159a7dfdb58601321176702-p_f', '29397158_f883dcebda9903e3eabc06b98d408cf1-p_f', '29406157_0db09cb581c908713bb37da6d22371d0-p_f', '29405145_c5de1e43976a3675c6b525a408128f22-p_f', '29405144_7605342c66248dfb83b383dd11156bd7-p_f', '29410468_c76ab7721e202724b97c40a5da1469a6-p_f', '29336968_40871163502231eec931452c4b274073-p_f', '29409128_f630a7bafad5fcce88de6b939802eaea-p_f', '29395626_90c65462a94edb2b3fe530ec91686bc3-p_f', '29406112_fa1f698b836bb56bfd76344758d36ff0-p_f', '29395599_b6f1b12e65c1a03a7a25971b5fe2087b-p_f', '29336959_3fe478f5dbe743dace60a1f7c1771292-p_f', '29405079_ec378d6686ac7bdaeb81054706a1905d-p_f', '29403078_572e43d45f355c1f903f6ab6ad210d61-p_f', '29406072_97117b827ec93616043d6116f6166923-p_f', '29410570_98d010d56f7aaa7be8fdf2e663489f10-p_f', '29410453_78bf88188ae2b4821e6dcfab2342be17-p_f', '29337061_a01071ea9f2d21486a3e9dc0b2aebbdd-p_f', '29406055_b2a9a2b0eb39d5dc323652c85c3f3dbc-p_f', '29410452_7a83a451ea5605790c968a6d9f9904b7-p_f', '2094615547_b485866559a56464016b65915afa13ab-p_f', '29337031_e3e6fda44a37ab936886cb0d1a950fa5-p_f', '29406028_d4f6e68e88d64181c07db52106014909-p_f', '29403028_9944a3098874084496b121990a793838-p_f', '29409015_551cbef60c9125420a6d4a9ec939c1cf-p_f', '29405007_99584b653102b33190a3e3908eafc75d-p_f', '29403395_4b44e9847f706e8ea4295aa914b00847-p_f', '29397937_10bddf5e763bb88a78662d558727a61b-p_f', '29402387_aa5c92084510151f3bb06aa7f963bd26-p_f', '83827843_8f989caeccbbb26186400e8b377bc767-p_f', '70338581_12b71c8a827a4ee19ab386ccdbb4fe54-p_f', '29490527_347c31d30083b4601baf1b480ccd9767-p_f', '64429742_b1755834bce75535af3587e68640d93e-p_f', '29385301_c9d518e147a14e46c175df51ae3198a9-p_f', '29345924_375cf8d299cae54a65044059b896ad42-p_f', '29345878_a13ced3e8475f8d0d02630aa0c84bcc8-p_f', '29345868_7b067e306ce9327afde8360e22d87ddf-p_f', '29417829_a0819a241ff36a82b10eae4288a60adc-p_f', '29345815_5f3a054503597cff5807a15a942133d9-p_f', '29347813_71138cbe56b1f81ff7555c8a97c95a32-p_f', '29417781_da3484e8c6b95aeba6cb3e445e876c4e-p_f', '29415933_c80565e4044d0ae688fb802478bf44a3-p_f', '29344171_f389d6a23d924d4bd505506d5b53acc6-p_f', '29420140_fed2fb8efbcf40c1cf938c01f374b2df-p_f', '29414594_ce00ed136a29bd938eef506e927fff1c-p_f', '29418969_f1574dbc563c53fdd3b8fb30cd2fe51a-p_f', '29420455_b8c9e74ddb72252712180ebb87fe7c12-p_f', '29420419_caaddefc5a95efbc4bc731f52b2517bb-p_f', '29416906_d579ddea34a753bd4a681f6b2a45af14-p_f', '29418399_ec5cdd7486d036ada97c163f5bbbf77c-p_f', '29418884_8fd7b0e2b4a1b5c9e4817d3d930fed42-p_f', '29420374_d0dcdde2d3d83f6e16b9de71d1913602-p_f', '29416345_cdfe88edda2bcb4869f3c1b111122a85-p_f', '29416324_921b227c7263d7c3e79766158cecfe5b-p_f', '29418819_c44e05c58050eb5067b24de1c132c3f2-p_f', '29417812_77c047e899159f003eb4ae4b3c0e00e5-p_f', '29416295_847bc3764011e2beea41b5e4871f73c1-p_f', '29416996_8bb29cb50f5a4de90ddb426ab72148b9-p_f', '29414757_be831a9ef5569851bca11fe9d85c3fdd-p_f', '29414752_d0a896187473c1245126cb42d9518758-p_f', '251027709_e2a6c2456ee3296e4b6a96f3372863e7-p_f', '241935707_bb626ed439fa6a99c079c965b3681b5b-p_f', '29416197_196a1457ad98f6421ee7d4ce28c966c8-p_f', '29416171_e2a1a5267e4c3e4720f6c3afb79351c8-p_f', '29418153_3807bf369d815c983eebaef4d71535f1-p_f', '29417992_aa95f8389b6adbf0a78655ec74eb6091-p_f', '251030616_0b1b67ba405ec35b75f666df4dd9488c-p_f', '29415101_dc49845b1c50d8ad174c47c91af89a03-p_f', '29416098_98fa4b4ca9629950662f426278c24ab2-p_f', '29417088_92e58f24ecf613e2178c1a5b79f39917-p_f', '29416067_4f854ca6c75386086a2169c03b8440d2-p_f', '29420555_decbd6713b3524fbabbd9eeac08956e0-p_f', '2078238015_e340ff959ea6cdae700983119e34a4be-p_f', '29411366_f03f5bca6aee6996c1f2f3ac54960f44-p_f', '29342840_ce5a6c3590beb9032e381f677fa3fa47-p_f', '29411337_dbcccd0d2463f900154417d9aea1d060-p_f', '29342830_ca3f05736d6f87d73c5589179049c3d8-p_f', '29411316_d6198061641825bea48defe3f3fe860c-p_f', '29412277_c0fcccab199d00b388ddad1f27c3e4de-p_f', '29342765_e088e5369d0ef8478a3b63539792169c-p_f', '29411248_c670b26c6b7d74f5171b488dc007dc55-p_f', '29342742_05b2a0eed1415c15dfe563b23c2a523a-p_f', '29342724_2a8ef12b0b415598d04ba0d8c2559501-p_f', '29342707_332c659ff191b1b2bb3354f93163f68b-p_f', '29344198_4c3fac478af3d26316a9cad0a8a55f2c-p_f', '29342689_de7f0c5605081b38c7319ac012a18e5e-p_f', '29342666_f102002ed513c83abebb240a222889c3-p_f', '29342664_130006f5d60eb8291f0d5e3635664895-p_f', '29342648_47ba9a8e4a7c3bd1c254cb435b64a13f-p_f', '29414141_f73f743d00fa87d2a76f8d97c869f3d9-p_f', '29414076_b678e6b042394c9f164b8e5a880e72cc-p_f', '29409061_6ab4cbc5a6281c5be2f459faeb2fccf7-p_f', '29410460_e84a0343a9e14b4d85f17b13566234ff-p_f', '29412468_afd7238b47ece15f29eacd41ccee642c-p_f', '251031944_7c57344965e53615fc63e32f63be20ca-p_f', '29412444_c485ee03bdffcd749673cef789bb4c63-p_f', '2078473436_d86c733d30902fb85f7c9ce35f5efce7-p_f', '29412307_abb893089860e58045f09b51842c7db5-p_f', '29414296_5eafaf4cf85edb30ab290c0f993a41cc-p_f', '29414768_1bd188d92cd5fb1df1d10be842352067-p_f', '29416225_a9a0df65f9e44dfe45820e357827d94e-p_f', '29413146_streetviewlocation1207AlegriaRd2CAustin2CTX78757size1025x768keyAIzaSyARFMLB1na-BBWf7_R3-5YOQQaHqEJf6RQsourceoutdoorsignatureDSclbRHRgEVrl5rPZ9XT7YH7818', '29410619_7e49ddcc192ff3f2a6e7be6a10f3efff-p_f', '29413117_0fbfb2de069c02694476589464e79962-p_f', '29410587_ddcdaf2738cc72820e54f0367751ab3a-p_f', '29411530_619e251001edaab1376d1fdf1e8c77e8-p_f', '2079918505_c080e2347f21b2caf88dbfa537d5135a-p_f']\n",
            "12010\n",
            "3002\n"
          ],
          "name": "stdout"
        }
      ]
    },
    {
      "cell_type": "markdown",
      "metadata": {
        "id": "APFnCGaH1HJP"
      },
      "source": [
        "# Generator"
      ]
    },
    {
      "cell_type": "markdown",
      "metadata": {
        "id": "ChHyYGO69jCr"
      },
      "source": [
        "#### impors for generator"
      ]
    },
    {
      "cell_type": "code",
      "metadata": {
        "colab": {
          "base_uri": "https://localhost:8080/",
          "height": 35
        },
        "id": "vGvYmvNB4cRr",
        "outputId": "aedc5617-036c-414e-a3d6-da93db4f1fd9"
      },
      "source": [
        "tf.__version__"
      ],
      "execution_count": 14,
      "outputs": [
        {
          "output_type": "execute_result",
          "data": {
            "application/vnd.google.colaboratory.intrinsic+json": {
              "type": "string"
            },
            "text/plain": [
              "'2.6.0'"
            ]
          },
          "metadata": {
            "tags": []
          },
          "execution_count": 14
        }
      ]
    },
    {
      "cell_type": "markdown",
      "metadata": {
        "id": "HpfW8auN9m4u"
      },
      "source": [
        "#### actual start of generator"
      ]
    },
    {
      "cell_type": "code",
      "metadata": {
        "id": "EhyUDut-pKj3"
      },
      "source": [
        "# First, let's write the initialization function of the class\n",
        "\n",
        "class DataGenerator(Sequence):\n",
        "\n",
        "  def __init__(self, list_IDs, labels, batch_size=128, dim=(250,300), n_channels=1,\n",
        "              shuffle=True):\n",
        "    'Initialization'\n",
        "    self.dim = dim\n",
        "    self.batch_size = batch_size\n",
        "    self.labels = labels\n",
        "    self.list_IDs = list_IDs\n",
        "    self.n_channels = n_channels\n",
        "    #self.n_classes = n_classes\n",
        "    self.shuffle = shuffle\n",
        "    self.on_epoch_end()\n",
        "\n",
        "\n",
        "  def __len__(self):\n",
        "        'Denotes the number of batches per epoch'\n",
        "        return int(np.floor(len(self.list_IDs) / self.batch_size))\n",
        "\n",
        "  def __getitem__(self, index):\n",
        "        'Generate one batch of data'\n",
        "        # Generate indexes of the batch\n",
        "        indexes = self.indexes[index*self.batch_size:(index+1)*self.batch_size]\n",
        "\n",
        "        # Find list of IDs\n",
        "        list_IDs_temp = [self.list_IDs[k] for k in indexes]\n",
        "\n",
        "        # Generate data\n",
        "        X, y = self.__data_generation(list_IDs_temp)\n",
        "\n",
        "        return X, y\n",
        "\n",
        "  def on_epoch_end(self):\n",
        "        'Updates indexes after each epoch'\n",
        "        self.indexes = np.arange(len(self.list_IDs))\n",
        "        if self.shuffle == True:\n",
        "            np.random.shuffle(self.indexes)\n",
        "\n",
        "  def __data_generation(self, list_IDs_temp):\n",
        "        'Generates data containing batch_size samples' # X : (n_samples, *dim, n_channels)\n",
        "        # Initialization\n",
        "        X = np.empty((self.batch_size, *self.dim, self.n_channels))\n",
        "        y = list(np.empty((self.batch_size)))\n",
        "        #print(X.shape, X.dtype)\n",
        "        #print(y.shape, y.dtype)\n",
        "\n",
        "        # Generate data\n",
        "        for i, ID in enumerate(list_IDs_temp):\n",
        "            # Store sample\n",
        "            #X[i,] = load_pic(ID, size=self.dim[0], n_channels=self.n_channels)\n",
        "            try:\n",
        "              X[i,] = load_pic(ID+'.jpg' )\n",
        "              \n",
        "            #print(X[i,])\n",
        "\n",
        "            # Store class\n",
        "              y[i] = self.labels[ID]\n",
        "            except:\n",
        "              continue\n",
        "              \n",
        "        #print(type(X), type(y))\n",
        "        #print(y)\n",
        "        return X, np.array(y)\n",
        "\n"
      ],
      "execution_count": 15,
      "outputs": []
    },
    {
      "cell_type": "code",
      "metadata": {
        "id": "1VbaVigVMgiD"
      },
      "source": [
        "# Parameters\n",
        "params = {'dim': (250,300),\n",
        "          'batch_size': 128,\n",
        "          'n_channels': 1,\n",
        "          'shuffle': True}\n",
        "\n",
        "# Import the EarlyStopping and ModelCheckpoint callbacks\n",
        "from tensorflow.keras.callbacks import EarlyStopping, ModelCheckpoint\n",
        "\n",
        "\n",
        "# Define a callback to monitor validation accuracy\n",
        "monitor_val_loss = EarlyStopping(monitor='val_loss', patience=5, restore_best_weights=True)\n",
        "\n",
        "# Generators\n",
        "\n",
        "#def get_train_images():\n",
        "training_generator = DataGenerator(partition['train'], labels, **params)\n",
        "\n",
        "#def get_validation_images():\n",
        "validation_generator = DataGenerator(partition['validation'], labels, **params)\n"
      ],
      "execution_count": 16,
      "outputs": []
    },
    {
      "cell_type": "code",
      "metadata": {
        "colab": {
          "base_uri": "https://localhost:8080/"
        },
        "id": "kd-Ke2ikDwBR",
        "outputId": "353ceef1-f6c2-44d0-c8af-4f685ba8ca60"
      },
      "source": [
        "a = DataGenerator(partition['train'], labels, **params)\n",
        "a"
      ],
      "execution_count": 17,
      "outputs": [
        {
          "output_type": "execute_result",
          "data": {
            "text/plain": [
              "<__main__.DataGenerator at 0x7fe7eaf9c950>"
            ]
          },
          "metadata": {
            "tags": []
          },
          "execution_count": 17
        }
      ]
    },
    {
      "cell_type": "markdown",
      "metadata": {
        "id": "2l4qbZ67WvnW"
      },
      "source": [
        "## Metric Function"
      ]
    },
    {
      "cell_type": "code",
      "metadata": {
        "id": "XcKe-3fKW-xU"
      },
      "source": [
        "# from https://jmlb.github.io/ml/2017/03/20/CoeffDetermination_CustomMetric4Keras/\n",
        "\n",
        "from keras import backend as K\n",
        "\n",
        "def coeff_determination(y_true, y_pred):\n",
        "    SS_res =  K.sum(K.square( y_true-y_pred )) \n",
        "    SS_tot = K.sum(K.square( y_true - K.mean(y_true) ) ) \n",
        "    return ( 1 - SS_res/(SS_tot + K.epsilon()) )\n"
      ],
      "execution_count": 18,
      "outputs": []
    },
    {
      "cell_type": "markdown",
      "metadata": {
        "id": "dgMvEkOhzmyk"
      },
      "source": [
        "## CNN model \n",
        "from https://www.linkedin.com/learning/neural-networks-and-convolutional-neural-networks-essential-training/creating-and-compiling-the-model?u=36492188\n",
        "for images"
      ]
    },
    {
      "cell_type": "code",
      "metadata": {
        "id": "rDYJl8V0N9Jm"
      },
      "source": [
        "# CNN model\n",
        "from tensorflow.keras import Sequential\n",
        "\n",
        "cnn2 = Sequential()\n",
        "cnn2.add(Conv2D(32, kernel_size=(3,3), input_shape=(250,300,1),padding='same', activation='relu'))\n",
        "cnn2.add(MaxPooling2D(pool_size=(2, 2)))\n",
        "cnn2.add(Conv2D(64, kernel_size=(3,3), padding='same', activation='relu'))\n",
        "cnn2.add(MaxPooling2D(pool_size=(2, 2)))\n",
        "cnn2.add(Conv2D(128, kernel_size=(3,3), padding='same', activation='relu'))\n",
        "cnn2.add(MaxPooling2D(pool_size=(2, 2)))\n",
        "cnn2.add(Conv2D(128, kernel_size=(3,3), padding='same', activation='relu'))\n",
        "cnn2.add(MaxPooling2D(pool_size=(2, 2)))\n",
        "cnn2.add(Flatten())\n",
        "cnn2.add(Dropout(0.5))\n",
        "cnn2.add(Dense(512, activation='relu'))\n",
        "cnn2.add(Dense(32, activation='relu'))\n",
        "cnn2.add(Dense(1, activation='linear'))\n",
        "cnn2.compile(optimizer='adam', loss='mean_absolute_error', metrics=[[coeff_determination, 'mae']])\n"
      ],
      "execution_count": 19,
      "outputs": []
    },
    {
      "cell_type": "code",
      "metadata": {
        "colab": {
          "base_uri": "https://localhost:8080/"
        },
        "id": "tTtpm4Bp1Qor",
        "outputId": "954dd612-2951-4a78-cb05-44463169bdef"
      },
      "source": [
        "print(cnn2.summary())"
      ],
      "execution_count": 20,
      "outputs": [
        {
          "output_type": "stream",
          "text": [
            "Model: \"sequential\"\n",
            "_________________________________________________________________\n",
            "Layer (type)                 Output Shape              Param #   \n",
            "=================================================================\n",
            "conv2d (Conv2D)              (None, 250, 300, 32)      320       \n",
            "_________________________________________________________________\n",
            "max_pooling2d (MaxPooling2D) (None, 125, 150, 32)      0         \n",
            "_________________________________________________________________\n",
            "conv2d_1 (Conv2D)            (None, 125, 150, 64)      18496     \n",
            "_________________________________________________________________\n",
            "max_pooling2d_1 (MaxPooling2 (None, 62, 75, 64)        0         \n",
            "_________________________________________________________________\n",
            "conv2d_2 (Conv2D)            (None, 62, 75, 128)       73856     \n",
            "_________________________________________________________________\n",
            "max_pooling2d_2 (MaxPooling2 (None, 31, 37, 128)       0         \n",
            "_________________________________________________________________\n",
            "conv2d_3 (Conv2D)            (None, 31, 37, 128)       147584    \n",
            "_________________________________________________________________\n",
            "max_pooling2d_3 (MaxPooling2 (None, 15, 18, 128)       0         \n",
            "_________________________________________________________________\n",
            "flatten (Flatten)            (None, 34560)             0         \n",
            "_________________________________________________________________\n",
            "dropout (Dropout)            (None, 34560)             0         \n",
            "_________________________________________________________________\n",
            "dense (Dense)                (None, 512)               17695232  \n",
            "_________________________________________________________________\n",
            "dense_1 (Dense)              (None, 32)                16416     \n",
            "_________________________________________________________________\n",
            "dense_2 (Dense)              (None, 1)                 33        \n",
            "=================================================================\n",
            "Total params: 17,951,937\n",
            "Trainable params: 17,951,937\n",
            "Non-trainable params: 0\n",
            "_________________________________________________________________\n",
            "None\n"
          ],
          "name": "stdout"
        }
      ]
    },
    {
      "cell_type": "code",
      "metadata": {
        "colab": {
          "base_uri": "https://localhost:8080/"
        },
        "id": "hFNC72gX8lo0",
        "outputId": "c878b8f3-c3e7-46d9-cfe3-b3703ab02142"
      },
      "source": [
        "history = cnn2.fit_generator(generator=training_generator,\n",
        "                    validation_data=validation_generator, epochs = 40, steps_per_epoch=200, callbacks=[monitor_val_loss],\n",
        "                    use_multiprocessing=True,)"
      ],
      "execution_count": 21,
      "outputs": [
        {
          "output_type": "stream",
          "text": [
            "/usr/local/lib/python3.7/dist-packages/keras/engine/training.py:1972: UserWarning: `Model.fit_generator` is deprecated and will be removed in a future version. Please use `Model.fit`, which supports generators.\n",
            "  warnings.warn('`Model.fit_generator` is deprecated and '\n"
          ],
          "name": "stderr"
        },
        {
          "output_type": "stream",
          "text": [
            "Epoch 1/40\n",
            "200/200 [==============================] - 90s 410ms/step - loss: 242097.4219 - coeff_determination: -0.2354 - mae: 242097.4219 - val_loss: 211777.7031 - val_coeff_determination: -0.1094 - val_mae: 211777.7031\n",
            "Epoch 2/40\n",
            "200/200 [==============================] - 80s 396ms/step - loss: 212882.4844 - coeff_determination: -0.0493 - mae: 212882.4844 - val_loss: 206424.5156 - val_coeff_determination: -0.0226 - val_mae: 206424.5156\n",
            "Epoch 3/40\n",
            "200/200 [==============================] - 81s 401ms/step - loss: 210234.1250 - coeff_determination: -0.0345 - mae: 210234.1250 - val_loss: 205633.7188 - val_coeff_determination: -0.0061 - val_mae: 205633.7188\n",
            "Epoch 4/40\n",
            "200/200 [==============================] - 81s 404ms/step - loss: 360287962136576.0000 - coeff_determination: -0.0333 - mae: 360287962136576.0000 - val_loss: 205899.0938 - val_coeff_determination: -0.0442 - val_mae: 205899.0938\n",
            "Epoch 5/40\n",
            "200/200 [==============================] - 82s 409ms/step - loss: 209684.0625 - coeff_determination: -0.0296 - mae: 209684.0625 - val_loss: 207363.1094 - val_coeff_determination: -0.0726 - val_mae: 207363.1094\n",
            "Epoch 6/40\n",
            "200/200 [==============================] - 82s 406ms/step - loss: 209341.7969 - coeff_determination: -0.0307 - mae: 209341.7969 - val_loss: 205636.3438 - val_coeff_determination: -0.0369 - val_mae: 205636.3438\n",
            "Epoch 7/40\n",
            "200/200 [==============================] - 82s 405ms/step - loss: 207146.2344 - coeff_determination: -0.0236 - mae: 207146.2344 - val_loss: 210429.8281 - val_coeff_determination: -0.0989 - val_mae: 210429.8281\n",
            "Epoch 8/40\n",
            "200/200 [==============================] - 82s 409ms/step - loss: 207103.5781 - coeff_determination: -0.0244 - mae: 207103.5781 - val_loss: 205269.0469 - val_coeff_determination: 0.0123 - val_mae: 205269.0469\n",
            "Epoch 9/40\n",
            "200/200 [==============================] - 83s 413ms/step - loss: 208258.0000 - coeff_determination: -0.0213 - mae: 208258.0000 - val_loss: 204842.4375 - val_coeff_determination: -0.0166 - val_mae: 204842.4375\n",
            "Epoch 10/40\n",
            "200/200 [==============================] - 85s 421ms/step - loss: 208563.1562 - coeff_determination: -0.0172 - mae: 208563.1562 - val_loss: 204292.3281 - val_coeff_determination: -0.0368 - val_mae: 204292.3281\n",
            "Epoch 11/40\n",
            "200/200 [==============================] - 83s 413ms/step - loss: 208098.7031 - coeff_determination: -0.0224 - mae: 208098.7031 - val_loss: 204988.7188 - val_coeff_determination: -0.0193 - val_mae: 204988.7188\n",
            "Epoch 12/40\n",
            "200/200 [==============================] - 82s 408ms/step - loss: 206050.2969 - coeff_determination: -0.0147 - mae: 206050.2969 - val_loss: 207224.7656 - val_coeff_determination: 0.0284 - val_mae: 207224.7656\n",
            "Epoch 13/40\n",
            "200/200 [==============================] - 83s 411ms/step - loss: 205923.9062 - coeff_determination: -0.0126 - mae: 205923.9062 - val_loss: 205989.0156 - val_coeff_determination: -0.0453 - val_mae: 205989.0156\n",
            "Epoch 14/40\n",
            "200/200 [==============================] - 83s 410ms/step - loss: 206260.5469 - coeff_determination: -0.0195 - mae: 206260.5469 - val_loss: 204516.3438 - val_coeff_determination: -0.0262 - val_mae: 204516.3438\n",
            "Epoch 15/40\n",
            "200/200 [==============================] - 83s 413ms/step - loss: 204887.5625 - coeff_determination: -0.0098 - mae: 204887.5625 - val_loss: 204048.2031 - val_coeff_determination: -0.0279 - val_mae: 204048.2031\n",
            "Epoch 16/40\n",
            "200/200 [==============================] - 84s 416ms/step - loss: 205209.7812 - coeff_determination: -0.0031 - mae: 205209.7812 - val_loss: 201129.6562 - val_coeff_determination: -0.0178 - val_mae: 201129.6562\n",
            "Epoch 17/40\n",
            "200/200 [==============================] - 91s 451ms/step - loss: 204338.7969 - coeff_determination: 0.0019 - mae: 204338.7969 - val_loss: 203041.8281 - val_coeff_determination: 0.0021 - val_mae: 203041.8281\n",
            "Epoch 18/40\n",
            "200/200 [==============================] - 83s 414ms/step - loss: 204278.3594 - coeff_determination: 0.0085 - mae: 204278.3594 - val_loss: 199876.0469 - val_coeff_determination: -0.0060 - val_mae: 199876.0469\n",
            "Epoch 19/40\n",
            "200/200 [==============================] - 83s 410ms/step - loss: 202998.4375 - coeff_determination: 0.0112 - mae: 202998.4375 - val_loss: 201929.6250 - val_coeff_determination: -0.0074 - val_mae: 201929.6250\n",
            "Epoch 20/40\n",
            "200/200 [==============================] - 83s 411ms/step - loss: 204906.1406 - coeff_determination: 0.0138 - mae: 204906.1406 - val_loss: 206548.2031 - val_coeff_determination: 0.0537 - val_mae: 206548.2031\n",
            "Epoch 21/40\n",
            "200/200 [==============================] - 83s 410ms/step - loss: 201289.0781 - coeff_determination: 0.0208 - mae: 201289.0781 - val_loss: 205967.8750 - val_coeff_determination: 0.0594 - val_mae: 205967.8750\n",
            "Epoch 22/40\n",
            "200/200 [==============================] - 83s 412ms/step - loss: 202048.3125 - coeff_determination: 0.0301 - mae: 202048.3125 - val_loss: 198402.2344 - val_coeff_determination: 0.0284 - val_mae: 198402.2344\n",
            "Epoch 23/40\n",
            "200/200 [==============================] - 83s 412ms/step - loss: 202216.4375 - coeff_determination: 0.0266 - mae: 202216.4375 - val_loss: 205880.2656 - val_coeff_determination: 0.0632 - val_mae: 205880.2656\n",
            "Epoch 24/40\n",
            "200/200 [==============================] - 83s 411ms/step - loss: 201140.7031 - coeff_determination: 0.0306 - mae: 201140.7031 - val_loss: 204117.7969 - val_coeff_determination: -0.0431 - val_mae: 204117.7969\n",
            "Epoch 25/40\n",
            "200/200 [==============================] - 83s 413ms/step - loss: 200616.0625 - coeff_determination: 0.0411 - mae: 200616.0625 - val_loss: 200430.0000 - val_coeff_determination: 0.0476 - val_mae: 200430.0000\n",
            "Epoch 26/40\n",
            "200/200 [==============================] - 83s 411ms/step - loss: 198970.0156 - coeff_determination: 0.0466 - mae: 198970.0156 - val_loss: 199974.5625 - val_coeff_determination: -0.0141 - val_mae: 199974.5625\n",
            "Epoch 27/40\n",
            "200/200 [==============================] - 87s 431ms/step - loss: 200242.1875 - coeff_determination: 0.0440 - mae: 200242.1875 - val_loss: 196677.1094 - val_coeff_determination: 0.0315 - val_mae: 196677.1094\n",
            "Epoch 28/40\n",
            "200/200 [==============================] - 86s 429ms/step - loss: 197074.9219 - coeff_determination: 0.0552 - mae: 197074.9219 - val_loss: 201752.5000 - val_coeff_determination: 0.0355 - val_mae: 201752.5000\n",
            "Epoch 29/40\n",
            "200/200 [==============================] - 88s 434ms/step - loss: 197572.6406 - coeff_determination: 0.0614 - mae: 197572.6406 - val_loss: 197216.9062 - val_coeff_determination: 0.0370 - val_mae: 197216.9062\n",
            "Epoch 30/40\n",
            "200/200 [==============================] - 88s 434ms/step - loss: 196872.0781 - coeff_determination: 0.0659 - mae: 196872.0781 - val_loss: 197522.7188 - val_coeff_determination: 0.0366 - val_mae: 197522.7188\n",
            "Epoch 31/40\n",
            "200/200 [==============================] - 86s 425ms/step - loss: 363756.6875 - coeff_determination: -1.0190 - mae: 363756.6875 - val_loss: 510787.0312 - val_coeff_determination: -2.0524 - val_mae: 510787.0312\n",
            "Epoch 32/40\n",
            "200/200 [==============================] - 81s 399ms/step - loss: 510886.1875 - coeff_determination: -1.9751 - mae: 510886.1875 - val_loss: 511339.3438 - val_coeff_determination: -1.8184 - val_mae: 511339.3438\n"
          ],
          "name": "stdout"
        }
      ]
    },
    {
      "cell_type": "code",
      "metadata": {
        "id": "JMSOgsC_V2Zx"
      },
      "source": [
        "def plot_loss(coeff_determination,val_coeff_determination):\n",
        "    \"\"\"Plots loss as a function of epoch for validation \n",
        "           and training sets\"\"\"\n",
        "    \n",
        "    plt.figure()\n",
        "    plt.plot(coeff_determination)\n",
        "    plt.plot(val_coeff_determination)\n",
        "    plt.title('Coefficient of Determination')\n",
        "    plt.ylabel('R-squared')\n",
        "    plt.xlabel('Epoch')\n",
        "    plt.legend(['Train', 'Test'], loc='upper right')\n",
        "    plt.show()"
      ],
      "execution_count": 22,
      "outputs": []
    },
    {
      "cell_type": "code",
      "metadata": {
        "colab": {
          "base_uri": "https://localhost:8080/",
          "height": 295
        },
        "id": "1fESOa6Wjhu7",
        "outputId": "1e2b1366-68dc-4971-98d9-49eba7b9bd90"
      },
      "source": [
        "# Plot train vs test loss during training\n",
        "plot_loss(history.history['coeff_determination'], history.history['val_coeff_determination'])"
      ],
      "execution_count": 23,
      "outputs": [
        {
          "output_type": "display_data",
          "data": {
            "image/png": "[encoded data removed]",
            "text/plain": [
              "<Figure size 432x288 with 1 Axes>"
            ]
          },
          "metadata": {
            "tags": [],
            "needs_background": "light"
          }
        }
      ]
    },
    {
      "cell_type": "code",
      "metadata": {
        "id": "yBkMZuqzuT9_"
      },
      "source": [
        "def plot_loss(mae,val_mae):\n",
        "    \"\"\"Plots loss as a function of epoch for validation \n",
        "           and training sets\"\"\"\n",
        "    \n",
        "    plt.figure()\n",
        "    plt.plot(mae)\n",
        "    plt.plot(val_mae)\n",
        "    plt.title('Model loss')\n",
        "    plt.ylabel('Loss')\n",
        "    plt.xlabel('Epoch')\n",
        "    plt.legend(['Train', 'Test'], loc='upper right')\n",
        "    plt.show()"
      ],
      "execution_count": 24,
      "outputs": []
    },
    {
      "cell_type": "code",
      "metadata": {
        "colab": {
          "base_uri": "https://localhost:8080/",
          "height": 295
        },
        "id": "ZpNRVei-ghpQ",
        "outputId": "aac3d944-2cfd-4796-87b6-c7438b046f36"
      },
      "source": [
        "\n",
        "# Plot train vs test loss during training\n",
        "plot_loss(history.history['mae'], history.history['val_mae'])"
      ],
      "execution_count": 25,
      "outputs": [
        {
          "output_type": "display_data",
          "data": {
            "image/png": "[encoded data removed]",
            "text/plain": [
              "<Figure size 432x288 with 1 Axes>"
            ]
          },
          "metadata": {
            "tags": [],
            "needs_background": "light"
          }
        }
      ]
    },
    {
      "cell_type": "code",
      "metadata": {
        "id": "BeQNvnJ1mvTy"
      },
      "source": [
        ""
      ],
      "execution_count": 25,
      "outputs": []
    },
    {
      "cell_type": "markdown",
      "metadata": {
        "id": "gGOaO68dmykv"
      },
      "source": [
        "## Visualize the filters\n",
        "from : https://machinelearningmastery.com/how-to-visualize-filters-and-feature-maps-in-convolutional-neural-networks/"
      ]
    },
    {
      "cell_type": "code",
      "metadata": {
        "colab": {
          "base_uri": "https://localhost:8080/"
        },
        "id": "VH5X20ZGmvQ-",
        "outputId": "3762a034-48d0-4fc3-ab3f-1e859163224b"
      },
      "source": [
        "# summarize filter shapes\n",
        "for layer in cnn2.layers:\n",
        "\t# check for convolutional layer\n",
        "\tif 'conv' not in layer.name:\n",
        "\t\tcontinue\n",
        "\t# get filter weights\n",
        "\tfilters, biases = layer.get_weights()\n",
        "\tprint(layer.name, filters.shape)\n",
        "\n",
        "#output is the name of the layer and the shape of the filter"
      ],
      "execution_count": 26,
      "outputs": [
        {
          "output_type": "stream",
          "text": [
            "conv2d (3, 3, 1, 32)\n",
            "conv2d_1 (3, 3, 32, 64)\n",
            "conv2d_2 (3, 3, 64, 128)\n",
            "conv2d_3 (3, 3, 128, 128)\n"
          ],
          "name": "stdout"
        }
      ]
    },
    {
      "cell_type": "code",
      "metadata": {
        "colab": {
          "base_uri": "https://localhost:8080/",
          "height": 252
        },
        "id": "MW6nMLu3mvOg",
        "outputId": "418cad52-caf3-451a-9cf5-fbb4e5957b84"
      },
      "source": [
        "\n",
        "# plot first few filters\n",
        "n_filters, ix = 6, 1\n",
        "for i in range(n_filters):\n",
        "\t# get the filter\n",
        "\tf = filters[:, :, :, i]\n",
        "\t# plot each channel separately\n",
        "\tfor j in range(3):\n",
        "\t\t# specify subplot and turn of axis\n",
        "\t\tax = plt.subplot(n_filters, 3, ix)\n",
        "\t\tax.set_xticks([])\n",
        "\t\tax.set_yticks([])\n",
        "\t\t# plot filter channel in grayscale\n",
        "\t\tplt.imshow(f[:, :, j], cmap='gray')\n",
        "\t\tix += 1\n",
        "# show the figure\n",
        "plt.show()"
      ],
      "execution_count": 27,
      "outputs": [
        {
          "output_type": "display_data",
          "data": {
            "image/png": "[encoded data removed]",
            "text/plain": [
              "<Figure size 432x288 with 18 Axes>"
            ]
          },
          "metadata": {
            "tags": []
          }
        }
      ]
    },
    {
      "cell_type": "code",
      "metadata": {
        "id": "npjuqXVV3xar"
      },
      "source": [
        ""
      ],
      "execution_count": 27,
      "outputs": []
    },
    {
      "cell_type": "code",
      "metadata": {
        "id": "cDS-JlYo3xXP"
      },
      "source": [
        ""
      ],
      "execution_count": 27,
      "outputs": []
    }
  ]
}