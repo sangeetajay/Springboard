{
  "nbformat": 4,
  "nbformat_minor": 0,
  "metadata": {
    "accelerator": "GPU",
    "colab": {
      "name": "6_AH_modeling_mixedinputs_3.ipynb",
      "provenance": [],
      "collapsed_sections": [
        "D3MS8FuoQY1e",
        "Sh6etZTenNAc",
        "Y_SbdjTVnmhD",
        "KU_-TZZW0Zsm",
        "3SIe31Y5alKc",
        "G-YJt6rGbvYe",
        "3jdej5yWlSr5",
        "Uml586drmrcf",
        "JIq5irELwz3l",
        "BZCpQpj2mBPK",
        "APFnCGaH1HJP",
        "HpfW8auN9m4u",
        "3X7z4F40qLNf",
        "2l4qbZ67WvnW",
        "8RvHwEUFrJ1l",
        "tx0pbkObwMdO",
        "d4GJWI6PwQit",
        "hPi7NZU3wXq8",
        "pOV1O8RgwiCt",
        "DfKbc80xsa3B",
        "gGOaO68dmykv",
        "KUdhfT49hkQg",
        "Qj25nn1fhkQh",
        "pOVqCu5lhkQj",
        "Wso5uj-hjj_4",
        "TqB401fVjyxw",
        "vWdcts2wmpRA",
        "1UBnCLVSmpRB",
        "wSFbjVmRmpRB",
        "RBhMx5WvmpRB",
        "h7iIu0fKmpRD"
      ],
      "include_colab_link": true
    },
    "kernelspec": {
      "display_name": "Python 3",
      "name": "python3"
    },
    "language_info": {
      "name": "python"
    }
  },
  "cells": [
    {
      "cell_type": "markdown",
      "metadata": {
        "id": "view-in-github",
        "colab_type": "text"
      },
      "source": [
        "<a href=\"https://colab.research.google.com/github/sangeetajay/Springboard/blob/master/6_AH_modeling_mixedinputs_3.ipynb\" target=\"_parent\"><img src=\"https://colab.research.google.com/assets/colab-badge.svg\" alt=\"Open In Colab\"/></a>"
      ]
    },
    {
      "cell_type": "markdown",
      "metadata": {
        "id": "J8gOpIOM71i9"
      },
      "source": [
        "# Final Capstone Project:\n",
        "# Predicting House Prices from Zillow Images\n",
        "\n",
        "## Pre-Processing/Modeling Notebook 6:\n",
        "\n",
        "In this notebook, we will utilize both the image data and numerical and categorical features data in the neural network as previously, but this time we will try normalizing the price values, and adding an additional layer in the MLP model, and increasing the kernel size to try to improve performance.\n",
        "\n",
        "Sections:\n",
        "1. Imports\n",
        "2. Prepare Image Data for CNN Model\n",
        "3. Prepare Home Features Data for MLP model\n",
        "4. Data Generator\n",
        "5. Mixed Inputs Model Creation\n",
        "6. Training the Model\n",
        "7. Model Assessment\n",
        "8. Mixed Inputs Model Adjusting: Adding Extra Dense Layer\n",
        "9. Training the modified model\n",
        "10. Model Assessment and Visualizing the filters\n",
        "11. Mixed Inputs Model Adjusting: Increasing Kernel Size\n",
        "12. Training the modified model\n",
        "13. Model Assessment and Visualizing the filters\n",
        "\n"
      ]
    },
    {
      "cell_type": "markdown",
      "metadata": {
        "id": "D3MS8FuoQY1e"
      },
      "source": [
        "## 1. Imports"
      ]
    },
    {
      "cell_type": "code",
      "metadata": {
        "id": "d6k1AEnZgq2y",
        "colab": {
          "base_uri": "https://localhost:8080/",
          "height": 0
        },
        "outputId": "7a44e9c7-62ac-4e0c-e3c9-80ff3edaaccf"
      },
      "source": [
        "import numpy as np\n",
        "import os\n",
        "import matplotlib.pyplot as plt\n",
        "import pandas as pd \n",
        "import seaborn as sns \n",
        "%matplotlib inline\n",
        "\n",
        "import PIL\n",
        "import PIL.Image\n",
        "from sklearn import preprocessing\n",
        "from sklearn.utils import shuffle\n",
        "from sklearn.preprocessing import StandardScaler\n",
        "from sklearn.model_selection import train_test_split\n",
        "from sklearn.metrics import classification_report\n",
        "from skimage.io import imread\n",
        "from skimage.transform import resize\n",
        "import math\n",
        "from IPython.display import display\n",
        "from skimage import io\n",
        "\n",
        "import tensorflow as tf\n",
        "from tensorflow import keras\n",
        "from tensorflow.keras import applications\n",
        "from tensorflow.keras.preprocessing.image import ImageDataGenerator\n",
        "from tensorflow.keras.layers import Concatenate, Dense, Dropout, BatchNormalization, GlobalAveragePooling2D, Flatten, Conv2D, MaxPooling2D\n",
        "from tensorflow.keras.utils import Sequence\n",
        "from tensorflow.keras.layers import Input\n",
        "from tensorflow.keras.models import Model, Sequential\n",
        "# Import the EarlyStopping and ModelCheckpoint callbacks\n",
        "from tensorflow.keras.callbacks import EarlyStopping, ModelCheckpoint\n",
        "\n",
        "\n",
        "\n",
        "tf.__version__"
      ],
      "execution_count": 1,
      "outputs": [
        {
          "output_type": "execute_result",
          "data": {
            "application/vnd.google.colaboratory.intrinsic+json": {
              "type": "string"
            },
            "text/plain": [
              "'2.6.0'"
            ]
          },
          "metadata": {},
          "execution_count": 1
        }
      ]
    },
    {
      "cell_type": "code",
      "metadata": {
        "id": "BDA-glPFpu-F"
      },
      "source": [
        "#!pip install -q tensorflow==2.1\n",
        "#!pip install -q keras==2.3.1\n",
        "#!pip install -q tensorflow-estimator==2.1.\n",
        "#!pip install gast==0.3.2\n",
        "#!pip install tensorflow"
      ],
      "execution_count": 2,
      "outputs": []
    },
    {
      "cell_type": "markdown",
      "metadata": {
        "id": "1jot_1DQVDW7"
      },
      "source": [
        "## 2. Load the Image Data for CNN"
      ]
    },
    {
      "cell_type": "markdown",
      "metadata": {
        "id": "Sh6etZTenNAc"
      },
      "source": [
        "#### 2a. Unzip image files"
      ]
    },
    {
      "cell_type": "code",
      "metadata": {
        "colab": {
          "base_uri": "https://localhost:8080/"
        },
        "id": "x5t1cjTHw5LX",
        "outputId": "5d7fe612-49f2-4646-a74b-f993788361f9"
      },
      "source": [
        "from google.colab import drive\n",
        "drive.mount('/content/drive')"
      ],
      "execution_count": 3,
      "outputs": [
        {
          "output_type": "stream",
          "name": "stdout",
          "text": [
            "Mounted at /content/drive\n"
          ]
        }
      ]
    },
    {
      "cell_type": "code",
      "metadata": {
        "id": "nrKevOx9nzFd"
      },
      "source": [
        "#!unzip /content/drive/MyDrive/ResizedGrayImages.zip"
      ],
      "execution_count": 60,
      "outputs": []
    },
    {
      "cell_type": "markdown",
      "metadata": {
        "id": "Y_SbdjTVnmhD"
      },
      "source": [
        "#### 2b. Load training labels for the images\n",
        "\n",
        "\n"
      ]
    },
    {
      "cell_type": "code",
      "metadata": {
        "colab": {
          "base_uri": "https://localhost:8080/",
          "height": 220
        },
        "id": "WRI-H-Oqgq-w",
        "outputId": "5c755f43-e4fc-4fe9-8fc3-74e7c60a2f41"
      },
      "source": [
        "# load the cleaned dataset with image name and price\n",
        "# these are the 'labels' for the images\n",
        "file = '/content/drive/MyDrive/cleaned_AH_data_v2.csv'\n",
        "train_labels = pd.read_csv(file)\n",
        "# remove the .jpg from the image names\n",
        "train_labels['Image Name'] = train_labels['Image Name'].str.rstrip('.jpg')\n",
        "#check the shape\n",
        "print(train_labels.shape)\n",
        "\n",
        "train_labels.head()"
      ],
      "execution_count": 5,
      "outputs": [
        {
          "output_type": "stream",
          "name": "stdout",
          "text": [
            "(15012, 2)\n"
          ]
        },
        {
          "output_type": "execute_result",
          "data": {
            "text/html": [
              "<div>\n",
              "<style scoped>\n",
              "    .dataframe tbody tr th:only-of-type {\n",
              "        vertical-align: middle;\n",
              "    }\n",
              "\n",
              "    .dataframe tbody tr th {\n",
              "        vertical-align: top;\n",
              "    }\n",
              "\n",
              "    .dataframe thead th {\n",
              "        text-align: right;\n",
              "    }\n",
              "</style>\n",
              "<table border=\"1\" class=\"dataframe\">\n",
              "  <thead>\n",
              "    <tr style=\"text-align: right;\">\n",
              "      <th></th>\n",
              "      <th>Image Name</th>\n",
              "      <th>Price</th>\n",
              "    </tr>\n",
              "  </thead>\n",
              "  <tbody>\n",
              "    <tr>\n",
              "      <th>0</th>\n",
              "      <td>111373431_ffce26843283d3365c11d81b8e6bdc6f-p_f</td>\n",
              "      <td>305000</td>\n",
              "    </tr>\n",
              "    <tr>\n",
              "      <th>1</th>\n",
              "      <td>120900430_8255c127be8dcf0a1a18b7563d987088-p_f</td>\n",
              "      <td>295000</td>\n",
              "    </tr>\n",
              "    <tr>\n",
              "      <th>2</th>\n",
              "      <td>2084491383_a2ad649e1a7a098111dcea084a11c855-p_f</td>\n",
              "      <td>256125</td>\n",
              "    </tr>\n",
              "    <tr>\n",
              "      <th>3</th>\n",
              "      <td>120901374_b469367a619da85b1f5ceb69b675d88e-p_f</td>\n",
              "      <td>240000</td>\n",
              "    </tr>\n",
              "    <tr>\n",
              "      <th>4</th>\n",
              "      <td>60134862_b1a48a3df3f111e005bb913873e98ce2-p_f</td>\n",
              "      <td>239900</td>\n",
              "    </tr>\n",
              "  </tbody>\n",
              "</table>\n",
              "</div>"
            ],
            "text/plain": [
              "                                        Image Name   Price\n",
              "0   111373431_ffce26843283d3365c11d81b8e6bdc6f-p_f  305000\n",
              "1   120900430_8255c127be8dcf0a1a18b7563d987088-p_f  295000\n",
              "2  2084491383_a2ad649e1a7a098111dcea084a11c855-p_f  256125\n",
              "3   120901374_b469367a619da85b1f5ceb69b675d88e-p_f  240000\n",
              "4    60134862_b1a48a3df3f111e005bb913873e98ce2-p_f  239900"
            ]
          },
          "metadata": {},
          "execution_count": 5
        }
      ]
    },
    {
      "cell_type": "markdown",
      "metadata": {
        "id": "KU_-TZZW0Zsm"
      },
      "source": [
        "#### 2c. Write a function to read an image and return a normalized numpy array:\n",
        "\n"
      ]
    },
    {
      "cell_type": "code",
      "metadata": {
        "id": "iOle6qdQ0ecU"
      },
      "source": [
        "\n",
        "#Write function to get a specific image\n",
        "\n",
        "def load_pic(file_name, fig_type='jpg'):\n",
        "\n",
        "    img_path = ('/content/ResizedGrayImages/{}').format(file_name)\n",
        "    img = io.imread(img_path)\n",
        "    #normalize the image by dividing each pixel by 255\n",
        "    img = img/255\n",
        "    return np.reshape(img,[250,300,1]) # reshaping image to fit into generator below"
      ],
      "execution_count": 6,
      "outputs": []
    },
    {
      "cell_type": "code",
      "metadata": {
        "colab": {
          "base_uri": "https://localhost:8080/"
        },
        "id": "RkHSPLMu2vQt",
        "outputId": "506ba1b9-b920-40ed-d901-b36b6b46a32b"
      },
      "source": [
        "#testing the above 'load_image- function on a random image file\n",
        "\n",
        "image = load_pic('110538801_b74a3118da9370a14aa8a5e96d93c27c-p_f.jpg')\n",
        "\n",
        "#plt.imshow(image)\n",
        "print(image.shape) #checking that numpy array is in the correct shape for generator\n",
        "print(image)"
      ],
      "execution_count": 7,
      "outputs": [
        {
          "output_type": "stream",
          "name": "stdout",
          "text": [
            "(250, 300, 1)\n",
            "[[[0.45882353]\n",
            "  [0.7254902 ]\n",
            "  [0.65098039]\n",
            "  ...\n",
            "  [0.4       ]\n",
            "  [0.4       ]\n",
            "  [0.4       ]]\n",
            "\n",
            " [[0.58431373]\n",
            "  [0.54901961]\n",
            "  [0.43529412]\n",
            "  ...\n",
            "  [0.4       ]\n",
            "  [0.4       ]\n",
            "  [0.4       ]]\n",
            "\n",
            " [[0.51764706]\n",
            "  [0.3372549 ]\n",
            "  [0.28627451]\n",
            "  ...\n",
            "  [0.4       ]\n",
            "  [0.4       ]\n",
            "  [0.4       ]]\n",
            "\n",
            " ...\n",
            "\n",
            " [[0.72941176]\n",
            "  [0.76078431]\n",
            "  [0.74509804]\n",
            "  ...\n",
            "  [0.84705882]\n",
            "  [0.85098039]\n",
            "  [0.85882353]]\n",
            "\n",
            " [[0.7372549 ]\n",
            "  [0.70588235]\n",
            "  [0.76470588]\n",
            "  ...\n",
            "  [0.83529412]\n",
            "  [0.83921569]\n",
            "  [0.84705882]]\n",
            "\n",
            " [[0.68235294]\n",
            "  [0.61568627]\n",
            "  [0.69411765]\n",
            "  ...\n",
            "  [0.83529412]\n",
            "  [0.83921569]\n",
            "  [0.84705882]]]\n"
          ]
        }
      ]
    },
    {
      "cell_type": "code",
      "metadata": {
        "colab": {
          "base_uri": "https://localhost:8080/"
        },
        "id": "__bmSHJ0F9rp",
        "outputId": "5ad0d757-1890-445b-d29e-8797b10957e3"
      },
      "source": [
        "# checking the number of image files in the folder, checking the path.\n",
        "APP_FOLDER = '/content/ResizedGrayImages/'\n",
        "totalDir = 0\n",
        "totalFiles = 0\n",
        "for base, dirs, files in os.walk(APP_FOLDER):\n",
        "    print('Searching in : ',base)\n",
        "    for directories in dirs:\n",
        "        totalDir += 1\n",
        "    for Files in files:\n",
        "        totalFiles += 1\n",
        "totalFiles    "
      ],
      "execution_count": 8,
      "outputs": [
        {
          "output_type": "stream",
          "name": "stdout",
          "text": [
            "Searching in :  /content/ResizedGrayImages/\n"
          ]
        },
        {
          "output_type": "execute_result",
          "data": {
            "text/plain": [
              "15172"
            ]
          },
          "metadata": {},
          "execution_count": 8
        }
      ]
    },
    {
      "cell_type": "markdown",
      "metadata": {
        "id": "VeV9PwjgA9I5"
      },
      "source": [
        "#### 2d. Normalize price and create train/test set for generator\n",
        "adapted from https://stanford.edu/~shervine/blog/keras-how-to-generate-data-on-the-fly\n"
      ]
    },
    {
      "cell_type": "code",
      "metadata": {
        "colab": {
          "base_uri": "https://localhost:8080/",
          "height": 202
        },
        "id": "HCGDwTIHrwDy",
        "outputId": "1bedbe33-b301-4df5-fa30-02f012536eb8"
      },
      "source": [
        "train_labels.head() # this is our dataframe of the image name and labels (Price)"
      ],
      "execution_count": 9,
      "outputs": [
        {
          "output_type": "execute_result",
          "data": {
            "text/html": [
              "<div>\n",
              "<style scoped>\n",
              "    .dataframe tbody tr th:only-of-type {\n",
              "        vertical-align: middle;\n",
              "    }\n",
              "\n",
              "    .dataframe tbody tr th {\n",
              "        vertical-align: top;\n",
              "    }\n",
              "\n",
              "    .dataframe thead th {\n",
              "        text-align: right;\n",
              "    }\n",
              "</style>\n",
              "<table border=\"1\" class=\"dataframe\">\n",
              "  <thead>\n",
              "    <tr style=\"text-align: right;\">\n",
              "      <th></th>\n",
              "      <th>Image Name</th>\n",
              "      <th>Price</th>\n",
              "    </tr>\n",
              "  </thead>\n",
              "  <tbody>\n",
              "    <tr>\n",
              "      <th>0</th>\n",
              "      <td>111373431_ffce26843283d3365c11d81b8e6bdc6f-p_f</td>\n",
              "      <td>305000</td>\n",
              "    </tr>\n",
              "    <tr>\n",
              "      <th>1</th>\n",
              "      <td>120900430_8255c127be8dcf0a1a18b7563d987088-p_f</td>\n",
              "      <td>295000</td>\n",
              "    </tr>\n",
              "    <tr>\n",
              "      <th>2</th>\n",
              "      <td>2084491383_a2ad649e1a7a098111dcea084a11c855-p_f</td>\n",
              "      <td>256125</td>\n",
              "    </tr>\n",
              "    <tr>\n",
              "      <th>3</th>\n",
              "      <td>120901374_b469367a619da85b1f5ceb69b675d88e-p_f</td>\n",
              "      <td>240000</td>\n",
              "    </tr>\n",
              "    <tr>\n",
              "      <th>4</th>\n",
              "      <td>60134862_b1a48a3df3f111e005bb913873e98ce2-p_f</td>\n",
              "      <td>239900</td>\n",
              "    </tr>\n",
              "  </tbody>\n",
              "</table>\n",
              "</div>"
            ],
            "text/plain": [
              "                                        Image Name   Price\n",
              "0   111373431_ffce26843283d3365c11d81b8e6bdc6f-p_f  305000\n",
              "1   120900430_8255c127be8dcf0a1a18b7563d987088-p_f  295000\n",
              "2  2084491383_a2ad649e1a7a098111dcea084a11c855-p_f  256125\n",
              "3   120901374_b469367a619da85b1f5ceb69b675d88e-p_f  240000\n",
              "4    60134862_b1a48a3df3f111e005bb913873e98ce2-p_f  239900"
            ]
          },
          "metadata": {},
          "execution_count": 9
        }
      ]
    },
    {
      "cell_type": "markdown",
      "metadata": {
        "id": "3SIe31Y5alKc"
      },
      "source": [
        "##### 2.d.i.\n",
        "Normalizing the Price column"
      ]
    },
    {
      "cell_type": "code",
      "metadata": {
        "colab": {
          "base_uri": "https://localhost:8080/"
        },
        "id": "jjMCcNRnaqyS",
        "outputId": "fb9d26d2-68eb-424b-d582-e405b2d411ee"
      },
      "source": [
        "np.std(train_labels['Price'])"
      ],
      "execution_count": 10,
      "outputs": [
        {
          "output_type": "execute_result",
          "data": {
            "text/plain": [
              "442025.46481788985"
            ]
          },
          "metadata": {},
          "execution_count": 10
        }
      ]
    },
    {
      "cell_type": "code",
      "metadata": {
        "id": "X9E7wLdkajBB"
      },
      "source": [
        "train_labels['Price'] = train_labels['Price'].divide(np.std(train_labels.Price))"
      ],
      "execution_count": 11,
      "outputs": []
    },
    {
      "cell_type": "code",
      "metadata": {
        "colab": {
          "base_uri": "https://localhost:8080/",
          "height": 202
        },
        "id": "KZ26PrJKbFg4",
        "outputId": "f768e3ca-8d4d-4d5c-a481-d97b1161105b"
      },
      "source": [
        "train_labels.head()"
      ],
      "execution_count": 12,
      "outputs": [
        {
          "output_type": "execute_result",
          "data": {
            "text/html": [
              "<div>\n",
              "<style scoped>\n",
              "    .dataframe tbody tr th:only-of-type {\n",
              "        vertical-align: middle;\n",
              "    }\n",
              "\n",
              "    .dataframe tbody tr th {\n",
              "        vertical-align: top;\n",
              "    }\n",
              "\n",
              "    .dataframe thead th {\n",
              "        text-align: right;\n",
              "    }\n",
              "</style>\n",
              "<table border=\"1\" class=\"dataframe\">\n",
              "  <thead>\n",
              "    <tr style=\"text-align: right;\">\n",
              "      <th></th>\n",
              "      <th>Image Name</th>\n",
              "      <th>Price</th>\n",
              "    </tr>\n",
              "  </thead>\n",
              "  <tbody>\n",
              "    <tr>\n",
              "      <th>0</th>\n",
              "      <td>111373431_ffce26843283d3365c11d81b8e6bdc6f-p_f</td>\n",
              "      <td>0.690005</td>\n",
              "    </tr>\n",
              "    <tr>\n",
              "      <th>1</th>\n",
              "      <td>120900430_8255c127be8dcf0a1a18b7563d987088-p_f</td>\n",
              "      <td>0.667382</td>\n",
              "    </tr>\n",
              "    <tr>\n",
              "      <th>2</th>\n",
              "      <td>2084491383_a2ad649e1a7a098111dcea084a11c855-p_f</td>\n",
              "      <td>0.579435</td>\n",
              "    </tr>\n",
              "    <tr>\n",
              "      <th>3</th>\n",
              "      <td>120901374_b469367a619da85b1f5ceb69b675d88e-p_f</td>\n",
              "      <td>0.542955</td>\n",
              "    </tr>\n",
              "    <tr>\n",
              "      <th>4</th>\n",
              "      <td>60134862_b1a48a3df3f111e005bb913873e98ce2-p_f</td>\n",
              "      <td>0.542729</td>\n",
              "    </tr>\n",
              "  </tbody>\n",
              "</table>\n",
              "</div>"
            ],
            "text/plain": [
              "                                        Image Name     Price\n",
              "0   111373431_ffce26843283d3365c11d81b8e6bdc6f-p_f  0.690005\n",
              "1   120900430_8255c127be8dcf0a1a18b7563d987088-p_f  0.667382\n",
              "2  2084491383_a2ad649e1a7a098111dcea084a11c855-p_f  0.579435\n",
              "3   120901374_b469367a619da85b1f5ceb69b675d88e-p_f  0.542955\n",
              "4    60134862_b1a48a3df3f111e005bb913873e98ce2-p_f  0.542729"
            ]
          },
          "metadata": {},
          "execution_count": 12
        }
      ]
    },
    {
      "cell_type": "code",
      "metadata": {
        "colab": {
          "base_uri": "https://localhost:8080/"
        },
        "id": "MoSwY73niH8j",
        "outputId": "39e1f95b-9d11-4dba-b483-bb6839a08774"
      },
      "source": [
        "train_labels.Price.describe()"
      ],
      "execution_count": 13,
      "outputs": [
        {
          "output_type": "execute_result",
          "data": {
            "text/plain": [
              "count    15012.000000\n",
              "mean         1.159693\n",
              "std          1.000033\n",
              "min          0.158362\n",
              "25%          0.699131\n",
              "50%          0.916237\n",
              "75%          1.300830\n",
              "max         30.541227\n",
              "Name: Price, dtype: float64"
            ]
          },
          "metadata": {},
          "execution_count": 13
        }
      ]
    },
    {
      "cell_type": "markdown",
      "metadata": {
        "id": "G-YJt6rGbvYe"
      },
      "source": [
        "##### 2.d.ii. Train-Test Split with Normalized Price"
      ]
    },
    {
      "cell_type": "code",
      "metadata": {
        "id": "4YTYjdvPzDgQ"
      },
      "source": [
        "# create a lookup dictionary called labels\n",
        "labels_df = train_labels['Price']\n",
        "labels_df.index = train_labels['Image Name']\n",
        "\n",
        "#Create a lookup dictionary containing the labels for each image sample, we will use this on our data generator object\n",
        "\n",
        "labels = labels_df.to_dict(into=dict)"
      ],
      "execution_count": 14,
      "outputs": []
    },
    {
      "cell_type": "code",
      "metadata": {
        "id": "rNT_b9wsykDV"
      },
      "source": [
        "#Create an empty dictionary called partition where you gather train and test sets:\n",
        "\n",
        "partition = {}\n",
        "\n",
        "# randomly create train and test parts\n",
        "train_part = train_labels.sample(frac=0.8,random_state=200) #random state is a seed value\n",
        "test_part = train_labels.drop(train_part.index)\n",
        "\n",
        "# add these to the dictionary:\n",
        "# in partition['train'] a list of training IDs\n",
        "partition['train'] = list(train_part['Image Name'])\n",
        "\n",
        "# in partition['validation'] a list of validation IDs\n",
        "partition['validation'] = list(test_part['Image Name'])\n",
        "\n"
      ],
      "execution_count": 15,
      "outputs": []
    },
    {
      "cell_type": "code",
      "metadata": {
        "colab": {
          "base_uri": "https://localhost:8080/"
        },
        "id": "0UXr5tpepKhn",
        "outputId": "8b5163e3-7b5c-49de-9706-8d489bd1652d"
      },
      "source": [
        "# checking what we did: created a test set and a validation set \n",
        "print(type(partition['train']))\n",
        "print(type(partition['validation']))\n",
        "print(len(partition['train']))\n",
        "print(len(partition['validation']))\n"
      ],
      "execution_count": 16,
      "outputs": [
        {
          "output_type": "stream",
          "name": "stdout",
          "text": [
            "<class 'list'>\n",
            "<class 'list'>\n",
            "12010\n",
            "3002\n"
          ]
        }
      ]
    },
    {
      "cell_type": "markdown",
      "metadata": {
        "id": "3jdej5yWlSr5"
      },
      "source": [
        "## 3. Load the features data for MLP model:"
      ]
    },
    {
      "cell_type": "markdown",
      "metadata": {
        "id": "Uml586drmrcf"
      },
      "source": [
        "#### 3a. Load dataset and final cleaning"
      ]
    },
    {
      "cell_type": "code",
      "metadata": {
        "colab": {
          "base_uri": "https://localhost:8080/",
          "height": 0
        },
        "id": "FSu_I0AtlURL",
        "outputId": "77f87d2f-6bd9-4738-d065-acfe5b88df07"
      },
      "source": [
        "# load the cleaned dataset with the features\n",
        "\n",
        "file = '/content/drive/MyDrive/cleaned_features_data_v1.csv'\n",
        "features = pd.read_csv(file)\n",
        "\n",
        "features.head()\n"
      ],
      "execution_count": 17,
      "outputs": [
        {
          "output_type": "execute_result",
          "data": {
            "text/html": [
              "<div>\n",
              "<style scoped>\n",
              "    .dataframe tbody tr th:only-of-type {\n",
              "        vertical-align: middle;\n",
              "    }\n",
              "\n",
              "    .dataframe tbody tr th {\n",
              "        vertical-align: top;\n",
              "    }\n",
              "\n",
              "    .dataframe thead th {\n",
              "        text-align: right;\n",
              "    }\n",
              "</style>\n",
              "<table border=\"1\" class=\"dataframe\">\n",
              "  <thead>\n",
              "    <tr style=\"text-align: right;\">\n",
              "      <th></th>\n",
              "      <th>Price</th>\n",
              "      <th>Image Name</th>\n",
              "      <th>zipcode</th>\n",
              "      <th>longitude</th>\n",
              "      <th>livingAreaSqFt</th>\n",
              "      <th>numOfBathrooms</th>\n",
              "      <th>numOfBedrooms</th>\n",
              "      <th>numOfPrimarySchools</th>\n",
              "      <th>numOfHighSchools</th>\n",
              "      <th>avgSchoolRating</th>\n",
              "    </tr>\n",
              "  </thead>\n",
              "  <tbody>\n",
              "    <tr>\n",
              "      <th>0</th>\n",
              "      <td>305000</td>\n",
              "      <td>111373431_ffce26843283d3365c11d81b8e6bdc6f-p_f</td>\n",
              "      <td>78660</td>\n",
              "      <td>-97.663078</td>\n",
              "      <td>2601.0</td>\n",
              "      <td>3.0</td>\n",
              "      <td>4</td>\n",
              "      <td>1</td>\n",
              "      <td>1</td>\n",
              "      <td>2.666667</td>\n",
              "    </tr>\n",
              "    <tr>\n",
              "      <th>1</th>\n",
              "      <td>295000</td>\n",
              "      <td>120900430_8255c127be8dcf0a1a18b7563d987088-p_f</td>\n",
              "      <td>78660</td>\n",
              "      <td>-97.661697</td>\n",
              "      <td>1768.0</td>\n",
              "      <td>2.0</td>\n",
              "      <td>4</td>\n",
              "      <td>1</td>\n",
              "      <td>1</td>\n",
              "      <td>2.666667</td>\n",
              "    </tr>\n",
              "    <tr>\n",
              "      <th>2</th>\n",
              "      <td>256125</td>\n",
              "      <td>2084491383_a2ad649e1a7a098111dcea084a11c855-p_f</td>\n",
              "      <td>78660</td>\n",
              "      <td>-97.639771</td>\n",
              "      <td>1478.0</td>\n",
              "      <td>2.0</td>\n",
              "      <td>3</td>\n",
              "      <td>0</td>\n",
              "      <td>1</td>\n",
              "      <td>3.000000</td>\n",
              "    </tr>\n",
              "    <tr>\n",
              "      <th>3</th>\n",
              "      <td>240000</td>\n",
              "      <td>120901374_b469367a619da85b1f5ceb69b675d88e-p_f</td>\n",
              "      <td>78660</td>\n",
              "      <td>-97.661659</td>\n",
              "      <td>1678.0</td>\n",
              "      <td>2.0</td>\n",
              "      <td>3</td>\n",
              "      <td>1</td>\n",
              "      <td>1</td>\n",
              "      <td>2.666667</td>\n",
              "    </tr>\n",
              "    <tr>\n",
              "      <th>4</th>\n",
              "      <td>239900</td>\n",
              "      <td>60134862_b1a48a3df3f111e005bb913873e98ce2-p_f</td>\n",
              "      <td>78660</td>\n",
              "      <td>-97.656860</td>\n",
              "      <td>2132.0</td>\n",
              "      <td>3.0</td>\n",
              "      <td>3</td>\n",
              "      <td>1</td>\n",
              "      <td>1</td>\n",
              "      <td>4.000000</td>\n",
              "    </tr>\n",
              "  </tbody>\n",
              "</table>\n",
              "</div>"
            ],
            "text/plain": [
              "    Price  ... avgSchoolRating\n",
              "0  305000  ...        2.666667\n",
              "1  295000  ...        2.666667\n",
              "2  256125  ...        3.000000\n",
              "3  240000  ...        2.666667\n",
              "4  239900  ...        4.000000\n",
              "\n",
              "[5 rows x 10 columns]"
            ]
          },
          "metadata": {},
          "execution_count": 17
        }
      ]
    },
    {
      "cell_type": "code",
      "metadata": {
        "colab": {
          "base_uri": "https://localhost:8080/"
        },
        "id": "u8z3Ni5_lUO_",
        "outputId": "a7315564-240b-4cac-f204-6032deaca411"
      },
      "source": [
        "# getting the names of the columns\n",
        "features.columns"
      ],
      "execution_count": 18,
      "outputs": [
        {
          "output_type": "execute_result",
          "data": {
            "text/plain": [
              "Index(['Price', 'Image Name', 'zipcode', 'longitude', 'livingAreaSqFt',\n",
              "       'numOfBathrooms', 'numOfBedrooms', 'numOfPrimarySchools',\n",
              "       'numOfHighSchools', 'avgSchoolRating'],\n",
              "      dtype='object')"
            ]
          },
          "metadata": {},
          "execution_count": 18
        }
      ]
    },
    {
      "cell_type": "code",
      "metadata": {
        "id": "r_1GRFhL67Wo"
      },
      "source": [
        "# dropping price column because we already have price in the training_labels df\n",
        "# dropping longitude because it is similar to zipcode and the negative values may throw off model\n",
        "features = features.drop(columns=['Price','longitude'], axis=1) "
      ],
      "execution_count": 19,
      "outputs": []
    },
    {
      "cell_type": "code",
      "metadata": {
        "colab": {
          "base_uri": "https://localhost:8080/"
        },
        "id": "-EjcWdZ-ly8h",
        "outputId": "4455778f-149f-4f9b-848d-f15c6ecd192e"
      },
      "source": [
        "features.info() # checking the types of the columns"
      ],
      "execution_count": 20,
      "outputs": [
        {
          "output_type": "stream",
          "name": "stdout",
          "text": [
            "<class 'pandas.core.frame.DataFrame'>\n",
            "RangeIndex: 15012 entries, 0 to 15011\n",
            "Data columns (total 8 columns):\n",
            " #   Column               Non-Null Count  Dtype  \n",
            "---  ------               --------------  -----  \n",
            " 0   Image Name           15012 non-null  object \n",
            " 1   zipcode              15012 non-null  int64  \n",
            " 2   livingAreaSqFt       15012 non-null  float64\n",
            " 3   numOfBathrooms       15012 non-null  float64\n",
            " 4   numOfBedrooms        15012 non-null  int64  \n",
            " 5   numOfPrimarySchools  15012 non-null  int64  \n",
            " 6   numOfHighSchools     15012 non-null  int64  \n",
            " 7   avgSchoolRating      15012 non-null  float64\n",
            "dtypes: float64(3), int64(4), object(1)\n",
            "memory usage: 938.4+ KB\n"
          ]
        }
      ]
    },
    {
      "cell_type": "code",
      "metadata": {
        "colab": {
          "base_uri": "https://localhost:8080/"
        },
        "id": "lTzyxvGol0eN",
        "outputId": "6429880e-c989-4345-f65b-69d17100331a"
      },
      "source": [
        " # we need to convert zipcode to a string so we can make dummy variables\n",
        "features['zipcode'] = features['zipcode'].astype(str)\n",
        "features.info()"
      ],
      "execution_count": 21,
      "outputs": [
        {
          "output_type": "stream",
          "name": "stdout",
          "text": [
            "<class 'pandas.core.frame.DataFrame'>\n",
            "RangeIndex: 15012 entries, 0 to 15011\n",
            "Data columns (total 8 columns):\n",
            " #   Column               Non-Null Count  Dtype  \n",
            "---  ------               --------------  -----  \n",
            " 0   Image Name           15012 non-null  object \n",
            " 1   zipcode              15012 non-null  object \n",
            " 2   livingAreaSqFt       15012 non-null  float64\n",
            " 3   numOfBathrooms       15012 non-null  float64\n",
            " 4   numOfBedrooms        15012 non-null  int64  \n",
            " 5   numOfPrimarySchools  15012 non-null  int64  \n",
            " 6   numOfHighSchools     15012 non-null  int64  \n",
            " 7   avgSchoolRating      15012 non-null  float64\n",
            "dtypes: float64(3), int64(3), object(2)\n",
            "memory usage: 938.4+ KB\n"
          ]
        }
      ]
    },
    {
      "cell_type": "code",
      "metadata": {
        "colab": {
          "base_uri": "https://localhost:8080/"
        },
        "id": "HfGyl_NH5KfX",
        "outputId": "d849c29c-a9c0-4d78-ea06-06dd4ea8e547"
      },
      "source": [
        "# testing this code for use in the generator\n",
        "\n",
        "features[features['Image Name']=='111373431_ffce26843283d3365c11d81b8e6bdc6f-p_f'].iloc[0].drop('Image Name')"
      ],
      "execution_count": 22,
      "outputs": [
        {
          "output_type": "execute_result",
          "data": {
            "text/plain": [
              "zipcode                  78660\n",
              "livingAreaSqFt            2601\n",
              "numOfBathrooms               3\n",
              "numOfBedrooms                4\n",
              "numOfPrimarySchools          1\n",
              "numOfHighSchools             1\n",
              "avgSchoolRating        2.66667\n",
              "Name: 0, dtype: object"
            ]
          },
          "metadata": {},
          "execution_count": 22
        }
      ]
    },
    {
      "cell_type": "markdown",
      "metadata": {
        "id": "JIq5irELwz3l"
      },
      "source": [
        "#### 3b. Normalize the livingAreaSqFt "
      ]
    },
    {
      "cell_type": "code",
      "metadata": {
        "colab": {
          "base_uri": "https://localhost:8080/"
        },
        "id": "Uz1qsR3hwExh",
        "outputId": "844bdaf7-594d-4fe7-a19b-d2b49f937d94"
      },
      "source": [
        "np.std(features.livingAreaSqFt)"
      ],
      "execution_count": 23,
      "outputs": [
        {
          "output_type": "execute_result",
          "data": {
            "text/plain": [
              "1023.8335395376241"
            ]
          },
          "metadata": {},
          "execution_count": 23
        }
      ]
    },
    {
      "cell_type": "code",
      "metadata": {
        "id": "JHxw76m1Wdz6"
      },
      "source": [
        "#normalize the living area square ft by diving by the standard deviation\n",
        "features['livingAreaSqFt'] = features['livingAreaSqFt'].divide(np.std(features.livingAreaSqFt))"
      ],
      "execution_count": 24,
      "outputs": []
    },
    {
      "cell_type": "code",
      "metadata": {
        "colab": {
          "base_uri": "https://localhost:8080/"
        },
        "id": "5LfphARxv-d7",
        "outputId": "e5fbc989-6b67-4129-bb1c-d224765a9052"
      },
      "source": [
        "np.std(features.livingAreaSqFt)"
      ],
      "execution_count": 25,
      "outputs": [
        {
          "output_type": "execute_result",
          "data": {
            "text/plain": [
              "1.0000000000000067"
            ]
          },
          "metadata": {},
          "execution_count": 25
        }
      ]
    },
    {
      "cell_type": "code",
      "metadata": {
        "colab": {
          "base_uri": "https://localhost:8080/",
          "height": 0
        },
        "id": "ZKTTXvm0W92t",
        "outputId": "da8ded78-fc09-483e-c53c-2aee1ce8e0e1"
      },
      "source": [
        "features.head()"
      ],
      "execution_count": 26,
      "outputs": [
        {
          "output_type": "execute_result",
          "data": {
            "text/html": [
              "<div>\n",
              "<style scoped>\n",
              "    .dataframe tbody tr th:only-of-type {\n",
              "        vertical-align: middle;\n",
              "    }\n",
              "\n",
              "    .dataframe tbody tr th {\n",
              "        vertical-align: top;\n",
              "    }\n",
              "\n",
              "    .dataframe thead th {\n",
              "        text-align: right;\n",
              "    }\n",
              "</style>\n",
              "<table border=\"1\" class=\"dataframe\">\n",
              "  <thead>\n",
              "    <tr style=\"text-align: right;\">\n",
              "      <th></th>\n",
              "      <th>Image Name</th>\n",
              "      <th>zipcode</th>\n",
              "      <th>livingAreaSqFt</th>\n",
              "      <th>numOfBathrooms</th>\n",
              "      <th>numOfBedrooms</th>\n",
              "      <th>numOfPrimarySchools</th>\n",
              "      <th>numOfHighSchools</th>\n",
              "      <th>avgSchoolRating</th>\n",
              "    </tr>\n",
              "  </thead>\n",
              "  <tbody>\n",
              "    <tr>\n",
              "      <th>0</th>\n",
              "      <td>111373431_ffce26843283d3365c11d81b8e6bdc6f-p_f</td>\n",
              "      <td>78660</td>\n",
              "      <td>2.540452</td>\n",
              "      <td>3.0</td>\n",
              "      <td>4</td>\n",
              "      <td>1</td>\n",
              "      <td>1</td>\n",
              "      <td>2.666667</td>\n",
              "    </tr>\n",
              "    <tr>\n",
              "      <th>1</th>\n",
              "      <td>120900430_8255c127be8dcf0a1a18b7563d987088-p_f</td>\n",
              "      <td>78660</td>\n",
              "      <td>1.726843</td>\n",
              "      <td>2.0</td>\n",
              "      <td>4</td>\n",
              "      <td>1</td>\n",
              "      <td>1</td>\n",
              "      <td>2.666667</td>\n",
              "    </tr>\n",
              "    <tr>\n",
              "      <th>2</th>\n",
              "      <td>2084491383_a2ad649e1a7a098111dcea084a11c855-p_f</td>\n",
              "      <td>78660</td>\n",
              "      <td>1.443594</td>\n",
              "      <td>2.0</td>\n",
              "      <td>3</td>\n",
              "      <td>0</td>\n",
              "      <td>1</td>\n",
              "      <td>3.000000</td>\n",
              "    </tr>\n",
              "    <tr>\n",
              "      <th>3</th>\n",
              "      <td>120901374_b469367a619da85b1f5ceb69b675d88e-p_f</td>\n",
              "      <td>78660</td>\n",
              "      <td>1.638938</td>\n",
              "      <td>2.0</td>\n",
              "      <td>3</td>\n",
              "      <td>1</td>\n",
              "      <td>1</td>\n",
              "      <td>2.666667</td>\n",
              "    </tr>\n",
              "    <tr>\n",
              "      <th>4</th>\n",
              "      <td>60134862_b1a48a3df3f111e005bb913873e98ce2-p_f</td>\n",
              "      <td>78660</td>\n",
              "      <td>2.082370</td>\n",
              "      <td>3.0</td>\n",
              "      <td>3</td>\n",
              "      <td>1</td>\n",
              "      <td>1</td>\n",
              "      <td>4.000000</td>\n",
              "    </tr>\n",
              "  </tbody>\n",
              "</table>\n",
              "</div>"
            ],
            "text/plain": [
              "                                        Image Name  ... avgSchoolRating\n",
              "0   111373431_ffce26843283d3365c11d81b8e6bdc6f-p_f  ...        2.666667\n",
              "1   120900430_8255c127be8dcf0a1a18b7563d987088-p_f  ...        2.666667\n",
              "2  2084491383_a2ad649e1a7a098111dcea084a11c855-p_f  ...        3.000000\n",
              "3   120901374_b469367a619da85b1f5ceb69b675d88e-p_f  ...        2.666667\n",
              "4    60134862_b1a48a3df3f111e005bb913873e98ce2-p_f  ...        4.000000\n",
              "\n",
              "[5 rows x 8 columns]"
            ]
          },
          "metadata": {},
          "execution_count": 26
        }
      ]
    },
    {
      "cell_type": "markdown",
      "metadata": {
        "id": "BZCpQpj2mBPK"
      },
      "source": [
        "#### 3c. Create Dummy Variables for Categorical Features (Zipcode)"
      ]
    },
    {
      "cell_type": "code",
      "metadata": {
        "colab": {
          "base_uri": "https://localhost:8080/"
        },
        "id": "1TiReBxS7ki6",
        "outputId": "2f8a9746-71de-4630-caf1-4c54f1e6cba0"
      },
      "source": [
        "# get the names of all the columns\n",
        "features.columns"
      ],
      "execution_count": 27,
      "outputs": [
        {
          "output_type": "execute_result",
          "data": {
            "text/plain": [
              "Index(['Image Name', 'zipcode', 'livingAreaSqFt', 'numOfBathrooms',\n",
              "       'numOfBedrooms', 'numOfPrimarySchools', 'numOfHighSchools',\n",
              "       'avgSchoolRating'],\n",
              "      dtype='object')"
            ]
          },
          "metadata": {},
          "execution_count": 27
        }
      ]
    },
    {
      "cell_type": "code",
      "metadata": {
        "id": "i17EPJqHmDCk"
      },
      "source": [
        "# make a df of dummy variables for the zipcode column\n",
        "dummies = pd.get_dummies(features.zipcode, prefix='Zipcode_')"
      ],
      "execution_count": 28,
      "outputs": []
    },
    {
      "cell_type": "code",
      "metadata": {
        "colab": {
          "base_uri": "https://localhost:8080/",
          "height": 0
        },
        "id": "mZ4hFXTx-5I8",
        "outputId": "6bda0579-5777-444b-b5c4-f935504047f3"
      },
      "source": [
        "# checking the dummies for zipcode\n",
        "dummies "
      ],
      "execution_count": 29,
      "outputs": [
        {
          "output_type": "execute_result",
          "data": {
            "text/html": [
              "<div>\n",
              "<style scoped>\n",
              "    .dataframe tbody tr th:only-of-type {\n",
              "        vertical-align: middle;\n",
              "    }\n",
              "\n",
              "    .dataframe tbody tr th {\n",
              "        vertical-align: top;\n",
              "    }\n",
              "\n",
              "    .dataframe thead th {\n",
              "        text-align: right;\n",
              "    }\n",
              "</style>\n",
              "<table border=\"1\" class=\"dataframe\">\n",
              "  <thead>\n",
              "    <tr style=\"text-align: right;\">\n",
              "      <th></th>\n",
              "      <th>Zipcode__78617</th>\n",
              "      <th>Zipcode__78619</th>\n",
              "      <th>Zipcode__78652</th>\n",
              "      <th>Zipcode__78653</th>\n",
              "      <th>Zipcode__78660</th>\n",
              "      <th>Zipcode__78701</th>\n",
              "      <th>Zipcode__78702</th>\n",
              "      <th>Zipcode__78703</th>\n",
              "      <th>Zipcode__78704</th>\n",
              "      <th>Zipcode__78705</th>\n",
              "      <th>Zipcode__78717</th>\n",
              "      <th>Zipcode__78719</th>\n",
              "      <th>Zipcode__78721</th>\n",
              "      <th>Zipcode__78722</th>\n",
              "      <th>Zipcode__78723</th>\n",
              "      <th>Zipcode__78724</th>\n",
              "      <th>Zipcode__78725</th>\n",
              "      <th>Zipcode__78726</th>\n",
              "      <th>Zipcode__78727</th>\n",
              "      <th>Zipcode__78728</th>\n",
              "      <th>Zipcode__78729</th>\n",
              "      <th>Zipcode__78730</th>\n",
              "      <th>Zipcode__78731</th>\n",
              "      <th>Zipcode__78732</th>\n",
              "      <th>Zipcode__78733</th>\n",
              "      <th>Zipcode__78734</th>\n",
              "      <th>Zipcode__78735</th>\n",
              "      <th>Zipcode__78736</th>\n",
              "      <th>Zipcode__78737</th>\n",
              "      <th>Zipcode__78738</th>\n",
              "      <th>Zipcode__78739</th>\n",
              "      <th>Zipcode__78741</th>\n",
              "      <th>Zipcode__78742</th>\n",
              "      <th>Zipcode__78744</th>\n",
              "      <th>Zipcode__78745</th>\n",
              "      <th>Zipcode__78746</th>\n",
              "      <th>Zipcode__78747</th>\n",
              "      <th>Zipcode__78748</th>\n",
              "      <th>Zipcode__78749</th>\n",
              "      <th>Zipcode__78750</th>\n",
              "      <th>Zipcode__78751</th>\n",
              "      <th>Zipcode__78752</th>\n",
              "      <th>Zipcode__78753</th>\n",
              "      <th>Zipcode__78754</th>\n",
              "      <th>Zipcode__78756</th>\n",
              "      <th>Zipcode__78757</th>\n",
              "      <th>Zipcode__78758</th>\n",
              "      <th>Zipcode__78759</th>\n",
              "    </tr>\n",
              "  </thead>\n",
              "  <tbody>\n",
              "    <tr>\n",
              "      <th>0</th>\n",
              "      <td>0</td>\n",
              "      <td>0</td>\n",
              "      <td>0</td>\n",
              "      <td>0</td>\n",
              "      <td>1</td>\n",
              "      <td>0</td>\n",
              "      <td>0</td>\n",
              "      <td>0</td>\n",
              "      <td>0</td>\n",
              "      <td>0</td>\n",
              "      <td>0</td>\n",
              "      <td>0</td>\n",
              "      <td>0</td>\n",
              "      <td>0</td>\n",
              "      <td>0</td>\n",
              "      <td>0</td>\n",
              "      <td>0</td>\n",
              "      <td>0</td>\n",
              "      <td>0</td>\n",
              "      <td>0</td>\n",
              "      <td>0</td>\n",
              "      <td>0</td>\n",
              "      <td>0</td>\n",
              "      <td>0</td>\n",
              "      <td>0</td>\n",
              "      <td>0</td>\n",
              "      <td>0</td>\n",
              "      <td>0</td>\n",
              "      <td>0</td>\n",
              "      <td>0</td>\n",
              "      <td>0</td>\n",
              "      <td>0</td>\n",
              "      <td>0</td>\n",
              "      <td>0</td>\n",
              "      <td>0</td>\n",
              "      <td>0</td>\n",
              "      <td>0</td>\n",
              "      <td>0</td>\n",
              "      <td>0</td>\n",
              "      <td>0</td>\n",
              "      <td>0</td>\n",
              "      <td>0</td>\n",
              "      <td>0</td>\n",
              "      <td>0</td>\n",
              "      <td>0</td>\n",
              "      <td>0</td>\n",
              "      <td>0</td>\n",
              "      <td>0</td>\n",
              "    </tr>\n",
              "    <tr>\n",
              "      <th>1</th>\n",
              "      <td>0</td>\n",
              "      <td>0</td>\n",
              "      <td>0</td>\n",
              "      <td>0</td>\n",
              "      <td>1</td>\n",
              "      <td>0</td>\n",
              "      <td>0</td>\n",
              "      <td>0</td>\n",
              "      <td>0</td>\n",
              "      <td>0</td>\n",
              "      <td>0</td>\n",
              "      <td>0</td>\n",
              "      <td>0</td>\n",
              "      <td>0</td>\n",
              "      <td>0</td>\n",
              "      <td>0</td>\n",
              "      <td>0</td>\n",
              "      <td>0</td>\n",
              "      <td>0</td>\n",
              "      <td>0</td>\n",
              "      <td>0</td>\n",
              "      <td>0</td>\n",
              "      <td>0</td>\n",
              "      <td>0</td>\n",
              "      <td>0</td>\n",
              "      <td>0</td>\n",
              "      <td>0</td>\n",
              "      <td>0</td>\n",
              "      <td>0</td>\n",
              "      <td>0</td>\n",
              "      <td>0</td>\n",
              "      <td>0</td>\n",
              "      <td>0</td>\n",
              "      <td>0</td>\n",
              "      <td>0</td>\n",
              "      <td>0</td>\n",
              "      <td>0</td>\n",
              "      <td>0</td>\n",
              "      <td>0</td>\n",
              "      <td>0</td>\n",
              "      <td>0</td>\n",
              "      <td>0</td>\n",
              "      <td>0</td>\n",
              "      <td>0</td>\n",
              "      <td>0</td>\n",
              "      <td>0</td>\n",
              "      <td>0</td>\n",
              "      <td>0</td>\n",
              "    </tr>\n",
              "    <tr>\n",
              "      <th>2</th>\n",
              "      <td>0</td>\n",
              "      <td>0</td>\n",
              "      <td>0</td>\n",
              "      <td>0</td>\n",
              "      <td>1</td>\n",
              "      <td>0</td>\n",
              "      <td>0</td>\n",
              "      <td>0</td>\n",
              "      <td>0</td>\n",
              "      <td>0</td>\n",
              "      <td>0</td>\n",
              "      <td>0</td>\n",
              "      <td>0</td>\n",
              "      <td>0</td>\n",
              "      <td>0</td>\n",
              "      <td>0</td>\n",
              "      <td>0</td>\n",
              "      <td>0</td>\n",
              "      <td>0</td>\n",
              "      <td>0</td>\n",
              "      <td>0</td>\n",
              "      <td>0</td>\n",
              "      <td>0</td>\n",
              "      <td>0</td>\n",
              "      <td>0</td>\n",
              "      <td>0</td>\n",
              "      <td>0</td>\n",
              "      <td>0</td>\n",
              "      <td>0</td>\n",
              "      <td>0</td>\n",
              "      <td>0</td>\n",
              "      <td>0</td>\n",
              "      <td>0</td>\n",
              "      <td>0</td>\n",
              "      <td>0</td>\n",
              "      <td>0</td>\n",
              "      <td>0</td>\n",
              "      <td>0</td>\n",
              "      <td>0</td>\n",
              "      <td>0</td>\n",
              "      <td>0</td>\n",
              "      <td>0</td>\n",
              "      <td>0</td>\n",
              "      <td>0</td>\n",
              "      <td>0</td>\n",
              "      <td>0</td>\n",
              "      <td>0</td>\n",
              "      <td>0</td>\n",
              "    </tr>\n",
              "    <tr>\n",
              "      <th>3</th>\n",
              "      <td>0</td>\n",
              "      <td>0</td>\n",
              "      <td>0</td>\n",
              "      <td>0</td>\n",
              "      <td>1</td>\n",
              "      <td>0</td>\n",
              "      <td>0</td>\n",
              "      <td>0</td>\n",
              "      <td>0</td>\n",
              "      <td>0</td>\n",
              "      <td>0</td>\n",
              "      <td>0</td>\n",
              "      <td>0</td>\n",
              "      <td>0</td>\n",
              "      <td>0</td>\n",
              "      <td>0</td>\n",
              "      <td>0</td>\n",
              "      <td>0</td>\n",
              "      <td>0</td>\n",
              "      <td>0</td>\n",
              "      <td>0</td>\n",
              "      <td>0</td>\n",
              "      <td>0</td>\n",
              "      <td>0</td>\n",
              "      <td>0</td>\n",
              "      <td>0</td>\n",
              "      <td>0</td>\n",
              "      <td>0</td>\n",
              "      <td>0</td>\n",
              "      <td>0</td>\n",
              "      <td>0</td>\n",
              "      <td>0</td>\n",
              "      <td>0</td>\n",
              "      <td>0</td>\n",
              "      <td>0</td>\n",
              "      <td>0</td>\n",
              "      <td>0</td>\n",
              "      <td>0</td>\n",
              "      <td>0</td>\n",
              "      <td>0</td>\n",
              "      <td>0</td>\n",
              "      <td>0</td>\n",
              "      <td>0</td>\n",
              "      <td>0</td>\n",
              "      <td>0</td>\n",
              "      <td>0</td>\n",
              "      <td>0</td>\n",
              "      <td>0</td>\n",
              "    </tr>\n",
              "    <tr>\n",
              "      <th>4</th>\n",
              "      <td>0</td>\n",
              "      <td>0</td>\n",
              "      <td>0</td>\n",
              "      <td>0</td>\n",
              "      <td>1</td>\n",
              "      <td>0</td>\n",
              "      <td>0</td>\n",
              "      <td>0</td>\n",
              "      <td>0</td>\n",
              "      <td>0</td>\n",
              "      <td>0</td>\n",
              "      <td>0</td>\n",
              "      <td>0</td>\n",
              "      <td>0</td>\n",
              "      <td>0</td>\n",
              "      <td>0</td>\n",
              "      <td>0</td>\n",
              "      <td>0</td>\n",
              "      <td>0</td>\n",
              "      <td>0</td>\n",
              "      <td>0</td>\n",
              "      <td>0</td>\n",
              "      <td>0</td>\n",
              "      <td>0</td>\n",
              "      <td>0</td>\n",
              "      <td>0</td>\n",
              "      <td>0</td>\n",
              "      <td>0</td>\n",
              "      <td>0</td>\n",
              "      <td>0</td>\n",
              "      <td>0</td>\n",
              "      <td>0</td>\n",
              "      <td>0</td>\n",
              "      <td>0</td>\n",
              "      <td>0</td>\n",
              "      <td>0</td>\n",
              "      <td>0</td>\n",
              "      <td>0</td>\n",
              "      <td>0</td>\n",
              "      <td>0</td>\n",
              "      <td>0</td>\n",
              "      <td>0</td>\n",
              "      <td>0</td>\n",
              "      <td>0</td>\n",
              "      <td>0</td>\n",
              "      <td>0</td>\n",
              "      <td>0</td>\n",
              "      <td>0</td>\n",
              "    </tr>\n",
              "    <tr>\n",
              "      <th>...</th>\n",
              "      <td>...</td>\n",
              "      <td>...</td>\n",
              "      <td>...</td>\n",
              "      <td>...</td>\n",
              "      <td>...</td>\n",
              "      <td>...</td>\n",
              "      <td>...</td>\n",
              "      <td>...</td>\n",
              "      <td>...</td>\n",
              "      <td>...</td>\n",
              "      <td>...</td>\n",
              "      <td>...</td>\n",
              "      <td>...</td>\n",
              "      <td>...</td>\n",
              "      <td>...</td>\n",
              "      <td>...</td>\n",
              "      <td>...</td>\n",
              "      <td>...</td>\n",
              "      <td>...</td>\n",
              "      <td>...</td>\n",
              "      <td>...</td>\n",
              "      <td>...</td>\n",
              "      <td>...</td>\n",
              "      <td>...</td>\n",
              "      <td>...</td>\n",
              "      <td>...</td>\n",
              "      <td>...</td>\n",
              "      <td>...</td>\n",
              "      <td>...</td>\n",
              "      <td>...</td>\n",
              "      <td>...</td>\n",
              "      <td>...</td>\n",
              "      <td>...</td>\n",
              "      <td>...</td>\n",
              "      <td>...</td>\n",
              "      <td>...</td>\n",
              "      <td>...</td>\n",
              "      <td>...</td>\n",
              "      <td>...</td>\n",
              "      <td>...</td>\n",
              "      <td>...</td>\n",
              "      <td>...</td>\n",
              "      <td>...</td>\n",
              "      <td>...</td>\n",
              "      <td>...</td>\n",
              "      <td>...</td>\n",
              "      <td>...</td>\n",
              "      <td>...</td>\n",
              "    </tr>\n",
              "    <tr>\n",
              "      <th>15007</th>\n",
              "      <td>0</td>\n",
              "      <td>0</td>\n",
              "      <td>0</td>\n",
              "      <td>0</td>\n",
              "      <td>0</td>\n",
              "      <td>0</td>\n",
              "      <td>0</td>\n",
              "      <td>0</td>\n",
              "      <td>0</td>\n",
              "      <td>0</td>\n",
              "      <td>0</td>\n",
              "      <td>0</td>\n",
              "      <td>0</td>\n",
              "      <td>0</td>\n",
              "      <td>0</td>\n",
              "      <td>0</td>\n",
              "      <td>0</td>\n",
              "      <td>0</td>\n",
              "      <td>0</td>\n",
              "      <td>0</td>\n",
              "      <td>0</td>\n",
              "      <td>0</td>\n",
              "      <td>0</td>\n",
              "      <td>0</td>\n",
              "      <td>0</td>\n",
              "      <td>0</td>\n",
              "      <td>0</td>\n",
              "      <td>0</td>\n",
              "      <td>0</td>\n",
              "      <td>0</td>\n",
              "      <td>0</td>\n",
              "      <td>0</td>\n",
              "      <td>0</td>\n",
              "      <td>0</td>\n",
              "      <td>0</td>\n",
              "      <td>0</td>\n",
              "      <td>0</td>\n",
              "      <td>1</td>\n",
              "      <td>0</td>\n",
              "      <td>0</td>\n",
              "      <td>0</td>\n",
              "      <td>0</td>\n",
              "      <td>0</td>\n",
              "      <td>0</td>\n",
              "      <td>0</td>\n",
              "      <td>0</td>\n",
              "      <td>0</td>\n",
              "      <td>0</td>\n",
              "    </tr>\n",
              "    <tr>\n",
              "      <th>15008</th>\n",
              "      <td>0</td>\n",
              "      <td>0</td>\n",
              "      <td>0</td>\n",
              "      <td>0</td>\n",
              "      <td>0</td>\n",
              "      <td>0</td>\n",
              "      <td>0</td>\n",
              "      <td>0</td>\n",
              "      <td>0</td>\n",
              "      <td>0</td>\n",
              "      <td>0</td>\n",
              "      <td>0</td>\n",
              "      <td>0</td>\n",
              "      <td>0</td>\n",
              "      <td>0</td>\n",
              "      <td>0</td>\n",
              "      <td>0</td>\n",
              "      <td>0</td>\n",
              "      <td>0</td>\n",
              "      <td>0</td>\n",
              "      <td>0</td>\n",
              "      <td>0</td>\n",
              "      <td>0</td>\n",
              "      <td>0</td>\n",
              "      <td>0</td>\n",
              "      <td>0</td>\n",
              "      <td>0</td>\n",
              "      <td>0</td>\n",
              "      <td>0</td>\n",
              "      <td>0</td>\n",
              "      <td>0</td>\n",
              "      <td>1</td>\n",
              "      <td>0</td>\n",
              "      <td>0</td>\n",
              "      <td>0</td>\n",
              "      <td>0</td>\n",
              "      <td>0</td>\n",
              "      <td>0</td>\n",
              "      <td>0</td>\n",
              "      <td>0</td>\n",
              "      <td>0</td>\n",
              "      <td>0</td>\n",
              "      <td>0</td>\n",
              "      <td>0</td>\n",
              "      <td>0</td>\n",
              "      <td>0</td>\n",
              "      <td>0</td>\n",
              "      <td>0</td>\n",
              "    </tr>\n",
              "    <tr>\n",
              "      <th>15009</th>\n",
              "      <td>0</td>\n",
              "      <td>0</td>\n",
              "      <td>0</td>\n",
              "      <td>0</td>\n",
              "      <td>0</td>\n",
              "      <td>0</td>\n",
              "      <td>0</td>\n",
              "      <td>0</td>\n",
              "      <td>1</td>\n",
              "      <td>0</td>\n",
              "      <td>0</td>\n",
              "      <td>0</td>\n",
              "      <td>0</td>\n",
              "      <td>0</td>\n",
              "      <td>0</td>\n",
              "      <td>0</td>\n",
              "      <td>0</td>\n",
              "      <td>0</td>\n",
              "      <td>0</td>\n",
              "      <td>0</td>\n",
              "      <td>0</td>\n",
              "      <td>0</td>\n",
              "      <td>0</td>\n",
              "      <td>0</td>\n",
              "      <td>0</td>\n",
              "      <td>0</td>\n",
              "      <td>0</td>\n",
              "      <td>0</td>\n",
              "      <td>0</td>\n",
              "      <td>0</td>\n",
              "      <td>0</td>\n",
              "      <td>0</td>\n",
              "      <td>0</td>\n",
              "      <td>0</td>\n",
              "      <td>0</td>\n",
              "      <td>0</td>\n",
              "      <td>0</td>\n",
              "      <td>0</td>\n",
              "      <td>0</td>\n",
              "      <td>0</td>\n",
              "      <td>0</td>\n",
              "      <td>0</td>\n",
              "      <td>0</td>\n",
              "      <td>0</td>\n",
              "      <td>0</td>\n",
              "      <td>0</td>\n",
              "      <td>0</td>\n",
              "      <td>0</td>\n",
              "    </tr>\n",
              "    <tr>\n",
              "      <th>15010</th>\n",
              "      <td>0</td>\n",
              "      <td>0</td>\n",
              "      <td>0</td>\n",
              "      <td>0</td>\n",
              "      <td>0</td>\n",
              "      <td>0</td>\n",
              "      <td>0</td>\n",
              "      <td>0</td>\n",
              "      <td>0</td>\n",
              "      <td>0</td>\n",
              "      <td>0</td>\n",
              "      <td>0</td>\n",
              "      <td>0</td>\n",
              "      <td>1</td>\n",
              "      <td>0</td>\n",
              "      <td>0</td>\n",
              "      <td>0</td>\n",
              "      <td>0</td>\n",
              "      <td>0</td>\n",
              "      <td>0</td>\n",
              "      <td>0</td>\n",
              "      <td>0</td>\n",
              "      <td>0</td>\n",
              "      <td>0</td>\n",
              "      <td>0</td>\n",
              "      <td>0</td>\n",
              "      <td>0</td>\n",
              "      <td>0</td>\n",
              "      <td>0</td>\n",
              "      <td>0</td>\n",
              "      <td>0</td>\n",
              "      <td>0</td>\n",
              "      <td>0</td>\n",
              "      <td>0</td>\n",
              "      <td>0</td>\n",
              "      <td>0</td>\n",
              "      <td>0</td>\n",
              "      <td>0</td>\n",
              "      <td>0</td>\n",
              "      <td>0</td>\n",
              "      <td>0</td>\n",
              "      <td>0</td>\n",
              "      <td>0</td>\n",
              "      <td>0</td>\n",
              "      <td>0</td>\n",
              "      <td>0</td>\n",
              "      <td>0</td>\n",
              "      <td>0</td>\n",
              "    </tr>\n",
              "    <tr>\n",
              "      <th>15011</th>\n",
              "      <td>0</td>\n",
              "      <td>0</td>\n",
              "      <td>0</td>\n",
              "      <td>0</td>\n",
              "      <td>0</td>\n",
              "      <td>0</td>\n",
              "      <td>1</td>\n",
              "      <td>0</td>\n",
              "      <td>0</td>\n",
              "      <td>0</td>\n",
              "      <td>0</td>\n",
              "      <td>0</td>\n",
              "      <td>0</td>\n",
              "      <td>0</td>\n",
              "      <td>0</td>\n",
              "      <td>0</td>\n",
              "      <td>0</td>\n",
              "      <td>0</td>\n",
              "      <td>0</td>\n",
              "      <td>0</td>\n",
              "      <td>0</td>\n",
              "      <td>0</td>\n",
              "      <td>0</td>\n",
              "      <td>0</td>\n",
              "      <td>0</td>\n",
              "      <td>0</td>\n",
              "      <td>0</td>\n",
              "      <td>0</td>\n",
              "      <td>0</td>\n",
              "      <td>0</td>\n",
              "      <td>0</td>\n",
              "      <td>0</td>\n",
              "      <td>0</td>\n",
              "      <td>0</td>\n",
              "      <td>0</td>\n",
              "      <td>0</td>\n",
              "      <td>0</td>\n",
              "      <td>0</td>\n",
              "      <td>0</td>\n",
              "      <td>0</td>\n",
              "      <td>0</td>\n",
              "      <td>0</td>\n",
              "      <td>0</td>\n",
              "      <td>0</td>\n",
              "      <td>0</td>\n",
              "      <td>0</td>\n",
              "      <td>0</td>\n",
              "      <td>0</td>\n",
              "    </tr>\n",
              "  </tbody>\n",
              "</table>\n",
              "<p>15012 rows × 48 columns</p>\n",
              "</div>"
            ],
            "text/plain": [
              "       Zipcode__78617  Zipcode__78619  ...  Zipcode__78758  Zipcode__78759\n",
              "0                   0               0  ...               0               0\n",
              "1                   0               0  ...               0               0\n",
              "2                   0               0  ...               0               0\n",
              "3                   0               0  ...               0               0\n",
              "4                   0               0  ...               0               0\n",
              "...               ...             ...  ...             ...             ...\n",
              "15007               0               0  ...               0               0\n",
              "15008               0               0  ...               0               0\n",
              "15009               0               0  ...               0               0\n",
              "15010               0               0  ...               0               0\n",
              "15011               0               0  ...               0               0\n",
              "\n",
              "[15012 rows x 48 columns]"
            ]
          },
          "metadata": {},
          "execution_count": 29
        }
      ]
    },
    {
      "cell_type": "code",
      "metadata": {
        "id": "4R7pmxBJ-WSB"
      },
      "source": [
        "# concatenate the dummies to our features df\n",
        "features = pd.concat([features, dummies], axis=1)"
      ],
      "execution_count": 30,
      "outputs": []
    },
    {
      "cell_type": "code",
      "metadata": {
        "id": "ujLsdr66-jtk"
      },
      "source": [
        "# drop the original zipcode column\n",
        "features = features.drop(columns='zipcode', axis=1)"
      ],
      "execution_count": 31,
      "outputs": []
    },
    {
      "cell_type": "markdown",
      "metadata": {
        "id": "APFnCGaH1HJP"
      },
      "source": [
        "## 4. Data Generator"
      ]
    },
    {
      "cell_type": "markdown",
      "metadata": {
        "id": "HpfW8auN9m4u"
      },
      "source": [
        "#### 4a. Start of generator"
      ]
    },
    {
      "cell_type": "code",
      "metadata": {
        "colab": {
          "base_uri": "https://localhost:8080/"
        },
        "id": "Iu2fszI8chNq",
        "outputId": "cf8b5309-9cb2-4bd0-df05-05cc189071f8"
      },
      "source": [
        "# checking the labels dictionary, it gives a price\n",
        "labels['60136362_ff18cc43e7e6cab9b45e109b7b8f8741-p_f']"
      ],
      "execution_count": 32,
      "outputs": [
        {
          "output_type": "execute_result",
          "data": {
            "text/plain": [
              "0.4524626201850114"
            ]
          },
          "metadata": {},
          "execution_count": 32
        }
      ]
    },
    {
      "cell_type": "code",
      "metadata": {
        "id": "wAI_75wY4aqu"
      },
      "source": [
        "#checking the labels dictionary\n",
        "#labels"
      ],
      "execution_count": 33,
      "outputs": []
    },
    {
      "cell_type": "code",
      "metadata": {
        "id": "EhyUDut-pKj3"
      },
      "source": [
        "# First, let's write the initialization function of the class\n",
        "\n",
        "class DataGenerator(Sequence):\n",
        "\n",
        "  def __init__(self, list_IDs, labels, data, batch_size=128, dim=(250,300), n_channels=1,\n",
        "              shuffle=True):\n",
        "    'Initialization'\n",
        "    self.dim = dim\n",
        "    self.dim_ct = (data.shape[1]-1)\n",
        "    self.batch_size = batch_size\n",
        "    self.labels = labels\n",
        "    self.data = data\n",
        "    self.list_IDs = list_IDs\n",
        "    self.n_channels = n_channels\n",
        "    #self.n_classes = n_classes\n",
        "    self.shuffle = shuffle\n",
        "    self.on_epoch_end()\n",
        "\n",
        "\n",
        "  def __len__(self):\n",
        "        'Denotes the number of batches per epoch'\n",
        "        return int(np.floor(len(self.list_IDs) / self.batch_size))\n",
        "\n",
        "  def __getitem__(self, index):\n",
        "        'Generate one batch of data'\n",
        "        # Generate indexes of the batch\n",
        "        indexes = self.indexes[index*self.batch_size:(index+1)*self.batch_size]\n",
        "\n",
        "        # Find list of IDs\n",
        "        list_IDs_temp = [self.list_IDs[k] for k in indexes]\n",
        "\n",
        "        # Generate data\n",
        "        [X_i, X], y = self.__data_generation(list_IDs_temp)\n",
        "\n",
        "        return [X_i, X], y\n",
        "\n",
        "  def on_epoch_end(self):\n",
        "        'Updates indexes after each epoch'\n",
        "        self.indexes = np.arange(len(self.list_IDs))\n",
        "        if self.shuffle == True:\n",
        "            np.random.shuffle(self.indexes)\n",
        "\n",
        "  def __data_generation(self, list_IDs_temp):\n",
        "        'Generates data containing batch_size samples' # X : (n_samples, *dim, n_channels)\n",
        "        # Initialization\n",
        "        X_i = np.empty([self.batch_size, self.dim_ct])\n",
        "        X = np.empty((self.batch_size, *self.dim, self.n_channels))\n",
        "        y = list(np.empty((self.batch_size)))\n",
        "        #print(X.shape, X.dtype)\n",
        "        #print(y.shape, y.dtype)\n",
        "\n",
        "        # Generate data\n",
        "        for i, ID in enumerate(list_IDs_temp):\n",
        "            # Store sample\n",
        "            #X[i,] = load_pic(ID, size=self.dim[0], n_channels=self.n_channels)\n",
        "            try:\n",
        "              X[i,] = load_pic(ID+'.jpg' )\n",
        "              X_i[i,] = features[features['Image Name']==ID].iloc[0].drop('Image Name')\n",
        "            #print(X[i,])\n",
        "\n",
        "            # Store class\n",
        "              y[i] = self.labels[ID]\n",
        "              if y[i] < 10:\n",
        "                print(ID, self.label[ID])\n",
        "              \n",
        "            except:\n",
        "              continue\n",
        "              \n",
        "        #print(X_i.shape)\n",
        "        #print(X.shape)\n",
        "        #print(y)\n",
        "        return [X_i, X], np.array(y)\n",
        "\n"
      ],
      "execution_count": 34,
      "outputs": []
    },
    {
      "cell_type": "code",
      "metadata": {
        "id": "5WwCNqZLqbL3"
      },
      "source": [
        "# Parameters\n",
        "params = {'dim': (250,300),\n",
        "          'batch_size': 128,\n",
        "          'n_channels': 1,\n",
        "          'shuffle': True}\n",
        "\n",
        "# Define a callback to monitor validation accuracy\n",
        "monitor_val_loss = EarlyStopping(monitor='val_loss', patience=5, restore_best_weights=True)"
      ],
      "execution_count": 35,
      "outputs": []
    },
    {
      "cell_type": "markdown",
      "metadata": {
        "id": "3X7z4F40qLNf"
      },
      "source": [
        "#### 4b. Create Training and Validation Generator Object"
      ]
    },
    {
      "cell_type": "code",
      "metadata": {
        "id": "1VbaVigVMgiD"
      },
      "source": [
        "#def get_train_images():\n",
        "training_generator = DataGenerator(partition['train'], labels, features, **params)\n",
        "\n",
        "#def get_validation_images():\n",
        "validation_generator = DataGenerator(partition['validation'], labels, features, **params)"
      ],
      "execution_count": 36,
      "outputs": []
    },
    {
      "cell_type": "code",
      "metadata": {
        "id": "w3XavkyyiHSf"
      },
      "source": [
        "# check the labels dictionary\n",
        "#labels"
      ],
      "execution_count": 37,
      "outputs": []
    },
    {
      "cell_type": "code",
      "metadata": {
        "colab": {
          "base_uri": "https://localhost:8080/"
        },
        "id": "kd-Ke2ikDwBR",
        "outputId": "5dd20f39-b182-45c0-e02d-de832efd3eb4"
      },
      "source": [
        "# checking the type of DataGenerator\n",
        "a = DataGenerator(partition['train'], labels, features, **params)\n",
        "a"
      ],
      "execution_count": 38,
      "outputs": [
        {
          "output_type": "execute_result",
          "data": {
            "text/plain": [
              "<__main__.DataGenerator at 0x7f12117b8d10>"
            ]
          },
          "metadata": {},
          "execution_count": 38
        }
      ]
    },
    {
      "cell_type": "markdown",
      "metadata": {
        "id": "2l4qbZ67WvnW"
      },
      "source": [
        "#### 4c. Writing a Metric Function for Coefficient of Determination"
      ]
    },
    {
      "cell_type": "code",
      "metadata": {
        "id": "XcKe-3fKW-xU"
      },
      "source": [
        "# from https://jmlb.github.io/ml/2017/03/20/CoeffDetermination_CustomMetric4Keras/\n",
        "\n",
        "from keras import backend as K\n",
        "\n",
        "def coeff_determination(y_true, y_pred):\n",
        "    SS_res =  K.sum(K.square( y_true-y_pred )) \n",
        "    SS_tot = K.sum(K.square( y_true - K.mean(y_true) ) ) \n",
        "    return ( 1 - SS_res/(SS_tot + K.epsilon()) )\n"
      ],
      "execution_count": 39,
      "outputs": []
    },
    {
      "cell_type": "markdown",
      "metadata": {
        "id": "8RvHwEUFrJ1l"
      },
      "source": [
        "## 5. Mixed Inputs Model Creation"
      ]
    },
    {
      "cell_type": "markdown",
      "metadata": {
        "id": "tx0pbkObwMdO"
      },
      "source": [
        "#### 5a. Create MLP model (Features)"
      ]
    },
    {
      "cell_type": "code",
      "metadata": {
        "id": "h1bqEKnfolh8"
      },
      "source": [
        "def create_mlp(dim):\n",
        "\t# define our MLP network\n",
        "  mlp_model = Sequential()\n",
        "  mlp_model.add(Dense(16, input_dim=dim,activation=\"relu\"))\n",
        "  mlp_model.add(Dense(8, activation=\"relu\"))\n",
        "  mlp_model.add(Dense(1, activation=\"linear\"))\n",
        "  return mlp_model\n"
      ],
      "execution_count": null,
      "outputs": []
    },
    {
      "cell_type": "markdown",
      "metadata": {
        "id": "d4GJWI6PwQit"
      },
      "source": [
        "#### 5b. Create CNN model (Images)"
      ]
    },
    {
      "cell_type": "code",
      "metadata": {
        "id": "SJBcYghCpYxq"
      },
      "source": [
        "def create_cnn():\n",
        "  cnn2 = Sequential()\n",
        "  cnn2.add(Conv2D(32, kernel_size=(3,3), input_shape=(250,300,1),padding='same', activation='relu'))\n",
        "  cnn2.add(MaxPooling2D(pool_size=(2, 2)))\n",
        "  cnn2.add(Conv2D(64, kernel_size=(3,3), padding='same', activation='relu'))\n",
        "  cnn2.add(MaxPooling2D(pool_size=(2, 2)))\n",
        "  cnn2.add(Conv2D(128, kernel_size=(3,3), padding='same', activation='relu'))\n",
        "  cnn2.add(MaxPooling2D(pool_size=(2, 2)))\n",
        "  cnn2.add(Conv2D(128, kernel_size=(3,3), padding='same', activation='relu'))\n",
        "  cnn2.add(MaxPooling2D(pool_size=(2, 2)))\n",
        "  cnn2.add(Flatten())\n",
        "  cnn2.add(Dropout(0.5))\n",
        "  cnn2.add(Dense(512, activation='relu'))\n",
        "  cnn2.add(Dense(32, activation='relu'))\n",
        "  cnn2.add(Dense(1, activation='linear'))\n",
        "  return cnn2\n",
        "\n",
        "\n",
        "\n",
        "#cnn2.compile(optimizer='adam', loss='mean_absolute_error', metrics=[[coeff_determination, 'mae']])\n"
      ],
      "execution_count": null,
      "outputs": []
    },
    {
      "cell_type": "markdown",
      "metadata": {
        "id": "hPi7NZU3wXq8"
      },
      "source": [
        "#### 5c. Build the models, specifying input shape"
      ]
    },
    {
      "cell_type": "code",
      "metadata": {
        "id": "FuRlgrLzOyuE"
      },
      "source": [
        "\n",
        "# create the MLP and CNN models\n",
        "mlp = create_mlp((features.shape[1]-1)) #numerical data\n",
        "# we first have to create the mlp model:\n",
        "cnn = create_cnn() # image data- we will use our 'cnn2' model\n"
      ],
      "execution_count": null,
      "outputs": []
    },
    {
      "cell_type": "code",
      "metadata": {
        "colab": {
          "base_uri": "https://localhost:8080/"
        },
        "id": "K8NUWrJuupQy",
        "outputId": "f42081ab-e9b8-4160-fb7a-8e09f48edcfe"
      },
      "source": [
        "mlp # checking what type this is"
      ],
      "execution_count": null,
      "outputs": [
        {
          "output_type": "execute_result",
          "data": {
            "text/plain": [
              "<keras.engine.sequential.Sequential at 0x7f53e86393d0>"
            ]
          },
          "metadata": {},
          "execution_count": 102
        }
      ]
    },
    {
      "cell_type": "code",
      "metadata": {
        "colab": {
          "base_uri": "https://localhost:8080/"
        },
        "id": "rBSXE0RUuq3y",
        "outputId": "98e90356-8fc8-4295-e02d-47b5e1b6172d"
      },
      "source": [
        "cnn # checking what type this is"
      ],
      "execution_count": null,
      "outputs": [
        {
          "output_type": "execute_result",
          "data": {
            "text/plain": [
              "<keras.engine.sequential.Sequential at 0x7f53e8639810>"
            ]
          },
          "metadata": {},
          "execution_count": 103
        }
      ]
    },
    {
      "cell_type": "code",
      "metadata": {
        "colab": {
          "base_uri": "https://localhost:8080/"
        },
        "id": "jjOog6VbAcUZ",
        "outputId": "6e484cd9-91be-41fe-d764-64f29edc4e3c"
      },
      "source": [
        "features.shape"
      ],
      "execution_count": null,
      "outputs": [
        {
          "output_type": "execute_result",
          "data": {
            "text/plain": [
              "(15012, 55)"
            ]
          },
          "metadata": {},
          "execution_count": 104
        }
      ]
    },
    {
      "cell_type": "code",
      "metadata": {
        "colab": {
          "base_uri": "https://localhost:8080/"
        },
        "id": "jJEz6rZ-QQmk",
        "outputId": "b51e046f-4319-47a9-ffc6-a8b93898112d"
      },
      "source": [
        "cnn.summary()"
      ],
      "execution_count": null,
      "outputs": [
        {
          "output_type": "stream",
          "text": [
            "Model: \"sequential_3\"\n",
            "_________________________________________________________________\n",
            "Layer (type)                 Output Shape              Param #   \n",
            "=================================================================\n",
            "conv2d_4 (Conv2D)            (None, 250, 300, 32)      320       \n",
            "_________________________________________________________________\n",
            "max_pooling2d_4 (MaxPooling2 (None, 125, 150, 32)      0         \n",
            "_________________________________________________________________\n",
            "conv2d_5 (Conv2D)            (None, 125, 150, 64)      18496     \n",
            "_________________________________________________________________\n",
            "max_pooling2d_5 (MaxPooling2 (None, 62, 75, 64)        0         \n",
            "_________________________________________________________________\n",
            "conv2d_6 (Conv2D)            (None, 62, 75, 128)       73856     \n",
            "_________________________________________________________________\n",
            "max_pooling2d_6 (MaxPooling2 (None, 31, 37, 128)       0         \n",
            "_________________________________________________________________\n",
            "conv2d_7 (Conv2D)            (None, 31, 37, 128)       147584    \n",
            "_________________________________________________________________\n",
            "max_pooling2d_7 (MaxPooling2 (None, 15, 18, 128)       0         \n",
            "_________________________________________________________________\n",
            "flatten_1 (Flatten)          (None, 34560)             0         \n",
            "_________________________________________________________________\n",
            "dropout_1 (Dropout)          (None, 34560)             0         \n",
            "_________________________________________________________________\n",
            "dense_11 (Dense)             (None, 512)               17695232  \n",
            "_________________________________________________________________\n",
            "dense_12 (Dense)             (None, 32)                16416     \n",
            "_________________________________________________________________\n",
            "dense_13 (Dense)             (None, 1)                 33        \n",
            "=================================================================\n",
            "Total params: 17,951,937\n",
            "Trainable params: 17,951,937\n",
            "Non-trainable params: 0\n",
            "_________________________________________________________________\n"
          ],
          "name": "stdout"
        }
      ]
    },
    {
      "cell_type": "code",
      "metadata": {
        "colab": {
          "base_uri": "https://localhost:8080/"
        },
        "id": "7tS9BqLiyB3U",
        "outputId": "aebe03d5-b957-432d-9f7b-0346cdb4a212"
      },
      "source": [
        "# build() the model and specify the input shape\n",
        "mlp.build((features.shape[1]-1)) # `input_shape` is the shape of the input data\n",
        "                         # e.g. input_shape = (None, 32, 32, 3)\n",
        "mlp.summary()"
      ],
      "execution_count": null,
      "outputs": [
        {
          "output_type": "stream",
          "text": [
            "Model: \"sequential_2\"\n",
            "_________________________________________________________________\n",
            "Layer (type)                 Output Shape              Param #   \n",
            "=================================================================\n",
            "dense_8 (Dense)              (None, 16)                880       \n",
            "_________________________________________________________________\n",
            "dense_9 (Dense)              (None, 8)                 136       \n",
            "_________________________________________________________________\n",
            "dense_10 (Dense)             (None, 1)                 9         \n",
            "=================================================================\n",
            "Total params: 1,025\n",
            "Trainable params: 1,025\n",
            "Non-trainable params: 0\n",
            "_________________________________________________________________\n"
          ],
          "name": "stdout"
        }
      ]
    },
    {
      "cell_type": "code",
      "metadata": {
        "colab": {
          "base_uri": "https://localhost:8080/"
        },
        "id": "zq1W_BUxOVG_",
        "outputId": "400ffb33-0f5c-4abf-f43d-8bd7aa20f0fc"
      },
      "source": [
        "mlp.input"
      ],
      "execution_count": null,
      "outputs": [
        {
          "output_type": "execute_result",
          "data": {
            "text/plain": [
              "<KerasTensor: shape=(None, 54) dtype=float32 (created by layer 'dense_8_input')>"
            ]
          },
          "metadata": {},
          "execution_count": 107
        }
      ]
    },
    {
      "cell_type": "code",
      "metadata": {
        "colab": {
          "base_uri": "https://localhost:8080/"
        },
        "id": "fhPSFqyeOXwX",
        "outputId": "e2e7adf2-b90e-428b-b7a6-3525e9cb26e8"
      },
      "source": [
        "cnn.input"
      ],
      "execution_count": null,
      "outputs": [
        {
          "output_type": "execute_result",
          "data": {
            "text/plain": [
              "<KerasTensor: shape=(None, 250, 300, 1) dtype=float32 (created by layer 'conv2d_4_input')>"
            ]
          },
          "metadata": {},
          "execution_count": 108
        }
      ]
    },
    {
      "cell_type": "code",
      "metadata": {
        "colab": {
          "base_uri": "https://localhost:8080/"
        },
        "id": "0jD1qGXZOcha",
        "outputId": "753b4d0f-b7aa-4a55-f824-dffc48422a79"
      },
      "source": [
        "mlp.output"
      ],
      "execution_count": null,
      "outputs": [
        {
          "output_type": "execute_result",
          "data": {
            "text/plain": [
              "<KerasTensor: shape=(None, 1) dtype=float32 (created by layer 'dense_10')>"
            ]
          },
          "metadata": {},
          "execution_count": 109
        }
      ]
    },
    {
      "cell_type": "code",
      "metadata": {
        "colab": {
          "base_uri": "https://localhost:8080/"
        },
        "id": "cKvk5OmLOeZx",
        "outputId": "2e5bbc32-4a6e-408b-e32c-f2aa3c6161c9"
      },
      "source": [
        "cnn.output"
      ],
      "execution_count": null,
      "outputs": [
        {
          "output_type": "execute_result",
          "data": {
            "text/plain": [
              "<KerasTensor: shape=(None, 1) dtype=float32 (created by layer 'dense_13')>"
            ]
          },
          "metadata": {},
          "execution_count": 110
        }
      ]
    },
    {
      "cell_type": "code",
      "metadata": {
        "colab": {
          "base_uri": "https://localhost:8080/"
        },
        "id": "I94XJknC0wvV",
        "outputId": "24cecbaa-2ef3-475b-ff6c-edfa731e4731"
      },
      "source": [
        "# build() the model and specify the input shape\n",
        "cnn.build((250, 300, 1)) # `input_shape` is the shape of the input data\n",
        "                         # e.g. input_shape = (None, 32, 32, 3)\n",
        "cnn.summary()"
      ],
      "execution_count": null,
      "outputs": [
        {
          "output_type": "stream",
          "text": [
            "Model: \"sequential_3\"\n",
            "_________________________________________________________________\n",
            "Layer (type)                 Output Shape              Param #   \n",
            "=================================================================\n",
            "conv2d_4 (Conv2D)            (None, 250, 300, 32)      320       \n",
            "_________________________________________________________________\n",
            "max_pooling2d_4 (MaxPooling2 (None, 125, 150, 32)      0         \n",
            "_________________________________________________________________\n",
            "conv2d_5 (Conv2D)            (None, 125, 150, 64)      18496     \n",
            "_________________________________________________________________\n",
            "max_pooling2d_5 (MaxPooling2 (None, 62, 75, 64)        0         \n",
            "_________________________________________________________________\n",
            "conv2d_6 (Conv2D)            (None, 62, 75, 128)       73856     \n",
            "_________________________________________________________________\n",
            "max_pooling2d_6 (MaxPooling2 (None, 31, 37, 128)       0         \n",
            "_________________________________________________________________\n",
            "conv2d_7 (Conv2D)            (None, 31, 37, 128)       147584    \n",
            "_________________________________________________________________\n",
            "max_pooling2d_7 (MaxPooling2 (None, 15, 18, 128)       0         \n",
            "_________________________________________________________________\n",
            "flatten_1 (Flatten)          (None, 34560)             0         \n",
            "_________________________________________________________________\n",
            "dropout_1 (Dropout)          (None, 34560)             0         \n",
            "_________________________________________________________________\n",
            "dense_11 (Dense)             (None, 512)               17695232  \n",
            "_________________________________________________________________\n",
            "dense_12 (Dense)             (None, 32)                16416     \n",
            "_________________________________________________________________\n",
            "dense_13 (Dense)             (None, 1)                 33        \n",
            "=================================================================\n",
            "Total params: 17,951,937\n",
            "Trainable params: 17,951,937\n",
            "Non-trainable params: 0\n",
            "_________________________________________________________________\n"
          ],
          "name": "stdout"
        }
      ]
    },
    {
      "cell_type": "markdown",
      "metadata": {
        "id": "pOV1O8RgwiCt"
      },
      "source": [
        "#### 5d. Concatenate the two input models and compile the final model"
      ]
    },
    {
      "cell_type": "code",
      "metadata": {
        "id": "LRSwLP7hunWp"
      },
      "source": [
        "from keras.layers import concatenate\n",
        "\n",
        "# create the input to our final set of layers as the *output* of both\n",
        "# the MLP and CNN\n",
        "\n",
        "combinedInput = concatenate([mlp.output, cnn.output])\n",
        "# our final FC layer head will have two dense layers, the final one\n",
        "# being our regression head\n",
        "x = Dense(4, activation=\"relu\")(combinedInput)\n",
        "x = Dense(1, activation=\"linear\")(x)\n",
        "# our final model will accept categorical/numerical data on the MLP\n",
        "# input and images on the CNN input, outputting a single value (the\n",
        "# predicted price of the house)\n",
        "model = Model(inputs=[mlp.input, cnn.input], outputs=x)\n"
      ],
      "execution_count": null,
      "outputs": []
    },
    {
      "cell_type": "code",
      "metadata": {
        "id": "LrqfOtMW5DAl"
      },
      "source": [
        "opt = keras.optimizers.Adam(learning_rate=0.01)\n",
        "model.compile(optimizer=opt, loss='mean_absolute_error', metrics=[['mean_absolute_error', coeff_determination]])\n",
        "\n",
        "\n",
        "#model.compile(loss='categorical_crossentropy', optimizer=opt)"
      ],
      "execution_count": null,
      "outputs": []
    },
    {
      "cell_type": "code",
      "metadata": {
        "colab": {
          "base_uri": "https://localhost:8080/"
        },
        "id": "M54EpF2q3sm0",
        "outputId": "5d927ce3-c446-418c-c2a3-c2cdf7304578"
      },
      "source": [
        "model.summary()"
      ],
      "execution_count": null,
      "outputs": [
        {
          "output_type": "stream",
          "text": [
            "Model: \"model_1\"\n",
            "__________________________________________________________________________________________________\n",
            "Layer (type)                    Output Shape         Param #     Connected to                     \n",
            "==================================================================================================\n",
            "conv2d_4_input (InputLayer)     [(None, 250, 300, 1) 0                                            \n",
            "__________________________________________________________________________________________________\n",
            "conv2d_4 (Conv2D)               (None, 250, 300, 32) 320         conv2d_4_input[0][0]             \n",
            "__________________________________________________________________________________________________\n",
            "max_pooling2d_4 (MaxPooling2D)  (None, 125, 150, 32) 0           conv2d_4[0][0]                   \n",
            "__________________________________________________________________________________________________\n",
            "conv2d_5 (Conv2D)               (None, 125, 150, 64) 18496       max_pooling2d_4[0][0]            \n",
            "__________________________________________________________________________________________________\n",
            "max_pooling2d_5 (MaxPooling2D)  (None, 62, 75, 64)   0           conv2d_5[0][0]                   \n",
            "__________________________________________________________________________________________________\n",
            "conv2d_6 (Conv2D)               (None, 62, 75, 128)  73856       max_pooling2d_5[0][0]            \n",
            "__________________________________________________________________________________________________\n",
            "max_pooling2d_6 (MaxPooling2D)  (None, 31, 37, 128)  0           conv2d_6[0][0]                   \n",
            "__________________________________________________________________________________________________\n",
            "conv2d_7 (Conv2D)               (None, 31, 37, 128)  147584      max_pooling2d_6[0][0]            \n",
            "__________________________________________________________________________________________________\n",
            "max_pooling2d_7 (MaxPooling2D)  (None, 15, 18, 128)  0           conv2d_7[0][0]                   \n",
            "__________________________________________________________________________________________________\n",
            "flatten_1 (Flatten)             (None, 34560)        0           max_pooling2d_7[0][0]            \n",
            "__________________________________________________________________________________________________\n",
            "dense_8_input (InputLayer)      [(None, 54)]         0                                            \n",
            "__________________________________________________________________________________________________\n",
            "dropout_1 (Dropout)             (None, 34560)        0           flatten_1[0][0]                  \n",
            "__________________________________________________________________________________________________\n",
            "dense_8 (Dense)                 (None, 16)           880         dense_8_input[0][0]              \n",
            "__________________________________________________________________________________________________\n",
            "dense_11 (Dense)                (None, 512)          17695232    dropout_1[0][0]                  \n",
            "__________________________________________________________________________________________________\n",
            "dense_9 (Dense)                 (None, 8)            136         dense_8[0][0]                    \n",
            "__________________________________________________________________________________________________\n",
            "dense_12 (Dense)                (None, 32)           16416       dense_11[0][0]                   \n",
            "__________________________________________________________________________________________________\n",
            "dense_10 (Dense)                (None, 1)            9           dense_9[0][0]                    \n",
            "__________________________________________________________________________________________________\n",
            "dense_13 (Dense)                (None, 1)            33          dense_12[0][0]                   \n",
            "__________________________________________________________________________________________________\n",
            "concatenate_1 (Concatenate)     (None, 2)            0           dense_10[0][0]                   \n",
            "                                                                 dense_13[0][0]                   \n",
            "__________________________________________________________________________________________________\n",
            "dense_14 (Dense)                (None, 4)            12          concatenate_1[0][0]              \n",
            "__________________________________________________________________________________________________\n",
            "dense_15 (Dense)                (None, 1)            5           dense_14[0][0]                   \n",
            "==================================================================================================\n",
            "Total params: 17,952,979\n",
            "Trainable params: 17,952,979\n",
            "Non-trainable params: 0\n",
            "__________________________________________________________________________________________________\n"
          ],
          "name": "stdout"
        }
      ]
    },
    {
      "cell_type": "markdown",
      "metadata": {
        "id": "DfKbc80xsa3B"
      },
      "source": [
        "## 6. Training the Model"
      ]
    },
    {
      "cell_type": "code",
      "metadata": {
        "colab": {
          "base_uri": "https://localhost:8080/"
        },
        "id": "hFNC72gX8lo0",
        "outputId": "b590d6f8-7146-476d-b1bc-fd7d30481b0f"
      },
      "source": [
        "\n",
        "history = model.fit_generator(generator=training_generator,\n",
        "                    validation_data=validation_generator, \n",
        "                    epochs = 40, steps_per_epoch=80, callbacks=[monitor_val_loss],                   \n",
        "                    use_multiprocessing=True,)\n",
        "                    "
      ],
      "execution_count": null,
      "outputs": [
        {
          "output_type": "stream",
          "text": [
            "/usr/local/lib/python3.7/dist-packages/keras/engine/training.py:1972: UserWarning: `Model.fit_generator` is deprecated and will be removed in a future version. Please use `Model.fit`, which supports generators.\n",
            "  warnings.warn('`Model.fit_generator` is deprecated and '\n"
          ],
          "name": "stderr"
        },
        {
          "output_type": "stream",
          "text": [
            "Epoch 1/40\n",
            "80/80 [==============================] - 68s 839ms/step - loss: 6.9012 - mean_absolute_error: 6.9012 - coeff_determination: -4462.3184 - val_loss: 0.3304 - val_mean_absolute_error: 0.3304 - val_coeff_determination: 0.4078\n",
            "Epoch 2/40\n",
            "80/80 [==============================] - 69s 855ms/step - loss: 0.3053 - mean_absolute_error: 0.3053 - coeff_determination: 0.4658 - val_loss: 0.2797 - val_mean_absolute_error: 0.2797 - val_coeff_determination: 0.5536\n",
            "Epoch 3/40\n",
            "80/80 [==============================] - 68s 841ms/step - loss: 0.2851 - mean_absolute_error: 0.2851 - coeff_determination: 0.5531 - val_loss: 0.2766 - val_mean_absolute_error: 0.2766 - val_coeff_determination: 0.5779\n",
            "Epoch 4/40\n",
            "80/80 [==============================] - 71s 884ms/step - loss: 0.2674 - mean_absolute_error: 0.2674 - coeff_determination: 0.6014 - val_loss: nan - val_mean_absolute_error: nan - val_coeff_determination: nan\n",
            "Epoch 5/40\n",
            "80/80 [==============================] - 71s 880ms/step - loss: inf - mean_absolute_error: inf - coeff_determination: nan - val_loss: 0.2496 - val_mean_absolute_error: 0.2496 - val_coeff_determination: 0.6647\n",
            "Epoch 6/40\n",
            "80/80 [==============================] - 68s 836ms/step - loss: 0.2538 - mean_absolute_error: 0.2538 - coeff_determination: 0.6448 - val_loss: 0.2454 - val_mean_absolute_error: 0.2454 - val_coeff_determination: 0.6827\n",
            "Epoch 7/40\n",
            "80/80 [==============================] - 71s 884ms/step - loss: 0.2518 - mean_absolute_error: 0.2518 - coeff_determination: 0.6672 - val_loss: 0.2451 - val_mean_absolute_error: 0.2451 - val_coeff_determination: 0.6970\n",
            "Epoch 8/40\n",
            "80/80 [==============================] - 67s 836ms/step - loss: 0.2504 - mean_absolute_error: 0.2504 - coeff_determination: 0.6731 - val_loss: 0.2400 - val_mean_absolute_error: 0.2400 - val_coeff_determination: 0.7016\n",
            "Epoch 9/40\n",
            "80/80 [==============================] - 72s 895ms/step - loss: 0.2476 - mean_absolute_error: 0.2476 - coeff_determination: 0.6754 - val_loss: 0.2384 - val_mean_absolute_error: 0.2384 - val_coeff_determination: 0.7084\n",
            "Epoch 10/40\n",
            "80/80 [==============================] - 72s 891ms/step - loss: 0.2445 - mean_absolute_error: 0.2445 - coeff_determination: 0.6911 - val_loss: 0.2408 - val_mean_absolute_error: 0.2408 - val_coeff_determination: 0.6843\n",
            "Epoch 11/40\n",
            "80/80 [==============================] - 68s 839ms/step - loss: 0.2450 - mean_absolute_error: 0.2450 - coeff_determination: 0.6817 - val_loss: 0.2376 - val_mean_absolute_error: 0.2376 - val_coeff_determination: 0.6987\n",
            "Epoch 12/40\n",
            "80/80 [==============================] - 68s 845ms/step - loss: 0.2467 - mean_absolute_error: 0.2467 - coeff_determination: 0.6954 - val_loss: 0.2361 - val_mean_absolute_error: 0.2361 - val_coeff_determination: 0.6912\n",
            "Epoch 13/40\n",
            "80/80 [==============================] - 66s 825ms/step - loss: 0.2408 - mean_absolute_error: 0.2408 - coeff_determination: 0.6838 - val_loss: 0.2351 - val_mean_absolute_error: 0.2351 - val_coeff_determination: 0.7065\n",
            "Epoch 14/40\n",
            "80/80 [==============================] - 72s 895ms/step - loss: 0.2435 - mean_absolute_error: 0.2435 - coeff_determination: 0.6851 - val_loss: 0.2404 - val_mean_absolute_error: 0.2404 - val_coeff_determination: 0.6888\n",
            "Epoch 15/40\n",
            "80/80 [==============================] - 67s 827ms/step - loss: 0.2400 - mean_absolute_error: 0.2400 - coeff_determination: 0.6961 - val_loss: 0.2404 - val_mean_absolute_error: 0.2404 - val_coeff_determination: 0.6884\n",
            "Epoch 16/40\n",
            "80/80 [==============================] - 72s 891ms/step - loss: 0.2392 - mean_absolute_error: 0.2392 - coeff_determination: 0.6881 - val_loss: 0.2448 - val_mean_absolute_error: 0.2448 - val_coeff_determination: 0.6654\n",
            "Epoch 17/40\n",
            "80/80 [==============================] - 72s 891ms/step - loss: 0.2433 - mean_absolute_error: 0.2433 - coeff_determination: 0.6850 - val_loss: 0.2388 - val_mean_absolute_error: 0.2388 - val_coeff_determination: 0.6897\n",
            "Epoch 18/40\n",
            "80/80 [==============================] - 68s 841ms/step - loss: 0.2420 - mean_absolute_error: 0.2420 - coeff_determination: 0.6895 - val_loss: 0.2364 - val_mean_absolute_error: 0.2364 - val_coeff_determination: 0.6514\n"
          ],
          "name": "stdout"
        }
      ]
    },
    {
      "cell_type": "markdown",
      "metadata": {
        "id": "gGOaO68dmykv"
      },
      "source": [
        "\n",
        "## 7. Model Assessment and Visualizing the filters\n",
        "from : https://machinelearningmastery.com/how-to-visualize-filters-and-feature-maps-in-convolutional-neural-networks/"
      ]
    },
    {
      "cell_type": "code",
      "metadata": {
        "id": "VH5X20ZGmvQ-",
        "colab": {
          "base_uri": "https://localhost:8080/"
        },
        "outputId": "3974a8b3-fc37-4697-bd06-053fea7cc4eb"
      },
      "source": [
        "# summarize filter shapes\n",
        "for layer in cnn.layers:\n",
        "\t# check for convolutional layer\n",
        "\tif 'conv' not in layer.name:\n",
        "\t\tcontinue\n",
        "\t# get filter weights\n",
        "\tfilters, biases = layer.get_weights()\n",
        "\tprint(layer.name, filters.shape)\n",
        "\n",
        "#output is the name of the layer and the shape of the filter"
      ],
      "execution_count": null,
      "outputs": [
        {
          "output_type": "stream",
          "text": [
            "conv2d_4 (3, 3, 1, 32)\n",
            "conv2d_5 (3, 3, 32, 64)\n",
            "conv2d_6 (3, 3, 64, 128)\n",
            "conv2d_7 (3, 3, 128, 128)\n"
          ],
          "name": "stdout"
        }
      ]
    },
    {
      "cell_type": "code",
      "metadata": {
        "id": "MW6nMLu3mvOg",
        "colab": {
          "base_uri": "https://localhost:8080/",
          "height": 252
        },
        "outputId": "894d4d3a-e3dd-4fbe-acf8-24083822c61e"
      },
      "source": [
        "\n",
        "# plot first few filters\n",
        "n_filters, ix = 6, 1\n",
        "for i in range(n_filters):\n",
        "\t# get the filter\n",
        "\tf = filters[:, :, :, i]\n",
        "\t# plot each channel separately\n",
        "\tfor j in range(3):\n",
        "\t\t# specify subplot and turn of axis\n",
        "\t\tax = plt.subplot(n_filters, 3, ix)\n",
        "\t\tax.set_xticks([])\n",
        "\t\tax.set_yticks([])\n",
        "\t\t# plot filter channel in grayscale\n",
        "\t\tplt.imshow(f[:, :, j], cmap='gray')\n",
        "\t\tix += 1\n",
        "# show the figure\n",
        "plt.show()"
      ],
      "execution_count": null,
      "outputs": [
        {
          "output_type": "display_data",
          "data": {
            "image/png": "[encoded data removed]",
            "text/plain": [
              "<Figure size 432x288 with 18 Axes>"
            ]
          },
          "metadata": {}
        }
      ]
    },
    {
      "cell_type": "code",
      "metadata": {
        "id": "c-M2h4r-g1B2"
      },
      "source": [
        ""
      ],
      "execution_count": null,
      "outputs": []
    },
    {
      "cell_type": "code",
      "metadata": {
        "id": "6QWMkY5Jf-lN",
        "colab": {
          "base_uri": "https://localhost:8080/",
          "height": 361
        },
        "outputId": "d27f60ca-e95e-4f14-8eb7-947df6de84de"
      },
      "source": [
        "# plot first few filters\n",
        "fig= plt.figure(figsize=(16,6))\n",
        "n_filters, ix = 6, 1\n",
        "for i in range(n_filters):\n",
        "\t# get the filter\n",
        "\tf = filters[:, :, :, i]\n",
        "\t# plot each channel separately\n",
        "\tfor j in range(3):\n",
        "\t\t# specify subplot and turn of axis\n",
        "\t\tax = plt.subplot(n_filters, 3, ix)\n",
        "\t\tax.set_xticks([])\n",
        "\t\tax.set_yticks([])\n",
        "\t\t# plot filter channel in grayscale\n",
        "\t\tplt.imshow(f[:, :, j], cmap='gray')\n",
        "\t\tix += 1\n",
        "# show the figure\n",
        "plt.show()"
      ],
      "execution_count": null,
      "outputs": [
        {
          "output_type": "display_data",
          "data": {
            "image/png": "[encoded data removed]",
            "text/plain": [
              "<Figure size 1152x432 with 18 Axes>"
            ]
          },
          "metadata": {}
        }
      ]
    },
    {
      "cell_type": "code",
      "metadata": {
        "id": "Qni45qefbhdR"
      },
      "source": [
        "\n",
        "SMALL_SIZE = 16\n",
        "MEDIUM_SIZE = 20\n",
        "BIGGER_SIZE = 28\n",
        "\n",
        "plt.rc('font', size=SMALL_SIZE)          # controls default text sizes\n",
        "plt.rc('axes', titlesize=SMALL_SIZE)     # fontsize of the axes title\n",
        "plt.rc('axes', labelsize=MEDIUM_SIZE)    # fontsize of the x and y labels\n",
        "plt.rc('xtick', labelsize=SMALL_SIZE)    # fontsize of the tick labels\n",
        "plt.rc('ytick', labelsize=SMALL_SIZE)    # fontsize of the tick labels\n",
        "plt.rc('legend', fontsize=SMALL_SIZE)    # legend fontsize\n",
        "plt.rc('figure', titlesize=BIGGER_SIZE)  # fontsize of the figure title"
      ],
      "execution_count": null,
      "outputs": []
    },
    {
      "cell_type": "code",
      "metadata": {
        "id": "jIFnqSQ8bi18",
        "colab": {
          "base_uri": "https://localhost:8080/",
          "height": 426
        },
        "outputId": "58205bd8-ac53-4061-dedd-88b7346aba8b"
      },
      "source": [
        "# create figure\n",
        "fig= plt.figure(figsize=(16,6))\n",
        "#plt.suptitle('Artifical Neural Network on Home Features')\n",
        "titlesize=26\n",
        "fontsize=18\n",
        "# loss plot on left\n",
        "plt.subplot(1,2, 1)\n",
        "plt.plot(history.history['loss'])\n",
        "plt.plot(history.history['val_loss'])\n",
        "         \n",
        "plt.title('Model Loss', fontsize=titlesize)\n",
        "plt.ylabel('Mean absolute error in price', fontsize=fontsize)\n",
        "plt.xlabel('Epoch', fontsize=fontsize)\n",
        "plt.xticks([0, 4, 8, 12, 16,20 ])\n",
        "plt.legend(['Train', 'Test'], loc='upper right')\n",
        "\n",
        "# coeff plot on right\n",
        "plt.subplot(1,2, 2)\n",
        "plt.plot(history.history['coeff_determination'])\n",
        "plt.plot(history.history['val_coeff_determination'])\n",
        "\n",
        "plt.title('Coefficient of Determination', fontsize= titlesize)\n",
        "plt.ylabel('R-Squared',  fontsize=fontsize)\n",
        "plt.ylim(-1,1)\n",
        "plt.yticks([1, .8, .6, .4, .2, 0, -0.2, -0.4, -0.6, -0.8 ])\n",
        "plt.xticks([0, 4, 8, 12, 16,20 ])\n",
        "plt.xlabel('Epoch', fontsize=fontsize)\n",
        "plt.legend(['Train', 'Test'], loc='lower right')\n",
        "\n",
        "plt.show()"
      ],
      "execution_count": null,
      "outputs": [
        {
          "output_type": "display_data",
          "data": {
            "image/png": "[encoded data removed]",
            "text/plain": [
              "<Figure size 1152x432 with 2 Axes>"
            ]
          },
          "metadata": {
            "needs_background": "light"
          }
        }
      ]
    },
    {
      "cell_type": "code",
      "metadata": {
        "id": "61uAelQQhgVR"
      },
      "source": [
        ""
      ],
      "execution_count": null,
      "outputs": []
    },
    {
      "cell_type": "markdown",
      "metadata": {
        "id": "KUdhfT49hkQg"
      },
      "source": [
        "## 8. Mixed Inputs Model Adjusting: \n",
        "Adding more dense layers to MLP model"
      ]
    },
    {
      "cell_type": "markdown",
      "metadata": {
        "id": "-sUD4ibChkQh"
      },
      "source": [
        "#### 8a. Create modified MLP model (Features)"
      ]
    },
    {
      "cell_type": "code",
      "metadata": {
        "id": "hFfGCvh7hkQh"
      },
      "source": [
        "def create_mlp(dim):\n",
        "\t# define our MLP network\n",
        "  mlp_model = Sequential()\n",
        "  mlp_model.add(Dense(128, input_dim=dim,activation=\"relu\"))\n",
        "  mlp_model.add(Dense(32, activation=\"relu\"))\n",
        "  mlp_model.add(Dense(8, activation=\"relu\"))\n",
        "  mlp_model.add(Dense(1, activation=\"linear\"))\n",
        "  return mlp_model\n"
      ],
      "execution_count": null,
      "outputs": []
    },
    {
      "cell_type": "markdown",
      "metadata": {
        "id": "MRYYn9B3hkQh"
      },
      "source": [
        "#### 8b. Create CNN model (Images)"
      ]
    },
    {
      "cell_type": "code",
      "metadata": {
        "id": "2z4LaIrLhkQh"
      },
      "source": [
        "def create_cnn():\n",
        "  cnn2 = Sequential()\n",
        "  cnn2.add(Conv2D(32, kernel_size=(3,3), input_shape=(250,300,1),padding='same', activation='relu'))\n",
        "  cnn2.add(MaxPooling2D(pool_size=(2, 2)))\n",
        "  cnn2.add(Conv2D(64, kernel_size=(3,3), padding='same', activation='relu'))\n",
        "  cnn2.add(MaxPooling2D(pool_size=(2, 2)))\n",
        "  cnn2.add(Conv2D(128, kernel_size=(3,3), padding='same', activation='relu'))\n",
        "  cnn2.add(MaxPooling2D(pool_size=(2, 2)))\n",
        "  cnn2.add(Conv2D(128, kernel_size=(3,3), padding='same', activation='relu'))\n",
        "  cnn2.add(MaxPooling2D(pool_size=(2, 2)))\n",
        "  cnn2.add(Flatten())\n",
        "  cnn2.add(Dropout(0.5))\n",
        "  cnn2.add(Dense(512, activation='relu'))\n",
        "  cnn2.add(Dense(32, activation='relu'))\n",
        "  cnn2.add(Dense(1, activation='linear'))\n",
        "  return cnn2\n",
        "\n",
        "\n",
        "\n",
        "#cnn2.compile(optimizer='adam', loss='mean_absolute_error', metrics=[[coeff_determination, 'mae']])\n"
      ],
      "execution_count": null,
      "outputs": []
    },
    {
      "cell_type": "markdown",
      "metadata": {
        "id": "Qj25nn1fhkQh"
      },
      "source": [
        "#### 8c. Build the models, specifying input shape"
      ]
    },
    {
      "cell_type": "code",
      "metadata": {
        "id": "eGEORBW2hkQi"
      },
      "source": [
        "\n",
        "# create the MLP and CNN models\n",
        "mlp = create_mlp((features.shape[1]-1)) #numerical data\n",
        "# we first have to create the mlp model:\n",
        "cnn = create_cnn() # image data- we will use our 'cnn2' model\n"
      ],
      "execution_count": null,
      "outputs": []
    },
    {
      "cell_type": "code",
      "metadata": {
        "colab": {
          "base_uri": "https://localhost:8080/"
        },
        "id": "da9tYfdlhkQi",
        "outputId": "ec4c0b81-a446-4ee1-9694-b0379bae890b"
      },
      "source": [
        "mlp # checking what type this is"
      ],
      "execution_count": null,
      "outputs": [
        {
          "output_type": "execute_result",
          "data": {
            "text/plain": [
              "<keras.engine.sequential.Sequential at 0x7f1a300388d0>"
            ]
          },
          "metadata": {},
          "execution_count": 65
        }
      ]
    },
    {
      "cell_type": "code",
      "metadata": {
        "colab": {
          "base_uri": "https://localhost:8080/"
        },
        "id": "eCsSsIzvhkQi",
        "outputId": "0d220817-8275-43a7-862d-2d35ca2433ea"
      },
      "source": [
        "cnn # checking what type this is"
      ],
      "execution_count": null,
      "outputs": [
        {
          "output_type": "execute_result",
          "data": {
            "text/plain": [
              "<keras.engine.sequential.Sequential at 0x7f1a30038b50>"
            ]
          },
          "metadata": {},
          "execution_count": 66
        }
      ]
    },
    {
      "cell_type": "code",
      "metadata": {
        "colab": {
          "base_uri": "https://localhost:8080/"
        },
        "id": "1xVJEPn3hkQi",
        "outputId": "597ccd21-8f6f-4ae6-efde-fabcb7aee787"
      },
      "source": [
        "cnn.summary()"
      ],
      "execution_count": null,
      "outputs": [
        {
          "output_type": "stream",
          "text": [
            "Model: \"sequential_3\"\n",
            "_________________________________________________________________\n",
            "Layer (type)                 Output Shape              Param #   \n",
            "=================================================================\n",
            "conv2d_4 (Conv2D)            (None, 250, 300, 32)      320       \n",
            "_________________________________________________________________\n",
            "max_pooling2d_4 (MaxPooling2 (None, 125, 150, 32)      0         \n",
            "_________________________________________________________________\n",
            "conv2d_5 (Conv2D)            (None, 125, 150, 64)      18496     \n",
            "_________________________________________________________________\n",
            "max_pooling2d_5 (MaxPooling2 (None, 62, 75, 64)        0         \n",
            "_________________________________________________________________\n",
            "conv2d_6 (Conv2D)            (None, 62, 75, 128)       73856     \n",
            "_________________________________________________________________\n",
            "max_pooling2d_6 (MaxPooling2 (None, 31, 37, 128)       0         \n",
            "_________________________________________________________________\n",
            "conv2d_7 (Conv2D)            (None, 31, 37, 128)       147584    \n",
            "_________________________________________________________________\n",
            "max_pooling2d_7 (MaxPooling2 (None, 15, 18, 128)       0         \n",
            "_________________________________________________________________\n",
            "flatten_1 (Flatten)          (None, 34560)             0         \n",
            "_________________________________________________________________\n",
            "dropout_1 (Dropout)          (None, 34560)             0         \n",
            "_________________________________________________________________\n",
            "dense_12 (Dense)             (None, 512)               17695232  \n",
            "_________________________________________________________________\n",
            "dense_13 (Dense)             (None, 32)                16416     \n",
            "_________________________________________________________________\n",
            "dense_14 (Dense)             (None, 1)                 33        \n",
            "=================================================================\n",
            "Total params: 17,951,937\n",
            "Trainable params: 17,951,937\n",
            "Non-trainable params: 0\n",
            "_________________________________________________________________\n"
          ],
          "name": "stdout"
        }
      ]
    },
    {
      "cell_type": "code",
      "metadata": {
        "colab": {
          "base_uri": "https://localhost:8080/"
        },
        "id": "sO4LI0uxhkQi",
        "outputId": "ef4b347c-6093-4dfb-c4ff-10276f2cb0f8"
      },
      "source": [
        "# build() the model and specify the input shape\n",
        "mlp.build((features.shape[1]-1)) # `input_shape` is the shape of the input data\n",
        "                         # e.g. input_shape = (None, 32, 32, 3)\n",
        "mlp.summary()"
      ],
      "execution_count": null,
      "outputs": [
        {
          "output_type": "stream",
          "text": [
            "Model: \"sequential_2\"\n",
            "_________________________________________________________________\n",
            "Layer (type)                 Output Shape              Param #   \n",
            "=================================================================\n",
            "dense_8 (Dense)              (None, 128)               7040      \n",
            "_________________________________________________________________\n",
            "dense_9 (Dense)              (None, 32)                4128      \n",
            "_________________________________________________________________\n",
            "dense_10 (Dense)             (None, 8)                 264       \n",
            "_________________________________________________________________\n",
            "dense_11 (Dense)             (None, 1)                 9         \n",
            "=================================================================\n",
            "Total params: 11,441\n",
            "Trainable params: 11,441\n",
            "Non-trainable params: 0\n",
            "_________________________________________________________________\n"
          ],
          "name": "stdout"
        }
      ]
    },
    {
      "cell_type": "code",
      "metadata": {
        "colab": {
          "base_uri": "https://localhost:8080/"
        },
        "id": "CC_fGQxAhkQi",
        "outputId": "ba8abf1a-d06c-43bb-8642-106537bba781"
      },
      "source": [
        "mlp.input"
      ],
      "execution_count": null,
      "outputs": [
        {
          "output_type": "execute_result",
          "data": {
            "text/plain": [
              "<KerasTensor: shape=(None, 54) dtype=float32 (created by layer 'dense_8_input')>"
            ]
          },
          "metadata": {},
          "execution_count": 69
        }
      ]
    },
    {
      "cell_type": "code",
      "metadata": {
        "colab": {
          "base_uri": "https://localhost:8080/"
        },
        "id": "fQZ7j33chkQi",
        "outputId": "f43dbe09-88c8-40c5-8229-8a36977405d0"
      },
      "source": [
        "cnn.input"
      ],
      "execution_count": null,
      "outputs": [
        {
          "output_type": "execute_result",
          "data": {
            "text/plain": [
              "<KerasTensor: shape=(None, 250, 300, 1) dtype=float32 (created by layer 'conv2d_4_input')>"
            ]
          },
          "metadata": {},
          "execution_count": 70
        }
      ]
    },
    {
      "cell_type": "code",
      "metadata": {
        "colab": {
          "base_uri": "https://localhost:8080/"
        },
        "id": "VXqDNl16hkQi",
        "outputId": "d9e8cfd3-b862-4614-c138-ce94e49be7b2"
      },
      "source": [
        "mlp.output"
      ],
      "execution_count": null,
      "outputs": [
        {
          "output_type": "execute_result",
          "data": {
            "text/plain": [
              "<KerasTensor: shape=(None, 1) dtype=float32 (created by layer 'dense_11')>"
            ]
          },
          "metadata": {},
          "execution_count": 71
        }
      ]
    },
    {
      "cell_type": "code",
      "metadata": {
        "colab": {
          "base_uri": "https://localhost:8080/"
        },
        "id": "DzxiPIPshkQi",
        "outputId": "973dfa43-5d43-46e9-9e01-5b17e73906c8"
      },
      "source": [
        "cnn.output"
      ],
      "execution_count": null,
      "outputs": [
        {
          "output_type": "execute_result",
          "data": {
            "text/plain": [
              "<KerasTensor: shape=(None, 1) dtype=float32 (created by layer 'dense_14')>"
            ]
          },
          "metadata": {},
          "execution_count": 72
        }
      ]
    },
    {
      "cell_type": "code",
      "metadata": {
        "colab": {
          "base_uri": "https://localhost:8080/"
        },
        "id": "-ND6n7cvhkQi",
        "outputId": "6ef70290-f19c-4fc0-c56c-58060ef384ca"
      },
      "source": [
        "# build() the model and specify the input shape\n",
        "cnn.build((250, 300, 1)) # `input_shape` is the shape of the input data\n",
        "                         # e.g. input_shape = (None, 32, 32, 3)\n",
        "cnn.summary()"
      ],
      "execution_count": null,
      "outputs": [
        {
          "output_type": "stream",
          "text": [
            "Model: \"sequential_3\"\n",
            "_________________________________________________________________\n",
            "Layer (type)                 Output Shape              Param #   \n",
            "=================================================================\n",
            "conv2d_4 (Conv2D)            (None, 250, 300, 32)      320       \n",
            "_________________________________________________________________\n",
            "max_pooling2d_4 (MaxPooling2 (None, 125, 150, 32)      0         \n",
            "_________________________________________________________________\n",
            "conv2d_5 (Conv2D)            (None, 125, 150, 64)      18496     \n",
            "_________________________________________________________________\n",
            "max_pooling2d_5 (MaxPooling2 (None, 62, 75, 64)        0         \n",
            "_________________________________________________________________\n",
            "conv2d_6 (Conv2D)            (None, 62, 75, 128)       73856     \n",
            "_________________________________________________________________\n",
            "max_pooling2d_6 (MaxPooling2 (None, 31, 37, 128)       0         \n",
            "_________________________________________________________________\n",
            "conv2d_7 (Conv2D)            (None, 31, 37, 128)       147584    \n",
            "_________________________________________________________________\n",
            "max_pooling2d_7 (MaxPooling2 (None, 15, 18, 128)       0         \n",
            "_________________________________________________________________\n",
            "flatten_1 (Flatten)          (None, 34560)             0         \n",
            "_________________________________________________________________\n",
            "dropout_1 (Dropout)          (None, 34560)             0         \n",
            "_________________________________________________________________\n",
            "dense_12 (Dense)             (None, 512)               17695232  \n",
            "_________________________________________________________________\n",
            "dense_13 (Dense)             (None, 32)                16416     \n",
            "_________________________________________________________________\n",
            "dense_14 (Dense)             (None, 1)                 33        \n",
            "=================================================================\n",
            "Total params: 17,951,937\n",
            "Trainable params: 17,951,937\n",
            "Non-trainable params: 0\n",
            "_________________________________________________________________\n"
          ],
          "name": "stdout"
        }
      ]
    },
    {
      "cell_type": "markdown",
      "metadata": {
        "id": "pOVqCu5lhkQj"
      },
      "source": [
        "#### 8d. Concatenate the two input models and compile the final model"
      ]
    },
    {
      "cell_type": "code",
      "metadata": {
        "id": "qEpFCsvfhkQj"
      },
      "source": [
        "from keras.layers import concatenate\n",
        "\n",
        "# create the input to our final set of layers as the *output* of both\n",
        "# the MLP and CNN\n",
        "\n",
        "combinedInput = concatenate([mlp.output, cnn.output])\n",
        "# our final FC layer head will have two dense layers, the final one\n",
        "# being our regression head\n",
        "x = Dense(4, activation=\"relu\")(combinedInput)\n",
        "x = Dense(1, activation=\"linear\")(x)\n",
        "# our final model will accept categorical/numerical data on the MLP\n",
        "# input and images on the CNN input, outputting a single value (the\n",
        "# predicted price of the house)\n",
        "model = Model(inputs=[mlp.input, cnn.input], outputs=x)\n"
      ],
      "execution_count": null,
      "outputs": []
    },
    {
      "cell_type": "code",
      "metadata": {
        "id": "Tclhw1uHhkQj"
      },
      "source": [
        "opt = keras.optimizers.Adam(learning_rate=0.01)\n",
        "model.compile(optimizer=opt, loss='mean_absolute_error', metrics=[['mean_absolute_error', coeff_determination]])\n",
        "\n",
        "\n",
        "#model.compile(loss='categorical_crossentropy', optimizer=opt)"
      ],
      "execution_count": null,
      "outputs": []
    },
    {
      "cell_type": "code",
      "metadata": {
        "colab": {
          "base_uri": "https://localhost:8080/"
        },
        "id": "uZCtaAUdhkQj",
        "outputId": "c1beaa74-c584-412c-c46a-c166f7093367"
      },
      "source": [
        "model.summary()"
      ],
      "execution_count": null,
      "outputs": [
        {
          "output_type": "stream",
          "text": [
            "Model: \"model_1\"\n",
            "__________________________________________________________________________________________________\n",
            "Layer (type)                    Output Shape         Param #     Connected to                     \n",
            "==================================================================================================\n",
            "conv2d_4_input (InputLayer)     [(None, 250, 300, 1) 0                                            \n",
            "__________________________________________________________________________________________________\n",
            "conv2d_4 (Conv2D)               (None, 250, 300, 32) 320         conv2d_4_input[0][0]             \n",
            "__________________________________________________________________________________________________\n",
            "max_pooling2d_4 (MaxPooling2D)  (None, 125, 150, 32) 0           conv2d_4[0][0]                   \n",
            "__________________________________________________________________________________________________\n",
            "conv2d_5 (Conv2D)               (None, 125, 150, 64) 18496       max_pooling2d_4[0][0]            \n",
            "__________________________________________________________________________________________________\n",
            "max_pooling2d_5 (MaxPooling2D)  (None, 62, 75, 64)   0           conv2d_5[0][0]                   \n",
            "__________________________________________________________________________________________________\n",
            "conv2d_6 (Conv2D)               (None, 62, 75, 128)  73856       max_pooling2d_5[0][0]            \n",
            "__________________________________________________________________________________________________\n",
            "max_pooling2d_6 (MaxPooling2D)  (None, 31, 37, 128)  0           conv2d_6[0][0]                   \n",
            "__________________________________________________________________________________________________\n",
            "conv2d_7 (Conv2D)               (None, 31, 37, 128)  147584      max_pooling2d_6[0][0]            \n",
            "__________________________________________________________________________________________________\n",
            "max_pooling2d_7 (MaxPooling2D)  (None, 15, 18, 128)  0           conv2d_7[0][0]                   \n",
            "__________________________________________________________________________________________________\n",
            "dense_8_input (InputLayer)      [(None, 54)]         0                                            \n",
            "__________________________________________________________________________________________________\n",
            "flatten_1 (Flatten)             (None, 34560)        0           max_pooling2d_7[0][0]            \n",
            "__________________________________________________________________________________________________\n",
            "dense_8 (Dense)                 (None, 128)          7040        dense_8_input[0][0]              \n",
            "__________________________________________________________________________________________________\n",
            "dropout_1 (Dropout)             (None, 34560)        0           flatten_1[0][0]                  \n",
            "__________________________________________________________________________________________________\n",
            "dense_9 (Dense)                 (None, 32)           4128        dense_8[0][0]                    \n",
            "__________________________________________________________________________________________________\n",
            "dense_12 (Dense)                (None, 512)          17695232    dropout_1[0][0]                  \n",
            "__________________________________________________________________________________________________\n",
            "dense_10 (Dense)                (None, 8)            264         dense_9[0][0]                    \n",
            "__________________________________________________________________________________________________\n",
            "dense_13 (Dense)                (None, 32)           16416       dense_12[0][0]                   \n",
            "__________________________________________________________________________________________________\n",
            "dense_11 (Dense)                (None, 1)            9           dense_10[0][0]                   \n",
            "__________________________________________________________________________________________________\n",
            "dense_14 (Dense)                (None, 1)            33          dense_13[0][0]                   \n",
            "__________________________________________________________________________________________________\n",
            "concatenate_1 (Concatenate)     (None, 2)            0           dense_11[0][0]                   \n",
            "                                                                 dense_14[0][0]                   \n",
            "__________________________________________________________________________________________________\n",
            "dense_15 (Dense)                (None, 4)            12          concatenate_1[0][0]              \n",
            "__________________________________________________________________________________________________\n",
            "dense_16 (Dense)                (None, 1)            5           dense_15[0][0]                   \n",
            "==================================================================================================\n",
            "Total params: 17,963,395\n",
            "Trainable params: 17,963,395\n",
            "Non-trainable params: 0\n",
            "__________________________________________________________________________________________________\n"
          ],
          "name": "stdout"
        }
      ]
    },
    {
      "cell_type": "code",
      "metadata": {
        "id": "sqc-KcKqjhOh"
      },
      "source": [
        ""
      ],
      "execution_count": null,
      "outputs": []
    },
    {
      "cell_type": "markdown",
      "metadata": {
        "id": "Wso5uj-hjj_4"
      },
      "source": [
        "## 9. Training the modified model"
      ]
    },
    {
      "cell_type": "code",
      "metadata": {
        "colab": {
          "base_uri": "https://localhost:8080/"
        },
        "id": "eNn9SFJyjizz",
        "outputId": "5a12411b-e35b-464a-97d2-4ac5fddfaf6d"
      },
      "source": [
        "\n",
        "history = model.fit_generator(generator=training_generator,\n",
        "                    validation_data=validation_generator, \n",
        "                    epochs = 40, steps_per_epoch=80, callbacks=[monitor_val_loss],                   \n",
        "                    use_multiprocessing=True,)\n",
        "                    "
      ],
      "execution_count": null,
      "outputs": [
        {
          "output_type": "stream",
          "text": [
            "/usr/local/lib/python3.7/dist-packages/keras/engine/training.py:1972: UserWarning: `Model.fit_generator` is deprecated and will be removed in a future version. Please use `Model.fit`, which supports generators.\n",
            "  warnings.warn('`Model.fit_generator` is deprecated and '\n"
          ],
          "name": "stderr"
        },
        {
          "output_type": "stream",
          "text": [
            "Epoch 1/40\n",
            "80/80 [==============================] - 65s 799ms/step - loss: 4.0772 - mean_absolute_error: 4.0772 - coeff_determination: -1859.1055 - val_loss: nan - val_mean_absolute_error: nan - val_coeff_determination: nan\n",
            "Epoch 2/40\n",
            "80/80 [==============================] - 64s 797ms/step - loss: 0.2745 - mean_absolute_error: 0.2745 - coeff_determination: 0.5822 - val_loss: 0.2491 - val_mean_absolute_error: 0.2491 - val_coeff_determination: 0.6809\n",
            "Epoch 3/40\n",
            "80/80 [==============================] - 63s 786ms/step - loss: 0.2501 - mean_absolute_error: 0.2501 - coeff_determination: 0.6615 - val_loss: 0.2398 - val_mean_absolute_error: 0.2398 - val_coeff_determination: 0.6949\n",
            "Epoch 4/40\n",
            "80/80 [==============================] - 67s 839ms/step - loss: 0.2481 - mean_absolute_error: 0.2481 - coeff_determination: 0.6865 - val_loss: 0.2383 - val_mean_absolute_error: 0.2383 - val_coeff_determination: 0.6899\n",
            "Epoch 5/40\n",
            "80/80 [==============================] - 63s 775ms/step - loss: 0.2448 - mean_absolute_error: 0.2448 - coeff_determination: 0.6845 - val_loss: 0.2366 - val_mean_absolute_error: 0.2366 - val_coeff_determination: 0.7045\n",
            "Epoch 6/40\n",
            "80/80 [==============================] - 61s 765ms/step - loss: 0.2385 - mean_absolute_error: 0.2385 - coeff_determination: 0.6982 - val_loss: 0.2592 - val_mean_absolute_error: 0.2592 - val_coeff_determination: 0.6260\n",
            "Epoch 7/40\n",
            "80/80 [==============================] - 62s 766ms/step - loss: 0.2421 - mean_absolute_error: 0.2421 - coeff_determination: 0.6816 - val_loss: 0.2324 - val_mean_absolute_error: 0.2324 - val_coeff_determination: 0.6710\n",
            "Epoch 8/40\n",
            "80/80 [==============================] - 62s 771ms/step - loss: 0.2349 - mean_absolute_error: 0.2349 - coeff_determination: 0.7002 - val_loss: 0.2363 - val_mean_absolute_error: 0.2363 - val_coeff_determination: 0.6982\n",
            "Epoch 9/40\n",
            "80/80 [==============================] - 62s 771ms/step - loss: 0.2419 - mean_absolute_error: 0.2419 - coeff_determination: 0.6873 - val_loss: 0.2307 - val_mean_absolute_error: 0.2307 - val_coeff_determination: 0.6863\n",
            "Epoch 10/40\n",
            "80/80 [==============================] - 67s 840ms/step - loss: 0.2391 - mean_absolute_error: 0.2391 - coeff_determination: 0.6967 - val_loss: 0.2395 - val_mean_absolute_error: 0.2395 - val_coeff_determination: 0.6548\n",
            "Epoch 11/40\n",
            "80/80 [==============================] - 62s 776ms/step - loss: 0.2362 - mean_absolute_error: 0.2362 - coeff_determination: 0.6873 - val_loss: 0.2382 - val_mean_absolute_error: 0.2382 - val_coeff_determination: 0.6512\n",
            "Epoch 12/40\n",
            "80/80 [==============================] - 62s 769ms/step - loss: 0.2371 - mean_absolute_error: 0.2371 - coeff_determination: 0.6837 - val_loss: 0.2341 - val_mean_absolute_error: 0.2341 - val_coeff_determination: 0.6913\n",
            "Epoch 13/40\n",
            "80/80 [==============================] - 62s 771ms/step - loss: 0.2380 - mean_absolute_error: 0.2380 - coeff_determination: 0.6907 - val_loss: 0.2298 - val_mean_absolute_error: 0.2298 - val_coeff_determination: 0.6481\n",
            "Epoch 14/40\n",
            "80/80 [==============================] - 62s 767ms/step - loss: 0.2378 - mean_absolute_error: 0.2378 - coeff_determination: 0.6955 - val_loss: 0.2468 - val_mean_absolute_error: 0.2468 - val_coeff_determination: 0.5860\n",
            "Epoch 15/40\n",
            "80/80 [==============================] - 62s 774ms/step - loss: 0.2400 - mean_absolute_error: 0.2400 - coeff_determination: 0.6759 - val_loss: 0.2334 - val_mean_absolute_error: 0.2334 - val_coeff_determination: 0.6759\n",
            "Epoch 16/40\n",
            "80/80 [==============================] - 61s 765ms/step - loss: 0.2350 - mean_absolute_error: 0.2350 - coeff_determination: 0.6946 - val_loss: 0.2299 - val_mean_absolute_error: 0.2299 - val_coeff_determination: 0.7137\n",
            "Epoch 17/40\n",
            "80/80 [==============================] - 62s 769ms/step - loss: 0.2308 - mean_absolute_error: 0.2308 - coeff_determination: 0.6926 - val_loss: 0.2356 - val_mean_absolute_error: 0.2356 - val_coeff_determination: 0.6901\n",
            "Epoch 18/40\n",
            "80/80 [==============================] - 62s 772ms/step - loss: 0.2349 - mean_absolute_error: 0.2349 - coeff_determination: 0.6848 - val_loss: 0.2309 - val_mean_absolute_error: 0.2309 - val_coeff_determination: 0.6864\n"
          ],
          "name": "stdout"
        }
      ]
    },
    {
      "cell_type": "code",
      "metadata": {
        "id": "xuPiZwA7jyB4"
      },
      "source": [
        ""
      ],
      "execution_count": null,
      "outputs": []
    },
    {
      "cell_type": "markdown",
      "metadata": {
        "id": "TqB401fVjyxw"
      },
      "source": [
        "\n",
        "## 10. Model Assessment and Visualizing the filters"
      ]
    },
    {
      "cell_type": "code",
      "metadata": {
        "colab": {
          "base_uri": "https://localhost:8080/"
        },
        "id": "J8ALX332jyxw",
        "outputId": "49f1ae80-8620-4f66-ca50-a74753874d14"
      },
      "source": [
        "# summarize filter shapes\n",
        "for layer in cnn.layers:\n",
        "\t# check for convolutional layer\n",
        "\tif 'conv' not in layer.name:\n",
        "\t\tcontinue\n",
        "\t# get filter weights\n",
        "\tfilters, biases = layer.get_weights()\n",
        "\tprint(layer.name, filters.shape)\n",
        "\n",
        "#output is the name of the layer and the shape of the filter"
      ],
      "execution_count": null,
      "outputs": [
        {
          "output_type": "stream",
          "text": [
            "conv2d_4 (3, 3, 1, 32)\n",
            "conv2d_5 (3, 3, 32, 64)\n",
            "conv2d_6 (3, 3, 64, 128)\n",
            "conv2d_7 (3, 3, 128, 128)\n"
          ],
          "name": "stdout"
        }
      ]
    },
    {
      "cell_type": "code",
      "metadata": {
        "colab": {
          "base_uri": "https://localhost:8080/",
          "height": 252
        },
        "id": "WnIxSj6qjyxw",
        "outputId": "e54ee86e-c6ca-43c9-885c-e3b54c277eb2"
      },
      "source": [
        "\n",
        "# plot first few filters\n",
        "n_filters, ix = 6, 1\n",
        "for i in range(n_filters):\n",
        "\t# get the filter\n",
        "\tf = filters[:, :, :, i]\n",
        "\t# plot each channel separately\n",
        "\tfor j in range(3):\n",
        "\t\t# specify subplot and turn of axis\n",
        "\t\tax = plt.subplot(n_filters, 3, ix)\n",
        "\t\tax.set_xticks([])\n",
        "\t\tax.set_yticks([])\n",
        "\t\t# plot filter channel in grayscale\n",
        "\t\tplt.imshow(f[:, :, j], cmap='gray')\n",
        "\t\tix += 1\n",
        "# show the figure\n",
        "plt.show()"
      ],
      "execution_count": null,
      "outputs": [
        {
          "output_type": "display_data",
          "data": {
            "image/png": "[encoded data removed]",
            "text/plain": [
              "<Figure size 432x288 with 18 Axes>"
            ]
          },
          "metadata": {}
        }
      ]
    },
    {
      "cell_type": "code",
      "metadata": {
        "id": "F6AQV4uEjyxx"
      },
      "source": [
        "\n",
        "SMALL_SIZE = 16\n",
        "MEDIUM_SIZE = 20\n",
        "BIGGER_SIZE = 28\n",
        "\n",
        "plt.rc('font', size=SMALL_SIZE)          # controls default text sizes\n",
        "plt.rc('axes', titlesize=SMALL_SIZE)     # fontsize of the axes title\n",
        "plt.rc('axes', labelsize=MEDIUM_SIZE)    # fontsize of the x and y labels\n",
        "plt.rc('xtick', labelsize=SMALL_SIZE)    # fontsize of the tick labels\n",
        "plt.rc('ytick', labelsize=SMALL_SIZE)    # fontsize of the tick labels\n",
        "plt.rc('legend', fontsize=SMALL_SIZE)    # legend fontsize\n",
        "plt.rc('figure', titlesize=BIGGER_SIZE)  # fontsize of the figure title"
      ],
      "execution_count": null,
      "outputs": []
    },
    {
      "cell_type": "code",
      "metadata": {
        "colab": {
          "base_uri": "https://localhost:8080/",
          "height": 426
        },
        "id": "VFHCTZKVjyxx",
        "outputId": "6a0cbfa1-1d75-4788-8473-3e5fff1997ec"
      },
      "source": [
        "# create figure\n",
        "fig= plt.figure(figsize=(16,6))\n",
        "#plt.suptitle('Artifical Neural Network on Home Features')\n",
        "titlesize=26\n",
        "fontsize=18\n",
        "# loss plot on left\n",
        "plt.subplot(1,2, 1)\n",
        "plt.plot(history.history['loss'])\n",
        "plt.plot(history.history['val_loss'])\n",
        "         \n",
        "plt.title('Model Loss', fontsize=titlesize)\n",
        "plt.ylabel('Mean absolute error in price', fontsize=fontsize)\n",
        "plt.xlabel('Epoch', fontsize=fontsize)\n",
        "plt.xticks([0, 4, 8, 12, 16,20 ])\n",
        "plt.legend(['Train', 'Test'], loc='upper right')\n",
        "\n",
        "# coeff plot on right\n",
        "plt.subplot(1,2, 2)\n",
        "plt.plot(history.history['coeff_determination'])\n",
        "plt.plot(history.history['val_coeff_determination'])\n",
        "\n",
        "plt.title('Coefficient of Determination', fontsize= titlesize)\n",
        "plt.ylabel('R-Squared',  fontsize=fontsize)\n",
        "plt.ylim(-1,1)\n",
        "plt.yticks([1, .8, .6, .4, .2, 0, -0.2, -0.4, -0.6, -0.8 ])\n",
        "plt.xlabel('Epoch', fontsize=fontsize)\n",
        "plt.xticks([0, 4, 8, 12, 16,20 ])\n",
        "plt.legend(['Train', 'Test'], loc='lower right')\n",
        "\n",
        "plt.show()"
      ],
      "execution_count": null,
      "outputs": [
        {
          "output_type": "display_data",
          "data": {
            "image/png": "[encoded data removed]",
            "text/plain": [
              "<Figure size 1152x432 with 2 Axes>"
            ]
          },
          "metadata": {
            "needs_background": "light"
          }
        }
      ]
    },
    {
      "cell_type": "markdown",
      "metadata": {
        "id": "QZQpXtyjXdo8"
      },
      "source": [
        "Conclusion: Normalizing the price values and adding an extra layer did not greatly improve performance."
      ]
    },
    {
      "cell_type": "code",
      "metadata": {
        "id": "dV_ZfinLmopV"
      },
      "source": [
        ""
      ],
      "execution_count": null,
      "outputs": []
    },
    {
      "cell_type": "markdown",
      "metadata": {
        "id": "vWdcts2wmpRA"
      },
      "source": [
        "## 11. Mixed Inputs Model Adjusting: \n",
        "Adding more dense layers to MLP model.\n",
        "Increasing kernel size to 7x7."
      ]
    },
    {
      "cell_type": "markdown",
      "metadata": {
        "id": "1UBnCLVSmpRB"
      },
      "source": [
        "#### 11a. Create modified MLP model (Features)"
      ]
    },
    {
      "cell_type": "code",
      "metadata": {
        "id": "1T27k12FmpRB"
      },
      "source": [
        "def create_mlp(dim):\n",
        "\t# define our MLP network\n",
        "  mlp_model = Sequential()\n",
        "  mlp_model.add(Dense(128, input_dim=dim,activation=\"relu\"))\n",
        "  mlp_model.add(Dense(32, activation=\"relu\"))\n",
        "  mlp_model.add(Dense(8, activation=\"relu\"))\n",
        "  mlp_model.add(Dense(1, activation=\"linear\"))\n",
        "  return mlp_model\n"
      ],
      "execution_count": 40,
      "outputs": []
    },
    {
      "cell_type": "markdown",
      "metadata": {
        "id": "wSFbjVmRmpRB"
      },
      "source": [
        "#### 11b. Create CNN model (Images)"
      ]
    },
    {
      "cell_type": "code",
      "metadata": {
        "id": "Q5yPGEuompRB"
      },
      "source": [
        "def create_cnn():\n",
        "  cnn2 = Sequential()\n",
        "  cnn2.add(Conv2D(32, kernel_size=(7,7), input_shape=(250,300,1),padding='same', activation='relu'))\n",
        "  cnn2.add(MaxPooling2D(pool_size=(2, 2)))\n",
        "  cnn2.add(Conv2D(64, kernel_size=(7,7), padding='same', activation='relu'))\n",
        "  cnn2.add(MaxPooling2D(pool_size=(2, 2)))\n",
        "  cnn2.add(Conv2D(128, kernel_size=(7,7), padding='same', activation='relu'))\n",
        "  cnn2.add(MaxPooling2D(pool_size=(2, 2)))\n",
        "  cnn2.add(Conv2D(128, kernel_size=(7,7), padding='same', activation='relu'))\n",
        "  cnn2.add(MaxPooling2D(pool_size=(2, 2)))\n",
        "  cnn2.add(Flatten())\n",
        "  cnn2.add(Dropout(0.5))\n",
        "  cnn2.add(Dense(512, activation='relu'))\n",
        "  cnn2.add(Dense(32, activation='relu'))\n",
        "  cnn2.add(Dense(1, activation='linear'))\n",
        "  return cnn2\n",
        "\n",
        "\n",
        "\n",
        "#cnn2.compile(optimizer='adam', loss='mean_absolute_error', metrics=[[coeff_determination, 'mae']])\n"
      ],
      "execution_count": 41,
      "outputs": []
    },
    {
      "cell_type": "markdown",
      "metadata": {
        "id": "RBhMx5WvmpRB"
      },
      "source": [
        "#### 11c. Build the models, specifying input shape"
      ]
    },
    {
      "cell_type": "code",
      "metadata": {
        "id": "AjxTFQgbmpRB"
      },
      "source": [
        "\n",
        "# create the MLP and CNN models\n",
        "mlp = create_mlp((features.shape[1]-1)) #numerical data\n",
        "# we first have to create the mlp model:\n",
        "cnn = create_cnn() # image data- we will use our 'cnn2' model\n"
      ],
      "execution_count": 42,
      "outputs": []
    },
    {
      "cell_type": "code",
      "metadata": {
        "colab": {
          "base_uri": "https://localhost:8080/"
        },
        "id": "Q2iZg_rtmpRB",
        "outputId": "32b75d30-5744-444b-b61a-6698e00466c0"
      },
      "source": [
        "mlp # checking what type this is"
      ],
      "execution_count": 43,
      "outputs": [
        {
          "output_type": "execute_result",
          "data": {
            "text/plain": [
              "<keras.engine.sequential.Sequential at 0x7f1211842890>"
            ]
          },
          "metadata": {},
          "execution_count": 43
        }
      ]
    },
    {
      "cell_type": "code",
      "metadata": {
        "colab": {
          "base_uri": "https://localhost:8080/"
        },
        "id": "QwrVOLffmpRC",
        "outputId": "e49e380d-e349-414e-f5bf-d950e323145c"
      },
      "source": [
        "cnn # checking what type this is"
      ],
      "execution_count": 44,
      "outputs": [
        {
          "output_type": "execute_result",
          "data": {
            "text/plain": [
              "<keras.engine.sequential.Sequential at 0x7f12117cde10>"
            ]
          },
          "metadata": {},
          "execution_count": 44
        }
      ]
    },
    {
      "cell_type": "code",
      "metadata": {
        "colab": {
          "base_uri": "https://localhost:8080/"
        },
        "id": "RBA64MLQmpRC",
        "outputId": "834c118f-e8ea-485e-d18d-6a533b5a7e77"
      },
      "source": [
        "cnn.summary()"
      ],
      "execution_count": 45,
      "outputs": [
        {
          "output_type": "stream",
          "name": "stdout",
          "text": [
            "Model: \"sequential_1\"\n",
            "_________________________________________________________________\n",
            "Layer (type)                 Output Shape              Param #   \n",
            "=================================================================\n",
            "conv2d (Conv2D)              (None, 250, 300, 32)      1600      \n",
            "_________________________________________________________________\n",
            "max_pooling2d (MaxPooling2D) (None, 125, 150, 32)      0         \n",
            "_________________________________________________________________\n",
            "conv2d_1 (Conv2D)            (None, 125, 150, 64)      100416    \n",
            "_________________________________________________________________\n",
            "max_pooling2d_1 (MaxPooling2 (None, 62, 75, 64)        0         \n",
            "_________________________________________________________________\n",
            "conv2d_2 (Conv2D)            (None, 62, 75, 128)       401536    \n",
            "_________________________________________________________________\n",
            "max_pooling2d_2 (MaxPooling2 (None, 31, 37, 128)       0         \n",
            "_________________________________________________________________\n",
            "conv2d_3 (Conv2D)            (None, 31, 37, 128)       802944    \n",
            "_________________________________________________________________\n",
            "max_pooling2d_3 (MaxPooling2 (None, 15, 18, 128)       0         \n",
            "_________________________________________________________________\n",
            "flatten (Flatten)            (None, 34560)             0         \n",
            "_________________________________________________________________\n",
            "dropout (Dropout)            (None, 34560)             0         \n",
            "_________________________________________________________________\n",
            "dense_4 (Dense)              (None, 512)               17695232  \n",
            "_________________________________________________________________\n",
            "dense_5 (Dense)              (None, 32)                16416     \n",
            "_________________________________________________________________\n",
            "dense_6 (Dense)              (None, 1)                 33        \n",
            "=================================================================\n",
            "Total params: 19,018,177\n",
            "Trainable params: 19,018,177\n",
            "Non-trainable params: 0\n",
            "_________________________________________________________________\n"
          ]
        }
      ]
    },
    {
      "cell_type": "code",
      "metadata": {
        "colab": {
          "base_uri": "https://localhost:8080/"
        },
        "id": "5pbvAN1SmpRC",
        "outputId": "2131fd72-7a0f-44e7-f17d-fb2ad8e7427c"
      },
      "source": [
        "# build() the model and specify the input shape\n",
        "mlp.build((features.shape[1]-1)) # `input_shape` is the shape of the input data\n",
        "                         # e.g. input_shape = (None, 32, 32, 3)\n",
        "mlp.summary()"
      ],
      "execution_count": 46,
      "outputs": [
        {
          "output_type": "stream",
          "name": "stdout",
          "text": [
            "Model: \"sequential\"\n",
            "_________________________________________________________________\n",
            "Layer (type)                 Output Shape              Param #   \n",
            "=================================================================\n",
            "dense (Dense)                (None, 128)               7040      \n",
            "_________________________________________________________________\n",
            "dense_1 (Dense)              (None, 32)                4128      \n",
            "_________________________________________________________________\n",
            "dense_2 (Dense)              (None, 8)                 264       \n",
            "_________________________________________________________________\n",
            "dense_3 (Dense)              (None, 1)                 9         \n",
            "=================================================================\n",
            "Total params: 11,441\n",
            "Trainable params: 11,441\n",
            "Non-trainable params: 0\n",
            "_________________________________________________________________\n"
          ]
        }
      ]
    },
    {
      "cell_type": "code",
      "metadata": {
        "colab": {
          "base_uri": "https://localhost:8080/"
        },
        "id": "lISxl6vxmpRC",
        "outputId": "a4d1bfe1-0741-410a-ac51-b2afdc3bc3a8"
      },
      "source": [
        "mlp.input"
      ],
      "execution_count": 47,
      "outputs": [
        {
          "output_type": "execute_result",
          "data": {
            "text/plain": [
              "<KerasTensor: shape=(None, 54) dtype=float32 (created by layer 'dense_input')>"
            ]
          },
          "metadata": {},
          "execution_count": 47
        }
      ]
    },
    {
      "cell_type": "code",
      "metadata": {
        "colab": {
          "base_uri": "https://localhost:8080/"
        },
        "id": "UHj2CySompRC",
        "outputId": "9f8d2858-af32-40c7-a1c1-014d93237299"
      },
      "source": [
        "cnn.input"
      ],
      "execution_count": 48,
      "outputs": [
        {
          "output_type": "execute_result",
          "data": {
            "text/plain": [
              "<KerasTensor: shape=(None, 250, 300, 1) dtype=float32 (created by layer 'conv2d_input')>"
            ]
          },
          "metadata": {},
          "execution_count": 48
        }
      ]
    },
    {
      "cell_type": "code",
      "metadata": {
        "colab": {
          "base_uri": "https://localhost:8080/"
        },
        "id": "b9DP7cSompRD",
        "outputId": "e13b0b10-e98f-4e34-b38a-6eff6819b25e"
      },
      "source": [
        "mlp.output"
      ],
      "execution_count": 49,
      "outputs": [
        {
          "output_type": "execute_result",
          "data": {
            "text/plain": [
              "<KerasTensor: shape=(None, 1) dtype=float32 (created by layer 'dense_3')>"
            ]
          },
          "metadata": {},
          "execution_count": 49
        }
      ]
    },
    {
      "cell_type": "code",
      "metadata": {
        "colab": {
          "base_uri": "https://localhost:8080/"
        },
        "id": "GJ59O1rbmpRD",
        "outputId": "6519c65c-cdaf-4367-e6e3-2a4169e1b675"
      },
      "source": [
        "cnn.output"
      ],
      "execution_count": 50,
      "outputs": [
        {
          "output_type": "execute_result",
          "data": {
            "text/plain": [
              "<KerasTensor: shape=(None, 1) dtype=float32 (created by layer 'dense_6')>"
            ]
          },
          "metadata": {},
          "execution_count": 50
        }
      ]
    },
    {
      "cell_type": "code",
      "metadata": {
        "colab": {
          "base_uri": "https://localhost:8080/"
        },
        "id": "Ccu8HpWBmpRD",
        "outputId": "e0039524-3227-489a-c105-3163612385d2"
      },
      "source": [
        "# build() the model and specify the input shape\n",
        "cnn.build((250, 300, 1)) # `input_shape` is the shape of the input data\n",
        "                         # e.g. input_shape = (None, 32, 32, 3)\n",
        "cnn.summary()"
      ],
      "execution_count": 51,
      "outputs": [
        {
          "output_type": "stream",
          "name": "stdout",
          "text": [
            "Model: \"sequential_1\"\n",
            "_________________________________________________________________\n",
            "Layer (type)                 Output Shape              Param #   \n",
            "=================================================================\n",
            "conv2d (Conv2D)              (None, 250, 300, 32)      1600      \n",
            "_________________________________________________________________\n",
            "max_pooling2d (MaxPooling2D) (None, 125, 150, 32)      0         \n",
            "_________________________________________________________________\n",
            "conv2d_1 (Conv2D)            (None, 125, 150, 64)      100416    \n",
            "_________________________________________________________________\n",
            "max_pooling2d_1 (MaxPooling2 (None, 62, 75, 64)        0         \n",
            "_________________________________________________________________\n",
            "conv2d_2 (Conv2D)            (None, 62, 75, 128)       401536    \n",
            "_________________________________________________________________\n",
            "max_pooling2d_2 (MaxPooling2 (None, 31, 37, 128)       0         \n",
            "_________________________________________________________________\n",
            "conv2d_3 (Conv2D)            (None, 31, 37, 128)       802944    \n",
            "_________________________________________________________________\n",
            "max_pooling2d_3 (MaxPooling2 (None, 15, 18, 128)       0         \n",
            "_________________________________________________________________\n",
            "flatten (Flatten)            (None, 34560)             0         \n",
            "_________________________________________________________________\n",
            "dropout (Dropout)            (None, 34560)             0         \n",
            "_________________________________________________________________\n",
            "dense_4 (Dense)              (None, 512)               17695232  \n",
            "_________________________________________________________________\n",
            "dense_5 (Dense)              (None, 32)                16416     \n",
            "_________________________________________________________________\n",
            "dense_6 (Dense)              (None, 1)                 33        \n",
            "=================================================================\n",
            "Total params: 19,018,177\n",
            "Trainable params: 19,018,177\n",
            "Non-trainable params: 0\n",
            "_________________________________________________________________\n"
          ]
        }
      ]
    },
    {
      "cell_type": "markdown",
      "metadata": {
        "id": "h7iIu0fKmpRD"
      },
      "source": [
        "#### 11d. Concatenate the two input models and compile the final model"
      ]
    },
    {
      "cell_type": "code",
      "metadata": {
        "id": "OyqLBPS8mpRD"
      },
      "source": [
        "from keras.layers import concatenate\n",
        "\n",
        "# create the input to our final set of layers as the *output* of both\n",
        "# the MLP and CNN\n",
        "\n",
        "combinedInput = concatenate([mlp.output, cnn.output])\n",
        "# our final FC layer head will have two dense layers, the final one\n",
        "# being our regression head\n",
        "x = Dense(4, activation=\"relu\")(combinedInput)\n",
        "x = Dense(1, activation=\"linear\")(x)\n",
        "# our final model will accept categorical/numerical data on the MLP\n",
        "# input and images on the CNN input, outputting a single value (the\n",
        "# predicted price of the house)\n",
        "model = Model(inputs=[mlp.input, cnn.input], outputs=x)\n"
      ],
      "execution_count": 52,
      "outputs": []
    },
    {
      "cell_type": "code",
      "metadata": {
        "id": "aTVZ2K5MmpRD"
      },
      "source": [
        "opt = keras.optimizers.Adam(learning_rate=0.01)\n",
        "model.compile(optimizer=opt, loss='mean_absolute_error', metrics=[['mean_absolute_error', coeff_determination]])\n",
        "\n",
        "\n",
        "#model.compile(loss='categorical_crossentropy', optimizer=opt)"
      ],
      "execution_count": 53,
      "outputs": []
    },
    {
      "cell_type": "code",
      "metadata": {
        "colab": {
          "base_uri": "https://localhost:8080/"
        },
        "id": "4zpcpD-EmpRE",
        "outputId": "0e36d243-6535-4923-a031-a516cd682d55"
      },
      "source": [
        "model.summary()"
      ],
      "execution_count": 54,
      "outputs": [
        {
          "output_type": "stream",
          "name": "stdout",
          "text": [
            "Model: \"model\"\n",
            "__________________________________________________________________________________________________\n",
            "Layer (type)                    Output Shape         Param #     Connected to                     \n",
            "==================================================================================================\n",
            "conv2d_input (InputLayer)       [(None, 250, 300, 1) 0                                            \n",
            "__________________________________________________________________________________________________\n",
            "conv2d (Conv2D)                 (None, 250, 300, 32) 1600        conv2d_input[0][0]               \n",
            "__________________________________________________________________________________________________\n",
            "max_pooling2d (MaxPooling2D)    (None, 125, 150, 32) 0           conv2d[0][0]                     \n",
            "__________________________________________________________________________________________________\n",
            "conv2d_1 (Conv2D)               (None, 125, 150, 64) 100416      max_pooling2d[0][0]              \n",
            "__________________________________________________________________________________________________\n",
            "max_pooling2d_1 (MaxPooling2D)  (None, 62, 75, 64)   0           conv2d_1[0][0]                   \n",
            "__________________________________________________________________________________________________\n",
            "conv2d_2 (Conv2D)               (None, 62, 75, 128)  401536      max_pooling2d_1[0][0]            \n",
            "__________________________________________________________________________________________________\n",
            "max_pooling2d_2 (MaxPooling2D)  (None, 31, 37, 128)  0           conv2d_2[0][0]                   \n",
            "__________________________________________________________________________________________________\n",
            "conv2d_3 (Conv2D)               (None, 31, 37, 128)  802944      max_pooling2d_2[0][0]            \n",
            "__________________________________________________________________________________________________\n",
            "max_pooling2d_3 (MaxPooling2D)  (None, 15, 18, 128)  0           conv2d_3[0][0]                   \n",
            "__________________________________________________________________________________________________\n",
            "dense_input (InputLayer)        [(None, 54)]         0                                            \n",
            "__________________________________________________________________________________________________\n",
            "flatten (Flatten)               (None, 34560)        0           max_pooling2d_3[0][0]            \n",
            "__________________________________________________________________________________________________\n",
            "dense (Dense)                   (None, 128)          7040        dense_input[0][0]                \n",
            "__________________________________________________________________________________________________\n",
            "dropout (Dropout)               (None, 34560)        0           flatten[0][0]                    \n",
            "__________________________________________________________________________________________________\n",
            "dense_1 (Dense)                 (None, 32)           4128        dense[0][0]                      \n",
            "__________________________________________________________________________________________________\n",
            "dense_4 (Dense)                 (None, 512)          17695232    dropout[0][0]                    \n",
            "__________________________________________________________________________________________________\n",
            "dense_2 (Dense)                 (None, 8)            264         dense_1[0][0]                    \n",
            "__________________________________________________________________________________________________\n",
            "dense_5 (Dense)                 (None, 32)           16416       dense_4[0][0]                    \n",
            "__________________________________________________________________________________________________\n",
            "dense_3 (Dense)                 (None, 1)            9           dense_2[0][0]                    \n",
            "__________________________________________________________________________________________________\n",
            "dense_6 (Dense)                 (None, 1)            33          dense_5[0][0]                    \n",
            "__________________________________________________________________________________________________\n",
            "concatenate (Concatenate)       (None, 2)            0           dense_3[0][0]                    \n",
            "                                                                 dense_6[0][0]                    \n",
            "__________________________________________________________________________________________________\n",
            "dense_7 (Dense)                 (None, 4)            12          concatenate[0][0]                \n",
            "__________________________________________________________________________________________________\n",
            "dense_8 (Dense)                 (None, 1)            5           dense_7[0][0]                    \n",
            "==================================================================================================\n",
            "Total params: 19,029,635\n",
            "Trainable params: 19,029,635\n",
            "Non-trainable params: 0\n",
            "__________________________________________________________________________________________________\n"
          ]
        }
      ]
    },
    {
      "cell_type": "code",
      "metadata": {
        "id": "xfrS4VVTmpRE"
      },
      "source": [
        ""
      ],
      "execution_count": 54,
      "outputs": []
    },
    {
      "cell_type": "markdown",
      "metadata": {
        "id": "scXsG8i0nSdf"
      },
      "source": [
        "## 12. Training the modified model"
      ]
    },
    {
      "cell_type": "code",
      "metadata": {
        "colab": {
          "base_uri": "https://localhost:8080/"
        },
        "id": "oUl3-qBgnSdf",
        "outputId": "89da2d01-4ab2-48f1-bd90-10bace28a352"
      },
      "source": [
        "\n",
        "history = model.fit_generator(generator=training_generator,\n",
        "                    validation_data=validation_generator, \n",
        "                    epochs = 40, steps_per_epoch=80, callbacks=[monitor_val_loss],                   \n",
        "                    use_multiprocessing=True,)\n",
        "                    "
      ],
      "execution_count": 55,
      "outputs": [
        {
          "output_type": "stream",
          "name": "stderr",
          "text": [
            "/usr/local/lib/python3.7/dist-packages/keras/engine/training.py:1972: UserWarning: `Model.fit_generator` is deprecated and will be removed in a future version. Please use `Model.fit`, which supports generators.\n",
            "  warnings.warn('`Model.fit_generator` is deprecated and '\n"
          ]
        },
        {
          "output_type": "stream",
          "name": "stdout",
          "text": [
            "Epoch 1/40\n",
            "80/80 [==============================] - 83s 802ms/step - loss: 14399.0439 - mean_absolute_error: 14399.0439 - coeff_determination: -11780249600.0000 - val_loss: 0.2900 - val_mean_absolute_error: 0.2900 - val_coeff_determination: 0.5460\n",
            "Epoch 2/40\n",
            "80/80 [==============================] - 70s 867ms/step - loss: 0.2779 - mean_absolute_error: 0.2779 - coeff_determination: 0.5993 - val_loss: 0.2489 - val_mean_absolute_error: 0.2489 - val_coeff_determination: 0.6727\n",
            "Epoch 3/40\n",
            "80/80 [==============================] - 64s 800ms/step - loss: 0.2543 - mean_absolute_error: 0.2543 - coeff_determination: 0.6575 - val_loss: 0.2603 - val_mean_absolute_error: 0.2603 - val_coeff_determination: 0.6775\n",
            "Epoch 4/40\n",
            "80/80 [==============================] - 70s 869ms/step - loss: 0.2435 - mean_absolute_error: 0.2435 - coeff_determination: 0.6936 - val_loss: 0.2510 - val_mean_absolute_error: 0.2510 - val_coeff_determination: 0.6614\n",
            "Epoch 5/40\n",
            "80/80 [==============================] - 66s 810ms/step - loss: 0.2453 - mean_absolute_error: 0.2453 - coeff_determination: 0.6810 - val_loss: 0.2359 - val_mean_absolute_error: 0.2359 - val_coeff_determination: 0.7187\n",
            "Epoch 6/40\n",
            "80/80 [==============================] - 64s 802ms/step - loss: 0.2401 - mean_absolute_error: 0.2401 - coeff_determination: 0.6931 - val_loss: 0.2347 - val_mean_absolute_error: 0.2347 - val_coeff_determination: 0.6784\n",
            "Epoch 7/40\n",
            "80/80 [==============================] - 64s 799ms/step - loss: 0.2395 - mean_absolute_error: 0.2395 - coeff_determination: 0.6929 - val_loss: 0.2452 - val_mean_absolute_error: 0.2452 - val_coeff_determination: 0.6515\n",
            "Epoch 8/40\n",
            "80/80 [==============================] - 65s 803ms/step - loss: 0.2415 - mean_absolute_error: 0.2415 - coeff_determination: 0.7012 - val_loss: 0.2487 - val_mean_absolute_error: 0.2487 - val_coeff_determination: 0.6639\n",
            "Epoch 9/40\n",
            "80/80 [==============================] - 64s 800ms/step - loss: 0.2444 - mean_absolute_error: 0.2444 - coeff_determination: 0.7023 - val_loss: 0.2322 - val_mean_absolute_error: 0.2322 - val_coeff_determination: 0.6803\n",
            "Epoch 10/40\n",
            "80/80 [==============================] - 64s 797ms/step - loss: 0.2334 - mean_absolute_error: 0.2334 - coeff_determination: 0.7008 - val_loss: 0.2521 - val_mean_absolute_error: 0.2521 - val_coeff_determination: 0.6537\n",
            "Epoch 11/40\n",
            "80/80 [==============================] - 64s 797ms/step - loss: 0.2353 - mean_absolute_error: 0.2353 - coeff_determination: 0.6896 - val_loss: 0.2330 - val_mean_absolute_error: 0.2330 - val_coeff_determination: 0.6468\n",
            "Epoch 12/40\n",
            "80/80 [==============================] - 64s 793ms/step - loss: 0.2373 - mean_absolute_error: 0.2373 - coeff_determination: 0.7017 - val_loss: 0.2709 - val_mean_absolute_error: 0.2709 - val_coeff_determination: 0.6539\n",
            "Epoch 13/40\n",
            "80/80 [==============================] - 64s 798ms/step - loss: 0.2345 - mean_absolute_error: 0.2345 - coeff_determination: 0.6912 - val_loss: 0.2392 - val_mean_absolute_error: 0.2392 - val_coeff_determination: 0.6693\n",
            "Epoch 14/40\n",
            "80/80 [==============================] - 69s 862ms/step - loss: 0.2426 - mean_absolute_error: 0.2426 - coeff_determination: 0.6255 - val_loss: 0.2337 - val_mean_absolute_error: 0.2337 - val_coeff_determination: 0.6966\n"
          ]
        }
      ]
    },
    {
      "cell_type": "markdown",
      "metadata": {
        "id": "9MtcmD4mnZQb"
      },
      "source": [
        "\n",
        "## 13. Model Assessment and Visualizing the filters"
      ]
    },
    {
      "cell_type": "code",
      "metadata": {
        "colab": {
          "base_uri": "https://localhost:8080/"
        },
        "id": "RiWOAue_nZQc",
        "outputId": "f0c080bc-b42a-41c3-c404-0a1e8c2cd19a"
      },
      "source": [
        "# summarize filter shapes\n",
        "for layer in cnn.layers:\n",
        "\t# check for convolutional layer\n",
        "\tif 'conv' not in layer.name:\n",
        "\t\tcontinue\n",
        "\t# get filter weights\n",
        "\tfilters, biases = layer.get_weights()\n",
        "\tprint(layer.name, filters.shape)\n",
        "\n",
        "#output is the name of the layer and the shape of the filter"
      ],
      "execution_count": 56,
      "outputs": [
        {
          "output_type": "stream",
          "name": "stdout",
          "text": [
            "conv2d (7, 7, 1, 32)\n",
            "conv2d_1 (7, 7, 32, 64)\n",
            "conv2d_2 (7, 7, 64, 128)\n",
            "conv2d_3 (7, 7, 128, 128)\n"
          ]
        }
      ]
    },
    {
      "cell_type": "code",
      "metadata": {
        "colab": {
          "base_uri": "https://localhost:8080/",
          "height": 252
        },
        "id": "OPYW-fj_nZQc",
        "outputId": "d0e69c74-eebb-443c-ae40-c31b7b9cb28c"
      },
      "source": [
        "\n",
        "# plot first few filters\n",
        "n_filters, ix = 6, 1\n",
        "for i in range(n_filters):\n",
        "\t# get the filter\n",
        "\tf = filters[:, :, :, i]\n",
        "\t# plot each channel separately\n",
        "\tfor j in range(3):\n",
        "\t\t# specify subplot and turn of axis\n",
        "\t\tax = plt.subplot(n_filters, 3, ix)\n",
        "\t\tax.set_xticks([])\n",
        "\t\tax.set_yticks([])\n",
        "\t\t# plot filter channel in grayscale\n",
        "\t\tplt.imshow(f[:, :, j], cmap='gray')\n",
        "\t\tix += 1\n",
        "# show the figure\n",
        "plt.show()"
      ],
      "execution_count": 57,
      "outputs": [
        {
          "output_type": "display_data",
          "data": {
            "image/png": "[encoded data removed]",
            "text/plain": [
              "<Figure size 432x288 with 18 Axes>"
            ]
          },
          "metadata": {}
        }
      ]
    },
    {
      "cell_type": "code",
      "metadata": {
        "id": "mx9mTSPnnZQd"
      },
      "source": [
        "\n",
        "SMALL_SIZE = 16\n",
        "MEDIUM_SIZE = 20\n",
        "BIGGER_SIZE = 28\n",
        "\n",
        "plt.rc('font', size=SMALL_SIZE)          # controls default text sizes\n",
        "plt.rc('axes', titlesize=SMALL_SIZE)     # fontsize of the axes title\n",
        "plt.rc('axes', labelsize=MEDIUM_SIZE)    # fontsize of the x and y labels\n",
        "plt.rc('xtick', labelsize=SMALL_SIZE)    # fontsize of the tick labels\n",
        "plt.rc('ytick', labelsize=SMALL_SIZE)    # fontsize of the tick labels\n",
        "plt.rc('legend', fontsize=SMALL_SIZE)    # legend fontsize\n",
        "plt.rc('figure', titlesize=BIGGER_SIZE)  # fontsize of the figure title"
      ],
      "execution_count": 58,
      "outputs": []
    },
    {
      "cell_type": "code",
      "metadata": {
        "colab": {
          "base_uri": "https://localhost:8080/",
          "height": 426
        },
        "id": "I9rnTZgbnZQd",
        "outputId": "45954b01-1c81-44e5-c216-db24789f2321"
      },
      "source": [
        "# create figure\n",
        "fig= plt.figure(figsize=(16,6))\n",
        "#plt.suptitle('Artifical Neural Network on Home Features')\n",
        "titlesize=26\n",
        "fontsize=18\n",
        "# loss plot on left\n",
        "plt.subplot(1,2, 1)\n",
        "plt.plot(history.history['loss'])\n",
        "plt.plot(history.history['val_loss'])\n",
        "         \n",
        "plt.title('Model Loss', fontsize=titlesize)\n",
        "plt.ylabel('Mean absolute error in price', fontsize=fontsize)\n",
        "plt.xlabel('Epoch', fontsize=fontsize)\n",
        "plt.xticks([0, 4, 8, 12, 16,20 ])\n",
        "plt.legend(['Train', 'Test'], loc='upper right')\n",
        "\n",
        "# coeff plot on right\n",
        "plt.subplot(1,2, 2)\n",
        "plt.plot(history.history['coeff_determination'])\n",
        "plt.plot(history.history['val_coeff_determination'])\n",
        "\n",
        "plt.title('Coefficient of Determination', fontsize= titlesize)\n",
        "plt.ylabel('R-Squared',  fontsize=fontsize)\n",
        "plt.ylim(-1,1)\n",
        "plt.yticks([1, .8, .6, .4, .2, 0, -0.2, -0.4, -0.6, -0.8 ])\n",
        "plt.xlabel('Epoch', fontsize=fontsize)\n",
        "plt.xticks([0, 4, 8, 12, 16,20 ])\n",
        "plt.legend(['Train', 'Test'], loc='lower right')\n",
        "\n",
        "plt.show()"
      ],
      "execution_count": 59,
      "outputs": [
        {
          "output_type": "display_data",
          "data": {
            "image/png": "[encoded data removed]",
            "text/plain": [
              "<Figure size 1152x432 with 2 Axes>"
            ]
          },
          "metadata": {
            "needs_background": "light"
          }
        }
      ]
    },
    {
      "cell_type": "markdown",
      "metadata": {
        "id": "wZYDR1KanZQd"
      },
      "source": [
        "Conclusion: Normalizing the price values and adding an extra layer did not greatly improve performance."
      ]
    }
  ]
}
