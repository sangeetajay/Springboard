{
  "nbformat": 4,
  "nbformat_minor": 0,
  "metadata": {
    "accelerator": "GPU",
    "colab": {
      "name": "7_AH_modeling_mixedinputs_RGB.ipynb",
      "provenance": [],
      "collapsed_sections": [
        "Y_SbdjTVnmhD",
        "VeV9PwjgA9I5",
        "3jdej5yWlSr5",
        "Uml586drmrcf",
        "JIq5irELwz3l",
        "BZCpQpj2mBPK",
        "2l4qbZ67WvnW"
      ],
      "include_colab_link": true
    },
    "kernelspec": {
      "display_name": "Python 3",
      "name": "python3"
    },
    "language_info": {
      "name": "python"
    }
  },
  "cells": [
    {
      "cell_type": "markdown",
      "metadata": {
        "id": "view-in-github",
        "colab_type": "text"
      },
      "source": [
        "<a href=\"https://colab.research.google.com/github/sangeetajay/Springboard/blob/master/7_AH_modeling_mixedinputs_RGB.ipynb\" target=\"_parent\"><img src=\"https://colab.research.google.com/assets/colab-badge.svg\" alt=\"Open In Colab\"/></a>"
      ]
    },
    {
      "cell_type": "markdown",
      "metadata": {
        "id": "J8gOpIOM71i9"
      },
      "source": [
        "# Final Capstone Project:\n",
        "# Predicting House Prices from Zillow Images\n",
        "\n",
        "## Pre-Processing/Modeling Notebook 7:\n",
        "\n",
        "In this notebook, we will utilize both the image data and numerical and categorical features data in the neural network as previously, but this time we will try using color images (RGB) with the normalized price values.\n",
        "\n",
        "Sections:\n",
        "1. Imports\n",
        "2. Prepare Image Data for CNN Model\n",
        "3. Prepare Home Features Data for MLP model\n",
        "4. Data Generator\n",
        "5. Mixed Inputs Model Creation\n",
        "6. Training the Model\n",
        "7. Model Assessment\n",
        "\n"
      ]
    },
    {
      "cell_type": "markdown",
      "metadata": {
        "id": "D3MS8FuoQY1e"
      },
      "source": [
        "## 1. Imports"
      ]
    },
    {
      "cell_type": "code",
      "metadata": {
        "id": "d6k1AEnZgq2y",
        "colab": {
          "base_uri": "https://localhost:8080/",
          "height": 35
        },
        "outputId": "57bf12eb-48b1-445d-9baa-62b327749975"
      },
      "source": [
        "import numpy as np\n",
        "import os\n",
        "import matplotlib.pyplot as plt\n",
        "import pandas as pd \n",
        "import seaborn as sns \n",
        "%matplotlib inline\n",
        "\n",
        "import PIL\n",
        "import PIL.Image\n",
        "from sklearn import preprocessing\n",
        "from sklearn.utils import shuffle\n",
        "from sklearn.preprocessing import StandardScaler\n",
        "from sklearn.model_selection import train_test_split\n",
        "from sklearn.metrics import classification_report\n",
        "from skimage.io import imread\n",
        "from skimage.transform import resize\n",
        "import math\n",
        "from IPython.display import display\n",
        "from skimage import io\n",
        "\n",
        "import tensorflow as tf\n",
        "from tensorflow import keras\n",
        "from tensorflow.keras import applications\n",
        "from tensorflow.keras.preprocessing.image import ImageDataGenerator\n",
        "from tensorflow.keras.layers import Concatenate, Dense, Dropout, BatchNormalization, GlobalAveragePooling2D, Flatten, Conv2D, MaxPooling2D\n",
        "from tensorflow.keras.utils import Sequence\n",
        "from tensorflow.keras.layers import Input\n",
        "from tensorflow.keras.models import Model, Sequential\n",
        "# Import the EarlyStopping and ModelCheckpoint callbacks\n",
        "from tensorflow.keras.callbacks import EarlyStopping, ModelCheckpoint\n",
        "\n",
        "\n",
        "\n",
        "tf.__version__"
      ],
      "execution_count": 1,
      "outputs": [
        {
          "output_type": "execute_result",
          "data": {
            "application/vnd.google.colaboratory.intrinsic+json": {
              "type": "string"
            },
            "text/plain": [
              "'2.6.0'"
            ]
          },
          "metadata": {},
          "execution_count": 1
        }
      ]
    },
    {
      "cell_type": "code",
      "metadata": {
        "id": "BDA-glPFpu-F"
      },
      "source": [
        "#!pip install -q tensorflow==2.1\n",
        "#!pip install -q keras==2.3.1\n",
        "#!pip install -q tensorflow-estimator==2.1.\n",
        "#!pip install gast==0.3.2\n",
        "#!pip install tensorflow"
      ],
      "execution_count": null,
      "outputs": []
    },
    {
      "cell_type": "markdown",
      "metadata": {
        "id": "1jot_1DQVDW7"
      },
      "source": [
        "## 2. Load the Image Data for CNN"
      ]
    },
    {
      "cell_type": "markdown",
      "metadata": {
        "id": "Sh6etZTenNAc"
      },
      "source": [
        "#### 2a. Unzip image files"
      ]
    },
    {
      "cell_type": "code",
      "metadata": {
        "colab": {
          "base_uri": "https://localhost:8080/"
        },
        "id": "x5t1cjTHw5LX",
        "outputId": "576475ca-8a1c-4bd6-c5a2-c6d4280fc77e"
      },
      "source": [
        "from google.colab import drive\n",
        "drive.mount('/content/drive')"
      ],
      "execution_count": 2,
      "outputs": [
        {
          "output_type": "stream",
          "text": [
            "Mounted at /content/drive\n"
          ],
          "name": "stdout"
        }
      ]
    },
    {
      "cell_type": "code",
      "metadata": {
        "id": "nrKevOx9nzFd"
      },
      "source": [
        "#!unzip /content/drive/MyDrive/ResizedHomeImages.zip"
      ],
      "execution_count": 3,
      "outputs": []
    },
    {
      "cell_type": "markdown",
      "metadata": {
        "id": "Y_SbdjTVnmhD"
      },
      "source": [
        "#### 2b. Load training labels for the images\n",
        "\n",
        "\n"
      ]
    },
    {
      "cell_type": "code",
      "metadata": {
        "colab": {
          "base_uri": "https://localhost:8080/",
          "height": 220
        },
        "id": "WRI-H-Oqgq-w",
        "outputId": "083d282f-534f-4e10-aa1f-49ad2fc9015c"
      },
      "source": [
        "# load the cleaned dataset with image name and price\n",
        "# these are the 'labels' for the images\n",
        "file = '/content/drive/MyDrive/cleaned_AH_data_v2.csv'\n",
        "train_labels = pd.read_csv(file)\n",
        "# remove the .jpg from the image names\n",
        "train_labels['Image Name'] = train_labels['Image Name'].str.rstrip('.jpg')\n",
        "#check the shape\n",
        "print(train_labels.shape)\n",
        "\n",
        "train_labels.head()"
      ],
      "execution_count": 4,
      "outputs": [
        {
          "output_type": "stream",
          "text": [
            "(15012, 2)\n"
          ],
          "name": "stdout"
        },
        {
          "output_type": "execute_result",
          "data": {
            "text/html": [
              "<div>\n",
              "<style scoped>\n",
              "    .dataframe tbody tr th:only-of-type {\n",
              "        vertical-align: middle;\n",
              "    }\n",
              "\n",
              "    .dataframe tbody tr th {\n",
              "        vertical-align: top;\n",
              "    }\n",
              "\n",
              "    .dataframe thead th {\n",
              "        text-align: right;\n",
              "    }\n",
              "</style>\n",
              "<table border=\"1\" class=\"dataframe\">\n",
              "  <thead>\n",
              "    <tr style=\"text-align: right;\">\n",
              "      <th></th>\n",
              "      <th>Image Name</th>\n",
              "      <th>Price</th>\n",
              "    </tr>\n",
              "  </thead>\n",
              "  <tbody>\n",
              "    <tr>\n",
              "      <th>0</th>\n",
              "      <td>111373431_ffce26843283d3365c11d81b8e6bdc6f-p_f</td>\n",
              "      <td>305000</td>\n",
              "    </tr>\n",
              "    <tr>\n",
              "      <th>1</th>\n",
              "      <td>120900430_8255c127be8dcf0a1a18b7563d987088-p_f</td>\n",
              "      <td>295000</td>\n",
              "    </tr>\n",
              "    <tr>\n",
              "      <th>2</th>\n",
              "      <td>2084491383_a2ad649e1a7a098111dcea084a11c855-p_f</td>\n",
              "      <td>256125</td>\n",
              "    </tr>\n",
              "    <tr>\n",
              "      <th>3</th>\n",
              "      <td>120901374_b469367a619da85b1f5ceb69b675d88e-p_f</td>\n",
              "      <td>240000</td>\n",
              "    </tr>\n",
              "    <tr>\n",
              "      <th>4</th>\n",
              "      <td>60134862_b1a48a3df3f111e005bb913873e98ce2-p_f</td>\n",
              "      <td>239900</td>\n",
              "    </tr>\n",
              "  </tbody>\n",
              "</table>\n",
              "</div>"
            ],
            "text/plain": [
              "                                        Image Name   Price\n",
              "0   111373431_ffce26843283d3365c11d81b8e6bdc6f-p_f  305000\n",
              "1   120900430_8255c127be8dcf0a1a18b7563d987088-p_f  295000\n",
              "2  2084491383_a2ad649e1a7a098111dcea084a11c855-p_f  256125\n",
              "3   120901374_b469367a619da85b1f5ceb69b675d88e-p_f  240000\n",
              "4    60134862_b1a48a3df3f111e005bb913873e98ce2-p_f  239900"
            ]
          },
          "metadata": {},
          "execution_count": 4
        }
      ]
    },
    {
      "cell_type": "markdown",
      "metadata": {
        "id": "KU_-TZZW0Zsm"
      },
      "source": [
        "#### 2c. Write a function to read an image and return a normalized numpy array:\n",
        "\n"
      ]
    },
    {
      "cell_type": "code",
      "metadata": {
        "id": "iOle6qdQ0ecU"
      },
      "source": [
        "\n",
        "#Write function to get a specific image\n",
        "\n",
        "def load_pic(file_name, fig_type='jpg'):\n",
        "\n",
        "    img_path = ('/content/ResizedHomeImages/{}').format(file_name)\n",
        "    img = io.imread(img_path)\n",
        "    #normalize the image by dividing each pixel by 255\n",
        "    img = img/255\n",
        "    return np.reshape(img,[250,300,3]) # reshaping image to fit into generator below"
      ],
      "execution_count": 6,
      "outputs": []
    },
    {
      "cell_type": "code",
      "metadata": {
        "colab": {
          "base_uri": "https://localhost:8080/"
        },
        "id": "RkHSPLMu2vQt",
        "outputId": "f414e391-44d1-4227-e5fe-d1c582a674e7"
      },
      "source": [
        "#testing the above 'load_image- function on a random image file\n",
        "\n",
        "image = load_pic('110538801_b74a3118da9370a14aa8a5e96d93c27c-p_f.jpg')\n",
        "\n",
        "#plt.imshow(image)\n",
        "print(image.shape) #checking that numpy array is in the correct shape for generator\n",
        "print(image)"
      ],
      "execution_count": 7,
      "outputs": [
        {
          "output_type": "stream",
          "text": [
            "(250, 300, 3)\n",
            "[[[0.43921569 0.47058824 0.41960784]\n",
            "  [0.69411765 0.7372549  0.67058824]\n",
            "  [0.61176471 0.67058824 0.58039216]\n",
            "  ...\n",
            "  [0.         0.51372549 0.85882353]\n",
            "  [0.         0.51372549 0.85882353]\n",
            "  [0.         0.51372549 0.85882353]]\n",
            "\n",
            " [[0.57647059 0.60784314 0.54901961]\n",
            "  [0.53333333 0.58039216 0.50196078]\n",
            "  [0.43529412 0.49803922 0.39607843]\n",
            "  ...\n",
            "  [0.         0.51372549 0.85882353]\n",
            "  [0.         0.51372549 0.85882353]\n",
            "  [0.         0.51372549 0.85882353]]\n",
            "\n",
            " [[0.49803922 0.53333333 0.46666667]\n",
            "  [0.31764706 0.36470588 0.27843137]\n",
            "  [0.25882353 0.32156863 0.20784314]\n",
            "  ...\n",
            "  [0.         0.51372549 0.85882353]\n",
            "  [0.         0.51372549 0.85882353]\n",
            "  [0.         0.51372549 0.85882353]]\n",
            "\n",
            " ...\n",
            "\n",
            " [[0.77647059 0.76470588 0.4       ]\n",
            "  [0.81176471 0.80784314 0.44313725]\n",
            "  [0.78431373 0.78039216 0.41960784]\n",
            "  ...\n",
            "  [0.92156863 0.81960784 0.75294118]\n",
            "  [0.92941176 0.82745098 0.76078431]\n",
            "  [0.9372549  0.83529412 0.76862745]]\n",
            "\n",
            " [[0.79607843 0.81568627 0.42352941]\n",
            "  [0.75686275 0.77254902 0.39215686]\n",
            "  [0.77647059 0.8        0.42352941]\n",
            "  ...\n",
            "  [0.90980392 0.80784314 0.74117647]\n",
            "  [0.92156863 0.81960784 0.75294118]\n",
            "  [0.9254902  0.82352941 0.75686275]]\n",
            "\n",
            " [[0.68235294 0.71372549 0.30980392]\n",
            "  [0.61568627 0.65882353 0.25098039]\n",
            "  [0.67843137 0.71764706 0.32941176]\n",
            "  ...\n",
            "  [0.90980392 0.80784314 0.74117647]\n",
            "  [0.92156863 0.81960784 0.75294118]\n",
            "  [0.9254902  0.82352941 0.75686275]]]\n"
          ],
          "name": "stdout"
        }
      ]
    },
    {
      "cell_type": "code",
      "metadata": {
        "colab": {
          "base_uri": "https://localhost:8080/"
        },
        "id": "__bmSHJ0F9rp",
        "outputId": "1ce357b1-416a-45fb-ed04-4faff9937ff8"
      },
      "source": [
        "# checking the number of image files in the folder, checking the path.\n",
        "APP_FOLDER = '/content/ResizedGrayImages/'\n",
        "totalDir = 0\n",
        "totalFiles = 0\n",
        "for base, dirs, files in os.walk(APP_FOLDER):\n",
        "    print('Searching in : ',base)\n",
        "    for directories in dirs:\n",
        "        totalDir += 1\n",
        "    for Files in files:\n",
        "        totalFiles += 1\n",
        "totalFiles    "
      ],
      "execution_count": 8,
      "outputs": [
        {
          "output_type": "execute_result",
          "data": {
            "text/plain": [
              "0"
            ]
          },
          "metadata": {},
          "execution_count": 8
        }
      ]
    },
    {
      "cell_type": "markdown",
      "metadata": {
        "id": "VeV9PwjgA9I5"
      },
      "source": [
        "#### 2d. Normalize price and create train/test set for generator\n",
        "adapted from https://stanford.edu/~shervine/blog/keras-how-to-generate-data-on-the-fly\n"
      ]
    },
    {
      "cell_type": "code",
      "metadata": {
        "colab": {
          "base_uri": "https://localhost:8080/",
          "height": 0
        },
        "id": "HCGDwTIHrwDy",
        "outputId": "859351ad-9119-4e5f-9fc3-e797a53d107a"
      },
      "source": [
        "train_labels.head() # this is our dataframe of the image name and labels (Price)"
      ],
      "execution_count": 9,
      "outputs": [
        {
          "output_type": "execute_result",
          "data": {
            "text/html": [
              "<div>\n",
              "<style scoped>\n",
              "    .dataframe tbody tr th:only-of-type {\n",
              "        vertical-align: middle;\n",
              "    }\n",
              "\n",
              "    .dataframe tbody tr th {\n",
              "        vertical-align: top;\n",
              "    }\n",
              "\n",
              "    .dataframe thead th {\n",
              "        text-align: right;\n",
              "    }\n",
              "</style>\n",
              "<table border=\"1\" class=\"dataframe\">\n",
              "  <thead>\n",
              "    <tr style=\"text-align: right;\">\n",
              "      <th></th>\n",
              "      <th>Image Name</th>\n",
              "      <th>Price</th>\n",
              "    </tr>\n",
              "  </thead>\n",
              "  <tbody>\n",
              "    <tr>\n",
              "      <th>0</th>\n",
              "      <td>111373431_ffce26843283d3365c11d81b8e6bdc6f-p_f</td>\n",
              "      <td>305000</td>\n",
              "    </tr>\n",
              "    <tr>\n",
              "      <th>1</th>\n",
              "      <td>120900430_8255c127be8dcf0a1a18b7563d987088-p_f</td>\n",
              "      <td>295000</td>\n",
              "    </tr>\n",
              "    <tr>\n",
              "      <th>2</th>\n",
              "      <td>2084491383_a2ad649e1a7a098111dcea084a11c855-p_f</td>\n",
              "      <td>256125</td>\n",
              "    </tr>\n",
              "    <tr>\n",
              "      <th>3</th>\n",
              "      <td>120901374_b469367a619da85b1f5ceb69b675d88e-p_f</td>\n",
              "      <td>240000</td>\n",
              "    </tr>\n",
              "    <tr>\n",
              "      <th>4</th>\n",
              "      <td>60134862_b1a48a3df3f111e005bb913873e98ce2-p_f</td>\n",
              "      <td>239900</td>\n",
              "    </tr>\n",
              "  </tbody>\n",
              "</table>\n",
              "</div>"
            ],
            "text/plain": [
              "                                        Image Name   Price\n",
              "0   111373431_ffce26843283d3365c11d81b8e6bdc6f-p_f  305000\n",
              "1   120900430_8255c127be8dcf0a1a18b7563d987088-p_f  295000\n",
              "2  2084491383_a2ad649e1a7a098111dcea084a11c855-p_f  256125\n",
              "3   120901374_b469367a619da85b1f5ceb69b675d88e-p_f  240000\n",
              "4    60134862_b1a48a3df3f111e005bb913873e98ce2-p_f  239900"
            ]
          },
          "metadata": {},
          "execution_count": 9
        }
      ]
    },
    {
      "cell_type": "markdown",
      "metadata": {
        "id": "3SIe31Y5alKc"
      },
      "source": [
        "##### 2.d.i.\n",
        "Normalizing the Price column"
      ]
    },
    {
      "cell_type": "code",
      "metadata": {
        "colab": {
          "base_uri": "https://localhost:8080/"
        },
        "id": "jjMCcNRnaqyS",
        "outputId": "195ffaeb-63b2-4a1c-9cba-d07383ff034a"
      },
      "source": [
        "np.std(train_labels['Price'])"
      ],
      "execution_count": 10,
      "outputs": [
        {
          "output_type": "execute_result",
          "data": {
            "text/plain": [
              "442025.46481788985"
            ]
          },
          "metadata": {},
          "execution_count": 10
        }
      ]
    },
    {
      "cell_type": "code",
      "metadata": {
        "id": "X9E7wLdkajBB"
      },
      "source": [
        "train_labels['Price'] = train_labels['Price'].divide(np.std(train_labels.Price))"
      ],
      "execution_count": 11,
      "outputs": []
    },
    {
      "cell_type": "code",
      "metadata": {
        "colab": {
          "base_uri": "https://localhost:8080/",
          "height": 0
        },
        "id": "KZ26PrJKbFg4",
        "outputId": "57e63282-51fe-4197-b77c-608390f68a78"
      },
      "source": [
        "train_labels.head()"
      ],
      "execution_count": 12,
      "outputs": [
        {
          "output_type": "execute_result",
          "data": {
            "text/html": [
              "<div>\n",
              "<style scoped>\n",
              "    .dataframe tbody tr th:only-of-type {\n",
              "        vertical-align: middle;\n",
              "    }\n",
              "\n",
              "    .dataframe tbody tr th {\n",
              "        vertical-align: top;\n",
              "    }\n",
              "\n",
              "    .dataframe thead th {\n",
              "        text-align: right;\n",
              "    }\n",
              "</style>\n",
              "<table border=\"1\" class=\"dataframe\">\n",
              "  <thead>\n",
              "    <tr style=\"text-align: right;\">\n",
              "      <th></th>\n",
              "      <th>Image Name</th>\n",
              "      <th>Price</th>\n",
              "    </tr>\n",
              "  </thead>\n",
              "  <tbody>\n",
              "    <tr>\n",
              "      <th>0</th>\n",
              "      <td>111373431_ffce26843283d3365c11d81b8e6bdc6f-p_f</td>\n",
              "      <td>0.690005</td>\n",
              "    </tr>\n",
              "    <tr>\n",
              "      <th>1</th>\n",
              "      <td>120900430_8255c127be8dcf0a1a18b7563d987088-p_f</td>\n",
              "      <td>0.667382</td>\n",
              "    </tr>\n",
              "    <tr>\n",
              "      <th>2</th>\n",
              "      <td>2084491383_a2ad649e1a7a098111dcea084a11c855-p_f</td>\n",
              "      <td>0.579435</td>\n",
              "    </tr>\n",
              "    <tr>\n",
              "      <th>3</th>\n",
              "      <td>120901374_b469367a619da85b1f5ceb69b675d88e-p_f</td>\n",
              "      <td>0.542955</td>\n",
              "    </tr>\n",
              "    <tr>\n",
              "      <th>4</th>\n",
              "      <td>60134862_b1a48a3df3f111e005bb913873e98ce2-p_f</td>\n",
              "      <td>0.542729</td>\n",
              "    </tr>\n",
              "  </tbody>\n",
              "</table>\n",
              "</div>"
            ],
            "text/plain": [
              "                                        Image Name     Price\n",
              "0   111373431_ffce26843283d3365c11d81b8e6bdc6f-p_f  0.690005\n",
              "1   120900430_8255c127be8dcf0a1a18b7563d987088-p_f  0.667382\n",
              "2  2084491383_a2ad649e1a7a098111dcea084a11c855-p_f  0.579435\n",
              "3   120901374_b469367a619da85b1f5ceb69b675d88e-p_f  0.542955\n",
              "4    60134862_b1a48a3df3f111e005bb913873e98ce2-p_f  0.542729"
            ]
          },
          "metadata": {},
          "execution_count": 12
        }
      ]
    },
    {
      "cell_type": "code",
      "metadata": {
        "colab": {
          "base_uri": "https://localhost:8080/"
        },
        "id": "MoSwY73niH8j",
        "outputId": "205c2ede-8488-4d8d-b8dc-2206655a9227"
      },
      "source": [
        "train_labels.Price.describe()"
      ],
      "execution_count": 13,
      "outputs": [
        {
          "output_type": "execute_result",
          "data": {
            "text/plain": [
              "count    15012.000000\n",
              "mean         1.159693\n",
              "std          1.000033\n",
              "min          0.158362\n",
              "25%          0.699131\n",
              "50%          0.916237\n",
              "75%          1.300830\n",
              "max         30.541227\n",
              "Name: Price, dtype: float64"
            ]
          },
          "metadata": {},
          "execution_count": 13
        }
      ]
    },
    {
      "cell_type": "markdown",
      "metadata": {
        "id": "G-YJt6rGbvYe"
      },
      "source": [
        "##### 2.d.ii. Train-Test Split with Normalized Price"
      ]
    },
    {
      "cell_type": "code",
      "metadata": {
        "id": "4YTYjdvPzDgQ"
      },
      "source": [
        "# create a lookup dictionary called labels\n",
        "labels_df = train_labels['Price']\n",
        "labels_df.index = train_labels['Image Name']\n",
        "\n",
        "#Create a lookup dictionary containing the labels for each image sample, we will use this on our data generator object\n",
        "\n",
        "labels = labels_df.to_dict(into=dict)"
      ],
      "execution_count": 14,
      "outputs": []
    },
    {
      "cell_type": "code",
      "metadata": {
        "id": "rNT_b9wsykDV"
      },
      "source": [
        "#Create an empty dictionary called partition where you gather train and test sets:\n",
        "\n",
        "partition = {}\n",
        "\n",
        "# randomly create train and test parts\n",
        "train_part = train_labels.sample(frac=0.8,random_state=200) #random state is a seed value\n",
        "test_part = train_labels.drop(train_part.index)\n",
        "\n",
        "# add these to the dictionary:\n",
        "# in partition['train'] a list of training IDs\n",
        "partition['train'] = list(train_part['Image Name'])\n",
        "\n",
        "# in partition['validation'] a list of validation IDs\n",
        "partition['validation'] = list(test_part['Image Name'])\n",
        "\n"
      ],
      "execution_count": 15,
      "outputs": []
    },
    {
      "cell_type": "code",
      "metadata": {
        "colab": {
          "base_uri": "https://localhost:8080/"
        },
        "id": "0UXr5tpepKhn",
        "outputId": "02662ca9-625d-4e35-91c6-f54ee66aab8a"
      },
      "source": [
        "# checking what we did: created a test set and a validation set \n",
        "print(type(partition['train']))\n",
        "print(type(partition['validation']))\n",
        "print(len(partition['train']))\n",
        "print(len(partition['validation']))\n"
      ],
      "execution_count": 16,
      "outputs": [
        {
          "output_type": "stream",
          "text": [
            "<class 'list'>\n",
            "<class 'list'>\n",
            "12010\n",
            "3002\n"
          ],
          "name": "stdout"
        }
      ]
    },
    {
      "cell_type": "markdown",
      "metadata": {
        "id": "3jdej5yWlSr5"
      },
      "source": [
        "## 3. Load the features data for MLP model:"
      ]
    },
    {
      "cell_type": "markdown",
      "metadata": {
        "id": "Uml586drmrcf"
      },
      "source": [
        "#### 3a. Load dataset and final cleaning"
      ]
    },
    {
      "cell_type": "code",
      "metadata": {
        "colab": {
          "base_uri": "https://localhost:8080/",
          "height": 0
        },
        "id": "FSu_I0AtlURL",
        "outputId": "b2afaf0a-a49a-423c-829c-8e4c9d655d8f"
      },
      "source": [
        "# load the cleaned dataset with the features\n",
        "\n",
        "file = '/content/drive/MyDrive/cleaned_features_data_v1.csv'\n",
        "features = pd.read_csv(file)\n",
        "\n",
        "features.head()\n"
      ],
      "execution_count": 17,
      "outputs": [
        {
          "output_type": "execute_result",
          "data": {
            "text/html": [
              "<div>\n",
              "<style scoped>\n",
              "    .dataframe tbody tr th:only-of-type {\n",
              "        vertical-align: middle;\n",
              "    }\n",
              "\n",
              "    .dataframe tbody tr th {\n",
              "        vertical-align: top;\n",
              "    }\n",
              "\n",
              "    .dataframe thead th {\n",
              "        text-align: right;\n",
              "    }\n",
              "</style>\n",
              "<table border=\"1\" class=\"dataframe\">\n",
              "  <thead>\n",
              "    <tr style=\"text-align: right;\">\n",
              "      <th></th>\n",
              "      <th>Price</th>\n",
              "      <th>Image Name</th>\n",
              "      <th>zipcode</th>\n",
              "      <th>longitude</th>\n",
              "      <th>livingAreaSqFt</th>\n",
              "      <th>numOfBathrooms</th>\n",
              "      <th>numOfBedrooms</th>\n",
              "      <th>numOfPrimarySchools</th>\n",
              "      <th>numOfHighSchools</th>\n",
              "      <th>avgSchoolRating</th>\n",
              "    </tr>\n",
              "  </thead>\n",
              "  <tbody>\n",
              "    <tr>\n",
              "      <th>0</th>\n",
              "      <td>305000</td>\n",
              "      <td>111373431_ffce26843283d3365c11d81b8e6bdc6f-p_f</td>\n",
              "      <td>78660</td>\n",
              "      <td>-97.663078</td>\n",
              "      <td>2601.0</td>\n",
              "      <td>3.0</td>\n",
              "      <td>4</td>\n",
              "      <td>1</td>\n",
              "      <td>1</td>\n",
              "      <td>2.666667</td>\n",
              "    </tr>\n",
              "    <tr>\n",
              "      <th>1</th>\n",
              "      <td>295000</td>\n",
              "      <td>120900430_8255c127be8dcf0a1a18b7563d987088-p_f</td>\n",
              "      <td>78660</td>\n",
              "      <td>-97.661697</td>\n",
              "      <td>1768.0</td>\n",
              "      <td>2.0</td>\n",
              "      <td>4</td>\n",
              "      <td>1</td>\n",
              "      <td>1</td>\n",
              "      <td>2.666667</td>\n",
              "    </tr>\n",
              "    <tr>\n",
              "      <th>2</th>\n",
              "      <td>256125</td>\n",
              "      <td>2084491383_a2ad649e1a7a098111dcea084a11c855-p_f</td>\n",
              "      <td>78660</td>\n",
              "      <td>-97.639771</td>\n",
              "      <td>1478.0</td>\n",
              "      <td>2.0</td>\n",
              "      <td>3</td>\n",
              "      <td>0</td>\n",
              "      <td>1</td>\n",
              "      <td>3.000000</td>\n",
              "    </tr>\n",
              "    <tr>\n",
              "      <th>3</th>\n",
              "      <td>240000</td>\n",
              "      <td>120901374_b469367a619da85b1f5ceb69b675d88e-p_f</td>\n",
              "      <td>78660</td>\n",
              "      <td>-97.661659</td>\n",
              "      <td>1678.0</td>\n",
              "      <td>2.0</td>\n",
              "      <td>3</td>\n",
              "      <td>1</td>\n",
              "      <td>1</td>\n",
              "      <td>2.666667</td>\n",
              "    </tr>\n",
              "    <tr>\n",
              "      <th>4</th>\n",
              "      <td>239900</td>\n",
              "      <td>60134862_b1a48a3df3f111e005bb913873e98ce2-p_f</td>\n",
              "      <td>78660</td>\n",
              "      <td>-97.656860</td>\n",
              "      <td>2132.0</td>\n",
              "      <td>3.0</td>\n",
              "      <td>3</td>\n",
              "      <td>1</td>\n",
              "      <td>1</td>\n",
              "      <td>4.000000</td>\n",
              "    </tr>\n",
              "  </tbody>\n",
              "</table>\n",
              "</div>"
            ],
            "text/plain": [
              "    Price  ... avgSchoolRating\n",
              "0  305000  ...        2.666667\n",
              "1  295000  ...        2.666667\n",
              "2  256125  ...        3.000000\n",
              "3  240000  ...        2.666667\n",
              "4  239900  ...        4.000000\n",
              "\n",
              "[5 rows x 10 columns]"
            ]
          },
          "metadata": {},
          "execution_count": 17
        }
      ]
    },
    {
      "cell_type": "code",
      "metadata": {
        "colab": {
          "base_uri": "https://localhost:8080/"
        },
        "id": "u8z3Ni5_lUO_",
        "outputId": "6e3a5a1f-d8d4-4d0b-a6d3-045e212d60ad"
      },
      "source": [
        "# getting the names of the columns\n",
        "features.columns"
      ],
      "execution_count": 18,
      "outputs": [
        {
          "output_type": "execute_result",
          "data": {
            "text/plain": [
              "Index(['Price', 'Image Name', 'zipcode', 'longitude', 'livingAreaSqFt',\n",
              "       'numOfBathrooms', 'numOfBedrooms', 'numOfPrimarySchools',\n",
              "       'numOfHighSchools', 'avgSchoolRating'],\n",
              "      dtype='object')"
            ]
          },
          "metadata": {},
          "execution_count": 18
        }
      ]
    },
    {
      "cell_type": "code",
      "metadata": {
        "id": "r_1GRFhL67Wo"
      },
      "source": [
        "# dropping price column because we already have price in the training_labels df\n",
        "# dropping longitude because it is similar to zipcode and the negative values may throw off model\n",
        "features = features.drop(columns=['Price','longitude'], axis=1) "
      ],
      "execution_count": 19,
      "outputs": []
    },
    {
      "cell_type": "code",
      "metadata": {
        "colab": {
          "base_uri": "https://localhost:8080/"
        },
        "id": "-EjcWdZ-ly8h",
        "outputId": "bb0e6bd9-482a-4aa3-9220-116acba895ab"
      },
      "source": [
        "features.info() # checking the types of the columns"
      ],
      "execution_count": 20,
      "outputs": [
        {
          "output_type": "stream",
          "text": [
            "<class 'pandas.core.frame.DataFrame'>\n",
            "RangeIndex: 15012 entries, 0 to 15011\n",
            "Data columns (total 8 columns):\n",
            " #   Column               Non-Null Count  Dtype  \n",
            "---  ------               --------------  -----  \n",
            " 0   Image Name           15012 non-null  object \n",
            " 1   zipcode              15012 non-null  int64  \n",
            " 2   livingAreaSqFt       15012 non-null  float64\n",
            " 3   numOfBathrooms       15012 non-null  float64\n",
            " 4   numOfBedrooms        15012 non-null  int64  \n",
            " 5   numOfPrimarySchools  15012 non-null  int64  \n",
            " 6   numOfHighSchools     15012 non-null  int64  \n",
            " 7   avgSchoolRating      15012 non-null  float64\n",
            "dtypes: float64(3), int64(4), object(1)\n",
            "memory usage: 938.4+ KB\n"
          ],
          "name": "stdout"
        }
      ]
    },
    {
      "cell_type": "code",
      "metadata": {
        "colab": {
          "base_uri": "https://localhost:8080/"
        },
        "id": "lTzyxvGol0eN",
        "outputId": "a7d04ff8-4a23-45d8-99ce-54183895caf2"
      },
      "source": [
        " # we need to convert zipcode to a string so we can make dummy variables\n",
        "features['zipcode'] = features['zipcode'].astype(str)\n",
        "features.info()"
      ],
      "execution_count": 21,
      "outputs": [
        {
          "output_type": "stream",
          "text": [
            "<class 'pandas.core.frame.DataFrame'>\n",
            "RangeIndex: 15012 entries, 0 to 15011\n",
            "Data columns (total 8 columns):\n",
            " #   Column               Non-Null Count  Dtype  \n",
            "---  ------               --------------  -----  \n",
            " 0   Image Name           15012 non-null  object \n",
            " 1   zipcode              15012 non-null  object \n",
            " 2   livingAreaSqFt       15012 non-null  float64\n",
            " 3   numOfBathrooms       15012 non-null  float64\n",
            " 4   numOfBedrooms        15012 non-null  int64  \n",
            " 5   numOfPrimarySchools  15012 non-null  int64  \n",
            " 6   numOfHighSchools     15012 non-null  int64  \n",
            " 7   avgSchoolRating      15012 non-null  float64\n",
            "dtypes: float64(3), int64(3), object(2)\n",
            "memory usage: 938.4+ KB\n"
          ],
          "name": "stdout"
        }
      ]
    },
    {
      "cell_type": "code",
      "metadata": {
        "colab": {
          "base_uri": "https://localhost:8080/"
        },
        "id": "HfGyl_NH5KfX",
        "outputId": "29580869-e7a9-41c2-8f4e-fcd756870acb"
      },
      "source": [
        "# testing this code for use in the generator\n",
        "\n",
        "features[features['Image Name']=='111373431_ffce26843283d3365c11d81b8e6bdc6f-p_f'].iloc[0].drop('Image Name')"
      ],
      "execution_count": 22,
      "outputs": [
        {
          "output_type": "execute_result",
          "data": {
            "text/plain": [
              "zipcode                  78660\n",
              "livingAreaSqFt            2601\n",
              "numOfBathrooms               3\n",
              "numOfBedrooms                4\n",
              "numOfPrimarySchools          1\n",
              "numOfHighSchools             1\n",
              "avgSchoolRating        2.66667\n",
              "Name: 0, dtype: object"
            ]
          },
          "metadata": {},
          "execution_count": 22
        }
      ]
    },
    {
      "cell_type": "markdown",
      "metadata": {
        "id": "JIq5irELwz3l"
      },
      "source": [
        "#### 3b. Normalize the livingAreaSqFt "
      ]
    },
    {
      "cell_type": "code",
      "metadata": {
        "colab": {
          "base_uri": "https://localhost:8080/"
        },
        "id": "Uz1qsR3hwExh",
        "outputId": "6406aa13-4f64-4282-d2c8-e4affcc37482"
      },
      "source": [
        "np.std(features.livingAreaSqFt)"
      ],
      "execution_count": 23,
      "outputs": [
        {
          "output_type": "execute_result",
          "data": {
            "text/plain": [
              "1023.8335395376241"
            ]
          },
          "metadata": {},
          "execution_count": 23
        }
      ]
    },
    {
      "cell_type": "code",
      "metadata": {
        "id": "JHxw76m1Wdz6"
      },
      "source": [
        "#normalize the living area square ft by diving by the standard deviation\n",
        "features['livingAreaSqFt'] = features['livingAreaSqFt'].divide(np.std(features.livingAreaSqFt))"
      ],
      "execution_count": 24,
      "outputs": []
    },
    {
      "cell_type": "code",
      "metadata": {
        "colab": {
          "base_uri": "https://localhost:8080/"
        },
        "id": "5LfphARxv-d7",
        "outputId": "70f95f1e-e02e-408c-8d20-de063f72876d"
      },
      "source": [
        "np.std(features.livingAreaSqFt)"
      ],
      "execution_count": 25,
      "outputs": [
        {
          "output_type": "execute_result",
          "data": {
            "text/plain": [
              "1.0000000000000067"
            ]
          },
          "metadata": {},
          "execution_count": 25
        }
      ]
    },
    {
      "cell_type": "code",
      "metadata": {
        "colab": {
          "base_uri": "https://localhost:8080/",
          "height": 0
        },
        "id": "ZKTTXvm0W92t",
        "outputId": "6c51dcba-d8ca-489b-cee3-c75cf821e8ac"
      },
      "source": [
        "features.head()"
      ],
      "execution_count": 26,
      "outputs": [
        {
          "output_type": "execute_result",
          "data": {
            "text/html": [
              "<div>\n",
              "<style scoped>\n",
              "    .dataframe tbody tr th:only-of-type {\n",
              "        vertical-align: middle;\n",
              "    }\n",
              "\n",
              "    .dataframe tbody tr th {\n",
              "        vertical-align: top;\n",
              "    }\n",
              "\n",
              "    .dataframe thead th {\n",
              "        text-align: right;\n",
              "    }\n",
              "</style>\n",
              "<table border=\"1\" class=\"dataframe\">\n",
              "  <thead>\n",
              "    <tr style=\"text-align: right;\">\n",
              "      <th></th>\n",
              "      <th>Image Name</th>\n",
              "      <th>zipcode</th>\n",
              "      <th>livingAreaSqFt</th>\n",
              "      <th>numOfBathrooms</th>\n",
              "      <th>numOfBedrooms</th>\n",
              "      <th>numOfPrimarySchools</th>\n",
              "      <th>numOfHighSchools</th>\n",
              "      <th>avgSchoolRating</th>\n",
              "    </tr>\n",
              "  </thead>\n",
              "  <tbody>\n",
              "    <tr>\n",
              "      <th>0</th>\n",
              "      <td>111373431_ffce26843283d3365c11d81b8e6bdc6f-p_f</td>\n",
              "      <td>78660</td>\n",
              "      <td>2.540452</td>\n",
              "      <td>3.0</td>\n",
              "      <td>4</td>\n",
              "      <td>1</td>\n",
              "      <td>1</td>\n",
              "      <td>2.666667</td>\n",
              "    </tr>\n",
              "    <tr>\n",
              "      <th>1</th>\n",
              "      <td>120900430_8255c127be8dcf0a1a18b7563d987088-p_f</td>\n",
              "      <td>78660</td>\n",
              "      <td>1.726843</td>\n",
              "      <td>2.0</td>\n",
              "      <td>4</td>\n",
              "      <td>1</td>\n",
              "      <td>1</td>\n",
              "      <td>2.666667</td>\n",
              "    </tr>\n",
              "    <tr>\n",
              "      <th>2</th>\n",
              "      <td>2084491383_a2ad649e1a7a098111dcea084a11c855-p_f</td>\n",
              "      <td>78660</td>\n",
              "      <td>1.443594</td>\n",
              "      <td>2.0</td>\n",
              "      <td>3</td>\n",
              "      <td>0</td>\n",
              "      <td>1</td>\n",
              "      <td>3.000000</td>\n",
              "    </tr>\n",
              "    <tr>\n",
              "      <th>3</th>\n",
              "      <td>120901374_b469367a619da85b1f5ceb69b675d88e-p_f</td>\n",
              "      <td>78660</td>\n",
              "      <td>1.638938</td>\n",
              "      <td>2.0</td>\n",
              "      <td>3</td>\n",
              "      <td>1</td>\n",
              "      <td>1</td>\n",
              "      <td>2.666667</td>\n",
              "    </tr>\n",
              "    <tr>\n",
              "      <th>4</th>\n",
              "      <td>60134862_b1a48a3df3f111e005bb913873e98ce2-p_f</td>\n",
              "      <td>78660</td>\n",
              "      <td>2.082370</td>\n",
              "      <td>3.0</td>\n",
              "      <td>3</td>\n",
              "      <td>1</td>\n",
              "      <td>1</td>\n",
              "      <td>4.000000</td>\n",
              "    </tr>\n",
              "  </tbody>\n",
              "</table>\n",
              "</div>"
            ],
            "text/plain": [
              "                                        Image Name  ... avgSchoolRating\n",
              "0   111373431_ffce26843283d3365c11d81b8e6bdc6f-p_f  ...        2.666667\n",
              "1   120900430_8255c127be8dcf0a1a18b7563d987088-p_f  ...        2.666667\n",
              "2  2084491383_a2ad649e1a7a098111dcea084a11c855-p_f  ...        3.000000\n",
              "3   120901374_b469367a619da85b1f5ceb69b675d88e-p_f  ...        2.666667\n",
              "4    60134862_b1a48a3df3f111e005bb913873e98ce2-p_f  ...        4.000000\n",
              "\n",
              "[5 rows x 8 columns]"
            ]
          },
          "metadata": {},
          "execution_count": 26
        }
      ]
    },
    {
      "cell_type": "markdown",
      "metadata": {
        "id": "BZCpQpj2mBPK"
      },
      "source": [
        "#### 3c. Create Dummy Variables for Categorical Features (Zipcode)"
      ]
    },
    {
      "cell_type": "code",
      "metadata": {
        "colab": {
          "base_uri": "https://localhost:8080/"
        },
        "id": "1TiReBxS7ki6",
        "outputId": "96555a1b-3ec9-455c-a148-7f4335f44851"
      },
      "source": [
        "# get the names of all the columns\n",
        "features.columns"
      ],
      "execution_count": 27,
      "outputs": [
        {
          "output_type": "execute_result",
          "data": {
            "text/plain": [
              "Index(['Image Name', 'zipcode', 'livingAreaSqFt', 'numOfBathrooms',\n",
              "       'numOfBedrooms', 'numOfPrimarySchools', 'numOfHighSchools',\n",
              "       'avgSchoolRating'],\n",
              "      dtype='object')"
            ]
          },
          "metadata": {},
          "execution_count": 27
        }
      ]
    },
    {
      "cell_type": "code",
      "metadata": {
        "id": "i17EPJqHmDCk"
      },
      "source": [
        "# make a df of dummy variables for the zipcode column\n",
        "dummies = pd.get_dummies(features.zipcode, prefix='Zipcode_')"
      ],
      "execution_count": 28,
      "outputs": []
    },
    {
      "cell_type": "code",
      "metadata": {
        "colab": {
          "base_uri": "https://localhost:8080/",
          "height": 0
        },
        "id": "mZ4hFXTx-5I8",
        "outputId": "10d71395-e338-4f82-bfcc-4250fe6acdcd"
      },
      "source": [
        "# checking the dummies for zipcode\n",
        "dummies "
      ],
      "execution_count": 29,
      "outputs": [
        {
          "output_type": "execute_result",
          "data": {
            "text/html": [
              "<div>\n",
              "<style scoped>\n",
              "    .dataframe tbody tr th:only-of-type {\n",
              "        vertical-align: middle;\n",
              "    }\n",
              "\n",
              "    .dataframe tbody tr th {\n",
              "        vertical-align: top;\n",
              "    }\n",
              "\n",
              "    .dataframe thead th {\n",
              "        text-align: right;\n",
              "    }\n",
              "</style>\n",
              "<table border=\"1\" class=\"dataframe\">\n",
              "  <thead>\n",
              "    <tr style=\"text-align: right;\">\n",
              "      <th></th>\n",
              "      <th>Zipcode__78617</th>\n",
              "      <th>Zipcode__78619</th>\n",
              "      <th>Zipcode__78652</th>\n",
              "      <th>Zipcode__78653</th>\n",
              "      <th>Zipcode__78660</th>\n",
              "      <th>Zipcode__78701</th>\n",
              "      <th>Zipcode__78702</th>\n",
              "      <th>Zipcode__78703</th>\n",
              "      <th>Zipcode__78704</th>\n",
              "      <th>Zipcode__78705</th>\n",
              "      <th>Zipcode__78717</th>\n",
              "      <th>Zipcode__78719</th>\n",
              "      <th>Zipcode__78721</th>\n",
              "      <th>Zipcode__78722</th>\n",
              "      <th>Zipcode__78723</th>\n",
              "      <th>Zipcode__78724</th>\n",
              "      <th>Zipcode__78725</th>\n",
              "      <th>Zipcode__78726</th>\n",
              "      <th>Zipcode__78727</th>\n",
              "      <th>Zipcode__78728</th>\n",
              "      <th>Zipcode__78729</th>\n",
              "      <th>Zipcode__78730</th>\n",
              "      <th>Zipcode__78731</th>\n",
              "      <th>Zipcode__78732</th>\n",
              "      <th>Zipcode__78733</th>\n",
              "      <th>Zipcode__78734</th>\n",
              "      <th>Zipcode__78735</th>\n",
              "      <th>Zipcode__78736</th>\n",
              "      <th>Zipcode__78737</th>\n",
              "      <th>Zipcode__78738</th>\n",
              "      <th>Zipcode__78739</th>\n",
              "      <th>Zipcode__78741</th>\n",
              "      <th>Zipcode__78742</th>\n",
              "      <th>Zipcode__78744</th>\n",
              "      <th>Zipcode__78745</th>\n",
              "      <th>Zipcode__78746</th>\n",
              "      <th>Zipcode__78747</th>\n",
              "      <th>Zipcode__78748</th>\n",
              "      <th>Zipcode__78749</th>\n",
              "      <th>Zipcode__78750</th>\n",
              "      <th>Zipcode__78751</th>\n",
              "      <th>Zipcode__78752</th>\n",
              "      <th>Zipcode__78753</th>\n",
              "      <th>Zipcode__78754</th>\n",
              "      <th>Zipcode__78756</th>\n",
              "      <th>Zipcode__78757</th>\n",
              "      <th>Zipcode__78758</th>\n",
              "      <th>Zipcode__78759</th>\n",
              "    </tr>\n",
              "  </thead>\n",
              "  <tbody>\n",
              "    <tr>\n",
              "      <th>0</th>\n",
              "      <td>0</td>\n",
              "      <td>0</td>\n",
              "      <td>0</td>\n",
              "      <td>0</td>\n",
              "      <td>1</td>\n",
              "      <td>0</td>\n",
              "      <td>0</td>\n",
              "      <td>0</td>\n",
              "      <td>0</td>\n",
              "      <td>0</td>\n",
              "      <td>0</td>\n",
              "      <td>0</td>\n",
              "      <td>0</td>\n",
              "      <td>0</td>\n",
              "      <td>0</td>\n",
              "      <td>0</td>\n",
              "      <td>0</td>\n",
              "      <td>0</td>\n",
              "      <td>0</td>\n",
              "      <td>0</td>\n",
              "      <td>0</td>\n",
              "      <td>0</td>\n",
              "      <td>0</td>\n",
              "      <td>0</td>\n",
              "      <td>0</td>\n",
              "      <td>0</td>\n",
              "      <td>0</td>\n",
              "      <td>0</td>\n",
              "      <td>0</td>\n",
              "      <td>0</td>\n",
              "      <td>0</td>\n",
              "      <td>0</td>\n",
              "      <td>0</td>\n",
              "      <td>0</td>\n",
              "      <td>0</td>\n",
              "      <td>0</td>\n",
              "      <td>0</td>\n",
              "      <td>0</td>\n",
              "      <td>0</td>\n",
              "      <td>0</td>\n",
              "      <td>0</td>\n",
              "      <td>0</td>\n",
              "      <td>0</td>\n",
              "      <td>0</td>\n",
              "      <td>0</td>\n",
              "      <td>0</td>\n",
              "      <td>0</td>\n",
              "      <td>0</td>\n",
              "    </tr>\n",
              "    <tr>\n",
              "      <th>1</th>\n",
              "      <td>0</td>\n",
              "      <td>0</td>\n",
              "      <td>0</td>\n",
              "      <td>0</td>\n",
              "      <td>1</td>\n",
              "      <td>0</td>\n",
              "      <td>0</td>\n",
              "      <td>0</td>\n",
              "      <td>0</td>\n",
              "      <td>0</td>\n",
              "      <td>0</td>\n",
              "      <td>0</td>\n",
              "      <td>0</td>\n",
              "      <td>0</td>\n",
              "      <td>0</td>\n",
              "      <td>0</td>\n",
              "      <td>0</td>\n",
              "      <td>0</td>\n",
              "      <td>0</td>\n",
              "      <td>0</td>\n",
              "      <td>0</td>\n",
              "      <td>0</td>\n",
              "      <td>0</td>\n",
              "      <td>0</td>\n",
              "      <td>0</td>\n",
              "      <td>0</td>\n",
              "      <td>0</td>\n",
              "      <td>0</td>\n",
              "      <td>0</td>\n",
              "      <td>0</td>\n",
              "      <td>0</td>\n",
              "      <td>0</td>\n",
              "      <td>0</td>\n",
              "      <td>0</td>\n",
              "      <td>0</td>\n",
              "      <td>0</td>\n",
              "      <td>0</td>\n",
              "      <td>0</td>\n",
              "      <td>0</td>\n",
              "      <td>0</td>\n",
              "      <td>0</td>\n",
              "      <td>0</td>\n",
              "      <td>0</td>\n",
              "      <td>0</td>\n",
              "      <td>0</td>\n",
              "      <td>0</td>\n",
              "      <td>0</td>\n",
              "      <td>0</td>\n",
              "    </tr>\n",
              "    <tr>\n",
              "      <th>2</th>\n",
              "      <td>0</td>\n",
              "      <td>0</td>\n",
              "      <td>0</td>\n",
              "      <td>0</td>\n",
              "      <td>1</td>\n",
              "      <td>0</td>\n",
              "      <td>0</td>\n",
              "      <td>0</td>\n",
              "      <td>0</td>\n",
              "      <td>0</td>\n",
              "      <td>0</td>\n",
              "      <td>0</td>\n",
              "      <td>0</td>\n",
              "      <td>0</td>\n",
              "      <td>0</td>\n",
              "      <td>0</td>\n",
              "      <td>0</td>\n",
              "      <td>0</td>\n",
              "      <td>0</td>\n",
              "      <td>0</td>\n",
              "      <td>0</td>\n",
              "      <td>0</td>\n",
              "      <td>0</td>\n",
              "      <td>0</td>\n",
              "      <td>0</td>\n",
              "      <td>0</td>\n",
              "      <td>0</td>\n",
              "      <td>0</td>\n",
              "      <td>0</td>\n",
              "      <td>0</td>\n",
              "      <td>0</td>\n",
              "      <td>0</td>\n",
              "      <td>0</td>\n",
              "      <td>0</td>\n",
              "      <td>0</td>\n",
              "      <td>0</td>\n",
              "      <td>0</td>\n",
              "      <td>0</td>\n",
              "      <td>0</td>\n",
              "      <td>0</td>\n",
              "      <td>0</td>\n",
              "      <td>0</td>\n",
              "      <td>0</td>\n",
              "      <td>0</td>\n",
              "      <td>0</td>\n",
              "      <td>0</td>\n",
              "      <td>0</td>\n",
              "      <td>0</td>\n",
              "    </tr>\n",
              "    <tr>\n",
              "      <th>3</th>\n",
              "      <td>0</td>\n",
              "      <td>0</td>\n",
              "      <td>0</td>\n",
              "      <td>0</td>\n",
              "      <td>1</td>\n",
              "      <td>0</td>\n",
              "      <td>0</td>\n",
              "      <td>0</td>\n",
              "      <td>0</td>\n",
              "      <td>0</td>\n",
              "      <td>0</td>\n",
              "      <td>0</td>\n",
              "      <td>0</td>\n",
              "      <td>0</td>\n",
              "      <td>0</td>\n",
              "      <td>0</td>\n",
              "      <td>0</td>\n",
              "      <td>0</td>\n",
              "      <td>0</td>\n",
              "      <td>0</td>\n",
              "      <td>0</td>\n",
              "      <td>0</td>\n",
              "      <td>0</td>\n",
              "      <td>0</td>\n",
              "      <td>0</td>\n",
              "      <td>0</td>\n",
              "      <td>0</td>\n",
              "      <td>0</td>\n",
              "      <td>0</td>\n",
              "      <td>0</td>\n",
              "      <td>0</td>\n",
              "      <td>0</td>\n",
              "      <td>0</td>\n",
              "      <td>0</td>\n",
              "      <td>0</td>\n",
              "      <td>0</td>\n",
              "      <td>0</td>\n",
              "      <td>0</td>\n",
              "      <td>0</td>\n",
              "      <td>0</td>\n",
              "      <td>0</td>\n",
              "      <td>0</td>\n",
              "      <td>0</td>\n",
              "      <td>0</td>\n",
              "      <td>0</td>\n",
              "      <td>0</td>\n",
              "      <td>0</td>\n",
              "      <td>0</td>\n",
              "    </tr>\n",
              "    <tr>\n",
              "      <th>4</th>\n",
              "      <td>0</td>\n",
              "      <td>0</td>\n",
              "      <td>0</td>\n",
              "      <td>0</td>\n",
              "      <td>1</td>\n",
              "      <td>0</td>\n",
              "      <td>0</td>\n",
              "      <td>0</td>\n",
              "      <td>0</td>\n",
              "      <td>0</td>\n",
              "      <td>0</td>\n",
              "      <td>0</td>\n",
              "      <td>0</td>\n",
              "      <td>0</td>\n",
              "      <td>0</td>\n",
              "      <td>0</td>\n",
              "      <td>0</td>\n",
              "      <td>0</td>\n",
              "      <td>0</td>\n",
              "      <td>0</td>\n",
              "      <td>0</td>\n",
              "      <td>0</td>\n",
              "      <td>0</td>\n",
              "      <td>0</td>\n",
              "      <td>0</td>\n",
              "      <td>0</td>\n",
              "      <td>0</td>\n",
              "      <td>0</td>\n",
              "      <td>0</td>\n",
              "      <td>0</td>\n",
              "      <td>0</td>\n",
              "      <td>0</td>\n",
              "      <td>0</td>\n",
              "      <td>0</td>\n",
              "      <td>0</td>\n",
              "      <td>0</td>\n",
              "      <td>0</td>\n",
              "      <td>0</td>\n",
              "      <td>0</td>\n",
              "      <td>0</td>\n",
              "      <td>0</td>\n",
              "      <td>0</td>\n",
              "      <td>0</td>\n",
              "      <td>0</td>\n",
              "      <td>0</td>\n",
              "      <td>0</td>\n",
              "      <td>0</td>\n",
              "      <td>0</td>\n",
              "    </tr>\n",
              "    <tr>\n",
              "      <th>...</th>\n",
              "      <td>...</td>\n",
              "      <td>...</td>\n",
              "      <td>...</td>\n",
              "      <td>...</td>\n",
              "      <td>...</td>\n",
              "      <td>...</td>\n",
              "      <td>...</td>\n",
              "      <td>...</td>\n",
              "      <td>...</td>\n",
              "      <td>...</td>\n",
              "      <td>...</td>\n",
              "      <td>...</td>\n",
              "      <td>...</td>\n",
              "      <td>...</td>\n",
              "      <td>...</td>\n",
              "      <td>...</td>\n",
              "      <td>...</td>\n",
              "      <td>...</td>\n",
              "      <td>...</td>\n",
              "      <td>...</td>\n",
              "      <td>...</td>\n",
              "      <td>...</td>\n",
              "      <td>...</td>\n",
              "      <td>...</td>\n",
              "      <td>...</td>\n",
              "      <td>...</td>\n",
              "      <td>...</td>\n",
              "      <td>...</td>\n",
              "      <td>...</td>\n",
              "      <td>...</td>\n",
              "      <td>...</td>\n",
              "      <td>...</td>\n",
              "      <td>...</td>\n",
              "      <td>...</td>\n",
              "      <td>...</td>\n",
              "      <td>...</td>\n",
              "      <td>...</td>\n",
              "      <td>...</td>\n",
              "      <td>...</td>\n",
              "      <td>...</td>\n",
              "      <td>...</td>\n",
              "      <td>...</td>\n",
              "      <td>...</td>\n",
              "      <td>...</td>\n",
              "      <td>...</td>\n",
              "      <td>...</td>\n",
              "      <td>...</td>\n",
              "      <td>...</td>\n",
              "    </tr>\n",
              "    <tr>\n",
              "      <th>15007</th>\n",
              "      <td>0</td>\n",
              "      <td>0</td>\n",
              "      <td>0</td>\n",
              "      <td>0</td>\n",
              "      <td>0</td>\n",
              "      <td>0</td>\n",
              "      <td>0</td>\n",
              "      <td>0</td>\n",
              "      <td>0</td>\n",
              "      <td>0</td>\n",
              "      <td>0</td>\n",
              "      <td>0</td>\n",
              "      <td>0</td>\n",
              "      <td>0</td>\n",
              "      <td>0</td>\n",
              "      <td>0</td>\n",
              "      <td>0</td>\n",
              "      <td>0</td>\n",
              "      <td>0</td>\n",
              "      <td>0</td>\n",
              "      <td>0</td>\n",
              "      <td>0</td>\n",
              "      <td>0</td>\n",
              "      <td>0</td>\n",
              "      <td>0</td>\n",
              "      <td>0</td>\n",
              "      <td>0</td>\n",
              "      <td>0</td>\n",
              "      <td>0</td>\n",
              "      <td>0</td>\n",
              "      <td>0</td>\n",
              "      <td>0</td>\n",
              "      <td>0</td>\n",
              "      <td>0</td>\n",
              "      <td>0</td>\n",
              "      <td>0</td>\n",
              "      <td>0</td>\n",
              "      <td>1</td>\n",
              "      <td>0</td>\n",
              "      <td>0</td>\n",
              "      <td>0</td>\n",
              "      <td>0</td>\n",
              "      <td>0</td>\n",
              "      <td>0</td>\n",
              "      <td>0</td>\n",
              "      <td>0</td>\n",
              "      <td>0</td>\n",
              "      <td>0</td>\n",
              "    </tr>\n",
              "    <tr>\n",
              "      <th>15008</th>\n",
              "      <td>0</td>\n",
              "      <td>0</td>\n",
              "      <td>0</td>\n",
              "      <td>0</td>\n",
              "      <td>0</td>\n",
              "      <td>0</td>\n",
              "      <td>0</td>\n",
              "      <td>0</td>\n",
              "      <td>0</td>\n",
              "      <td>0</td>\n",
              "      <td>0</td>\n",
              "      <td>0</td>\n",
              "      <td>0</td>\n",
              "      <td>0</td>\n",
              "      <td>0</td>\n",
              "      <td>0</td>\n",
              "      <td>0</td>\n",
              "      <td>0</td>\n",
              "      <td>0</td>\n",
              "      <td>0</td>\n",
              "      <td>0</td>\n",
              "      <td>0</td>\n",
              "      <td>0</td>\n",
              "      <td>0</td>\n",
              "      <td>0</td>\n",
              "      <td>0</td>\n",
              "      <td>0</td>\n",
              "      <td>0</td>\n",
              "      <td>0</td>\n",
              "      <td>0</td>\n",
              "      <td>0</td>\n",
              "      <td>1</td>\n",
              "      <td>0</td>\n",
              "      <td>0</td>\n",
              "      <td>0</td>\n",
              "      <td>0</td>\n",
              "      <td>0</td>\n",
              "      <td>0</td>\n",
              "      <td>0</td>\n",
              "      <td>0</td>\n",
              "      <td>0</td>\n",
              "      <td>0</td>\n",
              "      <td>0</td>\n",
              "      <td>0</td>\n",
              "      <td>0</td>\n",
              "      <td>0</td>\n",
              "      <td>0</td>\n",
              "      <td>0</td>\n",
              "    </tr>\n",
              "    <tr>\n",
              "      <th>15009</th>\n",
              "      <td>0</td>\n",
              "      <td>0</td>\n",
              "      <td>0</td>\n",
              "      <td>0</td>\n",
              "      <td>0</td>\n",
              "      <td>0</td>\n",
              "      <td>0</td>\n",
              "      <td>0</td>\n",
              "      <td>1</td>\n",
              "      <td>0</td>\n",
              "      <td>0</td>\n",
              "      <td>0</td>\n",
              "      <td>0</td>\n",
              "      <td>0</td>\n",
              "      <td>0</td>\n",
              "      <td>0</td>\n",
              "      <td>0</td>\n",
              "      <td>0</td>\n",
              "      <td>0</td>\n",
              "      <td>0</td>\n",
              "      <td>0</td>\n",
              "      <td>0</td>\n",
              "      <td>0</td>\n",
              "      <td>0</td>\n",
              "      <td>0</td>\n",
              "      <td>0</td>\n",
              "      <td>0</td>\n",
              "      <td>0</td>\n",
              "      <td>0</td>\n",
              "      <td>0</td>\n",
              "      <td>0</td>\n",
              "      <td>0</td>\n",
              "      <td>0</td>\n",
              "      <td>0</td>\n",
              "      <td>0</td>\n",
              "      <td>0</td>\n",
              "      <td>0</td>\n",
              "      <td>0</td>\n",
              "      <td>0</td>\n",
              "      <td>0</td>\n",
              "      <td>0</td>\n",
              "      <td>0</td>\n",
              "      <td>0</td>\n",
              "      <td>0</td>\n",
              "      <td>0</td>\n",
              "      <td>0</td>\n",
              "      <td>0</td>\n",
              "      <td>0</td>\n",
              "    </tr>\n",
              "    <tr>\n",
              "      <th>15010</th>\n",
              "      <td>0</td>\n",
              "      <td>0</td>\n",
              "      <td>0</td>\n",
              "      <td>0</td>\n",
              "      <td>0</td>\n",
              "      <td>0</td>\n",
              "      <td>0</td>\n",
              "      <td>0</td>\n",
              "      <td>0</td>\n",
              "      <td>0</td>\n",
              "      <td>0</td>\n",
              "      <td>0</td>\n",
              "      <td>0</td>\n",
              "      <td>1</td>\n",
              "      <td>0</td>\n",
              "      <td>0</td>\n",
              "      <td>0</td>\n",
              "      <td>0</td>\n",
              "      <td>0</td>\n",
              "      <td>0</td>\n",
              "      <td>0</td>\n",
              "      <td>0</td>\n",
              "      <td>0</td>\n",
              "      <td>0</td>\n",
              "      <td>0</td>\n",
              "      <td>0</td>\n",
              "      <td>0</td>\n",
              "      <td>0</td>\n",
              "      <td>0</td>\n",
              "      <td>0</td>\n",
              "      <td>0</td>\n",
              "      <td>0</td>\n",
              "      <td>0</td>\n",
              "      <td>0</td>\n",
              "      <td>0</td>\n",
              "      <td>0</td>\n",
              "      <td>0</td>\n",
              "      <td>0</td>\n",
              "      <td>0</td>\n",
              "      <td>0</td>\n",
              "      <td>0</td>\n",
              "      <td>0</td>\n",
              "      <td>0</td>\n",
              "      <td>0</td>\n",
              "      <td>0</td>\n",
              "      <td>0</td>\n",
              "      <td>0</td>\n",
              "      <td>0</td>\n",
              "    </tr>\n",
              "    <tr>\n",
              "      <th>15011</th>\n",
              "      <td>0</td>\n",
              "      <td>0</td>\n",
              "      <td>0</td>\n",
              "      <td>0</td>\n",
              "      <td>0</td>\n",
              "      <td>0</td>\n",
              "      <td>1</td>\n",
              "      <td>0</td>\n",
              "      <td>0</td>\n",
              "      <td>0</td>\n",
              "      <td>0</td>\n",
              "      <td>0</td>\n",
              "      <td>0</td>\n",
              "      <td>0</td>\n",
              "      <td>0</td>\n",
              "      <td>0</td>\n",
              "      <td>0</td>\n",
              "      <td>0</td>\n",
              "      <td>0</td>\n",
              "      <td>0</td>\n",
              "      <td>0</td>\n",
              "      <td>0</td>\n",
              "      <td>0</td>\n",
              "      <td>0</td>\n",
              "      <td>0</td>\n",
              "      <td>0</td>\n",
              "      <td>0</td>\n",
              "      <td>0</td>\n",
              "      <td>0</td>\n",
              "      <td>0</td>\n",
              "      <td>0</td>\n",
              "      <td>0</td>\n",
              "      <td>0</td>\n",
              "      <td>0</td>\n",
              "      <td>0</td>\n",
              "      <td>0</td>\n",
              "      <td>0</td>\n",
              "      <td>0</td>\n",
              "      <td>0</td>\n",
              "      <td>0</td>\n",
              "      <td>0</td>\n",
              "      <td>0</td>\n",
              "      <td>0</td>\n",
              "      <td>0</td>\n",
              "      <td>0</td>\n",
              "      <td>0</td>\n",
              "      <td>0</td>\n",
              "      <td>0</td>\n",
              "    </tr>\n",
              "  </tbody>\n",
              "</table>\n",
              "<p>15012 rows × 48 columns</p>\n",
              "</div>"
            ],
            "text/plain": [
              "       Zipcode__78617  Zipcode__78619  ...  Zipcode__78758  Zipcode__78759\n",
              "0                   0               0  ...               0               0\n",
              "1                   0               0  ...               0               0\n",
              "2                   0               0  ...               0               0\n",
              "3                   0               0  ...               0               0\n",
              "4                   0               0  ...               0               0\n",
              "...               ...             ...  ...             ...             ...\n",
              "15007               0               0  ...               0               0\n",
              "15008               0               0  ...               0               0\n",
              "15009               0               0  ...               0               0\n",
              "15010               0               0  ...               0               0\n",
              "15011               0               0  ...               0               0\n",
              "\n",
              "[15012 rows x 48 columns]"
            ]
          },
          "metadata": {},
          "execution_count": 29
        }
      ]
    },
    {
      "cell_type": "code",
      "metadata": {
        "id": "4R7pmxBJ-WSB"
      },
      "source": [
        "# concatenate the dummies to our features df\n",
        "features = pd.concat([features, dummies], axis=1)"
      ],
      "execution_count": 30,
      "outputs": []
    },
    {
      "cell_type": "code",
      "metadata": {
        "id": "ujLsdr66-jtk"
      },
      "source": [
        "# drop the original zipcode column\n",
        "features = features.drop(columns='zipcode', axis=1)"
      ],
      "execution_count": 31,
      "outputs": []
    },
    {
      "cell_type": "markdown",
      "metadata": {
        "id": "APFnCGaH1HJP"
      },
      "source": [
        "## 4. Data Generator"
      ]
    },
    {
      "cell_type": "markdown",
      "metadata": {
        "id": "HpfW8auN9m4u"
      },
      "source": [
        "#### 4a. Start of generator"
      ]
    },
    {
      "cell_type": "code",
      "metadata": {
        "colab": {
          "base_uri": "https://localhost:8080/"
        },
        "id": "Iu2fszI8chNq",
        "outputId": "cba453ed-eda3-4be6-9390-bd42f2ad7ee0"
      },
      "source": [
        "# checking the labels dictionary, it gives a price\n",
        "labels['60136362_ff18cc43e7e6cab9b45e109b7b8f8741-p_f']"
      ],
      "execution_count": 32,
      "outputs": [
        {
          "output_type": "execute_result",
          "data": {
            "text/plain": [
              "0.4524626201850114"
            ]
          },
          "metadata": {},
          "execution_count": 32
        }
      ]
    },
    {
      "cell_type": "code",
      "metadata": {
        "id": "wAI_75wY4aqu"
      },
      "source": [
        "#checking the labels dictionary\n",
        "#labels"
      ],
      "execution_count": null,
      "outputs": []
    },
    {
      "cell_type": "code",
      "metadata": {
        "id": "EhyUDut-pKj3"
      },
      "source": [
        "# First, let's write the initialization function of the class\n",
        "\n",
        "class DataGenerator(Sequence):\n",
        "\n",
        "  def __init__(self, list_IDs, labels, data, batch_size=128, dim=(250,300), n_channels=3,\n",
        "              shuffle=True):\n",
        "    'Initialization'\n",
        "    self.dim = dim\n",
        "    self.dim_ct = (data.shape[1]-1)\n",
        "    self.batch_size = batch_size\n",
        "    self.labels = labels\n",
        "    self.data = data\n",
        "    self.list_IDs = list_IDs\n",
        "    self.n_channels = n_channels\n",
        "    #self.n_classes = n_classes\n",
        "    self.shuffle = shuffle\n",
        "    self.on_epoch_end()\n",
        "\n",
        "\n",
        "  def __len__(self):\n",
        "        'Denotes the number of batches per epoch'\n",
        "        return int(np.floor(len(self.list_IDs) / self.batch_size))\n",
        "\n",
        "  def __getitem__(self, index):\n",
        "        'Generate one batch of data'\n",
        "        # Generate indexes of the batch\n",
        "        indexes = self.indexes[index*self.batch_size:(index+1)*self.batch_size]\n",
        "\n",
        "        # Find list of IDs\n",
        "        list_IDs_temp = [self.list_IDs[k] for k in indexes]\n",
        "\n",
        "        # Generate data\n",
        "        [X_i, X], y = self.__data_generation(list_IDs_temp)\n",
        "\n",
        "        return [X_i, X], y\n",
        "\n",
        "  def on_epoch_end(self):\n",
        "        'Updates indexes after each epoch'\n",
        "        self.indexes = np.arange(len(self.list_IDs))\n",
        "        if self.shuffle == True:\n",
        "            np.random.shuffle(self.indexes)\n",
        "\n",
        "  def __data_generation(self, list_IDs_temp):\n",
        "        'Generates data containing batch_size samples' # X : (n_samples, *dim, n_channels)\n",
        "        # Initialization\n",
        "        X_i = np.empty([self.batch_size, self.dim_ct])\n",
        "        X = np.empty((self.batch_size, *self.dim, self.n_channels))\n",
        "        y = list(np.empty((self.batch_size)))\n",
        "        #print(X.shape, X.dtype)\n",
        "        #print(y.shape, y.dtype)\n",
        "\n",
        "        # Generate data\n",
        "        for i, ID in enumerate(list_IDs_temp):\n",
        "            # Store sample\n",
        "            #X[i,] = load_pic(ID, size=self.dim[0], n_channels=self.n_channels)\n",
        "            try:\n",
        "              X[i,] = load_pic(ID+'.jpg' )\n",
        "              X_i[i,] = features[features['Image Name']==ID].iloc[0].drop('Image Name')\n",
        "            #print(X[i,])\n",
        "\n",
        "            # Store class\n",
        "              y[i] = self.labels[ID]\n",
        "              if y[i] < 10:\n",
        "                print(ID, self.label[ID])\n",
        "              \n",
        "            except:\n",
        "              continue\n",
        "              \n",
        "        #print(X_i.shape)\n",
        "        #print(X.shape)\n",
        "        #print(y)\n",
        "        return [X_i, X], np.array(y)\n",
        "\n"
      ],
      "execution_count": 33,
      "outputs": []
    },
    {
      "cell_type": "code",
      "metadata": {
        "id": "5WwCNqZLqbL3"
      },
      "source": [
        "# Parameters\n",
        "params = {'dim': (250,300),\n",
        "          'batch_size': 128,\n",
        "          'n_channels': 3,\n",
        "          'shuffle': True}\n",
        "\n",
        "# Define a callback to monitor validation accuracy\n",
        "monitor_val_loss = EarlyStopping(monitor='val_loss', patience=5, restore_best_weights=True)"
      ],
      "execution_count": 34,
      "outputs": []
    },
    {
      "cell_type": "markdown",
      "metadata": {
        "id": "3X7z4F40qLNf"
      },
      "source": [
        "#### 4b. Create Training and Validation Generator Object"
      ]
    },
    {
      "cell_type": "code",
      "metadata": {
        "id": "1VbaVigVMgiD"
      },
      "source": [
        "#def get_train_images():\n",
        "training_generator = DataGenerator(partition['train'], labels, features, **params)\n",
        "\n",
        "#def get_validation_images():\n",
        "validation_generator = DataGenerator(partition['validation'], labels, features, **params)"
      ],
      "execution_count": 35,
      "outputs": []
    },
    {
      "cell_type": "code",
      "metadata": {
        "id": "w3XavkyyiHSf"
      },
      "source": [
        "# check the labels dictionary\n",
        "#labels"
      ],
      "execution_count": null,
      "outputs": []
    },
    {
      "cell_type": "code",
      "metadata": {
        "colab": {
          "base_uri": "https://localhost:8080/"
        },
        "id": "kd-Ke2ikDwBR",
        "outputId": "63eba8d3-f96e-43d2-b39b-594b722651fc"
      },
      "source": [
        "# checking the type of DataGenerator\n",
        "a = DataGenerator(partition['train'], labels, features, **params)\n",
        "a"
      ],
      "execution_count": 36,
      "outputs": [
        {
          "output_type": "execute_result",
          "data": {
            "text/plain": [
              "<__main__.DataGenerator at 0x7f380b11dcd0>"
            ]
          },
          "metadata": {},
          "execution_count": 36
        }
      ]
    },
    {
      "cell_type": "markdown",
      "metadata": {
        "id": "2l4qbZ67WvnW"
      },
      "source": [
        "#### 4c. Writing a Metric Function for Coefficient of Determination"
      ]
    },
    {
      "cell_type": "code",
      "metadata": {
        "id": "XcKe-3fKW-xU"
      },
      "source": [
        "# from https://jmlb.github.io/ml/2017/03/20/CoeffDetermination_CustomMetric4Keras/\n",
        "\n",
        "from keras import backend as K\n",
        "\n",
        "def coeff_determination(y_true, y_pred):\n",
        "    SS_res =  K.sum(K.square( y_true-y_pred )) \n",
        "    SS_tot = K.sum(K.square( y_true - K.mean(y_true) ) ) \n",
        "    return ( 1 - SS_res/(SS_tot + K.epsilon()) )\n"
      ],
      "execution_count": 37,
      "outputs": []
    },
    {
      "cell_type": "markdown",
      "metadata": {
        "id": "8RvHwEUFrJ1l"
      },
      "source": [
        "## 5. Mixed Inputs Model Creation"
      ]
    },
    {
      "cell_type": "markdown",
      "metadata": {
        "id": "tx0pbkObwMdO"
      },
      "source": [
        "#### 5a. Create MLP model (Features)"
      ]
    },
    {
      "cell_type": "code",
      "metadata": {
        "id": "h1bqEKnfolh8"
      },
      "source": [
        "def create_mlp(dim):\n",
        "\t# define our MLP network\n",
        "  mlp_model = Sequential()\n",
        "  mlp_model.add(Dense(16, input_dim=dim,activation=\"relu\"))\n",
        "  mlp_model.add(Dense(8, activation=\"relu\"))\n",
        "  mlp_model.add(Dense(1, activation=\"linear\"))\n",
        "  return mlp_model\n"
      ],
      "execution_count": 38,
      "outputs": []
    },
    {
      "cell_type": "markdown",
      "metadata": {
        "id": "d4GJWI6PwQit"
      },
      "source": [
        "#### 5b. Create CNN model (Images)"
      ]
    },
    {
      "cell_type": "code",
      "metadata": {
        "id": "SJBcYghCpYxq"
      },
      "source": [
        "def create_cnn():\n",
        "  cnn2 = Sequential()\n",
        "  cnn2.add(Conv2D(32, kernel_size=(3,3), input_shape=(250,300,3),padding='same', activation='relu'))\n",
        "  cnn2.add(MaxPooling2D(pool_size=(2, 2)))\n",
        "  cnn2.add(Conv2D(64, kernel_size=(3,3), padding='same', activation='relu'))\n",
        "  cnn2.add(MaxPooling2D(pool_size=(2, 2)))\n",
        "  cnn2.add(Conv2D(128, kernel_size=(3,3), padding='same', activation='relu'))\n",
        "  cnn2.add(MaxPooling2D(pool_size=(2, 2)))\n",
        "  cnn2.add(Conv2D(128, kernel_size=(3,3), padding='same', activation='relu'))\n",
        "  cnn2.add(MaxPooling2D(pool_size=(2, 2)))\n",
        "  cnn2.add(Flatten())\n",
        "  cnn2.add(Dropout(0.5))\n",
        "  cnn2.add(Dense(512, activation='relu'))\n",
        "  cnn2.add(Dense(32, activation='relu'))\n",
        "  cnn2.add(Dense(1, activation='linear'))\n",
        "  return cnn2\n",
        "\n",
        "\n",
        "\n",
        "#cnn2.compile(optimizer='adam', loss='mean_absolute_error', metrics=[[coeff_determination, 'mae']])\n"
      ],
      "execution_count": 39,
      "outputs": []
    },
    {
      "cell_type": "markdown",
      "metadata": {
        "id": "hPi7NZU3wXq8"
      },
      "source": [
        "#### 5c. Build the models, specifying input shape"
      ]
    },
    {
      "cell_type": "code",
      "metadata": {
        "id": "FuRlgrLzOyuE"
      },
      "source": [
        "\n",
        "# create the MLP and CNN models\n",
        "mlp = create_mlp((features.shape[1]-1)) #numerical data\n",
        "# we first have to create the mlp model:\n",
        "cnn = create_cnn() # image data- we will use our 'cnn2' model\n"
      ],
      "execution_count": 40,
      "outputs": []
    },
    {
      "cell_type": "code",
      "metadata": {
        "colab": {
          "base_uri": "https://localhost:8080/"
        },
        "id": "K8NUWrJuupQy",
        "outputId": "348afe33-81e0-4902-c4f8-f1745ee41cd5"
      },
      "source": [
        "mlp # checking what type this is"
      ],
      "execution_count": 41,
      "outputs": [
        {
          "output_type": "execute_result",
          "data": {
            "text/plain": [
              "<keras.engine.sequential.Sequential at 0x7f380b11ddd0>"
            ]
          },
          "metadata": {},
          "execution_count": 41
        }
      ]
    },
    {
      "cell_type": "code",
      "metadata": {
        "colab": {
          "base_uri": "https://localhost:8080/"
        },
        "id": "rBSXE0RUuq3y",
        "outputId": "4ebc2c72-fe0f-412e-9b3c-d0ecfa783f50"
      },
      "source": [
        "cnn # checking what type this is"
      ],
      "execution_count": 42,
      "outputs": [
        {
          "output_type": "execute_result",
          "data": {
            "text/plain": [
              "<keras.engine.sequential.Sequential at 0x7f380b11d410>"
            ]
          },
          "metadata": {},
          "execution_count": 42
        }
      ]
    },
    {
      "cell_type": "code",
      "metadata": {
        "colab": {
          "base_uri": "https://localhost:8080/"
        },
        "id": "jjOog6VbAcUZ",
        "outputId": "aede8ce6-d0d1-4fc0-fa14-e096101f67fe"
      },
      "source": [
        "features.shape"
      ],
      "execution_count": 43,
      "outputs": [
        {
          "output_type": "execute_result",
          "data": {
            "text/plain": [
              "(15012, 55)"
            ]
          },
          "metadata": {},
          "execution_count": 43
        }
      ]
    },
    {
      "cell_type": "code",
      "metadata": {
        "colab": {
          "base_uri": "https://localhost:8080/"
        },
        "id": "jJEz6rZ-QQmk",
        "outputId": "d71a70c6-078c-4dde-8ca8-052b1bc9d460"
      },
      "source": [
        "cnn.summary()"
      ],
      "execution_count": 44,
      "outputs": [
        {
          "output_type": "stream",
          "text": [
            "Model: \"sequential_1\"\n",
            "_________________________________________________________________\n",
            "Layer (type)                 Output Shape              Param #   \n",
            "=================================================================\n",
            "conv2d (Conv2D)              (None, 250, 300, 32)      896       \n",
            "_________________________________________________________________\n",
            "max_pooling2d (MaxPooling2D) (None, 125, 150, 32)      0         \n",
            "_________________________________________________________________\n",
            "conv2d_1 (Conv2D)            (None, 125, 150, 64)      18496     \n",
            "_________________________________________________________________\n",
            "max_pooling2d_1 (MaxPooling2 (None, 62, 75, 64)        0         \n",
            "_________________________________________________________________\n",
            "conv2d_2 (Conv2D)            (None, 62, 75, 128)       73856     \n",
            "_________________________________________________________________\n",
            "max_pooling2d_2 (MaxPooling2 (None, 31, 37, 128)       0         \n",
            "_________________________________________________________________\n",
            "conv2d_3 (Conv2D)            (None, 31, 37, 128)       147584    \n",
            "_________________________________________________________________\n",
            "max_pooling2d_3 (MaxPooling2 (None, 15, 18, 128)       0         \n",
            "_________________________________________________________________\n",
            "flatten (Flatten)            (None, 34560)             0         \n",
            "_________________________________________________________________\n",
            "dropout (Dropout)            (None, 34560)             0         \n",
            "_________________________________________________________________\n",
            "dense_3 (Dense)              (None, 512)               17695232  \n",
            "_________________________________________________________________\n",
            "dense_4 (Dense)              (None, 32)                16416     \n",
            "_________________________________________________________________\n",
            "dense_5 (Dense)              (None, 1)                 33        \n",
            "=================================================================\n",
            "Total params: 17,952,513\n",
            "Trainable params: 17,952,513\n",
            "Non-trainable params: 0\n",
            "_________________________________________________________________\n"
          ],
          "name": "stdout"
        }
      ]
    },
    {
      "cell_type": "code",
      "metadata": {
        "colab": {
          "base_uri": "https://localhost:8080/"
        },
        "id": "7tS9BqLiyB3U",
        "outputId": "92ce0278-a0b9-48a3-ba75-266943a730a7"
      },
      "source": [
        "# build() the model and specify the input shape\n",
        "mlp.build((features.shape[1]-1)) # `input_shape` is the shape of the input data\n",
        "                         # e.g. input_shape = (None, 32, 32, 3)\n",
        "mlp.summary()"
      ],
      "execution_count": 45,
      "outputs": [
        {
          "output_type": "stream",
          "text": [
            "Model: \"sequential\"\n",
            "_________________________________________________________________\n",
            "Layer (type)                 Output Shape              Param #   \n",
            "=================================================================\n",
            "dense (Dense)                (None, 16)                880       \n",
            "_________________________________________________________________\n",
            "dense_1 (Dense)              (None, 8)                 136       \n",
            "_________________________________________________________________\n",
            "dense_2 (Dense)              (None, 1)                 9         \n",
            "=================================================================\n",
            "Total params: 1,025\n",
            "Trainable params: 1,025\n",
            "Non-trainable params: 0\n",
            "_________________________________________________________________\n"
          ],
          "name": "stdout"
        }
      ]
    },
    {
      "cell_type": "code",
      "metadata": {
        "colab": {
          "base_uri": "https://localhost:8080/"
        },
        "id": "zq1W_BUxOVG_",
        "outputId": "de7d661c-6da3-4d14-fee2-3e6c72577167"
      },
      "source": [
        "mlp.input"
      ],
      "execution_count": 46,
      "outputs": [
        {
          "output_type": "execute_result",
          "data": {
            "text/plain": [
              "<KerasTensor: shape=(None, 54) dtype=float32 (created by layer 'dense_input')>"
            ]
          },
          "metadata": {},
          "execution_count": 46
        }
      ]
    },
    {
      "cell_type": "code",
      "metadata": {
        "colab": {
          "base_uri": "https://localhost:8080/"
        },
        "id": "fhPSFqyeOXwX",
        "outputId": "81e16bf3-844e-4e9d-ee2b-2c7a186b5e93"
      },
      "source": [
        "cnn.input"
      ],
      "execution_count": 47,
      "outputs": [
        {
          "output_type": "execute_result",
          "data": {
            "text/plain": [
              "<KerasTensor: shape=(None, 250, 300, 3) dtype=float32 (created by layer 'conv2d_input')>"
            ]
          },
          "metadata": {},
          "execution_count": 47
        }
      ]
    },
    {
      "cell_type": "code",
      "metadata": {
        "colab": {
          "base_uri": "https://localhost:8080/"
        },
        "id": "0jD1qGXZOcha",
        "outputId": "c2227ff0-849b-4617-b504-bddae0e30ecd"
      },
      "source": [
        "mlp.output"
      ],
      "execution_count": 48,
      "outputs": [
        {
          "output_type": "execute_result",
          "data": {
            "text/plain": [
              "<KerasTensor: shape=(None, 1) dtype=float32 (created by layer 'dense_2')>"
            ]
          },
          "metadata": {},
          "execution_count": 48
        }
      ]
    },
    {
      "cell_type": "code",
      "metadata": {
        "colab": {
          "base_uri": "https://localhost:8080/"
        },
        "id": "cKvk5OmLOeZx",
        "outputId": "c45ff4b8-f4f0-41b4-980a-246679cb36fa"
      },
      "source": [
        "cnn.output"
      ],
      "execution_count": 49,
      "outputs": [
        {
          "output_type": "execute_result",
          "data": {
            "text/plain": [
              "<KerasTensor: shape=(None, 1) dtype=float32 (created by layer 'dense_5')>"
            ]
          },
          "metadata": {},
          "execution_count": 49
        }
      ]
    },
    {
      "cell_type": "code",
      "metadata": {
        "colab": {
          "base_uri": "https://localhost:8080/"
        },
        "id": "I94XJknC0wvV",
        "outputId": "2898f6ca-4431-4907-ca96-fb9636226525"
      },
      "source": [
        "# build() the model and specify the input shape\n",
        "cnn.build((250, 300, 3)) # `input_shape` is the shape of the input data\n",
        "                         # e.g. input_shape = (None, 32, 32, 3)\n",
        "cnn.summary()"
      ],
      "execution_count": 50,
      "outputs": [
        {
          "output_type": "stream",
          "text": [
            "Model: \"sequential_1\"\n",
            "_________________________________________________________________\n",
            "Layer (type)                 Output Shape              Param #   \n",
            "=================================================================\n",
            "conv2d (Conv2D)              (None, 250, 300, 32)      896       \n",
            "_________________________________________________________________\n",
            "max_pooling2d (MaxPooling2D) (None, 125, 150, 32)      0         \n",
            "_________________________________________________________________\n",
            "conv2d_1 (Conv2D)            (None, 125, 150, 64)      18496     \n",
            "_________________________________________________________________\n",
            "max_pooling2d_1 (MaxPooling2 (None, 62, 75, 64)        0         \n",
            "_________________________________________________________________\n",
            "conv2d_2 (Conv2D)            (None, 62, 75, 128)       73856     \n",
            "_________________________________________________________________\n",
            "max_pooling2d_2 (MaxPooling2 (None, 31, 37, 128)       0         \n",
            "_________________________________________________________________\n",
            "conv2d_3 (Conv2D)            (None, 31, 37, 128)       147584    \n",
            "_________________________________________________________________\n",
            "max_pooling2d_3 (MaxPooling2 (None, 15, 18, 128)       0         \n",
            "_________________________________________________________________\n",
            "flatten (Flatten)            (None, 34560)             0         \n",
            "_________________________________________________________________\n",
            "dropout (Dropout)            (None, 34560)             0         \n",
            "_________________________________________________________________\n",
            "dense_3 (Dense)              (None, 512)               17695232  \n",
            "_________________________________________________________________\n",
            "dense_4 (Dense)              (None, 32)                16416     \n",
            "_________________________________________________________________\n",
            "dense_5 (Dense)              (None, 1)                 33        \n",
            "=================================================================\n",
            "Total params: 17,952,513\n",
            "Trainable params: 17,952,513\n",
            "Non-trainable params: 0\n",
            "_________________________________________________________________\n"
          ],
          "name": "stdout"
        }
      ]
    },
    {
      "cell_type": "markdown",
      "metadata": {
        "id": "pOV1O8RgwiCt"
      },
      "source": [
        "#### 5d. Concatenate the two input models and compile the final model"
      ]
    },
    {
      "cell_type": "code",
      "metadata": {
        "id": "LRSwLP7hunWp"
      },
      "source": [
        "from keras.layers import concatenate\n",
        "\n",
        "# create the input to our final set of layers as the *output* of both\n",
        "# the MLP and CNN\n",
        "\n",
        "combinedInput = concatenate([mlp.output, cnn.output])\n",
        "# our final FC layer head will have two dense layers, the final one\n",
        "# being our regression head\n",
        "x = Dense(4, activation=\"relu\")(combinedInput)\n",
        "x = Dense(1, activation=\"linear\")(x)\n",
        "# our final model will accept categorical/numerical data on the MLP\n",
        "# input and images on the CNN input, outputting a single value (the\n",
        "# predicted price of the house)\n",
        "model = Model(inputs=[mlp.input, cnn.input], outputs=x)\n"
      ],
      "execution_count": 51,
      "outputs": []
    },
    {
      "cell_type": "code",
      "metadata": {
        "id": "LrqfOtMW5DAl"
      },
      "source": [
        "opt = keras.optimizers.Adam(learning_rate=0.01)\n",
        "model.compile(optimizer=opt, loss='mean_absolute_error', metrics=[['mean_absolute_error', coeff_determination]])\n",
        "\n",
        "\n",
        "#model.compile(loss='categorical_crossentropy', optimizer=opt)"
      ],
      "execution_count": 52,
      "outputs": []
    },
    {
      "cell_type": "code",
      "metadata": {
        "colab": {
          "base_uri": "https://localhost:8080/"
        },
        "id": "M54EpF2q3sm0",
        "outputId": "cb823f77-ff2c-4d06-a347-8569c11336ab"
      },
      "source": [
        "model.summary()"
      ],
      "execution_count": 53,
      "outputs": [
        {
          "output_type": "stream",
          "text": [
            "Model: \"model\"\n",
            "__________________________________________________________________________________________________\n",
            "Layer (type)                    Output Shape         Param #     Connected to                     \n",
            "==================================================================================================\n",
            "conv2d_input (InputLayer)       [(None, 250, 300, 3) 0                                            \n",
            "__________________________________________________________________________________________________\n",
            "conv2d (Conv2D)                 (None, 250, 300, 32) 896         conv2d_input[0][0]               \n",
            "__________________________________________________________________________________________________\n",
            "max_pooling2d (MaxPooling2D)    (None, 125, 150, 32) 0           conv2d[0][0]                     \n",
            "__________________________________________________________________________________________________\n",
            "conv2d_1 (Conv2D)               (None, 125, 150, 64) 18496       max_pooling2d[0][0]              \n",
            "__________________________________________________________________________________________________\n",
            "max_pooling2d_1 (MaxPooling2D)  (None, 62, 75, 64)   0           conv2d_1[0][0]                   \n",
            "__________________________________________________________________________________________________\n",
            "conv2d_2 (Conv2D)               (None, 62, 75, 128)  73856       max_pooling2d_1[0][0]            \n",
            "__________________________________________________________________________________________________\n",
            "max_pooling2d_2 (MaxPooling2D)  (None, 31, 37, 128)  0           conv2d_2[0][0]                   \n",
            "__________________________________________________________________________________________________\n",
            "conv2d_3 (Conv2D)               (None, 31, 37, 128)  147584      max_pooling2d_2[0][0]            \n",
            "__________________________________________________________________________________________________\n",
            "max_pooling2d_3 (MaxPooling2D)  (None, 15, 18, 128)  0           conv2d_3[0][0]                   \n",
            "__________________________________________________________________________________________________\n",
            "flatten (Flatten)               (None, 34560)        0           max_pooling2d_3[0][0]            \n",
            "__________________________________________________________________________________________________\n",
            "dense_input (InputLayer)        [(None, 54)]         0                                            \n",
            "__________________________________________________________________________________________________\n",
            "dropout (Dropout)               (None, 34560)        0           flatten[0][0]                    \n",
            "__________________________________________________________________________________________________\n",
            "dense (Dense)                   (None, 16)           880         dense_input[0][0]                \n",
            "__________________________________________________________________________________________________\n",
            "dense_3 (Dense)                 (None, 512)          17695232    dropout[0][0]                    \n",
            "__________________________________________________________________________________________________\n",
            "dense_1 (Dense)                 (None, 8)            136         dense[0][0]                      \n",
            "__________________________________________________________________________________________________\n",
            "dense_4 (Dense)                 (None, 32)           16416       dense_3[0][0]                    \n",
            "__________________________________________________________________________________________________\n",
            "dense_2 (Dense)                 (None, 1)            9           dense_1[0][0]                    \n",
            "__________________________________________________________________________________________________\n",
            "dense_5 (Dense)                 (None, 1)            33          dense_4[0][0]                    \n",
            "__________________________________________________________________________________________________\n",
            "concatenate (Concatenate)       (None, 2)            0           dense_2[0][0]                    \n",
            "                                                                 dense_5[0][0]                    \n",
            "__________________________________________________________________________________________________\n",
            "dense_6 (Dense)                 (None, 4)            12          concatenate[0][0]                \n",
            "__________________________________________________________________________________________________\n",
            "dense_7 (Dense)                 (None, 1)            5           dense_6[0][0]                    \n",
            "==================================================================================================\n",
            "Total params: 17,953,555\n",
            "Trainable params: 17,953,555\n",
            "Non-trainable params: 0\n",
            "__________________________________________________________________________________________________\n"
          ],
          "name": "stdout"
        }
      ]
    },
    {
      "cell_type": "markdown",
      "metadata": {
        "id": "DfKbc80xsa3B"
      },
      "source": [
        "## 6. Training the Model"
      ]
    },
    {
      "cell_type": "code",
      "metadata": {
        "colab": {
          "base_uri": "https://localhost:8080/"
        },
        "id": "hFNC72gX8lo0",
        "outputId": "e3ae1154-71af-4250-ec93-ff81419519ef"
      },
      "source": [
        "\n",
        "history = model.fit_generator(generator=training_generator,\n",
        "                    validation_data=validation_generator, \n",
        "                    epochs = 40, steps_per_epoch=80, callbacks=[monitor_val_loss],                   \n",
        "                    use_multiprocessing=True,)\n",
        "                    "
      ],
      "execution_count": 54,
      "outputs": [
        {
          "output_type": "stream",
          "text": [
            "/usr/local/lib/python3.7/dist-packages/keras/engine/training.py:1972: UserWarning: `Model.fit_generator` is deprecated and will be removed in a future version. Please use `Model.fit`, which supports generators.\n",
            "  warnings.warn('`Model.fit_generator` is deprecated and '\n"
          ],
          "name": "stderr"
        },
        {
          "output_type": "stream",
          "text": [
            "Epoch 1/40\n",
            "80/80 [==============================] - 137s 1s/step - loss: 36.0085 - mean_absolute_error: 36.0085 - coeff_determination: -121832.6641 - val_loss: nan - val_mean_absolute_error: nan - val_coeff_determination: nan\n",
            "Epoch 2/40\n",
            "80/80 [==============================] - 129s 2s/step - loss: 0.2852 - mean_absolute_error: 0.2852 - coeff_determination: 0.5427 - val_loss: 0.2600 - val_mean_absolute_error: 0.2600 - val_coeff_determination: 0.6238\n",
            "Epoch 3/40\n",
            "80/80 [==============================] - 120s 1s/step - loss: 0.2620 - mean_absolute_error: 0.2620 - coeff_determination: 0.6271 - val_loss: 0.2442 - val_mean_absolute_error: 0.2442 - val_coeff_determination: 0.6845\n",
            "Epoch 4/40\n",
            "80/80 [==============================] - 130s 2s/step - loss: 0.2519 - mean_absolute_error: 0.2519 - coeff_determination: 0.6711 - val_loss: 0.2450 - val_mean_absolute_error: 0.2450 - val_coeff_determination: 0.6994\n",
            "Epoch 5/40\n",
            "80/80 [==============================] - 130s 2s/step - loss: 0.2507 - mean_absolute_error: 0.2507 - coeff_determination: 0.6799 - val_loss: 0.2365 - val_mean_absolute_error: 0.2365 - val_coeff_determination: 0.6941\n",
            "Epoch 6/40\n",
            "80/80 [==============================] - 119s 1s/step - loss: 0.2451 - mean_absolute_error: 0.2451 - coeff_determination: 0.6943 - val_loss: 0.2450 - val_mean_absolute_error: 0.2450 - val_coeff_determination: 0.6630\n",
            "Epoch 7/40\n",
            "80/80 [==============================] - 120s 1s/step - loss: 0.2520 - mean_absolute_error: 0.2520 - coeff_determination: 0.6718 - val_loss: 0.2360 - val_mean_absolute_error: 0.2360 - val_coeff_determination: 0.7117\n",
            "Epoch 8/40\n",
            "80/80 [==============================] - 128s 2s/step - loss: 0.2423 - mean_absolute_error: 0.2423 - coeff_determination: 0.6983 - val_loss: 0.2365 - val_mean_absolute_error: 0.2365 - val_coeff_determination: 0.7169\n",
            "Epoch 9/40\n",
            "80/80 [==============================] - 118s 1s/step - loss: 0.2399 - mean_absolute_error: 0.2399 - coeff_determination: 0.6995 - val_loss: 0.2349 - val_mean_absolute_error: 0.2349 - val_coeff_determination: 0.7034\n",
            "Epoch 10/40\n",
            "80/80 [==============================] - 129s 2s/step - loss: 0.2405 - mean_absolute_error: 0.2405 - coeff_determination: 0.7055 - val_loss: 0.2374 - val_mean_absolute_error: 0.2374 - val_coeff_determination: 0.6866\n",
            "Epoch 11/40\n",
            "80/80 [==============================] - 118s 1s/step - loss: 0.2396 - mean_absolute_error: 0.2396 - coeff_determination: 0.7006 - val_loss: 0.2342 - val_mean_absolute_error: 0.2342 - val_coeff_determination: 0.7156\n",
            "Epoch 12/40\n",
            "80/80 [==============================] - 118s 1s/step - loss: 0.2422 - mean_absolute_error: 0.2422 - coeff_determination: 0.6850 - val_loss: 0.2420 - val_mean_absolute_error: 0.2420 - val_coeff_determination: 0.6617\n",
            "Epoch 13/40\n",
            "80/80 [==============================] - 122s 2s/step - loss: 0.2412 - mean_absolute_error: 0.2412 - coeff_determination: 0.6889 - val_loss: 0.2352 - val_mean_absolute_error: 0.2352 - val_coeff_determination: 0.6866\n",
            "Epoch 14/40\n",
            "80/80 [==============================] - 127s 2s/step - loss: 0.2405 - mean_absolute_error: 0.2405 - coeff_determination: 0.6808 - val_loss: 0.2330 - val_mean_absolute_error: 0.2330 - val_coeff_determination: 0.6865\n",
            "Epoch 15/40\n",
            "80/80 [==============================] - 117s 1s/step - loss: 0.2419 - mean_absolute_error: 0.2419 - coeff_determination: 0.6824 - val_loss: 0.2422 - val_mean_absolute_error: 0.2422 - val_coeff_determination: 0.6903\n",
            "Epoch 16/40\n",
            "80/80 [==============================] - 127s 2s/step - loss: 0.2405 - mean_absolute_error: 0.2405 - coeff_determination: 0.6882 - val_loss: 0.2343 - val_mean_absolute_error: 0.2343 - val_coeff_determination: 0.7024\n",
            "Epoch 17/40\n",
            "80/80 [==============================] - 128s 2s/step - loss: 0.2379 - mean_absolute_error: 0.2379 - coeff_determination: 0.6905 - val_loss: 0.2330 - val_mean_absolute_error: 0.2330 - val_coeff_determination: 0.7223\n",
            "Epoch 18/40\n",
            "80/80 [==============================] - 116s 1s/step - loss: 0.2395 - mean_absolute_error: 0.2395 - coeff_determination: 0.6848 - val_loss: 0.2344 - val_mean_absolute_error: 0.2344 - val_coeff_determination: 0.6893\n",
            "Epoch 19/40\n",
            "80/80 [==============================] - 117s 1s/step - loss: 0.2344 - mean_absolute_error: 0.2344 - coeff_determination: 0.6958 - val_loss: 0.2364 - val_mean_absolute_error: 0.2364 - val_coeff_determination: 0.7095\n"
          ],
          "name": "stdout"
        }
      ]
    },
    {
      "cell_type": "markdown",
      "metadata": {
        "id": "gGOaO68dmykv"
      },
      "source": [
        "\n",
        "## 7. Model Assessment and Visualizing the filters\n",
        "from : https://machinelearningmastery.com/how-to-visualize-filters-and-feature-maps-in-convolutional-neural-networks/"
      ]
    },
    {
      "cell_type": "code",
      "metadata": {
        "id": "VH5X20ZGmvQ-",
        "colab": {
          "base_uri": "https://localhost:8080/"
        },
        "outputId": "747a94b0-1d55-456c-f908-c3d6a16b7ad9"
      },
      "source": [
        "# summarize filter shapes\n",
        "for layer in cnn.layers:\n",
        "\t# check for convolutional layer\n",
        "\tif 'conv' not in layer.name:\n",
        "\t\tcontinue\n",
        "\t# get filter weights\n",
        "\tfilters, biases = layer.get_weights()\n",
        "\tprint(layer.name, filters.shape)\n",
        "\n",
        "#output is the name of the layer and the shape of the filter"
      ],
      "execution_count": 55,
      "outputs": [
        {
          "output_type": "stream",
          "text": [
            "conv2d (3, 3, 3, 32)\n",
            "conv2d_1 (3, 3, 32, 64)\n",
            "conv2d_2 (3, 3, 64, 128)\n",
            "conv2d_3 (3, 3, 128, 128)\n"
          ],
          "name": "stdout"
        }
      ]
    },
    {
      "cell_type": "code",
      "metadata": {
        "id": "MW6nMLu3mvOg",
        "colab": {
          "base_uri": "https://localhost:8080/",
          "height": 252
        },
        "outputId": "fa76898c-29e8-442a-b84d-7d8cce0f69db"
      },
      "source": [
        "\n",
        "# plot first few filters\n",
        "n_filters, ix = 6, 1\n",
        "for i in range(n_filters):\n",
        "\t# get the filter\n",
        "\tf = filters[:, :, :, i]\n",
        "\t# plot each channel separately\n",
        "\tfor j in range(3):\n",
        "\t\t# specify subplot and turn of axis\n",
        "\t\tax = plt.subplot(n_filters, 3, ix)\n",
        "\t\tax.set_xticks([])\n",
        "\t\tax.set_yticks([])\n",
        "\t\t# plot filter channel in grayscale\n",
        "\t\tplt.imshow(f[:, :, j], cmap='gray')\n",
        "\t\tix += 1\n",
        "# show the figure\n",
        "plt.show()"
      ],
      "execution_count": 56,
      "outputs": [
        {
          "output_type": "display_data",
          "data": {
            "image/png": "[encoded data removed]",
            "text/plain": [
              "<Figure size 432x288 with 18 Axes>"
            ]
          },
          "metadata": {}
        }
      ]
    },
    {
      "cell_type": "code",
      "metadata": {
        "id": "Qni45qefbhdR"
      },
      "source": [
        "\n",
        "SMALL_SIZE = 16\n",
        "MEDIUM_SIZE = 20\n",
        "BIGGER_SIZE = 28\n",
        "\n",
        "plt.rc('font', size=SMALL_SIZE)          # controls default text sizes\n",
        "plt.rc('axes', titlesize=SMALL_SIZE)     # fontsize of the axes title\n",
        "plt.rc('axes', labelsize=MEDIUM_SIZE)    # fontsize of the x and y labels\n",
        "plt.rc('xtick', labelsize=SMALL_SIZE)    # fontsize of the tick labels\n",
        "plt.rc('ytick', labelsize=SMALL_SIZE)    # fontsize of the tick labels\n",
        "plt.rc('legend', fontsize=SMALL_SIZE)    # legend fontsize\n",
        "plt.rc('figure', titlesize=BIGGER_SIZE)  # fontsize of the figure title"
      ],
      "execution_count": 58,
      "outputs": []
    },
    {
      "cell_type": "code",
      "metadata": {
        "id": "jIFnqSQ8bi18",
        "colab": {
          "base_uri": "https://localhost:8080/",
          "height": 426
        },
        "outputId": "c4d29cc9-74b1-46b3-c683-40de2f13c96d"
      },
      "source": [
        "# create figure\n",
        "fig= plt.figure(figsize=(16,6))\n",
        "#plt.suptitle('Artifical Neural Network on Home Features')\n",
        "titlesize=26\n",
        "fontsize=18\n",
        "# loss plot on left\n",
        "plt.subplot(1,2, 1)\n",
        "plt.plot(history.history['loss'])\n",
        "plt.plot(history.history['val_loss'])\n",
        "         \n",
        "plt.title('Model Loss', fontsize=titlesize)\n",
        "plt.ylabel('Mean absolute error in price', fontsize=fontsize)\n",
        "plt.xlabel('Epoch', fontsize=fontsize)\n",
        "plt.xticks([0, 4, 8, 12, 16,20 ])\n",
        "plt.legend(['Train', 'Test'], loc='upper right')\n",
        "\n",
        "# coeff plot on right\n",
        "plt.subplot(1,2, 2)\n",
        "plt.plot(history.history['coeff_determination'])\n",
        "plt.plot(history.history['val_coeff_determination'])\n",
        "\n",
        "plt.title('Coefficient of Determination', fontsize= titlesize)\n",
        "plt.ylabel('R-Squared',  fontsize=fontsize)\n",
        "plt.ylim(-1,1)\n",
        "plt.yticks([1, .8, .6, .4, .2, 0, -0.2, -0.4, -0.6, -0.8 ])\n",
        "plt.xticks([0, 4, 8, 12, 16,20 ])\n",
        "plt.xlabel('Epoch', fontsize=fontsize)\n",
        "plt.legend(['Train', 'Test'], loc='lower right')\n",
        "\n",
        "plt.show()"
      ],
      "execution_count": 59,
      "outputs": [
        {
          "output_type": "display_data",
          "data": {
            "image/png": "[encoded data removed]",
            "text/plain": [
              "<Figure size 1152x432 with 2 Axes>"
            ]
          },
          "metadata": {
            "needs_background": "light"
          }
        }
      ]
    },
    {
      "cell_type": "markdown",
      "metadata": {
        "id": "vVJaw75jr44p"
      },
      "source": [
        "Conclusion: Using the color images did not greatly improve performance."
      ]
    }
  ]
}
