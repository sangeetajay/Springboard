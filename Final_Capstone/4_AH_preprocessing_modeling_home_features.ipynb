{
  "nbformat": 4,
  "nbformat_minor": 0,
  "metadata": {
    "colab": {
      "name": "4_AH_preprocessing_modeling_home_features",
      "provenance": [],
      "collapsed_sections": [
        "k-A_JP-DAib3",
        "zWYqpXCTAXrh",
        "FjDW6ehoBIqu"
      ],
      "authorship_tag": "ABX9TyNcp3X6P9keLvs1BKV2SB3j",
      "include_colab_link": true
    },
    "kernelspec": {
      "name": "python3",
      "display_name": "Python 3"
    },
    "language_info": {
      "name": "python"
    }
  },
  "cells": [
    {
      "cell_type": "markdown",
      "metadata": {
        "id": "view-in-github",
        "colab_type": "text"
      },
      "source": [
        "<a href=\"https://colab.research.google.com/github/sangeetajay/Springboard/blob/master/4_AH_preprocessing_modeling_home_features.ipynb\" target=\"_parent\"><img src=\"https://colab.research.google.com/assets/colab-badge.svg\" alt=\"Open In Colab\"/></a>"
      ]
    },
    {
      "cell_type": "markdown",
      "metadata": {
        "id": "tdnU9HW_61wJ"
      },
      "source": [
        "# Final Capstone Project:\n",
        "# Predicting Austin Home Prices from Zillow Images\n",
        "\n",
        "## Pre-Processing/Modeling Notebook 4:\n",
        "In this notebook, we will use some of the features that accompanied the home images and pre-process these for modeling using a deep neural network, in preparation for combining these with the images in a CNN. \n",
        "\n",
        "Sections:\n",
        "1. Imports\n",
        "2. Prepare Home Features Data\n",
        "3. Modeling: Linear Regression\n",
        "4. Modeling: Neural Network\n",
        "\n",
        "\n"
      ]
    },
    {
      "cell_type": "markdown",
      "metadata": {
        "id": "63qb-yME7aKZ"
      },
      "source": [
        "## 1. Imports"
      ]
    },
    {
      "cell_type": "code",
      "metadata": {
        "id": "NgngVW-K7e8L"
      },
      "source": [
        "import numpy as np\n",
        "import os\n",
        "import pandas as pd \n",
        "import matplotlib.pyplot as plt\n",
        "\n",
        "\n",
        "from sklearn.utils import shuffle\n",
        "from sklearn import preprocessing\n",
        "from sklearn.preprocessing import StandardScaler\n",
        "from sklearn.model_selection import train_test_split\n",
        "from sklearn.metrics import classification_report\n",
        "from sklearn.linear_model import LinearRegression\n",
        "\n",
        "import tensorflow as tf\n",
        "from tensorflow import keras\n",
        "from tensorflow.keras import applications\n",
        "from tensorflow.keras.preprocessing.image import ImageDataGenerator\n",
        "from tensorflow.keras.layers import Dense, Dropout, BatchNormalization, GlobalAveragePooling2D, Flatten, Conv2D, MaxPooling2D\n",
        "from tensorflow.keras.utils import Sequence\n",
        "from tensorflow.keras.layers import Dense, Dropout, Flatten, Conv2D, MaxPooling2D\n",
        "# import the necessary packages\n",
        "from tensorflow.keras.models import Sequential\n",
        "from tensorflow.keras.layers import Activation\n",
        "from tensorflow.keras.layers import Input\n",
        "from tensorflow.keras.models import Model\n",
        "\n",
        "from keras import backend as K\n",
        "\n"
      ],
      "execution_count": 66,
      "outputs": []
    },
    {
      "cell_type": "markdown",
      "metadata": {
        "id": "owUu2sc17fen"
      },
      "source": [
        "## 2. Prepare Home Features Data:"
      ]
    },
    {
      "cell_type": "markdown",
      "metadata": {
        "id": "_yqjhzyecyIT"
      },
      "source": [
        "#### 2.a. Load dataset and final cleaning"
      ]
    },
    {
      "cell_type": "code",
      "metadata": {
        "colab": {
          "base_uri": "https://localhost:8080/"
        },
        "id": "u4BTOnL67loF",
        "outputId": "2fbbf8bd-3ed5-414f-d763-1dbf2e41b3b9"
      },
      "source": [
        "from google.colab import drive\n",
        "drive.mount('/content/drive')"
      ],
      "execution_count": 2,
      "outputs": [
        {
          "output_type": "stream",
          "text": [
            "Mounted at /content/drive\n"
          ],
          "name": "stdout"
        }
      ]
    },
    {
      "cell_type": "code",
      "metadata": {
        "colab": {
          "base_uri": "https://localhost:8080/",
          "height": 200
        },
        "id": "nWnI-z6v7llg",
        "outputId": "9cf1af15-ea38-438b-eccc-c2d8a99e5ff0"
      },
      "source": [
        "# load the cleaned dataset with the features\n",
        "\n",
        "file = '/content/drive/MyDrive/cleaned_features_data_v1.csv'\n",
        "features = pd.read_csv(file)\n",
        "\n",
        "features.head()\n",
        "\n"
      ],
      "execution_count": 3,
      "outputs": [
        {
          "output_type": "execute_result",
          "data": {
            "text/html": [
              "<div>\n",
              "<style scoped>\n",
              "    .dataframe tbody tr th:only-of-type {\n",
              "        vertical-align: middle;\n",
              "    }\n",
              "\n",
              "    .dataframe tbody tr th {\n",
              "        vertical-align: top;\n",
              "    }\n",
              "\n",
              "    .dataframe thead th {\n",
              "        text-align: right;\n",
              "    }\n",
              "</style>\n",
              "<table border=\"1\" class=\"dataframe\">\n",
              "  <thead>\n",
              "    <tr style=\"text-align: right;\">\n",
              "      <th></th>\n",
              "      <th>Price</th>\n",
              "      <th>Image Name</th>\n",
              "      <th>zipcode</th>\n",
              "      <th>longitude</th>\n",
              "      <th>livingAreaSqFt</th>\n",
              "      <th>numOfBathrooms</th>\n",
              "      <th>numOfBedrooms</th>\n",
              "      <th>numOfPrimarySchools</th>\n",
              "      <th>numOfHighSchools</th>\n",
              "      <th>avgSchoolRating</th>\n",
              "    </tr>\n",
              "  </thead>\n",
              "  <tbody>\n",
              "    <tr>\n",
              "      <th>0</th>\n",
              "      <td>305000</td>\n",
              "      <td>111373431_ffce26843283d3365c11d81b8e6bdc6f-p_f</td>\n",
              "      <td>78660</td>\n",
              "      <td>-97.663078</td>\n",
              "      <td>2601.0</td>\n",
              "      <td>3.0</td>\n",
              "      <td>4</td>\n",
              "      <td>1</td>\n",
              "      <td>1</td>\n",
              "      <td>2.666667</td>\n",
              "    </tr>\n",
              "    <tr>\n",
              "      <th>1</th>\n",
              "      <td>295000</td>\n",
              "      <td>120900430_8255c127be8dcf0a1a18b7563d987088-p_f</td>\n",
              "      <td>78660</td>\n",
              "      <td>-97.661697</td>\n",
              "      <td>1768.0</td>\n",
              "      <td>2.0</td>\n",
              "      <td>4</td>\n",
              "      <td>1</td>\n",
              "      <td>1</td>\n",
              "      <td>2.666667</td>\n",
              "    </tr>\n",
              "    <tr>\n",
              "      <th>2</th>\n",
              "      <td>256125</td>\n",
              "      <td>2084491383_a2ad649e1a7a098111dcea084a11c855-p_f</td>\n",
              "      <td>78660</td>\n",
              "      <td>-97.639771</td>\n",
              "      <td>1478.0</td>\n",
              "      <td>2.0</td>\n",
              "      <td>3</td>\n",
              "      <td>0</td>\n",
              "      <td>1</td>\n",
              "      <td>3.000000</td>\n",
              "    </tr>\n",
              "    <tr>\n",
              "      <th>3</th>\n",
              "      <td>240000</td>\n",
              "      <td>120901374_b469367a619da85b1f5ceb69b675d88e-p_f</td>\n",
              "      <td>78660</td>\n",
              "      <td>-97.661659</td>\n",
              "      <td>1678.0</td>\n",
              "      <td>2.0</td>\n",
              "      <td>3</td>\n",
              "      <td>1</td>\n",
              "      <td>1</td>\n",
              "      <td>2.666667</td>\n",
              "    </tr>\n",
              "    <tr>\n",
              "      <th>4</th>\n",
              "      <td>239900</td>\n",
              "      <td>60134862_b1a48a3df3f111e005bb913873e98ce2-p_f</td>\n",
              "      <td>78660</td>\n",
              "      <td>-97.656860</td>\n",
              "      <td>2132.0</td>\n",
              "      <td>3.0</td>\n",
              "      <td>3</td>\n",
              "      <td>1</td>\n",
              "      <td>1</td>\n",
              "      <td>4.000000</td>\n",
              "    </tr>\n",
              "  </tbody>\n",
              "</table>\n",
              "</div>"
            ],
            "text/plain": [
              "    Price  ... avgSchoolRating\n",
              "0  305000  ...        2.666667\n",
              "1  295000  ...        2.666667\n",
              "2  256125  ...        3.000000\n",
              "3  240000  ...        2.666667\n",
              "4  239900  ...        4.000000\n",
              "\n",
              "[5 rows x 10 columns]"
            ]
          },
          "metadata": {},
          "execution_count": 3
        }
      ]
    },
    {
      "cell_type": "code",
      "metadata": {
        "id": "tZn1ld9k7lin"
      },
      "source": [
        "# lets drop image name for now\n",
        "features = features.drop(columns=['Image Name'])"
      ],
      "execution_count": 4,
      "outputs": []
    },
    {
      "cell_type": "code",
      "metadata": {
        "colab": {
          "base_uri": "https://localhost:8080/"
        },
        "id": "iOEIRIVQ_eVO",
        "outputId": "b3b64930-cad8-4bbc-e35e-ce3e8c8a804e"
      },
      "source": [
        "# get names of the columns\n",
        "features.columns"
      ],
      "execution_count": 5,
      "outputs": [
        {
          "output_type": "execute_result",
          "data": {
            "text/plain": [
              "Index(['Price', 'zipcode', 'longitude', 'livingAreaSqFt', 'numOfBathrooms',\n",
              "       'numOfBedrooms', 'numOfPrimarySchools', 'numOfHighSchools',\n",
              "       'avgSchoolRating'],\n",
              "      dtype='object')"
            ]
          },
          "metadata": {},
          "execution_count": 5
        }
      ]
    },
    {
      "cell_type": "code",
      "metadata": {
        "colab": {
          "base_uri": "https://localhost:8080/"
        },
        "id": "CsxpCB5z__c2",
        "outputId": "d4ff5aa5-4752-4168-d757-4ba6fc9f24ce"
      },
      "source": [
        "features.info() # inspect the data"
      ],
      "execution_count": 6,
      "outputs": [
        {
          "output_type": "stream",
          "text": [
            "<class 'pandas.core.frame.DataFrame'>\n",
            "RangeIndex: 15012 entries, 0 to 15011\n",
            "Data columns (total 9 columns):\n",
            " #   Column               Non-Null Count  Dtype  \n",
            "---  ------               --------------  -----  \n",
            " 0   Price                15012 non-null  int64  \n",
            " 1   zipcode              15012 non-null  int64  \n",
            " 2   longitude            15012 non-null  float64\n",
            " 3   livingAreaSqFt       15012 non-null  float64\n",
            " 4   numOfBathrooms       15012 non-null  float64\n",
            " 5   numOfBedrooms        15012 non-null  int64  \n",
            " 6   numOfPrimarySchools  15012 non-null  int64  \n",
            " 7   numOfHighSchools     15012 non-null  int64  \n",
            " 8   avgSchoolRating      15012 non-null  float64\n",
            "dtypes: float64(4), int64(5)\n",
            "memory usage: 1.0 MB\n"
          ],
          "name": "stdout"
        }
      ]
    },
    {
      "cell_type": "code",
      "metadata": {
        "id": "LmULXE1L__SL"
      },
      "source": [
        "# convert zipcode column to a string so we can make dummy variables\n",
        "features['zipcode'] = features['zipcode'].astype(str)"
      ],
      "execution_count": 7,
      "outputs": []
    },
    {
      "cell_type": "markdown",
      "metadata": {
        "id": "k-A_JP-DAib3"
      },
      "source": [
        "#### 2b.Create Dummy Variables for Categorical Features (Zipcode)"
      ]
    },
    {
      "cell_type": "code",
      "metadata": {
        "colab": {
          "base_uri": "https://localhost:8080/"
        },
        "id": "-AIIRo-17lQz",
        "outputId": "5a437a1d-6e22-438f-c3fb-3ba4bc90d204"
      },
      "source": [
        "\n",
        "# features except Target feature\n",
        "feature_cols = ['zipcode', 'longitude', 'livingAreaSqFt', 'numOfBathrooms',\n",
        "       'numOfBedrooms', 'numOfPrimarySchools', 'numOfHighSchools',\n",
        "       'avgSchoolRating']\n",
        "new_X = features[feature_cols]\n",
        "new_X.columns\n"
      ],
      "execution_count": 8,
      "outputs": [
        {
          "output_type": "execute_result",
          "data": {
            "text/plain": [
              "Index(['zipcode', 'longitude', 'livingAreaSqFt', 'numOfBathrooms',\n",
              "       'numOfBedrooms', 'numOfPrimarySchools', 'numOfHighSchools',\n",
              "       'avgSchoolRating'],\n",
              "      dtype='object')"
            ]
          },
          "metadata": {},
          "execution_count": 8
        }
      ]
    },
    {
      "cell_type": "code",
      "metadata": {
        "colab": {
          "base_uri": "https://localhost:8080/",
          "height": 0
        },
        "id": "lpYkQ-zS_vHG",
        "outputId": "519f4682-8e69-41cd-c85c-7fac3e938c64"
      },
      "source": [
        "# create dataframe with features and dummy variables called features_df\n",
        "features_df = pd.get_dummies(new_X)\n",
        "features_df.head()"
      ],
      "execution_count": 9,
      "outputs": [
        {
          "output_type": "execute_result",
          "data": {
            "text/html": [
              "<div>\n",
              "<style scoped>\n",
              "    .dataframe tbody tr th:only-of-type {\n",
              "        vertical-align: middle;\n",
              "    }\n",
              "\n",
              "    .dataframe tbody tr th {\n",
              "        vertical-align: top;\n",
              "    }\n",
              "\n",
              "    .dataframe thead th {\n",
              "        text-align: right;\n",
              "    }\n",
              "</style>\n",
              "<table border=\"1\" class=\"dataframe\">\n",
              "  <thead>\n",
              "    <tr style=\"text-align: right;\">\n",
              "      <th></th>\n",
              "      <th>longitude</th>\n",
              "      <th>livingAreaSqFt</th>\n",
              "      <th>numOfBathrooms</th>\n",
              "      <th>numOfBedrooms</th>\n",
              "      <th>numOfPrimarySchools</th>\n",
              "      <th>numOfHighSchools</th>\n",
              "      <th>avgSchoolRating</th>\n",
              "      <th>zipcode_78617</th>\n",
              "      <th>zipcode_78619</th>\n",
              "      <th>zipcode_78652</th>\n",
              "      <th>zipcode_78653</th>\n",
              "      <th>zipcode_78660</th>\n",
              "      <th>zipcode_78701</th>\n",
              "      <th>zipcode_78702</th>\n",
              "      <th>zipcode_78703</th>\n",
              "      <th>zipcode_78704</th>\n",
              "      <th>zipcode_78705</th>\n",
              "      <th>zipcode_78717</th>\n",
              "      <th>zipcode_78719</th>\n",
              "      <th>zipcode_78721</th>\n",
              "      <th>zipcode_78722</th>\n",
              "      <th>zipcode_78723</th>\n",
              "      <th>zipcode_78724</th>\n",
              "      <th>zipcode_78725</th>\n",
              "      <th>zipcode_78726</th>\n",
              "      <th>zipcode_78727</th>\n",
              "      <th>zipcode_78728</th>\n",
              "      <th>zipcode_78729</th>\n",
              "      <th>zipcode_78730</th>\n",
              "      <th>zipcode_78731</th>\n",
              "      <th>zipcode_78732</th>\n",
              "      <th>zipcode_78733</th>\n",
              "      <th>zipcode_78734</th>\n",
              "      <th>zipcode_78735</th>\n",
              "      <th>zipcode_78736</th>\n",
              "      <th>zipcode_78737</th>\n",
              "      <th>zipcode_78738</th>\n",
              "      <th>zipcode_78739</th>\n",
              "      <th>zipcode_78741</th>\n",
              "      <th>zipcode_78742</th>\n",
              "      <th>zipcode_78744</th>\n",
              "      <th>zipcode_78745</th>\n",
              "      <th>zipcode_78746</th>\n",
              "      <th>zipcode_78747</th>\n",
              "      <th>zipcode_78748</th>\n",
              "      <th>zipcode_78749</th>\n",
              "      <th>zipcode_78750</th>\n",
              "      <th>zipcode_78751</th>\n",
              "      <th>zipcode_78752</th>\n",
              "      <th>zipcode_78753</th>\n",
              "      <th>zipcode_78754</th>\n",
              "      <th>zipcode_78756</th>\n",
              "      <th>zipcode_78757</th>\n",
              "      <th>zipcode_78758</th>\n",
              "      <th>zipcode_78759</th>\n",
              "    </tr>\n",
              "  </thead>\n",
              "  <tbody>\n",
              "    <tr>\n",
              "      <th>0</th>\n",
              "      <td>-97.663078</td>\n",
              "      <td>2601.0</td>\n",
              "      <td>3.0</td>\n",
              "      <td>4</td>\n",
              "      <td>1</td>\n",
              "      <td>1</td>\n",
              "      <td>2.666667</td>\n",
              "      <td>0</td>\n",
              "      <td>0</td>\n",
              "      <td>0</td>\n",
              "      <td>0</td>\n",
              "      <td>1</td>\n",
              "      <td>0</td>\n",
              "      <td>0</td>\n",
              "      <td>0</td>\n",
              "      <td>0</td>\n",
              "      <td>0</td>\n",
              "      <td>0</td>\n",
              "      <td>0</td>\n",
              "      <td>0</td>\n",
              "      <td>0</td>\n",
              "      <td>0</td>\n",
              "      <td>0</td>\n",
              "      <td>0</td>\n",
              "      <td>0</td>\n",
              "      <td>0</td>\n",
              "      <td>0</td>\n",
              "      <td>0</td>\n",
              "      <td>0</td>\n",
              "      <td>0</td>\n",
              "      <td>0</td>\n",
              "      <td>0</td>\n",
              "      <td>0</td>\n",
              "      <td>0</td>\n",
              "      <td>0</td>\n",
              "      <td>0</td>\n",
              "      <td>0</td>\n",
              "      <td>0</td>\n",
              "      <td>0</td>\n",
              "      <td>0</td>\n",
              "      <td>0</td>\n",
              "      <td>0</td>\n",
              "      <td>0</td>\n",
              "      <td>0</td>\n",
              "      <td>0</td>\n",
              "      <td>0</td>\n",
              "      <td>0</td>\n",
              "      <td>0</td>\n",
              "      <td>0</td>\n",
              "      <td>0</td>\n",
              "      <td>0</td>\n",
              "      <td>0</td>\n",
              "      <td>0</td>\n",
              "      <td>0</td>\n",
              "      <td>0</td>\n",
              "    </tr>\n",
              "    <tr>\n",
              "      <th>1</th>\n",
              "      <td>-97.661697</td>\n",
              "      <td>1768.0</td>\n",
              "      <td>2.0</td>\n",
              "      <td>4</td>\n",
              "      <td>1</td>\n",
              "      <td>1</td>\n",
              "      <td>2.666667</td>\n",
              "      <td>0</td>\n",
              "      <td>0</td>\n",
              "      <td>0</td>\n",
              "      <td>0</td>\n",
              "      <td>1</td>\n",
              "      <td>0</td>\n",
              "      <td>0</td>\n",
              "      <td>0</td>\n",
              "      <td>0</td>\n",
              "      <td>0</td>\n",
              "      <td>0</td>\n",
              "      <td>0</td>\n",
              "      <td>0</td>\n",
              "      <td>0</td>\n",
              "      <td>0</td>\n",
              "      <td>0</td>\n",
              "      <td>0</td>\n",
              "      <td>0</td>\n",
              "      <td>0</td>\n",
              "      <td>0</td>\n",
              "      <td>0</td>\n",
              "      <td>0</td>\n",
              "      <td>0</td>\n",
              "      <td>0</td>\n",
              "      <td>0</td>\n",
              "      <td>0</td>\n",
              "      <td>0</td>\n",
              "      <td>0</td>\n",
              "      <td>0</td>\n",
              "      <td>0</td>\n",
              "      <td>0</td>\n",
              "      <td>0</td>\n",
              "      <td>0</td>\n",
              "      <td>0</td>\n",
              "      <td>0</td>\n",
              "      <td>0</td>\n",
              "      <td>0</td>\n",
              "      <td>0</td>\n",
              "      <td>0</td>\n",
              "      <td>0</td>\n",
              "      <td>0</td>\n",
              "      <td>0</td>\n",
              "      <td>0</td>\n",
              "      <td>0</td>\n",
              "      <td>0</td>\n",
              "      <td>0</td>\n",
              "      <td>0</td>\n",
              "      <td>0</td>\n",
              "    </tr>\n",
              "    <tr>\n",
              "      <th>2</th>\n",
              "      <td>-97.639771</td>\n",
              "      <td>1478.0</td>\n",
              "      <td>2.0</td>\n",
              "      <td>3</td>\n",
              "      <td>0</td>\n",
              "      <td>1</td>\n",
              "      <td>3.000000</td>\n",
              "      <td>0</td>\n",
              "      <td>0</td>\n",
              "      <td>0</td>\n",
              "      <td>0</td>\n",
              "      <td>1</td>\n",
              "      <td>0</td>\n",
              "      <td>0</td>\n",
              "      <td>0</td>\n",
              "      <td>0</td>\n",
              "      <td>0</td>\n",
              "      <td>0</td>\n",
              "      <td>0</td>\n",
              "      <td>0</td>\n",
              "      <td>0</td>\n",
              "      <td>0</td>\n",
              "      <td>0</td>\n",
              "      <td>0</td>\n",
              "      <td>0</td>\n",
              "      <td>0</td>\n",
              "      <td>0</td>\n",
              "      <td>0</td>\n",
              "      <td>0</td>\n",
              "      <td>0</td>\n",
              "      <td>0</td>\n",
              "      <td>0</td>\n",
              "      <td>0</td>\n",
              "      <td>0</td>\n",
              "      <td>0</td>\n",
              "      <td>0</td>\n",
              "      <td>0</td>\n",
              "      <td>0</td>\n",
              "      <td>0</td>\n",
              "      <td>0</td>\n",
              "      <td>0</td>\n",
              "      <td>0</td>\n",
              "      <td>0</td>\n",
              "      <td>0</td>\n",
              "      <td>0</td>\n",
              "      <td>0</td>\n",
              "      <td>0</td>\n",
              "      <td>0</td>\n",
              "      <td>0</td>\n",
              "      <td>0</td>\n",
              "      <td>0</td>\n",
              "      <td>0</td>\n",
              "      <td>0</td>\n",
              "      <td>0</td>\n",
              "      <td>0</td>\n",
              "    </tr>\n",
              "    <tr>\n",
              "      <th>3</th>\n",
              "      <td>-97.661659</td>\n",
              "      <td>1678.0</td>\n",
              "      <td>2.0</td>\n",
              "      <td>3</td>\n",
              "      <td>1</td>\n",
              "      <td>1</td>\n",
              "      <td>2.666667</td>\n",
              "      <td>0</td>\n",
              "      <td>0</td>\n",
              "      <td>0</td>\n",
              "      <td>0</td>\n",
              "      <td>1</td>\n",
              "      <td>0</td>\n",
              "      <td>0</td>\n",
              "      <td>0</td>\n",
              "      <td>0</td>\n",
              "      <td>0</td>\n",
              "      <td>0</td>\n",
              "      <td>0</td>\n",
              "      <td>0</td>\n",
              "      <td>0</td>\n",
              "      <td>0</td>\n",
              "      <td>0</td>\n",
              "      <td>0</td>\n",
              "      <td>0</td>\n",
              "      <td>0</td>\n",
              "      <td>0</td>\n",
              "      <td>0</td>\n",
              "      <td>0</td>\n",
              "      <td>0</td>\n",
              "      <td>0</td>\n",
              "      <td>0</td>\n",
              "      <td>0</td>\n",
              "      <td>0</td>\n",
              "      <td>0</td>\n",
              "      <td>0</td>\n",
              "      <td>0</td>\n",
              "      <td>0</td>\n",
              "      <td>0</td>\n",
              "      <td>0</td>\n",
              "      <td>0</td>\n",
              "      <td>0</td>\n",
              "      <td>0</td>\n",
              "      <td>0</td>\n",
              "      <td>0</td>\n",
              "      <td>0</td>\n",
              "      <td>0</td>\n",
              "      <td>0</td>\n",
              "      <td>0</td>\n",
              "      <td>0</td>\n",
              "      <td>0</td>\n",
              "      <td>0</td>\n",
              "      <td>0</td>\n",
              "      <td>0</td>\n",
              "      <td>0</td>\n",
              "    </tr>\n",
              "    <tr>\n",
              "      <th>4</th>\n",
              "      <td>-97.656860</td>\n",
              "      <td>2132.0</td>\n",
              "      <td>3.0</td>\n",
              "      <td>3</td>\n",
              "      <td>1</td>\n",
              "      <td>1</td>\n",
              "      <td>4.000000</td>\n",
              "      <td>0</td>\n",
              "      <td>0</td>\n",
              "      <td>0</td>\n",
              "      <td>0</td>\n",
              "      <td>1</td>\n",
              "      <td>0</td>\n",
              "      <td>0</td>\n",
              "      <td>0</td>\n",
              "      <td>0</td>\n",
              "      <td>0</td>\n",
              "      <td>0</td>\n",
              "      <td>0</td>\n",
              "      <td>0</td>\n",
              "      <td>0</td>\n",
              "      <td>0</td>\n",
              "      <td>0</td>\n",
              "      <td>0</td>\n",
              "      <td>0</td>\n",
              "      <td>0</td>\n",
              "      <td>0</td>\n",
              "      <td>0</td>\n",
              "      <td>0</td>\n",
              "      <td>0</td>\n",
              "      <td>0</td>\n",
              "      <td>0</td>\n",
              "      <td>0</td>\n",
              "      <td>0</td>\n",
              "      <td>0</td>\n",
              "      <td>0</td>\n",
              "      <td>0</td>\n",
              "      <td>0</td>\n",
              "      <td>0</td>\n",
              "      <td>0</td>\n",
              "      <td>0</td>\n",
              "      <td>0</td>\n",
              "      <td>0</td>\n",
              "      <td>0</td>\n",
              "      <td>0</td>\n",
              "      <td>0</td>\n",
              "      <td>0</td>\n",
              "      <td>0</td>\n",
              "      <td>0</td>\n",
              "      <td>0</td>\n",
              "      <td>0</td>\n",
              "      <td>0</td>\n",
              "      <td>0</td>\n",
              "      <td>0</td>\n",
              "      <td>0</td>\n",
              "    </tr>\n",
              "  </tbody>\n",
              "</table>\n",
              "</div>"
            ],
            "text/plain": [
              "   longitude  livingAreaSqFt  ...  zipcode_78758  zipcode_78759\n",
              "0 -97.663078          2601.0  ...              0              0\n",
              "1 -97.661697          1768.0  ...              0              0\n",
              "2 -97.639771          1478.0  ...              0              0\n",
              "3 -97.661659          1678.0  ...              0              0\n",
              "4 -97.656860          2132.0  ...              0              0\n",
              "\n",
              "[5 rows x 55 columns]"
            ]
          },
          "metadata": {},
          "execution_count": 9
        }
      ]
    },
    {
      "cell_type": "markdown",
      "metadata": {
        "id": "zWYqpXCTAXrh"
      },
      "source": [
        "#### 2c. Split into Train and Test sets"
      ]
    },
    {
      "cell_type": "code",
      "metadata": {
        "colab": {
          "base_uri": "https://localhost:8080/"
        },
        "id": "TqBrE7ARAvE3",
        "outputId": "f5e026f0-f037-43ad-ff41-3e3fa56955ab"
      },
      "source": [
        "# refreshing what the columns are in the df\n",
        "features.columns"
      ],
      "execution_count": 10,
      "outputs": [
        {
          "output_type": "execute_result",
          "data": {
            "text/plain": [
              "Index(['Price', 'zipcode', 'longitude', 'livingAreaSqFt', 'numOfBathrooms',\n",
              "       'numOfBedrooms', 'numOfPrimarySchools', 'numOfHighSchools',\n",
              "       'avgSchoolRating'],\n",
              "      dtype='object')"
            ]
          },
          "metadata": {},
          "execution_count": 10
        }
      ]
    },
    {
      "cell_type": "code",
      "metadata": {
        "id": "g7oPLL3_AYNa"
      },
      "source": [
        "\n",
        "# define your X and y\n",
        "X = features_df\n",
        "y = features['Price']\n",
        "\n",
        "# split into test and train\n",
        "X_train, X_test, y_train, y_test = train_test_split(X, y, test_size=0.2, random_state=200)"
      ],
      "execution_count": 11,
      "outputs": []
    },
    {
      "cell_type": "markdown",
      "metadata": {
        "id": "FjDW6ehoBIqu"
      },
      "source": [
        "#### 2d. Scale the Data"
      ]
    },
    {
      "cell_type": "code",
      "metadata": {
        "id": "3incdu1OBJdH"
      },
      "source": [
        "# build scaler based on training data and apply it to test data to then also scale the test data\n",
        "scaler = preprocessing.StandardScaler().fit(X_train)\n",
        "X_train_scaled=scaler.transform(X_train)\n",
        "X_test_scaled=scaler.transform(X_test)"
      ],
      "execution_count": 12,
      "outputs": []
    },
    {
      "cell_type": "markdown",
      "metadata": {
        "id": "28P-_w6TBd2o"
      },
      "source": [
        "## 3. Modeling: Linear Regression\n"
      ]
    },
    {
      "cell_type": "code",
      "metadata": {
        "id": "SceTUZVyBgTc"
      },
      "source": [
        "# Train the model on the train split\n",
        "\n",
        "lr = LinearRegression().fit(X_train_scaled, y_train)"
      ],
      "execution_count": 17,
      "outputs": []
    },
    {
      "cell_type": "code",
      "metadata": {
        "id": "Ra6b5hO6Bgkq"
      },
      "source": [
        "# Make predictions using the model on both train and test splits\n",
        "\n",
        "y_train_pred = lr.predict(X_train_scaled)\n",
        "y_test_pred = lr.predict(X_test_scaled)"
      ],
      "execution_count": 18,
      "outputs": []
    },
    {
      "cell_type": "code",
      "metadata": {
        "colab": {
          "base_uri": "https://localhost:8080/"
        },
        "id": "H-Bp6rDbBgiT",
        "outputId": "bf4c7af4-85a2-45a6-9e15-9a3faa211a86"
      },
      "source": [
        "# Assess model performance\n",
        "from sklearn.metrics import r2_score\n",
        "r2_score(y_train, y_train_pred), r2_score(y_test, y_test_pred)"
      ],
      "execution_count": 20,
      "outputs": [
        {
          "output_type": "execute_result",
          "data": {
            "text/plain": [
              "(0.5769922147920092, 0.631031370606283)"
            ]
          },
          "metadata": {},
          "execution_count": 20
        }
      ]
    },
    {
      "cell_type": "code",
      "metadata": {
        "colab": {
          "base_uri": "https://localhost:8080/"
        },
        "id": "HkGO-M3sBge5",
        "outputId": "b4ac9750-a499-4090-8b96-3e26159e64bf"
      },
      "source": [
        "from sklearn.metrics import mean_absolute_error\n",
        "mean_absolute_error(y_train, y_train_pred), mean_absolute_error(y_test, y_test_pred)\n",
        "# this means we could be off by 130-140K !!!"
      ],
      "execution_count": 22,
      "outputs": [
        {
          "output_type": "execute_result",
          "data": {
            "text/plain": [
              "(137777.11457427708, 141318.34992400068)"
            ]
          },
          "metadata": {},
          "execution_count": 22
        }
      ]
    },
    {
      "cell_type": "code",
      "metadata": {
        "colab": {
          "base_uri": "https://localhost:8080/"
        },
        "id": "oDel3rYdGRqt",
        "outputId": "ab61a1e4-a21d-4675-92e1-8446107f61ad"
      },
      "source": [
        "from sklearn.metrics import mean_squared_error\n",
        "mean_squared_error(y_train, y_train_pred), mean_squared_error(y_test, y_test_pred)"
      ],
      "execution_count": 24,
      "outputs": [
        {
          "output_type": "execute_result",
          "data": {
            "text/plain": [
              "(79220366151.41327, 84030614657.44089)"
            ]
          },
          "metadata": {},
          "execution_count": 24
        }
      ]
    },
    {
      "cell_type": "markdown",
      "metadata": {
        "id": "kDWkB58gGflo"
      },
      "source": [
        "##### Conclusion: \n",
        "The linear regression model does not perform that well, with r2 score of 0.57 and 0.63\n",
        "(but is much better than our CNN from the images in notebook 3).\n"
      ]
    },
    {
      "cell_type": "markdown",
      "metadata": {
        "id": "HV-yl7sEgILp"
      },
      "source": [
        "## 4. Modeling: Neural Network"
      ]
    },
    {
      "cell_type": "markdown",
      "metadata": {
        "id": "2rj2uEhBgven"
      },
      "source": [
        "#### 4a. Metrics function"
      ]
    },
    {
      "cell_type": "code",
      "metadata": {
        "id": "D829J2oMMU-8"
      },
      "source": [
        "# Write a function to calculate coefficient of determination\n",
        "def coeff_determination(y_true, y_pred):\n",
        "    SS_res =  K.sum(K.square( y_true-y_pred )) \n",
        "    SS_tot = K.sum(K.square( y_true - K.mean(y_true) ) ) \n",
        "    return ( 1 - SS_res/(SS_tot + K.epsilon()) )"
      ],
      "execution_count": 25,
      "outputs": []
    },
    {
      "cell_type": "markdown",
      "metadata": {
        "id": "xIsR8pHrjBCT"
      },
      "source": [
        "#### 4b. Create and compile model"
      ]
    },
    {
      "cell_type": "code",
      "metadata": {
        "id": "Q5vMh94EGedx"
      },
      "source": [
        "\n",
        "model = Sequential()\n",
        "model.add(Dense(16, activation=\"relu\"))\n",
        "model.add(Dense(8, activation=\"relu\"))\n",
        "model.add(Dense(1, activation=\"linear\"))\n",
        "model.compile(optimizer='adam', loss=\"mean_absolute_error\", \n",
        "              metrics=[[coeff_determination, 'mean_absolute_error']])\n",
        " "
      ],
      "execution_count": 26,
      "outputs": []
    },
    {
      "cell_type": "markdown",
      "metadata": {
        "id": "2wApBzwYjHwf"
      },
      "source": [
        "#### 4c. Train the model"
      ]
    },
    {
      "cell_type": "code",
      "metadata": {
        "colab": {
          "base_uri": "https://localhost:8080/"
        },
        "id": "3JYPcSTVJUI6",
        "outputId": "e519a72b-82c7-4db8-8a8b-ffc9bc2b2f1f"
      },
      "source": [
        "history = model.fit(x=X_train_scaled, y=y_train,\n",
        "                  validation_data=(X_test_scaled, y_test), epochs=100, batch_size=32)\n",
        "            "
      ],
      "execution_count": 27,
      "outputs": [
        {
          "output_type": "stream",
          "text": [
            "Epoch 1/100\n",
            "376/376 [==============================] - 2s 2ms/step - loss: 510809.9688 - coeff_determination: -3.0291 - mean_absolute_error: 510809.9688 - val_loss: 519807.4375 - val_coeff_determination: -2.6794 - val_mean_absolute_error: 519807.4375\n",
            "Epoch 2/100\n",
            "376/376 [==============================] - 1s 2ms/step - loss: 510760.2812 - coeff_determination: -3.0462 - mean_absolute_error: 510760.2812 - val_loss: 519691.8438 - val_coeff_determination: -2.6782 - val_mean_absolute_error: 519691.8438\n",
            "Epoch 3/100\n",
            "376/376 [==============================] - 1s 2ms/step - loss: 510528.6250 - coeff_determination: -3.0694 - mean_absolute_error: 510528.6250 - val_loss: 519327.8125 - val_coeff_determination: -2.6742 - val_mean_absolute_error: 519327.8125\n",
            "Epoch 4/100\n",
            "376/376 [==============================] - 1s 2ms/step - loss: 510012.7188 - coeff_determination: -3.0363 - mean_absolute_error: 510012.7188 - val_loss: 518650.1250 - val_coeff_determination: -2.6668 - val_mean_absolute_error: 518650.1250\n",
            "Epoch 5/100\n",
            "376/376 [==============================] - 1s 2ms/step - loss: 509159.5000 - coeff_determination: -3.1844 - mean_absolute_error: 509159.5000 - val_loss: 517615.7188 - val_coeff_determination: -2.6554 - val_mean_absolute_error: 517615.7188\n",
            "Epoch 6/100\n",
            "376/376 [==============================] - 1s 2ms/step - loss: 507930.5938 - coeff_determination: -3.0348 - mean_absolute_error: 507930.5938 - val_loss: 516189.8125 - val_coeff_determination: -2.6398 - val_mean_absolute_error: 516189.8125\n",
            "Epoch 7/100\n",
            "376/376 [==============================] - 1s 2ms/step - loss: 506294.8438 - coeff_determination: -2.9658 - mean_absolute_error: 506294.8438 - val_loss: 514345.0625 - val_coeff_determination: -2.6196 - val_mean_absolute_error: 514345.0625\n",
            "Epoch 8/100\n",
            "376/376 [==============================] - 1s 2ms/step - loss: 504229.8125 - coeff_determination: -2.9982 - mean_absolute_error: 504229.8125 - val_loss: 512060.1875 - val_coeff_determination: -2.5946 - val_mean_absolute_error: 512060.1875\n",
            "Epoch 9/100\n",
            "376/376 [==============================] - 1s 2ms/step - loss: 501709.9375 - coeff_determination: -2.9403 - mean_absolute_error: 501709.9375 - val_loss: 509310.1250 - val_coeff_determination: -2.5648 - val_mean_absolute_error: 509310.1250\n",
            "Epoch 10/100\n",
            "376/376 [==============================] - 1s 2ms/step - loss: 498716.3125 - coeff_determination: -2.8761 - mean_absolute_error: 498716.3125 - val_loss: 506080.0312 - val_coeff_determination: -2.5300 - val_mean_absolute_error: 506080.0312\n",
            "Epoch 11/100\n",
            "376/376 [==============================] - 1s 2ms/step - loss: 495227.8125 - coeff_determination: -2.7933 - mean_absolute_error: 495227.8125 - val_loss: 502345.7500 - val_coeff_determination: -2.4900 - val_mean_absolute_error: 502345.7500\n",
            "Epoch 12/100\n",
            "376/376 [==============================] - 1s 2ms/step - loss: 491228.7500 - coeff_determination: -2.8892 - mean_absolute_error: 491228.7500 - val_loss: 498092.6250 - val_coeff_determination: -2.4449 - val_mean_absolute_error: 498092.6250\n",
            "Epoch 13/100\n",
            "376/376 [==============================] - 1s 2ms/step - loss: 486698.9688 - coeff_determination: -2.6627 - mean_absolute_error: 486698.9688 - val_loss: 493300.3750 - val_coeff_determination: -2.3946 - val_mean_absolute_error: 493300.3750\n",
            "Epoch 14/100\n",
            "376/376 [==============================] - 1s 2ms/step - loss: 481617.4688 - coeff_determination: -2.7632 - mean_absolute_error: 481617.4688 - val_loss: 487946.1562 - val_coeff_determination: -2.3392 - val_mean_absolute_error: 487946.1562\n",
            "Epoch 15/100\n",
            "376/376 [==============================] - 1s 2ms/step - loss: 475961.9688 - coeff_determination: -2.6502 - mean_absolute_error: 475961.9688 - val_loss: 482011.8438 - val_coeff_determination: -2.2785 - val_mean_absolute_error: 482011.8438\n",
            "Epoch 16/100\n",
            "376/376 [==============================] - 1s 2ms/step - loss: 469714.8750 - coeff_determination: -2.5640 - mean_absolute_error: 469714.8750 - val_loss: 475474.0938 - val_coeff_determination: -2.2127 - val_mean_absolute_error: 475474.0938\n",
            "Epoch 17/100\n",
            "376/376 [==============================] - 1s 2ms/step - loss: 462855.5000 - coeff_determination: -2.4523 - mean_absolute_error: 462855.5000 - val_loss: 468325.4062 - val_coeff_determination: -2.1420 - val_mean_absolute_error: 468325.4062\n",
            "Epoch 18/100\n",
            "376/376 [==============================] - 1s 2ms/step - loss: 455368.3750 - coeff_determination: -2.3718 - mean_absolute_error: 455368.3750 - val_loss: 460534.9062 - val_coeff_determination: -2.0663 - val_mean_absolute_error: 460534.9062\n",
            "Epoch 19/100\n",
            "376/376 [==============================] - 1s 2ms/step - loss: 447238.8750 - coeff_determination: -2.2669 - mean_absolute_error: 447238.8750 - val_loss: 452122.5938 - val_coeff_determination: -1.9861 - val_mean_absolute_error: 452122.5938\n",
            "Epoch 20/100\n",
            "376/376 [==============================] - 1s 2ms/step - loss: 438459.2500 - coeff_determination: -2.1723 - mean_absolute_error: 438459.2500 - val_loss: 443075.0625 - val_coeff_determination: -1.9016 - val_mean_absolute_error: 443075.0625\n",
            "Epoch 21/100\n",
            "376/376 [==============================] - 1s 2ms/step - loss: 429019.1562 - coeff_determination: -2.0951 - mean_absolute_error: 429019.1562 - val_loss: 433386.8125 - val_coeff_determination: -1.8130 - val_mean_absolute_error: 433386.8125\n",
            "Epoch 22/100\n",
            "376/376 [==============================] - 1s 2ms/step - loss: 418922.0000 - coeff_determination: -1.9569 - mean_absolute_error: 418922.0000 - val_loss: 423059.3125 - val_coeff_determination: -1.7208 - val_mean_absolute_error: 423059.3125\n",
            "Epoch 23/100\n",
            "376/376 [==============================] - 1s 2ms/step - loss: 408194.2188 - coeff_determination: -1.9205 - mean_absolute_error: 408194.2188 - val_loss: 412073.5938 - val_coeff_determination: -1.6254 - val_mean_absolute_error: 412073.5938\n",
            "Epoch 24/100\n",
            "376/376 [==============================] - 1s 2ms/step - loss: 396857.6562 - coeff_determination: -1.7140 - mean_absolute_error: 396857.6562 - val_loss: 400521.5938 - val_coeff_determination: -1.5274 - val_mean_absolute_error: 400521.5938\n",
            "Epoch 25/100\n",
            "376/376 [==============================] - 1s 2ms/step - loss: 384967.1250 - coeff_determination: -1.6883 - mean_absolute_error: 384967.1250 - val_loss: 388507.9688 - val_coeff_determination: -1.4274 - val_mean_absolute_error: 388507.9688\n",
            "Epoch 26/100\n",
            "376/376 [==============================] - 1s 2ms/step - loss: 372722.6875 - coeff_determination: -1.5839 - mean_absolute_error: 372722.6875 - val_loss: 376291.3125 - val_coeff_determination: -1.3266 - val_mean_absolute_error: 376291.3125\n",
            "Epoch 27/100\n",
            "376/376 [==============================] - 1s 2ms/step - loss: 360226.4375 - coeff_determination: -1.4555 - mean_absolute_error: 360226.4375 - val_loss: 363804.9688 - val_coeff_determination: -1.2250 - val_mean_absolute_error: 363804.9688\n",
            "Epoch 28/100\n",
            "376/376 [==============================] - 1s 2ms/step - loss: 347548.9062 - coeff_determination: -1.3070 - mean_absolute_error: 347548.9062 - val_loss: 351220.8125 - val_coeff_determination: -1.1237 - val_mean_absolute_error: 351220.8125\n",
            "Epoch 29/100\n",
            "376/376 [==============================] - 1s 2ms/step - loss: 334861.6250 - coeff_determination: -1.1866 - mean_absolute_error: 334861.6250 - val_loss: 338715.8125 - val_coeff_determination: -1.0232 - val_mean_absolute_error: 338715.8125\n",
            "Epoch 30/100\n",
            "376/376 [==============================] - 1s 2ms/step - loss: 322256.7500 - coeff_determination: -1.1080 - mean_absolute_error: 322256.7500 - val_loss: 326357.6250 - val_coeff_determination: -0.9239 - val_mean_absolute_error: 326357.6250\n",
            "Epoch 31/100\n",
            "376/376 [==============================] - 1s 2ms/step - loss: 309803.2812 - coeff_determination: -1.0034 - mean_absolute_error: 309803.2812 - val_loss: 314118.4062 - val_coeff_determination: -0.8260 - val_mean_absolute_error: 314118.4062\n",
            "Epoch 32/100\n",
            "376/376 [==============================] - 1s 2ms/step - loss: 297450.6250 - coeff_determination: -0.8778 - mean_absolute_error: 297450.6250 - val_loss: 302109.8125 - val_coeff_determination: -0.7307 - val_mean_absolute_error: 302109.8125\n",
            "Epoch 33/100\n",
            "376/376 [==============================] - 1s 2ms/step - loss: 285378.7500 - coeff_determination: -0.7738 - mean_absolute_error: 285378.7500 - val_loss: 290349.6875 - val_coeff_determination: -0.6378 - val_mean_absolute_error: 290349.6875\n",
            "Epoch 34/100\n",
            "376/376 [==============================] - 1s 2ms/step - loss: 273630.1562 - coeff_determination: -0.6738 - mean_absolute_error: 273630.1562 - val_loss: 279125.7500 - val_coeff_determination: -0.5485 - val_mean_absolute_error: 279125.7500\n",
            "Epoch 35/100\n",
            "376/376 [==============================] - 1s 2ms/step - loss: 262379.9062 - coeff_determination: -0.5942 - mean_absolute_error: 262379.9062 - val_loss: 268487.9062 - val_coeff_determination: -0.4631 - val_mean_absolute_error: 268487.9062\n",
            "Epoch 36/100\n",
            "376/376 [==============================] - 1s 2ms/step - loss: 251574.0000 - coeff_determination: -0.4897 - mean_absolute_error: 251574.0000 - val_loss: 258420.6406 - val_coeff_determination: -0.3819 - val_mean_absolute_error: 258420.6406\n",
            "Epoch 37/100\n",
            "376/376 [==============================] - 1s 2ms/step - loss: 241316.4219 - coeff_determination: -0.3859 - mean_absolute_error: 241316.4219 - val_loss: 248782.6406 - val_coeff_determination: -0.3051 - val_mean_absolute_error: 248782.6406\n",
            "Epoch 38/100\n",
            "376/376 [==============================] - 1s 2ms/step - loss: 231563.7500 - coeff_determination: -0.3146 - mean_absolute_error: 231563.7500 - val_loss: 239622.6094 - val_coeff_determination: -0.2327 - val_mean_absolute_error: 239622.6094\n",
            "Epoch 39/100\n",
            "376/376 [==============================] - 1s 2ms/step - loss: 222380.0312 - coeff_determination: -0.2322 - mean_absolute_error: 222380.0312 - val_loss: 230974.2500 - val_coeff_determination: -0.1654 - val_mean_absolute_error: 230974.2500\n",
            "Epoch 40/100\n",
            "376/376 [==============================] - 1s 2ms/step - loss: 213940.8594 - coeff_determination: -0.1592 - mean_absolute_error: 213940.8594 - val_loss: 222963.3438 - val_coeff_determination: -0.1037 - val_mean_absolute_error: 222963.3438\n",
            "Epoch 41/100\n",
            "376/376 [==============================] - 1s 2ms/step - loss: 206304.5938 - coeff_determination: -0.0894 - mean_absolute_error: 206304.5938 - val_loss: 215753.3281 - val_coeff_determination: -0.0474 - val_mean_absolute_error: 215753.3281\n",
            "Epoch 42/100\n",
            "376/376 [==============================] - 1s 2ms/step - loss: 199528.7500 - coeff_determination: -0.0328 - mean_absolute_error: 199528.7500 - val_loss: 209278.7031 - val_coeff_determination: 0.0038 - val_mean_absolute_error: 209278.7031\n",
            "Epoch 43/100\n",
            "376/376 [==============================] - 1s 2ms/step - loss: 193576.6250 - coeff_determination: 0.0101 - mean_absolute_error: 193576.6250 - val_loss: 203621.2500 - val_coeff_determination: 0.0492 - val_mean_absolute_error: 203621.2500\n",
            "Epoch 44/100\n",
            "376/376 [==============================] - 1s 2ms/step - loss: 188401.4688 - coeff_determination: 0.0556 - mean_absolute_error: 188401.4688 - val_loss: 198565.3438 - val_coeff_determination: 0.0896 - val_mean_absolute_error: 198565.3438\n",
            "Epoch 45/100\n",
            "376/376 [==============================] - 1s 2ms/step - loss: 183889.1094 - coeff_determination: 0.1012 - mean_absolute_error: 183889.1094 - val_loss: 194066.2500 - val_coeff_determination: 0.1256 - val_mean_absolute_error: 194066.2500\n",
            "Epoch 46/100\n",
            "376/376 [==============================] - 1s 2ms/step - loss: 179848.0312 - coeff_determination: 0.1329 - mean_absolute_error: 179848.0312 - val_loss: 190051.2500 - val_coeff_determination: 0.1582 - val_mean_absolute_error: 190051.2500\n",
            "Epoch 47/100\n",
            "376/376 [==============================] - 1s 2ms/step - loss: 176221.0469 - coeff_determination: 0.1601 - mean_absolute_error: 176221.0469 - val_loss: 186428.7031 - val_coeff_determination: 0.1880 - val_mean_absolute_error: 186428.7031\n",
            "Epoch 48/100\n",
            "376/376 [==============================] - 1s 2ms/step - loss: 172924.3125 - coeff_determination: 0.1956 - mean_absolute_error: 172924.3125 - val_loss: 183155.6875 - val_coeff_determination: 0.2148 - val_mean_absolute_error: 183155.6875\n",
            "Epoch 49/100\n",
            "376/376 [==============================] - 1s 2ms/step - loss: 169999.7656 - coeff_determination: 0.2116 - mean_absolute_error: 169999.7656 - val_loss: 180234.1250 - val_coeff_determination: 0.2385 - val_mean_absolute_error: 180234.1250\n",
            "Epoch 50/100\n",
            "376/376 [==============================] - 1s 2ms/step - loss: 167396.4531 - coeff_determination: 0.2402 - mean_absolute_error: 167396.4531 - val_loss: 177564.3125 - val_coeff_determination: 0.2597 - val_mean_absolute_error: 177564.3125\n",
            "Epoch 51/100\n",
            "376/376 [==============================] - 1s 2ms/step - loss: 165032.0469 - coeff_determination: 0.2645 - mean_absolute_error: 165032.0469 - val_loss: 175111.3438 - val_coeff_determination: 0.2790 - val_mean_absolute_error: 175111.3438\n",
            "Epoch 52/100\n",
            "376/376 [==============================] - 1s 2ms/step - loss: 162864.7812 - coeff_determination: 0.2802 - mean_absolute_error: 162864.7812 - val_loss: 172810.6094 - val_coeff_determination: 0.2968 - val_mean_absolute_error: 172810.6094\n",
            "Epoch 53/100\n",
            "376/376 [==============================] - 1s 2ms/step - loss: 160871.5781 - coeff_determination: 0.3025 - mean_absolute_error: 160871.5781 - val_loss: 170661.8594 - val_coeff_determination: 0.3132 - val_mean_absolute_error: 170661.8594\n",
            "Epoch 54/100\n",
            "376/376 [==============================] - 1s 2ms/step - loss: 158985.7031 - coeff_determination: 0.3195 - mean_absolute_error: 158985.7031 - val_loss: 168657.5156 - val_coeff_determination: 0.3288 - val_mean_absolute_error: 168657.5156\n",
            "Epoch 55/100\n",
            "376/376 [==============================] - 1s 2ms/step - loss: 157192.9688 - coeff_determination: 0.3257 - mean_absolute_error: 157192.9688 - val_loss: 166772.9531 - val_coeff_determination: 0.3433 - val_mean_absolute_error: 166772.9531\n",
            "Epoch 56/100\n",
            "376/376 [==============================] - 1s 2ms/step - loss: 155500.4375 - coeff_determination: 0.3409 - mean_absolute_error: 155500.4375 - val_loss: 164996.7344 - val_coeff_determination: 0.3571 - val_mean_absolute_error: 164996.7344\n",
            "Epoch 57/100\n",
            "376/376 [==============================] - 1s 2ms/step - loss: 153885.5156 - coeff_determination: 0.3532 - mean_absolute_error: 153885.5156 - val_loss: 163311.2344 - val_coeff_determination: 0.3698 - val_mean_absolute_error: 163311.2344\n",
            "Epoch 58/100\n",
            "376/376 [==============================] - 1s 2ms/step - loss: 152349.8750 - coeff_determination: 0.3726 - mean_absolute_error: 152349.8750 - val_loss: 161673.7969 - val_coeff_determination: 0.3820 - val_mean_absolute_error: 161673.7969\n",
            "Epoch 59/100\n",
            "376/376 [==============================] - 1s 2ms/step - loss: 150893.9531 - coeff_determination: 0.3792 - mean_absolute_error: 150893.9531 - val_loss: 160118.2344 - val_coeff_determination: 0.3931 - val_mean_absolute_error: 160118.2344\n",
            "Epoch 60/100\n",
            "376/376 [==============================] - 1s 2ms/step - loss: 149506.0156 - coeff_determination: 0.3902 - mean_absolute_error: 149506.0156 - val_loss: 158637.2188 - val_coeff_determination: 0.4038 - val_mean_absolute_error: 158637.2188\n",
            "Epoch 61/100\n",
            "376/376 [==============================] - 1s 2ms/step - loss: 148173.8438 - coeff_determination: 0.4044 - mean_absolute_error: 148173.8438 - val_loss: 157221.0938 - val_coeff_determination: 0.4142 - val_mean_absolute_error: 157221.0938\n",
            "Epoch 62/100\n",
            "376/376 [==============================] - 1s 2ms/step - loss: 146930.7031 - coeff_determination: 0.4146 - mean_absolute_error: 146930.7031 - val_loss: 155902.4531 - val_coeff_determination: 0.4234 - val_mean_absolute_error: 155902.4531\n",
            "Epoch 63/100\n",
            "376/376 [==============================] - 1s 2ms/step - loss: 145750.4375 - coeff_determination: 0.4232 - mean_absolute_error: 145750.4375 - val_loss: 154621.2344 - val_coeff_determination: 0.4324 - val_mean_absolute_error: 154621.2344\n",
            "Epoch 64/100\n",
            "376/376 [==============================] - 1s 2ms/step - loss: 144620.3438 - coeff_determination: 0.4258 - mean_absolute_error: 144620.3438 - val_loss: 153399.9062 - val_coeff_determination: 0.4412 - val_mean_absolute_error: 153399.9062\n",
            "Epoch 65/100\n",
            "376/376 [==============================] - 1s 2ms/step - loss: 143547.3125 - coeff_determination: 0.4424 - mean_absolute_error: 143547.3125 - val_loss: 152255.5625 - val_coeff_determination: 0.4493 - val_mean_absolute_error: 152255.5625\n",
            "Epoch 66/100\n",
            "376/376 [==============================] - 1s 2ms/step - loss: 142536.5469 - coeff_determination: 0.4461 - mean_absolute_error: 142536.5469 - val_loss: 151160.1562 - val_coeff_determination: 0.4568 - val_mean_absolute_error: 151160.1562\n",
            "Epoch 67/100\n",
            "376/376 [==============================] - 1s 2ms/step - loss: 141563.1562 - coeff_determination: 0.4597 - mean_absolute_error: 141563.1562 - val_loss: 150105.9688 - val_coeff_determination: 0.4643 - val_mean_absolute_error: 150105.9688\n",
            "Epoch 68/100\n",
            "376/376 [==============================] - 1s 2ms/step - loss: 140640.4219 - coeff_determination: 0.4596 - mean_absolute_error: 140640.4219 - val_loss: 149099.7812 - val_coeff_determination: 0.4714 - val_mean_absolute_error: 149099.7812\n",
            "Epoch 69/100\n",
            "376/376 [==============================] - 1s 2ms/step - loss: 139758.4531 - coeff_determination: 0.4695 - mean_absolute_error: 139758.4531 - val_loss: 148146.5156 - val_coeff_determination: 0.4778 - val_mean_absolute_error: 148146.5156\n",
            "Epoch 70/100\n",
            "376/376 [==============================] - 1s 2ms/step - loss: 138942.7188 - coeff_determination: 0.4728 - mean_absolute_error: 138942.7188 - val_loss: 147262.9375 - val_coeff_determination: 0.4839 - val_mean_absolute_error: 147262.9375\n",
            "Epoch 71/100\n",
            "376/376 [==============================] - 1s 2ms/step - loss: 138167.1719 - coeff_determination: 0.4722 - mean_absolute_error: 138167.1719 - val_loss: 146402.3750 - val_coeff_determination: 0.4899 - val_mean_absolute_error: 146402.3750\n",
            "Epoch 72/100\n",
            "376/376 [==============================] - 1s 2ms/step - loss: 137416.7812 - coeff_determination: 0.4901 - mean_absolute_error: 137416.7812 - val_loss: 145597.6562 - val_coeff_determination: 0.4954 - val_mean_absolute_error: 145597.6562\n",
            "Epoch 73/100\n",
            "376/376 [==============================] - 1s 2ms/step - loss: 136707.9375 - coeff_determination: 0.4987 - mean_absolute_error: 136707.9375 - val_loss: 144823.7344 - val_coeff_determination: 0.5008 - val_mean_absolute_error: 144823.7344\n",
            "Epoch 74/100\n",
            "376/376 [==============================] - 1s 2ms/step - loss: 136020.6094 - coeff_determination: 0.5036 - mean_absolute_error: 136020.6094 - val_loss: 144089.2656 - val_coeff_determination: 0.5059 - val_mean_absolute_error: 144089.2656\n",
            "Epoch 75/100\n",
            "376/376 [==============================] - 1s 2ms/step - loss: 135374.3906 - coeff_determination: 0.5123 - mean_absolute_error: 135374.3906 - val_loss: 143402.2344 - val_coeff_determination: 0.5106 - val_mean_absolute_error: 143402.2344\n",
            "Epoch 76/100\n",
            "376/376 [==============================] - 1s 2ms/step - loss: 134752.6719 - coeff_determination: 0.5040 - mean_absolute_error: 134752.6719 - val_loss: 142736.2656 - val_coeff_determination: 0.5154 - val_mean_absolute_error: 142736.2656\n",
            "Epoch 77/100\n",
            "376/376 [==============================] - 1s 2ms/step - loss: 134172.6719 - coeff_determination: 0.5162 - mean_absolute_error: 134172.6719 - val_loss: 142113.8438 - val_coeff_determination: 0.5197 - val_mean_absolute_error: 142113.8438\n",
            "Epoch 78/100\n",
            "376/376 [==============================] - 1s 2ms/step - loss: 133615.0156 - coeff_determination: 0.5198 - mean_absolute_error: 133615.0156 - val_loss: 141519.8281 - val_coeff_determination: 0.5236 - val_mean_absolute_error: 141519.8281\n",
            "Epoch 79/100\n",
            "376/376 [==============================] - 1s 2ms/step - loss: 133090.9688 - coeff_determination: 0.5188 - mean_absolute_error: 133090.9688 - val_loss: 140947.1562 - val_coeff_determination: 0.5275 - val_mean_absolute_error: 140947.1562\n",
            "Epoch 80/100\n",
            "376/376 [==============================] - 1s 2ms/step - loss: 132589.0781 - coeff_determination: 0.5273 - mean_absolute_error: 132589.0781 - val_loss: 140416.8906 - val_coeff_determination: 0.5309 - val_mean_absolute_error: 140416.8906\n",
            "Epoch 81/100\n",
            "376/376 [==============================] - 1s 2ms/step - loss: 132120.0312 - coeff_determination: 0.5268 - mean_absolute_error: 132120.0312 - val_loss: 139909.0469 - val_coeff_determination: 0.5343 - val_mean_absolute_error: 139909.0469\n",
            "Epoch 82/100\n",
            "376/376 [==============================] - 1s 2ms/step - loss: 131675.4688 - coeff_determination: 0.5367 - mean_absolute_error: 131675.4688 - val_loss: 139421.6406 - val_coeff_determination: 0.5376 - val_mean_absolute_error: 139421.6406\n",
            "Epoch 83/100\n",
            "376/376 [==============================] - 1s 2ms/step - loss: 131247.8438 - coeff_determination: 0.5330 - mean_absolute_error: 131247.8438 - val_loss: 138963.4531 - val_coeff_determination: 0.5405 - val_mean_absolute_error: 138963.4531\n",
            "Epoch 84/100\n",
            "376/376 [==============================] - 1s 2ms/step - loss: 130843.4453 - coeff_determination: 0.5274 - mean_absolute_error: 130843.4453 - val_loss: 138520.9219 - val_coeff_determination: 0.5433 - val_mean_absolute_error: 138520.9219\n",
            "Epoch 85/100\n",
            "376/376 [==============================] - 1s 2ms/step - loss: 130463.3047 - coeff_determination: 0.5499 - mean_absolute_error: 130463.3047 - val_loss: 138116.2656 - val_coeff_determination: 0.5461 - val_mean_absolute_error: 138116.2656\n",
            "Epoch 86/100\n",
            "376/376 [==============================] - 1s 2ms/step - loss: 130099.4844 - coeff_determination: 0.5345 - mean_absolute_error: 130099.4844 - val_loss: 137727.0781 - val_coeff_determination: 0.5487 - val_mean_absolute_error: 137727.0781\n",
            "Epoch 87/100\n",
            "376/376 [==============================] - 1s 2ms/step - loss: 129752.2656 - coeff_determination: 0.5459 - mean_absolute_error: 129752.2656 - val_loss: 137357.6250 - val_coeff_determination: 0.5511 - val_mean_absolute_error: 137357.6250\n",
            "Epoch 88/100\n",
            "376/376 [==============================] - 1s 2ms/step - loss: 129414.8516 - coeff_determination: 0.5565 - mean_absolute_error: 129414.8516 - val_loss: 137005.0000 - val_coeff_determination: 0.5534 - val_mean_absolute_error: 137005.0000\n",
            "Epoch 89/100\n",
            "376/376 [==============================] - 1s 2ms/step - loss: 129097.2344 - coeff_determination: 0.5511 - mean_absolute_error: 129097.2344 - val_loss: 136656.2969 - val_coeff_determination: 0.5556 - val_mean_absolute_error: 136656.2969\n",
            "Epoch 90/100\n",
            "376/376 [==============================] - 1s 2ms/step - loss: 128786.2500 - coeff_determination: 0.5557 - mean_absolute_error: 128786.2500 - val_loss: 136330.7812 - val_coeff_determination: 0.5578 - val_mean_absolute_error: 136330.7812\n",
            "Epoch 91/100\n",
            "376/376 [==============================] - 1s 2ms/step - loss: 128487.8047 - coeff_determination: 0.5537 - mean_absolute_error: 128487.8047 - val_loss: 135997.9375 - val_coeff_determination: 0.5601 - val_mean_absolute_error: 135997.9375\n",
            "Epoch 92/100\n",
            "376/376 [==============================] - 1s 2ms/step - loss: 128192.4766 - coeff_determination: 0.5647 - mean_absolute_error: 128192.4766 - val_loss: 135693.7188 - val_coeff_determination: 0.5621 - val_mean_absolute_error: 135693.7188\n",
            "Epoch 93/100\n",
            "376/376 [==============================] - 1s 2ms/step - loss: 127915.3594 - coeff_determination: 0.5531 - mean_absolute_error: 127915.3594 - val_loss: 135397.9219 - val_coeff_determination: 0.5639 - val_mean_absolute_error: 135397.9219\n",
            "Epoch 94/100\n",
            "376/376 [==============================] - 1s 2ms/step - loss: 127646.7500 - coeff_determination: 0.5626 - mean_absolute_error: 127646.7500 - val_loss: 135106.3750 - val_coeff_determination: 0.5657 - val_mean_absolute_error: 135106.3750\n",
            "Epoch 95/100\n",
            "376/376 [==============================] - 1s 2ms/step - loss: 127389.0234 - coeff_determination: 0.5744 - mean_absolute_error: 127389.0234 - val_loss: 134823.0000 - val_coeff_determination: 0.5676 - val_mean_absolute_error: 134823.0000\n",
            "Epoch 96/100\n",
            "376/376 [==============================] - 1s 2ms/step - loss: 127141.4297 - coeff_determination: 0.5681 - mean_absolute_error: 127141.4297 - val_loss: 134556.9844 - val_coeff_determination: 0.5693 - val_mean_absolute_error: 134556.9844\n",
            "Epoch 97/100\n",
            "376/376 [==============================] - 1s 2ms/step - loss: 126905.7031 - coeff_determination: 0.5671 - mean_absolute_error: 126905.7031 - val_loss: 134305.7656 - val_coeff_determination: 0.5707 - val_mean_absolute_error: 134305.7656\n",
            "Epoch 98/100\n",
            "376/376 [==============================] - 1s 2ms/step - loss: 126678.8672 - coeff_determination: 0.5629 - mean_absolute_error: 126678.8672 - val_loss: 134069.8594 - val_coeff_determination: 0.5720 - val_mean_absolute_error: 134069.8594\n",
            "Epoch 99/100\n",
            "376/376 [==============================] - 1s 2ms/step - loss: 126464.7266 - coeff_determination: 0.5657 - mean_absolute_error: 126464.7266 - val_loss: 133832.2031 - val_coeff_determination: 0.5734 - val_mean_absolute_error: 133832.2031\n",
            "Epoch 100/100\n",
            "376/376 [==============================] - 1s 2ms/step - loss: 126261.6484 - coeff_determination: 0.5746 - mean_absolute_error: 126261.6484 - val_loss: 133598.7656 - val_coeff_determination: 0.5748 - val_mean_absolute_error: 133598.7656\n"
          ],
          "name": "stdout"
        }
      ]
    },
    {
      "cell_type": "markdown",
      "metadata": {
        "id": "aZb0KuyAjMXi"
      },
      "source": [
        "#### 4d. Visualize model performance"
      ]
    },
    {
      "cell_type": "code",
      "metadata": {
        "id": "-SkXaNduxnvc"
      },
      "source": [
        "\n",
        "SMALL_SIZE = 16\n",
        "MEDIUM_SIZE = 20\n",
        "BIGGER_SIZE = 28\n",
        "\n",
        "plt.rc('font', size=SMALL_SIZE)          # controls default text sizes\n",
        "plt.rc('axes', titlesize=SMALL_SIZE)     # fontsize of the axes title\n",
        "plt.rc('axes', labelsize=MEDIUM_SIZE)    # fontsize of the x and y labels\n",
        "plt.rc('xtick', labelsize=SMALL_SIZE)    # fontsize of the tick labels\n",
        "plt.rc('ytick', labelsize=SMALL_SIZE)    # fontsize of the tick labels\n",
        "plt.rc('legend', fontsize=SMALL_SIZE)    # legend fontsize\n",
        "plt.rc('figure', titlesize=BIGGER_SIZE)  # fontsize of the figure title"
      ],
      "execution_count": 94,
      "outputs": []
    },
    {
      "cell_type": "code",
      "metadata": {
        "colab": {
          "base_uri": "https://localhost:8080/",
          "height": 372
        },
        "id": "f68DQrqwxp8f",
        "outputId": "2b41208d-0878-4e88-daf9-8f9b1de466f6"
      },
      "source": [
        "# create figure\n",
        "fig= plt.figure(figsize=(14,5))\n",
        "#plt.suptitle('Artifical Neural Network on Home Features')\n",
        "titlesize=26\n",
        "fontsize=18\n",
        "# loss plot on left\n",
        "plt.subplot(1,2, 1)\n",
        "plt.plot(history.history['loss'])\n",
        "plt.plot(history.history['val_loss'])\n",
        "         \n",
        "plt.title('Model Loss', fontsize=titlesize)\n",
        "plt.ylabel('Mean absolute error in price', fontsize=fontsize)\n",
        "plt.xlabel('Epoch', fontsize=fontsize)\n",
        "plt.legend(['Train', 'Test'], loc='upper right')\n",
        "\n",
        "# coeff plot on right\n",
        "plt.subplot(1,2, 2)\n",
        "plt.plot(history.history['coeff_determination'])\n",
        "plt.plot(history.history['val_coeff_determination'])\n",
        "\n",
        "plt.title('Coefficient of Determination', fontsize= titlesize)\n",
        "plt.ylabel('R-Squared',  fontsize=fontsize)\n",
        "plt.xlabel('Epoch', fontsize=fontsize)\n",
        "plt.legend(['Train', 'Test'], loc='upper right')\n",
        "\n",
        "plt.show()"
      ],
      "execution_count": 98,
      "outputs": [
        {
          "output_type": "display_data",
          "data": {
            "image/png": "[encoded data removed]",
            "text/plain": [
              "<Figure size 1008x360 with 2 Axes>"
            ]
          },
          "metadata": {
            "needs_background": "light"
          }
        }
      ]
    }
  ]
}
